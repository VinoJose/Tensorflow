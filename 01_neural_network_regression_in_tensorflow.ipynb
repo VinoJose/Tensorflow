{
  "nbformat": 4,
  "nbformat_minor": 0,
  "metadata": {
    "colab": {
      "name": "01_neural_network_regression_in_tensorflow.ipynb",
      "provenance": [],
      "collapsed_sections": [],
      "include_colab_link": true
    },
    "kernelspec": {
      "name": "python3",
      "display_name": "Python 3"
    }
  },
  "cells": [
    {
      "cell_type": "markdown",
      "metadata": {
        "id": "view-in-github",
        "colab_type": "text"
      },
      "source": [
        "<a href=\"https://colab.research.google.com/github/VinoJose/Tensorflow/blob/main/01_neural_network_regression_in_tensorflow.ipynb\" target=\"_parent\"><img src=\"https://colab.research.google.com/assets/colab-badge.svg\" alt=\"Open In Colab\"/></a>"
      ]
    },
    {
      "cell_type": "markdown",
      "metadata": {
        "id": "mqgLQNYRKkYO"
      },
      "source": [
        "### Import tensorflow and other libraries"
      ]
    },
    {
      "cell_type": "code",
      "metadata": {
        "colab": {
          "base_uri": "https://localhost:8080/"
        },
        "id": "xZnM2UZ_KpJq",
        "outputId": "f8c2a076-ae18-4b99-a548-8f009464c416"
      },
      "source": [
        "import tensorflow as tf\n",
        "print(tf.__version__)"
      ],
      "execution_count": null,
      "outputs": [
        {
          "output_type": "stream",
          "name": "stdout",
          "text": [
            "2.6.0\n"
          ]
        }
      ]
    },
    {
      "cell_type": "code",
      "metadata": {
        "id": "YxIzpYqGKuA_"
      },
      "source": [
        "import numpy as np\n",
        "import matplotlib.pyplot as plt"
      ],
      "execution_count": null,
      "outputs": []
    },
    {
      "cell_type": "markdown",
      "metadata": {
        "id": "UuUz_44LLljV"
      },
      "source": [
        "### Create features and labels"
      ]
    },
    {
      "cell_type": "code",
      "metadata": {
        "colab": {
          "base_uri": "https://localhost:8080/",
          "height": 286
        },
        "id": "jd_kB7u2LtjP",
        "outputId": "754dca93-914b-45ad-f1df-ad6f1fd389cc"
      },
      "source": [
        "# features\n",
        "X = np.array([-7.,-4.,-1.,2.,5.,8.,11.,14.])\n",
        "\n",
        "# labels\n",
        "y = np.array([3.,6.,9.,12.,15.,18.,21.,24.])\n",
        "\n",
        "# Visualize it\n",
        "plt.scatter(X,y)"
      ],
      "execution_count": null,
      "outputs": [
        {
          "output_type": "execute_result",
          "data": {
            "text/plain": [
              "<matplotlib.collections.PathCollection at 0x7f4f730a8250>"
            ]
          },
          "metadata": {},
          "execution_count": 3
        },
        {
          "output_type": "display_data",
          "data": {
            "image/png": "[encoded data removed]",
            "text/plain": [
              "<Figure size 432x288 with 1 Axes>"
            ]
          },
          "metadata": {
            "needs_background": "light"
          }
        }
      ]
    },
    {
      "cell_type": "code",
      "metadata": {
        "colab": {
          "base_uri": "https://localhost:8080/"
        },
        "id": "lpdHRbOuL5FH",
        "outputId": "99a42b9d-24d5-4482-ccdb-0315275eac50"
      },
      "source": [
        "y == X+10"
      ],
      "execution_count": null,
      "outputs": [
        {
          "output_type": "execute_result",
          "data": {
            "text/plain": [
              "array([ True,  True,  True,  True,  True,  True,  True,  True])"
            ]
          },
          "metadata": {},
          "execution_count": 4
        }
      ]
    },
    {
      "cell_type": "markdown",
      "metadata": {
        "id": "touU_VzcL6X6"
      },
      "source": [
        "### Input and output shapes"
      ]
    },
    {
      "cell_type": "code",
      "metadata": {
        "colab": {
          "base_uri": "https://localhost:8080/"
        },
        "id": "jB5KQW3qM9C0",
        "outputId": "9c01161a-8cac-40ba-df42-de9438a3b816"
      },
      "source": [
        "# Create a demo tensor for our housing price predicton problem\n",
        "house_info = tf.constant(['bedroom', 'bathroom', 'garage'])\n",
        "house_price = tf.constant([939700])\n",
        "house_info, house_price"
      ],
      "execution_count": null,
      "outputs": [
        {
          "output_type": "execute_result",
          "data": {
            "text/plain": [
              "(<tf.Tensor: shape=(3,), dtype=string, numpy=array([b'bedroom', b'bathroom', b'garage'], dtype=object)>,\n",
              " <tf.Tensor: shape=(1,), dtype=int32, numpy=array([939700], dtype=int32)>)"
            ]
          },
          "metadata": {},
          "execution_count": 5
        }
      ]
    },
    {
      "cell_type": "code",
      "metadata": {
        "colab": {
          "base_uri": "https://localhost:8080/"
        },
        "id": "vHbmmHgVagF5",
        "outputId": "3e39e417-7b0c-4738-baac-abbb1cd404d5"
      },
      "source": [
        "# Turn our numpy arrays to tensors\n",
        "X = tf.constant(X)\n",
        "y = tf.constant(y)\n",
        "X,y"
      ],
      "execution_count": null,
      "outputs": [
        {
          "output_type": "execute_result",
          "data": {
            "text/plain": [
              "(<tf.Tensor: shape=(8,), dtype=float64, numpy=array([-7., -4., -1.,  2.,  5.,  8., 11., 14.])>,\n",
              " <tf.Tensor: shape=(8,), dtype=float64, numpy=array([ 3.,  6.,  9., 12., 15., 18., 21., 24.])>)"
            ]
          },
          "metadata": {},
          "execution_count": 6
        }
      ]
    },
    {
      "cell_type": "markdown",
      "metadata": {
        "id": "Kv4Ujt8TbXur"
      },
      "source": [
        "### Steps in modelling with TensorFlow"
      ]
    },
    {
      "cell_type": "markdown",
      "metadata": {
        "id": "bskRPfgSLqbJ"
      },
      "source": [
        "1. Create a model\n",
        "2. Compiling a model\n",
        "3. Fitting a model"
      ]
    },
    {
      "cell_type": "code",
      "metadata": {
        "colab": {
          "base_uri": "https://localhost:8080/"
        },
        "id": "pBRR4fSHL1QI",
        "outputId": "48e19562-5557-4c87-c0a3-07d3f300c630"
      },
      "source": [
        "# Set random seed\n",
        "tf.random.set_seed(42)\n",
        "\n",
        "# Create a model using Sequencial model\n",
        "model = tf.keras.Sequential([\n",
        "                            tf.keras.layers.Dense(1)                            \n",
        "])\n",
        "\n",
        "# Complile the model\n",
        "model.compile(loss=tf.keras.losses.MAE,\n",
        "              optimizer=tf.keras.optimizers.SGD(),\n",
        "              metrics=['mae'])\n",
        "\n",
        "# Fit the model\n",
        "model.fit(X, y, epochs=5)"
      ],
      "execution_count": null,
      "outputs": [
        {
          "output_type": "stream",
          "name": "stdout",
          "text": [
            "Epoch 1/5\n",
            "1/1 [==============================] - 1s 663ms/step - loss: 11.5048 - mae: 11.5048\n",
            "Epoch 2/5\n",
            "1/1 [==============================] - 0s 12ms/step - loss: 11.3723 - mae: 11.3723\n",
            "Epoch 3/5\n",
            "1/1 [==============================] - 0s 9ms/step - loss: 11.2398 - mae: 11.2398\n",
            "Epoch 4/5\n",
            "1/1 [==============================] - 0s 7ms/step - loss: 11.1073 - mae: 11.1073\n",
            "Epoch 5/5\n",
            "1/1 [==============================] - 0s 6ms/step - loss: 10.9748 - mae: 10.9748\n"
          ]
        },
        {
          "output_type": "execute_result",
          "data": {
            "text/plain": [
              "<keras.callbacks.History at 0x7f4f6e9ce850>"
            ]
          },
          "metadata": {},
          "execution_count": 7
        }
      ]
    },
    {
      "cell_type": "code",
      "metadata": {
        "colab": {
          "base_uri": "https://localhost:8080/"
        },
        "id": "Z_UmGDKGOVjM",
        "outputId": "8409c568-9d1d-4a03-f011-a7d4464b67cf"
      },
      "source": [
        "  y_pred = model.predict([17.0])\n",
        "  y_pred"
      ],
      "execution_count": null,
      "outputs": [
        {
          "output_type": "execute_result",
          "data": {
            "text/plain": [
              "array([[12.716021]], dtype=float32)"
            ]
          },
          "metadata": {},
          "execution_count": 8
        }
      ]
    },
    {
      "cell_type": "markdown",
      "metadata": {
        "id": "9RBx1Q1AO5S2"
      },
      "source": [
        "Let's improve the model"
      ]
    },
    {
      "cell_type": "code",
      "metadata": {
        "colab": {
          "base_uri": "https://localhost:8080/"
        },
        "id": "gM6FKRJXSIFR",
        "outputId": "626c86ca-593a-4785-afd5-6a1c9d252982"
      },
      "source": [
        "# Let's rebuild the model\n",
        "model = tf.keras.Sequential([\n",
        "                             tf.keras.layers.Dense(1)\n",
        "])\n",
        "\n",
        "model.compile(loss=tf.keras.losses.MAE,\n",
        "              optimizer=tf.keras.optimizers.SGD(),\n",
        "              metrics=['mae'])\n",
        "model.fit(X,y,epochs=100)"
      ],
      "execution_count": null,
      "outputs": [
        {
          "output_type": "stream",
          "name": "stdout",
          "text": [
            "Epoch 1/100\n",
            "1/1 [==============================] - 0s 254ms/step - loss: 11.2219 - mae: 11.2219\n",
            "Epoch 2/100\n",
            "1/1 [==============================] - 0s 8ms/step - loss: 11.0894 - mae: 11.0894\n",
            "Epoch 3/100\n",
            "1/1 [==============================] - 0s 4ms/step - loss: 10.9569 - mae: 10.9569\n",
            "Epoch 4/100\n",
            "1/1 [==============================] - 0s 4ms/step - loss: 10.8244 - mae: 10.8244\n",
            "Epoch 5/100\n",
            "1/1 [==============================] - 0s 4ms/step - loss: 10.6919 - mae: 10.6919\n",
            "Epoch 6/100\n",
            "1/1 [==============================] - 0s 7ms/step - loss: 10.5594 - mae: 10.5594\n",
            "Epoch 7/100\n",
            "1/1 [==============================] - 0s 6ms/step - loss: 10.4269 - mae: 10.4269\n",
            "Epoch 8/100\n",
            "1/1 [==============================] - 0s 7ms/step - loss: 10.2944 - mae: 10.2944\n",
            "Epoch 9/100\n",
            "1/1 [==============================] - 0s 9ms/step - loss: 10.1619 - mae: 10.1619\n",
            "Epoch 10/100\n",
            "1/1 [==============================] - 0s 3ms/step - loss: 10.0294 - mae: 10.0294\n",
            "Epoch 11/100\n",
            "1/1 [==============================] - 0s 6ms/step - loss: 9.8969 - mae: 9.8969\n",
            "Epoch 12/100\n",
            "1/1 [==============================] - 0s 8ms/step - loss: 9.7644 - mae: 9.7644\n",
            "Epoch 13/100\n",
            "1/1 [==============================] - 0s 5ms/step - loss: 9.6319 - mae: 9.6319\n",
            "Epoch 14/100\n",
            "1/1 [==============================] - 0s 5ms/step - loss: 9.4994 - mae: 9.4994\n",
            "Epoch 15/100\n",
            "1/1 [==============================] - 0s 8ms/step - loss: 9.3669 - mae: 9.3669\n",
            "Epoch 16/100\n",
            "1/1 [==============================] - 0s 9ms/step - loss: 9.2344 - mae: 9.2344\n",
            "Epoch 17/100\n",
            "1/1 [==============================] - 0s 8ms/step - loss: 9.1019 - mae: 9.1019\n",
            "Epoch 18/100\n",
            "1/1 [==============================] - 0s 4ms/step - loss: 8.9694 - mae: 8.9694\n",
            "Epoch 19/100\n",
            "1/1 [==============================] - 0s 4ms/step - loss: 8.8369 - mae: 8.8369\n",
            "Epoch 20/100\n",
            "1/1 [==============================] - 0s 4ms/step - loss: 8.7044 - mae: 8.7044\n",
            "Epoch 21/100\n",
            "1/1 [==============================] - 0s 4ms/step - loss: 8.5719 - mae: 8.5719\n",
            "Epoch 22/100\n",
            "1/1 [==============================] - 0s 4ms/step - loss: 8.4394 - mae: 8.4394\n",
            "Epoch 23/100\n",
            "1/1 [==============================] - 0s 5ms/step - loss: 8.3069 - mae: 8.3069\n",
            "Epoch 24/100\n",
            "1/1 [==============================] - 0s 4ms/step - loss: 8.1744 - mae: 8.1744\n",
            "Epoch 25/100\n",
            "1/1 [==============================] - 0s 5ms/step - loss: 8.0419 - mae: 8.0419\n",
            "Epoch 26/100\n",
            "1/1 [==============================] - 0s 5ms/step - loss: 7.9094 - mae: 7.9094\n",
            "Epoch 27/100\n",
            "1/1 [==============================] - 0s 4ms/step - loss: 7.7769 - mae: 7.7769\n",
            "Epoch 28/100\n",
            "1/1 [==============================] - 0s 4ms/step - loss: 7.6444 - mae: 7.6444\n",
            "Epoch 29/100\n",
            "1/1 [==============================] - 0s 4ms/step - loss: 7.5119 - mae: 7.5119\n",
            "Epoch 30/100\n",
            "1/1 [==============================] - 0s 5ms/step - loss: 7.3794 - mae: 7.3794\n",
            "Epoch 31/100\n",
            "1/1 [==============================] - 0s 5ms/step - loss: 7.2750 - mae: 7.2750\n",
            "Epoch 32/100\n",
            "1/1 [==============================] - 0s 4ms/step - loss: 7.2694 - mae: 7.2694\n",
            "Epoch 33/100\n",
            "1/1 [==============================] - 0s 4ms/step - loss: 7.2638 - mae: 7.2638\n",
            "Epoch 34/100\n",
            "1/1 [==============================] - 0s 4ms/step - loss: 7.2581 - mae: 7.2581\n",
            "Epoch 35/100\n",
            "1/1 [==============================] - 0s 5ms/step - loss: 7.2525 - mae: 7.2525\n",
            "Epoch 36/100\n",
            "1/1 [==============================] - 0s 8ms/step - loss: 7.2469 - mae: 7.2469\n",
            "Epoch 37/100\n",
            "1/1 [==============================] - 0s 5ms/step - loss: 7.2412 - mae: 7.2412\n",
            "Epoch 38/100\n",
            "1/1 [==============================] - 0s 9ms/step - loss: 7.2356 - mae: 7.2356\n",
            "Epoch 39/100\n",
            "1/1 [==============================] - 0s 7ms/step - loss: 7.2300 - mae: 7.2300\n",
            "Epoch 40/100\n",
            "1/1 [==============================] - 0s 9ms/step - loss: 7.2244 - mae: 7.2244\n",
            "Epoch 41/100\n",
            "1/1 [==============================] - 0s 5ms/step - loss: 7.2188 - mae: 7.2188\n",
            "Epoch 42/100\n",
            "1/1 [==============================] - 0s 5ms/step - loss: 7.2131 - mae: 7.2131\n",
            "Epoch 43/100\n",
            "1/1 [==============================] - 0s 6ms/step - loss: 7.2075 - mae: 7.2075\n",
            "Epoch 44/100\n",
            "1/1 [==============================] - 0s 7ms/step - loss: 7.2019 - mae: 7.2019\n",
            "Epoch 45/100\n",
            "1/1 [==============================] - 0s 5ms/step - loss: 7.1962 - mae: 7.1962\n",
            "Epoch 46/100\n",
            "1/1 [==============================] - 0s 7ms/step - loss: 7.1906 - mae: 7.1906\n",
            "Epoch 47/100\n",
            "1/1 [==============================] - 0s 6ms/step - loss: 7.1850 - mae: 7.1850\n",
            "Epoch 48/100\n",
            "1/1 [==============================] - 0s 7ms/step - loss: 7.1794 - mae: 7.1794\n",
            "Epoch 49/100\n",
            "1/1 [==============================] - 0s 7ms/step - loss: 7.1737 - mae: 7.1737\n",
            "Epoch 50/100\n",
            "1/1 [==============================] - 0s 6ms/step - loss: 7.1681 - mae: 7.1681\n",
            "Epoch 51/100\n",
            "1/1 [==============================] - 0s 6ms/step - loss: 7.1625 - mae: 7.1625\n",
            "Epoch 52/100\n",
            "1/1 [==============================] - 0s 11ms/step - loss: 7.1569 - mae: 7.1569\n",
            "Epoch 53/100\n",
            "1/1 [==============================] - 0s 7ms/step - loss: 7.1512 - mae: 7.1512\n",
            "Epoch 54/100\n",
            "1/1 [==============================] - 0s 9ms/step - loss: 7.1456 - mae: 7.1456\n",
            "Epoch 55/100\n",
            "1/1 [==============================] - 0s 7ms/step - loss: 7.1400 - mae: 7.1400\n",
            "Epoch 56/100\n",
            "1/1 [==============================] - 0s 6ms/step - loss: 7.1344 - mae: 7.1344\n",
            "Epoch 57/100\n",
            "1/1 [==============================] - 0s 7ms/step - loss: 7.1287 - mae: 7.1287\n",
            "Epoch 58/100\n",
            "1/1 [==============================] - 0s 8ms/step - loss: 7.1231 - mae: 7.1231\n",
            "Epoch 59/100\n",
            "1/1 [==============================] - 0s 8ms/step - loss: 7.1175 - mae: 7.1175\n",
            "Epoch 60/100\n",
            "1/1 [==============================] - 0s 6ms/step - loss: 7.1119 - mae: 7.1119\n",
            "Epoch 61/100\n",
            "1/1 [==============================] - 0s 7ms/step - loss: 7.1062 - mae: 7.1062\n",
            "Epoch 62/100\n",
            "1/1 [==============================] - 0s 7ms/step - loss: 7.1006 - mae: 7.1006\n",
            "Epoch 63/100\n",
            "1/1 [==============================] - 0s 9ms/step - loss: 7.0950 - mae: 7.0950\n",
            "Epoch 64/100\n",
            "1/1 [==============================] - 0s 5ms/step - loss: 7.0894 - mae: 7.0894\n",
            "Epoch 65/100\n",
            "1/1 [==============================] - 0s 5ms/step - loss: 7.0838 - mae: 7.0838\n",
            "Epoch 66/100\n",
            "1/1 [==============================] - 0s 8ms/step - loss: 7.0781 - mae: 7.0781\n",
            "Epoch 67/100\n",
            "1/1 [==============================] - 0s 5ms/step - loss: 7.0725 - mae: 7.0725\n",
            "Epoch 68/100\n",
            "1/1 [==============================] - 0s 5ms/step - loss: 7.0669 - mae: 7.0669\n",
            "Epoch 69/100\n",
            "1/1 [==============================] - 0s 7ms/step - loss: 7.0613 - mae: 7.0613\n",
            "Epoch 70/100\n",
            "1/1 [==============================] - 0s 6ms/step - loss: 7.0556 - mae: 7.0556\n",
            "Epoch 71/100\n",
            "1/1 [==============================] - 0s 6ms/step - loss: 7.0500 - mae: 7.0500\n",
            "Epoch 72/100\n",
            "1/1 [==============================] - 0s 6ms/step - loss: 7.0444 - mae: 7.0444\n",
            "Epoch 73/100\n",
            "1/1 [==============================] - 0s 6ms/step - loss: 7.0388 - mae: 7.0388\n",
            "Epoch 74/100\n",
            "1/1 [==============================] - 0s 6ms/step - loss: 7.0331 - mae: 7.0331\n",
            "Epoch 75/100\n",
            "1/1 [==============================] - 0s 8ms/step - loss: 7.0275 - mae: 7.0275\n",
            "Epoch 76/100\n",
            "1/1 [==============================] - 0s 10ms/step - loss: 7.0219 - mae: 7.0219\n",
            "Epoch 77/100\n",
            "1/1 [==============================] - 0s 7ms/step - loss: 7.0163 - mae: 7.0163\n",
            "Epoch 78/100\n",
            "1/1 [==============================] - 0s 8ms/step - loss: 7.0106 - mae: 7.0106\n",
            "Epoch 79/100\n",
            "1/1 [==============================] - 0s 7ms/step - loss: 7.0050 - mae: 7.0050\n",
            "Epoch 80/100\n",
            "1/1 [==============================] - 0s 5ms/step - loss: 6.9994 - mae: 6.9994\n",
            "Epoch 81/100\n",
            "1/1 [==============================] - 0s 7ms/step - loss: 6.9938 - mae: 6.9938\n",
            "Epoch 82/100\n",
            "1/1 [==============================] - 0s 7ms/step - loss: 6.9881 - mae: 6.9881\n",
            "Epoch 83/100\n",
            "1/1 [==============================] - 0s 9ms/step - loss: 6.9825 - mae: 6.9825\n",
            "Epoch 84/100\n",
            "1/1 [==============================] - 0s 11ms/step - loss: 6.9769 - mae: 6.9769\n",
            "Epoch 85/100\n",
            "1/1 [==============================] - 0s 8ms/step - loss: 6.9713 - mae: 6.9713\n",
            "Epoch 86/100\n",
            "1/1 [==============================] - 0s 9ms/step - loss: 6.9656 - mae: 6.9656\n",
            "Epoch 87/100\n",
            "1/1 [==============================] - 0s 14ms/step - loss: 6.9600 - mae: 6.9600\n",
            "Epoch 88/100\n",
            "1/1 [==============================] - 0s 6ms/step - loss: 6.9544 - mae: 6.9544\n",
            "Epoch 89/100\n",
            "1/1 [==============================] - 0s 10ms/step - loss: 6.9488 - mae: 6.9488\n",
            "Epoch 90/100\n",
            "1/1 [==============================] - 0s 9ms/step - loss: 6.9431 - mae: 6.9431\n",
            "Epoch 91/100\n",
            "1/1 [==============================] - 0s 13ms/step - loss: 6.9375 - mae: 6.9375\n",
            "Epoch 92/100\n",
            "1/1 [==============================] - 0s 7ms/step - loss: 6.9319 - mae: 6.9319\n",
            "Epoch 93/100\n",
            "1/1 [==============================] - 0s 6ms/step - loss: 6.9263 - mae: 6.9263\n",
            "Epoch 94/100\n",
            "1/1 [==============================] - 0s 6ms/step - loss: 6.9206 - mae: 6.9206\n",
            "Epoch 95/100\n",
            "1/1 [==============================] - 0s 13ms/step - loss: 6.9150 - mae: 6.9150\n",
            "Epoch 96/100\n",
            "1/1 [==============================] - 0s 6ms/step - loss: 6.9094 - mae: 6.9094\n",
            "Epoch 97/100\n",
            "1/1 [==============================] - 0s 6ms/step - loss: 6.9038 - mae: 6.9038\n",
            "Epoch 98/100\n",
            "1/1 [==============================] - 0s 8ms/step - loss: 6.8981 - mae: 6.8981\n",
            "Epoch 99/100\n",
            "1/1 [==============================] - 0s 5ms/step - loss: 6.8925 - mae: 6.8925\n",
            "Epoch 100/100\n",
            "1/1 [==============================] - 0s 8ms/step - loss: 6.8869 - mae: 6.8869\n"
          ]
        },
        {
          "output_type": "execute_result",
          "data": {
            "text/plain": [
              "<keras.callbacks.History at 0x7f4f6e8f2850>"
            ]
          },
          "metadata": {},
          "execution_count": 9
        }
      ]
    },
    {
      "cell_type": "code",
      "metadata": {
        "colab": {
          "base_uri": "https://localhost:8080/"
        },
        "id": "wiGMZHqLTDdf",
        "outputId": "3d5f2a95-46b2-408d-8694-f30bf04b6762"
      },
      "source": [
        "X,y"
      ],
      "execution_count": null,
      "outputs": [
        {
          "output_type": "execute_result",
          "data": {
            "text/plain": [
              "(<tf.Tensor: shape=(8,), dtype=float64, numpy=array([-7., -4., -1.,  2.,  5.,  8., 11., 14.])>,\n",
              " <tf.Tensor: shape=(8,), dtype=float64, numpy=array([ 3.,  6.,  9., 12., 15., 18., 21., 24.])>)"
            ]
          },
          "metadata": {},
          "execution_count": 10
        }
      ]
    },
    {
      "cell_type": "code",
      "metadata": {
        "colab": {
          "base_uri": "https://localhost:8080/"
        },
        "id": "U8EN0rSoSUh_",
        "outputId": "594083d0-6fd0-4be8-c59e-6a31f3cd4cfa"
      },
      "source": [
        "y_pred = model.predict([17]) # expected value is 27\n",
        "y_pred"
      ],
      "execution_count": null,
      "outputs": [
        {
          "output_type": "execute_result",
          "data": {
            "text/plain": [
              "array([[29.739855]], dtype=float32)"
            ]
          },
          "metadata": {},
          "execution_count": 11
        }
      ]
    },
    {
      "cell_type": "code",
      "metadata": {
        "colab": {
          "base_uri": "https://localhost:8080/"
        },
        "id": "kEw3RsYiS_LE",
        "outputId": "26072e41-48d2-4569-d7db-3987e2f899e2"
      },
      "source": [
        "# Let's create another model with more hidden layers\n",
        "model = tf.keras.Sequential([\n",
        "                             \n",
        "                             tf.keras.layers.Dense(100, activation='relu'),\n",
        "                             tf.keras.layers.Dense(1)\n",
        "])\n",
        "model.compile(loss=\"mae\",\n",
        "              optimizer=tf.keras.optimizers.SGD(),\n",
        "              metrics=['mae'])\n",
        "model.fit(X,y,epochs=100)"
      ],
      "execution_count": null,
      "outputs": [
        {
          "output_type": "stream",
          "name": "stdout",
          "text": [
            "Epoch 1/100\n",
            "1/1 [==============================] - 0s 315ms/step - loss: 12.3193 - mae: 12.3193\n",
            "Epoch 2/100\n",
            "1/1 [==============================] - 0s 9ms/step - loss: 11.7804 - mae: 11.7804\n",
            "Epoch 3/100\n",
            "1/1 [==============================] - 0s 8ms/step - loss: 11.2324 - mae: 11.2324\n",
            "Epoch 4/100\n",
            "1/1 [==============================] - 0s 6ms/step - loss: 10.6601 - mae: 10.6601\n",
            "Epoch 5/100\n",
            "1/1 [==============================] - 0s 9ms/step - loss: 10.0632 - mae: 10.0632\n",
            "Epoch 6/100\n",
            "1/1 [==============================] - 0s 7ms/step - loss: 9.4503 - mae: 9.4503\n",
            "Epoch 7/100\n",
            "1/1 [==============================] - 0s 6ms/step - loss: 8.7991 - mae: 8.7991\n",
            "Epoch 8/100\n",
            "1/1 [==============================] - 0s 14ms/step - loss: 8.1072 - mae: 8.1072\n",
            "Epoch 9/100\n",
            "1/1 [==============================] - 0s 6ms/step - loss: 7.3691 - mae: 7.3691\n",
            "Epoch 10/100\n",
            "1/1 [==============================] - 0s 6ms/step - loss: 6.5758 - mae: 6.5758\n",
            "Epoch 11/100\n",
            "1/1 [==============================] - 0s 4ms/step - loss: 5.7205 - mae: 5.7205\n",
            "Epoch 12/100\n",
            "1/1 [==============================] - 0s 4ms/step - loss: 4.7947 - mae: 4.7947\n",
            "Epoch 13/100\n",
            "1/1 [==============================] - 0s 9ms/step - loss: 4.3581 - mae: 4.3581\n",
            "Epoch 14/100\n",
            "1/1 [==============================] - 0s 6ms/step - loss: 4.3134 - mae: 4.3134\n",
            "Epoch 15/100\n",
            "1/1 [==============================] - 0s 6ms/step - loss: 4.2550 - mae: 4.2550\n",
            "Epoch 16/100\n",
            "1/1 [==============================] - 0s 11ms/step - loss: 4.2442 - mae: 4.2442\n",
            "Epoch 17/100\n",
            "1/1 [==============================] - 0s 5ms/step - loss: 4.1520 - mae: 4.1520\n",
            "Epoch 18/100\n",
            "1/1 [==============================] - 0s 8ms/step - loss: 4.1739 - mae: 4.1739\n",
            "Epoch 19/100\n",
            "1/1 [==============================] - 0s 12ms/step - loss: 4.0681 - mae: 4.0681\n",
            "Epoch 20/100\n",
            "1/1 [==============================] - 0s 9ms/step - loss: 4.0807 - mae: 4.0807\n",
            "Epoch 21/100\n",
            "1/1 [==============================] - 0s 8ms/step - loss: 3.9954 - mae: 3.9954\n",
            "Epoch 22/100\n",
            "1/1 [==============================] - 0s 20ms/step - loss: 3.9739 - mae: 3.9739\n",
            "Epoch 23/100\n",
            "1/1 [==============================] - 0s 9ms/step - loss: 3.9208 - mae: 3.9208\n",
            "Epoch 24/100\n",
            "1/1 [==============================] - 0s 5ms/step - loss: 3.9047 - mae: 3.9047\n",
            "Epoch 25/100\n",
            "1/1 [==============================] - 0s 5ms/step - loss: 3.9267 - mae: 3.9267\n",
            "Epoch 26/100\n",
            "1/1 [==============================] - 0s 6ms/step - loss: 3.8797 - mae: 3.8797\n",
            "Epoch 27/100\n",
            "1/1 [==============================] - 0s 4ms/step - loss: 3.9341 - mae: 3.9341\n",
            "Epoch 28/100\n",
            "1/1 [==============================] - 0s 5ms/step - loss: 3.8678 - mae: 3.8678\n",
            "Epoch 29/100\n",
            "1/1 [==============================] - 0s 4ms/step - loss: 3.9274 - mae: 3.9274\n",
            "Epoch 30/100\n",
            "1/1 [==============================] - 0s 12ms/step - loss: 3.8751 - mae: 3.8751\n",
            "Epoch 31/100\n",
            "1/1 [==============================] - 0s 8ms/step - loss: 3.9080 - mae: 3.9080\n",
            "Epoch 32/100\n",
            "1/1 [==============================] - 0s 6ms/step - loss: 3.8893 - mae: 3.8893\n",
            "Epoch 33/100\n",
            "1/1 [==============================] - 0s 4ms/step - loss: 3.8834 - mae: 3.8834\n",
            "Epoch 34/100\n",
            "1/1 [==============================] - 0s 4ms/step - loss: 3.8969 - mae: 3.8969\n",
            "Epoch 35/100\n",
            "1/1 [==============================] - 0s 6ms/step - loss: 3.8581 - mae: 3.8581\n",
            "Epoch 36/100\n",
            "1/1 [==============================] - 0s 8ms/step - loss: 3.9046 - mae: 3.9046\n",
            "Epoch 37/100\n",
            "1/1 [==============================] - 0s 6ms/step - loss: 3.8386 - mae: 3.8386\n",
            "Epoch 38/100\n",
            "1/1 [==============================] - 0s 8ms/step - loss: 3.9054 - mae: 3.9054\n",
            "Epoch 39/100\n",
            "1/1 [==============================] - 0s 4ms/step - loss: 3.8482 - mae: 3.8482\n",
            "Epoch 40/100\n",
            "1/1 [==============================] - 0s 4ms/step - loss: 3.8862 - mae: 3.8862\n",
            "Epoch 41/100\n",
            "1/1 [==============================] - 0s 4ms/step - loss: 3.8605 - mae: 3.8605\n",
            "Epoch 42/100\n",
            "1/1 [==============================] - 0s 4ms/step - loss: 3.8608 - mae: 3.8608\n",
            "Epoch 43/100\n",
            "1/1 [==============================] - 0s 4ms/step - loss: 3.8683 - mae: 3.8683\n",
            "Epoch 44/100\n",
            "1/1 [==============================] - 0s 6ms/step - loss: 3.8352 - mae: 3.8352\n",
            "Epoch 45/100\n",
            "1/1 [==============================] - 0s 5ms/step - loss: 3.8762 - mae: 3.8762\n",
            "Epoch 46/100\n",
            "1/1 [==============================] - 0s 6ms/step - loss: 3.8106 - mae: 3.8106\n",
            "Epoch 47/100\n",
            "1/1 [==============================] - 0s 13ms/step - loss: 3.8821 - mae: 3.8821\n",
            "Epoch 48/100\n",
            "1/1 [==============================] - 0s 4ms/step - loss: 3.8234 - mae: 3.8234\n",
            "Epoch 49/100\n",
            "1/1 [==============================] - 0s 4ms/step - loss: 3.8626 - mae: 3.8626\n",
            "Epoch 50/100\n",
            "1/1 [==============================] - 0s 4ms/step - loss: 3.8328 - mae: 3.8328\n",
            "Epoch 51/100\n",
            "1/1 [==============================] - 0s 5ms/step - loss: 3.8369 - mae: 3.8369\n",
            "Epoch 52/100\n",
            "1/1 [==============================] - 0s 5ms/step - loss: 3.8408 - mae: 3.8408\n",
            "Epoch 53/100\n",
            "1/1 [==============================] - 0s 4ms/step - loss: 3.8111 - mae: 3.8111\n",
            "Epoch 54/100\n",
            "1/1 [==============================] - 0s 4ms/step - loss: 3.8489 - mae: 3.8489\n",
            "Epoch 55/100\n",
            "1/1 [==============================] - 0s 13ms/step - loss: 3.7850 - mae: 3.7850\n",
            "Epoch 56/100\n",
            "1/1 [==============================] - 0s 5ms/step - loss: 3.8585 - mae: 3.8585\n",
            "Epoch 57/100\n",
            "1/1 [==============================] - 0s 5ms/step - loss: 3.7982 - mae: 3.7982\n",
            "Epoch 58/100\n",
            "1/1 [==============================] - 0s 7ms/step - loss: 3.8377 - mae: 3.8377\n",
            "Epoch 59/100\n",
            "1/1 [==============================] - 0s 7ms/step - loss: 3.8062 - mae: 3.8062\n",
            "Epoch 60/100\n",
            "1/1 [==============================] - 0s 6ms/step - loss: 3.8117 - mae: 3.8117\n",
            "Epoch 61/100\n",
            "1/1 [==============================] - 0s 7ms/step - loss: 3.8144 - mae: 3.8144\n",
            "Epoch 62/100\n",
            "1/1 [==============================] - 0s 7ms/step - loss: 3.7856 - mae: 3.7856\n",
            "Epoch 63/100\n",
            "1/1 [==============================] - 0s 6ms/step - loss: 3.8227 - mae: 3.8227\n",
            "Epoch 64/100\n",
            "1/1 [==============================] - 0s 9ms/step - loss: 3.7593 - mae: 3.7593\n",
            "Epoch 65/100\n",
            "1/1 [==============================] - 0s 8ms/step - loss: 3.8352 - mae: 3.8352\n",
            "Epoch 66/100\n",
            "1/1 [==============================] - 0s 5ms/step - loss: 3.7725 - mae: 3.7725\n",
            "Epoch 67/100\n",
            "1/1 [==============================] - 0s 12ms/step - loss: 3.8115 - mae: 3.8115\n",
            "Epoch 68/100\n",
            "1/1 [==============================] - 0s 7ms/step - loss: 3.7807 - mae: 3.7807\n",
            "Epoch 69/100\n",
            "1/1 [==============================] - 0s 8ms/step - loss: 3.7853 - mae: 3.7853\n",
            "Epoch 70/100\n",
            "1/1 [==============================] - 0s 9ms/step - loss: 3.7891 - mae: 3.7891\n",
            "Epoch 71/100\n",
            "1/1 [==============================] - 0s 11ms/step - loss: 3.7588 - mae: 3.7588\n",
            "Epoch 72/100\n",
            "1/1 [==============================] - 0s 5ms/step - loss: 3.7975 - mae: 3.7975\n",
            "Epoch 73/100\n",
            "1/1 [==============================] - 0s 8ms/step - loss: 3.7337 - mae: 3.7337\n",
            "Epoch 74/100\n",
            "1/1 [==============================] - 0s 6ms/step - loss: 3.8105 - mae: 3.8105\n",
            "Epoch 75/100\n",
            "1/1 [==============================] - 0s 8ms/step - loss: 3.7478 - mae: 3.7478\n",
            "Epoch 76/100\n",
            "1/1 [==============================] - 0s 7ms/step - loss: 3.7840 - mae: 3.7840\n",
            "Epoch 77/100\n",
            "1/1 [==============================] - 0s 6ms/step - loss: 3.7563 - mae: 3.7563\n",
            "Epoch 78/100\n",
            "1/1 [==============================] - 0s 6ms/step - loss: 3.7575 - mae: 3.7575\n",
            "Epoch 79/100\n",
            "1/1 [==============================] - 0s 8ms/step - loss: 3.7648 - mae: 3.7648\n",
            "Epoch 80/100\n",
            "1/1 [==============================] - 0s 5ms/step - loss: 3.7307 - mae: 3.7307\n",
            "Epoch 81/100\n",
            "1/1 [==============================] - 0s 6ms/step - loss: 3.7735 - mae: 3.7735\n",
            "Epoch 82/100\n",
            "1/1 [==============================] - 0s 7ms/step - loss: 3.7125 - mae: 3.7125\n",
            "Epoch 83/100\n",
            "1/1 [==============================] - 0s 6ms/step - loss: 3.7820 - mae: 3.7820\n",
            "Epoch 84/100\n",
            "1/1 [==============================] - 0s 7ms/step - loss: 3.7242 - mae: 3.7242\n",
            "Epoch 85/100\n",
            "1/1 [==============================] - 0s 7ms/step - loss: 3.7552 - mae: 3.7552\n",
            "Epoch 86/100\n",
            "1/1 [==============================] - 0s 5ms/step - loss: 3.7329 - mae: 3.7329\n",
            "Epoch 87/100\n",
            "1/1 [==============================] - 0s 6ms/step - loss: 3.7284 - mae: 3.7284\n",
            "Epoch 88/100\n",
            "1/1 [==============================] - 0s 6ms/step - loss: 3.7416 - mae: 3.7416\n",
            "Epoch 89/100\n",
            "1/1 [==============================] - 0s 5ms/step - loss: 3.7013 - mae: 3.7013\n",
            "Epoch 90/100\n",
            "1/1 [==============================] - 0s 7ms/step - loss: 3.7505 - mae: 3.7505\n",
            "Epoch 91/100\n",
            "1/1 [==============================] - 0s 13ms/step - loss: 3.6921 - mae: 3.6921\n",
            "Epoch 92/100\n",
            "1/1 [==============================] - 0s 12ms/step - loss: 3.7522 - mae: 3.7522\n",
            "Epoch 93/100\n",
            "1/1 [==============================] - 0s 9ms/step - loss: 3.7016 - mae: 3.7016\n",
            "Epoch 94/100\n",
            "1/1 [==============================] - 0s 6ms/step - loss: 3.7251 - mae: 3.7251\n",
            "Epoch 95/100\n",
            "1/1 [==============================] - 0s 7ms/step - loss: 3.7105 - mae: 3.7105\n",
            "Epoch 96/100\n",
            "1/1 [==============================] - 0s 6ms/step - loss: 3.6979 - mae: 3.6979\n",
            "Epoch 97/100\n",
            "1/1 [==============================] - 0s 7ms/step - loss: 3.7194 - mae: 3.7194\n",
            "Epoch 98/100\n",
            "1/1 [==============================] - 0s 7ms/step - loss: 3.6705 - mae: 3.6705\n",
            "Epoch 99/100\n",
            "1/1 [==============================] - 0s 7ms/step - loss: 3.7299 - mae: 3.7299\n",
            "Epoch 100/100\n",
            "1/1 [==============================] - 0s 8ms/step - loss: 3.6711 - mae: 3.6711\n"
          ]
        },
        {
          "output_type": "execute_result",
          "data": {
            "text/plain": [
              "<keras.callbacks.History at 0x7f4f6e7f5950>"
            ]
          },
          "metadata": {},
          "execution_count": 12
        }
      ]
    },
    {
      "cell_type": "code",
      "metadata": {
        "colab": {
          "base_uri": "https://localhost:8080/"
        },
        "id": "40F11TW0UZ5S",
        "outputId": "0527694c-348e-4c3a-cb16-2dbfc6b61a91"
      },
      "source": [
        "model.predict([17])"
      ],
      "execution_count": null,
      "outputs": [
        {
          "output_type": "execute_result",
          "data": {
            "text/plain": [
              "array([[31.223137]], dtype=float32)"
            ]
          },
          "metadata": {},
          "execution_count": 13
        }
      ]
    },
    {
      "cell_type": "markdown",
      "metadata": {
        "id": "QyNXMQMJUhV2"
      },
      "source": [
        "### Evaluate the model"
      ]
    },
    {
      "cell_type": "markdown",
      "metadata": {
        "id": "BI1ss0yQXhr0"
      },
      "source": [
        "Creating a bigger dataset and then splitting it to training, validation and testing datasets"
      ]
    },
    {
      "cell_type": "code",
      "metadata": {
        "colab": {
          "base_uri": "https://localhost:8080/"
        },
        "id": "oetSd1QrYAmH",
        "outputId": "9775d4a0-860f-4b8e-9c0b-f7b9d89c031c"
      },
      "source": [
        "X = tf.range(-100,100,4)\n",
        "X"
      ],
      "execution_count": null,
      "outputs": [
        {
          "output_type": "execute_result",
          "data": {
            "text/plain": [
              "<tf.Tensor: shape=(50,), dtype=int32, numpy=\n",
              "array([-100,  -96,  -92,  -88,  -84,  -80,  -76,  -72,  -68,  -64,  -60,\n",
              "        -56,  -52,  -48,  -44,  -40,  -36,  -32,  -28,  -24,  -20,  -16,\n",
              "        -12,   -8,   -4,    0,    4,    8,   12,   16,   20,   24,   28,\n",
              "         32,   36,   40,   44,   48,   52,   56,   60,   64,   68,   72,\n",
              "         76,   80,   84,   88,   92,   96], dtype=int32)>"
            ]
          },
          "metadata": {},
          "execution_count": 14
        }
      ]
    },
    {
      "cell_type": "code",
      "metadata": {
        "colab": {
          "base_uri": "https://localhost:8080/"
        },
        "id": "PZ-TozclYKsl",
        "outputId": "305abc86-a66a-4566-e58f-ec71a82cd144"
      },
      "source": [
        "y = X + 10\n",
        "y"
      ],
      "execution_count": null,
      "outputs": [
        {
          "output_type": "execute_result",
          "data": {
            "text/plain": [
              "<tf.Tensor: shape=(50,), dtype=int32, numpy=\n",
              "array([-90, -86, -82, -78, -74, -70, -66, -62, -58, -54, -50, -46, -42,\n",
              "       -38, -34, -30, -26, -22, -18, -14, -10,  -6,  -2,   2,   6,  10,\n",
              "        14,  18,  22,  26,  30,  34,  38,  42,  46,  50,  54,  58,  62,\n",
              "        66,  70,  74,  78,  82,  86,  90,  94,  98, 102, 106], dtype=int32)>"
            ]
          },
          "metadata": {},
          "execution_count": 15
        }
      ]
    },
    {
      "cell_type": "code",
      "metadata": {
        "colab": {
          "base_uri": "https://localhost:8080/",
          "height": 282
        },
        "id": "urLFjAxOYn61",
        "outputId": "ef543304-7bb5-4b87-e7eb-9449c4cebd62"
      },
      "source": [
        "# Visualize\n",
        "plt.scatter(X,y)"
      ],
      "execution_count": null,
      "outputs": [
        {
          "output_type": "execute_result",
          "data": {
            "text/plain": [
              "<matplotlib.collections.PathCollection at 0x7f4f6e9139d0>"
            ]
          },
          "metadata": {},
          "execution_count": 16
        },
        {
          "output_type": "display_data",
          "data": {
            "image/png": "[encoded data removed]",
            "text/plain": [
              "<Figure size 432x288 with 1 Axes>"
            ]
          },
          "metadata": {
            "needs_background": "light"
          }
        }
      ]
    },
    {
      "cell_type": "code",
      "metadata": {
        "id": "FOs2gqkQZTXE"
      },
      "source": [
        "X_train = X[:40]\n",
        "y_train = y[:40]\n",
        "X_test = X[40:]\n",
        "y_test = y[40:]"
      ],
      "execution_count": null,
      "outputs": []
    },
    {
      "cell_type": "code",
      "metadata": {
        "colab": {
          "base_uri": "https://localhost:8080/",
          "height": 282
        },
        "id": "Xw1-WYQEZ8Vi",
        "outputId": "26084ea7-8416-42b5-95ea-29f43254fb83"
      },
      "source": [
        "plt.scatter(X_train,y_train, c=\"b\", label= \"Training data\")\n",
        "plt.scatter(X_test,y_test, c=\"g\", label= \"Testing data\")\n",
        "plt.legend()"
      ],
      "execution_count": null,
      "outputs": [
        {
          "output_type": "execute_result",
          "data": {
            "text/plain": [
              "<matplotlib.legend.Legend at 0x7f4f6d14ff10>"
            ]
          },
          "metadata": {},
          "execution_count": 18
        },
        {
          "output_type": "display_data",
          "data": {
            "image/png": "[encoded data removed]",
            "text/plain": [
              "<Figure size 432x288 with 1 Axes>"
            ]
          },
          "metadata": {
            "needs_background": "light"
          }
        }
      ]
    },
    {
      "cell_type": "markdown",
      "metadata": {
        "id": "2M_DE5xBaV-F"
      },
      "source": [
        "### Lets visualize a model"
      ]
    },
    {
      "cell_type": "code",
      "metadata": {
        "id": "bxcyv5XFb3iq"
      },
      "source": [
        "model = tf.keras.Sequential([\n",
        "                             tf.keras.layers.Dense(1)\n",
        "])\n",
        "model.compile(loss=\"mae\",\n",
        "              optimizer=\"SGD\",\n",
        "              metrics=[\"mae\"])\n",
        "\n",
        "\n",
        "#model.fit(X_train,y_train,epochs=100)"
      ],
      "execution_count": null,
      "outputs": []
    },
    {
      "cell_type": "code",
      "metadata": {
        "colab": {
          "base_uri": "https://localhost:8080/",
          "height": 299
        },
        "id": "_6SGZWlwcWAt",
        "outputId": "66933f53-2ad5-489c-c37e-b350fcb2b9f6"
      },
      "source": [
        "model.summary()"
      ],
      "execution_count": null,
      "outputs": [
        {
          "output_type": "error",
          "ename": "ValueError",
          "evalue": "ignored",
          "traceback": [
            "\u001b[0;31m---------------------------------------------------------------------------\u001b[0m",
            "\u001b[0;31mValueError\u001b[0m                                Traceback (most recent call last)",
            "\u001b[0;32m<ipython-input-20-5f15418b3570>\u001b[0m in \u001b[0;36m<module>\u001b[0;34m()\u001b[0m\n\u001b[0;32m----> 1\u001b[0;31m \u001b[0mmodel\u001b[0m\u001b[0;34m.\u001b[0m\u001b[0msummary\u001b[0m\u001b[0;34m(\u001b[0m\u001b[0;34m)\u001b[0m\u001b[0;34m\u001b[0m\u001b[0;34m\u001b[0m\u001b[0m\n\u001b[0m",
            "\u001b[0;32m/usr/local/lib/python3.7/dist-packages/keras/engine/training.py\u001b[0m in \u001b[0;36msummary\u001b[0;34m(self, line_length, positions, print_fn)\u001b[0m\n\u001b[1;32m   2519\u001b[0m     \"\"\"\n\u001b[1;32m   2520\u001b[0m     \u001b[0;32mif\u001b[0m \u001b[0;32mnot\u001b[0m \u001b[0mself\u001b[0m\u001b[0;34m.\u001b[0m\u001b[0mbuilt\u001b[0m\u001b[0;34m:\u001b[0m\u001b[0;34m\u001b[0m\u001b[0;34m\u001b[0m\u001b[0m\n\u001b[0;32m-> 2521\u001b[0;31m       raise ValueError('This model has not yet been built. '\n\u001b[0m\u001b[1;32m   2522\u001b[0m                        \u001b[0;34m'Build the model first by calling `build()` or calling '\u001b[0m\u001b[0;34m\u001b[0m\u001b[0;34m\u001b[0m\u001b[0m\n\u001b[1;32m   2523\u001b[0m                        \u001b[0;34m'`fit()` with some data, or specify '\u001b[0m\u001b[0;34m\u001b[0m\u001b[0;34m\u001b[0m\u001b[0m\n",
            "\u001b[0;31mValueError\u001b[0m: This model has not yet been built. Build the model first by calling `build()` or calling `fit()` with some data, or specify an `input_shape` argument in the first layer(s) for automatic build."
          ]
        }
      ]
    },
    {
      "cell_type": "markdown",
      "metadata": {
        "id": "ylL_3DlqdBmZ"
      },
      "source": [
        "Above error is because model is not able to calculate the input shape"
      ]
    },
    {
      "cell_type": "code",
      "metadata": {
        "id": "RFbfJE4UfP17"
      },
      "source": [
        "# Let's build the model with the input shape specified\n",
        "model = tf.keras.Sequential([\n",
        "                             tf.keras.layers.Dense(10,input_shape=[1], name= \"Input_Layer\"),\n",
        "                             tf.keras.layers.Dense(1, name=\"Output_Layer\")\n",
        "])\n",
        "model.compile(loss=\"mae\",\n",
        "              optimizer=tf.keras.optimizers.Adam(learning_rate=0.01),\n",
        "              metrics=[\"mae\"])"
      ],
      "execution_count": null,
      "outputs": []
    },
    {
      "cell_type": "code",
      "metadata": {
        "colab": {
          "base_uri": "https://localhost:8080/"
        },
        "id": "iLVy9YGOgFJx",
        "outputId": "61b8e8d4-bf8d-4a59-87e0-211ed92faa86"
      },
      "source": [
        "model.summary()"
      ],
      "execution_count": null,
      "outputs": [
        {
          "output_type": "stream",
          "name": "stdout",
          "text": [
            "Model: \"sequential_4\"\n",
            "_________________________________________________________________\n",
            "Layer (type)                 Output Shape              Param #   \n",
            "=================================================================\n",
            "Input_Layer (Dense)          (None, 10)                20        \n",
            "_________________________________________________________________\n",
            "Output_Layer (Dense)         (None, 1)                 11        \n",
            "=================================================================\n",
            "Total params: 31\n",
            "Trainable params: 31\n",
            "Non-trainable params: 0\n",
            "_________________________________________________________________\n"
          ]
        }
      ]
    },
    {
      "cell_type": "code",
      "metadata": {
        "colab": {
          "base_uri": "https://localhost:8080/"
        },
        "id": "l8KebO78iGsD",
        "outputId": "bfef8af7-dc75-4b6c-c28d-4b2b46d07e17"
      },
      "source": [
        "model.fit(X_train,y_train,epochs=100, verbose=1)"
      ],
      "execution_count": null,
      "outputs": [
        {
          "output_type": "stream",
          "name": "stdout",
          "text": [
            "Epoch 1/100\n",
            "2/2 [==============================] - 0s 4ms/step - loss: 29.2519 - mae: 29.2519\n",
            "Epoch 2/100\n",
            "2/2 [==============================] - 0s 5ms/step - loss: 22.4591 - mae: 22.4591\n",
            "Epoch 3/100\n",
            "2/2 [==============================] - 0s 4ms/step - loss: 15.9595 - mae: 15.9595\n",
            "Epoch 4/100\n",
            "2/2 [==============================] - 0s 4ms/step - loss: 9.9773 - mae: 9.9773\n",
            "Epoch 5/100\n",
            "2/2 [==============================] - 0s 3ms/step - loss: 8.3039 - mae: 8.3039\n",
            "Epoch 6/100\n",
            "2/2 [==============================] - 0s 4ms/step - loss: 10.8926 - mae: 10.8926\n",
            "Epoch 7/100\n",
            "2/2 [==============================] - 0s 5ms/step - loss: 12.0568 - mae: 12.0568\n",
            "Epoch 8/100\n",
            "2/2 [==============================] - 0s 7ms/step - loss: 12.2007 - mae: 12.2007\n",
            "Epoch 9/100\n",
            "2/2 [==============================] - 0s 10ms/step - loss: 11.5869 - mae: 11.5869\n",
            "Epoch 10/100\n",
            "2/2 [==============================] - 0s 4ms/step - loss: 10.3576 - mae: 10.3576\n",
            "Epoch 11/100\n",
            "2/2 [==============================] - 0s 7ms/step - loss: 8.6301 - mae: 8.6301\n",
            "Epoch 12/100\n",
            "2/2 [==============================] - 0s 7ms/step - loss: 7.3115 - mae: 7.3115\n",
            "Epoch 13/100\n",
            "2/2 [==============================] - 0s 11ms/step - loss: 8.2042 - mae: 8.2042\n",
            "Epoch 14/100\n",
            "2/2 [==============================] - 0s 6ms/step - loss: 8.5281 - mae: 8.5281\n",
            "Epoch 15/100\n",
            "2/2 [==============================] - 0s 5ms/step - loss: 7.8971 - mae: 7.8971\n",
            "Epoch 16/100\n",
            "2/2 [==============================] - 0s 4ms/step - loss: 7.1209 - mae: 7.1209\n",
            "Epoch 17/100\n",
            "2/2 [==============================] - 0s 4ms/step - loss: 7.0308 - mae: 7.0308\n",
            "Epoch 18/100\n",
            "2/2 [==============================] - 0s 7ms/step - loss: 7.2854 - mae: 7.2854\n",
            "Epoch 19/100\n",
            "2/2 [==============================] - 0s 5ms/step - loss: 6.9025 - mae: 6.9025\n",
            "Epoch 20/100\n",
            "2/2 [==============================] - 0s 4ms/step - loss: 6.6666 - mae: 6.6666\n",
            "Epoch 21/100\n",
            "2/2 [==============================] - 0s 3ms/step - loss: 6.8276 - mae: 6.8276\n",
            "Epoch 22/100\n",
            "2/2 [==============================] - 0s 4ms/step - loss: 6.6163 - mae: 6.6163\n",
            "Epoch 23/100\n",
            "2/2 [==============================] - 0s 3ms/step - loss: 6.4765 - mae: 6.4765\n",
            "Epoch 24/100\n",
            "2/2 [==============================] - 0s 3ms/step - loss: 6.5571 - mae: 6.5571\n",
            "Epoch 25/100\n",
            "2/2 [==============================] - 0s 8ms/step - loss: 6.2498 - mae: 6.2498\n",
            "Epoch 26/100\n",
            "2/2 [==============================] - 0s 3ms/step - loss: 6.2341 - mae: 6.2341\n",
            "Epoch 27/100\n",
            "2/2 [==============================] - 0s 3ms/step - loss: 6.3753 - mae: 6.3753\n",
            "Epoch 28/100\n",
            "2/2 [==============================] - 0s 3ms/step - loss: 6.1745 - mae: 6.1745\n",
            "Epoch 29/100\n",
            "2/2 [==============================] - 0s 5ms/step - loss: 5.9204 - mae: 5.9204\n",
            "Epoch 30/100\n",
            "2/2 [==============================] - 0s 3ms/step - loss: 5.8468 - mae: 5.8468\n",
            "Epoch 31/100\n",
            "2/2 [==============================] - 0s 5ms/step - loss: 5.7207 - mae: 5.7207\n",
            "Epoch 32/100\n",
            "2/2 [==============================] - 0s 3ms/step - loss: 5.8814 - mae: 5.8814\n",
            "Epoch 33/100\n",
            "2/2 [==============================] - 0s 4ms/step - loss: 5.8202 - mae: 5.8202\n",
            "Epoch 34/100\n",
            "2/2 [==============================] - 0s 3ms/step - loss: 5.5659 - mae: 5.5659\n",
            "Epoch 35/100\n",
            "2/2 [==============================] - 0s 3ms/step - loss: 5.6948 - mae: 5.6948\n",
            "Epoch 36/100\n",
            "2/2 [==============================] - 0s 10ms/step - loss: 5.4028 - mae: 5.4028\n",
            "Epoch 37/100\n",
            "2/2 [==============================] - 0s 3ms/step - loss: 5.5001 - mae: 5.5001\n",
            "Epoch 38/100\n",
            "2/2 [==============================] - 0s 6ms/step - loss: 5.5384 - mae: 5.5384\n",
            "Epoch 39/100\n",
            "2/2 [==============================] - 0s 3ms/step - loss: 5.2008 - mae: 5.2008\n",
            "Epoch 40/100\n",
            "2/2 [==============================] - 0s 4ms/step - loss: 5.1729 - mae: 5.1729\n",
            "Epoch 41/100\n",
            "2/2 [==============================] - 0s 5ms/step - loss: 5.0055 - mae: 5.0055\n",
            "Epoch 42/100\n",
            "2/2 [==============================] - 0s 4ms/step - loss: 4.9360 - mae: 4.9360\n",
            "Epoch 43/100\n",
            "2/2 [==============================] - 0s 4ms/step - loss: 4.9809 - mae: 4.9809\n",
            "Epoch 44/100\n",
            "2/2 [==============================] - 0s 4ms/step - loss: 4.8067 - mae: 4.8067\n",
            "Epoch 45/100\n",
            "2/2 [==============================] - 0s 6ms/step - loss: 4.6073 - mae: 4.6073\n",
            "Epoch 46/100\n",
            "2/2 [==============================] - 0s 7ms/step - loss: 4.4657 - mae: 4.4657\n",
            "Epoch 47/100\n",
            "2/2 [==============================] - 0s 5ms/step - loss: 4.4842 - mae: 4.4842\n",
            "Epoch 48/100\n",
            "2/2 [==============================] - 0s 4ms/step - loss: 4.4463 - mae: 4.4463\n",
            "Epoch 49/100\n",
            "2/2 [==============================] - 0s 7ms/step - loss: 4.2782 - mae: 4.2782\n",
            "Epoch 50/100\n",
            "2/2 [==============================] - 0s 6ms/step - loss: 4.1048 - mae: 4.1048\n",
            "Epoch 51/100\n",
            "2/2 [==============================] - 0s 6ms/step - loss: 4.0158 - mae: 4.0158\n",
            "Epoch 52/100\n",
            "2/2 [==============================] - 0s 8ms/step - loss: 4.0092 - mae: 4.0092\n",
            "Epoch 53/100\n",
            "2/2 [==============================] - 0s 5ms/step - loss: 3.7741 - mae: 3.7741\n",
            "Epoch 54/100\n",
            "2/2 [==============================] - 0s 4ms/step - loss: 4.0501 - mae: 4.0501\n",
            "Epoch 55/100\n",
            "2/2 [==============================] - 0s 4ms/step - loss: 3.9710 - mae: 3.9710\n",
            "Epoch 56/100\n",
            "2/2 [==============================] - 0s 7ms/step - loss: 3.5697 - mae: 3.5697\n",
            "Epoch 57/100\n",
            "2/2 [==============================] - 0s 10ms/step - loss: 3.9364 - mae: 3.9364\n",
            "Epoch 58/100\n",
            "2/2 [==============================] - 0s 4ms/step - loss: 3.6724 - mae: 3.6724\n",
            "Epoch 59/100\n",
            "2/2 [==============================] - 0s 4ms/step - loss: 3.2002 - mae: 3.2002\n",
            "Epoch 60/100\n",
            "2/2 [==============================] - 0s 4ms/step - loss: 3.8137 - mae: 3.8137\n",
            "Epoch 61/100\n",
            "2/2 [==============================] - 0s 4ms/step - loss: 3.4634 - mae: 3.4634\n",
            "Epoch 62/100\n",
            "2/2 [==============================] - 0s 7ms/step - loss: 3.0091 - mae: 3.0091\n",
            "Epoch 63/100\n",
            "2/2 [==============================] - 0s 4ms/step - loss: 3.2492 - mae: 3.2492\n",
            "Epoch 64/100\n",
            "2/2 [==============================] - 0s 7ms/step - loss: 2.8138 - mae: 2.8138\n",
            "Epoch 65/100\n",
            "2/2 [==============================] - 0s 4ms/step - loss: 2.9780 - mae: 2.9780\n",
            "Epoch 66/100\n",
            "2/2 [==============================] - 0s 4ms/step - loss: 2.5869 - mae: 2.5869\n",
            "Epoch 67/100\n",
            "2/2 [==============================] - 0s 4ms/step - loss: 2.5928 - mae: 2.5928\n",
            "Epoch 68/100\n",
            "2/2 [==============================] - 0s 4ms/step - loss: 2.2743 - mae: 2.2743\n",
            "Epoch 69/100\n",
            "2/2 [==============================] - 0s 4ms/step - loss: 2.2511 - mae: 2.2511\n",
            "Epoch 70/100\n",
            "2/2 [==============================] - 0s 10ms/step - loss: 1.9885 - mae: 1.9885\n",
            "Epoch 71/100\n",
            "2/2 [==============================] - 0s 5ms/step - loss: 2.1164 - mae: 2.1164\n",
            "Epoch 72/100\n",
            "2/2 [==============================] - 0s 5ms/step - loss: 1.8409 - mae: 1.8409\n",
            "Epoch 73/100\n",
            "2/2 [==============================] - 0s 4ms/step - loss: 1.7736 - mae: 1.7736\n",
            "Epoch 74/100\n",
            "2/2 [==============================] - 0s 4ms/step - loss: 1.7266 - mae: 1.7266\n",
            "Epoch 75/100\n",
            "2/2 [==============================] - 0s 3ms/step - loss: 1.8577 - mae: 1.8577\n",
            "Epoch 76/100\n",
            "2/2 [==============================] - 0s 7ms/step - loss: 1.4260 - mae: 1.4260\n",
            "Epoch 77/100\n",
            "2/2 [==============================] - 0s 4ms/step - loss: 1.3410 - mae: 1.3410\n",
            "Epoch 78/100\n",
            "2/2 [==============================] - 0s 7ms/step - loss: 1.0252 - mae: 1.0252\n",
            "Epoch 79/100\n",
            "2/2 [==============================] - 0s 4ms/step - loss: 1.4868 - mae: 1.4868\n",
            "Epoch 80/100\n",
            "2/2 [==============================] - 0s 3ms/step - loss: 0.9791 - mae: 0.9791\n",
            "Epoch 81/100\n",
            "2/2 [==============================] - 0s 4ms/step - loss: 1.5058 - mae: 1.5058\n",
            "Epoch 82/100\n",
            "2/2 [==============================] - 0s 3ms/step - loss: 1.2621 - mae: 1.2621\n",
            "Epoch 83/100\n",
            "2/2 [==============================] - 0s 4ms/step - loss: 0.5503 - mae: 0.5503\n",
            "Epoch 84/100\n",
            "2/2 [==============================] - 0s 3ms/step - loss: 0.3346 - mae: 0.3346\n",
            "Epoch 85/100\n",
            "2/2 [==============================] - 0s 4ms/step - loss: 0.2884 - mae: 0.2884\n",
            "Epoch 86/100\n",
            "2/2 [==============================] - 0s 4ms/step - loss: 0.3562 - mae: 0.3562\n",
            "Epoch 87/100\n",
            "2/2 [==============================] - 0s 4ms/step - loss: 0.6425 - mae: 0.6425\n",
            "Epoch 88/100\n",
            "2/2 [==============================] - 0s 6ms/step - loss: 1.4032 - mae: 1.4032\n",
            "Epoch 89/100\n",
            "2/2 [==============================] - 0s 5ms/step - loss: 1.5486 - mae: 1.5486\n",
            "Epoch 90/100\n",
            "2/2 [==============================] - 0s 4ms/step - loss: 0.7364 - mae: 0.7364\n",
            "Epoch 91/100\n",
            "2/2 [==============================] - 0s 4ms/step - loss: 0.9674 - mae: 0.9674\n",
            "Epoch 92/100\n",
            "2/2 [==============================] - 0s 4ms/step - loss: 1.2648 - mae: 1.2648\n",
            "Epoch 93/100\n",
            "2/2 [==============================] - 0s 6ms/step - loss: 1.6350 - mae: 1.6350\n",
            "Epoch 94/100\n",
            "2/2 [==============================] - 0s 4ms/step - loss: 0.4488 - mae: 0.4488\n",
            "Epoch 95/100\n",
            "2/2 [==============================] - 0s 4ms/step - loss: 0.6603 - mae: 0.6603\n",
            "Epoch 96/100\n",
            "2/2 [==============================] - 0s 5ms/step - loss: 0.5175 - mae: 0.5175\n",
            "Epoch 97/100\n",
            "2/2 [==============================] - 0s 13ms/step - loss: 0.4428 - mae: 0.4428\n",
            "Epoch 98/100\n",
            "2/2 [==============================] - 0s 3ms/step - loss: 0.1798 - mae: 0.1798\n",
            "Epoch 99/100\n",
            "2/2 [==============================] - 0s 24ms/step - loss: 0.3735 - mae: 0.3735\n",
            "Epoch 100/100\n",
            "2/2 [==============================] - 0s 5ms/step - loss: 0.6053 - mae: 0.6053\n"
          ]
        },
        {
          "output_type": "execute_result",
          "data": {
            "text/plain": [
              "<keras.callbacks.History at 0x7f4f6b63b190>"
            ]
          },
          "metadata": {},
          "execution_count": 23
        }
      ]
    },
    {
      "cell_type": "code",
      "metadata": {
        "colab": {
          "base_uri": "https://localhost:8080/"
        },
        "id": "SJUKLuFZnREJ",
        "outputId": "868b82ca-d41e-4879-bbd8-686cb6171682"
      },
      "source": [
        "model.predict([17])"
      ],
      "execution_count": null,
      "outputs": [
        {
          "output_type": "execute_result",
          "data": {
            "text/plain": [
              "array([[26.883102]], dtype=float32)"
            ]
          },
          "metadata": {},
          "execution_count": 24
        }
      ]
    },
    {
      "cell_type": "code",
      "metadata": {
        "id": "dHXBlobgjrqk"
      },
      "source": [
        "# Another way of visualizing a model\n",
        "from tensorflow.keras.utils import plot_model"
      ],
      "execution_count": null,
      "outputs": []
    },
    {
      "cell_type": "code",
      "metadata": {
        "colab": {
          "base_uri": "https://localhost:8080/",
          "height": 312
        },
        "id": "ncjqWt9qlfhY",
        "outputId": "c5c6243c-f76f-4c54-c36c-c3d0804bd0b5"
      },
      "source": [
        "plot_model(model, show_shapes=True)"
      ],
      "execution_count": null,
      "outputs": [
        {
          "output_type": "execute_result",
          "data": {
            "image/png": "[encoded data removed]",
            "text/plain": [
              "<IPython.core.display.Image object>"
            ]
          },
          "metadata": {},
          "execution_count": 26
        }
      ]
    },
    {
      "cell_type": "markdown",
      "metadata": {
        "id": "kuMMQ2EYlu8n"
      },
      "source": [
        "### Visualize predictions"
      ]
    },
    {
      "cell_type": "code",
      "metadata": {
        "colab": {
          "base_uri": "https://localhost:8080/"
        },
        "id": "uTrhb60GxGNk",
        "outputId": "367958c8-6b48-4937-8fba-a8c281b499b1"
      },
      "source": [
        "# Make some predictions\n",
        "y_pred = model.predict(X_test)\n",
        "y_pred"
      ],
      "execution_count": null,
      "outputs": [
        {
          "output_type": "stream",
          "name": "stdout",
          "text": [
            "WARNING:tensorflow:5 out of the last 5 calls to <function Model.make_predict_function.<locals>.predict_function at 0x7f4f6b5b4dd0> triggered tf.function retracing. Tracing is expensive and the excessive number of tracings could be due to (1) creating @tf.function repeatedly in a loop, (2) passing tensors with different shapes, (3) passing Python objects instead of tensors. For (1), please define your @tf.function outside of the loop. For (2), @tf.function has experimental_relax_shapes=True option that relaxes argument shapes that can avoid unnecessary retracing. For (3), please refer to https://www.tensorflow.org/guide/function#controlling_retracing and https://www.tensorflow.org/api_docs/python/tf/function for  more details.\n"
          ]
        },
        {
          "output_type": "execute_result",
          "data": {
            "text/plain": [
              "array([[ 69.69807 ],\n",
              "       [ 73.680855],\n",
              "       [ 77.663635],\n",
              "       [ 81.64642 ],\n",
              "       [ 85.62921 ],\n",
              "       [ 89.61201 ],\n",
              "       [ 93.59479 ],\n",
              "       [ 97.577576],\n",
              "       [101.56036 ],\n",
              "       [105.54316 ]], dtype=float32)"
            ]
          },
          "metadata": {},
          "execution_count": 27
        }
      ]
    },
    {
      "cell_type": "code",
      "metadata": {
        "colab": {
          "base_uri": "https://localhost:8080/"
        },
        "id": "SjmeBA_qxN1G",
        "outputId": "a83b0454-a135-4ab0-fda1-14931d2f393f"
      },
      "source": [
        "y_test"
      ],
      "execution_count": null,
      "outputs": [
        {
          "output_type": "execute_result",
          "data": {
            "text/plain": [
              "<tf.Tensor: shape=(10,), dtype=int32, numpy=array([ 70,  74,  78,  82,  86,  90,  94,  98, 102, 106], dtype=int32)>"
            ]
          },
          "metadata": {},
          "execution_count": 28
        }
      ]
    },
    {
      "cell_type": "code",
      "metadata": {
        "id": "JsekZn3BxR-W"
      },
      "source": [
        "# Let's create a function to visualize the predictions\n",
        "def plot_predictions(Training_data=X_train,\n",
        "                     Training_labels=y_train,\n",
        "                     Testing_data=X_test,\n",
        "                     Testing_labels=y_test,\n",
        "                     Predictions=y_pred\n",
        "                     ):\n",
        "  plt.figure(figsize=[10,7])\n",
        "  # plot the training data\n",
        "  plt.scatter(Training_data,Training_labels, c=\"b\", label= \"Training data\")\n",
        "  \n",
        "  # plot the testing data\n",
        "  plt.scatter(Testing_data, Testing_labels, c=\"g\", label=\"Testing data\")\n",
        "\n",
        "  # plot predictions\n",
        "  plt.scatter(Testing_data, Predictions, c=\"r\", label=\"Predictions\")\n",
        "\n",
        "  plt.legend()"
      ],
      "execution_count": null,
      "outputs": []
    },
    {
      "cell_type": "code",
      "metadata": {
        "colab": {
          "base_uri": "https://localhost:8080/",
          "height": 428
        },
        "id": "D0LG7FLY1yyR",
        "outputId": "efacc524-d381-489b-b85a-21b97c568f5c"
      },
      "source": [
        "plot_predictions(X_train, y_train, X_test, y_test, y_pred)"
      ],
      "execution_count": null,
      "outputs": [
        {
          "output_type": "display_data",
          "data": {
            "image/png": "[encoded data removed]",
            "text/plain": [
              "<Figure size 720x504 with 1 Axes>"
            ]
          },
          "metadata": {
            "needs_background": "light"
          }
        }
      ]
    },
    {
      "cell_type": "markdown",
      "metadata": {
        "id": "Tjv0c9SZ2EUU"
      },
      "source": [
        "### Evaluating our model's predictions with regression evaluation metrics"
      ]
    },
    {
      "cell_type": "markdown",
      "metadata": {
        "id": "GuuD_GFK3Zzy"
      },
      "source": [
        "![image.png](data:image/png;base64,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)"
      ]
    },
    {
      "cell_type": "code",
      "metadata": {
        "colab": {
          "base_uri": "https://localhost:8080/"
        },
        "id": "hKj_Dzc45PDy",
        "outputId": "162548c9-7f27-42ba-9dd4-3b5690947305"
      },
      "source": [
        "# Evaluate the model on the test data\n",
        "model.evaluate(X_test, y_test)"
      ],
      "execution_count": null,
      "outputs": [
        {
          "output_type": "stream",
          "name": "stdout",
          "text": [
            "1/1 [==============================] - 0s 135ms/step - loss: 0.3794 - mae: 0.3794\n"
          ]
        },
        {
          "output_type": "execute_result",
          "data": {
            "text/plain": [
              "[0.3793884217739105, 0.3793884217739105]"
            ]
          },
          "metadata": {},
          "execution_count": 31
        }
      ]
    },
    {
      "cell_type": "code",
      "metadata": {
        "colab": {
          "base_uri": "https://localhost:8080/"
        },
        "id": "u8348Z3pbimB",
        "outputId": "916eb8b0-984a-47e8-d824-97e14e66eb9f"
      },
      "source": [
        "# Calculate the mean absolute error\n",
        "y_test.shape, y_pred.shape"
      ],
      "execution_count": null,
      "outputs": [
        {
          "output_type": "execute_result",
          "data": {
            "text/plain": [
              "(TensorShape([10]), (10, 1))"
            ]
          },
          "metadata": {},
          "execution_count": 32
        }
      ]
    },
    {
      "cell_type": "code",
      "metadata": {
        "colab": {
          "base_uri": "https://localhost:8080/"
        },
        "id": "dTVF1n4jbyfv",
        "outputId": "f25c4a81-ae66-481c-e6ca-6e087899526f"
      },
      "source": [
        "y_test.ndim, y_pred.ndim"
      ],
      "execution_count": null,
      "outputs": [
        {
          "output_type": "execute_result",
          "data": {
            "text/plain": [
              "(1, 2)"
            ]
          },
          "metadata": {},
          "execution_count": 33
        }
      ]
    },
    {
      "cell_type": "markdown",
      "metadata": {
        "id": "kgRgwNhLb11b"
      },
      "source": [
        "y_pred is having and extra dimension. To calculate the MAE, we have to make both the tensors in same shape. We can use tf.squeeze for removing the extra dimension in y_pred"
      ]
    },
    {
      "cell_type": "code",
      "metadata": {
        "colab": {
          "base_uri": "https://localhost:8080/"
        },
        "id": "6B7mWJ4tPkv3",
        "outputId": "40c18284-8376-46a7-e9fe-c2da8f7a82a4"
      },
      "source": [
        "mae = tf.metrics.mean_absolute_error(y_true=y_test, y_pred=tf.squeeze(y_pred))\n",
        "mae"
      ],
      "execution_count": null,
      "outputs": [
        {
          "output_type": "execute_result",
          "data": {
            "text/plain": [
              "<tf.Tensor: shape=(), dtype=float32, numpy=0.3793915>"
            ]
          },
          "metadata": {},
          "execution_count": 34
        }
      ]
    },
    {
      "cell_type": "code",
      "metadata": {
        "colab": {
          "base_uri": "https://localhost:8080/"
        },
        "id": "YeYRby84bgzi",
        "outputId": "68729500-ebf5-42ac-cab5-30df30a88ebf"
      },
      "source": [
        "# Calculate teh mean square error\n",
        "mse = tf.metrics.mean_squared_error(y_true=y_test,y_pred=tf.squeeze(y_pred))\n",
        "mse"
      ],
      "execution_count": null,
      "outputs": [
        {
          "output_type": "execute_result",
          "data": {
            "text/plain": [
              "<tf.Tensor: shape=(), dtype=float32, numpy=0.14638203>"
            ]
          },
          "metadata": {},
          "execution_count": 35
        }
      ]
    },
    {
      "cell_type": "code",
      "metadata": {
        "id": "HskktCWzcik_"
      },
      "source": [
        "# Make some helper functions to reuse MAE and MSE\n",
        "def mae(y_test,y_pred):\n",
        "  return tf.metrics.mean_absolute_error(y_true=y_test, y_pred=tf.squeeze(y_pred))\n",
        "\n",
        "def mse(y_test,y_pred):\n",
        "  return tf.metrics.mean_squared_error(y_true=y_test, y_pred=tf.squeeze(y_pred))"
      ],
      "execution_count": null,
      "outputs": []
    },
    {
      "cell_type": "markdown",
      "metadata": {
        "id": "CIjtL-x7iPO7"
      },
      "source": [
        "### Running experiments to improve our model"
      ]
    },
    {
      "cell_type": "markdown",
      "metadata": {
        "id": "CJ0of2i4jtqG"
      },
      "source": [
        "Let's do three modelling experiments\n",
        "1. `model1` - 1 layer, 100 epochs\n",
        "2. `model2` - 2 layers, 100 epochs\n",
        "3. `model3` - 2 layers, 500 epochs"
      ]
    },
    {
      "cell_type": "code",
      "metadata": {
        "colab": {
          "base_uri": "https://localhost:8080/",
          "height": 231
        },
        "id": "8MYAWeW6kI2t",
        "outputId": "8f49de57-c35c-408c-ca24-fdc1fef56e9f"
      },
      "source": [
        "# Model_1\n",
        "tf.random.set_seed(42)\n",
        "\n",
        "model_1 = tf.keras.Sequential([\n",
        "                               tf.keras.layers.Dense(1)\n",
        "])\n",
        "model_1.compile(loss=tf.keras.losses.MAE,\n",
        "                optimizer=tf.keras.optimizers.SGD(),\n",
        "                metrics=['mae'])\n",
        "model_1.fit(X_train,y_train, epochs=100)"
      ],
      "execution_count": 2,
      "outputs": [
        {
          "output_type": "error",
          "ename": "NameError",
          "evalue": "ignored",
          "traceback": [
            "\u001b[0;31m---------------------------------------------------------------------------\u001b[0m",
            "\u001b[0;31mNameError\u001b[0m                                 Traceback (most recent call last)",
            "\u001b[0;32m<ipython-input-2-b3211e070cb5>\u001b[0m in \u001b[0;36m<module>\u001b[0;34m()\u001b[0m\n\u001b[1;32m      1\u001b[0m \u001b[0;31m# Model_1\u001b[0m\u001b[0;34m\u001b[0m\u001b[0;34m\u001b[0m\u001b[0;34m\u001b[0m\u001b[0m\n\u001b[0;32m----> 2\u001b[0;31m \u001b[0mtf\u001b[0m\u001b[0;34m.\u001b[0m\u001b[0mrandom\u001b[0m\u001b[0;34m.\u001b[0m\u001b[0mset_seed\u001b[0m\u001b[0;34m(\u001b[0m\u001b[0;36m42\u001b[0m\u001b[0;34m)\u001b[0m\u001b[0;34m\u001b[0m\u001b[0;34m\u001b[0m\u001b[0m\n\u001b[0m\u001b[1;32m      3\u001b[0m \u001b[0;34m\u001b[0m\u001b[0m\n\u001b[1;32m      4\u001b[0m model_1 = tf.keras.Sequential([\n\u001b[1;32m      5\u001b[0m                                \u001b[0mtf\u001b[0m\u001b[0;34m.\u001b[0m\u001b[0mkeras\u001b[0m\u001b[0;34m.\u001b[0m\u001b[0mlayers\u001b[0m\u001b[0;34m.\u001b[0m\u001b[0mDense\u001b[0m\u001b[0;34m(\u001b[0m\u001b[0;36m1\u001b[0m\u001b[0;34m)\u001b[0m\u001b[0;34m\u001b[0m\u001b[0;34m\u001b[0m\u001b[0m\n",
            "\u001b[0;31mNameError\u001b[0m: name 'tf' is not defined"
          ]
        }
      ]
    },
    {
      "cell_type": "code",
      "metadata": {
        "colab": {
          "base_uri": "https://localhost:8080/",
          "height": 163
        },
        "id": "xITT7xUzq4Os",
        "outputId": "506f70a3-023d-4e64-fab5-76fc6391f4f1"
      },
      "source": [
        "y_pred_1 = model_1.predict(X_test)"
      ],
      "execution_count": 3,
      "outputs": [
        {
          "output_type": "error",
          "ename": "NameError",
          "evalue": "ignored",
          "traceback": [
            "\u001b[0;31m---------------------------------------------------------------------------\u001b[0m",
            "\u001b[0;31mNameError\u001b[0m                                 Traceback (most recent call last)",
            "\u001b[0;32m<ipython-input-3-ba0f2cb8fb31>\u001b[0m in \u001b[0;36m<module>\u001b[0;34m()\u001b[0m\n\u001b[0;32m----> 1\u001b[0;31m \u001b[0my_pred_1\u001b[0m \u001b[0;34m=\u001b[0m \u001b[0mmodel_1\u001b[0m\u001b[0;34m.\u001b[0m\u001b[0mpredict\u001b[0m\u001b[0;34m(\u001b[0m\u001b[0mX_test\u001b[0m\u001b[0;34m)\u001b[0m\u001b[0;34m\u001b[0m\u001b[0;34m\u001b[0m\u001b[0m\n\u001b[0m",
            "\u001b[0;31mNameError\u001b[0m: name 'model_1' is not defined"
          ]
        }
      ]
    },
    {
      "cell_type": "code",
      "metadata": {
        "id": "sRg59ahArFBg"
      },
      "source": [
        "plot_predictions(Predictions=y_pred_1)"
      ],
      "execution_count": null,
      "outputs": []
    },
    {
      "cell_type": "code",
      "metadata": {
        "id": "4owW_wx8rO8c"
      },
      "source": [
        "mae_1 = mae(y_test, y_pred_1)\n",
        "mse_1 = mse(y_test, y_pred_1)\n",
        "mae_1, mse_1"
      ],
      "execution_count": null,
      "outputs": []
    },
    {
      "cell_type": "code",
      "metadata": {
        "id": "BH2WoZbkrotQ"
      },
      "source": [
        "# Model_2\n",
        "tf.random.set_seed(42)\n",
        "\n",
        "model_2 = tf.keras.Sequential([\n",
        "                               tf.keras.layers.Dense(10),\n",
        "                               tf.keras.layers.Dense(1)                               \n",
        "])\n",
        "model_2.compile(loss=tf.keras.losses.MAE,\n",
        "                optimizer=tf.keras.optimizers.SGD(),\n",
        "                metrics=[\"MSE\"])\n",
        "model_2.fit(X_train,y_train, epochs=100)"
      ],
      "execution_count": null,
      "outputs": []
    },
    {
      "cell_type": "code",
      "metadata": {
        "id": "B1a2OR7cuX5X"
      },
      "source": [
        "y_pred_2 = model_2.predict(X_test)\n",
        "plot_predictions(Predictions=y_pred_2)"
      ],
      "execution_count": null,
      "outputs": []
    },
    {
      "cell_type": "code",
      "metadata": {
        "id": "YkK3Y4aeulpb"
      },
      "source": [
        "mae_2 = mae(y_test,y_pred_2)\n",
        "mse_2 = mse(y_test,y_pred_2)\n",
        "mae_2, mse_2"
      ],
      "execution_count": null,
      "outputs": []
    },
    {
      "cell_type": "code",
      "metadata": {
        "id": "Jt91IA8qu3Hl"
      },
      "source": [
        "# Model_3\n",
        "\n",
        "tf.random.set_seed(42)\n",
        "\n",
        "model_3 = tf.keras.Sequential([\n",
        "                               tf.keras.layers.Dense(10),\n",
        "                               tf.keras.layers.Dense(1)\n",
        "])\n",
        "model_3.compile(loss=tf.keras.losses.MAE,\n",
        "                optimizer=tf.keras.optimizers.SGD(),\n",
        "                metrics=[\"mae\"])\n",
        "model_3.fit(X_train,y_train,epochs=500)"
      ],
      "execution_count": null,
      "outputs": []
    },
    {
      "cell_type": "code",
      "metadata": {
        "id": "8ziGBMuQv9NZ"
      },
      "source": [
        "y_pred_3 = model_3.predict(X_test)\n",
        "plot_predictions(Predictions=y_pred_3)"
      ],
      "execution_count": null,
      "outputs": []
    },
    {
      "cell_type": "code",
      "metadata": {
        "id": "upguXT_GwNxY"
      },
      "source": [
        "mae_3 = mae(y_test,y_pred_3)\n",
        "mse_3 = mse(y_test,y_pred_3)\n",
        "mae_3, mse_3"
      ],
      "execution_count": null,
      "outputs": []
    },
    {
      "cell_type": "markdown",
      "metadata": {
        "id": "G-4sTWd2wlDl"
      },
      "source": [
        " ### Comparing the result of our experiments"
      ]
    },
    {
      "cell_type": "code",
      "metadata": {
        "id": "zpZDpCm4x2vk"
      },
      "source": [
        "# Let's compare the results using a pandas DataFrame\n",
        "import pandas as pd\n",
        "\n",
        "model_results = [[\"model_1\",mae_1.numpy(),mse_1.numpy()],\n",
        "                 [\"model_2\",mae_2.numpy(),mse_2.numpy()],\n",
        "                 [\"model_3\",mae_3.numpy(),mse_3.numpy()]]\n",
        "all_results = pd.DataFrame(model_results, columns=[\"model\",\"MAE\",\"MSE\"])\n",
        "all_results"
      ],
      "execution_count": null,
      "outputs": []
    },
    {
      "cell_type": "markdown",
      "metadata": {
        "id": "dChGlgSsyzq-"
      },
      "source": [
        "One really good habit in machine learning modelling is to track the results of your experiments.\n",
        "\n",
        "And when doing so, it can be tedious if you are running lots of experiments.\n",
        "\n",
        "Luckily, there are tools to help us!\n",
        "\n",
        "* **TensorBoard**\n",
        "* **Weights & Biases** - Tools to track all kind of machine learning experiments (plugs straight in to tensorboard)"
      ]
    },
    {
      "cell_type": "markdown",
      "metadata": {
        "id": "klBlA0Tk1nxC"
      },
      "source": [
        "### Saving our models"
      ]
    },
    {
      "cell_type": "markdown",
      "metadata": {
        "id": "jJpEbeQ41vdz"
      },
      "source": [
        "There are two main formats we can save our model to:\n",
        "1. The SavedModel format\n",
        "2. The HDF5 format"
      ]
    },
    {
      "cell_type": "code",
      "metadata": {
        "id": "TXx8S4R0r6qG"
      },
      "source": [
        "# Save the model using SavedModel format\n",
        "model_2.save(\"best_model_SavedModel_format\")"
      ],
      "execution_count": null,
      "outputs": []
    },
    {
      "cell_type": "code",
      "metadata": {
        "id": "Y88_e6y_sME9"
      },
      "source": [
        "# Save the model using HDF5 format\n",
        "model_2.save(\"best_model_HDF5_format.h5\")"
      ],
      "execution_count": null,
      "outputs": []
    },
    {
      "cell_type": "markdown",
      "metadata": {
        "id": "lpjhIaJAtFfb"
      },
      "source": [
        "### Load a saved model"
      ]
    },
    {
      "cell_type": "code",
      "metadata": {
        "id": "GWXzhgfet3Is"
      },
      "source": [
        "# Load in a SavedXModel format\n",
        "loaded_SavedModel_format = tf.keras.models.load_model(\"best_model_SavedModel_format\")"
      ],
      "execution_count": null,
      "outputs": []
    },
    {
      "cell_type": "code",
      "metadata": {
        "id": "kh3q7-_fuUe7"
      },
      "source": [
        "loaded_SavedModel_format.summary()"
      ],
      "execution_count": null,
      "outputs": []
    },
    {
      "cell_type": "code",
      "metadata": {
        "id": "-ovg32dbuZ9K"
      },
      "source": [
        "model_2.summary()"
      ],
      "execution_count": null,
      "outputs": []
    },
    {
      "cell_type": "code",
      "metadata": {
        "id": "nHehoCJFucrE"
      },
      "source": [
        "# Compare the predictions from both the models\n",
        "model_2_preds = model_2.predict(X_test)\n",
        "SavedModel_preds = loaded_SavedModel_format.predict(X_test)\n",
        "model_2_preds == SavedModel_preds"
      ],
      "execution_count": null,
      "outputs": []
    },
    {
      "cell_type": "code",
      "metadata": {
        "id": "gLDs85vzwTrl"
      },
      "source": [
        "# Load HDF5 model and compare the results\n",
        "H5_model = tf.keras.models.load_model(\"best_model_HDF5_format.h5\")\n",
        "H5_model_preds = H5_model.predict(X_test)\n",
        "model_2_preds == H5_model_preds"
      ],
      "execution_count": null,
      "outputs": []
    },
    {
      "cell_type": "markdown",
      "metadata": {
        "id": "7rtn4SaQwxQp"
      },
      "source": [
        "### Download the model from Google colab"
      ]
    },
    {
      "cell_type": "code",
      "metadata": {
        "id": "PRaKL5oNyYSQ"
      },
      "source": [
        "from google.colab import files\n",
        "files.download(\"best_model_HDF5_format.h5\")"
      ],
      "execution_count": null,
      "outputs": []
    },
    {
      "cell_type": "code",
      "metadata": {
        "id": "c3YGk3FqylJb"
      },
      "source": [
        "files.download(\"/content/best_model_SavedModel_format\")"
      ],
      "execution_count": null,
      "outputs": []
    },
    {
      "cell_type": "markdown",
      "metadata": {
        "id": "5bb3J3vOysqe"
      },
      "source": [
        "### A larger example"
      ]
    },
    {
      "cell_type": "code",
      "metadata": {
        "id": "FMcib2Za1FPg"
      },
      "source": [
        "# Import requred libraries\n",
        "import tensorflow as tf\n",
        "import pandas as pd\n",
        "import matplotlib.pyplot as plt"
      ],
      "execution_count": 4,
      "outputs": []
    },
    {
      "cell_type": "code",
      "metadata": {
        "id": "qBp_cxGY1SLP",
        "colab": {
          "base_uri": "https://localhost:8080/",
          "height": 419
        },
        "outputId": "320beba7-58e8-4af7-e314-de6acff08f69"
      },
      "source": [
        "insurance = pd.read_csv(\"https://raw.githubusercontent.com/stedy/Machine-Learning-with-R-datasets/master/insurance.csv\")\n",
        "insurance"
      ],
      "execution_count": 5,
      "outputs": [
        {
          "output_type": "execute_result",
          "data": {
            "text/html": [
              "<div>\n",
              "<style scoped>\n",
              "    .dataframe tbody tr th:only-of-type {\n",
              "        vertical-align: middle;\n",
              "    }\n",
              "\n",
              "    .dataframe tbody tr th {\n",
              "        vertical-align: top;\n",
              "    }\n",
              "\n",
              "    .dataframe thead th {\n",
              "        text-align: right;\n",
              "    }\n",
              "</style>\n",
              "<table border=\"1\" class=\"dataframe\">\n",
              "  <thead>\n",
              "    <tr style=\"text-align: right;\">\n",
              "      <th></th>\n",
              "      <th>age</th>\n",
              "      <th>sex</th>\n",
              "      <th>bmi</th>\n",
              "      <th>children</th>\n",
              "      <th>smoker</th>\n",
              "      <th>region</th>\n",
              "      <th>charges</th>\n",
              "    </tr>\n",
              "  </thead>\n",
              "  <tbody>\n",
              "    <tr>\n",
              "      <th>0</th>\n",
              "      <td>19</td>\n",
              "      <td>female</td>\n",
              "      <td>27.900</td>\n",
              "      <td>0</td>\n",
              "      <td>yes</td>\n",
              "      <td>southwest</td>\n",
              "      <td>16884.92400</td>\n",
              "    </tr>\n",
              "    <tr>\n",
              "      <th>1</th>\n",
              "      <td>18</td>\n",
              "      <td>male</td>\n",
              "      <td>33.770</td>\n",
              "      <td>1</td>\n",
              "      <td>no</td>\n",
              "      <td>southeast</td>\n",
              "      <td>1725.55230</td>\n",
              "    </tr>\n",
              "    <tr>\n",
              "      <th>2</th>\n",
              "      <td>28</td>\n",
              "      <td>male</td>\n",
              "      <td>33.000</td>\n",
              "      <td>3</td>\n",
              "      <td>no</td>\n",
              "      <td>southeast</td>\n",
              "      <td>4449.46200</td>\n",
              "    </tr>\n",
              "    <tr>\n",
              "      <th>3</th>\n",
              "      <td>33</td>\n",
              "      <td>male</td>\n",
              "      <td>22.705</td>\n",
              "      <td>0</td>\n",
              "      <td>no</td>\n",
              "      <td>northwest</td>\n",
              "      <td>21984.47061</td>\n",
              "    </tr>\n",
              "    <tr>\n",
              "      <th>4</th>\n",
              "      <td>32</td>\n",
              "      <td>male</td>\n",
              "      <td>28.880</td>\n",
              "      <td>0</td>\n",
              "      <td>no</td>\n",
              "      <td>northwest</td>\n",
              "      <td>3866.85520</td>\n",
              "    </tr>\n",
              "    <tr>\n",
              "      <th>...</th>\n",
              "      <td>...</td>\n",
              "      <td>...</td>\n",
              "      <td>...</td>\n",
              "      <td>...</td>\n",
              "      <td>...</td>\n",
              "      <td>...</td>\n",
              "      <td>...</td>\n",
              "    </tr>\n",
              "    <tr>\n",
              "      <th>1333</th>\n",
              "      <td>50</td>\n",
              "      <td>male</td>\n",
              "      <td>30.970</td>\n",
              "      <td>3</td>\n",
              "      <td>no</td>\n",
              "      <td>northwest</td>\n",
              "      <td>10600.54830</td>\n",
              "    </tr>\n",
              "    <tr>\n",
              "      <th>1334</th>\n",
              "      <td>18</td>\n",
              "      <td>female</td>\n",
              "      <td>31.920</td>\n",
              "      <td>0</td>\n",
              "      <td>no</td>\n",
              "      <td>northeast</td>\n",
              "      <td>2205.98080</td>\n",
              "    </tr>\n",
              "    <tr>\n",
              "      <th>1335</th>\n",
              "      <td>18</td>\n",
              "      <td>female</td>\n",
              "      <td>36.850</td>\n",
              "      <td>0</td>\n",
              "      <td>no</td>\n",
              "      <td>southeast</td>\n",
              "      <td>1629.83350</td>\n",
              "    </tr>\n",
              "    <tr>\n",
              "      <th>1336</th>\n",
              "      <td>21</td>\n",
              "      <td>female</td>\n",
              "      <td>25.800</td>\n",
              "      <td>0</td>\n",
              "      <td>no</td>\n",
              "      <td>southwest</td>\n",
              "      <td>2007.94500</td>\n",
              "    </tr>\n",
              "    <tr>\n",
              "      <th>1337</th>\n",
              "      <td>61</td>\n",
              "      <td>female</td>\n",
              "      <td>29.070</td>\n",
              "      <td>0</td>\n",
              "      <td>yes</td>\n",
              "      <td>northwest</td>\n",
              "      <td>29141.36030</td>\n",
              "    </tr>\n",
              "  </tbody>\n",
              "</table>\n",
              "<p>1338 rows × 7 columns</p>\n",
              "</div>"
            ],
            "text/plain": [
              "      age     sex     bmi  children smoker     region      charges\n",
              "0      19  female  27.900         0    yes  southwest  16884.92400\n",
              "1      18    male  33.770         1     no  southeast   1725.55230\n",
              "2      28    male  33.000         3     no  southeast   4449.46200\n",
              "3      33    male  22.705         0     no  northwest  21984.47061\n",
              "4      32    male  28.880         0     no  northwest   3866.85520\n",
              "...   ...     ...     ...       ...    ...        ...          ...\n",
              "1333   50    male  30.970         3     no  northwest  10600.54830\n",
              "1334   18  female  31.920         0     no  northeast   2205.98080\n",
              "1335   18  female  36.850         0     no  southeast   1629.83350\n",
              "1336   21  female  25.800         0     no  southwest   2007.94500\n",
              "1337   61  female  29.070         0    yes  northwest  29141.36030\n",
              "\n",
              "[1338 rows x 7 columns]"
            ]
          },
          "metadata": {},
          "execution_count": 5
        }
      ]
    },
    {
      "cell_type": "code",
      "metadata": {
        "id": "_0JHpON52Dwp",
        "colab": {
          "base_uri": "https://localhost:8080/",
          "height": 204
        },
        "outputId": "fd24c727-f891-41c2-c331-996f128f254b"
      },
      "source": [
        "# Let's get our dataframe one hot encoded so it's all numbers\n",
        "insurance_one_hot = pd.get_dummies(insurance)\n",
        "insurance_one_hot.head()"
      ],
      "execution_count": 6,
      "outputs": [
        {
          "output_type": "execute_result",
          "data": {
            "text/html": [
              "<div>\n",
              "<style scoped>\n",
              "    .dataframe tbody tr th:only-of-type {\n",
              "        vertical-align: middle;\n",
              "    }\n",
              "\n",
              "    .dataframe tbody tr th {\n",
              "        vertical-align: top;\n",
              "    }\n",
              "\n",
              "    .dataframe thead th {\n",
              "        text-align: right;\n",
              "    }\n",
              "</style>\n",
              "<table border=\"1\" class=\"dataframe\">\n",
              "  <thead>\n",
              "    <tr style=\"text-align: right;\">\n",
              "      <th></th>\n",
              "      <th>age</th>\n",
              "      <th>bmi</th>\n",
              "      <th>children</th>\n",
              "      <th>charges</th>\n",
              "      <th>sex_female</th>\n",
              "      <th>sex_male</th>\n",
              "      <th>smoker_no</th>\n",
              "      <th>smoker_yes</th>\n",
              "      <th>region_northeast</th>\n",
              "      <th>region_northwest</th>\n",
              "      <th>region_southeast</th>\n",
              "      <th>region_southwest</th>\n",
              "    </tr>\n",
              "  </thead>\n",
              "  <tbody>\n",
              "    <tr>\n",
              "      <th>0</th>\n",
              "      <td>19</td>\n",
              "      <td>27.900</td>\n",
              "      <td>0</td>\n",
              "      <td>16884.92400</td>\n",
              "      <td>1</td>\n",
              "      <td>0</td>\n",
              "      <td>0</td>\n",
              "      <td>1</td>\n",
              "      <td>0</td>\n",
              "      <td>0</td>\n",
              "      <td>0</td>\n",
              "      <td>1</td>\n",
              "    </tr>\n",
              "    <tr>\n",
              "      <th>1</th>\n",
              "      <td>18</td>\n",
              "      <td>33.770</td>\n",
              "      <td>1</td>\n",
              "      <td>1725.55230</td>\n",
              "      <td>0</td>\n",
              "      <td>1</td>\n",
              "      <td>1</td>\n",
              "      <td>0</td>\n",
              "      <td>0</td>\n",
              "      <td>0</td>\n",
              "      <td>1</td>\n",
              "      <td>0</td>\n",
              "    </tr>\n",
              "    <tr>\n",
              "      <th>2</th>\n",
              "      <td>28</td>\n",
              "      <td>33.000</td>\n",
              "      <td>3</td>\n",
              "      <td>4449.46200</td>\n",
              "      <td>0</td>\n",
              "      <td>1</td>\n",
              "      <td>1</td>\n",
              "      <td>0</td>\n",
              "      <td>0</td>\n",
              "      <td>0</td>\n",
              "      <td>1</td>\n",
              "      <td>0</td>\n",
              "    </tr>\n",
              "    <tr>\n",
              "      <th>3</th>\n",
              "      <td>33</td>\n",
              "      <td>22.705</td>\n",
              "      <td>0</td>\n",
              "      <td>21984.47061</td>\n",
              "      <td>0</td>\n",
              "      <td>1</td>\n",
              "      <td>1</td>\n",
              "      <td>0</td>\n",
              "      <td>0</td>\n",
              "      <td>1</td>\n",
              "      <td>0</td>\n",
              "      <td>0</td>\n",
              "    </tr>\n",
              "    <tr>\n",
              "      <th>4</th>\n",
              "      <td>32</td>\n",
              "      <td>28.880</td>\n",
              "      <td>0</td>\n",
              "      <td>3866.85520</td>\n",
              "      <td>0</td>\n",
              "      <td>1</td>\n",
              "      <td>1</td>\n",
              "      <td>0</td>\n",
              "      <td>0</td>\n",
              "      <td>1</td>\n",
              "      <td>0</td>\n",
              "      <td>0</td>\n",
              "    </tr>\n",
              "  </tbody>\n",
              "</table>\n",
              "</div>"
            ],
            "text/plain": [
              "   age     bmi  children  ...  region_northwest  region_southeast  region_southwest\n",
              "0   19  27.900         0  ...                 0                 0                 1\n",
              "1   18  33.770         1  ...                 0                 1                 0\n",
              "2   28  33.000         3  ...                 0                 1                 0\n",
              "3   33  22.705         0  ...                 1                 0                 0\n",
              "4   32  28.880         0  ...                 1                 0                 0\n",
              "\n",
              "[5 rows x 12 columns]"
            ]
          },
          "metadata": {},
          "execution_count": 6
        }
      ]
    },
    {
      "cell_type": "code",
      "metadata": {
        "id": "wm4XWxqWDuAm",
        "colab": {
          "base_uri": "https://localhost:8080/",
          "height": 204
        },
        "outputId": "270a1dde-6df9-4638-ce57-4a244e59234e"
      },
      "source": [
        "X = insurance_one_hot.drop(\"charges\", axis=1)\n",
        "X.head()"
      ],
      "execution_count": 7,
      "outputs": [
        {
          "output_type": "execute_result",
          "data": {
            "text/html": [
              "<div>\n",
              "<style scoped>\n",
              "    .dataframe tbody tr th:only-of-type {\n",
              "        vertical-align: middle;\n",
              "    }\n",
              "\n",
              "    .dataframe tbody tr th {\n",
              "        vertical-align: top;\n",
              "    }\n",
              "\n",
              "    .dataframe thead th {\n",
              "        text-align: right;\n",
              "    }\n",
              "</style>\n",
              "<table border=\"1\" class=\"dataframe\">\n",
              "  <thead>\n",
              "    <tr style=\"text-align: right;\">\n",
              "      <th></th>\n",
              "      <th>age</th>\n",
              "      <th>bmi</th>\n",
              "      <th>children</th>\n",
              "      <th>sex_female</th>\n",
              "      <th>sex_male</th>\n",
              "      <th>smoker_no</th>\n",
              "      <th>smoker_yes</th>\n",
              "      <th>region_northeast</th>\n",
              "      <th>region_northwest</th>\n",
              "      <th>region_southeast</th>\n",
              "      <th>region_southwest</th>\n",
              "    </tr>\n",
              "  </thead>\n",
              "  <tbody>\n",
              "    <tr>\n",
              "      <th>0</th>\n",
              "      <td>19</td>\n",
              "      <td>27.900</td>\n",
              "      <td>0</td>\n",
              "      <td>1</td>\n",
              "      <td>0</td>\n",
              "      <td>0</td>\n",
              "      <td>1</td>\n",
              "      <td>0</td>\n",
              "      <td>0</td>\n",
              "      <td>0</td>\n",
              "      <td>1</td>\n",
              "    </tr>\n",
              "    <tr>\n",
              "      <th>1</th>\n",
              "      <td>18</td>\n",
              "      <td>33.770</td>\n",
              "      <td>1</td>\n",
              "      <td>0</td>\n",
              "      <td>1</td>\n",
              "      <td>1</td>\n",
              "      <td>0</td>\n",
              "      <td>0</td>\n",
              "      <td>0</td>\n",
              "      <td>1</td>\n",
              "      <td>0</td>\n",
              "    </tr>\n",
              "    <tr>\n",
              "      <th>2</th>\n",
              "      <td>28</td>\n",
              "      <td>33.000</td>\n",
              "      <td>3</td>\n",
              "      <td>0</td>\n",
              "      <td>1</td>\n",
              "      <td>1</td>\n",
              "      <td>0</td>\n",
              "      <td>0</td>\n",
              "      <td>0</td>\n",
              "      <td>1</td>\n",
              "      <td>0</td>\n",
              "    </tr>\n",
              "    <tr>\n",
              "      <th>3</th>\n",
              "      <td>33</td>\n",
              "      <td>22.705</td>\n",
              "      <td>0</td>\n",
              "      <td>0</td>\n",
              "      <td>1</td>\n",
              "      <td>1</td>\n",
              "      <td>0</td>\n",
              "      <td>0</td>\n",
              "      <td>1</td>\n",
              "      <td>0</td>\n",
              "      <td>0</td>\n",
              "    </tr>\n",
              "    <tr>\n",
              "      <th>4</th>\n",
              "      <td>32</td>\n",
              "      <td>28.880</td>\n",
              "      <td>0</td>\n",
              "      <td>0</td>\n",
              "      <td>1</td>\n",
              "      <td>1</td>\n",
              "      <td>0</td>\n",
              "      <td>0</td>\n",
              "      <td>1</td>\n",
              "      <td>0</td>\n",
              "      <td>0</td>\n",
              "    </tr>\n",
              "  </tbody>\n",
              "</table>\n",
              "</div>"
            ],
            "text/plain": [
              "   age     bmi  children  ...  region_northwest  region_southeast  region_southwest\n",
              "0   19  27.900         0  ...                 0                 0                 1\n",
              "1   18  33.770         1  ...                 0                 1                 0\n",
              "2   28  33.000         3  ...                 0                 1                 0\n",
              "3   33  22.705         0  ...                 1                 0                 0\n",
              "4   32  28.880         0  ...                 1                 0                 0\n",
              "\n",
              "[5 rows x 11 columns]"
            ]
          },
          "metadata": {},
          "execution_count": 7
        }
      ]
    },
    {
      "cell_type": "code",
      "metadata": {
        "id": "CBXaIyoaIjSQ",
        "colab": {
          "base_uri": "https://localhost:8080/"
        },
        "outputId": "89857a21-e61c-42ee-fc6a-88b2ebc71ad2"
      },
      "source": [
        "y = insurance_one_hot['charges']\n",
        "y.head()"
      ],
      "execution_count": 8,
      "outputs": [
        {
          "output_type": "execute_result",
          "data": {
            "text/plain": [
              "0    16884.92400\n",
              "1     1725.55230\n",
              "2     4449.46200\n",
              "3    21984.47061\n",
              "4     3866.85520\n",
              "Name: charges, dtype: float64"
            ]
          },
          "metadata": {},
          "execution_count": 8
        }
      ]
    },
    {
      "cell_type": "code",
      "metadata": {
        "id": "Gdz79qlPIx4o"
      },
      "source": [
        "# Creating training and test sets\n",
        "from sklearn.model_selection import train_test_split\n",
        "X_train, X_test, y_train, y_test = train_test_split(X, y, test_size=0.2, random_state=42)"
      ],
      "execution_count": 9,
      "outputs": []
    },
    {
      "cell_type": "code",
      "metadata": {
        "id": "j-YF2oTrJ8hi",
        "colab": {
          "base_uri": "https://localhost:8080/"
        },
        "outputId": "59c1cea3-b896-417a-f4e3-6d51f71d7d42"
      },
      "source": [
        "# Build the model\n",
        "tf.random.set_seed(42)\n",
        "model = tf.keras.Sequential([\n",
        "                             tf.keras.layers.Dense(10),\n",
        "                             tf.keras.layers.Dense(1)\n",
        "])\n",
        "model.compile(loss=tf.keras.losses.mae,\n",
        "              optimizer=tf.keras.optimizers.SGD(),\n",
        "              metrics=[\"mae\"])\n",
        "model.fit(X_train, y_train, epochs=100)"
      ],
      "execution_count": 10,
      "outputs": [
        {
          "output_type": "stream",
          "name": "stdout",
          "text": [
            "Epoch 1/100\n",
            "34/34 [==============================] - 1s 2ms/step - loss: 8637.1006 - mae: 8637.1006\n",
            "Epoch 2/100\n",
            "34/34 [==============================] - 0s 1ms/step - loss: 7886.7759 - mae: 7886.7759\n",
            "Epoch 3/100\n",
            "34/34 [==============================] - 0s 1ms/step - loss: 7558.1470 - mae: 7558.1470\n",
            "Epoch 4/100\n",
            "34/34 [==============================] - 0s 2ms/step - loss: 7792.0220 - mae: 7792.0220\n",
            "Epoch 5/100\n",
            "34/34 [==============================] - 0s 2ms/step - loss: 7748.3887 - mae: 7748.3887\n",
            "Epoch 6/100\n",
            "34/34 [==============================] - 0s 2ms/step - loss: 7595.3940 - mae: 7595.3940\n",
            "Epoch 7/100\n",
            "34/34 [==============================] - 0s 1ms/step - loss: 7589.9844 - mae: 7589.9844\n",
            "Epoch 8/100\n",
            "34/34 [==============================] - 0s 1ms/step - loss: 7698.5576 - mae: 7698.5576\n",
            "Epoch 9/100\n",
            "34/34 [==============================] - 0s 2ms/step - loss: 7496.7778 - mae: 7496.7778\n",
            "Epoch 10/100\n",
            "34/34 [==============================] - 0s 1ms/step - loss: 7493.1743 - mae: 7493.1743\n",
            "Epoch 11/100\n",
            "34/34 [==============================] - 0s 1ms/step - loss: 7769.7295 - mae: 7769.7295\n",
            "Epoch 12/100\n",
            "34/34 [==============================] - 0s 1ms/step - loss: 7706.9028 - mae: 7706.9028\n",
            "Epoch 13/100\n",
            "34/34 [==============================] - 0s 1ms/step - loss: 7687.7231 - mae: 7687.7231\n",
            "Epoch 14/100\n",
            "34/34 [==============================] - 0s 1ms/step - loss: 7689.9004 - mae: 7689.9004\n",
            "Epoch 15/100\n",
            "34/34 [==============================] - 0s 1ms/step - loss: 7393.5327 - mae: 7393.5327\n",
            "Epoch 16/100\n",
            "34/34 [==============================] - 0s 1ms/step - loss: 7780.6987 - mae: 7780.6987\n",
            "Epoch 17/100\n",
            "34/34 [==============================] - 0s 1ms/step - loss: 7578.5098 - mae: 7578.5098\n",
            "Epoch 18/100\n",
            "34/34 [==============================] - 0s 1ms/step - loss: 7750.8354 - mae: 7750.8354\n",
            "Epoch 19/100\n",
            "34/34 [==============================] - 0s 1ms/step - loss: 7739.2144 - mae: 7739.2144\n",
            "Epoch 20/100\n",
            "34/34 [==============================] - 0s 1ms/step - loss: 7875.0654 - mae: 7875.0654\n",
            "Epoch 21/100\n",
            "34/34 [==============================] - 0s 2ms/step - loss: 7466.6768 - mae: 7466.6768\n",
            "Epoch 22/100\n",
            "34/34 [==============================] - 0s 2ms/step - loss: 7941.2329 - mae: 7941.2329\n",
            "Epoch 23/100\n",
            "34/34 [==============================] - 0s 1ms/step - loss: 7640.2725 - mae: 7640.2725\n",
            "Epoch 24/100\n",
            "34/34 [==============================] - 0s 1ms/step - loss: 7539.2671 - mae: 7539.2671\n",
            "Epoch 25/100\n",
            "34/34 [==============================] - 0s 1ms/step - loss: 7619.9653 - mae: 7619.9653\n",
            "Epoch 26/100\n",
            "34/34 [==============================] - 0s 1ms/step - loss: 7644.1719 - mae: 7644.1719\n",
            "Epoch 27/100\n",
            "34/34 [==============================] - 0s 1ms/step - loss: 7709.0371 - mae: 7709.0371\n",
            "Epoch 28/100\n",
            "34/34 [==============================] - 0s 1ms/step - loss: 7366.8662 - mae: 7366.8662\n",
            "Epoch 29/100\n",
            "34/34 [==============================] - 0s 1ms/step - loss: 7444.3154 - mae: 7444.3154\n",
            "Epoch 30/100\n",
            "34/34 [==============================] - 0s 1ms/step - loss: 7616.4077 - mae: 7616.4077\n",
            "Epoch 31/100\n",
            "34/34 [==============================] - 0s 1ms/step - loss: 7686.3853 - mae: 7686.3853\n",
            "Epoch 32/100\n",
            "34/34 [==============================] - 0s 1ms/step - loss: 7548.0977 - mae: 7548.0977\n",
            "Epoch 33/100\n",
            "34/34 [==============================] - 0s 2ms/step - loss: 7501.5532 - mae: 7501.5532\n",
            "Epoch 34/100\n",
            "34/34 [==============================] - 0s 2ms/step - loss: 7363.4160 - mae: 7363.4160\n",
            "Epoch 35/100\n",
            "34/34 [==============================] - 0s 1ms/step - loss: 7295.4478 - mae: 7295.4478\n",
            "Epoch 36/100\n",
            "34/34 [==============================] - 0s 2ms/step - loss: 7569.8813 - mae: 7569.8813\n",
            "Epoch 37/100\n",
            "34/34 [==============================] - 0s 1ms/step - loss: 7548.1997 - mae: 7548.1997\n",
            "Epoch 38/100\n",
            "34/34 [==============================] - 0s 2ms/step - loss: 7424.3975 - mae: 7424.3975\n",
            "Epoch 39/100\n",
            "34/34 [==============================] - 0s 2ms/step - loss: 7529.7734 - mae: 7529.7734\n",
            "Epoch 40/100\n",
            "34/34 [==============================] - 0s 1ms/step - loss: 7467.3232 - mae: 7467.3232\n",
            "Epoch 41/100\n",
            "34/34 [==============================] - 0s 1ms/step - loss: 7635.9292 - mae: 7635.9292\n",
            "Epoch 42/100\n",
            "34/34 [==============================] - 0s 2ms/step - loss: 7536.8398 - mae: 7536.8398\n",
            "Epoch 43/100\n",
            "34/34 [==============================] - 0s 1ms/step - loss: 7616.5859 - mae: 7616.5859\n",
            "Epoch 44/100\n",
            "34/34 [==============================] - 0s 1ms/step - loss: 7439.4941 - mae: 7439.4941\n",
            "Epoch 45/100\n",
            "34/34 [==============================] - 0s 1ms/step - loss: 7538.0151 - mae: 7538.0151\n",
            "Epoch 46/100\n",
            "34/34 [==============================] - 0s 1ms/step - loss: 7415.1470 - mae: 7415.1470\n",
            "Epoch 47/100\n",
            "34/34 [==============================] - 0s 1ms/step - loss: 7420.6938 - mae: 7420.6938\n",
            "Epoch 48/100\n",
            "34/34 [==============================] - 0s 1ms/step - loss: 7509.9839 - mae: 7509.9839\n",
            "Epoch 49/100\n",
            "34/34 [==============================] - 0s 1ms/step - loss: 7541.1133 - mae: 7541.1133\n",
            "Epoch 50/100\n",
            "34/34 [==============================] - 0s 1ms/step - loss: 7467.8643 - mae: 7467.8643\n",
            "Epoch 51/100\n",
            "34/34 [==============================] - 0s 1ms/step - loss: 7389.3560 - mae: 7389.3560\n",
            "Epoch 52/100\n",
            "34/34 [==============================] - 0s 1ms/step - loss: 7499.7749 - mae: 7499.7749\n",
            "Epoch 53/100\n",
            "34/34 [==============================] - 0s 1ms/step - loss: 7523.9282 - mae: 7523.9282\n",
            "Epoch 54/100\n",
            "34/34 [==============================] - 0s 1ms/step - loss: 7243.3115 - mae: 7243.3115\n",
            "Epoch 55/100\n",
            "34/34 [==============================] - 0s 1ms/step - loss: 7429.5864 - mae: 7429.5864\n",
            "Epoch 56/100\n",
            "34/34 [==============================] - 0s 1ms/step - loss: 7313.3999 - mae: 7313.3999\n",
            "Epoch 57/100\n",
            "34/34 [==============================] - 0s 2ms/step - loss: 7526.3877 - mae: 7526.3877\n",
            "Epoch 58/100\n",
            "34/34 [==============================] - 0s 2ms/step - loss: 7542.2666 - mae: 7542.2666\n",
            "Epoch 59/100\n",
            "34/34 [==============================] - 0s 1ms/step - loss: 7576.9277 - mae: 7576.9277\n",
            "Epoch 60/100\n",
            "34/34 [==============================] - 0s 2ms/step - loss: 7546.4048 - mae: 7546.4048\n",
            "Epoch 61/100\n",
            "34/34 [==============================] - 0s 1ms/step - loss: 7351.2261 - mae: 7351.2261\n",
            "Epoch 62/100\n",
            "34/34 [==============================] - 0s 2ms/step - loss: 7302.1436 - mae: 7302.1436\n",
            "Epoch 63/100\n",
            "34/34 [==============================] - 0s 2ms/step - loss: 7393.0879 - mae: 7393.0879\n",
            "Epoch 64/100\n",
            "34/34 [==============================] - 0s 1ms/step - loss: 7442.2881 - mae: 7442.2881\n",
            "Epoch 65/100\n",
            "34/34 [==============================] - 0s 1ms/step - loss: 7492.6782 - mae: 7492.6782\n",
            "Epoch 66/100\n",
            "34/34 [==============================] - 0s 1ms/step - loss: 7561.9165 - mae: 7561.9165\n",
            "Epoch 67/100\n",
            "34/34 [==============================] - 0s 2ms/step - loss: 7340.5137 - mae: 7340.5137\n",
            "Epoch 68/100\n",
            "34/34 [==============================] - 0s 1ms/step - loss: 7496.0845 - mae: 7496.0845\n",
            "Epoch 69/100\n",
            "34/34 [==============================] - 0s 1ms/step - loss: 7617.0303 - mae: 7617.0303\n",
            "Epoch 70/100\n",
            "34/34 [==============================] - 0s 1ms/step - loss: 7641.1948 - mae: 7641.1948\n",
            "Epoch 71/100\n",
            "34/34 [==============================] - 0s 1ms/step - loss: 7084.2744 - mae: 7084.2744\n",
            "Epoch 72/100\n",
            "34/34 [==============================] - 0s 2ms/step - loss: 7240.4902 - mae: 7240.4902\n",
            "Epoch 73/100\n",
            "34/34 [==============================] - 0s 2ms/step - loss: 7283.4888 - mae: 7283.4888\n",
            "Epoch 74/100\n",
            "34/34 [==============================] - 0s 2ms/step - loss: 7335.5083 - mae: 7335.5083\n",
            "Epoch 75/100\n",
            "34/34 [==============================] - 0s 1ms/step - loss: 7275.6392 - mae: 7275.6392\n",
            "Epoch 76/100\n",
            "34/34 [==============================] - 0s 1ms/step - loss: 7313.1860 - mae: 7313.1860\n",
            "Epoch 77/100\n",
            "34/34 [==============================] - 0s 1ms/step - loss: 7485.7588 - mae: 7485.7588\n",
            "Epoch 78/100\n",
            "34/34 [==============================] - 0s 1ms/step - loss: 7352.2803 - mae: 7352.2803\n",
            "Epoch 79/100\n",
            "34/34 [==============================] - 0s 1ms/step - loss: 7520.5703 - mae: 7520.5703\n",
            "Epoch 80/100\n",
            "34/34 [==============================] - 0s 1ms/step - loss: 7279.3779 - mae: 7279.3779\n",
            "Epoch 81/100\n",
            "34/34 [==============================] - 0s 2ms/step - loss: 7273.8477 - mae: 7273.8477\n",
            "Epoch 82/100\n",
            "34/34 [==============================] - 0s 1ms/step - loss: 7176.5215 - mae: 7176.5215\n",
            "Epoch 83/100\n",
            "34/34 [==============================] - 0s 2ms/step - loss: 7425.6289 - mae: 7425.6289\n",
            "Epoch 84/100\n",
            "34/34 [==============================] - 0s 1ms/step - loss: 7403.1294 - mae: 7403.1294\n",
            "Epoch 85/100\n",
            "34/34 [==============================] - 0s 1ms/step - loss: 7356.0088 - mae: 7356.0088\n",
            "Epoch 86/100\n",
            "34/34 [==============================] - 0s 1ms/step - loss: 7484.7271 - mae: 7484.7271\n",
            "Epoch 87/100\n",
            "34/34 [==============================] - 0s 1ms/step - loss: 7217.6074 - mae: 7217.6074\n",
            "Epoch 88/100\n",
            "34/34 [==============================] - 0s 2ms/step - loss: 7261.0000 - mae: 7261.0000\n",
            "Epoch 89/100\n",
            "34/34 [==============================] - 0s 1ms/step - loss: 7134.1562 - mae: 7134.1562\n",
            "Epoch 90/100\n",
            "34/34 [==============================] - 0s 1ms/step - loss: 7083.4360 - mae: 7083.4360\n",
            "Epoch 91/100\n",
            "34/34 [==============================] - 0s 2ms/step - loss: 7254.1782 - mae: 7254.1782\n",
            "Epoch 92/100\n",
            "34/34 [==============================] - 0s 1ms/step - loss: 7268.7456 - mae: 7268.7456\n",
            "Epoch 93/100\n",
            "34/34 [==============================] - 0s 1ms/step - loss: 7470.5220 - mae: 7470.5220\n",
            "Epoch 94/100\n",
            "34/34 [==============================] - 0s 2ms/step - loss: 7210.9536 - mae: 7210.9536\n",
            "Epoch 95/100\n",
            "34/34 [==============================] - 0s 1ms/step - loss: 7395.6816 - mae: 7395.6816\n",
            "Epoch 96/100\n",
            "34/34 [==============================] - 0s 1ms/step - loss: 7328.0884 - mae: 7328.0884\n",
            "Epoch 97/100\n",
            "34/34 [==============================] - 0s 1ms/step - loss: 7230.4380 - mae: 7230.4380\n",
            "Epoch 98/100\n",
            "34/34 [==============================] - 0s 1ms/step - loss: 7261.3936 - mae: 7261.3936\n",
            "Epoch 99/100\n",
            "34/34 [==============================] - 0s 1ms/step - loss: 7342.5684 - mae: 7342.5684\n",
            "Epoch 100/100\n",
            "34/34 [==============================] - 0s 1ms/step - loss: 7106.1714 - mae: 7106.1714\n"
          ]
        },
        {
          "output_type": "execute_result",
          "data": {
            "text/plain": [
              "<keras.callbacks.History at 0x7ff004a942d0>"
            ]
          },
          "metadata": {},
          "execution_count": 10
        }
      ]
    },
    {
      "cell_type": "code",
      "metadata": {
        "id": "sSTAvu4uZ0Xj",
        "colab": {
          "base_uri": "https://localhost:8080/"
        },
        "outputId": "619a5046-a6bc-4aa0-f525-445dde3968a5"
      },
      "source": [
        "# Check the results of the model in test data\n",
        "model.evaluate(X_test,y_test)"
      ],
      "execution_count": 11,
      "outputs": [
        {
          "output_type": "stream",
          "name": "stdout",
          "text": [
            "9/9 [==============================] - 0s 2ms/step - loss: 7023.3291 - mae: 7023.3291\n"
          ]
        },
        {
          "output_type": "execute_result",
          "data": {
            "text/plain": [
              "[7023.3291015625, 7023.3291015625]"
            ]
          },
          "metadata": {},
          "execution_count": 11
        }
      ]
    },
    {
      "cell_type": "markdown",
      "metadata": {
        "id": "-ADZRCXKa9Oo"
      },
      "source": [
        "Right now our model is not performing too well. Let's try and improve it!"
      ]
    },
    {
      "cell_type": "markdown",
      "metadata": {
        "id": "0x20Z6q1bfnV"
      },
      "source": [
        "To (try) improve our model, we will run 2 experiments:\n",
        "1. Add an extra layer with more hidden units\n",
        "2. Train for longer"
      ]
    },
    {
      "cell_type": "code",
      "metadata": {
        "colab": {
          "base_uri": "https://localhost:8080/"
        },
        "id": "-t-a1Bp3Y2Ee",
        "outputId": "9460c7cc-7b06-4cbf-fc93-923082aa4c05"
      },
      "source": [
        "# Set random seed\n",
        "tf.random.set_seed(42)\n",
        "\n",
        "model_2 = tf.keras.Sequential([\n",
        "                             tf.keras.layers.Dense(100),\n",
        "                             tf.keras.layers.Dense(10),\n",
        "                             tf.keras.layers.Dense(1)\n",
        "])\n",
        "\n",
        "model_2.compile(loss=tf.keras.losses.mae,\n",
        "              optimizer= tf.keras.optimizers.Adam(),\n",
        "              metrics=[\"mae\"])\n",
        "model_2.fit(X_train, y_train, epochs=100)"
      ],
      "execution_count": 12,
      "outputs": [
        {
          "output_type": "stream",
          "name": "stdout",
          "text": [
            "Epoch 1/100\n",
            "34/34 [==============================] - 0s 2ms/step - loss: 13273.1602 - mae: 13273.1602\n",
            "Epoch 2/100\n",
            "34/34 [==============================] - 0s 2ms/step - loss: 13104.4297 - mae: 13104.4297\n",
            "Epoch 3/100\n",
            "34/34 [==============================] - 0s 2ms/step - loss: 12749.5420 - mae: 12749.5420\n",
            "Epoch 4/100\n",
            "34/34 [==============================] - 0s 2ms/step - loss: 12055.7510 - mae: 12055.7510\n",
            "Epoch 5/100\n",
            "34/34 [==============================] - 0s 2ms/step - loss: 10905.8154 - mae: 10905.8154\n",
            "Epoch 6/100\n",
            "34/34 [==============================] - 0s 2ms/step - loss: 9457.7217 - mae: 9457.7217\n",
            "Epoch 7/100\n",
            "34/34 [==============================] - 0s 2ms/step - loss: 8147.6543 - mae: 8147.6543\n",
            "Epoch 8/100\n",
            "34/34 [==============================] - 0s 2ms/step - loss: 7528.8408 - mae: 7528.8408\n",
            "Epoch 9/100\n",
            "34/34 [==============================] - 0s 2ms/step - loss: 7429.1528 - mae: 7429.1528\n",
            "Epoch 10/100\n",
            "34/34 [==============================] - 0s 2ms/step - loss: 7409.0811 - mae: 7409.0811\n",
            "Epoch 11/100\n",
            "34/34 [==============================] - 0s 2ms/step - loss: 7390.8042 - mae: 7390.8042\n",
            "Epoch 12/100\n",
            "34/34 [==============================] - 0s 2ms/step - loss: 7368.9180 - mae: 7368.9180\n",
            "Epoch 13/100\n",
            "34/34 [==============================] - 0s 2ms/step - loss: 7348.5195 - mae: 7348.5195\n",
            "Epoch 14/100\n",
            "34/34 [==============================] - 0s 2ms/step - loss: 7326.4893 - mae: 7326.4893\n",
            "Epoch 15/100\n",
            "34/34 [==============================] - 0s 2ms/step - loss: 7307.5815 - mae: 7307.5815\n",
            "Epoch 16/100\n",
            "34/34 [==============================] - 0s 2ms/step - loss: 7285.7734 - mae: 7285.7734\n",
            "Epoch 17/100\n",
            "34/34 [==============================] - 0s 2ms/step - loss: 7265.7104 - mae: 7265.7104\n",
            "Epoch 18/100\n",
            "34/34 [==============================] - 0s 2ms/step - loss: 7242.5488 - mae: 7242.5488\n",
            "Epoch 19/100\n",
            "34/34 [==============================] - 0s 2ms/step - loss: 7220.5068 - mae: 7220.5068\n",
            "Epoch 20/100\n",
            "34/34 [==============================] - 0s 2ms/step - loss: 7197.1978 - mae: 7197.1978\n",
            "Epoch 21/100\n",
            "34/34 [==============================] - 0s 2ms/step - loss: 7179.0195 - mae: 7179.0195\n",
            "Epoch 22/100\n",
            "34/34 [==============================] - 0s 2ms/step - loss: 7151.2104 - mae: 7151.2104\n",
            "Epoch 23/100\n",
            "34/34 [==============================] - 0s 2ms/step - loss: 7126.4639 - mae: 7126.4639\n",
            "Epoch 24/100\n",
            "34/34 [==============================] - 0s 2ms/step - loss: 7101.9199 - mae: 7101.9199\n",
            "Epoch 25/100\n",
            "34/34 [==============================] - 0s 2ms/step - loss: 7084.3379 - mae: 7084.3379\n",
            "Epoch 26/100\n",
            "34/34 [==============================] - 0s 2ms/step - loss: 7052.3291 - mae: 7052.3291\n",
            "Epoch 27/100\n",
            "34/34 [==============================] - 0s 2ms/step - loss: 7024.3501 - mae: 7024.3501\n",
            "Epoch 28/100\n",
            "34/34 [==============================] - 0s 2ms/step - loss: 6996.6963 - mae: 6996.6963\n",
            "Epoch 29/100\n",
            "34/34 [==============================] - 0s 2ms/step - loss: 6969.0112 - mae: 6969.0112\n",
            "Epoch 30/100\n",
            "34/34 [==============================] - 0s 2ms/step - loss: 6942.1899 - mae: 6942.1899\n",
            "Epoch 31/100\n",
            "34/34 [==============================] - 0s 2ms/step - loss: 6911.7280 - mae: 6911.7280\n",
            "Epoch 32/100\n",
            "34/34 [==============================] - 0s 2ms/step - loss: 6884.0205 - mae: 6884.0205\n",
            "Epoch 33/100\n",
            "34/34 [==============================] - 0s 2ms/step - loss: 6853.4648 - mae: 6853.4648\n",
            "Epoch 34/100\n",
            "34/34 [==============================] - 0s 2ms/step - loss: 6823.0674 - mae: 6823.0674\n",
            "Epoch 35/100\n",
            "34/34 [==============================] - 0s 2ms/step - loss: 6789.6855 - mae: 6789.6855\n",
            "Epoch 36/100\n",
            "34/34 [==============================] - 0s 2ms/step - loss: 6755.7646 - mae: 6755.7646\n",
            "Epoch 37/100\n",
            "34/34 [==============================] - 0s 2ms/step - loss: 6720.2026 - mae: 6720.2026\n",
            "Epoch 38/100\n",
            "34/34 [==============================] - 0s 2ms/step - loss: 6689.7158 - mae: 6689.7158\n",
            "Epoch 39/100\n",
            "34/34 [==============================] - 0s 2ms/step - loss: 6652.4614 - mae: 6652.4614\n",
            "Epoch 40/100\n",
            "34/34 [==============================] - 0s 2ms/step - loss: 6618.1006 - mae: 6618.1006\n",
            "Epoch 41/100\n",
            "34/34 [==============================] - 0s 2ms/step - loss: 6585.8643 - mae: 6585.8643\n",
            "Epoch 42/100\n",
            "34/34 [==============================] - 0s 2ms/step - loss: 6559.4956 - mae: 6559.4956\n",
            "Epoch 43/100\n",
            "34/34 [==============================] - 0s 2ms/step - loss: 6530.0444 - mae: 6530.0444\n",
            "Epoch 44/100\n",
            "34/34 [==============================] - 0s 2ms/step - loss: 6506.8071 - mae: 6506.8071\n",
            "Epoch 45/100\n",
            "34/34 [==============================] - 0s 2ms/step - loss: 6493.5718 - mae: 6493.5718\n",
            "Epoch 46/100\n",
            "34/34 [==============================] - 0s 2ms/step - loss: 6475.9258 - mae: 6475.9258\n",
            "Epoch 47/100\n",
            "34/34 [==============================] - 0s 2ms/step - loss: 6458.8979 - mae: 6458.8979\n",
            "Epoch 48/100\n",
            "34/34 [==============================] - 0s 2ms/step - loss: 6445.1494 - mae: 6445.1494\n",
            "Epoch 49/100\n",
            "34/34 [==============================] - 0s 2ms/step - loss: 6430.9639 - mae: 6430.9639\n",
            "Epoch 50/100\n",
            "34/34 [==============================] - 0s 2ms/step - loss: 6417.7510 - mae: 6417.7510\n",
            "Epoch 51/100\n",
            "34/34 [==============================] - 0s 2ms/step - loss: 6403.2759 - mae: 6403.2759\n",
            "Epoch 52/100\n",
            "34/34 [==============================] - 0s 2ms/step - loss: 6392.4141 - mae: 6392.4141\n",
            "Epoch 53/100\n",
            "34/34 [==============================] - 0s 2ms/step - loss: 6378.7451 - mae: 6378.7451\n",
            "Epoch 54/100\n",
            "34/34 [==============================] - 0s 2ms/step - loss: 6364.9131 - mae: 6364.9131\n",
            "Epoch 55/100\n",
            "34/34 [==============================] - 0s 2ms/step - loss: 6351.5269 - mae: 6351.5269\n",
            "Epoch 56/100\n",
            "34/34 [==============================] - 0s 2ms/step - loss: 6337.6602 - mae: 6337.6602\n",
            "Epoch 57/100\n",
            "34/34 [==============================] - 0s 2ms/step - loss: 6324.8369 - mae: 6324.8369\n",
            "Epoch 58/100\n",
            "34/34 [==============================] - 0s 2ms/step - loss: 6310.1948 - mae: 6310.1948\n",
            "Epoch 59/100\n",
            "34/34 [==============================] - 0s 2ms/step - loss: 6295.6035 - mae: 6295.6035\n",
            "Epoch 60/100\n",
            "34/34 [==============================] - 0s 2ms/step - loss: 6284.8696 - mae: 6284.8696\n",
            "Epoch 61/100\n",
            "34/34 [==============================] - 0s 2ms/step - loss: 6265.6411 - mae: 6265.6411\n",
            "Epoch 62/100\n",
            "34/34 [==============================] - 0s 2ms/step - loss: 6253.0103 - mae: 6253.0103\n",
            "Epoch 63/100\n",
            "34/34 [==============================] - 0s 2ms/step - loss: 6234.9292 - mae: 6234.9292\n",
            "Epoch 64/100\n",
            "34/34 [==============================] - 0s 2ms/step - loss: 6218.0430 - mae: 6218.0430\n",
            "Epoch 65/100\n",
            "34/34 [==============================] - 0s 2ms/step - loss: 6201.1899 - mae: 6201.1899\n",
            "Epoch 66/100\n",
            "34/34 [==============================] - 0s 2ms/step - loss: 6183.9590 - mae: 6183.9590\n",
            "Epoch 67/100\n",
            "34/34 [==============================] - 0s 2ms/step - loss: 6171.2993 - mae: 6171.2993\n",
            "Epoch 68/100\n",
            "34/34 [==============================] - 0s 2ms/step - loss: 6148.8398 - mae: 6148.8398\n",
            "Epoch 69/100\n",
            "34/34 [==============================] - 0s 2ms/step - loss: 6132.5981 - mae: 6132.5981\n",
            "Epoch 70/100\n",
            "34/34 [==============================] - 0s 2ms/step - loss: 6112.3848 - mae: 6112.3848\n",
            "Epoch 71/100\n",
            "34/34 [==============================] - 0s 2ms/step - loss: 6092.7202 - mae: 6092.7202\n",
            "Epoch 72/100\n",
            "34/34 [==============================] - 0s 2ms/step - loss: 6073.7422 - mae: 6073.7422\n",
            "Epoch 73/100\n",
            "34/34 [==============================] - 0s 2ms/step - loss: 6059.4873 - mae: 6059.4873\n",
            "Epoch 74/100\n",
            "34/34 [==============================] - 0s 2ms/step - loss: 6031.3848 - mae: 6031.3848\n",
            "Epoch 75/100\n",
            "34/34 [==============================] - 0s 2ms/step - loss: 6010.3350 - mae: 6010.3350\n",
            "Epoch 76/100\n",
            "34/34 [==============================] - 0s 3ms/step - loss: 5995.2178 - mae: 5995.2178\n",
            "Epoch 77/100\n",
            "34/34 [==============================] - 0s 2ms/step - loss: 5963.0718 - mae: 5963.0718\n",
            "Epoch 78/100\n",
            "34/34 [==============================] - 0s 2ms/step - loss: 5940.0605 - mae: 5940.0605\n",
            "Epoch 79/100\n",
            "34/34 [==============================] - 0s 2ms/step - loss: 5915.1064 - mae: 5915.1064\n",
            "Epoch 80/100\n",
            "34/34 [==============================] - 0s 2ms/step - loss: 5887.9990 - mae: 5887.9990\n",
            "Epoch 81/100\n",
            "34/34 [==============================] - 0s 2ms/step - loss: 5861.6992 - mae: 5861.6992\n",
            "Epoch 82/100\n",
            "34/34 [==============================] - 0s 2ms/step - loss: 5834.3066 - mae: 5834.3066\n",
            "Epoch 83/100\n",
            "34/34 [==============================] - 0s 2ms/step - loss: 5805.8237 - mae: 5805.8237\n",
            "Epoch 84/100\n",
            "34/34 [==============================] - 0s 2ms/step - loss: 5772.3232 - mae: 5772.3232\n",
            "Epoch 85/100\n",
            "34/34 [==============================] - 0s 2ms/step - loss: 5745.1514 - mae: 5745.1514\n",
            "Epoch 86/100\n",
            "34/34 [==============================] - 0s 2ms/step - loss: 5711.3477 - mae: 5711.3477\n",
            "Epoch 87/100\n",
            "34/34 [==============================] - 0s 2ms/step - loss: 5674.5215 - mae: 5674.5215\n",
            "Epoch 88/100\n",
            "34/34 [==============================] - 0s 2ms/step - loss: 5639.4927 - mae: 5639.4927\n",
            "Epoch 89/100\n",
            "34/34 [==============================] - 0s 2ms/step - loss: 5600.6655 - mae: 5600.6655\n",
            "Epoch 90/100\n",
            "34/34 [==============================] - 0s 2ms/step - loss: 5559.4326 - mae: 5559.4326\n",
            "Epoch 91/100\n",
            "34/34 [==============================] - 0s 2ms/step - loss: 5523.6187 - mae: 5523.6187\n",
            "Epoch 92/100\n",
            "34/34 [==============================] - 0s 2ms/step - loss: 5474.1250 - mae: 5474.1250\n",
            "Epoch 93/100\n",
            "34/34 [==============================] - 0s 2ms/step - loss: 5432.2661 - mae: 5432.2661\n",
            "Epoch 94/100\n",
            "34/34 [==============================] - 0s 2ms/step - loss: 5386.0527 - mae: 5386.0527\n",
            "Epoch 95/100\n",
            "34/34 [==============================] - 0s 2ms/step - loss: 5333.1812 - mae: 5333.1812\n",
            "Epoch 96/100\n",
            "34/34 [==============================] - 0s 2ms/step - loss: 5288.8159 - mae: 5288.8159\n",
            "Epoch 97/100\n",
            "34/34 [==============================] - 0s 2ms/step - loss: 5234.6792 - mae: 5234.6792\n",
            "Epoch 98/100\n",
            "34/34 [==============================] - 0s 3ms/step - loss: 5170.9360 - mae: 5170.9360\n",
            "Epoch 99/100\n",
            "34/34 [==============================] - 0s 2ms/step - loss: 5112.9443 - mae: 5112.9443\n",
            "Epoch 100/100\n",
            "34/34 [==============================] - 0s 2ms/step - loss: 5059.8643 - mae: 5059.8643\n"
          ]
        },
        {
          "output_type": "execute_result",
          "data": {
            "text/plain": [
              "<keras.callbacks.History at 0x7ff00131aad0>"
            ]
          },
          "metadata": {},
          "execution_count": 12
        }
      ]
    },
    {
      "cell_type": "code",
      "metadata": {
        "colab": {
          "base_uri": "https://localhost:8080/"
        },
        "id": "c83ADkk-ch4A",
        "outputId": "e07dd136-b869-4281-97b6-1c4ef07d1eef"
      },
      "source": [
        "model_2.evaluate(X_test, y_test)"
      ],
      "execution_count": 13,
      "outputs": [
        {
          "output_type": "stream",
          "name": "stdout",
          "text": [
            "9/9 [==============================] - 0s 2ms/step - loss: 4924.3477 - mae: 4924.3477\n"
          ]
        },
        {
          "output_type": "execute_result",
          "data": {
            "text/plain": [
              "[4924.34765625, 4924.34765625]"
            ]
          },
          "metadata": {},
          "execution_count": 13
        }
      ]
    },
    {
      "cell_type": "markdown",
      "metadata": {
        "id": "c_t1cw-NacaI"
      },
      "source": [
        "With more epochs(200)"
      ]
    },
    {
      "cell_type": "code",
      "metadata": {
        "colab": {
          "base_uri": "https://localhost:8080/"
        },
        "id": "mg-1Q4e8cTyp",
        "outputId": "56f40e3c-95b7-4ff6-cd2f-fe857e3031ba"
      },
      "source": [
        "tf.random.set_seed(42)\n",
        "model_3 = tf.keras.Sequential([\n",
        "                               tf.keras.layers.Dense(100),\n",
        "                               tf.keras.layers.Dense(10),\n",
        "                               tf.keras.layers.Dense(1)\n",
        "])\n",
        "model_3.compile(loss=tf.keras.losses.MAE,\n",
        "                optimizer=tf.keras.optimizers.Adam(),\n",
        "                metrics=[\"MAE\"])\n",
        "history = model_3.fit(X_train,y_train,epochs=200)"
      ],
      "execution_count": 14,
      "outputs": [
        {
          "output_type": "stream",
          "name": "stdout",
          "text": [
            "Epoch 1/200\n",
            "34/34 [==============================] - 0s 2ms/step - loss: 13273.1602 - MAE: 13273.1602\n",
            "Epoch 2/200\n",
            "34/34 [==============================] - 0s 2ms/step - loss: 13104.4297 - MAE: 13104.4297\n",
            "Epoch 3/200\n",
            "34/34 [==============================] - 0s 2ms/step - loss: 12749.5420 - MAE: 12749.5420\n",
            "Epoch 4/200\n",
            "34/34 [==============================] - 0s 2ms/step - loss: 12055.7510 - MAE: 12055.7510\n",
            "Epoch 5/200\n",
            "34/34 [==============================] - 0s 2ms/step - loss: 10905.8154 - MAE: 10905.8154\n",
            "Epoch 6/200\n",
            "34/34 [==============================] - 0s 2ms/step - loss: 9457.7217 - MAE: 9457.7217\n",
            "Epoch 7/200\n",
            "34/34 [==============================] - 0s 2ms/step - loss: 8147.6543 - MAE: 8147.6543\n",
            "Epoch 8/200\n",
            "34/34 [==============================] - 0s 2ms/step - loss: 7528.8408 - MAE: 7528.8408\n",
            "Epoch 9/200\n",
            "34/34 [==============================] - 0s 2ms/step - loss: 7429.1528 - MAE: 7429.1528\n",
            "Epoch 10/200\n",
            "34/34 [==============================] - 0s 2ms/step - loss: 7409.0811 - MAE: 7409.0811\n",
            "Epoch 11/200\n",
            "34/34 [==============================] - 0s 2ms/step - loss: 7390.8042 - MAE: 7390.8042\n",
            "Epoch 12/200\n",
            "34/34 [==============================] - 0s 2ms/step - loss: 7368.9180 - MAE: 7368.9180\n",
            "Epoch 13/200\n",
            "34/34 [==============================] - 0s 2ms/step - loss: 7348.5195 - MAE: 7348.5195\n",
            "Epoch 14/200\n",
            "34/34 [==============================] - 0s 2ms/step - loss: 7326.4893 - MAE: 7326.4893\n",
            "Epoch 15/200\n",
            "34/34 [==============================] - 0s 2ms/step - loss: 7307.5815 - MAE: 7307.5815\n",
            "Epoch 16/200\n",
            "34/34 [==============================] - 0s 2ms/step - loss: 7285.7734 - MAE: 7285.7734\n",
            "Epoch 17/200\n",
            "34/34 [==============================] - 0s 2ms/step - loss: 7265.7104 - MAE: 7265.7104\n",
            "Epoch 18/200\n",
            "34/34 [==============================] - 0s 2ms/step - loss: 7242.5488 - MAE: 7242.5488\n",
            "Epoch 19/200\n",
            "34/34 [==============================] - 0s 2ms/step - loss: 7220.5068 - MAE: 7220.5068\n",
            "Epoch 20/200\n",
            "34/34 [==============================] - 0s 2ms/step - loss: 7197.1978 - MAE: 7197.1978\n",
            "Epoch 21/200\n",
            "34/34 [==============================] - 0s 2ms/step - loss: 7179.0195 - MAE: 7179.0195\n",
            "Epoch 22/200\n",
            "34/34 [==============================] - 0s 2ms/step - loss: 7151.2104 - MAE: 7151.2104\n",
            "Epoch 23/200\n",
            "34/34 [==============================] - 0s 2ms/step - loss: 7126.4639 - MAE: 7126.4639\n",
            "Epoch 24/200\n",
            "34/34 [==============================] - 0s 2ms/step - loss: 7101.9199 - MAE: 7101.9199\n",
            "Epoch 25/200\n",
            "34/34 [==============================] - 0s 2ms/step - loss: 7084.3379 - MAE: 7084.3379\n",
            "Epoch 26/200\n",
            "34/34 [==============================] - 0s 2ms/step - loss: 7052.3291 - MAE: 7052.3291\n",
            "Epoch 27/200\n",
            "34/34 [==============================] - 0s 2ms/step - loss: 7024.3501 - MAE: 7024.3501\n",
            "Epoch 28/200\n",
            "34/34 [==============================] - 0s 2ms/step - loss: 6996.6963 - MAE: 6996.6963\n",
            "Epoch 29/200\n",
            "34/34 [==============================] - 0s 2ms/step - loss: 6969.0112 - MAE: 6969.0112\n",
            "Epoch 30/200\n",
            "34/34 [==============================] - 0s 2ms/step - loss: 6942.1899 - MAE: 6942.1899\n",
            "Epoch 31/200\n",
            "34/34 [==============================] - 0s 2ms/step - loss: 6911.7280 - MAE: 6911.7280\n",
            "Epoch 32/200\n",
            "34/34 [==============================] - 0s 3ms/step - loss: 6884.0205 - MAE: 6884.0205\n",
            "Epoch 33/200\n",
            "34/34 [==============================] - 0s 2ms/step - loss: 6853.4648 - MAE: 6853.4648\n",
            "Epoch 34/200\n",
            "34/34 [==============================] - 0s 2ms/step - loss: 6823.0674 - MAE: 6823.0674\n",
            "Epoch 35/200\n",
            "34/34 [==============================] - 0s 2ms/step - loss: 6789.6855 - MAE: 6789.6855\n",
            "Epoch 36/200\n",
            "34/34 [==============================] - 0s 3ms/step - loss: 6755.7646 - MAE: 6755.7646\n",
            "Epoch 37/200\n",
            "34/34 [==============================] - 0s 3ms/step - loss: 6720.2026 - MAE: 6720.2026\n",
            "Epoch 38/200\n",
            "34/34 [==============================] - 0s 3ms/step - loss: 6689.7158 - MAE: 6689.7158\n",
            "Epoch 39/200\n",
            "34/34 [==============================] - 0s 2ms/step - loss: 6652.4614 - MAE: 6652.4614\n",
            "Epoch 40/200\n",
            "34/34 [==============================] - 0s 3ms/step - loss: 6618.1006 - MAE: 6618.1006\n",
            "Epoch 41/200\n",
            "34/34 [==============================] - 0s 2ms/step - loss: 6585.8643 - MAE: 6585.8643\n",
            "Epoch 42/200\n",
            "34/34 [==============================] - 0s 2ms/step - loss: 6559.4956 - MAE: 6559.4956\n",
            "Epoch 43/200\n",
            "34/34 [==============================] - 0s 2ms/step - loss: 6530.0444 - MAE: 6530.0444\n",
            "Epoch 44/200\n",
            "34/34 [==============================] - 0s 2ms/step - loss: 6506.8071 - MAE: 6506.8071\n",
            "Epoch 45/200\n",
            "34/34 [==============================] - 0s 2ms/step - loss: 6493.5718 - MAE: 6493.5718\n",
            "Epoch 46/200\n",
            "34/34 [==============================] - 0s 2ms/step - loss: 6475.9258 - MAE: 6475.9258\n",
            "Epoch 47/200\n",
            "34/34 [==============================] - 0s 2ms/step - loss: 6458.8979 - MAE: 6458.8979\n",
            "Epoch 48/200\n",
            "34/34 [==============================] - 0s 2ms/step - loss: 6445.1494 - MAE: 6445.1494\n",
            "Epoch 49/200\n",
            "34/34 [==============================] - 0s 2ms/step - loss: 6430.9639 - MAE: 6430.9639\n",
            "Epoch 50/200\n",
            "34/34 [==============================] - 0s 2ms/step - loss: 6417.7510 - MAE: 6417.7510\n",
            "Epoch 51/200\n",
            "34/34 [==============================] - 0s 2ms/step - loss: 6403.2759 - MAE: 6403.2759\n",
            "Epoch 52/200\n",
            "34/34 [==============================] - 0s 2ms/step - loss: 6392.4141 - MAE: 6392.4141\n",
            "Epoch 53/200\n",
            "34/34 [==============================] - 0s 2ms/step - loss: 6378.7451 - MAE: 6378.7451\n",
            "Epoch 54/200\n",
            "34/34 [==============================] - 0s 3ms/step - loss: 6364.9131 - MAE: 6364.9131\n",
            "Epoch 55/200\n",
            "34/34 [==============================] - 0s 2ms/step - loss: 6351.5269 - MAE: 6351.5269\n",
            "Epoch 56/200\n",
            "34/34 [==============================] - 0s 2ms/step - loss: 6337.6602 - MAE: 6337.6602\n",
            "Epoch 57/200\n",
            "34/34 [==============================] - 0s 2ms/step - loss: 6324.8369 - MAE: 6324.8369\n",
            "Epoch 58/200\n",
            "34/34 [==============================] - 0s 2ms/step - loss: 6310.1948 - MAE: 6310.1948\n",
            "Epoch 59/200\n",
            "34/34 [==============================] - 0s 2ms/step - loss: 6295.6035 - MAE: 6295.6035\n",
            "Epoch 60/200\n",
            "34/34 [==============================] - 0s 2ms/step - loss: 6284.8696 - MAE: 6284.8696\n",
            "Epoch 61/200\n",
            "34/34 [==============================] - 0s 2ms/step - loss: 6265.6411 - MAE: 6265.6411\n",
            "Epoch 62/200\n",
            "34/34 [==============================] - 0s 2ms/step - loss: 6253.0103 - MAE: 6253.0103\n",
            "Epoch 63/200\n",
            "34/34 [==============================] - 0s 2ms/step - loss: 6234.9292 - MAE: 6234.9292\n",
            "Epoch 64/200\n",
            "34/34 [==============================] - 0s 2ms/step - loss: 6218.0430 - MAE: 6218.0430\n",
            "Epoch 65/200\n",
            "34/34 [==============================] - 0s 2ms/step - loss: 6201.1899 - MAE: 6201.1899\n",
            "Epoch 66/200\n",
            "34/34 [==============================] - 0s 2ms/step - loss: 6183.9590 - MAE: 6183.9590\n",
            "Epoch 67/200\n",
            "34/34 [==============================] - 0s 2ms/step - loss: 6171.2993 - MAE: 6171.2993\n",
            "Epoch 68/200\n",
            "34/34 [==============================] - 0s 2ms/step - loss: 6148.8398 - MAE: 6148.8398\n",
            "Epoch 69/200\n",
            "34/34 [==============================] - 0s 2ms/step - loss: 6132.5981 - MAE: 6132.5981\n",
            "Epoch 70/200\n",
            "34/34 [==============================] - 0s 2ms/step - loss: 6112.3848 - MAE: 6112.3848\n",
            "Epoch 71/200\n",
            "34/34 [==============================] - 0s 2ms/step - loss: 6092.7202 - MAE: 6092.7202\n",
            "Epoch 72/200\n",
            "34/34 [==============================] - 0s 2ms/step - loss: 6073.7422 - MAE: 6073.7422\n",
            "Epoch 73/200\n",
            "34/34 [==============================] - 0s 2ms/step - loss: 6059.4873 - MAE: 6059.4873\n",
            "Epoch 74/200\n",
            "34/34 [==============================] - 0s 2ms/step - loss: 6031.3848 - MAE: 6031.3848\n",
            "Epoch 75/200\n",
            "34/34 [==============================] - 0s 2ms/step - loss: 6010.3350 - MAE: 6010.3350\n",
            "Epoch 76/200\n",
            "34/34 [==============================] - 0s 2ms/step - loss: 5995.2178 - MAE: 5995.2178\n",
            "Epoch 77/200\n",
            "34/34 [==============================] - 0s 2ms/step - loss: 5963.0718 - MAE: 5963.0718\n",
            "Epoch 78/200\n",
            "34/34 [==============================] - 0s 2ms/step - loss: 5940.0605 - MAE: 5940.0605\n",
            "Epoch 79/200\n",
            "34/34 [==============================] - 0s 2ms/step - loss: 5915.1064 - MAE: 5915.1064\n",
            "Epoch 80/200\n",
            "34/34 [==============================] - 0s 2ms/step - loss: 5887.9990 - MAE: 5887.9990\n",
            "Epoch 81/200\n",
            "34/34 [==============================] - 0s 2ms/step - loss: 5861.6992 - MAE: 5861.6992\n",
            "Epoch 82/200\n",
            "34/34 [==============================] - 0s 2ms/step - loss: 5834.3066 - MAE: 5834.3066\n",
            "Epoch 83/200\n",
            "34/34 [==============================] - 0s 2ms/step - loss: 5805.8237 - MAE: 5805.8237\n",
            "Epoch 84/200\n",
            "34/34 [==============================] - 0s 2ms/step - loss: 5772.3232 - MAE: 5772.3232\n",
            "Epoch 85/200\n",
            "34/34 [==============================] - 0s 2ms/step - loss: 5745.1514 - MAE: 5745.1514\n",
            "Epoch 86/200\n",
            "34/34 [==============================] - 0s 2ms/step - loss: 5711.3477 - MAE: 5711.3477\n",
            "Epoch 87/200\n",
            "34/34 [==============================] - 0s 2ms/step - loss: 5674.5215 - MAE: 5674.5215\n",
            "Epoch 88/200\n",
            "34/34 [==============================] - 0s 2ms/step - loss: 5639.4927 - MAE: 5639.4927\n",
            "Epoch 89/200\n",
            "34/34 [==============================] - 0s 2ms/step - loss: 5600.6655 - MAE: 5600.6655\n",
            "Epoch 90/200\n",
            "34/34 [==============================] - 0s 2ms/step - loss: 5559.4326 - MAE: 5559.4326\n",
            "Epoch 91/200\n",
            "34/34 [==============================] - 0s 2ms/step - loss: 5523.6187 - MAE: 5523.6187\n",
            "Epoch 92/200\n",
            "34/34 [==============================] - 0s 2ms/step - loss: 5474.1250 - MAE: 5474.1250\n",
            "Epoch 93/200\n",
            "34/34 [==============================] - 0s 2ms/step - loss: 5432.2661 - MAE: 5432.2661\n",
            "Epoch 94/200\n",
            "34/34 [==============================] - 0s 2ms/step - loss: 5386.0527 - MAE: 5386.0527\n",
            "Epoch 95/200\n",
            "34/34 [==============================] - 0s 2ms/step - loss: 5333.1812 - MAE: 5333.1812\n",
            "Epoch 96/200\n",
            "34/34 [==============================] - 0s 2ms/step - loss: 5288.8159 - MAE: 5288.8159\n",
            "Epoch 97/200\n",
            "34/34 [==============================] - 0s 2ms/step - loss: 5234.6792 - MAE: 5234.6792\n",
            "Epoch 98/200\n",
            "34/34 [==============================] - 0s 2ms/step - loss: 5170.9360 - MAE: 5170.9360\n",
            "Epoch 99/200\n",
            "34/34 [==============================] - 0s 2ms/step - loss: 5112.9443 - MAE: 5112.9443\n",
            "Epoch 100/200\n",
            "34/34 [==============================] - 0s 2ms/step - loss: 5059.8643 - MAE: 5059.8643\n",
            "Epoch 101/200\n",
            "34/34 [==============================] - 0s 2ms/step - loss: 4987.6191 - MAE: 4987.6191\n",
            "Epoch 102/200\n",
            "34/34 [==============================] - 0s 2ms/step - loss: 4915.2910 - MAE: 4915.2910\n",
            "Epoch 103/200\n",
            "34/34 [==============================] - 0s 2ms/step - loss: 4847.3599 - MAE: 4847.3599\n",
            "Epoch 104/200\n",
            "34/34 [==============================] - 0s 2ms/step - loss: 4768.0151 - MAE: 4768.0151\n",
            "Epoch 105/200\n",
            "34/34 [==============================] - 0s 2ms/step - loss: 4683.4727 - MAE: 4683.4727\n",
            "Epoch 106/200\n",
            "34/34 [==============================] - 0s 2ms/step - loss: 4600.5054 - MAE: 4600.5054\n",
            "Epoch 107/200\n",
            "34/34 [==============================] - 0s 2ms/step - loss: 4513.1436 - MAE: 4513.1436\n",
            "Epoch 108/200\n",
            "34/34 [==============================] - 0s 2ms/step - loss: 4422.2983 - MAE: 4422.2983\n",
            "Epoch 109/200\n",
            "34/34 [==============================] - 0s 2ms/step - loss: 4339.9600 - MAE: 4339.9600\n",
            "Epoch 110/200\n",
            "34/34 [==============================] - 0s 2ms/step - loss: 4254.3916 - MAE: 4254.3916\n",
            "Epoch 111/200\n",
            "34/34 [==============================] - 0s 2ms/step - loss: 4173.1797 - MAE: 4173.1797\n",
            "Epoch 112/200\n",
            "34/34 [==============================] - 0s 2ms/step - loss: 4102.2939 - MAE: 4102.2939\n",
            "Epoch 113/200\n",
            "34/34 [==============================] - 0s 2ms/step - loss: 4031.9592 - MAE: 4031.9592\n",
            "Epoch 114/200\n",
            "34/34 [==============================] - 0s 2ms/step - loss: 3986.0220 - MAE: 3986.0220\n",
            "Epoch 115/200\n",
            "34/34 [==============================] - 0s 2ms/step - loss: 3943.2346 - MAE: 3943.2346\n",
            "Epoch 116/200\n",
            "34/34 [==============================] - 0s 3ms/step - loss: 3918.8977 - MAE: 3918.8977\n",
            "Epoch 117/200\n",
            "34/34 [==============================] - 0s 2ms/step - loss: 3895.5610 - MAE: 3895.5610\n",
            "Epoch 118/200\n",
            "34/34 [==============================] - 0s 2ms/step - loss: 3869.5679 - MAE: 3869.5679\n",
            "Epoch 119/200\n",
            "34/34 [==============================] - 0s 2ms/step - loss: 3850.2136 - MAE: 3850.2136\n",
            "Epoch 120/200\n",
            "34/34 [==============================] - 0s 2ms/step - loss: 3834.7349 - MAE: 3834.7349\n",
            "Epoch 121/200\n",
            "34/34 [==============================] - 0s 2ms/step - loss: 3827.0952 - MAE: 3827.0952\n",
            "Epoch 122/200\n",
            "34/34 [==============================] - 0s 2ms/step - loss: 3821.6382 - MAE: 3821.6382\n",
            "Epoch 123/200\n",
            "34/34 [==============================] - 0s 2ms/step - loss: 3813.8315 - MAE: 3813.8315\n",
            "Epoch 124/200\n",
            "34/34 [==============================] - 0s 2ms/step - loss: 3805.7307 - MAE: 3805.7307\n",
            "Epoch 125/200\n",
            "34/34 [==============================] - 0s 2ms/step - loss: 3794.7090 - MAE: 3794.7090\n",
            "Epoch 126/200\n",
            "34/34 [==============================] - 0s 2ms/step - loss: 3804.4946 - MAE: 3804.4946\n",
            "Epoch 127/200\n",
            "34/34 [==============================] - 0s 2ms/step - loss: 3796.0596 - MAE: 3796.0596\n",
            "Epoch 128/200\n",
            "34/34 [==============================] - 0s 2ms/step - loss: 3791.0422 - MAE: 3791.0422\n",
            "Epoch 129/200\n",
            "34/34 [==============================] - 0s 2ms/step - loss: 3800.0696 - MAE: 3800.0696\n",
            "Epoch 130/200\n",
            "34/34 [==============================] - 0s 2ms/step - loss: 3788.5005 - MAE: 3788.5005\n",
            "Epoch 131/200\n",
            "34/34 [==============================] - 0s 2ms/step - loss: 3780.8442 - MAE: 3780.8442\n",
            "Epoch 132/200\n",
            "34/34 [==============================] - 0s 2ms/step - loss: 3774.5413 - MAE: 3774.5413\n",
            "Epoch 133/200\n",
            "34/34 [==============================] - 0s 2ms/step - loss: 3771.0156 - MAE: 3771.0156\n",
            "Epoch 134/200\n",
            "34/34 [==============================] - 0s 2ms/step - loss: 3769.3762 - MAE: 3769.3762\n",
            "Epoch 135/200\n",
            "34/34 [==============================] - 0s 2ms/step - loss: 3766.7610 - MAE: 3766.7610\n",
            "Epoch 136/200\n",
            "34/34 [==============================] - 0s 2ms/step - loss: 3765.5508 - MAE: 3765.5508\n",
            "Epoch 137/200\n",
            "34/34 [==============================] - 0s 2ms/step - loss: 3774.5032 - MAE: 3774.5032\n",
            "Epoch 138/200\n",
            "34/34 [==============================] - 0s 2ms/step - loss: 3785.3909 - MAE: 3785.3909\n",
            "Epoch 139/200\n",
            "34/34 [==============================] - 0s 2ms/step - loss: 3761.1299 - MAE: 3761.1299\n",
            "Epoch 140/200\n",
            "34/34 [==============================] - 0s 2ms/step - loss: 3764.1753 - MAE: 3764.1753\n",
            "Epoch 141/200\n",
            "34/34 [==============================] - 0s 2ms/step - loss: 3763.9250 - MAE: 3763.9250\n",
            "Epoch 142/200\n",
            "34/34 [==============================] - 0s 2ms/step - loss: 3762.7959 - MAE: 3762.7959\n",
            "Epoch 143/200\n",
            "34/34 [==============================] - 0s 2ms/step - loss: 3754.4397 - MAE: 3754.4397\n",
            "Epoch 144/200\n",
            "34/34 [==============================] - 0s 2ms/step - loss: 3750.3347 - MAE: 3750.3347\n",
            "Epoch 145/200\n",
            "34/34 [==============================] - 0s 2ms/step - loss: 3750.4006 - MAE: 3750.4006\n",
            "Epoch 146/200\n",
            "34/34 [==============================] - 0s 2ms/step - loss: 3755.4736 - MAE: 3755.4736\n",
            "Epoch 147/200\n",
            "34/34 [==============================] - 0s 2ms/step - loss: 3750.3223 - MAE: 3750.3223\n",
            "Epoch 148/200\n",
            "34/34 [==============================] - 0s 2ms/step - loss: 3758.1089 - MAE: 3758.1089\n",
            "Epoch 149/200\n",
            "34/34 [==============================] - 0s 2ms/step - loss: 3743.4858 - MAE: 3743.4858\n",
            "Epoch 150/200\n",
            "34/34 [==============================] - 0s 2ms/step - loss: 3738.5342 - MAE: 3738.5342\n",
            "Epoch 151/200\n",
            "34/34 [==============================] - 0s 2ms/step - loss: 3740.1384 - MAE: 3740.1384\n",
            "Epoch 152/200\n",
            "34/34 [==============================] - 0s 2ms/step - loss: 3742.4954 - MAE: 3742.4954\n",
            "Epoch 153/200\n",
            "34/34 [==============================] - 0s 2ms/step - loss: 3744.4399 - MAE: 3744.4399\n",
            "Epoch 154/200\n",
            "34/34 [==============================] - 0s 2ms/step - loss: 3737.1824 - MAE: 3737.1824\n",
            "Epoch 155/200\n",
            "34/34 [==============================] - 0s 2ms/step - loss: 3737.6541 - MAE: 3737.6541\n",
            "Epoch 156/200\n",
            "34/34 [==============================] - 0s 2ms/step - loss: 3737.1663 - MAE: 3737.1663\n",
            "Epoch 157/200\n",
            "34/34 [==============================] - 0s 2ms/step - loss: 3733.1101 - MAE: 3733.1101\n",
            "Epoch 158/200\n",
            "34/34 [==============================] - 0s 2ms/step - loss: 3729.5813 - MAE: 3729.5813\n",
            "Epoch 159/200\n",
            "34/34 [==============================] - 0s 2ms/step - loss: 3725.9053 - MAE: 3725.9053\n",
            "Epoch 160/200\n",
            "34/34 [==============================] - 0s 2ms/step - loss: 3733.2817 - MAE: 3733.2817\n",
            "Epoch 161/200\n",
            "34/34 [==============================] - 0s 2ms/step - loss: 3728.2559 - MAE: 3728.2559\n",
            "Epoch 162/200\n",
            "34/34 [==============================] - 0s 2ms/step - loss: 3724.5825 - MAE: 3724.5825\n",
            "Epoch 163/200\n",
            "34/34 [==============================] - 0s 2ms/step - loss: 3723.0806 - MAE: 3723.0806\n",
            "Epoch 164/200\n",
            "34/34 [==============================] - 0s 2ms/step - loss: 3726.9475 - MAE: 3726.9475\n",
            "Epoch 165/200\n",
            "34/34 [==============================] - 0s 2ms/step - loss: 3716.5430 - MAE: 3716.5430\n",
            "Epoch 166/200\n",
            "34/34 [==============================] - 0s 2ms/step - loss: 3721.9155 - MAE: 3721.9155\n",
            "Epoch 167/200\n",
            "34/34 [==============================] - 0s 2ms/step - loss: 3721.1814 - MAE: 3721.1814\n",
            "Epoch 168/200\n",
            "34/34 [==============================] - 0s 2ms/step - loss: 3715.2456 - MAE: 3715.2456\n",
            "Epoch 169/200\n",
            "34/34 [==============================] - 0s 2ms/step - loss: 3713.9756 - MAE: 3713.9756\n",
            "Epoch 170/200\n",
            "34/34 [==============================] - 0s 3ms/step - loss: 3707.9922 - MAE: 3707.9922\n",
            "Epoch 171/200\n",
            "34/34 [==============================] - 0s 2ms/step - loss: 3707.4158 - MAE: 3707.4158\n",
            "Epoch 172/200\n",
            "34/34 [==============================] - 0s 2ms/step - loss: 3710.6833 - MAE: 3710.6833\n",
            "Epoch 173/200\n",
            "34/34 [==============================] - 0s 2ms/step - loss: 3703.3618 - MAE: 3703.3618\n",
            "Epoch 174/200\n",
            "34/34 [==============================] - 0s 2ms/step - loss: 3710.9385 - MAE: 3710.9385\n",
            "Epoch 175/200\n",
            "34/34 [==============================] - 0s 2ms/step - loss: 3713.0417 - MAE: 3713.0417\n",
            "Epoch 176/200\n",
            "34/34 [==============================] - 0s 2ms/step - loss: 3705.0571 - MAE: 3705.0571\n",
            "Epoch 177/200\n",
            "34/34 [==============================] - 0s 2ms/step - loss: 3698.9333 - MAE: 3698.9333\n",
            "Epoch 178/200\n",
            "34/34 [==============================] - 0s 2ms/step - loss: 3697.9983 - MAE: 3697.9983\n",
            "Epoch 179/200\n",
            "34/34 [==============================] - 0s 2ms/step - loss: 3704.9150 - MAE: 3704.9150\n",
            "Epoch 180/200\n",
            "34/34 [==============================] - 0s 2ms/step - loss: 3710.3679 - MAE: 3710.3679\n",
            "Epoch 181/200\n",
            "34/34 [==============================] - 0s 2ms/step - loss: 3696.6482 - MAE: 3696.6482\n",
            "Epoch 182/200\n",
            "34/34 [==============================] - 0s 2ms/step - loss: 3692.7329 - MAE: 3692.7329\n",
            "Epoch 183/200\n",
            "34/34 [==============================] - 0s 2ms/step - loss: 3691.1655 - MAE: 3691.1655\n",
            "Epoch 184/200\n",
            "34/34 [==============================] - 0s 2ms/step - loss: 3699.2437 - MAE: 3699.2437\n",
            "Epoch 185/200\n",
            "34/34 [==============================] - 0s 2ms/step - loss: 3693.2480 - MAE: 3693.2480\n",
            "Epoch 186/200\n",
            "34/34 [==============================] - 0s 2ms/step - loss: 3696.1387 - MAE: 3696.1387\n",
            "Epoch 187/200\n",
            "34/34 [==============================] - 0s 2ms/step - loss: 3687.8640 - MAE: 3687.8640\n",
            "Epoch 188/200\n",
            "34/34 [==============================] - 0s 2ms/step - loss: 3693.3562 - MAE: 3693.3562\n",
            "Epoch 189/200\n",
            "34/34 [==============================] - 0s 2ms/step - loss: 3682.7324 - MAE: 3682.7324\n",
            "Epoch 190/200\n",
            "34/34 [==============================] - 0s 2ms/step - loss: 3683.2891 - MAE: 3683.2891\n",
            "Epoch 191/200\n",
            "34/34 [==============================] - 0s 2ms/step - loss: 3697.6536 - MAE: 3697.6536\n",
            "Epoch 192/200\n",
            "34/34 [==============================] - 0s 2ms/step - loss: 3684.6665 - MAE: 3684.6665\n",
            "Epoch 193/200\n",
            "34/34 [==============================] - 0s 2ms/step - loss: 3675.5154 - MAE: 3675.5154\n",
            "Epoch 194/200\n",
            "34/34 [==============================] - 0s 2ms/step - loss: 3676.3923 - MAE: 3676.3923\n",
            "Epoch 195/200\n",
            "34/34 [==============================] - 0s 2ms/step - loss: 3672.8452 - MAE: 3672.8452\n",
            "Epoch 196/200\n",
            "34/34 [==============================] - 0s 2ms/step - loss: 3682.0283 - MAE: 3682.0283\n",
            "Epoch 197/200\n",
            "34/34 [==============================] - 0s 2ms/step - loss: 3665.7961 - MAE: 3665.7961\n",
            "Epoch 198/200\n",
            "34/34 [==============================] - 0s 2ms/step - loss: 3671.7419 - MAE: 3671.7419\n",
            "Epoch 199/200\n",
            "34/34 [==============================] - 0s 2ms/step - loss: 3680.5464 - MAE: 3680.5464\n",
            "Epoch 200/200\n",
            "34/34 [==============================] - 0s 2ms/step - loss: 3665.6401 - MAE: 3665.6401\n"
          ]
        }
      ]
    },
    {
      "cell_type": "code",
      "metadata": {
        "colab": {
          "base_uri": "https://localhost:8080/"
        },
        "id": "H2K41a7ldaFN",
        "outputId": "09904b28-3864-40f1-9cb5-6a33c84671df"
      },
      "source": [
        "model_3.evaluate(X_test,y_test)"
      ],
      "execution_count": 15,
      "outputs": [
        {
          "output_type": "stream",
          "name": "stdout",
          "text": [
            "9/9 [==============================] - 0s 2ms/step - loss: 3491.2961 - MAE: 3491.2961\n"
          ]
        },
        {
          "output_type": "execute_result",
          "data": {
            "text/plain": [
              "[3491.296142578125, 3491.296142578125]"
            ]
          },
          "metadata": {},
          "execution_count": 15
        }
      ]
    },
    {
      "cell_type": "markdown",
      "metadata": {
        "id": "q2emwMWfdlXP"
      },
      "source": [
        "Plot history (Training curve)"
      ]
    },
    {
      "cell_type": "code",
      "metadata": {
        "colab": {
          "base_uri": "https://localhost:8080/",
          "height": 296
        },
        "id": "3BPthzAEeGp2",
        "outputId": "9fd0b401-86de-4393-db18-44058c8b8486"
      },
      "source": [
        "pd.DataFrame(history.history).plot()\n",
        "plt.ylabel(\"loss\")\n",
        "plt.xlabel(\"epochs\")"
      ],
      "execution_count": 16,
      "outputs": [
        {
          "output_type": "execute_result",
          "data": {
            "text/plain": [
              "Text(0.5, 0, 'epochs')"
            ]
          },
          "metadata": {},
          "execution_count": 16
        },
        {
          "output_type": "display_data",
          "data": {
            "image/png": "[encoded data removed]",
            "text/plain": [
              "<Figure size 432x288 with 1 Axes>"
            ]
          },
          "metadata": {
            "needs_background": "light"
          }
        }
      ]
    },
    {
      "cell_type": "markdown",
      "metadata": {
        "id": "9yyLBtyeebIw"
      },
      "source": [
        "### Preprocessing data (normalization and standarization)"
      ]
    },
    {
      "cell_type": "markdown",
      "metadata": {
        "id": "kY08yWztuHMT"
      },
      "source": [
        "In terms of scaling values, neural networks tend to prefer normalization"
      ]
    },
    {
      "cell_type": "code",
      "metadata": {
        "colab": {
          "base_uri": "https://localhost:8080/",
          "height": 419
        },
        "id": "FWlJttIat3XL",
        "outputId": "2bbbaaf5-a978-4e54-8b73-2be437d38d20"
      },
      "source": [
        "import pandas as pd\n",
        "import matplotlib.pyplot as plt\n",
        "import tensorflow as tf\n",
        "\n",
        "# import dataset\n",
        "insurance = pd.read_csv(\"https://raw.githubusercontent.com/stedy/Machine-Learning-with-R-datasets/master/insurance.csv\")\n",
        "insurance"
      ],
      "execution_count": 17,
      "outputs": [
        {
          "output_type": "execute_result",
          "data": {
            "text/html": [
              "<div>\n",
              "<style scoped>\n",
              "    .dataframe tbody tr th:only-of-type {\n",
              "        vertical-align: middle;\n",
              "    }\n",
              "\n",
              "    .dataframe tbody tr th {\n",
              "        vertical-align: top;\n",
              "    }\n",
              "\n",
              "    .dataframe thead th {\n",
              "        text-align: right;\n",
              "    }\n",
              "</style>\n",
              "<table border=\"1\" class=\"dataframe\">\n",
              "  <thead>\n",
              "    <tr style=\"text-align: right;\">\n",
              "      <th></th>\n",
              "      <th>age</th>\n",
              "      <th>sex</th>\n",
              "      <th>bmi</th>\n",
              "      <th>children</th>\n",
              "      <th>smoker</th>\n",
              "      <th>region</th>\n",
              "      <th>charges</th>\n",
              "    </tr>\n",
              "  </thead>\n",
              "  <tbody>\n",
              "    <tr>\n",
              "      <th>0</th>\n",
              "      <td>19</td>\n",
              "      <td>female</td>\n",
              "      <td>27.900</td>\n",
              "      <td>0</td>\n",
              "      <td>yes</td>\n",
              "      <td>southwest</td>\n",
              "      <td>16884.92400</td>\n",
              "    </tr>\n",
              "    <tr>\n",
              "      <th>1</th>\n",
              "      <td>18</td>\n",
              "      <td>male</td>\n",
              "      <td>33.770</td>\n",
              "      <td>1</td>\n",
              "      <td>no</td>\n",
              "      <td>southeast</td>\n",
              "      <td>1725.55230</td>\n",
              "    </tr>\n",
              "    <tr>\n",
              "      <th>2</th>\n",
              "      <td>28</td>\n",
              "      <td>male</td>\n",
              "      <td>33.000</td>\n",
              "      <td>3</td>\n",
              "      <td>no</td>\n",
              "      <td>southeast</td>\n",
              "      <td>4449.46200</td>\n",
              "    </tr>\n",
              "    <tr>\n",
              "      <th>3</th>\n",
              "      <td>33</td>\n",
              "      <td>male</td>\n",
              "      <td>22.705</td>\n",
              "      <td>0</td>\n",
              "      <td>no</td>\n",
              "      <td>northwest</td>\n",
              "      <td>21984.47061</td>\n",
              "    </tr>\n",
              "    <tr>\n",
              "      <th>4</th>\n",
              "      <td>32</td>\n",
              "      <td>male</td>\n",
              "      <td>28.880</td>\n",
              "      <td>0</td>\n",
              "      <td>no</td>\n",
              "      <td>northwest</td>\n",
              "      <td>3866.85520</td>\n",
              "    </tr>\n",
              "    <tr>\n",
              "      <th>...</th>\n",
              "      <td>...</td>\n",
              "      <td>...</td>\n",
              "      <td>...</td>\n",
              "      <td>...</td>\n",
              "      <td>...</td>\n",
              "      <td>...</td>\n",
              "      <td>...</td>\n",
              "    </tr>\n",
              "    <tr>\n",
              "      <th>1333</th>\n",
              "      <td>50</td>\n",
              "      <td>male</td>\n",
              "      <td>30.970</td>\n",
              "      <td>3</td>\n",
              "      <td>no</td>\n",
              "      <td>northwest</td>\n",
              "      <td>10600.54830</td>\n",
              "    </tr>\n",
              "    <tr>\n",
              "      <th>1334</th>\n",
              "      <td>18</td>\n",
              "      <td>female</td>\n",
              "      <td>31.920</td>\n",
              "      <td>0</td>\n",
              "      <td>no</td>\n",
              "      <td>northeast</td>\n",
              "      <td>2205.98080</td>\n",
              "    </tr>\n",
              "    <tr>\n",
              "      <th>1335</th>\n",
              "      <td>18</td>\n",
              "      <td>female</td>\n",
              "      <td>36.850</td>\n",
              "      <td>0</td>\n",
              "      <td>no</td>\n",
              "      <td>southeast</td>\n",
              "      <td>1629.83350</td>\n",
              "    </tr>\n",
              "    <tr>\n",
              "      <th>1336</th>\n",
              "      <td>21</td>\n",
              "      <td>female</td>\n",
              "      <td>25.800</td>\n",
              "      <td>0</td>\n",
              "      <td>no</td>\n",
              "      <td>southwest</td>\n",
              "      <td>2007.94500</td>\n",
              "    </tr>\n",
              "    <tr>\n",
              "      <th>1337</th>\n",
              "      <td>61</td>\n",
              "      <td>female</td>\n",
              "      <td>29.070</td>\n",
              "      <td>0</td>\n",
              "      <td>yes</td>\n",
              "      <td>northwest</td>\n",
              "      <td>29141.36030</td>\n",
              "    </tr>\n",
              "  </tbody>\n",
              "</table>\n",
              "<p>1338 rows × 7 columns</p>\n",
              "</div>"
            ],
            "text/plain": [
              "      age     sex     bmi  children smoker     region      charges\n",
              "0      19  female  27.900         0    yes  southwest  16884.92400\n",
              "1      18    male  33.770         1     no  southeast   1725.55230\n",
              "2      28    male  33.000         3     no  southeast   4449.46200\n",
              "3      33    male  22.705         0     no  northwest  21984.47061\n",
              "4      32    male  28.880         0     no  northwest   3866.85520\n",
              "...   ...     ...     ...       ...    ...        ...          ...\n",
              "1333   50    male  30.970         3     no  northwest  10600.54830\n",
              "1334   18  female  31.920         0     no  northeast   2205.98080\n",
              "1335   18  female  36.850         0     no  southeast   1629.83350\n",
              "1336   21  female  25.800         0     no  southwest   2007.94500\n",
              "1337   61  female  29.070         0    yes  northwest  29141.36030\n",
              "\n",
              "[1338 rows x 7 columns]"
            ]
          },
          "metadata": {},
          "execution_count": 17
        }
      ]
    },
    {
      "cell_type": "code",
      "metadata": {
        "colab": {
          "base_uri": "https://localhost:8080/",
          "height": 282
        },
        "id": "SLwtCiiWtYgS",
        "outputId": "dd38cee7-1226-4123-b95c-6762ef808577"
      },
      "source": [
        "insurance[\"age\"].plot(kind=\"hist\")"
      ],
      "execution_count": 18,
      "outputs": [
        {
          "output_type": "execute_result",
          "data": {
            "text/plain": [
              "<matplotlib.axes._subplots.AxesSubplot at 0x7ff004658610>"
            ]
          },
          "metadata": {},
          "execution_count": 18
        },
        {
          "output_type": "display_data",
          "data": {
            "image/png": "[encoded data removed]",
            "text/plain": [
              "<Figure size 432x288 with 1 Axes>"
            ]
          },
          "metadata": {
            "needs_background": "light"
          }
        }
      ]
    },
    {
      "cell_type": "code",
      "metadata": {
        "colab": {
          "base_uri": "https://localhost:8080/",
          "height": 282
        },
        "id": "bNhFQ878tdec",
        "outputId": "1f75d954-7537-40d1-ba77-3d4d7ade3096"
      },
      "source": [
        "insurance[\"bmi\"].plot(kind=\"hist\")"
      ],
      "execution_count": 19,
      "outputs": [
        {
          "output_type": "execute_result",
          "data": {
            "text/plain": [
              "<matplotlib.axes._subplots.AxesSubplot at 0x7ff00462bc90>"
            ]
          },
          "metadata": {},
          "execution_count": 19
        },
        {
          "output_type": "display_data",
          "data": {
            "image/png": "[encoded data removed]",
            "text/plain": [
              "<Figure size 432x288 with 1 Axes>"
            ]
          },
          "metadata": {
            "needs_background": "light"
          }
        }
      ]
    },
    {
      "cell_type": "markdown",
      "metadata": {
        "id": "UqazXx8XvLvE"
      },
      "source": [
        "To prepare our data we can load some libraries form Scikit-Learn"
      ]
    },
    {
      "cell_type": "code",
      "metadata": {
        "id": "jPWVtodM4TZi"
      },
      "source": [
        "from sklearn.compose import make_column_transformer\n",
        "from sklearn.preprocessing import MinMaxScaler, OneHotEncoder\n",
        "from sklearn.model_selection import train_test_split"
      ],
      "execution_count": 20,
      "outputs": []
    },
    {
      "cell_type": "code",
      "metadata": {
        "id": "6PsQ7R5z6-t8"
      },
      "source": [
        "# Create column transformer\n",
        "ct = make_column_transformer(\n",
        "    \n",
        "    (MinMaxScaler(), ['age', 'bmi', 'children']), # turn all values in these columns between 0 and 1\n",
        "    (OneHotEncoder(handle_unknown='ignore'), ['sex', 'smoker', 'region'])\n",
        ")\n",
        "    \n",
        "# Create X and y\n",
        "X = insurance.drop(\"charges\",axis=1)\n",
        "y = insurance[\"charges\"]"
      ],
      "execution_count": 21,
      "outputs": []
    },
    {
      "cell_type": "code",
      "metadata": {
        "id": "Bm7zv1jx8rVa"
      },
      "source": [
        "# Create our train, test datasets\n",
        "X_train, X_test, y_train, y_test = train_test_split(X, y, test_size=0.2, random_state=42)\n",
        "\n",
        "# Transform the columns\n",
        "ct.fit(X_train)\n",
        "X_train_normal = ct.transform(X_train)\n",
        "X_test_normal = ct.transform(X_test)"
      ],
      "execution_count": 22,
      "outputs": []
    },
    {
      "cell_type": "code",
      "metadata": {
        "id": "6iHLcFMMAGeL",
        "outputId": "46644dad-2e26-44bc-cb80-c2dff1356a3a",
        "colab": {
          "base_uri": "https://localhost:8080/"
        }
      },
      "source": [
        "# What does our data look like now?\n",
        "X_train.loc[0]"
      ],
      "execution_count": 23,
      "outputs": [
        {
          "output_type": "execute_result",
          "data": {
            "text/plain": [
              "age                19\n",
              "sex            female\n",
              "bmi              27.9\n",
              "children            0\n",
              "smoker            yes\n",
              "region      southwest\n",
              "Name: 0, dtype: object"
            ]
          },
          "metadata": {},
          "execution_count": 23
        }
      ]
    },
    {
      "cell_type": "code",
      "metadata": {
        "id": "nFd7ytLAJuU9",
        "outputId": "d7239198-e2d1-4eb7-95ef-befbe701b446",
        "colab": {
          "base_uri": "https://localhost:8080/"
        }
      },
      "source": [
        "X_train_normal[0]"
      ],
      "execution_count": 24,
      "outputs": [
        {
          "output_type": "execute_result",
          "data": {
            "text/plain": [
              "array([0.60869565, 0.10734463, 0.4       , 1.        , 0.        ,\n",
              "       1.        , 0.        , 0.        , 1.        , 0.        ,\n",
              "       0.        ])"
            ]
          },
          "metadata": {},
          "execution_count": 24
        }
      ]
    },
    {
      "cell_type": "code",
      "metadata": {
        "id": "1bDwDDALSAiW",
        "outputId": "9af1be21-19ab-4136-bb0e-4743c5b095d7",
        "colab": {
          "base_uri": "https://localhost:8080/"
        }
      },
      "source": [
        "X_train.shape, X_train_normal.shape"
      ],
      "execution_count": 25,
      "outputs": [
        {
          "output_type": "execute_result",
          "data": {
            "text/plain": [
              "((1070, 6), (1070, 11))"
            ]
          },
          "metadata": {},
          "execution_count": 25
        }
      ]
    },
    {
      "cell_type": "code",
      "metadata": {
        "id": "kj9CGnreSbiQ",
        "outputId": "6bba42b9-b33d-4adc-8278-d3c5f11ec5a9",
        "colab": {
          "base_uri": "https://localhost:8080/"
        }
      },
      "source": [
        "# Now let's build a neural network and pass this normalized and encoded data\n",
        "tf.random.set_seed(42)\n",
        "model_4 = tf.keras.Sequential([\n",
        "                     tf.keras.layers.Dense(100),\n",
        "                     tf.keras.layers.Dense(10),\n",
        "                     tf.keras.layers.Dense(1)\n",
        "])\n",
        "model_4.compile(loss=tf.keras.losses.mae,\n",
        "                optimizer=tf.keras.optimizers.Adam(),\n",
        "                metrics=['MAE'])\n",
        "model_4.fit(X_train_normal, y_train, epochs=100)"
      ],
      "execution_count": 26,
      "outputs": [
        {
          "output_type": "stream",
          "name": "stdout",
          "text": [
            "Epoch 1/100\n",
            "34/34 [==============================] - 0s 2ms/step - loss: 13342.6475 - MAE: 13342.6475\n",
            "Epoch 2/100\n",
            "34/34 [==============================] - 0s 2ms/step - loss: 13333.4785 - MAE: 13333.4785\n",
            "Epoch 3/100\n",
            "34/34 [==============================] - 0s 2ms/step - loss: 13312.0234 - MAE: 13312.0234\n",
            "Epoch 4/100\n",
            "34/34 [==============================] - 0s 2ms/step - loss: 13267.7930 - MAE: 13267.7930\n",
            "Epoch 5/100\n",
            "34/34 [==============================] - 0s 3ms/step - loss: 13189.5850 - MAE: 13189.5850\n",
            "Epoch 6/100\n",
            "34/34 [==============================] - 0s 2ms/step - loss: 13066.4502 - MAE: 13066.4502\n",
            "Epoch 7/100\n",
            "34/34 [==============================] - 0s 2ms/step - loss: 12888.1953 - MAE: 12888.1953\n",
            "Epoch 8/100\n",
            "34/34 [==============================] - 0s 2ms/step - loss: 12644.6523 - MAE: 12644.6523\n",
            "Epoch 9/100\n",
            "34/34 [==============================] - 0s 2ms/step - loss: 12325.5469 - MAE: 12325.5469\n",
            "Epoch 10/100\n",
            "34/34 [==============================] - 0s 2ms/step - loss: 11925.9658 - MAE: 11925.9658\n",
            "Epoch 11/100\n",
            "34/34 [==============================] - 0s 2ms/step - loss: 11454.3350 - MAE: 11454.3350\n",
            "Epoch 12/100\n",
            "34/34 [==============================] - 0s 2ms/step - loss: 10949.8086 - MAE: 10949.8086\n",
            "Epoch 13/100\n",
            "34/34 [==============================] - 0s 2ms/step - loss: 10448.9404 - MAE: 10448.9404\n",
            "Epoch 14/100\n",
            "34/34 [==============================] - 0s 2ms/step - loss: 9951.6250 - MAE: 9951.6250\n",
            "Epoch 15/100\n",
            "34/34 [==============================] - 0s 2ms/step - loss: 9482.7422 - MAE: 9482.7422\n",
            "Epoch 16/100\n",
            "34/34 [==============================] - 0s 2ms/step - loss: 9066.7461 - MAE: 9066.7461\n",
            "Epoch 17/100\n",
            "34/34 [==============================] - 0s 2ms/step - loss: 8721.9854 - MAE: 8721.9854\n",
            "Epoch 18/100\n",
            "34/34 [==============================] - 0s 2ms/step - loss: 8441.2002 - MAE: 8441.2002\n",
            "Epoch 19/100\n",
            "34/34 [==============================] - 0s 2ms/step - loss: 8227.5117 - MAE: 8227.5117\n",
            "Epoch 20/100\n",
            "34/34 [==============================] - 0s 2ms/step - loss: 8081.9775 - MAE: 8081.9775\n",
            "Epoch 21/100\n",
            "34/34 [==============================] - 0s 2ms/step - loss: 7973.8945 - MAE: 7973.8945\n",
            "Epoch 22/100\n",
            "34/34 [==============================] - 0s 2ms/step - loss: 7899.1597 - MAE: 7899.1597\n",
            "Epoch 23/100\n",
            "34/34 [==============================] - 0s 2ms/step - loss: 7840.3916 - MAE: 7840.3916\n",
            "Epoch 24/100\n",
            "34/34 [==============================] - 0s 2ms/step - loss: 7787.9619 - MAE: 7787.9619\n",
            "Epoch 25/100\n",
            "34/34 [==============================] - 0s 3ms/step - loss: 7749.2622 - MAE: 7749.2622\n",
            "Epoch 26/100\n",
            "34/34 [==============================] - 0s 2ms/step - loss: 7697.9595 - MAE: 7697.9595\n",
            "Epoch 27/100\n",
            "34/34 [==============================] - 0s 2ms/step - loss: 7656.0273 - MAE: 7656.0273\n",
            "Epoch 28/100\n",
            "34/34 [==============================] - 0s 2ms/step - loss: 7613.4780 - MAE: 7613.4780\n",
            "Epoch 29/100\n",
            "34/34 [==============================] - 0s 2ms/step - loss: 7570.9482 - MAE: 7570.9482\n",
            "Epoch 30/100\n",
            "34/34 [==============================] - 0s 2ms/step - loss: 7527.4175 - MAE: 7527.4175\n",
            "Epoch 31/100\n",
            "34/34 [==============================] - 0s 2ms/step - loss: 7483.5947 - MAE: 7483.5947\n",
            "Epoch 32/100\n",
            "34/34 [==============================] - 0s 3ms/step - loss: 7439.4424 - MAE: 7439.4424\n",
            "Epoch 33/100\n",
            "34/34 [==============================] - 0s 3ms/step - loss: 7395.0552 - MAE: 7395.0552\n",
            "Epoch 34/100\n",
            "34/34 [==============================] - 0s 2ms/step - loss: 7346.8125 - MAE: 7346.8125\n",
            "Epoch 35/100\n",
            "34/34 [==============================] - 0s 2ms/step - loss: 7300.0493 - MAE: 7300.0493\n",
            "Epoch 36/100\n",
            "34/34 [==============================] - 0s 3ms/step - loss: 7249.8452 - MAE: 7249.8452\n",
            "Epoch 37/100\n",
            "34/34 [==============================] - 0s 2ms/step - loss: 7199.5303 - MAE: 7199.5303\n",
            "Epoch 38/100\n",
            "34/34 [==============================] - 0s 2ms/step - loss: 7148.4805 - MAE: 7148.4805\n",
            "Epoch 39/100\n",
            "34/34 [==============================] - 0s 2ms/step - loss: 7093.6660 - MAE: 7093.6660\n",
            "Epoch 40/100\n",
            "34/34 [==============================] - 0s 2ms/step - loss: 7038.1797 - MAE: 7038.1797\n",
            "Epoch 41/100\n",
            "34/34 [==============================] - 0s 3ms/step - loss: 6981.7393 - MAE: 6981.7393\n",
            "Epoch 42/100\n",
            "34/34 [==============================] - 0s 3ms/step - loss: 6922.7847 - MAE: 6922.7847\n",
            "Epoch 43/100\n",
            "34/34 [==============================] - 0s 3ms/step - loss: 6860.1724 - MAE: 6860.1724\n",
            "Epoch 44/100\n",
            "34/34 [==============================] - 0s 2ms/step - loss: 6793.7979 - MAE: 6793.7979\n",
            "Epoch 45/100\n",
            "34/34 [==============================] - 0s 2ms/step - loss: 6726.6201 - MAE: 6726.6201\n",
            "Epoch 46/100\n",
            "34/34 [==============================] - 0s 2ms/step - loss: 6657.4683 - MAE: 6657.4683\n",
            "Epoch 47/100\n",
            "34/34 [==============================] - 0s 2ms/step - loss: 6586.3086 - MAE: 6586.3086\n",
            "Epoch 48/100\n",
            "34/34 [==============================] - 0s 2ms/step - loss: 6507.5063 - MAE: 6507.5063\n",
            "Epoch 49/100\n",
            "34/34 [==============================] - 0s 2ms/step - loss: 6428.6025 - MAE: 6428.6025\n",
            "Epoch 50/100\n",
            "34/34 [==============================] - 0s 2ms/step - loss: 6342.7100 - MAE: 6342.7100\n",
            "Epoch 51/100\n",
            "34/34 [==============================] - 0s 2ms/step - loss: 6258.0718 - MAE: 6258.0718\n",
            "Epoch 52/100\n",
            "34/34 [==============================] - 0s 2ms/step - loss: 6164.7046 - MAE: 6164.7046\n",
            "Epoch 53/100\n",
            "34/34 [==============================] - 0s 2ms/step - loss: 6068.6748 - MAE: 6068.6748\n",
            "Epoch 54/100\n",
            "34/34 [==============================] - 0s 2ms/step - loss: 5970.0981 - MAE: 5970.0981\n",
            "Epoch 55/100\n",
            "34/34 [==============================] - 0s 2ms/step - loss: 5862.5625 - MAE: 5862.5625\n",
            "Epoch 56/100\n",
            "34/34 [==============================] - 0s 2ms/step - loss: 5753.9531 - MAE: 5753.9531\n",
            "Epoch 57/100\n",
            "34/34 [==============================] - 0s 2ms/step - loss: 5638.0942 - MAE: 5638.0942\n",
            "Epoch 58/100\n",
            "34/34 [==============================] - 0s 2ms/step - loss: 5519.8687 - MAE: 5519.8687\n",
            "Epoch 59/100\n",
            "34/34 [==============================] - 0s 2ms/step - loss: 5401.3198 - MAE: 5401.3198\n",
            "Epoch 60/100\n",
            "34/34 [==============================] - 0s 2ms/step - loss: 5277.3506 - MAE: 5277.3506\n",
            "Epoch 61/100\n",
            "34/34 [==============================] - 0s 2ms/step - loss: 5149.7642 - MAE: 5149.7642\n",
            "Epoch 62/100\n",
            "34/34 [==============================] - 0s 2ms/step - loss: 5019.3540 - MAE: 5019.3540\n",
            "Epoch 63/100\n",
            "34/34 [==============================] - 0s 2ms/step - loss: 4889.6865 - MAE: 4889.6865\n",
            "Epoch 64/100\n",
            "34/34 [==============================] - 0s 2ms/step - loss: 4756.8560 - MAE: 4756.8560\n",
            "Epoch 65/100\n",
            "34/34 [==============================] - 0s 2ms/step - loss: 4629.4370 - MAE: 4629.4370\n",
            "Epoch 66/100\n",
            "34/34 [==============================] - 0s 2ms/step - loss: 4503.5991 - MAE: 4503.5991\n",
            "Epoch 67/100\n",
            "34/34 [==============================] - 0s 2ms/step - loss: 4392.9922 - MAE: 4392.9922\n",
            "Epoch 68/100\n",
            "34/34 [==============================] - 0s 2ms/step - loss: 4284.3862 - MAE: 4284.3862\n",
            "Epoch 69/100\n",
            "34/34 [==============================] - 0s 3ms/step - loss: 4182.6182 - MAE: 4182.6182\n",
            "Epoch 70/100\n",
            "34/34 [==============================] - 0s 2ms/step - loss: 4089.5720 - MAE: 4089.5720\n",
            "Epoch 71/100\n",
            "34/34 [==============================] - 0s 2ms/step - loss: 4003.3901 - MAE: 4003.3901\n",
            "Epoch 72/100\n",
            "34/34 [==============================] - 0s 2ms/step - loss: 3929.0093 - MAE: 3929.0093\n",
            "Epoch 73/100\n",
            "34/34 [==============================] - 0s 2ms/step - loss: 3866.3110 - MAE: 3866.3110\n",
            "Epoch 74/100\n",
            "34/34 [==============================] - 0s 2ms/step - loss: 3813.7144 - MAE: 3813.7144\n",
            "Epoch 75/100\n",
            "34/34 [==============================] - 0s 2ms/step - loss: 3773.0317 - MAE: 3773.0317\n",
            "Epoch 76/100\n",
            "34/34 [==============================] - 0s 2ms/step - loss: 3744.1995 - MAE: 3744.1995\n",
            "Epoch 77/100\n",
            "34/34 [==============================] - 0s 2ms/step - loss: 3719.6870 - MAE: 3719.6870\n",
            "Epoch 78/100\n",
            "34/34 [==============================] - 0s 2ms/step - loss: 3702.9109 - MAE: 3702.9109\n",
            "Epoch 79/100\n",
            "34/34 [==============================] - 0s 2ms/step - loss: 3691.8792 - MAE: 3691.8792\n",
            "Epoch 80/100\n",
            "34/34 [==============================] - 0s 2ms/step - loss: 3682.8350 - MAE: 3682.8350\n",
            "Epoch 81/100\n",
            "34/34 [==============================] - 0s 2ms/step - loss: 3676.9763 - MAE: 3676.9763\n",
            "Epoch 82/100\n",
            "34/34 [==============================] - 0s 2ms/step - loss: 3673.9492 - MAE: 3673.9492\n",
            "Epoch 83/100\n",
            "34/34 [==============================] - 0s 3ms/step - loss: 3667.8452 - MAE: 3667.8452\n",
            "Epoch 84/100\n",
            "34/34 [==============================] - 0s 2ms/step - loss: 3664.5757 - MAE: 3664.5757\n",
            "Epoch 85/100\n",
            "34/34 [==============================] - 0s 2ms/step - loss: 3661.8562 - MAE: 3661.8562\n",
            "Epoch 86/100\n",
            "34/34 [==============================] - 0s 2ms/step - loss: 3660.3049 - MAE: 3660.3049\n",
            "Epoch 87/100\n",
            "34/34 [==============================] - 0s 2ms/step - loss: 3657.5134 - MAE: 3657.5134\n",
            "Epoch 88/100\n",
            "34/34 [==============================] - 0s 2ms/step - loss: 3655.2200 - MAE: 3655.2200\n",
            "Epoch 89/100\n",
            "34/34 [==============================] - 0s 2ms/step - loss: 3653.8831 - MAE: 3653.8831\n",
            "Epoch 90/100\n",
            "34/34 [==============================] - 0s 2ms/step - loss: 3652.0195 - MAE: 3652.0195\n",
            "Epoch 91/100\n",
            "34/34 [==============================] - 0s 2ms/step - loss: 3648.9990 - MAE: 3648.9990\n",
            "Epoch 92/100\n",
            "34/34 [==============================] - 0s 2ms/step - loss: 3648.4463 - MAE: 3648.4463\n",
            "Epoch 93/100\n",
            "34/34 [==============================] - 0s 3ms/step - loss: 3646.2297 - MAE: 3646.2297\n",
            "Epoch 94/100\n",
            "34/34 [==============================] - 0s 2ms/step - loss: 3644.4377 - MAE: 3644.4377\n",
            "Epoch 95/100\n",
            "34/34 [==============================] - 0s 2ms/step - loss: 3645.8772 - MAE: 3645.8772\n",
            "Epoch 96/100\n",
            "34/34 [==============================] - 0s 2ms/step - loss: 3642.2573 - MAE: 3642.2573\n",
            "Epoch 97/100\n",
            "34/34 [==============================] - 0s 2ms/step - loss: 3640.1184 - MAE: 3640.1184\n",
            "Epoch 98/100\n",
            "34/34 [==============================] - 0s 2ms/step - loss: 3638.0649 - MAE: 3638.0649\n",
            "Epoch 99/100\n",
            "34/34 [==============================] - 0s 2ms/step - loss: 3637.2051 - MAE: 3637.2051\n",
            "Epoch 100/100\n",
            "34/34 [==============================] - 0s 2ms/step - loss: 3636.1707 - MAE: 3636.1707\n"
          ]
        },
        {
          "output_type": "execute_result",
          "data": {
            "text/plain": [
              "<keras.callbacks.History at 0x7ff003815790>"
            ]
          },
          "metadata": {},
          "execution_count": 26
        }
      ]
    },
    {
      "cell_type": "code",
      "metadata": {
        "id": "5eG_JyLAU63j",
        "outputId": "a0b12080-f525-406b-ca2c-83898f634906",
        "colab": {
          "base_uri": "https://localhost:8080/"
        }
      },
      "source": [
        "model_4.evaluate(X_test_normal, y_test)"
      ],
      "execution_count": 27,
      "outputs": [
        {
          "output_type": "stream",
          "name": "stdout",
          "text": [
            "9/9 [==============================] - 0s 2ms/step - loss: 3438.7844 - MAE: 3438.7844\n"
          ]
        },
        {
          "output_type": "execute_result",
          "data": {
            "text/plain": [
              "[3438.784423828125, 3438.784423828125]"
            ]
          },
          "metadata": {},
          "execution_count": 27
        }
      ]
    },
    {
      "cell_type": "markdown",
      "metadata": {
        "id": "nN1YdH1eVZT3"
      },
      "source": [
        "The loss got significantly reduced after using normalized data compared to model_2. Below was the result for model_2 which was having similar archetecture.\n",
        "\n",
        "`9/9 [==============================] - 0s 2ms/step - loss: 4924.3477 - mae: 4924.3477\n",
        "[4924.34765625, 4924.34765625]`\n"
      ]
    },
    {
      "cell_type": "code",
      "metadata": {
        "id": "5JyBOTWsWMy8"
      },
      "source": [
        ""
      ],
      "execution_count": 27,
      "outputs": []
    }
  ]
}