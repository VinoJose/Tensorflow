{
  "nbformat": 4,
  "nbformat_minor": 0,
  "metadata": {
    "colab": {
      "name": "01_neural_network_regression_in_tensorflow.ipynb",
      "provenance": [],
      "collapsed_sections": [],
      "include_colab_link": true
    },
    "kernelspec": {
      "name": "python3",
      "display_name": "Python 3"
    }
  },
  "cells": [
    {
      "cell_type": "markdown",
      "metadata": {
        "id": "view-in-github",
        "colab_type": "text"
      },
      "source": [
        "<a href=\"https://colab.research.google.com/github/VinoJose/Tensorflow/blob/main/01_neural_network_regression_in_tensorflow.ipynb\" target=\"_parent\"><img src=\"https://colab.research.google.com/assets/colab-badge.svg\" alt=\"Open In Colab\"/></a>"
      ]
    },
    {
      "cell_type": "markdown",
      "metadata": {
        "id": "mqgLQNYRKkYO"
      },
      "source": [
        "### Import tensorflow and other libraries"
      ]
    },
    {
      "cell_type": "code",
      "metadata": {
        "colab": {
          "base_uri": "https://localhost:8080/"
        },
        "id": "xZnM2UZ_KpJq",
        "outputId": "b1507a82-5299-447a-95b9-9c6d3fc9e7b1"
      },
      "source": [
        "import tensorflow as tf\n",
        "print(tf.__version__)"
      ],
      "execution_count": 2,
      "outputs": [
        {
          "output_type": "stream",
          "name": "stdout",
          "text": [
            "2.6.0\n"
          ]
        }
      ]
    },
    {
      "cell_type": "code",
      "metadata": {
        "id": "YxIzpYqGKuA_"
      },
      "source": [
        "import numpy as np\n",
        "import matplotlib.pyplot as plt"
      ],
      "execution_count": 3,
      "outputs": []
    },
    {
      "cell_type": "markdown",
      "metadata": {
        "id": "UuUz_44LLljV"
      },
      "source": [
        "### Create features and labels"
      ]
    },
    {
      "cell_type": "code",
      "metadata": {
        "colab": {
          "base_uri": "https://localhost:8080/",
          "height": 286
        },
        "id": "jd_kB7u2LtjP",
        "outputId": "5a4e5b6e-247c-4a71-ce12-ebc9999c88bb"
      },
      "source": [
        "# features\n",
        "X = np.array([-7.,-4.,-1.,2.,5.,8.,11.,14.])\n",
        "\n",
        "# labels\n",
        "y = np.array([3.,6.,9.,12.,15.,18.,21.,24.])\n",
        "\n",
        "# Visualize it\n",
        "plt.scatter(X,y)"
      ],
      "execution_count": 4,
      "outputs": [
        {
          "output_type": "execute_result",
          "data": {
            "text/plain": [
              "<matplotlib.collections.PathCollection at 0x7fb4af34dd90>"
            ]
          },
          "metadata": {},
          "execution_count": 4
        },
        {
          "output_type": "display_data",
          "data": {
            "image/png": "[encoded data removed]",
            "text/plain": [
              "<Figure size 432x288 with 1 Axes>"
            ]
          },
          "metadata": {
            "needs_background": "light"
          }
        }
      ]
    },
    {
      "cell_type": "code",
      "metadata": {
        "colab": {
          "base_uri": "https://localhost:8080/"
        },
        "id": "lpdHRbOuL5FH",
        "outputId": "4684ca92-38b1-43c2-d9f3-6bd5b956d560"
      },
      "source": [
        "y == X+10"
      ],
      "execution_count": 5,
      "outputs": [
        {
          "output_type": "execute_result",
          "data": {
            "text/plain": [
              "array([ True,  True,  True,  True,  True,  True,  True,  True])"
            ]
          },
          "metadata": {},
          "execution_count": 5
        }
      ]
    },
    {
      "cell_type": "markdown",
      "metadata": {
        "id": "touU_VzcL6X6"
      },
      "source": [
        "### Input and output shapes"
      ]
    },
    {
      "cell_type": "code",
      "metadata": {
        "colab": {
          "base_uri": "https://localhost:8080/"
        },
        "id": "jB5KQW3qM9C0",
        "outputId": "23553224-fa7a-4498-a983-8801acacf42c"
      },
      "source": [
        "# Create a demo tensor for our housing price predicton problem\n",
        "house_info = tf.constant(['bedroom', 'bathroom', 'garage'])\n",
        "house_price = tf.constant([939700])\n",
        "house_info, house_price"
      ],
      "execution_count": 6,
      "outputs": [
        {
          "output_type": "execute_result",
          "data": {
            "text/plain": [
              "(<tf.Tensor: shape=(3,), dtype=string, numpy=array([b'bedroom', b'bathroom', b'garage'], dtype=object)>,\n",
              " <tf.Tensor: shape=(1,), dtype=int32, numpy=array([939700], dtype=int32)>)"
            ]
          },
          "metadata": {},
          "execution_count": 6
        }
      ]
    },
    {
      "cell_type": "code",
      "metadata": {
        "colab": {
          "base_uri": "https://localhost:8080/"
        },
        "id": "vHbmmHgVagF5",
        "outputId": "ebde3529-3acd-4b39-8ff4-f6a6a84aada7"
      },
      "source": [
        "# Turn our numpy arrays to tensors\n",
        "X = tf.constant(X)\n",
        "y = tf.constant(y)\n",
        "X,y"
      ],
      "execution_count": 7,
      "outputs": [
        {
          "output_type": "execute_result",
          "data": {
            "text/plain": [
              "(<tf.Tensor: shape=(8,), dtype=float64, numpy=array([-7., -4., -1.,  2.,  5.,  8., 11., 14.])>,\n",
              " <tf.Tensor: shape=(8,), dtype=float64, numpy=array([ 3.,  6.,  9., 12., 15., 18., 21., 24.])>)"
            ]
          },
          "metadata": {},
          "execution_count": 7
        }
      ]
    },
    {
      "cell_type": "markdown",
      "metadata": {
        "id": "Kv4Ujt8TbXur"
      },
      "source": [
        "### Steps in modelling with TensorFlow"
      ]
    },
    {
      "cell_type": "markdown",
      "metadata": {
        "id": "bskRPfgSLqbJ"
      },
      "source": [
        "1. Create a model\n",
        "2. Compiling a model\n",
        "3. Fitting a model"
      ]
    },
    {
      "cell_type": "code",
      "metadata": {
        "colab": {
          "base_uri": "https://localhost:8080/"
        },
        "id": "pBRR4fSHL1QI",
        "outputId": "fea0e446-fafa-4016-a582-5fee92a678d6"
      },
      "source": [
        "# Set random seed\n",
        "tf.random.set_seed(42)\n",
        "\n",
        "# Create a model using Sequencial model\n",
        "model = tf.keras.Sequential([\n",
        "                            tf.keras.layers.Dense(1)                            \n",
        "])\n",
        "\n",
        "# Complile the model\n",
        "model.compile(loss=tf.keras.losses.MAE,\n",
        "              optimizer=tf.keras.optimizers.SGD(),\n",
        "              metrics=['mae'])\n",
        "\n",
        "# Fit the model\n",
        "model.fit(X, y, epochs=5)"
      ],
      "execution_count": 13,
      "outputs": [
        {
          "output_type": "stream",
          "name": "stdout",
          "text": [
            "Epoch 1/5\n",
            "1/1 [==============================] - 1s 753ms/step - loss: 11.5048 - mae: 11.5048\n",
            "Epoch 2/5\n",
            "1/1 [==============================] - 0s 7ms/step - loss: 11.3723 - mae: 11.3723\n",
            "Epoch 3/5\n",
            "1/1 [==============================] - 0s 7ms/step - loss: 11.2398 - mae: 11.2398\n",
            "Epoch 4/5\n",
            "1/1 [==============================] - 0s 8ms/step - loss: 11.1073 - mae: 11.1073\n",
            "Epoch 5/5\n",
            "1/1 [==============================] - 0s 9ms/step - loss: 10.9748 - mae: 10.9748\n"
          ]
        },
        {
          "output_type": "execute_result",
          "data": {
            "text/plain": [
              "<keras.callbacks.History at 0x7fb4a7aad850>"
            ]
          },
          "metadata": {},
          "execution_count": 13
        }
      ]
    },
    {
      "cell_type": "code",
      "metadata": {
        "colab": {
          "base_uri": "https://localhost:8080/"
        },
        "id": "Z_UmGDKGOVjM",
        "outputId": "5ef52eb8-ab28-46da-e578-df3300722b04"
      },
      "source": [
        "  y_pred = model.predict([17.0])\n",
        "  y_pred"
      ],
      "execution_count": 16,
      "outputs": [
        {
          "output_type": "execute_result",
          "data": {
            "text/plain": [
              "array([[12.716021]], dtype=float32)"
            ]
          },
          "metadata": {},
          "execution_count": 16
        }
      ]
    },
    {
      "cell_type": "markdown",
      "metadata": {
        "id": "9RBx1Q1AO5S2"
      },
      "source": [
        "Let's improve the model"
      ]
    },
    {
      "cell_type": "code",
      "metadata": {
        "colab": {
          "base_uri": "https://localhost:8080/"
        },
        "id": "gM6FKRJXSIFR",
        "outputId": "932f0d1d-af97-49ea-b719-e95d7bf52705"
      },
      "source": [
        "# Let's rebuild the model\n",
        "model = tf.keras.Sequential([\n",
        "                             tf.keras.layers.Dense(1)\n",
        "])\n",
        "\n",
        "model.compile(loss=tf.keras.losses.MAE,\n",
        "              optimizer=tf.keras.optimizers.SGD(),\n",
        "              metrics=['mae'])\n",
        "model.fit(X,y,epochs=100)"
      ],
      "execution_count": 19,
      "outputs": [
        {
          "output_type": "stream",
          "name": "stdout",
          "text": [
            "Epoch 1/100\n",
            "1/1 [==============================] - 0s 271ms/step - loss: 11.2219 - mae: 11.2219\n",
            "Epoch 2/100\n",
            "1/1 [==============================] - 0s 4ms/step - loss: 11.0894 - mae: 11.0894\n",
            "Epoch 3/100\n",
            "1/1 [==============================] - 0s 6ms/step - loss: 10.9569 - mae: 10.9569\n",
            "Epoch 4/100\n",
            "1/1 [==============================] - 0s 4ms/step - loss: 10.8244 - mae: 10.8244\n",
            "Epoch 5/100\n",
            "1/1 [==============================] - 0s 6ms/step - loss: 10.6919 - mae: 10.6919\n",
            "Epoch 6/100\n",
            "1/1 [==============================] - 0s 5ms/step - loss: 10.5594 - mae: 10.5594\n",
            "Epoch 7/100\n",
            "1/1 [==============================] - 0s 6ms/step - loss: 10.4269 - mae: 10.4269\n",
            "Epoch 8/100\n",
            "1/1 [==============================] - 0s 6ms/step - loss: 10.2944 - mae: 10.2944\n",
            "Epoch 9/100\n",
            "1/1 [==============================] - 0s 7ms/step - loss: 10.1619 - mae: 10.1619\n",
            "Epoch 10/100\n",
            "1/1 [==============================] - 0s 6ms/step - loss: 10.0294 - mae: 10.0294\n",
            "Epoch 11/100\n",
            "1/1 [==============================] - 0s 6ms/step - loss: 9.8969 - mae: 9.8969\n",
            "Epoch 12/100\n",
            "1/1 [==============================] - 0s 6ms/step - loss: 9.7644 - mae: 9.7644\n",
            "Epoch 13/100\n",
            "1/1 [==============================] - 0s 10ms/step - loss: 9.6319 - mae: 9.6319\n",
            "Epoch 14/100\n",
            "1/1 [==============================] - 0s 5ms/step - loss: 9.4994 - mae: 9.4994\n",
            "Epoch 15/100\n",
            "1/1 [==============================] - 0s 5ms/step - loss: 9.3669 - mae: 9.3669\n",
            "Epoch 16/100\n",
            "1/1 [==============================] - 0s 5ms/step - loss: 9.2344 - mae: 9.2344\n",
            "Epoch 17/100\n",
            "1/1 [==============================] - 0s 7ms/step - loss: 9.1019 - mae: 9.1019\n",
            "Epoch 18/100\n",
            "1/1 [==============================] - 0s 7ms/step - loss: 8.9694 - mae: 8.9694\n",
            "Epoch 19/100\n",
            "1/1 [==============================] - 0s 5ms/step - loss: 8.8369 - mae: 8.8369\n",
            "Epoch 20/100\n",
            "1/1 [==============================] - 0s 5ms/step - loss: 8.7044 - mae: 8.7044\n",
            "Epoch 21/100\n",
            "1/1 [==============================] - 0s 14ms/step - loss: 8.5719 - mae: 8.5719\n",
            "Epoch 22/100\n",
            "1/1 [==============================] - 0s 9ms/step - loss: 8.4394 - mae: 8.4394\n",
            "Epoch 23/100\n",
            "1/1 [==============================] - 0s 7ms/step - loss: 8.3069 - mae: 8.3069\n",
            "Epoch 24/100\n",
            "1/1 [==============================] - 0s 8ms/step - loss: 8.1744 - mae: 8.1744\n",
            "Epoch 25/100\n",
            "1/1 [==============================] - 0s 5ms/step - loss: 8.0419 - mae: 8.0419\n",
            "Epoch 26/100\n",
            "1/1 [==============================] - 0s 6ms/step - loss: 7.9094 - mae: 7.9094\n",
            "Epoch 27/100\n",
            "1/1 [==============================] - 0s 9ms/step - loss: 7.7769 - mae: 7.7769\n",
            "Epoch 28/100\n",
            "1/1 [==============================] - 0s 6ms/step - loss: 7.6444 - mae: 7.6444\n",
            "Epoch 29/100\n",
            "1/1 [==============================] - 0s 8ms/step - loss: 7.5119 - mae: 7.5119\n",
            "Epoch 30/100\n",
            "1/1 [==============================] - 0s 5ms/step - loss: 7.3794 - mae: 7.3794\n",
            "Epoch 31/100\n",
            "1/1 [==============================] - 0s 6ms/step - loss: 7.2750 - mae: 7.2750\n",
            "Epoch 32/100\n",
            "1/1 [==============================] - 0s 6ms/step - loss: 7.2694 - mae: 7.2694\n",
            "Epoch 33/100\n",
            "1/1 [==============================] - 0s 7ms/step - loss: 7.2638 - mae: 7.2638\n",
            "Epoch 34/100\n",
            "1/1 [==============================] - 0s 5ms/step - loss: 7.2581 - mae: 7.2581\n",
            "Epoch 35/100\n",
            "1/1 [==============================] - 0s 9ms/step - loss: 7.2525 - mae: 7.2525\n",
            "Epoch 36/100\n",
            "1/1 [==============================] - 0s 8ms/step - loss: 7.2469 - mae: 7.2469\n",
            "Epoch 37/100\n",
            "1/1 [==============================] - 0s 9ms/step - loss: 7.2412 - mae: 7.2412\n",
            "Epoch 38/100\n",
            "1/1 [==============================] - 0s 7ms/step - loss: 7.2356 - mae: 7.2356\n",
            "Epoch 39/100\n",
            "1/1 [==============================] - 0s 5ms/step - loss: 7.2300 - mae: 7.2300\n",
            "Epoch 40/100\n",
            "1/1 [==============================] - 0s 5ms/step - loss: 7.2244 - mae: 7.2244\n",
            "Epoch 41/100\n",
            "1/1 [==============================] - 0s 6ms/step - loss: 7.2188 - mae: 7.2188\n",
            "Epoch 42/100\n",
            "1/1 [==============================] - 0s 5ms/step - loss: 7.2131 - mae: 7.2131\n",
            "Epoch 43/100\n",
            "1/1 [==============================] - 0s 6ms/step - loss: 7.2075 - mae: 7.2075\n",
            "Epoch 44/100\n",
            "1/1 [==============================] - 0s 6ms/step - loss: 7.2019 - mae: 7.2019\n",
            "Epoch 45/100\n",
            "1/1 [==============================] - 0s 7ms/step - loss: 7.1962 - mae: 7.1962\n",
            "Epoch 46/100\n",
            "1/1 [==============================] - 0s 4ms/step - loss: 7.1906 - mae: 7.1906\n",
            "Epoch 47/100\n",
            "1/1 [==============================] - 0s 8ms/step - loss: 7.1850 - mae: 7.1850\n",
            "Epoch 48/100\n",
            "1/1 [==============================] - 0s 5ms/step - loss: 7.1794 - mae: 7.1794\n",
            "Epoch 49/100\n",
            "1/1 [==============================] - 0s 4ms/step - loss: 7.1737 - mae: 7.1737\n",
            "Epoch 50/100\n",
            "1/1 [==============================] - 0s 4ms/step - loss: 7.1681 - mae: 7.1681\n",
            "Epoch 51/100\n",
            "1/1 [==============================] - 0s 4ms/step - loss: 7.1625 - mae: 7.1625\n",
            "Epoch 52/100\n",
            "1/1 [==============================] - 0s 3ms/step - loss: 7.1569 - mae: 7.1569\n",
            "Epoch 53/100\n",
            "1/1 [==============================] - 0s 4ms/step - loss: 7.1512 - mae: 7.1512\n",
            "Epoch 54/100\n",
            "1/1 [==============================] - 0s 3ms/step - loss: 7.1456 - mae: 7.1456\n",
            "Epoch 55/100\n",
            "1/1 [==============================] - 0s 3ms/step - loss: 7.1400 - mae: 7.1400\n",
            "Epoch 56/100\n",
            "1/1 [==============================] - 0s 6ms/step - loss: 7.1344 - mae: 7.1344\n",
            "Epoch 57/100\n",
            "1/1 [==============================] - 0s 5ms/step - loss: 7.1287 - mae: 7.1287\n",
            "Epoch 58/100\n",
            "1/1 [==============================] - 0s 4ms/step - loss: 7.1231 - mae: 7.1231\n",
            "Epoch 59/100\n",
            "1/1 [==============================] - 0s 6ms/step - loss: 7.1175 - mae: 7.1175\n",
            "Epoch 60/100\n",
            "1/1 [==============================] - 0s 3ms/step - loss: 7.1119 - mae: 7.1119\n",
            "Epoch 61/100\n",
            "1/1 [==============================] - 0s 4ms/step - loss: 7.1062 - mae: 7.1062\n",
            "Epoch 62/100\n",
            "1/1 [==============================] - 0s 3ms/step - loss: 7.1006 - mae: 7.1006\n",
            "Epoch 63/100\n",
            "1/1 [==============================] - 0s 4ms/step - loss: 7.0950 - mae: 7.0950\n",
            "Epoch 64/100\n",
            "1/1 [==============================] - 0s 4ms/step - loss: 7.0894 - mae: 7.0894\n",
            "Epoch 65/100\n",
            "1/1 [==============================] - 0s 3ms/step - loss: 7.0838 - mae: 7.0838\n",
            "Epoch 66/100\n",
            "1/1 [==============================] - 0s 3ms/step - loss: 7.0781 - mae: 7.0781\n",
            "Epoch 67/100\n",
            "1/1 [==============================] - 0s 4ms/step - loss: 7.0725 - mae: 7.0725\n",
            "Epoch 68/100\n",
            "1/1 [==============================] - 0s 4ms/step - loss: 7.0669 - mae: 7.0669\n",
            "Epoch 69/100\n",
            "1/1 [==============================] - 0s 6ms/step - loss: 7.0613 - mae: 7.0613\n",
            "Epoch 70/100\n",
            "1/1 [==============================] - 0s 10ms/step - loss: 7.0556 - mae: 7.0556\n",
            "Epoch 71/100\n",
            "1/1 [==============================] - 0s 4ms/step - loss: 7.0500 - mae: 7.0500\n",
            "Epoch 72/100\n",
            "1/1 [==============================] - 0s 4ms/step - loss: 7.0444 - mae: 7.0444\n",
            "Epoch 73/100\n",
            "1/1 [==============================] - 0s 5ms/step - loss: 7.0388 - mae: 7.0388\n",
            "Epoch 74/100\n",
            "1/1 [==============================] - 0s 8ms/step - loss: 7.0331 - mae: 7.0331\n",
            "Epoch 75/100\n",
            "1/1 [==============================] - 0s 8ms/step - loss: 7.0275 - mae: 7.0275\n",
            "Epoch 76/100\n",
            "1/1 [==============================] - 0s 7ms/step - loss: 7.0219 - mae: 7.0219\n",
            "Epoch 77/100\n",
            "1/1 [==============================] - 0s 10ms/step - loss: 7.0163 - mae: 7.0163\n",
            "Epoch 78/100\n",
            "1/1 [==============================] - 0s 7ms/step - loss: 7.0106 - mae: 7.0106\n",
            "Epoch 79/100\n",
            "1/1 [==============================] - 0s 9ms/step - loss: 7.0050 - mae: 7.0050\n",
            "Epoch 80/100\n",
            "1/1 [==============================] - 0s 4ms/step - loss: 6.9994 - mae: 6.9994\n",
            "Epoch 81/100\n",
            "1/1 [==============================] - 0s 4ms/step - loss: 6.9938 - mae: 6.9938\n",
            "Epoch 82/100\n",
            "1/1 [==============================] - 0s 19ms/step - loss: 6.9881 - mae: 6.9881\n",
            "Epoch 83/100\n",
            "1/1 [==============================] - 0s 5ms/step - loss: 6.9825 - mae: 6.9825\n",
            "Epoch 84/100\n",
            "1/1 [==============================] - 0s 7ms/step - loss: 6.9769 - mae: 6.9769\n",
            "Epoch 85/100\n",
            "1/1 [==============================] - 0s 5ms/step - loss: 6.9713 - mae: 6.9713\n",
            "Epoch 86/100\n",
            "1/1 [==============================] - 0s 9ms/step - loss: 6.9656 - mae: 6.9656\n",
            "Epoch 87/100\n",
            "1/1 [==============================] - 0s 4ms/step - loss: 6.9600 - mae: 6.9600\n",
            "Epoch 88/100\n",
            "1/1 [==============================] - 0s 4ms/step - loss: 6.9544 - mae: 6.9544\n",
            "Epoch 89/100\n",
            "1/1 [==============================] - 0s 5ms/step - loss: 6.9488 - mae: 6.9488\n",
            "Epoch 90/100\n",
            "1/1 [==============================] - 0s 7ms/step - loss: 6.9431 - mae: 6.9431\n",
            "Epoch 91/100\n",
            "1/1 [==============================] - 0s 7ms/step - loss: 6.9375 - mae: 6.9375\n",
            "Epoch 92/100\n",
            "1/1 [==============================] - 0s 5ms/step - loss: 6.9319 - mae: 6.9319\n",
            "Epoch 93/100\n",
            "1/1 [==============================] - 0s 7ms/step - loss: 6.9263 - mae: 6.9263\n",
            "Epoch 94/100\n",
            "1/1 [==============================] - 0s 4ms/step - loss: 6.9206 - mae: 6.9206\n",
            "Epoch 95/100\n",
            "1/1 [==============================] - 0s 4ms/step - loss: 6.9150 - mae: 6.9150\n",
            "Epoch 96/100\n",
            "1/1 [==============================] - 0s 14ms/step - loss: 6.9094 - mae: 6.9094\n",
            "Epoch 97/100\n",
            "1/1 [==============================] - 0s 7ms/step - loss: 6.9038 - mae: 6.9038\n",
            "Epoch 98/100\n",
            "1/1 [==============================] - 0s 10ms/step - loss: 6.8981 - mae: 6.8981\n",
            "Epoch 99/100\n",
            "1/1 [==============================] - 0s 9ms/step - loss: 6.8925 - mae: 6.8925\n",
            "Epoch 100/100\n",
            "1/1 [==============================] - 0s 7ms/step - loss: 6.8869 - mae: 6.8869\n"
          ]
        },
        {
          "output_type": "execute_result",
          "data": {
            "text/plain": [
              "<keras.callbacks.History at 0x7fb4a5072190>"
            ]
          },
          "metadata": {},
          "execution_count": 19
        }
      ]
    },
    {
      "cell_type": "code",
      "metadata": {
        "colab": {
          "base_uri": "https://localhost:8080/"
        },
        "id": "wiGMZHqLTDdf",
        "outputId": "06e35ead-57f3-4959-f1f8-d399699657ca"
      },
      "source": [
        "X,y"
      ],
      "execution_count": 21,
      "outputs": [
        {
          "output_type": "execute_result",
          "data": {
            "text/plain": [
              "(<tf.Tensor: shape=(8,), dtype=float64, numpy=array([-7., -4., -1.,  2.,  5.,  8., 11., 14.])>,\n",
              " <tf.Tensor: shape=(8,), dtype=float64, numpy=array([ 3.,  6.,  9., 12., 15., 18., 21., 24.])>)"
            ]
          },
          "metadata": {},
          "execution_count": 21
        }
      ]
    },
    {
      "cell_type": "code",
      "metadata": {
        "colab": {
          "base_uri": "https://localhost:8080/"
        },
        "id": "U8EN0rSoSUh_",
        "outputId": "5fa80a77-1be5-464e-ac37-53b8196521be"
      },
      "source": [
        "y_pred = model.predict([17]) # expected value is 27\n",
        "y_pred"
      ],
      "execution_count": 20,
      "outputs": [
        {
          "output_type": "execute_result",
          "data": {
            "text/plain": [
              "array([[29.739855]], dtype=float32)"
            ]
          },
          "metadata": {},
          "execution_count": 20
        }
      ]
    },
    {
      "cell_type": "code",
      "metadata": {
        "colab": {
          "base_uri": "https://localhost:8080/"
        },
        "id": "kEw3RsYiS_LE",
        "outputId": "05d50b7c-9377-44a9-c02f-54a67beba4bc"
      },
      "source": [
        "# Let's create another model with more hidden layers\n",
        "model = tf.keras.Sequential([\n",
        "                             \n",
        "                             tf.keras.layers.Dense(100, activation='relu'),\n",
        "                             tf.keras.layers.Dense(1)\n",
        "])\n",
        "model.compile(loss=\"mae\",\n",
        "              optimizer=tf.keras.optimizers.SGD(),\n",
        "              metrics=['mae'])\n",
        "model.fit(X,y,epochs=100)"
      ],
      "execution_count": 25,
      "outputs": [
        {
          "output_type": "stream",
          "name": "stdout",
          "text": [
            "Epoch 1/100\n",
            "1/1 [==============================] - 0s 308ms/step - loss: 12.7339 - mae: 12.7339\n",
            "Epoch 2/100\n",
            "1/1 [==============================] - 0s 5ms/step - loss: 12.2088 - mae: 12.2088\n",
            "Epoch 3/100\n",
            "1/1 [==============================] - 0s 4ms/step - loss: 11.6861 - mae: 11.6861\n",
            "Epoch 4/100\n",
            "1/1 [==============================] - 0s 7ms/step - loss: 11.1615 - mae: 11.1615\n",
            "Epoch 5/100\n",
            "1/1 [==============================] - 0s 7ms/step - loss: 10.6118 - mae: 10.6118\n",
            "Epoch 6/100\n",
            "1/1 [==============================] - 0s 7ms/step - loss: 10.0388 - mae: 10.0388\n",
            "Epoch 7/100\n",
            "1/1 [==============================] - 0s 5ms/step - loss: 9.4399 - mae: 9.4399\n",
            "Epoch 8/100\n",
            "1/1 [==============================] - 0s 6ms/step - loss: 8.8100 - mae: 8.8100\n",
            "Epoch 9/100\n",
            "1/1 [==============================] - 0s 6ms/step - loss: 8.1464 - mae: 8.1464\n",
            "Epoch 10/100\n",
            "1/1 [==============================] - 0s 6ms/step - loss: 7.4413 - mae: 7.4413\n",
            "Epoch 11/100\n",
            "1/1 [==============================] - 0s 5ms/step - loss: 6.6796 - mae: 6.6796\n",
            "Epoch 12/100\n",
            "1/1 [==============================] - 0s 6ms/step - loss: 5.8587 - mae: 5.8587\n",
            "Epoch 13/100\n",
            "1/1 [==============================] - 0s 8ms/step - loss: 4.9722 - mae: 4.9722\n",
            "Epoch 14/100\n",
            "1/1 [==============================] - 0s 6ms/step - loss: 4.1661 - mae: 4.1661\n",
            "Epoch 15/100\n",
            "1/1 [==============================] - 0s 10ms/step - loss: 4.0374 - mae: 4.0374\n",
            "Epoch 16/100\n",
            "1/1 [==============================] - 0s 8ms/step - loss: 3.9411 - mae: 3.9411\n",
            "Epoch 17/100\n",
            "1/1 [==============================] - 0s 10ms/step - loss: 3.9415 - mae: 3.9415\n",
            "Epoch 18/100\n",
            "1/1 [==============================] - 0s 8ms/step - loss: 3.9232 - mae: 3.9232\n",
            "Epoch 19/100\n",
            "1/1 [==============================] - 0s 9ms/step - loss: 3.9527 - mae: 3.9527\n",
            "Epoch 20/100\n",
            "1/1 [==============================] - 0s 8ms/step - loss: 3.8979 - mae: 3.8979\n",
            "Epoch 21/100\n",
            "1/1 [==============================] - 0s 7ms/step - loss: 3.9597 - mae: 3.9597\n",
            "Epoch 22/100\n",
            "1/1 [==============================] - 0s 11ms/step - loss: 3.8929 - mae: 3.8929\n",
            "Epoch 23/100\n",
            "1/1 [==============================] - 0s 7ms/step - loss: 3.9454 - mae: 3.9454\n",
            "Epoch 24/100\n",
            "1/1 [==============================] - 0s 11ms/step - loss: 3.8998 - mae: 3.8998\n",
            "Epoch 25/100\n",
            "1/1 [==============================] - 0s 12ms/step - loss: 3.9221 - mae: 3.9221\n",
            "Epoch 26/100\n",
            "1/1 [==============================] - 0s 18ms/step - loss: 3.9144 - mae: 3.9144\n",
            "Epoch 27/100\n",
            "1/1 [==============================] - 0s 4ms/step - loss: 3.9019 - mae: 3.9019\n",
            "Epoch 28/100\n",
            "1/1 [==============================] - 0s 6ms/step - loss: 3.9215 - mae: 3.9215\n",
            "Epoch 29/100\n",
            "1/1 [==============================] - 0s 4ms/step - loss: 3.8765 - mae: 3.8765\n",
            "Epoch 30/100\n",
            "1/1 [==============================] - 0s 5ms/step - loss: 3.9287 - mae: 3.9287\n",
            "Epoch 31/100\n",
            "1/1 [==============================] - 0s 6ms/step - loss: 3.8624 - mae: 3.8624\n",
            "Epoch 32/100\n",
            "1/1 [==============================] - 0s 7ms/step - loss: 3.9235 - mae: 3.9235\n",
            "Epoch 33/100\n",
            "1/1 [==============================] - 0s 4ms/step - loss: 3.8695 - mae: 3.8695\n",
            "Epoch 34/100\n",
            "1/1 [==============================] - 0s 4ms/step - loss: 3.9051 - mae: 3.9051\n",
            "Epoch 35/100\n",
            "1/1 [==============================] - 0s 3ms/step - loss: 3.8843 - mae: 3.8843\n",
            "Epoch 36/100\n",
            "1/1 [==============================] - 0s 6ms/step - loss: 3.8795 - mae: 3.8795\n",
            "Epoch 37/100\n",
            "1/1 [==============================] - 0s 5ms/step - loss: 3.8916 - mae: 3.8916\n",
            "Epoch 38/100\n",
            "1/1 [==============================] - 0s 4ms/step - loss: 3.8538 - mae: 3.8538\n",
            "Epoch 39/100\n",
            "1/1 [==============================] - 0s 3ms/step - loss: 3.8990 - mae: 3.8990\n",
            "Epoch 40/100\n",
            "1/1 [==============================] - 0s 4ms/step - loss: 3.8331 - mae: 3.8331\n",
            "Epoch 41/100\n",
            "1/1 [==============================] - 0s 5ms/step - loss: 3.9004 - mae: 3.9004\n",
            "Epoch 42/100\n",
            "1/1 [==============================] - 0s 5ms/step - loss: 3.8448 - mae: 3.8448\n",
            "Epoch 43/100\n",
            "1/1 [==============================] - 0s 5ms/step - loss: 3.8816 - mae: 3.8816\n",
            "Epoch 44/100\n",
            "1/1 [==============================] - 0s 3ms/step - loss: 3.8554 - mae: 3.8554\n",
            "Epoch 45/100\n",
            "1/1 [==============================] - 0s 4ms/step - loss: 3.8558 - mae: 3.8558\n",
            "Epoch 46/100\n",
            "1/1 [==============================] - 0s 5ms/step - loss: 3.8628 - mae: 3.8628\n",
            "Epoch 47/100\n",
            "1/1 [==============================] - 0s 4ms/step - loss: 3.8298 - mae: 3.8298\n",
            "Epoch 48/100\n",
            "1/1 [==============================] - 0s 5ms/step - loss: 3.8705 - mae: 3.8705\n",
            "Epoch 49/100\n",
            "1/1 [==============================] - 0s 3ms/step - loss: 3.8049 - mae: 3.8049\n",
            "Epoch 50/100\n",
            "1/1 [==============================] - 0s 5ms/step - loss: 3.8783 - mae: 3.8783\n",
            "Epoch 51/100\n",
            "1/1 [==============================] - 0s 7ms/step - loss: 3.8200 - mae: 3.8200\n",
            "Epoch 52/100\n",
            "1/1 [==============================] - 0s 5ms/step - loss: 3.8569 - mae: 3.8569\n",
            "Epoch 53/100\n",
            "1/1 [==============================] - 0s 8ms/step - loss: 3.8275 - mae: 3.8275\n",
            "Epoch 54/100\n",
            "1/1 [==============================] - 0s 5ms/step - loss: 3.8308 - mae: 3.8308\n",
            "Epoch 55/100\n",
            "1/1 [==============================] - 0s 7ms/step - loss: 3.8353 - mae: 3.8353\n",
            "Epoch 56/100\n",
            "1/1 [==============================] - 0s 5ms/step - loss: 3.8046 - mae: 3.8046\n",
            "Epoch 57/100\n",
            "1/1 [==============================] - 0s 7ms/step - loss: 3.8431 - mae: 3.8431\n",
            "Epoch 58/100\n",
            "1/1 [==============================] - 0s 5ms/step - loss: 3.7782 - mae: 3.7782\n",
            "Epoch 59/100\n",
            "1/1 [==============================] - 0s 7ms/step - loss: 3.8572 - mae: 3.8572\n",
            "Epoch 60/100\n",
            "1/1 [==============================] - 0s 4ms/step - loss: 3.7930 - mae: 3.7930\n",
            "Epoch 61/100\n",
            "1/1 [==============================] - 0s 5ms/step - loss: 3.8310 - mae: 3.8310\n",
            "Epoch 62/100\n",
            "1/1 [==============================] - 0s 4ms/step - loss: 3.8008 - mae: 3.8008\n",
            "Epoch 63/100\n",
            "1/1 [==============================] - 0s 5ms/step - loss: 3.8045 - mae: 3.8045\n",
            "Epoch 64/100\n",
            "1/1 [==============================] - 0s 4ms/step - loss: 3.8087 - mae: 3.8087\n",
            "Epoch 65/100\n",
            "1/1 [==============================] - 0s 6ms/step - loss: 3.7780 - mae: 3.7780\n",
            "Epoch 66/100\n",
            "1/1 [==============================] - 0s 5ms/step - loss: 3.8168 - mae: 3.8168\n",
            "Epoch 67/100\n",
            "1/1 [==============================] - 0s 7ms/step - loss: 3.7558 - mae: 3.7558\n",
            "Epoch 68/100\n",
            "1/1 [==============================] - 0s 15ms/step - loss: 3.8302 - mae: 3.8302\n",
            "Epoch 69/100\n",
            "1/1 [==============================] - 0s 7ms/step - loss: 3.7672 - mae: 3.7672\n",
            "Epoch 70/100\n",
            "1/1 [==============================] - 0s 6ms/step - loss: 3.8036 - mae: 3.8036\n",
            "Epoch 71/100\n",
            "1/1 [==============================] - 0s 6ms/step - loss: 3.7752 - mae: 3.7752\n",
            "Epoch 72/100\n",
            "1/1 [==============================] - 0s 5ms/step - loss: 3.7769 - mae: 3.7769\n",
            "Epoch 73/100\n",
            "1/1 [==============================] - 0s 5ms/step - loss: 3.7833 - mae: 3.7833\n",
            "Epoch 74/100\n",
            "1/1 [==============================] - 0s 6ms/step - loss: 3.7501 - mae: 3.7501\n",
            "Epoch 75/100\n",
            "1/1 [==============================] - 0s 5ms/step - loss: 3.7925 - mae: 3.7925\n",
            "Epoch 76/100\n",
            "1/1 [==============================] - 0s 6ms/step - loss: 3.7343 - mae: 3.7343\n",
            "Epoch 77/100\n",
            "1/1 [==============================] - 0s 4ms/step - loss: 3.8019 - mae: 3.8019\n",
            "Epoch 78/100\n",
            "1/1 [==============================] - 0s 7ms/step - loss: 3.7424 - mae: 3.7424\n",
            "Epoch 79/100\n",
            "1/1 [==============================] - 0s 4ms/step - loss: 3.7750 - mae: 3.7750\n",
            "Epoch 80/100\n",
            "1/1 [==============================] - 0s 4ms/step - loss: 3.7506 - mae: 3.7506\n",
            "Epoch 81/100\n",
            "1/1 [==============================] - 0s 7ms/step - loss: 3.7480 - mae: 3.7480\n",
            "Epoch 82/100\n",
            "1/1 [==============================] - 0s 5ms/step - loss: 3.7589 - mae: 3.7589\n",
            "Epoch 83/100\n",
            "1/1 [==============================] - 0s 6ms/step - loss: 3.7209 - mae: 3.7209\n",
            "Epoch 84/100\n",
            "1/1 [==============================] - 0s 7ms/step - loss: 3.7726 - mae: 3.7726\n",
            "Epoch 85/100\n",
            "1/1 [==============================] - 0s 13ms/step - loss: 3.7103 - mae: 3.7103\n",
            "Epoch 86/100\n",
            "1/1 [==============================] - 0s 5ms/step - loss: 3.7723 - mae: 3.7723\n",
            "Epoch 87/100\n",
            "1/1 [==============================] - 0s 8ms/step - loss: 3.7186 - mae: 3.7186\n",
            "Epoch 88/100\n",
            "1/1 [==============================] - 0s 5ms/step - loss: 3.7450 - mae: 3.7450\n",
            "Epoch 89/100\n",
            "1/1 [==============================] - 0s 7ms/step - loss: 3.7270 - mae: 3.7270\n",
            "Epoch 90/100\n",
            "1/1 [==============================] - 0s 6ms/step - loss: 3.7178 - mae: 3.7178\n",
            "Epoch 91/100\n",
            "1/1 [==============================] - 0s 7ms/step - loss: 3.7355 - mae: 3.7355\n",
            "Epoch 92/100\n",
            "1/1 [==============================] - 0s 14ms/step - loss: 3.6929 - mae: 3.6929\n",
            "Epoch 93/100\n",
            "1/1 [==============================] - 0s 6ms/step - loss: 3.7515 - mae: 3.7515\n",
            "Epoch 94/100\n",
            "1/1 [==============================] - 0s 4ms/step - loss: 3.6873 - mae: 3.6873\n",
            "Epoch 95/100\n",
            "1/1 [==============================] - 0s 5ms/step - loss: 3.7413 - mae: 3.7413\n",
            "Epoch 96/100\n",
            "1/1 [==============================] - 0s 9ms/step - loss: 3.6958 - mae: 3.6958\n",
            "Epoch 97/100\n",
            "1/1 [==============================] - 0s 8ms/step - loss: 3.7138 - mae: 3.7138\n",
            "Epoch 98/100\n",
            "1/1 [==============================] - 0s 7ms/step - loss: 3.7044 - mae: 3.7044\n",
            "Epoch 99/100\n",
            "1/1 [==============================] - 0s 9ms/step - loss: 3.6862 - mae: 3.6862\n",
            "Epoch 100/100\n",
            "1/1 [==============================] - 0s 5ms/step - loss: 3.7131 - mae: 3.7131\n"
          ]
        },
        {
          "output_type": "execute_result",
          "data": {
            "text/plain": [
              "<keras.callbacks.History at 0x7fb4a6c09790>"
            ]
          },
          "metadata": {},
          "execution_count": 25
        }
      ]
    },
    {
      "cell_type": "code",
      "metadata": {
        "colab": {
          "base_uri": "https://localhost:8080/"
        },
        "id": "40F11TW0UZ5S",
        "outputId": "cbe45749-8375-4940-e65b-bfa69bf424ab"
      },
      "source": [
        "model.predict([17])"
      ],
      "execution_count": 28,
      "outputs": [
        {
          "output_type": "execute_result",
          "data": {
            "text/plain": [
              "array([[31.856882]], dtype=float32)"
            ]
          },
          "metadata": {},
          "execution_count": 28
        }
      ]
    },
    {
      "cell_type": "markdown",
      "metadata": {
        "id": "QyNXMQMJUhV2"
      },
      "source": [
        "# Evaluate the model"
      ]
    },
    {
      "cell_type": "markdown",
      "metadata": {
        "id": "BI1ss0yQXhr0"
      },
      "source": [
        "Creating a bigger dataset and then splitting it to training, validation and testing datasets"
      ]
    },
    {
      "cell_type": "code",
      "metadata": {
        "colab": {
          "base_uri": "https://localhost:8080/"
        },
        "id": "oetSd1QrYAmH",
        "outputId": "0a6a382f-f1a9-44b3-f21d-742588607ed7"
      },
      "source": [
        "X = tf.range(-100,100,4)\n",
        "X"
      ],
      "execution_count": 32,
      "outputs": [
        {
          "output_type": "execute_result",
          "data": {
            "text/plain": [
              "<tf.Tensor: shape=(50,), dtype=int32, numpy=\n",
              "array([-100,  -96,  -92,  -88,  -84,  -80,  -76,  -72,  -68,  -64,  -60,\n",
              "        -56,  -52,  -48,  -44,  -40,  -36,  -32,  -28,  -24,  -20,  -16,\n",
              "        -12,   -8,   -4,    0,    4,    8,   12,   16,   20,   24,   28,\n",
              "         32,   36,   40,   44,   48,   52,   56,   60,   64,   68,   72,\n",
              "         76,   80,   84,   88,   92,   96], dtype=int32)>"
            ]
          },
          "metadata": {},
          "execution_count": 32
        }
      ]
    },
    {
      "cell_type": "code",
      "metadata": {
        "colab": {
          "base_uri": "https://localhost:8080/"
        },
        "id": "PZ-TozclYKsl",
        "outputId": "d8808f0e-acf5-47f7-bdc4-667907f8c612"
      },
      "source": [
        "y = X + 10\n",
        "y"
      ],
      "execution_count": 34,
      "outputs": [
        {
          "output_type": "execute_result",
          "data": {
            "text/plain": [
              "<tf.Tensor: shape=(50,), dtype=int32, numpy=\n",
              "array([-90, -86, -82, -78, -74, -70, -66, -62, -58, -54, -50, -46, -42,\n",
              "       -38, -34, -30, -26, -22, -18, -14, -10,  -6,  -2,   2,   6,  10,\n",
              "        14,  18,  22,  26,  30,  34,  38,  42,  46,  50,  54,  58,  62,\n",
              "        66,  70,  74,  78,  82,  86,  90,  94,  98, 102, 106], dtype=int32)>"
            ]
          },
          "metadata": {},
          "execution_count": 34
        }
      ]
    },
    {
      "cell_type": "code",
      "metadata": {
        "colab": {
          "base_uri": "https://localhost:8080/",
          "height": 282
        },
        "id": "urLFjAxOYn61",
        "outputId": "0ae4970e-f80a-4e22-e86c-e794f369a783"
      },
      "source": [
        "# Visualize\n",
        "plt.scatter(X,y)"
      ],
      "execution_count": 35,
      "outputs": [
        {
          "output_type": "execute_result",
          "data": {
            "text/plain": [
              "<matplotlib.collections.PathCollection at 0x7fb4a5fe89d0>"
            ]
          },
          "metadata": {},
          "execution_count": 35
        },
        {
          "output_type": "display_data",
          "data": {
            "image/png": "[encoded data removed]",
            "text/plain": [
              "<Figure size 432x288 with 1 Axes>"
            ]
          },
          "metadata": {
            "needs_background": "light"
          }
        }
      ]
    },
    {
      "cell_type": "code",
      "metadata": {
        "id": "FOs2gqkQZTXE"
      },
      "source": [
        "X_train = X[:40]\n",
        "y_train = y[:40]\n",
        "X_test = X[40:]\n",
        "y_test = y[40:]"
      ],
      "execution_count": 36,
      "outputs": []
    },
    {
      "cell_type": "code",
      "metadata": {
        "colab": {
          "base_uri": "https://localhost:8080/",
          "height": 282
        },
        "id": "Xw1-WYQEZ8Vi",
        "outputId": "28308715-0cd9-4e81-97e8-5a8013ee3bfd"
      },
      "source": [
        "plt.scatter(X_train,y_train, c=\"b\", label= \"Training data\")\n",
        "plt.scatter(X_test,y_test, c=\"g\", label= \"Testing data\")\n",
        "plt.legend()"
      ],
      "execution_count": 43,
      "outputs": [
        {
          "output_type": "execute_result",
          "data": {
            "text/plain": [
              "<matplotlib.legend.Legend at 0x7fb4a5a03490>"
            ]
          },
          "metadata": {},
          "execution_count": 43
        },
        {
          "output_type": "display_data",
          "data": {
            "image/png": "[encoded data removed]",
            "text/plain": [
              "<Figure size 432x288 with 1 Axes>"
            ]
          },
          "metadata": {
            "needs_background": "light"
          }
        }
      ]
    },
    {
      "cell_type": "markdown",
      "metadata": {
        "id": "2M_DE5xBaV-F"
      },
      "source": [
        "### Lets visualize a model"
      ]
    },
    {
      "cell_type": "code",
      "metadata": {
        "id": "bxcyv5XFb3iq"
      },
      "source": [
        "model = tf.keras.Sequential([\n",
        "                             tf.keras.layers.Dense(1)\n",
        "])\n",
        "model.compile(loss=\"mae\",\n",
        "              optimizer=\"SGD\",\n",
        "              metrics=[\"mae\"])\n",
        "\n",
        "\n",
        "#model.fit(X_train,y_train,epochs=100)"
      ],
      "execution_count": 49,
      "outputs": []
    },
    {
      "cell_type": "code",
      "metadata": {
        "colab": {
          "base_uri": "https://localhost:8080/",
          "height": 299
        },
        "id": "_6SGZWlwcWAt",
        "outputId": "0bdb6dc5-af6b-410f-9b65-03c364e054ca"
      },
      "source": [
        "model.summary()"
      ],
      "execution_count": 50,
      "outputs": [
        {
          "output_type": "error",
          "ename": "ValueError",
          "evalue": "ignored",
          "traceback": [
            "\u001b[0;31m---------------------------------------------------------------------------\u001b[0m",
            "\u001b[0;31mValueError\u001b[0m                                Traceback (most recent call last)",
            "\u001b[0;32m<ipython-input-50-5f15418b3570>\u001b[0m in \u001b[0;36m<module>\u001b[0;34m()\u001b[0m\n\u001b[0;32m----> 1\u001b[0;31m \u001b[0mmodel\u001b[0m\u001b[0;34m.\u001b[0m\u001b[0msummary\u001b[0m\u001b[0;34m(\u001b[0m\u001b[0;34m)\u001b[0m\u001b[0;34m\u001b[0m\u001b[0;34m\u001b[0m\u001b[0m\n\u001b[0m",
            "\u001b[0;32m/usr/local/lib/python3.7/dist-packages/keras/engine/training.py\u001b[0m in \u001b[0;36msummary\u001b[0;34m(self, line_length, positions, print_fn)\u001b[0m\n\u001b[1;32m   2519\u001b[0m     \"\"\"\n\u001b[1;32m   2520\u001b[0m     \u001b[0;32mif\u001b[0m \u001b[0;32mnot\u001b[0m \u001b[0mself\u001b[0m\u001b[0;34m.\u001b[0m\u001b[0mbuilt\u001b[0m\u001b[0;34m:\u001b[0m\u001b[0;34m\u001b[0m\u001b[0;34m\u001b[0m\u001b[0m\n\u001b[0;32m-> 2521\u001b[0;31m       raise ValueError('This model has not yet been built. '\n\u001b[0m\u001b[1;32m   2522\u001b[0m                        \u001b[0;34m'Build the model first by calling `build()` or calling '\u001b[0m\u001b[0;34m\u001b[0m\u001b[0;34m\u001b[0m\u001b[0m\n\u001b[1;32m   2523\u001b[0m                        \u001b[0;34m'`fit()` with some data, or specify '\u001b[0m\u001b[0;34m\u001b[0m\u001b[0;34m\u001b[0m\u001b[0m\n",
            "\u001b[0;31mValueError\u001b[0m: This model has not yet been built. Build the model first by calling `build()` or calling `fit()` with some data, or specify an `input_shape` argument in the first layer(s) for automatic build."
          ]
        }
      ]
    },
    {
      "cell_type": "markdown",
      "metadata": {
        "id": "ylL_3DlqdBmZ"
      },
      "source": [
        "Above error is because model is not able to calculate the input shape"
      ]
    },
    {
      "cell_type": "code",
      "metadata": {
        "id": "RFbfJE4UfP17"
      },
      "source": [
        "# Let's build the model with the input shape specified\n",
        "model = tf.keras.Sequential([\n",
        "                             tf.keras.layers.Dense(10,input_shape=[1], name= \"Input_Layer\"),\n",
        "                             tf.keras.layers.Dense(1, name=\"Output_Layer\")\n",
        "])\n",
        "model.compile(loss=\"mae\",\n",
        "              optimizer=tf.keras.optimizers.Adam(learning_rate=0.01),\n",
        "              metrics=[\"mae\"])"
      ],
      "execution_count": 123,
      "outputs": []
    },
    {
      "cell_type": "code",
      "metadata": {
        "colab": {
          "base_uri": "https://localhost:8080/"
        },
        "id": "iLVy9YGOgFJx",
        "outputId": "d02db4d9-6df1-4c10-e68f-27f349d1a7e1"
      },
      "source": [
        "model.summary()"
      ],
      "execution_count": 124,
      "outputs": [
        {
          "output_type": "stream",
          "name": "stdout",
          "text": [
            "Model: \"sequential_25\"\n",
            "_________________________________________________________________\n",
            "Layer (type)                 Output Shape              Param #   \n",
            "=================================================================\n",
            "Input_Layer (Dense)          (None, 10)                20        \n",
            "_________________________________________________________________\n",
            "Output_Layer (Dense)         (None, 1)                 11        \n",
            "=================================================================\n",
            "Total params: 31\n",
            "Trainable params: 31\n",
            "Non-trainable params: 0\n",
            "_________________________________________________________________\n"
          ]
        }
      ]
    },
    {
      "cell_type": "code",
      "metadata": {
        "colab": {
          "base_uri": "https://localhost:8080/"
        },
        "id": "l8KebO78iGsD",
        "outputId": "7738a122-3ed2-46f7-99f0-55873d5f4c05"
      },
      "source": [
        "model.fit(X_train,y_train,epochs=100, verbose=1)"
      ],
      "execution_count": 125,
      "outputs": [
        {
          "output_type": "stream",
          "name": "stdout",
          "text": [
            "Epoch 1/100\n",
            "2/2 [==============================] - 0s 7ms/step - loss: 78.1541 - mae: 78.1541\n",
            "Epoch 2/100\n",
            "2/2 [==============================] - 0s 8ms/step - loss: 72.3462 - mae: 72.3462\n",
            "Epoch 3/100\n",
            "2/2 [==============================] - 0s 4ms/step - loss: 67.0131 - mae: 67.0131\n",
            "Epoch 4/100\n",
            "2/2 [==============================] - 0s 6ms/step - loss: 61.8791 - mae: 61.8791\n",
            "Epoch 5/100\n",
            "2/2 [==============================] - 0s 4ms/step - loss: 57.1092 - mae: 57.1092\n",
            "Epoch 6/100\n",
            "2/2 [==============================] - 0s 5ms/step - loss: 52.5450 - mae: 52.5450\n",
            "Epoch 7/100\n",
            "2/2 [==============================] - 0s 3ms/step - loss: 48.2039 - mae: 48.2039\n",
            "Epoch 8/100\n",
            "2/2 [==============================] - 0s 4ms/step - loss: 43.9137 - mae: 43.9137\n",
            "Epoch 9/100\n",
            "2/2 [==============================] - 0s 5ms/step - loss: 40.0341 - mae: 40.0341\n",
            "Epoch 10/100\n",
            "2/2 [==============================] - 0s 4ms/step - loss: 36.2533 - mae: 36.2533\n",
            "Epoch 11/100\n",
            "2/2 [==============================] - 0s 4ms/step - loss: 32.2948 - mae: 32.2948\n",
            "Epoch 12/100\n",
            "2/2 [==============================] - 0s 4ms/step - loss: 28.6452 - mae: 28.6452\n",
            "Epoch 13/100\n",
            "2/2 [==============================] - 0s 4ms/step - loss: 24.8361 - mae: 24.8361\n",
            "Epoch 14/100\n",
            "2/2 [==============================] - 0s 5ms/step - loss: 21.2919 - mae: 21.2919\n",
            "Epoch 15/100\n",
            "2/2 [==============================] - 0s 3ms/step - loss: 17.7218 - mae: 17.7218\n",
            "Epoch 16/100\n",
            "2/2 [==============================] - 0s 6ms/step - loss: 14.1025 - mae: 14.1025\n",
            "Epoch 17/100\n",
            "2/2 [==============================] - 0s 11ms/step - loss: 10.8182 - mae: 10.8182\n",
            "Epoch 18/100\n",
            "2/2 [==============================] - 0s 8ms/step - loss: 8.5691 - mae: 8.5691\n",
            "Epoch 19/100\n",
            "2/2 [==============================] - 0s 6ms/step - loss: 8.8621 - mae: 8.8621\n",
            "Epoch 20/100\n",
            "2/2 [==============================] - 0s 14ms/step - loss: 9.8471 - mae: 9.8471\n",
            "Epoch 21/100\n",
            "2/2 [==============================] - 0s 6ms/step - loss: 10.3498 - mae: 10.3498\n",
            "Epoch 22/100\n",
            "2/2 [==============================] - 0s 7ms/step - loss: 10.4165 - mae: 10.4165\n",
            "Epoch 23/100\n",
            "2/2 [==============================] - 0s 8ms/step - loss: 10.1565 - mae: 10.1565\n",
            "Epoch 24/100\n",
            "2/2 [==============================] - 0s 4ms/step - loss: 9.6687 - mae: 9.6687\n",
            "Epoch 25/100\n",
            "2/2 [==============================] - 0s 5ms/step - loss: 8.8692 - mae: 8.8692\n",
            "Epoch 26/100\n",
            "2/2 [==============================] - 0s 9ms/step - loss: 7.9725 - mae: 7.9725\n",
            "Epoch 27/100\n",
            "2/2 [==============================] - 0s 8ms/step - loss: 7.5682 - mae: 7.5682\n",
            "Epoch 28/100\n",
            "2/2 [==============================] - 0s 5ms/step - loss: 8.0262 - mae: 8.0262\n",
            "Epoch 29/100\n",
            "2/2 [==============================] - 0s 8ms/step - loss: 8.4944 - mae: 8.4944\n",
            "Epoch 30/100\n",
            "2/2 [==============================] - 0s 9ms/step - loss: 8.4735 - mae: 8.4735\n",
            "Epoch 31/100\n",
            "2/2 [==============================] - 0s 6ms/step - loss: 8.0498 - mae: 8.0498\n",
            "Epoch 32/100\n",
            "2/2 [==============================] - 0s 5ms/step - loss: 7.4822 - mae: 7.4822\n",
            "Epoch 33/100\n",
            "2/2 [==============================] - 0s 7ms/step - loss: 7.1879 - mae: 7.1879\n",
            "Epoch 34/100\n",
            "2/2 [==============================] - 0s 7ms/step - loss: 7.2858 - mae: 7.2858\n",
            "Epoch 35/100\n",
            "2/2 [==============================] - 0s 5ms/step - loss: 7.2511 - mae: 7.2511\n",
            "Epoch 36/100\n",
            "2/2 [==============================] - 0s 4ms/step - loss: 7.0221 - mae: 7.0221\n",
            "Epoch 37/100\n",
            "2/2 [==============================] - 0s 11ms/step - loss: 6.9438 - mae: 6.9438\n",
            "Epoch 38/100\n",
            "2/2 [==============================] - 0s 8ms/step - loss: 7.0848 - mae: 7.0848\n",
            "Epoch 39/100\n",
            "2/2 [==============================] - 0s 6ms/step - loss: 7.1556 - mae: 7.1556\n",
            "Epoch 40/100\n",
            "2/2 [==============================] - 0s 5ms/step - loss: 7.0592 - mae: 7.0592\n",
            "Epoch 41/100\n",
            "2/2 [==============================] - 0s 9ms/step - loss: 6.8439 - mae: 6.8439\n",
            "Epoch 42/100\n",
            "2/2 [==============================] - 0s 8ms/step - loss: 6.6581 - mae: 6.6581\n",
            "Epoch 43/100\n",
            "2/2 [==============================] - 0s 8ms/step - loss: 6.6853 - mae: 6.6853\n",
            "Epoch 44/100\n",
            "2/2 [==============================] - 0s 4ms/step - loss: 6.6473 - mae: 6.6473\n",
            "Epoch 45/100\n",
            "2/2 [==============================] - 0s 4ms/step - loss: 6.4520 - mae: 6.4520\n",
            "Epoch 46/100\n",
            "2/2 [==============================] - 0s 4ms/step - loss: 6.4265 - mae: 6.4265\n",
            "Epoch 47/100\n",
            "2/2 [==============================] - 0s 4ms/step - loss: 6.5328 - mae: 6.5328\n",
            "Epoch 48/100\n",
            "2/2 [==============================] - 0s 4ms/step - loss: 6.5727 - mae: 6.5727\n",
            "Epoch 49/100\n",
            "2/2 [==============================] - 0s 3ms/step - loss: 6.4888 - mae: 6.4888\n",
            "Epoch 50/100\n",
            "2/2 [==============================] - 0s 3ms/step - loss: 6.2844 - mae: 6.2844\n",
            "Epoch 51/100\n",
            "2/2 [==============================] - 0s 7ms/step - loss: 6.0886 - mae: 6.0886\n",
            "Epoch 52/100\n",
            "2/2 [==============================] - 0s 4ms/step - loss: 6.0708 - mae: 6.0708\n",
            "Epoch 53/100\n",
            "2/2 [==============================] - 0s 4ms/step - loss: 5.9852 - mae: 5.9852\n",
            "Epoch 54/100\n",
            "2/2 [==============================] - 0s 3ms/step - loss: 5.9139 - mae: 5.9139\n",
            "Epoch 55/100\n",
            "2/2 [==============================] - 0s 4ms/step - loss: 5.9537 - mae: 5.9537\n",
            "Epoch 56/100\n",
            "2/2 [==============================] - 0s 3ms/step - loss: 5.8843 - mae: 5.8843\n",
            "Epoch 57/100\n",
            "2/2 [==============================] - 0s 3ms/step - loss: 5.7089 - mae: 5.7089\n",
            "Epoch 58/100\n",
            "2/2 [==============================] - 0s 3ms/step - loss: 5.7306 - mae: 5.7306\n",
            "Epoch 59/100\n",
            "2/2 [==============================] - 0s 6ms/step - loss: 5.7471 - mae: 5.7471\n",
            "Epoch 60/100\n",
            "2/2 [==============================] - 0s 3ms/step - loss: 5.5447 - mae: 5.5447\n",
            "Epoch 61/100\n",
            "2/2 [==============================] - 0s 3ms/step - loss: 5.4522 - mae: 5.4522\n",
            "Epoch 62/100\n",
            "2/2 [==============================] - 0s 20ms/step - loss: 5.4589 - mae: 5.4589\n",
            "Epoch 63/100\n",
            "2/2 [==============================] - 0s 4ms/step - loss: 5.4183 - mae: 5.4183\n",
            "Epoch 64/100\n",
            "2/2 [==============================] - 0s 4ms/step - loss: 5.2970 - mae: 5.2970\n",
            "Epoch 65/100\n",
            "2/2 [==============================] - 0s 9ms/step - loss: 5.1776 - mae: 5.1776\n",
            "Epoch 66/100\n",
            "2/2 [==============================] - 0s 3ms/step - loss: 5.1331 - mae: 5.1331\n",
            "Epoch 67/100\n",
            "2/2 [==============================] - 0s 4ms/step - loss: 5.1138 - mae: 5.1138\n",
            "Epoch 68/100\n",
            "2/2 [==============================] - 0s 3ms/step - loss: 4.9461 - mae: 4.9461\n",
            "Epoch 69/100\n",
            "2/2 [==============================] - 0s 4ms/step - loss: 4.9391 - mae: 4.9391\n",
            "Epoch 70/100\n",
            "2/2 [==============================] - 0s 4ms/step - loss: 5.0127 - mae: 5.0127\n",
            "Epoch 71/100\n",
            "2/2 [==============================] - 0s 3ms/step - loss: 4.8542 - mae: 4.8542\n",
            "Epoch 72/100\n",
            "2/2 [==============================] - 0s 5ms/step - loss: 4.6404 - mae: 4.6404\n",
            "Epoch 73/100\n",
            "2/2 [==============================] - 0s 3ms/step - loss: 4.8041 - mae: 4.8041\n",
            "Epoch 74/100\n",
            "2/2 [==============================] - 0s 9ms/step - loss: 4.7851 - mae: 4.7851\n",
            "Epoch 75/100\n",
            "2/2 [==============================] - 0s 6ms/step - loss: 4.4592 - mae: 4.4592\n",
            "Epoch 76/100\n",
            "2/2 [==============================] - 0s 6ms/step - loss: 4.4100 - mae: 4.4100\n",
            "Epoch 77/100\n",
            "2/2 [==============================] - 0s 4ms/step - loss: 4.3819 - mae: 4.3819\n",
            "Epoch 78/100\n",
            "2/2 [==============================] - 0s 7ms/step - loss: 4.1810 - mae: 4.1810\n",
            "Epoch 79/100\n",
            "2/2 [==============================] - 0s 3ms/step - loss: 4.0547 - mae: 4.0547\n",
            "Epoch 80/100\n",
            "2/2 [==============================] - 0s 5ms/step - loss: 4.0075 - mae: 4.0075\n",
            "Epoch 81/100\n",
            "2/2 [==============================] - 0s 5ms/step - loss: 3.9704 - mae: 3.9704\n",
            "Epoch 82/100\n",
            "2/2 [==============================] - 0s 3ms/step - loss: 3.7792 - mae: 3.7792\n",
            "Epoch 83/100\n",
            "2/2 [==============================] - 0s 6ms/step - loss: 3.7030 - mae: 3.7030\n",
            "Epoch 84/100\n",
            "2/2 [==============================] - 0s 8ms/step - loss: 3.6109 - mae: 3.6109\n",
            "Epoch 85/100\n",
            "2/2 [==============================] - 0s 19ms/step - loss: 3.5140 - mae: 3.5140\n",
            "Epoch 86/100\n",
            "2/2 [==============================] - 0s 7ms/step - loss: 3.3796 - mae: 3.3796\n",
            "Epoch 87/100\n",
            "2/2 [==============================] - 0s 4ms/step - loss: 3.2894 - mae: 3.2894\n",
            "Epoch 88/100\n",
            "2/2 [==============================] - 0s 3ms/step - loss: 3.1694 - mae: 3.1694\n",
            "Epoch 89/100\n",
            "2/2 [==============================] - 0s 3ms/step - loss: 3.0998 - mae: 3.0998\n",
            "Epoch 90/100\n",
            "2/2 [==============================] - 0s 3ms/step - loss: 2.9249 - mae: 2.9249\n",
            "Epoch 91/100\n",
            "2/2 [==============================] - 0s 3ms/step - loss: 2.8474 - mae: 2.8474\n",
            "Epoch 92/100\n",
            "2/2 [==============================] - 0s 4ms/step - loss: 2.7293 - mae: 2.7293\n",
            "Epoch 93/100\n",
            "2/2 [==============================] - 0s 3ms/step - loss: 2.5870 - mae: 2.5870\n",
            "Epoch 94/100\n",
            "2/2 [==============================] - 0s 4ms/step - loss: 2.4688 - mae: 2.4688\n",
            "Epoch 95/100\n",
            "2/2 [==============================] - 0s 4ms/step - loss: 2.4234 - mae: 2.4234\n",
            "Epoch 96/100\n",
            "2/2 [==============================] - 0s 5ms/step - loss: 2.1740 - mae: 2.1740\n",
            "Epoch 97/100\n",
            "2/2 [==============================] - 0s 5ms/step - loss: 2.1124 - mae: 2.1124\n",
            "Epoch 98/100\n",
            "2/2 [==============================] - 0s 4ms/step - loss: 2.0098 - mae: 2.0098\n",
            "Epoch 99/100\n",
            "2/2 [==============================] - 0s 4ms/step - loss: 1.7870 - mae: 1.7870\n",
            "Epoch 100/100\n",
            "2/2 [==============================] - 0s 6ms/step - loss: 1.5875 - mae: 1.5875\n"
          ]
        },
        {
          "output_type": "execute_result",
          "data": {
            "text/plain": [
              "<keras.callbacks.History at 0x7fb49c03b690>"
            ]
          },
          "metadata": {},
          "execution_count": 125
        }
      ]
    },
    {
      "cell_type": "code",
      "metadata": {
        "id": "SJUKLuFZnREJ",
        "outputId": "f78b1d61-89b7-47a2-f73f-8cd1c9f360c7",
        "colab": {
          "base_uri": "https://localhost:8080/"
        }
      },
      "source": [
        "model.predict([17])"
      ],
      "execution_count": 126,
      "outputs": [
        {
          "output_type": "execute_result",
          "data": {
            "text/plain": [
              "array([[24.92706]], dtype=float32)"
            ]
          },
          "metadata": {},
          "execution_count": 126
        }
      ]
    },
    {
      "cell_type": "code",
      "metadata": {
        "id": "dHXBlobgjrqk"
      },
      "source": [
        "# Another way of visualizing a model\n",
        "from tensorflow.keras.utils import plot_model"
      ],
      "execution_count": 127,
      "outputs": []
    },
    {
      "cell_type": "code",
      "metadata": {
        "colab": {
          "base_uri": "https://localhost:8080/",
          "height": 312
        },
        "id": "ncjqWt9qlfhY",
        "outputId": "4310a6df-b9df-4912-91ee-130deca6340a"
      },
      "source": [
        "plot_model(model, show_shapes=True)"
      ],
      "execution_count": 128,
      "outputs": [
        {
          "output_type": "execute_result",
          "data": {
            "image/png": "[encoded data removed]",
            "text/plain": [
              "<IPython.core.display.Image object>"
            ]
          },
          "metadata": {},
          "execution_count": 128
        }
      ]
    },
    {
      "cell_type": "markdown",
      "metadata": {
        "id": "kuMMQ2EYlu8n"
      },
      "source": [
        "### Visualize predictions"
      ]
    },
    {
      "cell_type": "code",
      "metadata": {
        "id": "uTrhb60GxGNk",
        "outputId": "4225d7d4-fc89-4664-de47-054b8e0060f9",
        "colab": {
          "base_uri": "https://localhost:8080/"
        }
      },
      "source": [
        "# Make some predictions\n",
        "y_pred = model.predict(X_test)\n",
        "y_pred"
      ],
      "execution_count": 129,
      "outputs": [
        {
          "output_type": "execute_result",
          "data": {
            "text/plain": [
              "array([[ 67.36273 ],\n",
              "       [ 71.310234],\n",
              "       [ 75.257744],\n",
              "       [ 79.205246],\n",
              "       [ 83.15273 ],\n",
              "       [ 87.10026 ],\n",
              "       [ 91.04775 ],\n",
              "       [ 94.99525 ],\n",
              "       [ 98.94276 ],\n",
              "       [102.89026 ]], dtype=float32)"
            ]
          },
          "metadata": {},
          "execution_count": 129
        }
      ]
    },
    {
      "cell_type": "code",
      "metadata": {
        "id": "SjmeBA_qxN1G",
        "outputId": "82a35d24-7deb-45f2-ed02-034d9e9b3ce3",
        "colab": {
          "base_uri": "https://localhost:8080/"
        }
      },
      "source": [
        "y_test"
      ],
      "execution_count": 130,
      "outputs": [
        {
          "output_type": "execute_result",
          "data": {
            "text/plain": [
              "<tf.Tensor: shape=(10,), dtype=int32, numpy=array([ 70,  74,  78,  82,  86,  90,  94,  98, 102, 106], dtype=int32)>"
            ]
          },
          "metadata": {},
          "execution_count": 130
        }
      ]
    },
    {
      "cell_type": "code",
      "metadata": {
        "id": "JsekZn3BxR-W"
      },
      "source": [
        "# Let's create a function to visualize the predictions\n",
        "def plot_predictions(Training_data,\n",
        "                     Training_labels,\n",
        "                     Testing_data,\n",
        "                     Testing_labels,\n",
        "                     Predictions\n",
        "                     ):\n",
        "  plt.figure(figsize=[10,7])\n",
        "  # plot the training data\n",
        "  plt.scatter(Training_data,Training_labels, c=\"b\", label= \"Training data\")\n",
        "  \n",
        "  # plot the testing data\n",
        "  plt.scatter(Testing_data, Testing_labels, c=\"g\", label=\"Testing data\")\n",
        "\n",
        "  # plot predictions\n",
        "  plt.scatter(Testing_data, Predictions, c=\"r\", label=\"Predictions\")\n",
        "\n",
        "  plt.legend()"
      ],
      "execution_count": 131,
      "outputs": []
    },
    {
      "cell_type": "code",
      "metadata": {
        "id": "D0LG7FLY1yyR",
        "outputId": "1f2de285-8fd6-41c7-9fc4-37048affe9cc",
        "colab": {
          "base_uri": "https://localhost:8080/",
          "height": 428
        }
      },
      "source": [
        "plot_predictions(X_train, y_train, X_test, y_test, y_pred)"
      ],
      "execution_count": 132,
      "outputs": [
        {
          "output_type": "display_data",
          "data": {
            "image/png": "[encoded data removed]",
            "text/plain": [
              "<Figure size 720x504 with 1 Axes>"
            ]
          },
          "metadata": {
            "needs_background": "light"
          }
        }
      ]
    },
    {
      "cell_type": "code",
      "metadata": {
        "id": "Tjv0c9SZ2EUU"
      },
      "source": [
        ""
      ],
      "execution_count": 122,
      "outputs": []
    }
  ]
}