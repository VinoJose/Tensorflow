{
  "nbformat": 4,
  "nbformat_minor": 0,
  "metadata": {
    "colab": {
      "name": "04_transfer_learning_in_tensorflow_part_1_feature_extraction.ipynb",
      "provenance": [],
      "collapsed_sections": [],
      "include_colab_link": true
    },
    "kernelspec": {
      "name": "python3",
      "display_name": "Python 3"
    },
    "accelerator": "GPU"
  },
  "cells": [
    {
      "cell_type": "markdown",
      "metadata": {
        "id": "view-in-github",
        "colab_type": "text"
      },
      "source": [
        "<a href=\"https://colab.research.google.com/github/VinoJose/Tensorflow/blob/main/04_transfer_learning_in_tensorflow_part_1_feature_extraction.ipynb\" target=\"_parent\"><img src=\"https://colab.research.google.com/assets/colab-badge.svg\" alt=\"Open In Colab\"/></a>"
      ]
    },
    {
      "cell_type": "markdown",
      "source": [
        "# Transfer learning with TensoFlow Part 1: Feature extraction"
      ],
      "metadata": {
        "id": "ssZ2kVrRNKBF"
      }
    },
    {
      "cell_type": "code",
      "source": [
        "# Are we running a GPU\n",
        "!nvidia-smi"
      ],
      "metadata": {
        "id": "jbpSFharN2se",
        "outputId": "f075132f-cdec-48ee-f414-29d2dd3de9e7",
        "colab": {
          "base_uri": "https://localhost:8080/"
        }
      },
      "execution_count": 2,
      "outputs": [
        {
          "output_type": "stream",
          "name": "stdout",
          "text": [
            "Sat Dec 11 13:31:37 2021       \n",
            "+-----------------------------------------------------------------------------+\n",
            "| NVIDIA-SMI 495.44       Driver Version: 460.32.03    CUDA Version: 11.2     |\n",
            "|-------------------------------+----------------------+----------------------+\n",
            "| GPU  Name        Persistence-M| Bus-Id        Disp.A | Volatile Uncorr. ECC |\n",
            "| Fan  Temp  Perf  Pwr:Usage/Cap|         Memory-Usage | GPU-Util  Compute M. |\n",
            "|                               |                      |               MIG M. |\n",
            "|===============================+======================+======================|\n",
            "|   0  Tesla K80           Off  | 00000000:00:04.0 Off |                    0 |\n",
            "| N/A   57C    P8    30W / 149W |      0MiB / 11441MiB |      0%      Default |\n",
            "|                               |                      |                  N/A |\n",
            "+-------------------------------+----------------------+----------------------+\n",
            "                                                                               \n",
            "+-----------------------------------------------------------------------------+\n",
            "| Processes:                                                                  |\n",
            "|  GPU   GI   CI        PID   Type   Process name                  GPU Memory |\n",
            "|        ID   ID                                                   Usage      |\n",
            "|=============================================================================|\n",
            "|  No running processes found                                                 |\n",
            "+-----------------------------------------------------------------------------+\n"
          ]
        }
      ]
    },
    {
      "cell_type": "markdown",
      "source": [
        "## Downloading the data"
      ],
      "metadata": {
        "id": "BlpIqHNUOOUj"
      }
    },
    {
      "cell_type": "code",
      "source": [
        "# Get data (10% of the food classes from Food101)\n",
        "import zipfile\n",
        "\n",
        "# Download the data\n",
        "!wget \"https://storage.googleapis.com/ztm_tf_course/food_vision/10_food_classes_10_percent.zip\"\n",
        "\n",
        "# Unzip the downloaded file\n",
        "zip_ref = zipfile.ZipFile(\"10_food_classes_10_percent.zip\")\n",
        "zip_ref.extractall()\n",
        "zip_ref.close()"
      ],
      "metadata": {
        "id": "dZyS0125OvjF",
        "outputId": "21622c59-5453-402f-c6bd-8b1aa5956774",
        "colab": {
          "base_uri": "https://localhost:8080/"
        }
      },
      "execution_count": 3,
      "outputs": [
        {
          "output_type": "stream",
          "name": "stdout",
          "text": [
            "--2021-12-11 13:31:39--  https://storage.googleapis.com/ztm_tf_course/food_vision/10_food_classes_10_percent.zip\n",
            "Resolving storage.googleapis.com (storage.googleapis.com)... 64.233.189.128, 108.177.97.128, 108.177.125.128, ...\n",
            "Connecting to storage.googleapis.com (storage.googleapis.com)|64.233.189.128|:443... connected.\n",
            "HTTP request sent, awaiting response... 200 OK\n",
            "Length: 168546183 (161M) [application/zip]\n",
            "Saving to: ‘10_food_classes_10_percent.zip’\n",
            "\n",
            "10_food_classes_10_ 100%[===================>] 160.74M   190MB/s    in 0.8s    \n",
            "\n",
            "2021-12-11 13:31:40 (190 MB/s) - ‘10_food_classes_10_percent.zip’ saved [168546183/168546183]\n",
            "\n"
          ]
        }
      ]
    },
    {
      "cell_type": "code",
      "source": [
        "# How many images in each folder?\n",
        "import os\n",
        "\n",
        "for dirpath, dirnames, filenames in os.walk(\"10_food_classes_10_percent\"):\n",
        "  print(f\"There are {len(dirnames)} and {len(filenames)} in the folder {dirpath}.\")"
      ],
      "metadata": {
        "id": "NsKrBY4APdoG",
        "outputId": "ce9b7a98-8565-43db-fe13-2d469819d864",
        "colab": {
          "base_uri": "https://localhost:8080/"
        }
      },
      "execution_count": 4,
      "outputs": [
        {
          "output_type": "stream",
          "name": "stdout",
          "text": [
            "There are 2 and 0 in the folder 10_food_classes_10_percent.\n",
            "There are 10 and 0 in the folder 10_food_classes_10_percent/test.\n",
            "There are 0 and 250 in the folder 10_food_classes_10_percent/test/sushi.\n",
            "There are 0 and 250 in the folder 10_food_classes_10_percent/test/pizza.\n",
            "There are 0 and 250 in the folder 10_food_classes_10_percent/test/hamburger.\n",
            "There are 0 and 250 in the folder 10_food_classes_10_percent/test/chicken_wings.\n",
            "There are 0 and 250 in the folder 10_food_classes_10_percent/test/ice_cream.\n",
            "There are 0 and 250 in the folder 10_food_classes_10_percent/test/steak.\n",
            "There are 0 and 250 in the folder 10_food_classes_10_percent/test/ramen.\n",
            "There are 0 and 250 in the folder 10_food_classes_10_percent/test/fried_rice.\n",
            "There are 0 and 250 in the folder 10_food_classes_10_percent/test/chicken_curry.\n",
            "There are 0 and 250 in the folder 10_food_classes_10_percent/test/grilled_salmon.\n",
            "There are 10 and 0 in the folder 10_food_classes_10_percent/train.\n",
            "There are 0 and 75 in the folder 10_food_classes_10_percent/train/sushi.\n",
            "There are 0 and 75 in the folder 10_food_classes_10_percent/train/pizza.\n",
            "There are 0 and 75 in the folder 10_food_classes_10_percent/train/hamburger.\n",
            "There are 0 and 75 in the folder 10_food_classes_10_percent/train/chicken_wings.\n",
            "There are 0 and 75 in the folder 10_food_classes_10_percent/train/ice_cream.\n",
            "There are 0 and 75 in the folder 10_food_classes_10_percent/train/steak.\n",
            "There are 0 and 75 in the folder 10_food_classes_10_percent/train/ramen.\n",
            "There are 0 and 75 in the folder 10_food_classes_10_percent/train/fried_rice.\n",
            "There are 0 and 75 in the folder 10_food_classes_10_percent/train/chicken_curry.\n",
            "There are 0 and 75 in the folder 10_food_classes_10_percent/train/grilled_salmon.\n"
          ]
        }
      ]
    },
    {
      "cell_type": "markdown",
      "source": [
        "## Creating data loaders"
      ],
      "metadata": {
        "id": "prDcCq8MR8L5"
      }
    },
    {
      "cell_type": "code",
      "source": [
        "# Setup data inputs\n",
        "from tensorflow.keras.preprocessing.image import ImageDataGenerator\n",
        "\n",
        "IMAGE_SHAPE = (224, 224)\n",
        "BATCH_SIZE = 32\n",
        "train_dir = \"10_food_classes_10_percent/train/\"\n",
        "test_dir = \"10_food_classes_10_percent/test/\"\n",
        "\n",
        "train_datagen = ImageDataGenerator(rescale=1/255.)\n",
        "test_datagen = ImageDataGenerator(rescale=1/255.)\n",
        "\n",
        "print(\"Training images:\")\n",
        "train_data_10_percent = train_datagen.flow_from_directory(train_dir, target_size=IMAGE_SHAPE, batch_size=BATCH_SIZE, class_mode=\"categorical\")\n",
        "\n",
        "print(\"Testing images:\")\n",
        "test_data = test_datagen.flow_from_directory(test_dir, target_size=IMAGE_SHAPE, batch_size=BATCH_SIZE, class_mode=\"categorical\")"
      ],
      "metadata": {
        "id": "ebO0eKGzTYVj",
        "outputId": "9f3618d6-615f-4160-f33c-b6d62a92f791",
        "colab": {
          "base_uri": "https://localhost:8080/"
        }
      },
      "execution_count": 5,
      "outputs": [
        {
          "output_type": "stream",
          "name": "stdout",
          "text": [
            "Training images:\n",
            "Found 750 images belonging to 10 classes.\n",
            "Testing images:\n",
            "Found 2500 images belonging to 10 classes.\n"
          ]
        }
      ]
    },
    {
      "cell_type": "markdown",
      "source": [
        "## Setting up callbacks (things to run whilst our model is running)"
      ],
      "metadata": {
        "id": "ZCwNlPFBVwLy"
      }
    },
    {
      "cell_type": "markdown",
      "source": [
        "Callbacks are extra functionalities you can add to your models to be performed during or after training. Some examples are below:\n",
        "* Tracking experiments with TensorBoard callback\n",
        "* Model checkpoint with ModelCheckpoint callback\n",
        "* Stopping a training (before it trains too long and overfits) with the EarlyStopping callback"
      ],
      "metadata": {
        "id": "HsTqe2ApXPs4"
      }
    },
    {
      "cell_type": "code",
      "source": [
        "# Create tensorboard callback\n",
        "import datetime\n",
        "\n",
        "def create_tensorboard_callback(dir_name, experiment_name):\n",
        "  log_dir = dir_name + \"/\" + experiment_name + \"/\" + datatime.datetime.now().strftime(\"%Y%m%d-%H%M%S\")\n",
        "  tensorboard_callback = tf.keras.callbacks.TensorBoard(log_dir=log_dir)\n",
        "  print(f\"Saving TensorBoard log files to {log_dir}\")\n",
        "  return tensorflow_callback"
      ],
      "metadata": {
        "id": "Q0bY10gKYXZn"
      },
      "execution_count": 6,
      "outputs": []
    },
    {
      "cell_type": "code",
      "source": [
        ""
      ],
      "metadata": {
        "id": "fuP4wiSaupKo"
      },
      "execution_count": null,
      "outputs": []
    }
  ]
}