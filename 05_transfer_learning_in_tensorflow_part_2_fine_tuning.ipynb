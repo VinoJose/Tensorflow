{
  "nbformat": 4,
  "nbformat_minor": 0,
  "metadata": {
    "colab": {
      "name": "05_transfer_learning_in_tensorflow_part_2_fine_tuning.ipynb",
      "provenance": [],
      "collapsed_sections": [],
      "include_colab_link": true
    },
    "kernelspec": {
      "name": "python3",
      "display_name": "Python 3"
    },
    "accelerator": "GPU"
  },
  "cells": [
    {
      "cell_type": "markdown",
      "metadata": {
        "id": "view-in-github",
        "colab_type": "text"
      },
      "source": [
        "<a href=\"https://colab.research.google.com/github/VinoJose/Tensorflow/blob/main/05_transfer_learning_in_tensorflow_part_2_fine_tuning.ipynb\" target=\"_parent\"><img src=\"https://colab.research.google.com/assets/colab-badge.svg\" alt=\"Open In Colab\"/></a>"
      ]
    },
    {
      "cell_type": "markdown",
      "source": [
        "# Transfer Learning with TensorFlow Part 2: Fine-tuning"
      ],
      "metadata": {
        "id": "aEwa-kSSSqzw"
      }
    },
    {
      "cell_type": "code",
      "source": [
        "# Check if we are using a GPU\n",
        "!nvidia-smi"
      ],
      "metadata": {
        "colab": {
          "base_uri": "https://localhost:8080/"
        },
        "id": "kYZcvH8hS0VA",
        "outputId": "ba817b20-5797-418c-86c6-f456920a098b"
      },
      "execution_count": 2,
      "outputs": [
        {
          "output_type": "stream",
          "name": "stdout",
          "text": [
            "Thu Dec 16 04:05:18 2021       \n",
            "+-----------------------------------------------------------------------------+\n",
            "| NVIDIA-SMI 495.44       Driver Version: 460.32.03    CUDA Version: 11.2     |\n",
            "|-------------------------------+----------------------+----------------------+\n",
            "| GPU  Name        Persistence-M| Bus-Id        Disp.A | Volatile Uncorr. ECC |\n",
            "| Fan  Temp  Perf  Pwr:Usage/Cap|         Memory-Usage | GPU-Util  Compute M. |\n",
            "|                               |                      |               MIG M. |\n",
            "|===============================+======================+======================|\n",
            "|   0  Tesla K80           Off  | 00000000:00:04.0 Off |                    0 |\n",
            "| N/A   42C    P8    29W / 149W |      0MiB / 11441MiB |      0%      Default |\n",
            "|                               |                      |                  N/A |\n",
            "+-------------------------------+----------------------+----------------------+\n",
            "                                                                               \n",
            "+-----------------------------------------------------------------------------+\n",
            "| Processes:                                                                  |\n",
            "|  GPU   GI   CI        PID   Type   Process name                  GPU Memory |\n",
            "|        ID   ID                                                   Usage      |\n",
            "|=============================================================================|\n",
            "|  No running processes found                                                 |\n",
            "+-----------------------------------------------------------------------------+\n"
          ]
        }
      ]
    },
    {
      "cell_type": "markdown",
      "source": [
        "## Creating helper functions"
      ],
      "metadata": {
        "id": "Wehj7fDXTMGa"
      }
    },
    {
      "cell_type": "markdown",
      "source": [
        "In previous notebooks, we have created a bunch of helper functions, now we could rewrite them all, however this is tedious.\n",
        "So, it's good idea to put functions you'll want to use again in a script you can download and import into your notebooks."
      ],
      "metadata": {
        "id": "iUxPdvZRUAhC"
      }
    },
    {
      "cell_type": "code",
      "source": [
        "!wget https://raw.githubusercontent.com/mrdbourke/tensorflow-deep-learning/main/extras/helper_functions.py"
      ],
      "metadata": {
        "colab": {
          "base_uri": "https://localhost:8080/"
        },
        "id": "zF2XXUFkUuQ4",
        "outputId": "ba6556e3-317b-4512-c213-827afddce899"
      },
      "execution_count": 3,
      "outputs": [
        {
          "output_type": "stream",
          "name": "stdout",
          "text": [
            "--2021-12-16 04:05:19--  https://raw.githubusercontent.com/mrdbourke/tensorflow-deep-learning/main/extras/helper_functions.py\n",
            "Resolving raw.githubusercontent.com (raw.githubusercontent.com)... 185.199.108.133, 185.199.109.133, 185.199.110.133, ...\n",
            "Connecting to raw.githubusercontent.com (raw.githubusercontent.com)|185.199.108.133|:443... connected.\n",
            "HTTP request sent, awaiting response... 200 OK\n",
            "Length: 10246 (10K) [text/plain]\n",
            "Saving to: ‘helper_functions.py’\n",
            "\n",
            "\rhelper_functions.py   0%[                    ]       0  --.-KB/s               \rhelper_functions.py 100%[===================>]  10.01K  --.-KB/s    in 0s      \n",
            "\n",
            "2021-12-16 04:05:19 (44.8 MB/s) - ‘helper_functions.py’ saved [10246/10246]\n",
            "\n"
          ]
        }
      ]
    },
    {
      "cell_type": "code",
      "source": [
        "# Import helper functions we're going to use in this notebook\n",
        "from helper_functions import create_tensorboard_callback, plot_loss_curves, unzip_data, walk_through_dir"
      ],
      "metadata": {
        "id": "xOuj9sQpU3yB"
      },
      "execution_count": 4,
      "outputs": []
    },
    {
      "cell_type": "markdown",
      "source": [
        "## Let's get some data"
      ],
      "metadata": {
        "id": "86gq3HPHV4u5"
      }
    },
    {
      "cell_type": "markdown",
      "source": [
        "This time we are going to see how we can use the pretrained models in the `tf.keras.applications` and apply them to our probelm (recognizing images of food)."
      ],
      "metadata": {
        "id": "8CKTTseaWW6b"
      }
    },
    {
      "cell_type": "code",
      "source": [
        "# Get 10% of training data of 10 classes of Food101\n",
        "!wget https://storage.googleapis.com/ztm_tf_course/food_vision/10_food_classes_10_percent.zip"
      ],
      "metadata": {
        "colab": {
          "base_uri": "https://localhost:8080/"
        },
        "id": "quRJ1Rj-W-dG",
        "outputId": "2e353486-7fab-4637-b6f2-e0e03fcf8f98"
      },
      "execution_count": 5,
      "outputs": [
        {
          "output_type": "stream",
          "name": "stdout",
          "text": [
            "--2021-12-16 04:05:22--  https://storage.googleapis.com/ztm_tf_course/food_vision/10_food_classes_10_percent.zip\n",
            "Resolving storage.googleapis.com (storage.googleapis.com)... 142.250.125.128, 142.250.152.128, 142.250.136.128, ...\n",
            "Connecting to storage.googleapis.com (storage.googleapis.com)|142.250.125.128|:443... connected.\n",
            "HTTP request sent, awaiting response... 200 OK\n",
            "Length: 168546183 (161M) [application/zip]\n",
            "Saving to: ‘10_food_classes_10_percent.zip’\n",
            "\n",
            "10_food_classes_10_ 100%[===================>] 160.74M   177MB/s    in 0.9s    \n",
            "\n",
            "2021-12-16 04:05:23 (177 MB/s) - ‘10_food_classes_10_percent.zip’ saved [168546183/168546183]\n",
            "\n"
          ]
        }
      ]
    },
    {
      "cell_type": "code",
      "source": [
        "unzip_data(\"10_food_classes_10_percent.zip\")"
      ],
      "metadata": {
        "id": "OWS_a1a3XgB3"
      },
      "execution_count": 6,
      "outputs": []
    },
    {
      "cell_type": "code",
      "source": [
        "# Check how many images and subdirectories are in our dataset\n",
        "walk_through_dir(\"10_food_classes_10_percent\")"
      ],
      "metadata": {
        "colab": {
          "base_uri": "https://localhost:8080/"
        },
        "id": "LTI9y562Xub6",
        "outputId": "3e48a86a-a68f-432a-c4ec-7e67b452f1a3"
      },
      "execution_count": 7,
      "outputs": [
        {
          "output_type": "stream",
          "name": "stdout",
          "text": [
            "There are 2 directories and 0 images in '10_food_classes_10_percent'.\n",
            "There are 10 directories and 0 images in '10_food_classes_10_percent/train'.\n",
            "There are 0 directories and 75 images in '10_food_classes_10_percent/train/sushi'.\n",
            "There are 0 directories and 75 images in '10_food_classes_10_percent/train/hamburger'.\n",
            "There are 0 directories and 75 images in '10_food_classes_10_percent/train/ice_cream'.\n",
            "There are 0 directories and 75 images in '10_food_classes_10_percent/train/grilled_salmon'.\n",
            "There are 0 directories and 75 images in '10_food_classes_10_percent/train/pizza'.\n",
            "There are 0 directories and 75 images in '10_food_classes_10_percent/train/steak'.\n",
            "There are 0 directories and 75 images in '10_food_classes_10_percent/train/chicken_wings'.\n",
            "There are 0 directories and 75 images in '10_food_classes_10_percent/train/chicken_curry'.\n",
            "There are 0 directories and 75 images in '10_food_classes_10_percent/train/fried_rice'.\n",
            "There are 0 directories and 75 images in '10_food_classes_10_percent/train/ramen'.\n",
            "There are 10 directories and 0 images in '10_food_classes_10_percent/test'.\n",
            "There are 0 directories and 250 images in '10_food_classes_10_percent/test/sushi'.\n",
            "There are 0 directories and 250 images in '10_food_classes_10_percent/test/hamburger'.\n",
            "There are 0 directories and 250 images in '10_food_classes_10_percent/test/ice_cream'.\n",
            "There are 0 directories and 250 images in '10_food_classes_10_percent/test/grilled_salmon'.\n",
            "There are 0 directories and 250 images in '10_food_classes_10_percent/test/pizza'.\n",
            "There are 0 directories and 250 images in '10_food_classes_10_percent/test/steak'.\n",
            "There are 0 directories and 250 images in '10_food_classes_10_percent/test/chicken_wings'.\n",
            "There are 0 directories and 250 images in '10_food_classes_10_percent/test/chicken_curry'.\n",
            "There are 0 directories and 250 images in '10_food_classes_10_percent/test/fried_rice'.\n",
            "There are 0 directories and 250 images in '10_food_classes_10_percent/test/ramen'.\n"
          ]
        }
      ]
    },
    {
      "cell_type": "code",
      "source": [
        "# Create training and testing directory paths\n",
        "train_dir = \"10_food_classes_10_percent/train\"\n",
        "test_dir = \"10_food_classes_10_percent/test\""
      ],
      "metadata": {
        "id": "uA2W32JuYCKf"
      },
      "execution_count": 8,
      "outputs": []
    },
    {
      "cell_type": "code",
      "source": [
        "import tensorflow as tf\n",
        "\n",
        "IMG_SIZE = (224,224)\n",
        "BATCH_SIZE = 32\n",
        "train_data_10_percent = tf.keras.preprocessing.image_dataset_from_directory(directory=train_dir,\n",
        "                                                                            image_size=IMG_SIZE,\n",
        "                                                                            label_mode=\"categorical\",\n",
        "                                                                            batch_size=BATCH_SIZE)\n",
        "test_data = tf.keras.preprocessing.image_dataset_from_directory(directory=test_dir,\n",
        "                                                                image_size=IMG_SIZE,\n",
        "                                                                label_mode=\"categorical\",\n",
        "                                                                batch_size=BATCH_SIZE)"
      ],
      "metadata": {
        "colab": {
          "base_uri": "https://localhost:8080/"
        },
        "id": "7FM9sqbgY-kJ",
        "outputId": "44b3d018-d0fb-4115-c79c-190622a43e25"
      },
      "execution_count": 9,
      "outputs": [
        {
          "output_type": "stream",
          "name": "stdout",
          "text": [
            "Found 750 files belonging to 10 classes.\n",
            "Found 2500 files belonging to 10 classes.\n"
          ]
        }
      ]
    },
    {
      "cell_type": "code",
      "source": [
        "train_data_10_percent"
      ],
      "metadata": {
        "id": "5_tRx57iKgrt",
        "outputId": "26f8af49-858e-4006-fd54-7b6dc24ee185",
        "colab": {
          "base_uri": "https://localhost:8080/"
        }
      },
      "execution_count": 10,
      "outputs": [
        {
          "output_type": "execute_result",
          "data": {
            "text/plain": [
              "<BatchDataset shapes: ((None, 224, 224, 3), (None, 10)), types: (tf.float32, tf.float32)>"
            ]
          },
          "metadata": {},
          "execution_count": 10
        }
      ]
    },
    {
      "cell_type": "code",
      "source": [
        "# Check out the class names in our dataset\n",
        "train_data_10_percent.class_names"
      ],
      "metadata": {
        "id": "37MicLWnLuLY",
        "outputId": "eb026cb2-0e99-423c-a18c-cb553a96c1a6",
        "colab": {
          "base_uri": "https://localhost:8080/"
        }
      },
      "execution_count": 11,
      "outputs": [
        {
          "output_type": "execute_result",
          "data": {
            "text/plain": [
              "['chicken_curry',\n",
              " 'chicken_wings',\n",
              " 'fried_rice',\n",
              " 'grilled_salmon',\n",
              " 'hamburger',\n",
              " 'ice_cream',\n",
              " 'pizza',\n",
              " 'ramen',\n",
              " 'steak',\n",
              " 'sushi']"
            ]
          },
          "metadata": {},
          "execution_count": 11
        }
      ]
    },
    {
      "cell_type": "code",
      "source": [
        "for images, labels in train_data_10_percent.take(1):\n",
        "  print(images, labels)"
      ],
      "metadata": {
        "id": "_3jUwCVlMVxs",
        "outputId": "88f60f55-bf30-48d5-86e3-4a9d68d6628f",
        "colab": {
          "base_uri": "https://localhost:8080/"
        }
      },
      "execution_count": 12,
      "outputs": [
        {
          "output_type": "stream",
          "name": "stdout",
          "text": [
            "tf.Tensor(\n",
            "[[[[2.34239792e+02 2.22239792e+02 1.72698990e+02]\n",
            "   [2.22341843e+02 2.10744904e+02 1.63622452e+02]\n",
            "   [2.32933670e+02 2.21989792e+02 1.79627548e+02]\n",
            "   ...\n",
            "   [6.42857194e-01 6.86428604e+01 8.92142715e+01]\n",
            "   [4.59071621e-02 6.77142715e+01 8.67142715e+01]\n",
            "   [0.00000000e+00 6.66428604e+01 8.56428604e+01]]\n",
            "\n",
            "  [[2.31755112e+02 2.15301010e+02 1.68234695e+02]\n",
            "   [2.16515320e+02 2.00596939e+02 1.51948975e+02]\n",
            "   [2.12693878e+02 1.95979599e+02 1.50107147e+02]\n",
            "   ...\n",
            "   [4.28588867e-01 7.07857056e+01 9.09693832e+01]\n",
            "   [1.07141113e+00 6.90714111e+01 8.82040329e+01]\n",
            "   [0.00000000e+00 6.80000000e+01 8.70000000e+01]]\n",
            "\n",
            "  [[2.12923462e+02 1.95923462e+02 1.43066330e+02]\n",
            "   [2.10270401e+02 1.90413269e+02 1.36214294e+02]\n",
            "   [1.99673462e+02 1.76979599e+02 1.21571426e+02]\n",
            "   ...\n",
            "   [4.59202640e-02 7.12142868e+01 9.28775406e+01]\n",
            "   [1.53023954e-02 7.02856979e+01 9.07142715e+01]\n",
            "   [0.00000000e+00 6.84285736e+01 8.92142868e+01]]\n",
            "\n",
            "  ...\n",
            "\n",
            "  [[1.74800995e+02 1.76714310e+02 1.61137833e+02]\n",
            "   [1.67525421e+02 1.65500000e+02 1.43841858e+02]\n",
            "   [1.63382614e+02 1.56642853e+02 1.28596970e+02]\n",
            "   ...\n",
            "   [4.21682587e+01 3.03825207e+01 2.99539928e+01]\n",
            "   [3.75866508e+01 2.74591293e+01 2.79591904e+01]\n",
            "   [3.78622589e+01 2.81377411e+01 2.85714722e+01]]\n",
            "\n",
            "  [[1.69311157e+02 1.69357040e+02 1.50453934e+02]\n",
            "   [1.65438721e+02 1.61295853e+02 1.35729477e+02]\n",
            "   [1.62811234e+02 1.56841812e+02 1.25382607e+02]\n",
            "   ...\n",
            "   [3.56581306e+01 2.58010159e+01 2.46581326e+01]\n",
            "   [3.40663109e+01 2.60000305e+01 2.29336300e+01]\n",
            "   [3.71479263e+01 2.93112202e+01 2.64285278e+01]]\n",
            "\n",
            "  [[1.49968994e+02 1.42025024e+02 1.14953560e+02]\n",
            "   [1.54076324e+02 1.43601700e+02 1.11984322e+02]\n",
            "   [1.62765305e+02 1.51693771e+02 1.16188705e+02]\n",
            "   ...\n",
            "   [3.51275558e+01 2.83571777e+01 2.12907753e+01]\n",
            "   [3.30918083e+01 2.89540958e+01 1.93366566e+01]\n",
            "   [3.32856750e+01 3.08265114e+01 1.86989155e+01]]]\n",
            "\n",
            "\n",
            " [[[1.50770401e+02 1.57770401e+02 1.49770401e+02]\n",
            "   [1.48117340e+02 1.57163254e+02 1.52025513e+02]\n",
            "   [1.35862244e+02 1.48061234e+02 1.47341843e+02]\n",
            "   ...\n",
            "   [1.18209435e+02 1.46209427e+02 1.58209427e+02]\n",
            "   [1.27785606e+02 1.55785614e+02 1.67785614e+02]\n",
            "   [1.03912895e+02 1.31912888e+02 1.43912888e+02]]\n",
            "\n",
            "  [[1.49954086e+02 1.57954086e+02 1.45096939e+02]\n",
            "   [1.48280609e+02 1.60071426e+02 1.48142853e+02]\n",
            "   [1.34698975e+02 1.48056122e+02 1.42127548e+02]\n",
            "   ...\n",
            "   [1.22770630e+02 1.50770630e+02 1.62770630e+02]\n",
            "   [1.23566223e+02 1.51566223e+02 1.63566223e+02]\n",
            "   [9.88108063e+01 1.26810806e+02 1.38810806e+02]]\n",
            "\n",
            "  [[1.48280609e+02 1.58719391e+02 1.42438782e+02]\n",
            "   [1.46841827e+02 1.58770401e+02 1.45056122e+02]\n",
            "   [1.37596939e+02 1.51025513e+02 1.43311218e+02]\n",
            "   ...\n",
            "   [1.25117584e+02 1.52689011e+02 1.64903290e+02]\n",
            "   [1.19556038e+02 1.47127472e+02 1.59341751e+02]\n",
            "   [9.71424026e+01 1.24713829e+02 1.36928116e+02]]\n",
            "\n",
            "  ...\n",
            "\n",
            "  [[1.98505051e+02 1.79505051e+02 1.36505051e+02]\n",
            "   [2.00198959e+02 1.79627487e+02 1.36627487e+02]\n",
            "   [1.98999954e+02 1.78428482e+02 1.35091736e+02]\n",
            "   ...\n",
            "   [9.36685104e+01 1.13071625e+02 1.14790955e+02]\n",
            "   [7.73061676e+01 9.60919037e+01 9.96633759e+01]\n",
            "   [7.10866470e+01 9.06581192e+01 9.18723831e+01]]\n",
            "\n",
            "  [[1.98928558e+02 1.77928558e+02 1.34928558e+02]\n",
            "   [1.97933640e+02 1.76933640e+02 1.33933640e+02]\n",
            "   [1.94785675e+02 1.73357101e+02 1.28571396e+02]\n",
            "   ...\n",
            "   [1.02055954e+02 1.23270279e+02 1.26198837e+02]\n",
            "   [8.65152206e+01 1.07928558e+02 1.10790779e+02]\n",
            "   [7.89794998e+01 1.01188805e+02 1.03785706e+02]]\n",
            "\n",
            "  [[1.95158081e+02 1.74158081e+02 1.31158081e+02]\n",
            "   [1.92474411e+02 1.71474411e+02 1.26474419e+02]\n",
            "   [1.88005005e+02 1.65005005e+02 1.21005005e+02]\n",
            "   ...\n",
            "   [9.37753754e+01 1.19775375e+02 1.20775375e+02]\n",
            "   [8.70714111e+01 1.13071411e+02 1.14071411e+02]\n",
            "   [7.78008881e+01 1.03800888e+02 1.04800888e+02]]]\n",
            "\n",
            "\n",
            " [[[9.39438782e+01 6.99438782e+01 4.19438782e+01]\n",
            "   [1.02260201e+02 7.92602005e+01 4.79285698e+01]\n",
            "   [1.15076530e+02 9.21530609e+01 5.79234695e+01]\n",
            "   ...\n",
            "   [1.26076721e+02 1.08648193e+02 9.30001984e+01]\n",
            "   [1.37882690e+02 1.22882698e+02 1.01882698e+02]\n",
            "   [1.38515259e+02 1.26515259e+02 1.02515259e+02]]\n",
            "\n",
            "  [[8.67602081e+01 6.07602043e+01 3.37602043e+01]\n",
            "   [8.92091827e+01 6.61428604e+01 3.53418350e+01]\n",
            "   [9.60000000e+01 7.30000000e+01 4.08571396e+01]\n",
            "   ...\n",
            "   [1.32341995e+02 1.13984894e+02 1.00469521e+02]\n",
            "   [1.41076553e+02 1.26076561e+02 1.06801025e+02]\n",
            "   [1.41285645e+02 1.26285645e+02 1.03285645e+02]]\n",
            "\n",
            "  [[8.81377563e+01 6.21377563e+01 3.71377563e+01]\n",
            "   [8.86836700e+01 6.26836739e+01 3.56836739e+01]\n",
            "   [9.44030609e+01 7.11887741e+01 4.08316345e+01]\n",
            "   ...\n",
            "   [1.29811386e+02 1.11428764e+02 1.00500130e+02]\n",
            "   [1.40928604e+02 1.23500023e+02 1.07571426e+02]\n",
            "   [1.41285645e+02 1.24351997e+02 1.03510078e+02]]\n",
            "\n",
            "  ...\n",
            "\n",
            "  [[1.45433670e+02 1.21433662e+02 8.58621902e+01]\n",
            "   [1.43801041e+02 1.19801041e+02 8.42295685e+01]\n",
            "   [1.48214310e+02 1.24214310e+02 8.89795837e+01]\n",
            "   ...\n",
            "   [1.36137726e+02 1.18000000e+02 9.79540939e+01]\n",
            "   [1.34428528e+02 1.17214264e+02 9.72142639e+01]\n",
            "   [1.35290787e+02 1.18076530e+02 9.80765305e+01]]\n",
            "\n",
            "  [[1.43928558e+02 1.19928558e+02 8.39285583e+01]\n",
            "   [1.44928574e+02 1.20928574e+02 8.49285736e+01]\n",
            "   [1.48397949e+02 1.24397957e+02 8.88265305e+01]\n",
            "   ...\n",
            "   [1.34056137e+02 1.17270401e+02 9.66276093e+01]\n",
            "   [1.34000000e+02 1.17000000e+02 9.70000000e+01]\n",
            "   [1.33000000e+02 1.16000000e+02 9.60000000e+01]]\n",
            "\n",
            "  [[1.42642853e+02 1.18642860e+02 8.06428604e+01]\n",
            "   [1.44928574e+02 1.20928574e+02 8.49285736e+01]\n",
            "   [1.46642822e+02 1.22642822e+02 8.70713959e+01]\n",
            "   ...\n",
            "   [1.34862259e+02 1.18862267e+02 9.58622665e+01]\n",
            "   [1.34954071e+02 1.17954079e+02 9.79540787e+01]\n",
            "   [1.32642822e+02 1.17642822e+02 9.66428223e+01]]]\n",
            "\n",
            "\n",
            " ...\n",
            "\n",
            "\n",
            " [[[2.54000000e+02 2.54000000e+02 2.54000000e+02]\n",
            "   [2.54000000e+02 2.54000000e+02 2.54000000e+02]\n",
            "   [2.54000000e+02 2.54000000e+02 2.54000000e+02]\n",
            "   ...\n",
            "   [2.54000000e+02 2.54000000e+02 2.54000000e+02]\n",
            "   [2.54000000e+02 2.54000000e+02 2.54000000e+02]\n",
            "   [2.54000000e+02 2.54000000e+02 2.54000000e+02]]\n",
            "\n",
            "  [[2.54000000e+02 2.54000000e+02 2.54000000e+02]\n",
            "   [2.54000000e+02 2.54000000e+02 2.54000000e+02]\n",
            "   [2.54000000e+02 2.54000000e+02 2.54000000e+02]\n",
            "   ...\n",
            "   [2.54000000e+02 2.54000000e+02 2.54000000e+02]\n",
            "   [2.54000000e+02 2.54000000e+02 2.54000000e+02]\n",
            "   [2.54000000e+02 2.54000000e+02 2.54000000e+02]]\n",
            "\n",
            "  [[2.54000000e+02 2.54000000e+02 2.54000000e+02]\n",
            "   [2.54000000e+02 2.54000000e+02 2.54000000e+02]\n",
            "   [2.54000000e+02 2.54000000e+02 2.54000000e+02]\n",
            "   ...\n",
            "   [2.54000000e+02 2.54000000e+02 2.54000000e+02]\n",
            "   [2.54000000e+02 2.54000000e+02 2.54000000e+02]\n",
            "   [2.54000000e+02 2.54000000e+02 2.54000000e+02]]\n",
            "\n",
            "  ...\n",
            "\n",
            "  [[2.54000000e+02 2.54000000e+02 2.54000000e+02]\n",
            "   [2.54000000e+02 2.54000000e+02 2.54000000e+02]\n",
            "   [2.54000000e+02 2.54000000e+02 2.54000000e+02]\n",
            "   ...\n",
            "   [2.54000000e+02 2.54000000e+02 2.54000000e+02]\n",
            "   [2.54000000e+02 2.54000000e+02 2.54000000e+02]\n",
            "   [2.54000000e+02 2.54000000e+02 2.54000000e+02]]\n",
            "\n",
            "  [[2.54000000e+02 2.54000000e+02 2.54000000e+02]\n",
            "   [2.54000000e+02 2.54000000e+02 2.54000000e+02]\n",
            "   [2.54000000e+02 2.54000000e+02 2.54000000e+02]\n",
            "   ...\n",
            "   [2.54000000e+02 2.54000000e+02 2.54000000e+02]\n",
            "   [2.54000000e+02 2.54000000e+02 2.54000000e+02]\n",
            "   [2.54000000e+02 2.54000000e+02 2.54000000e+02]]\n",
            "\n",
            "  [[2.54000000e+02 2.54000000e+02 2.54000000e+02]\n",
            "   [2.54000000e+02 2.54000000e+02 2.54000000e+02]\n",
            "   [2.54000000e+02 2.54000000e+02 2.54000000e+02]\n",
            "   ...\n",
            "   [2.54000000e+02 2.54000000e+02 2.54000000e+02]\n",
            "   [2.54000000e+02 2.54000000e+02 2.54000000e+02]\n",
            "   [2.54000000e+02 2.54000000e+02 2.54000000e+02]]]\n",
            "\n",
            "\n",
            " [[[0.00000000e+00 0.00000000e+00 0.00000000e+00]\n",
            "   [0.00000000e+00 0.00000000e+00 0.00000000e+00]\n",
            "   [0.00000000e+00 0.00000000e+00 0.00000000e+00]\n",
            "   ...\n",
            "   [1.30000000e+01 1.40000000e+01 8.00000000e+00]\n",
            "   [1.30000000e+01 1.40000000e+01 8.00000000e+00]\n",
            "   [1.30000000e+01 1.40000000e+01 8.00000000e+00]]\n",
            "\n",
            "  [[0.00000000e+00 0.00000000e+00 0.00000000e+00]\n",
            "   [0.00000000e+00 0.00000000e+00 0.00000000e+00]\n",
            "   [0.00000000e+00 0.00000000e+00 0.00000000e+00]\n",
            "   ...\n",
            "   [1.37857056e+01 1.40000000e+01 6.00000000e+00]\n",
            "   [1.30000000e+01 1.40000000e+01 6.00000000e+00]\n",
            "   [1.30000000e+01 1.40000000e+01 6.00000000e+00]]\n",
            "\n",
            "  [[0.00000000e+00 0.00000000e+00 0.00000000e+00]\n",
            "   [0.00000000e+00 0.00000000e+00 0.00000000e+00]\n",
            "   [0.00000000e+00 0.00000000e+00 0.00000000e+00]\n",
            "   ...\n",
            "   [1.44285717e+01 1.37857141e+01 6.00000000e+00]\n",
            "   [1.44285717e+01 1.37857141e+01 6.00000000e+00]\n",
            "   [1.40000000e+01 1.40000000e+01 6.00000000e+00]]\n",
            "\n",
            "  ...\n",
            "\n",
            "  [[9.32437820e+01 9.10295181e+01 7.76009903e+01]\n",
            "   [1.36269730e+02 1.32540115e+02 1.19698349e+02]\n",
            "   [1.65081406e+02 1.62081406e+02 1.46652878e+02]\n",
            "   ...\n",
            "   [8.38254471e+01 7.78254471e+01 6.38255081e+01]\n",
            "   [4.39425163e+01 4.07282829e+01 2.55139885e+01]\n",
            "   [1.70607414e+01 1.42852306e+01 3.89252138e+00]]\n",
            "\n",
            "  [[5.15816593e+00 2.11223912e+00 0.00000000e+00]\n",
            "   [1.94742889e+01 1.64742889e+01 9.68353653e+00]\n",
            "   [6.42901917e+01 6.05044785e+01 5.01065521e+01]\n",
            "   ...\n",
            "   [1.34335117e+01 9.74986744e+00 1.45914698e+00]\n",
            "   [4.40292740e+00 4.27033949e+00 0.00000000e+00]\n",
            "   [1.52548468e+00 2.79077888e+00 0.00000000e+00]]\n",
            "\n",
            "  [[5.97438288e+00 1.97438264e+00 8.72401714e-01]\n",
            "   [6.29575872e+00 2.69885254e+00 5.96906424e-01]\n",
            "   [8.98481083e+00 5.98481083e+00 1.12255871e+00]\n",
            "   ...\n",
            "   [3.28576660e+00 1.55626512e+00 0.00000000e+00]\n",
            "   [3.23986197e+00 4.09703970e+00 0.00000000e+00]\n",
            "   [9.43876624e-01 2.89792180e+00 0.00000000e+00]]]\n",
            "\n",
            "\n",
            " [[[3.01581631e+01 1.51581640e+01 8.15816402e+00]\n",
            "   [3.19540825e+01 1.69540825e+01 1.19540815e+01]\n",
            "   [3.09285717e+01 1.59285717e+01 1.13571434e+01]\n",
            "   ...\n",
            "   [1.66500290e+02 9.40054016e+01 5.53474121e+01]\n",
            "   [1.18321342e+02 5.25356674e+01 1.80355759e+01]\n",
            "   [1.12566734e+02 5.29239159e+01 1.83691418e+00]]\n",
            "\n",
            "  [[2.90255108e+01 1.60255108e+01 8.02550983e+00]\n",
            "   [3.30714264e+01 1.80714283e+01 1.10714283e+01]\n",
            "   [3.03571434e+01 1.53571424e+01 1.03571424e+01]\n",
            "   ...\n",
            "   [1.61994659e+02 8.99946671e+01 4.82805519e+01]\n",
            "   [1.14142899e+02 4.92857933e+01 1.12704439e+01]\n",
            "   [1.38225037e+02 7.82250290e+01 2.67963219e+01]]\n",
            "\n",
            "  [[3.15765305e+01 1.87908173e+01 9.14795876e+00]\n",
            "   [3.20867348e+01 1.90867348e+01 1.00867348e+01]\n",
            "   [2.90918369e+01 1.44744902e+01 7.04591846e+00]\n",
            "   ...\n",
            "   [1.36902222e+02 6.83819122e+01 2.18054790e+01]\n",
            "   [1.19285767e+02 5.69694862e+01 1.36990690e+01]\n",
            "   [1.42045319e+02 8.40606537e+01 3.76983299e+01]]\n",
            "\n",
            "  ...\n",
            "\n",
            "  [[1.07668503e+02 7.76685028e+01 4.00970306e+01]\n",
            "   [1.07454239e+02 7.74542389e+01 3.98827667e+01]\n",
            "   [1.06454262e+02 7.64542618e+01 4.08827896e+01]\n",
            "   ...\n",
            "   [1.69433441e+02 1.62861969e+02 1.69861969e+02]\n",
            "   [1.65800797e+02 1.56443588e+02 1.64443588e+02]\n",
            "   [1.61009872e+02 1.51652664e+02 1.59652664e+02]]\n",
            "\n",
            "  [[9.95051727e+01 6.95051727e+01 3.15051670e+01]\n",
            "   [1.00433701e+02 7.14337006e+01 3.14336987e+01]\n",
            "   [1.02928589e+02 7.39285889e+01 3.39285851e+01]\n",
            "   ...\n",
            "   [1.46183472e+02 1.35254913e+02 1.39040588e+02]\n",
            "   [1.40581558e+02 1.29510117e+02 1.35234558e+02]\n",
            "   [1.35673355e+02 1.23408119e+02 1.29198822e+02]]\n",
            "\n",
            "  [[1.05469238e+02 7.74692383e+01 3.74692383e+01]\n",
            "   [1.03066216e+02 7.50662155e+01 3.50662155e+01]\n",
            "   [1.05219330e+02 7.82193298e+01 3.52193260e+01]\n",
            "   ...\n",
            "   [1.38071533e+02 1.26071533e+02 1.26071533e+02]\n",
            "   [1.39403107e+02 1.24403099e+02 1.27403099e+02]\n",
            "   [1.43199112e+02 1.28199112e+02 1.31199112e+02]]]], shape=(32, 224, 224, 3), dtype=float32) tf.Tensor(\n",
            "[[0. 1. 0. 0. 0. 0. 0. 0. 0. 0.]\n",
            " [0. 0. 0. 0. 0. 1. 0. 0. 0. 0.]\n",
            " [0. 0. 1. 0. 0. 0. 0. 0. 0. 0.]\n",
            " [0. 0. 0. 0. 0. 0. 0. 1. 0. 0.]\n",
            " [0. 0. 0. 0. 0. 1. 0. 0. 0. 0.]\n",
            " [0. 0. 0. 0. 0. 0. 0. 0. 0. 1.]\n",
            " [0. 0. 0. 1. 0. 0. 0. 0. 0. 0.]\n",
            " [0. 0. 0. 0. 1. 0. 0. 0. 0. 0.]\n",
            " [0. 0. 0. 0. 0. 0. 0. 0. 1. 0.]\n",
            " [0. 0. 0. 0. 0. 0. 0. 0. 0. 1.]\n",
            " [0. 0. 0. 0. 0. 0. 1. 0. 0. 0.]\n",
            " [0. 0. 0. 1. 0. 0. 0. 0. 0. 0.]\n",
            " [0. 0. 0. 0. 1. 0. 0. 0. 0. 0.]\n",
            " [0. 0. 0. 0. 0. 0. 0. 0. 1. 0.]\n",
            " [0. 0. 0. 0. 0. 0. 1. 0. 0. 0.]\n",
            " [0. 0. 0. 1. 0. 0. 0. 0. 0. 0.]\n",
            " [0. 0. 0. 0. 0. 0. 1. 0. 0. 0.]\n",
            " [0. 0. 0. 0. 0. 0. 1. 0. 0. 0.]\n",
            " [0. 0. 0. 0. 0. 0. 0. 0. 0. 1.]\n",
            " [1. 0. 0. 0. 0. 0. 0. 0. 0. 0.]\n",
            " [0. 0. 1. 0. 0. 0. 0. 0. 0. 0.]\n",
            " [0. 0. 0. 0. 0. 1. 0. 0. 0. 0.]\n",
            " [0. 0. 1. 0. 0. 0. 0. 0. 0. 0.]\n",
            " [0. 0. 0. 1. 0. 0. 0. 0. 0. 0.]\n",
            " [0. 0. 0. 1. 0. 0. 0. 0. 0. 0.]\n",
            " [1. 0. 0. 0. 0. 0. 0. 0. 0. 0.]\n",
            " [0. 0. 0. 0. 0. 0. 0. 1. 0. 0.]\n",
            " [1. 0. 0. 0. 0. 0. 0. 0. 0. 0.]\n",
            " [0. 0. 0. 0. 0. 0. 0. 0. 1. 0.]\n",
            " [0. 0. 0. 0. 0. 1. 0. 0. 0. 0.]\n",
            " [0. 0. 0. 0. 0. 0. 0. 1. 0. 0.]\n",
            " [0. 0. 0. 0. 0. 0. 0. 0. 1. 0.]], shape=(32, 10), dtype=float32)\n"
          ]
        }
      ]
    },
    {
      "cell_type": "markdown",
      "source": [
        "## Model 0 : Building a transfer learning feature extraction model using Keras Functional API"
      ],
      "metadata": {
        "id": "_fBbq9F6Myfi"
      }
    },
    {
      "cell_type": "code",
      "source": [
        "# 1. Create the base model from pretrained Efficientnet\n",
        "base_model = tf.keras.applications.EfficientnetB0(include_top=False)"
      ],
      "metadata": {
        "id": "MVrqk7W8b-s7"
      },
      "execution_count": null,
      "outputs": []
    }
  ]
}