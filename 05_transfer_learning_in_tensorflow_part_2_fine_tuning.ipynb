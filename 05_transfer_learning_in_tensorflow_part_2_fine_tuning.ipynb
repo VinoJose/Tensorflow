{
  "nbformat": 4,
  "nbformat_minor": 0,
  "metadata": {
    "colab": {
      "name": "05_transfer_learning_in_tensorflow_part_2_fine_tuning.ipynb",
      "provenance": [],
      "collapsed_sections": [],
      "include_colab_link": true
    },
    "kernelspec": {
      "name": "python3",
      "display_name": "Python 3"
    },
    "accelerator": "GPU"
  },
  "cells": [
    {
      "cell_type": "markdown",
      "metadata": {
        "id": "view-in-github",
        "colab_type": "text"
      },
      "source": [
        "<a href=\"https://colab.research.google.com/github/VinoJose/Tensorflow/blob/main/05_transfer_learning_in_tensorflow_part_2_fine_tuning.ipynb\" target=\"_parent\"><img src=\"https://colab.research.google.com/assets/colab-badge.svg\" alt=\"Open In Colab\"/></a>"
      ]
    },
    {
      "cell_type": "markdown",
      "source": [
        "# Transfer Learning with TensorFlow Part 2: Fine-tuning"
      ],
      "metadata": {
        "id": "aEwa-kSSSqzw"
      }
    },
    {
      "cell_type": "code",
      "source": [
        "# Check if we are using a GPU\n",
        "!nvidia-smi"
      ],
      "metadata": {
        "colab": {
          "base_uri": "https://localhost:8080/"
        },
        "id": "kYZcvH8hS0VA",
        "outputId": "8cbe4a38-db92-4e1e-c623-bc2bae2eea5b"
      },
      "execution_count": 1,
      "outputs": [
        {
          "output_type": "stream",
          "name": "stdout",
          "text": [
            "Thu Dec 16 07:30:15 2021       \n",
            "+-----------------------------------------------------------------------------+\n",
            "| NVIDIA-SMI 495.44       Driver Version: 460.32.03    CUDA Version: 11.2     |\n",
            "|-------------------------------+----------------------+----------------------+\n",
            "| GPU  Name        Persistence-M| Bus-Id        Disp.A | Volatile Uncorr. ECC |\n",
            "| Fan  Temp  Perf  Pwr:Usage/Cap|         Memory-Usage | GPU-Util  Compute M. |\n",
            "|                               |                      |               MIG M. |\n",
            "|===============================+======================+======================|\n",
            "|   0  Tesla K80           Off  | 00000000:00:04.0 Off |                    0 |\n",
            "| N/A   32C    P8    28W / 149W |      0MiB / 11441MiB |      0%      Default |\n",
            "|                               |                      |                  N/A |\n",
            "+-------------------------------+----------------------+----------------------+\n",
            "                                                                               \n",
            "+-----------------------------------------------------------------------------+\n",
            "| Processes:                                                                  |\n",
            "|  GPU   GI   CI        PID   Type   Process name                  GPU Memory |\n",
            "|        ID   ID                                                   Usage      |\n",
            "|=============================================================================|\n",
            "|  No running processes found                                                 |\n",
            "+-----------------------------------------------------------------------------+\n"
          ]
        }
      ]
    },
    {
      "cell_type": "markdown",
      "source": [
        "## Creating helper functions"
      ],
      "metadata": {
        "id": "Wehj7fDXTMGa"
      }
    },
    {
      "cell_type": "markdown",
      "source": [
        "In previous notebooks, we have created a bunch of helper functions, now we could rewrite them all, however this is tedious.\n",
        "So, it's good idea to put functions you'll want to use again in a script you can download and import into your notebooks."
      ],
      "metadata": {
        "id": "iUxPdvZRUAhC"
      }
    },
    {
      "cell_type": "code",
      "source": [
        "!wget https://raw.githubusercontent.com/mrdbourke/tensorflow-deep-learning/main/extras/helper_functions.py"
      ],
      "metadata": {
        "colab": {
          "base_uri": "https://localhost:8080/"
        },
        "id": "zF2XXUFkUuQ4",
        "outputId": "aa27e1cf-f4eb-4020-d0f0-c987612913ff"
      },
      "execution_count": 2,
      "outputs": [
        {
          "output_type": "stream",
          "name": "stdout",
          "text": [
            "--2021-12-16 07:30:16--  https://raw.githubusercontent.com/mrdbourke/tensorflow-deep-learning/main/extras/helper_functions.py\n",
            "Resolving raw.githubusercontent.com (raw.githubusercontent.com)... 185.199.108.133, 185.199.109.133, 185.199.110.133, ...\n",
            "Connecting to raw.githubusercontent.com (raw.githubusercontent.com)|185.199.108.133|:443... connected.\n",
            "HTTP request sent, awaiting response... 200 OK\n",
            "Length: 10246 (10K) [text/plain]\n",
            "Saving to: ‘helper_functions.py’\n",
            "\n",
            "helper_functions.py 100%[===================>]  10.01K  --.-KB/s    in 0s      \n",
            "\n",
            "2021-12-16 07:30:16 (84.6 MB/s) - ‘helper_functions.py’ saved [10246/10246]\n",
            "\n"
          ]
        }
      ]
    },
    {
      "cell_type": "code",
      "source": [
        "# Import helper functions we're going to use in this notebook\n",
        "from helper_functions import create_tensorboard_callback, plot_loss_curves, unzip_data, walk_through_dir"
      ],
      "metadata": {
        "id": "xOuj9sQpU3yB"
      },
      "execution_count": 3,
      "outputs": []
    },
    {
      "cell_type": "markdown",
      "source": [
        "## Let's get some data"
      ],
      "metadata": {
        "id": "86gq3HPHV4u5"
      }
    },
    {
      "cell_type": "markdown",
      "source": [
        "This time we are going to see how we can use the pretrained models in the `tf.keras.applications` and apply them to our probelm (recognizing images of food)."
      ],
      "metadata": {
        "id": "8CKTTseaWW6b"
      }
    },
    {
      "cell_type": "code",
      "source": [
        "# Get 10% of training data of 10 classes of Food101\n",
        "!wget https://storage.googleapis.com/ztm_tf_course/food_vision/10_food_classes_10_percent.zip"
      ],
      "metadata": {
        "colab": {
          "base_uri": "https://localhost:8080/"
        },
        "id": "quRJ1Rj-W-dG",
        "outputId": "1f216c48-06d5-46ba-db2d-2b7fd2c9c380"
      },
      "execution_count": 4,
      "outputs": [
        {
          "output_type": "stream",
          "name": "stdout",
          "text": [
            "--2021-12-16 07:30:19--  https://storage.googleapis.com/ztm_tf_course/food_vision/10_food_classes_10_percent.zip\n",
            "Resolving storage.googleapis.com (storage.googleapis.com)... 173.194.76.128, 142.251.5.128, 64.233.167.128, ...\n",
            "Connecting to storage.googleapis.com (storage.googleapis.com)|173.194.76.128|:443... connected.\n",
            "HTTP request sent, awaiting response... 200 OK\n",
            "Length: 168546183 (161M) [application/zip]\n",
            "Saving to: ‘10_food_classes_10_percent.zip’\n",
            "\n",
            "10_food_classes_10_ 100%[===================>] 160.74M   196MB/s    in 0.8s    \n",
            "\n",
            "2021-12-16 07:30:20 (196 MB/s) - ‘10_food_classes_10_percent.zip’ saved [168546183/168546183]\n",
            "\n"
          ]
        }
      ]
    },
    {
      "cell_type": "code",
      "source": [
        "unzip_data(\"10_food_classes_10_percent.zip\")"
      ],
      "metadata": {
        "id": "OWS_a1a3XgB3"
      },
      "execution_count": 5,
      "outputs": []
    },
    {
      "cell_type": "code",
      "source": [
        "# Check how many images and subdirectories are in our dataset\n",
        "walk_through_dir(\"10_food_classes_10_percent\")"
      ],
      "metadata": {
        "colab": {
          "base_uri": "https://localhost:8080/"
        },
        "id": "LTI9y562Xub6",
        "outputId": "d72b32b6-bdbc-41f2-a2a6-f74640c44eac"
      },
      "execution_count": 6,
      "outputs": [
        {
          "output_type": "stream",
          "name": "stdout",
          "text": [
            "There are 2 directories and 0 images in '10_food_classes_10_percent'.\n",
            "There are 10 directories and 0 images in '10_food_classes_10_percent/train'.\n",
            "There are 0 directories and 75 images in '10_food_classes_10_percent/train/sushi'.\n",
            "There are 0 directories and 75 images in '10_food_classes_10_percent/train/hamburger'.\n",
            "There are 0 directories and 75 images in '10_food_classes_10_percent/train/ice_cream'.\n",
            "There are 0 directories and 75 images in '10_food_classes_10_percent/train/grilled_salmon'.\n",
            "There are 0 directories and 75 images in '10_food_classes_10_percent/train/pizza'.\n",
            "There are 0 directories and 75 images in '10_food_classes_10_percent/train/steak'.\n",
            "There are 0 directories and 75 images in '10_food_classes_10_percent/train/chicken_wings'.\n",
            "There are 0 directories and 75 images in '10_food_classes_10_percent/train/chicken_curry'.\n",
            "There are 0 directories and 75 images in '10_food_classes_10_percent/train/fried_rice'.\n",
            "There are 0 directories and 75 images in '10_food_classes_10_percent/train/ramen'.\n",
            "There are 10 directories and 0 images in '10_food_classes_10_percent/test'.\n",
            "There are 0 directories and 250 images in '10_food_classes_10_percent/test/sushi'.\n",
            "There are 0 directories and 250 images in '10_food_classes_10_percent/test/hamburger'.\n",
            "There are 0 directories and 250 images in '10_food_classes_10_percent/test/ice_cream'.\n",
            "There are 0 directories and 250 images in '10_food_classes_10_percent/test/grilled_salmon'.\n",
            "There are 0 directories and 250 images in '10_food_classes_10_percent/test/pizza'.\n",
            "There are 0 directories and 250 images in '10_food_classes_10_percent/test/steak'.\n",
            "There are 0 directories and 250 images in '10_food_classes_10_percent/test/chicken_wings'.\n",
            "There are 0 directories and 250 images in '10_food_classes_10_percent/test/chicken_curry'.\n",
            "There are 0 directories and 250 images in '10_food_classes_10_percent/test/fried_rice'.\n",
            "There are 0 directories and 250 images in '10_food_classes_10_percent/test/ramen'.\n"
          ]
        }
      ]
    },
    {
      "cell_type": "code",
      "source": [
        "# Create training and testing directory paths\n",
        "train_dir = \"10_food_classes_10_percent/train\"\n",
        "test_dir = \"10_food_classes_10_percent/test\""
      ],
      "metadata": {
        "id": "uA2W32JuYCKf"
      },
      "execution_count": 7,
      "outputs": []
    },
    {
      "cell_type": "code",
      "source": [
        "import tensorflow as tf\n",
        "\n",
        "IMG_SIZE = (224,224)\n",
        "BATCH_SIZE = 32\n",
        "train_data_10_percent = tf.keras.preprocessing.image_dataset_from_directory(directory=train_dir,\n",
        "                                                                            image_size=IMG_SIZE,\n",
        "                                                                            label_mode=\"categorical\",\n",
        "                                                                            batch_size=BATCH_SIZE)\n",
        "test_data = tf.keras.preprocessing.image_dataset_from_directory(directory=test_dir,\n",
        "                                                                image_size=IMG_SIZE,\n",
        "                                                                label_mode=\"categorical\",\n",
        "                                                                batch_size=BATCH_SIZE)"
      ],
      "metadata": {
        "colab": {
          "base_uri": "https://localhost:8080/"
        },
        "id": "7FM9sqbgY-kJ",
        "outputId": "d5a4d439-c3ab-44bc-81a5-626dab0cea47"
      },
      "execution_count": 8,
      "outputs": [
        {
          "output_type": "stream",
          "name": "stdout",
          "text": [
            "Found 750 files belonging to 10 classes.\n",
            "Found 2500 files belonging to 10 classes.\n"
          ]
        }
      ]
    },
    {
      "cell_type": "code",
      "source": [
        "train_data_10_percent"
      ],
      "metadata": {
        "colab": {
          "base_uri": "https://localhost:8080/"
        },
        "id": "5_tRx57iKgrt",
        "outputId": "e9c5b554-60c6-4695-eea0-874b16a38353"
      },
      "execution_count": 9,
      "outputs": [
        {
          "output_type": "execute_result",
          "data": {
            "text/plain": [
              "<BatchDataset shapes: ((None, 224, 224, 3), (None, 10)), types: (tf.float32, tf.float32)>"
            ]
          },
          "metadata": {},
          "execution_count": 9
        }
      ]
    },
    {
      "cell_type": "code",
      "source": [
        "# Check out the class names in our dataset\n",
        "train_data_10_percent.class_names"
      ],
      "metadata": {
        "colab": {
          "base_uri": "https://localhost:8080/"
        },
        "id": "37MicLWnLuLY",
        "outputId": "1982976b-a834-4802-9058-0ab8993ce33a"
      },
      "execution_count": 10,
      "outputs": [
        {
          "output_type": "execute_result",
          "data": {
            "text/plain": [
              "['chicken_curry',\n",
              " 'chicken_wings',\n",
              " 'fried_rice',\n",
              " 'grilled_salmon',\n",
              " 'hamburger',\n",
              " 'ice_cream',\n",
              " 'pizza',\n",
              " 'ramen',\n",
              " 'steak',\n",
              " 'sushi']"
            ]
          },
          "metadata": {},
          "execution_count": 10
        }
      ]
    },
    {
      "cell_type": "code",
      "source": [
        "for images, labels in train_data_10_percent.take(1):\n",
        "  print(images, labels)"
      ],
      "metadata": {
        "colab": {
          "base_uri": "https://localhost:8080/"
        },
        "id": "_3jUwCVlMVxs",
        "outputId": "effe641d-8084-40aa-879b-c0967f318f51"
      },
      "execution_count": 11,
      "outputs": [
        {
          "output_type": "stream",
          "name": "stdout",
          "text": [
            "tf.Tensor(\n",
            "[[[[4.00000000e+00 5.00000000e+00 0.00000000e+00]\n",
            "   [4.00000000e+00 5.00000000e+00 0.00000000e+00]\n",
            "   [4.00000000e+00 5.00000000e+00 0.00000000e+00]\n",
            "   ...\n",
            "   [1.00000000e+00 1.00000000e+00 1.00000000e+00]\n",
            "   [1.00000000e+00 1.00000000e+00 1.00000000e+00]\n",
            "   [1.00000000e+00 1.00000000e+00 1.00000000e+00]]\n",
            "\n",
            "  [[4.00000000e+00 5.00000000e+00 0.00000000e+00]\n",
            "   [4.00000000e+00 5.00000000e+00 0.00000000e+00]\n",
            "   [4.00000000e+00 5.00000000e+00 0.00000000e+00]\n",
            "   ...\n",
            "   [1.00000000e+00 1.00000000e+00 1.00000000e+00]\n",
            "   [1.00000000e+00 1.00000000e+00 1.00000000e+00]\n",
            "   [1.00000000e+00 1.00000000e+00 1.00000000e+00]]\n",
            "\n",
            "  [[4.00000000e+00 5.00000000e+00 0.00000000e+00]\n",
            "   [4.00000000e+00 5.00000000e+00 0.00000000e+00]\n",
            "   [4.00000000e+00 5.00000000e+00 0.00000000e+00]\n",
            "   ...\n",
            "   [1.00000000e+00 1.00000000e+00 1.00000000e+00]\n",
            "   [1.00000000e+00 1.00000000e+00 1.00000000e+00]\n",
            "   [1.00000000e+00 1.00000000e+00 1.00000000e+00]]\n",
            "\n",
            "  ...\n",
            "\n",
            "  [[1.82923462e+02 1.82923462e+02 1.84923462e+02]\n",
            "   [1.83729584e+02 1.83729584e+02 1.85729584e+02]\n",
            "   [1.84785706e+02 1.84785706e+02 1.86785706e+02]\n",
            "   ...\n",
            "   [2.10617416e+02 2.12112305e+02 2.11448975e+02]\n",
            "   [2.03586655e+02 2.03341751e+02 2.00698868e+02]\n",
            "   [1.92275024e+02 1.91989258e+02 1.86774963e+02]]\n",
            "\n",
            "  [[1.82045914e+02 1.82045914e+02 1.84045914e+02]\n",
            "   [1.82933670e+02 1.82933670e+02 1.84933670e+02]\n",
            "   [1.84000000e+02 1.84000000e+02 1.86000000e+02]\n",
            "   ...\n",
            "   [2.08652969e+02 2.07754974e+02 2.03581406e+02]\n",
            "   [1.99790802e+02 1.92943710e+02 1.85290619e+02]\n",
            "   [1.79172699e+02 1.68534744e+02 1.60080658e+02]]\n",
            "\n",
            "  [[1.81357147e+02 1.81357147e+02 1.83357147e+02]\n",
            "   [1.82000000e+02 1.82000000e+02 1.84000000e+02]\n",
            "   [1.83076523e+02 1.83076523e+02 1.85076523e+02]\n",
            "   ...\n",
            "   [2.01418365e+02 1.93484604e+02 1.85484543e+02]\n",
            "   [1.87499786e+02 1.70571167e+02 1.61071198e+02]\n",
            "   [1.09126213e+02 8.63251266e+01 7.53965988e+01]]]\n",
            "\n",
            "\n",
            " [[[2.84846935e+01 2.34846935e+01 1.74846935e+01]\n",
            "   [2.25459175e+01 1.95459175e+01 1.45459175e+01]\n",
            "   [1.67142868e+01 1.33571424e+01 1.05714283e+01]\n",
            "   ...\n",
            "   [8.12142639e+01 6.97857361e+01 7.60000000e+01]\n",
            "   [8.10000000e+01 7.00000000e+01 7.60000000e+01]\n",
            "   [8.06428223e+01 6.96428223e+01 7.56428223e+01]]\n",
            "\n",
            "  [[2.77142849e+01 2.27142849e+01 1.67142849e+01]\n",
            "   [2.02857132e+01 1.72857132e+01 1.22857132e+01]\n",
            "   [1.54285707e+01 1.20714283e+01 9.28571415e+00]\n",
            "   ...\n",
            "   [8.02856903e+01 6.88571625e+01 7.50714264e+01]\n",
            "   [8.00714264e+01 6.90714264e+01 7.50714264e+01]\n",
            "   [8.04030914e+01 6.94030914e+01 7.54030914e+01]]\n",
            "\n",
            "  [[2.79285698e+01 2.29285698e+01 1.89285698e+01]\n",
            "   [1.92857132e+01 1.60714264e+01 1.14999990e+01]\n",
            "   [1.47857141e+01 1.14285717e+01 8.97959232e+00]\n",
            "   ...\n",
            "   [7.94285278e+01 6.80459137e+01 7.37856903e+01]\n",
            "   [7.88010254e+01 6.78010254e+01 7.33724518e+01]\n",
            "   [8.03571777e+01 6.93571777e+01 7.49286041e+01]]\n",
            "\n",
            "  ...\n",
            "\n",
            "  [[7.88572311e+01 5.81531105e+01 4.98622589e+01]\n",
            "   [7.45000610e+01 5.65714722e+01 4.70714264e+01]\n",
            "   [7.16174088e+01 5.47857132e+01 4.55510101e+01]\n",
            "   ...\n",
            "   [1.28111467e+01 8.26017284e+00 7.00000000e+00]\n",
            "   [1.10000000e+01 7.00000000e+00 6.00000000e+00]\n",
            "   [8.07135010e+00 6.42855835e+00 4.64282227e+00]]\n",
            "\n",
            "  [[8.42092056e+01 5.90000000e+01 4.94030685e+01]\n",
            "   [8.04949493e+01 5.72092056e+01 4.93469772e+01]\n",
            "   [7.61429214e+01 5.59285965e+01 4.70000381e+01]\n",
            "   ...\n",
            "   [1.35713501e+01 9.35708618e+00 7.92855835e+00]\n",
            "   [1.07907791e+01 9.79077911e+00 7.79077911e+00]\n",
            "   [8.57138062e+00 7.57138062e+00 5.57138062e+00]]\n",
            "\n",
            "  [[8.45152588e+01 5.63417435e+01 4.79285011e+01]\n",
            "   [8.43775787e+01 5.91683006e+01 4.95713959e+01]\n",
            "   [8.22806396e+01 5.87193604e+01 5.10000000e+01]\n",
            "   ...\n",
            "   [1.29999695e+01 8.78570557e+00 7.35717773e+00]\n",
            "   [9.68883801e+00 8.68883801e+00 6.68883801e+00]\n",
            "   [8.00000000e+00 7.00000000e+00 5.00000000e+00]]]\n",
            "\n",
            "\n",
            " [[[3.78944511e+01 2.08944511e+01 2.89445114e+00]\n",
            "   [3.60401802e+01 1.70401783e+01 1.69961795e-01]\n",
            "   [3.71527405e+01 1.47936859e+01 0.00000000e+00]\n",
            "   ...\n",
            "   [3.13884373e+01 1.38169641e+01 0.00000000e+00]\n",
            "   [3.20000000e+01 1.30000000e+01 0.00000000e+00]\n",
            "   [3.45402145e+01 1.25402136e+01 6.53762892e-02]]\n",
            "\n",
            "  [[3.67464943e+01 1.86482773e+01 1.19738495e+00]\n",
            "   [3.85044632e+01 1.84062500e+01 1.43845713e+00]\n",
            "   [4.09582291e+01 1.73153706e+01 1.52965569e+00]\n",
            "   ...\n",
            "   [3.17873402e+01 1.39805603e+01 4.31453347e-01]\n",
            "   [3.25098763e+01 1.35098782e+01 0.00000000e+00]\n",
            "   [3.53571777e+01 1.33571777e+01 3.57177734e-01]]\n",
            "\n",
            "  [[3.78909454e+01 1.70605869e+01 6.05865791e-02]\n",
            "   [4.16875000e+01 1.88571434e+01 2.77232218e+00]\n",
            "   [4.36524239e+01 1.78523579e+01 2.78571415e+00]\n",
            "   ...\n",
            "   [3.38970032e+01 1.58970051e+01 1.89700460e+00]\n",
            "   [3.20787621e+01 1.30787611e+01 0.00000000e+00]\n",
            "   [3.44419975e+01 1.24419994e+01 3.02962530e-02]]\n",
            "\n",
            "  ...\n",
            "\n",
            "  [[5.26177216e+01 2.96177197e+01 1.21198364e-01]\n",
            "   [5.59493294e+01 3.09493332e+01 1.57557949e-01]\n",
            "   [5.67372322e+01 2.97372341e+01 1.81797687e-02]\n",
            "   ...\n",
            "   [4.99725266e+01 2.83297329e+01 1.11546910e+00]\n",
            "   [4.35606880e+01 2.35606861e+01 1.96141869e-01]\n",
            "   [5.37446594e+01 3.64901428e+01 8.57498074e+00]]\n",
            "\n",
            "  [[5.40758781e+01 3.09148445e+01 1.26753652e+00]\n",
            "   [5.37528343e+01 2.96224194e+01 1.01976264e+00]\n",
            "   [5.64719429e+01 3.02771149e+01 1.11608028e+00]\n",
            "   ...\n",
            "   [5.22693253e+01 3.09163666e+01 3.60549164e+00]\n",
            "   [4.55670166e+01 2.51161194e+01 0.00000000e+00]\n",
            "   [5.37494316e+01 3.32985344e+01 5.39674044e+00]]\n",
            "\n",
            "  [[5.10280228e+01 2.71456757e+01 1.96086317e-01]\n",
            "   [4.73529549e+01 2.35228977e+01 0.00000000e+00]\n",
            "   [5.36928368e+01 2.78366356e+01 4.05245125e-01]\n",
            "   ...\n",
            "   [4.88570557e+01 2.78570557e+01 4.28527832e-01]\n",
            "   [4.72143250e+01 2.62143250e+01 0.00000000e+00]\n",
            "   [5.49911499e+01 3.15401917e+01 3.35717773e+00]]]\n",
            "\n",
            "\n",
            " ...\n",
            "\n",
            "\n",
            " [[[6.97142868e+01 3.65000000e+01 3.78571415e+00]\n",
            "   [7.13112259e+01 3.87397957e+01 4.09693861e+00]\n",
            "   [6.95765305e+01 3.76479568e+01 2.29081607e+00]\n",
            "   ...\n",
            "   [8.57296371e+01 7.10051575e+01 3.42143517e+01]\n",
            "   [8.00407181e+01 6.71580582e+01 3.58723984e+01]\n",
            "   [6.88163376e+01 5.69591942e+01 3.08164062e+01]]\n",
            "\n",
            "  [[7.57602081e+01 3.49030609e+01 2.83163333e+00]\n",
            "   [7.48520432e+01 3.60663261e+01 2.99489808e+00]\n",
            "   [6.94285660e+01 3.38571396e+01 5.61222248e-02]\n",
            "   ...\n",
            "   [8.16378098e+01 5.68265762e+01 2.58265553e+01]\n",
            "   [8.39948807e+01 5.93520241e+01 1.94999714e+01]\n",
            "   [8.73317719e+01 6.36174850e+01 1.82603378e+01]]\n",
            "\n",
            "  [[6.67193832e+01 3.52193871e+01 2.21938777e+00]\n",
            "   [6.24285660e+01 3.07142849e+01 1.53060742e-02]\n",
            "   [5.93469391e+01 2.78316326e+01 9.18368548e-02]\n",
            "   ...\n",
            "   [8.25203552e+01 6.37601357e+01 3.13570137e+01]\n",
            "   [7.80000000e+01 5.59285469e+01 1.55867128e+01]\n",
            "   [8.65716400e+01 6.06430664e+01 1.65002098e+01]]\n",
            "\n",
            "  ...\n",
            "\n",
            "  [[2.00591873e+02 2.15158142e+02 2.14382751e+02]\n",
            "   [1.96270523e+02 2.09841873e+02 2.02326660e+02]\n",
            "   [1.92760223e+02 2.06545929e+02 1.90780655e+02]\n",
            "   ...\n",
            "   [1.14596886e+02 1.18596886e+02 9.48316422e+01]\n",
            "   [1.22800980e+02 1.27800980e+02 1.05800980e+02]\n",
            "   [1.15928619e+02 1.20928619e+02 1.00928619e+02]]\n",
            "\n",
            "  [[1.94892899e+02 2.02750015e+02 2.14678635e+02]\n",
            "   [2.08076462e+02 2.16928482e+02 2.22428528e+02]\n",
            "   [1.96413361e+02 2.09556198e+02 2.00153214e+02]\n",
            "   ...\n",
            "   [1.15285706e+02 1.18270401e+02 9.94592056e+01]\n",
            "   [1.21846909e+02 1.26704025e+02 1.06775467e+02]\n",
            "   [1.10285736e+02 1.15142853e+02 9.32142944e+01]]\n",
            "\n",
            "  [[1.85152374e+02 1.88152374e+02 2.06325897e+02]\n",
            "   [2.01362289e+02 2.07959198e+02 2.18908234e+02]\n",
            "   [2.06392944e+02 2.17387833e+02 2.17765442e+02]\n",
            "   ...\n",
            "   [1.17357178e+02 1.19709175e+02 1.05938766e+02]\n",
            "   [1.23499908e+02 1.26499908e+02 1.07499908e+02]\n",
            "   [1.07285645e+02 1.10285645e+02 8.92856445e+01]]]\n",
            "\n",
            "\n",
            " [[[4.08826523e+01 3.68826523e+01 2.59540825e+01]\n",
            "   [4.96173477e+01 4.56173477e+01 3.39744911e+01]\n",
            "   [4.75714302e+01 4.40612259e+01 2.97040825e+01]\n",
            "   ...\n",
            "   [1.48259979e+02 1.58259979e+02 1.67397720e+02]\n",
            "   [1.28199036e+02 1.39199036e+02 1.43199036e+02]\n",
            "   [1.42372757e+02 1.53372757e+02 1.56087036e+02]]\n",
            "\n",
            "  [[4.10714264e+01 3.60000000e+01 3.32142830e+01]\n",
            "   [4.59285736e+01 4.06428566e+01 3.70000000e+01]\n",
            "   [5.01581650e+01 4.31020432e+01 3.64438782e+01]\n",
            "   ...\n",
            "   [1.36489838e+02 1.46704117e+02 1.55632690e+02]\n",
            "   [1.52122360e+02 1.63265213e+02 1.69408066e+02]\n",
            "   [1.48836945e+02 1.59979813e+02 1.64122665e+02]]\n",
            "\n",
            "  [[3.77244911e+01 2.93673458e+01 3.01530609e+01]\n",
            "   [4.60714302e+01 3.78571434e+01 3.65000000e+01]\n",
            "   [4.81938782e+01 4.06887779e+01 3.49336739e+01]\n",
            "   ...\n",
            "   [1.46954300e+02 1.59954300e+02 1.67954300e+02]\n",
            "   [1.39561035e+02 1.52561035e+02 1.60561035e+02]\n",
            "   [1.28148132e+02 1.41148132e+02 1.47148132e+02]]\n",
            "\n",
            "  ...\n",
            "\n",
            "  [[4.99949112e+01 5.29949112e+01 3.39949112e+01]\n",
            "   [5.22551537e+01 5.32551537e+01 3.52551537e+01]\n",
            "   [5.73112755e+01 5.80510788e+01 3.94541130e+01]\n",
            "   ...\n",
            "   [1.53571350e+02 1.52571350e+02 1.34571350e+02]\n",
            "   [1.48086685e+02 1.47086685e+02 1.29086685e+02]\n",
            "   [1.42979660e+02 1.41979660e+02 1.23979660e+02]]\n",
            "\n",
            "  [[5.87144241e+01 5.98572464e+01 4.17858353e+01]\n",
            "   [6.42858582e+01 6.62144470e+01 4.54286766e+01]\n",
            "   [6.75613327e+01 6.67296600e+01 4.66735497e+01]\n",
            "   ...\n",
            "   [1.48372391e+02 1.47372391e+02 1.29372391e+02]\n",
            "   [1.49780579e+02 1.48780579e+02 1.30780579e+02]\n",
            "   [1.42311157e+02 1.41311157e+02 1.23311150e+02]]\n",
            "\n",
            "  [[6.48724518e+01 6.25867462e+01 4.52295990e+01]\n",
            "   [6.82857208e+01 6.60000153e+01 4.66428680e+01]\n",
            "   [7.06275482e+01 6.82142868e+01 4.73520432e+01]\n",
            "   ...\n",
            "   [1.45862259e+02 1.44862259e+02 1.26862259e+02]\n",
            "   [1.45214264e+02 1.44214264e+02 1.26214264e+02]\n",
            "   [1.43275604e+02 1.42275604e+02 1.24275597e+02]]]\n",
            "\n",
            "\n",
            " [[[1.84339279e+02 1.91339279e+02 1.84339279e+02]\n",
            "   [1.85000000e+02 1.92000000e+02 1.85000000e+02]\n",
            "   [1.86000000e+02 1.91000000e+02 1.85000000e+02]\n",
            "   ...\n",
            "   [1.33535690e+02 9.45356903e+01 5.15356941e+01]\n",
            "   [1.32707916e+02 9.37079163e+01 5.07079163e+01]\n",
            "   [1.34321426e+02 9.53214264e+01 5.23214302e+01]]\n",
            "\n",
            "  [[1.86006378e+02 1.93006378e+02 1.86006378e+02]\n",
            "   [1.85088013e+02 1.92088013e+02 1.85088013e+02]\n",
            "   [1.85000000e+02 1.90000000e+02 1.84000000e+02]\n",
            "   ...\n",
            "   [1.30982147e+02 9.19821396e+01 4.89821434e+01]\n",
            "   [1.30053589e+02 9.10535812e+01 4.80535851e+01]\n",
            "   [1.30982147e+02 9.19821396e+01 4.89821434e+01]]\n",
            "\n",
            "  [[1.86804855e+02 1.93804855e+02 1.86804855e+02]\n",
            "   [1.86000000e+02 1.93000000e+02 1.86000000e+02]\n",
            "   [1.85547195e+02 1.90547195e+02 1.84547195e+02]\n",
            "   ...\n",
            "   [1.29303574e+02 9.03035736e+01 4.73035698e+01]\n",
            "   [1.29668365e+02 9.06683655e+01 4.76683617e+01]\n",
            "   [1.29303574e+02 9.03035736e+01 4.73035698e+01]]\n",
            "\n",
            "  ...\n",
            "\n",
            "  [[1.34593246e+02 1.20986076e+02 1.13289665e+02]\n",
            "   [1.30003799e+02 1.16396629e+02 1.08700218e+02]\n",
            "   [1.29870026e+02 1.16262848e+02 1.08566437e+02]\n",
            "   ...\n",
            "   [1.26850784e+02 1.15850784e+02 1.13850784e+02]\n",
            "   [1.29071442e+02 1.17071442e+02 1.17071442e+02]\n",
            "   [1.31357178e+02 1.19357178e+02 1.20071533e+02]]\n",
            "\n",
            "  [[1.32707870e+02 1.19672165e+02 1.11690018e+02]\n",
            "   [1.30900513e+02 1.17864815e+02 1.09882668e+02]\n",
            "   [1.39211746e+02 1.26176048e+02 1.18193901e+02]\n",
            "   ...\n",
            "   [1.26789558e+02 1.15789558e+02 1.13789558e+02]\n",
            "   [1.29141602e+02 1.17141609e+02 1.17141609e+02]\n",
            "   [1.32339325e+02 1.20339325e+02 1.21053680e+02]]\n",
            "\n",
            "  [[1.33841553e+02 1.22823746e+02 1.14163017e+02]\n",
            "   [1.31103378e+02 1.20085579e+02 1.11424843e+02]\n",
            "   [1.31408142e+02 1.20390358e+02 1.11729622e+02]\n",
            "   ...\n",
            "   [1.26785736e+02 1.15785736e+02 1.13785736e+02]\n",
            "   [1.30118652e+02 1.18118645e+02 1.18118645e+02]\n",
            "   [1.33357178e+02 1.21357178e+02 1.22071533e+02]]]], shape=(32, 224, 224, 3), dtype=float32) tf.Tensor(\n",
            "[[0. 0. 1. 0. 0. 0. 0. 0. 0. 0.]\n",
            " [0. 0. 0. 0. 0. 1. 0. 0. 0. 0.]\n",
            " [0. 0. 0. 0. 0. 0. 0. 1. 0. 0.]\n",
            " [0. 0. 0. 0. 0. 0. 0. 0. 1. 0.]\n",
            " [0. 0. 0. 0. 0. 0. 0. 0. 0. 1.]\n",
            " [0. 1. 0. 0. 0. 0. 0. 0. 0. 0.]\n",
            " [1. 0. 0. 0. 0. 0. 0. 0. 0. 0.]\n",
            " [0. 0. 0. 0. 0. 0. 0. 0. 0. 1.]\n",
            " [1. 0. 0. 0. 0. 0. 0. 0. 0. 0.]\n",
            " [0. 0. 0. 0. 0. 0. 0. 0. 1. 0.]\n",
            " [0. 0. 0. 0. 0. 0. 0. 1. 0. 0.]\n",
            " [0. 0. 0. 0. 0. 0. 1. 0. 0. 0.]\n",
            " [0. 1. 0. 0. 0. 0. 0. 0. 0. 0.]\n",
            " [0. 0. 0. 0. 1. 0. 0. 0. 0. 0.]\n",
            " [0. 1. 0. 0. 0. 0. 0. 0. 0. 0.]\n",
            " [0. 0. 0. 1. 0. 0. 0. 0. 0. 0.]\n",
            " [0. 1. 0. 0. 0. 0. 0. 0. 0. 0.]\n",
            " [0. 0. 0. 1. 0. 0. 0. 0. 0. 0.]\n",
            " [0. 0. 0. 0. 1. 0. 0. 0. 0. 0.]\n",
            " [0. 0. 0. 0. 0. 1. 0. 0. 0. 0.]\n",
            " [0. 0. 0. 0. 1. 0. 0. 0. 0. 0.]\n",
            " [1. 0. 0. 0. 0. 0. 0. 0. 0. 0.]\n",
            " [0. 0. 0. 0. 0. 0. 0. 1. 0. 0.]\n",
            " [1. 0. 0. 0. 0. 0. 0. 0. 0. 0.]\n",
            " [1. 0. 0. 0. 0. 0. 0. 0. 0. 0.]\n",
            " [0. 0. 0. 0. 0. 0. 0. 1. 0. 0.]\n",
            " [0. 0. 0. 0. 1. 0. 0. 0. 0. 0.]\n",
            " [0. 0. 0. 0. 0. 0. 0. 0. 0. 1.]\n",
            " [0. 0. 0. 0. 0. 1. 0. 0. 0. 0.]\n",
            " [0. 0. 0. 0. 0. 0. 0. 1. 0. 0.]\n",
            " [0. 0. 1. 0. 0. 0. 0. 0. 0. 0.]\n",
            " [0. 0. 1. 0. 0. 0. 0. 0. 0. 0.]], shape=(32, 10), dtype=float32)\n"
          ]
        }
      ]
    },
    {
      "cell_type": "markdown",
      "source": [
        "## Model 0 : Building a transfer learning feature extraction model using Keras Functional API"
      ],
      "metadata": {
        "id": "_fBbq9F6Myfi"
      }
    },
    {
      "cell_type": "code",
      "source": [
        "# 1. Create the base model from pretrained Efficientnet\n",
        "base_model = tf.keras.applications.EfficientNetB0(include_top=False)\n",
        "\n",
        "# 2. Freeze the base model\n",
        "base_model.trainable(False)\n",
        "\n",
        "# 3. Create input into our model\n",
        "inputs = tf.keras.layers.Input(shape=(224,224,3), name=\"input layer\")\n",
        "\n",
        "# 4. If using a model like Resnet50V2, we need to normalize the inputs\n",
        "#x = tf.keras.layers.experimental.preprocessing.Rescaling(1./255)(inputs)\n",
        "\n",
        "# 5. Pass the inputs to the base model\n",
        "x = base_model(inputs)\n",
        "print(f\"Shape after passing to the base_model: {x.shape}\")\n",
        "\n",
        "# 6. Average pool the outputs of the base_model\n",
        "x = tf.keras.GlobalAveragePooling2D(name=\"global average pooling layer\")(x)\n",
        "\n",
        "# 7. Create output activation layer\n",
        "outputs = tf.keras.layers.Dense(10, activation=\"softmax\", name=\"output layer\")(x)\n",
        "\n",
        "# 8. Combine inputs and outputs in to a model\n",
        "model_0 = tf.keras.Model(inputs, outputs)\n",
        "\n",
        "# 9. Compile the model\n",
        "model_0.compile(loss=\"categorical_crossentropy\",\n",
        "                optimizer=tf.keras.optimizers.Adam(),\n",
        "                metrics=[\"accuracy\"])\n",
        "\n",
        "# 10. Fit the model and save the history\n",
        "model_0_history = model_0.fit(train_data_10_percent, \n",
        "                              epochs=5, \n",
        "                              validation_data=test_data\n",
        "                              callbacks=[create_tensorboard_callback()])"
      ],
      "metadata": {
        "colab": {
          "base_uri": "https://localhost:8080/",
          "height": 217
        },
        "id": "MVrqk7W8b-s7",
        "outputId": "f91dfd05-b67f-432a-8734-b022a27bbaa7"
      },
      "execution_count": 12,
      "outputs": [
        {
          "output_type": "error",
          "ename": "AttributeError",
          "evalue": "ignored",
          "traceback": [
            "\u001b[0;31m---------------------------------------------------------------------------\u001b[0m",
            "\u001b[0;31mAttributeError\u001b[0m                            Traceback (most recent call last)",
            "\u001b[0;32m<ipython-input-12-e0016c3c8fbd>\u001b[0m in \u001b[0;36m<module>\u001b[0;34m()\u001b[0m\n\u001b[1;32m      1\u001b[0m \u001b[0;31m# 1. Create the base model from pretrained Efficientnet\u001b[0m\u001b[0;34m\u001b[0m\u001b[0;34m\u001b[0m\u001b[0;34m\u001b[0m\u001b[0m\n\u001b[0;32m----> 2\u001b[0;31m \u001b[0mbase_model\u001b[0m \u001b[0;34m=\u001b[0m \u001b[0mtf\u001b[0m\u001b[0;34m.\u001b[0m\u001b[0mkeras\u001b[0m\u001b[0;34m.\u001b[0m\u001b[0mapplications\u001b[0m\u001b[0;34m.\u001b[0m\u001b[0mEfficientnetB0\u001b[0m\u001b[0;34m(\u001b[0m\u001b[0minclude_top\u001b[0m\u001b[0;34m=\u001b[0m\u001b[0;32mFalse\u001b[0m\u001b[0;34m)\u001b[0m\u001b[0;34m\u001b[0m\u001b[0;34m\u001b[0m\u001b[0m\n\u001b[0m\u001b[1;32m      3\u001b[0m \u001b[0;34m\u001b[0m\u001b[0m\n\u001b[1;32m      4\u001b[0m \u001b[0;31m# 2. Freeze the base model\u001b[0m\u001b[0;34m\u001b[0m\u001b[0;34m\u001b[0m\u001b[0;34m\u001b[0m\u001b[0m\n",
            "\u001b[0;31mAttributeError\u001b[0m: module 'keras.api._v2.keras.applications' has no attribute 'EfficientnetB0'"
          ]
        }
      ]
    }
  ]
}