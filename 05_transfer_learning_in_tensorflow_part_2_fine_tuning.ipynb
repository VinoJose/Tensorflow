{
  "nbformat": 4,
  "nbformat_minor": 0,
  "metadata": {
    "colab": {
      "name": "05_transfer_learning_in_tensorflow_part_2_fine_tuning.ipynb",
      "provenance": [],
      "collapsed_sections": [],
      "include_colab_link": true
    },
    "kernelspec": {
      "name": "python3",
      "display_name": "Python 3"
    },
    "accelerator": "GPU"
  },
  "cells": [
    {
      "cell_type": "markdown",
      "metadata": {
        "id": "view-in-github",
        "colab_type": "text"
      },
      "source": [
        "<a href=\"https://colab.research.google.com/github/VinoJose/Tensorflow/blob/main/05_transfer_learning_in_tensorflow_part_2_fine_tuning.ipynb\" target=\"_parent\"><img src=\"https://colab.research.google.com/assets/colab-badge.svg\" alt=\"Open In Colab\"/></a>"
      ]
    },
    {
      "cell_type": "markdown",
      "source": [
        "# Transfer Learning with TensorFlow Part 2: Fine-tuning"
      ],
      "metadata": {
        "id": "aEwa-kSSSqzw"
      }
    },
    {
      "cell_type": "code",
      "source": [
        "# Check if we are using a GPU\n",
        "!nvidia-smi"
      ],
      "metadata": {
        "colab": {
          "base_uri": "https://localhost:8080/"
        },
        "id": "kYZcvH8hS0VA",
        "outputId": "a28233d2-56d0-4c8b-ec72-cf9c5d33c8e3"
      },
      "execution_count": 1,
      "outputs": [
        {
          "output_type": "stream",
          "name": "stdout",
          "text": [
            "Thu Dec 16 09:27:31 2021       \n",
            "+-----------------------------------------------------------------------------+\n",
            "| NVIDIA-SMI 495.44       Driver Version: 460.32.03    CUDA Version: 11.2     |\n",
            "|-------------------------------+----------------------+----------------------+\n",
            "| GPU  Name        Persistence-M| Bus-Id        Disp.A | Volatile Uncorr. ECC |\n",
            "| Fan  Temp  Perf  Pwr:Usage/Cap|         Memory-Usage | GPU-Util  Compute M. |\n",
            "|                               |                      |               MIG M. |\n",
            "|===============================+======================+======================|\n",
            "|   0  Tesla K80           Off  | 00000000:00:04.0 Off |                    0 |\n",
            "| N/A   69C    P8    33W / 149W |      0MiB / 11441MiB |      0%      Default |\n",
            "|                               |                      |                  N/A |\n",
            "+-------------------------------+----------------------+----------------------+\n",
            "                                                                               \n",
            "+-----------------------------------------------------------------------------+\n",
            "| Processes:                                                                  |\n",
            "|  GPU   GI   CI        PID   Type   Process name                  GPU Memory |\n",
            "|        ID   ID                                                   Usage      |\n",
            "|=============================================================================|\n",
            "|  No running processes found                                                 |\n",
            "+-----------------------------------------------------------------------------+\n"
          ]
        }
      ]
    },
    {
      "cell_type": "markdown",
      "source": [
        "## Creating helper functions"
      ],
      "metadata": {
        "id": "Wehj7fDXTMGa"
      }
    },
    {
      "cell_type": "markdown",
      "source": [
        "In previous notebooks, we have created a bunch of helper functions, now we could rewrite them all, however this is tedious.\n",
        "So, it's good idea to put functions you'll want to use again in a script you can download and import into your notebooks."
      ],
      "metadata": {
        "id": "iUxPdvZRUAhC"
      }
    },
    {
      "cell_type": "code",
      "source": [
        "!wget https://raw.githubusercontent.com/mrdbourke/tensorflow-deep-learning/main/extras/helper_functions.py"
      ],
      "metadata": {
        "colab": {
          "base_uri": "https://localhost:8080/"
        },
        "id": "zF2XXUFkUuQ4",
        "outputId": "284d3d1f-32a6-4ad6-8393-574eb555a6c1"
      },
      "execution_count": 2,
      "outputs": [
        {
          "output_type": "stream",
          "name": "stdout",
          "text": [
            "--2021-12-16 09:27:31--  https://raw.githubusercontent.com/mrdbourke/tensorflow-deep-learning/main/extras/helper_functions.py\n",
            "Resolving raw.githubusercontent.com (raw.githubusercontent.com)... 185.199.108.133, 185.199.109.133, 185.199.110.133, ...\n",
            "Connecting to raw.githubusercontent.com (raw.githubusercontent.com)|185.199.108.133|:443... connected.\n",
            "HTTP request sent, awaiting response... 200 OK\n",
            "Length: 10246 (10K) [text/plain]\n",
            "Saving to: ‘helper_functions.py’\n",
            "\n",
            "helper_functions.py 100%[===================>]  10.01K  --.-KB/s    in 0s      \n",
            "\n",
            "2021-12-16 09:27:32 (58.6 MB/s) - ‘helper_functions.py’ saved [10246/10246]\n",
            "\n"
          ]
        }
      ]
    },
    {
      "cell_type": "code",
      "source": [
        "# Import helper functions we're going to use in this notebook\n",
        "from helper_functions import create_tensorboard_callback, plot_loss_curves, unzip_data, walk_through_dir"
      ],
      "metadata": {
        "id": "xOuj9sQpU3yB"
      },
      "execution_count": 3,
      "outputs": []
    },
    {
      "cell_type": "markdown",
      "source": [
        "## Let's get some data"
      ],
      "metadata": {
        "id": "86gq3HPHV4u5"
      }
    },
    {
      "cell_type": "markdown",
      "source": [
        "This time we are going to see how we can use the pretrained models in the `tf.keras.applications` and apply them to our probelm (recognizing images of food)."
      ],
      "metadata": {
        "id": "8CKTTseaWW6b"
      }
    },
    {
      "cell_type": "code",
      "source": [
        "# Get 10% of training data of 10 classes of Food101\n",
        "!wget https://storage.googleapis.com/ztm_tf_course/food_vision/10_food_classes_10_percent.zip"
      ],
      "metadata": {
        "colab": {
          "base_uri": "https://localhost:8080/"
        },
        "id": "quRJ1Rj-W-dG",
        "outputId": "97bd3158-e2e4-45d3-8e0f-d46869877757"
      },
      "execution_count": 4,
      "outputs": [
        {
          "output_type": "stream",
          "name": "stdout",
          "text": [
            "--2021-12-16 09:27:35--  https://storage.googleapis.com/ztm_tf_course/food_vision/10_food_classes_10_percent.zip\n",
            "Resolving storage.googleapis.com (storage.googleapis.com)... 173.194.197.128, 173.194.198.128, 64.233.191.128, ...\n",
            "Connecting to storage.googleapis.com (storage.googleapis.com)|173.194.197.128|:443... connected.\n",
            "HTTP request sent, awaiting response... 200 OK\n",
            "Length: 168546183 (161M) [application/zip]\n",
            "Saving to: ‘10_food_classes_10_percent.zip’\n",
            "\n",
            "10_food_classes_10_ 100%[===================>] 160.74M   163MB/s    in 1.0s    \n",
            "\n",
            "2021-12-16 09:27:36 (163 MB/s) - ‘10_food_classes_10_percent.zip’ saved [168546183/168546183]\n",
            "\n"
          ]
        }
      ]
    },
    {
      "cell_type": "code",
      "source": [
        "unzip_data(\"10_food_classes_10_percent.zip\")"
      ],
      "metadata": {
        "id": "OWS_a1a3XgB3"
      },
      "execution_count": 5,
      "outputs": []
    },
    {
      "cell_type": "code",
      "source": [
        "# Check how many images and subdirectories are in our dataset\n",
        "walk_through_dir(\"10_food_classes_10_percent\")"
      ],
      "metadata": {
        "colab": {
          "base_uri": "https://localhost:8080/"
        },
        "id": "LTI9y562Xub6",
        "outputId": "b3f30c74-d099-4ae5-b0ac-32534241891b"
      },
      "execution_count": 6,
      "outputs": [
        {
          "output_type": "stream",
          "name": "stdout",
          "text": [
            "There are 2 directories and 0 images in '10_food_classes_10_percent'.\n",
            "There are 10 directories and 0 images in '10_food_classes_10_percent/train'.\n",
            "There are 0 directories and 75 images in '10_food_classes_10_percent/train/sushi'.\n",
            "There are 0 directories and 75 images in '10_food_classes_10_percent/train/hamburger'.\n",
            "There are 0 directories and 75 images in '10_food_classes_10_percent/train/ice_cream'.\n",
            "There are 0 directories and 75 images in '10_food_classes_10_percent/train/grilled_salmon'.\n",
            "There are 0 directories and 75 images in '10_food_classes_10_percent/train/pizza'.\n",
            "There are 0 directories and 75 images in '10_food_classes_10_percent/train/steak'.\n",
            "There are 0 directories and 75 images in '10_food_classes_10_percent/train/chicken_wings'.\n",
            "There are 0 directories and 75 images in '10_food_classes_10_percent/train/chicken_curry'.\n",
            "There are 0 directories and 75 images in '10_food_classes_10_percent/train/fried_rice'.\n",
            "There are 0 directories and 75 images in '10_food_classes_10_percent/train/ramen'.\n",
            "There are 10 directories and 0 images in '10_food_classes_10_percent/test'.\n",
            "There are 0 directories and 250 images in '10_food_classes_10_percent/test/sushi'.\n",
            "There are 0 directories and 250 images in '10_food_classes_10_percent/test/hamburger'.\n",
            "There are 0 directories and 250 images in '10_food_classes_10_percent/test/ice_cream'.\n",
            "There are 0 directories and 250 images in '10_food_classes_10_percent/test/grilled_salmon'.\n",
            "There are 0 directories and 250 images in '10_food_classes_10_percent/test/pizza'.\n",
            "There are 0 directories and 250 images in '10_food_classes_10_percent/test/steak'.\n",
            "There are 0 directories and 250 images in '10_food_classes_10_percent/test/chicken_wings'.\n",
            "There are 0 directories and 250 images in '10_food_classes_10_percent/test/chicken_curry'.\n",
            "There are 0 directories and 250 images in '10_food_classes_10_percent/test/fried_rice'.\n",
            "There are 0 directories and 250 images in '10_food_classes_10_percent/test/ramen'.\n"
          ]
        }
      ]
    },
    {
      "cell_type": "code",
      "source": [
        "# Create training and testing directory paths\n",
        "train_dir = \"10_food_classes_10_percent/train\"\n",
        "test_dir = \"10_food_classes_10_percent/test\""
      ],
      "metadata": {
        "id": "uA2W32JuYCKf"
      },
      "execution_count": 7,
      "outputs": []
    },
    {
      "cell_type": "code",
      "source": [
        "import tensorflow as tf\n",
        "\n",
        "IMG_SIZE = (224,224)\n",
        "BATCH_SIZE = 32\n",
        "train_data_10_percent = tf.keras.preprocessing.image_dataset_from_directory(directory=train_dir,\n",
        "                                                                            image_size=IMG_SIZE,\n",
        "                                                                            label_mode=\"categorical\",\n",
        "                                                                            batch_size=BATCH_SIZE)\n",
        "test_data = tf.keras.preprocessing.image_dataset_from_directory(directory=test_dir,\n",
        "                                                                image_size=IMG_SIZE,\n",
        "                                                                label_mode=\"categorical\",\n",
        "                                                                batch_size=BATCH_SIZE)"
      ],
      "metadata": {
        "colab": {
          "base_uri": "https://localhost:8080/"
        },
        "id": "7FM9sqbgY-kJ",
        "outputId": "961c7ff1-e400-4589-f9f3-5d7021a5cde7"
      },
      "execution_count": 8,
      "outputs": [
        {
          "output_type": "stream",
          "name": "stdout",
          "text": [
            "Found 750 files belonging to 10 classes.\n",
            "Found 2500 files belonging to 10 classes.\n"
          ]
        }
      ]
    },
    {
      "cell_type": "code",
      "source": [
        "train_data_10_percent"
      ],
      "metadata": {
        "colab": {
          "base_uri": "https://localhost:8080/"
        },
        "id": "5_tRx57iKgrt",
        "outputId": "f843e34b-c923-4f6e-d6d9-4463716840b9"
      },
      "execution_count": 9,
      "outputs": [
        {
          "output_type": "execute_result",
          "data": {
            "text/plain": [
              "<BatchDataset shapes: ((None, 224, 224, 3), (None, 10)), types: (tf.float32, tf.float32)>"
            ]
          },
          "metadata": {},
          "execution_count": 9
        }
      ]
    },
    {
      "cell_type": "code",
      "source": [
        "# Check out the class names in our dataset\n",
        "train_data_10_percent.class_names"
      ],
      "metadata": {
        "colab": {
          "base_uri": "https://localhost:8080/"
        },
        "id": "37MicLWnLuLY",
        "outputId": "9748c94a-acb9-4c6b-f8b3-5eca503e01c3"
      },
      "execution_count": 10,
      "outputs": [
        {
          "output_type": "execute_result",
          "data": {
            "text/plain": [
              "['chicken_curry',\n",
              " 'chicken_wings',\n",
              " 'fried_rice',\n",
              " 'grilled_salmon',\n",
              " 'hamburger',\n",
              " 'ice_cream',\n",
              " 'pizza',\n",
              " 'ramen',\n",
              " 'steak',\n",
              " 'sushi']"
            ]
          },
          "metadata": {},
          "execution_count": 10
        }
      ]
    },
    {
      "cell_type": "code",
      "source": [
        "for images, labels in train_data_10_percent.take(1):\n",
        "  print(images, labels)"
      ],
      "metadata": {
        "colab": {
          "base_uri": "https://localhost:8080/"
        },
        "id": "_3jUwCVlMVxs",
        "outputId": "f8a9b3f6-3501-41d2-97ec-49c209e5b376"
      },
      "execution_count": 11,
      "outputs": [
        {
          "output_type": "stream",
          "name": "stdout",
          "text": [
            "tf.Tensor(\n",
            "[[[[145.88776    121.88776     77.17347   ]\n",
            "   [143.64796    117.71939     80.47959   ]\n",
            "   [151.0153     121.801025    92.505104  ]\n",
            "   ...\n",
            "   [ 56.453957    29.239693    19.673424  ]\n",
            "   [ 61.933556    37.004997    32.40807   ]\n",
            "   [ 51.740288    27.740286    24.454573  ]]\n",
            "\n",
            "  [[142.7857     117.85715     76.64286   ]\n",
            "   [139.07143    113.07653     77.78572   ]\n",
            "   [148.87245    118.92857     91.244896  ]\n",
            "   ...\n",
            "   [ 60.923283    32.780445    21.28051   ]\n",
            "   [ 58.627457    31.90299     23.18873   ]\n",
            "   [ 50.38794     26.194128    18.933891  ]]\n",
            "\n",
            "  [[139.4949     113.494896    76.92347   ]\n",
            "   [141.5153     115.515305    82.37245   ]\n",
            "   [144.7704     114.77041     89.198975  ]\n",
            "   ...\n",
            "   [ 73.95901     44.193737    27.336636  ]\n",
            "   [ 67.3112      39.096916    26.270391  ]\n",
            "   [ 58.918106    31.060999    19.418142  ]]\n",
            "\n",
            "  ...\n",
            "\n",
            "  [[204.14798    155.14798    123.14797   ]\n",
            "   [201.92859    155.92859    122.92859   ]\n",
            "   [198.21431    153.21431    120.21431   ]\n",
            "   ...\n",
            "   [210.30608    164.35199    138.21426   ]\n",
            "   [209.7296     164.7296     135.61734   ]\n",
            "   [207.42856    162.42856    131.85709   ]]\n",
            "\n",
            "  [[202.29082    153.29082    121.29082   ]\n",
            "   [200.8571     154.8571     121.8571    ]\n",
            "   [199.69896    154.69896    121.69895   ]\n",
            "   ...\n",
            "   [208.94392    162.94392    136.94392   ]\n",
            "   [208.78058    163.78568    132.49991   ]\n",
            "   [207.81119    163.2143     129.35706   ]]\n",
            "\n",
            "  [[202.48466    153.48466    120.48467   ]\n",
            "   [196.37758    150.37758    116.37758   ]\n",
            "   [200.64299    156.64299    121.643     ]\n",
            "   ...\n",
            "   [209.28564    163.28564    137.28564   ]\n",
            "   [205.02551    160.09695    126.90304   ]\n",
            "   [207.32669    163.32669    125.61233   ]]]\n",
            "\n",
            "\n",
            " [[[ 47.92857     44.92857     25.928572  ]\n",
            "   [ 50.54592     47.54592     28.54592   ]\n",
            "   [ 50.209183    47.209183    30.209183  ]\n",
            "   ...\n",
            "   [ 64.07652     59.076523    55.076523  ]\n",
            "   [ 60.954075    55.954075    51.954075  ]\n",
            "   [ 61.71432     56.71432     52.71432   ]]\n",
            "\n",
            "  [[ 49.142857    46.142857    29.806122  ]\n",
            "   [ 48.214287    45.214287    28.346937  ]\n",
            "   [ 49.214287    46.214287    31.102041  ]\n",
            "   ...\n",
            "   [ 59.872467    54.872467    50.872467  ]\n",
            "   [ 57.137753    52.137753    48.137753  ]\n",
            "   [ 58.09694     53.09694     49.09694   ]]\n",
            "\n",
            "  [[ 43.137756    39.566326    27.566326  ]\n",
            "   [ 43.413265    39.84184     27.841837  ]\n",
            "   [ 42.168365    38.59694     26.382652  ]\n",
            "   ...\n",
            "   [ 59.357162    54.357162    50.357162  ]\n",
            "   [ 58.515297    53.515297    49.515297  ]\n",
            "   [ 58.571426    53.571426    49.571426  ]]\n",
            "\n",
            "  ...\n",
            "\n",
            "  [[ 40.13774     39.13774     37.13774   ]\n",
            "   [ 41.          40.          38.        ]\n",
            "   [ 40.357185    39.357185    37.357185  ]\n",
            "   ...\n",
            "   [ 87.50015     85.28589     95.85736   ]\n",
            "   [ 82.94417     80.729904    91.30138   ]\n",
            "   [ 82.51551     80.30125     90.87272   ]]\n",
            "\n",
            "  [[ 38.857117    37.857117    35.857117  ]\n",
            "   [ 38.785675    37.785675    35.785675  ]\n",
            "   [ 42.01527     41.01527     39.01527   ]\n",
            "   ...\n",
            "   [ 85.60209     85.60209     97.60209   ]\n",
            "   [ 87.80609     87.80609     99.80609   ]\n",
            "   [ 79.31633     79.31633     91.31633   ]]\n",
            "\n",
            "  [[ 39.0715      38.0715      36.0715    ]\n",
            "   [ 36.428604    35.428604    33.428604  ]\n",
            "   [ 38.78575     37.78575     35.78575   ]\n",
            "   ...\n",
            "   [ 74.785736    76.785736    88.785736  ]\n",
            "   [ 75.040726    77.040726    89.040726  ]\n",
            "   [ 80.015       82.015       94.015     ]]]\n",
            "\n",
            "\n",
            " [[[ 55.482143    47.070473    41.258926  ]\n",
            "   [ 53.468433    43.51467     46.017857  ]\n",
            "   [ 91.00734     68.86416     70.560905  ]\n",
            "   ...\n",
            "   [  5.           5.           7.        ]\n",
            "   [  5.           5.           7.        ]\n",
            "   [  5.           4.           9.        ]]\n",
            "\n",
            "  [[ 57.647003    45.188778    30.205036  ]\n",
            "   [ 62.35077     49.365116    43.71301   ]\n",
            "   [ 68.27136     45.620533    40.759563  ]\n",
            "   ...\n",
            "   [  5.9285717    5.9285717    7.9285717 ]\n",
            "   [  5.9285717    5.9285717    7.9285717 ]\n",
            "   [  5.9285717    4.9285717    9.928572  ]]\n",
            "\n",
            "  [[ 61.0676      45.57621     28.125956  ]\n",
            "   [ 59.80963     45.67283     34.834503  ]\n",
            "   [ 61.41167     42.764347    34.277424  ]\n",
            "   ...\n",
            "   [  6.           6.           8.        ]\n",
            "   [  6.           6.           8.        ]\n",
            "   [  6.           5.          10.        ]]\n",
            "\n",
            "  ...\n",
            "\n",
            "  [[ 27.491377    19.491377     6.4913764 ]\n",
            "   [ 29.058037    21.058037     8.058036  ]\n",
            "   [ 30.          22.           9.        ]\n",
            "   ...\n",
            "   [ 38.148907    34.148907    33.622173  ]\n",
            "   [ 35.103596    31.103598    32.103596  ]\n",
            "   [ 33.7229      28.722902    32.7229    ]]\n",
            "\n",
            "  [[ 29.529634    21.529634     8.529634  ]\n",
            "   [ 28.857117    20.857117     7.8571167 ]\n",
            "   [ 28.857117    20.857117     7.8571167 ]\n",
            "   ...\n",
            "   [ 34.736725    30.71982     30.352875  ]\n",
            "   [ 35.50009     30.55396     34.392353  ]\n",
            "   [ 35.983494    30.983496    34.983494  ]]\n",
            "\n",
            "  [[ 29.55468     21.55468      8.55468   ]\n",
            "   [ 30.143066    22.143066     9.143066  ]\n",
            "   [ 30.143066    22.143066     9.143066  ]\n",
            "   ...\n",
            "   [ 45.53578     41.29915     43.00905   ]\n",
            "   [ 43.221313    38.221313    42.221313  ]\n",
            "   [ 41.95767     36.95767     42.95767   ]]]\n",
            "\n",
            "\n",
            " ...\n",
            "\n",
            "\n",
            " [[[102.91183     75.29799      6.8861604 ]\n",
            "   [ 92.53125     68.66741      4.7165184 ]\n",
            "   [ 76.2087      60.74107      3.3883924 ]\n",
            "   ...\n",
            "   [ 35.818188    36.246716    12.246714  ]\n",
            "   [ 30.881725    26.273462     4.1428833 ]\n",
            "   [ 32.928467    27.928467     5.928467  ]]\n",
            "\n",
            "  [[106.18192     80.296875    14.261161  ]\n",
            "   [ 96.828125    76.05469     13.714287  ]\n",
            "   [ 79.35156     63.871647     9.060267  ]\n",
            "   ...\n",
            "   [ 33.30475     33.733276     9.733274  ]\n",
            "   [ 28.411877    26.287971     3.3292727 ]\n",
            "   [ 32.084717    27.084717     5.084717  ]]\n",
            "\n",
            "  [[102.643974    80.19531     18.04241   ]\n",
            "   [ 97.0067      77.6384      18.655134  ]\n",
            "   [ 79.50893     64.53571     11.835937  ]\n",
            "   ...\n",
            "   [ 27.420765    27.849293     3.8492932 ]\n",
            "   [ 25.10495     23.10495      0.75784254]\n",
            "   [ 28.567951    23.567951     2.0702324 ]]\n",
            "\n",
            "  ...\n",
            "\n",
            "  [[ 39.60826     38.717636     5.608259  ]\n",
            "   [ 44.714287    43.82366     10.162948  ]\n",
            "   [ 46.66183     45.319195    11.172991  ]\n",
            "   ...\n",
            "   [218.27788    217.27788    173.27788   ]\n",
            "   [215.87833    214.87833    170.87833   ]\n",
            "   [211.28564    210.28564    164.28564   ]]\n",
            "\n",
            "  [[ 38.572544    34.99442      5.5636163 ]\n",
            "   [ 43.59933     40.558037     8.857143  ]\n",
            "   [ 46.305805    43.88393      7.149554  ]\n",
            "   ...\n",
            "   [218.42853    217.42853    173.42853   ]\n",
            "   [215.88725    214.88725    170.88725   ]\n",
            "   [211.28564    210.28564    164.28564   ]]\n",
            "\n",
            "  [[ 38.30692     34.30692      7.739955  ]\n",
            "   [ 40.33036     37.25893      6.401786  ]\n",
            "   [ 42.38951     40.38951      2.2053576 ]\n",
            "   ...\n",
            "   [217.38503    216.38503    172.38503   ]\n",
            "   [214.99774    213.99774    169.99774   ]\n",
            "   [210.42627    209.42627    163.42627   ]]]\n",
            "\n",
            "\n",
            " [[[178.         172.         158.        ]\n",
            "   [178.         172.         158.        ]\n",
            "   [178.         172.         158.        ]\n",
            "   ...\n",
            "   [  2.           4.           1.        ]\n",
            "   [  2.           4.           1.        ]\n",
            "   [  3.           5.           2.        ]]\n",
            "\n",
            "  [[178.         172.         156.        ]\n",
            "   [178.         172.         156.        ]\n",
            "   [178.         172.         156.        ]\n",
            "   ...\n",
            "   [  2.           4.           1.        ]\n",
            "   [  2.9336746    4.933675     1.9336747 ]\n",
            "   [  3.           5.           2.        ]]\n",
            "\n",
            "  [[178.         172.         156.        ]\n",
            "   [178.         172.         156.        ]\n",
            "   [178.         172.         156.        ]\n",
            "   ...\n",
            "   [  3.           5.           2.        ]\n",
            "   [  3.0153089    5.015309     2.0153089 ]\n",
            "   [  4.           6.           3.        ]]\n",
            "\n",
            "  ...\n",
            "\n",
            "  [[218.64285    207.64285    189.64285   ]\n",
            "   [217.14285    206.14285    187.71432   ]\n",
            "   [220.42854    209.42854    190.66328   ]\n",
            "   ...\n",
            "   [165.26018    140.97429    114.61707   ]\n",
            "   [154.98457    121.99994     91.811134  ]\n",
            "   [111.1363      86.56501     64.279366  ]]\n",
            "\n",
            "  [[219.4286     208.4286     190.4286    ]\n",
            "   [219.21431    208.21431    190.21431   ]\n",
            "   [220.14288    209.14288    191.14288   ]\n",
            "   ...\n",
            "   [164.44383    138.94368    112.57117   ]\n",
            "   [156.21414    123.42847     92.64279   ]\n",
            "   [119.64668     95.07539     72.78975   ]]\n",
            "\n",
            "  [[220.34178    208.34178    192.34178   ]\n",
            "   [220.35707    209.35707    191.35707   ]\n",
            "   [221.07137    210.07137    192.07137   ]\n",
            "   ...\n",
            "   [168.21938    142.71922    116.14776   ]\n",
            "   [157.1427     124.357025    93.57135   ]\n",
            "   [124.92749    100.3562      78.07056   ]]]\n",
            "\n",
            "\n",
            " [[[  1.           1.           1.        ]\n",
            "   [  1.           1.           1.        ]\n",
            "   [  2.           2.           2.        ]\n",
            "   ...\n",
            "   [ 10.3877735    8.102059     1.3877738 ]\n",
            "   [ 10.571428     8.285714     1.5918404 ]\n",
            "   [  9.357108     7.0713935    0.94897455]]\n",
            "\n",
            "  [[  1.           1.           1.        ]\n",
            "   [  1.           1.           1.        ]\n",
            "   [  2.           2.           2.        ]\n",
            "   ...\n",
            "   [  6.3775415   10.183655     5.336744  ]\n",
            "   [  6.285714    10.           6.4285975 ]\n",
            "   [  6.5101843   10.22447      8.510184  ]]\n",
            "\n",
            "  [[  1.           1.           1.        ]\n",
            "   [  1.           1.           1.        ]\n",
            "   [  2.           2.           2.        ]\n",
            "   ...\n",
            "   [  9.928549    11.704054     1.8061137 ]\n",
            "   [  9.051029    10.714286     4.622485  ]\n",
            "   [ 10.714285    11.714286     8.3979845 ]]\n",
            "\n",
            "  ...\n",
            "\n",
            "  [[ 37.928616    27.928616    15.928616  ]\n",
            "   [ 30.744915    22.071463    10.836778  ]\n",
            "   [ 26.632616    18.061205     6.7755    ]\n",
            "   ...\n",
            "   [ 59.27542     34.530632    21.397913  ]\n",
            "   [ 54.479618    36.41844     18.82662   ]\n",
            "   [ 52.82648     36.459164    21.846918  ]]\n",
            "\n",
            "  [[ 32.0715      22.071499    10.071498  ]\n",
            "   [ 29.622437    19.622437     7.6224365 ]\n",
            "   [ 32.255024    22.255022    10.255023  ]\n",
            "   ...\n",
            "   [ 61.999878    35.57135     22.999878  ]\n",
            "   [ 54.22447     32.244946    15.928619  ]\n",
            "   [ 54.224373    36.16322     22.724493  ]]\n",
            "\n",
            "  [[ 29.193872    19.80612      7.4999957 ]\n",
            "   [ 31.520416    21.520416     9.520417  ]\n",
            "   [ 35.92858     26.234705    11.846937  ]\n",
            "   ...\n",
            "   [ 64.69388     37.10202     25.204039  ]\n",
            "   [ 59.367382    36.438824    22.17353   ]\n",
            "   [ 56.030453    36.775322    23.795834  ]]]], shape=(32, 224, 224, 3), dtype=float32) tf.Tensor(\n",
            "[[0. 0. 0. 0. 0. 0. 0. 0. 1. 0.]\n",
            " [0. 0. 0. 0. 0. 0. 0. 1. 0. 0.]\n",
            " [0. 0. 0. 0. 0. 0. 0. 1. 0. 0.]\n",
            " [0. 0. 0. 0. 0. 0. 1. 0. 0. 0.]\n",
            " [0. 0. 0. 0. 0. 1. 0. 0. 0. 0.]\n",
            " [0. 0. 0. 0. 0. 0. 1. 0. 0. 0.]\n",
            " [0. 0. 0. 0. 0. 0. 1. 0. 0. 0.]\n",
            " [0. 0. 0. 1. 0. 0. 0. 0. 0. 0.]\n",
            " [0. 0. 0. 0. 0. 0. 0. 0. 1. 0.]\n",
            " [0. 1. 0. 0. 0. 0. 0. 0. 0. 0.]\n",
            " [0. 0. 0. 0. 0. 0. 1. 0. 0. 0.]\n",
            " [1. 0. 0. 0. 0. 0. 0. 0. 0. 0.]\n",
            " [0. 0. 0. 0. 0. 0. 0. 0. 0. 1.]\n",
            " [0. 0. 0. 0. 0. 0. 0. 1. 0. 0.]\n",
            " [1. 0. 0. 0. 0. 0. 0. 0. 0. 0.]\n",
            " [0. 0. 0. 0. 0. 0. 1. 0. 0. 0.]\n",
            " [0. 0. 0. 0. 1. 0. 0. 0. 0. 0.]\n",
            " [0. 0. 0. 0. 0. 0. 0. 0. 1. 0.]\n",
            " [0. 0. 0. 0. 0. 0. 0. 1. 0. 0.]\n",
            " [0. 0. 0. 0. 1. 0. 0. 0. 0. 0.]\n",
            " [0. 0. 0. 0. 0. 0. 0. 0. 1. 0.]\n",
            " [0. 0. 0. 0. 0. 0. 1. 0. 0. 0.]\n",
            " [0. 0. 0. 0. 0. 0. 0. 0. 1. 0.]\n",
            " [0. 0. 0. 0. 0. 0. 0. 0. 0. 1.]\n",
            " [0. 0. 0. 0. 1. 0. 0. 0. 0. 0.]\n",
            " [0. 0. 0. 0. 0. 0. 0. 0. 0. 1.]\n",
            " [0. 1. 0. 0. 0. 0. 0. 0. 0. 0.]\n",
            " [0. 0. 0. 1. 0. 0. 0. 0. 0. 0.]\n",
            " [1. 0. 0. 0. 0. 0. 0. 0. 0. 0.]\n",
            " [0. 0. 1. 0. 0. 0. 0. 0. 0. 0.]\n",
            " [0. 0. 0. 0. 0. 1. 0. 0. 0. 0.]\n",
            " [0. 0. 0. 0. 0. 0. 0. 0. 0. 1.]], shape=(32, 10), dtype=float32)\n"
          ]
        }
      ]
    },
    {
      "cell_type": "markdown",
      "source": [
        "## Model 0 : Building a transfer learning feature extraction model using Keras Functional API"
      ],
      "metadata": {
        "id": "_fBbq9F6Myfi"
      }
    },
    {
      "cell_type": "code",
      "source": [
        "# 1. Create the base model from pretrained Efficientnet\n",
        "base_model = tf.keras.applications.EfficientNetB0(include_top=False)\n",
        "\n",
        "# 2. Freeze the base model\n",
        "base_model.trainable = False\n",
        "\n",
        "# 3. Create input into our model\n",
        "inputs = tf.keras.layers.Input(shape=(224,224,3), name=\"input layer\")\n",
        "\n",
        "# 4. If using a model like Resnet50V2, we need to normalize the inputs\n",
        "#x = tf.keras.layers.experimental.preprocessing.Rescaling(1./255)(inputs)\n",
        "\n",
        "# 5. Pass the inputs to the base model\n",
        "x = base_model(inputs)\n",
        "print(f\"Shape after passing to the base_model: {x.shape}\")\n",
        "\n",
        "# 6. Average pool the outputs of the base_model\n",
        "x = tf.keras.layers.GlobalAveragePooling2D(name=\"global_average_pooling_layer\")(x)\n",
        "print(f\"Shape after GlobalAveragePooling2D: {x.shape}\")\n",
        "\n",
        "# 7. Create output activation layer\n",
        "outputs = tf.keras.layers.Dense(10, activation=\"softmax\", name=\"output_layer\")(x)\n",
        "\n",
        "# 8. Combine inputs and outputs in to a model\n",
        "model_0 = tf.keras.Model(inputs, outputs)\n",
        "\n",
        "# 9. Compile the model\n",
        "model_0.compile(loss=\"categorical_crossentropy\",\n",
        "                optimizer=tf.keras.optimizers.Adam(),\n",
        "                metrics=[\"accuracy\"])\n",
        "\n",
        "# 10. Fit the model and save the history\n",
        "history_10_percent = model_0.fit(train_data_10_percent, \n",
        "                              epochs=5, \n",
        "                              validation_data=test_data,\n",
        "                              validation_steps=int(0.25*len(test_data)),\n",
        "                              callbacks=[create_tensorboard_callback(dir_name=\"transfer_learning\",\n",
        "                                                                     experiment_name=\"10_percent_feature_extraction\")])"
      ],
      "metadata": {
        "colab": {
          "base_uri": "https://localhost:8080/"
        },
        "id": "MVrqk7W8b-s7",
        "outputId": "1c0cccd1-e91f-4b9f-e8ff-c2c06d684751"
      },
      "execution_count": 19,
      "outputs": [
        {
          "output_type": "stream",
          "name": "stdout",
          "text": [
            "Shape after passing to the base_model: (None, 7, 7, 1280)\n",
            "Shape after GlobalAveragePooling2D: (None, 1280)\n",
            "Saving TensorBoard log files to: transfer_learning/10_percent_feature_extraction/20211216-094500\n",
            "Epoch 1/5\n"
          ]
        },
        {
          "output_type": "stream",
          "name": "stderr",
          "text": [
            "/usr/local/lib/python3.7/dist-packages/keras/engine/functional.py:1410: CustomMaskWarning: Custom mask layers require a config and must override get_config. When loading, the custom mask layer must be passed to the custom_objects argument.\n",
            "  layer_config = serialize_layer_fn(layer)\n"
          ]
        },
        {
          "output_type": "stream",
          "name": "stdout",
          "text": [
            "24/24 [==============================] - 15s 340ms/step - loss: 1.8487 - accuracy: 0.4293 - val_loss: 1.3419 - val_accuracy: 0.6891\n",
            "Epoch 2/5\n",
            "24/24 [==============================] - 7s 269ms/step - loss: 1.1272 - accuracy: 0.7293 - val_loss: 0.9378 - val_accuracy: 0.7582\n",
            "Epoch 3/5\n",
            "24/24 [==============================] - 9s 359ms/step - loss: 0.8283 - accuracy: 0.8013 - val_loss: 0.7635 - val_accuracy: 0.7911\n",
            "Epoch 4/5\n",
            "24/24 [==============================] - 9s 358ms/step - loss: 0.6931 - accuracy: 0.8453 - val_loss: 0.7144 - val_accuracy: 0.7763\n",
            "Epoch 5/5\n",
            "24/24 [==============================] - 9s 359ms/step - loss: 0.5862 - accuracy: 0.8600 - val_loss: 0.6288 - val_accuracy: 0.8010\n"
          ]
        }
      ]
    },
    {
      "cell_type": "code",
      "source": [
        ""
      ],
      "metadata": {
        "id": "Z0y7bxzSnWDc"
      },
      "execution_count": null,
      "outputs": []
    }
  ]
}