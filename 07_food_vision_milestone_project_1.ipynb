{
  "cells": [
    {
      "cell_type": "markdown",
      "metadata": {
        "id": "view-in-github",
        "colab_type": "text"
      },
      "source": [
        "<a href=\"https://colab.research.google.com/github/VinoJose/Tensorflow/blob/main/07_food_vision_milestone_project_1.ipynb\" target=\"_parent\"><img src=\"https://colab.research.google.com/assets/colab-badge.svg\" alt=\"Open In Colab\"/></a>"
      ]
    },
    {
      "cell_type": "markdown",
      "source": [
        "## Check GPU\n",
        "\n",
        "Google colab offers free GPUs, however not all of them are compatible with mixed precisoion training.\n",
        "\n",
        "Google colab offers:\n",
        "* K80\n",
        "* P100\n",
        "* Tesla T4\n",
        "\n",
        "Only Tesla T4 is compatible with mixed precision training "
      ],
      "metadata": {
        "id": "qftkGot_m9Kk"
      }
    },
    {
      "cell_type": "code",
      "source": [
        "!nvidia-smi -L"
      ],
      "metadata": {
        "colab": {
          "base_uri": "https://localhost:8080/"
        },
        "id": "eDNCfCe8oNAv",
        "outputId": "97554c93-a56d-4c90-c9c7-373ffd29848a"
      },
      "execution_count": 2,
      "outputs": [
        {
          "output_type": "stream",
          "name": "stdout",
          "text": [
            "GPU 0: Tesla K80 (UUID: GPU-00d6a704-695b-85e6-1669-3de5af71e26a)\n"
          ]
        }
      ]
    },
    {
      "cell_type": "code",
      "source": [
        "# Download helper function script\n",
        "!wget https://raw.githubusercontent.com/mrdbourke/tensorflow-deep-learning/main/extras/helper_functions.py"
      ],
      "metadata": {
        "colab": {
          "base_uri": "https://localhost:8080/"
        },
        "id": "1tqrpbswoRyP",
        "outputId": "e804ecce-a6b0-418a-82ee-814b4d73240a"
      },
      "execution_count": 3,
      "outputs": [
        {
          "output_type": "stream",
          "name": "stdout",
          "text": [
            "--2022-01-20 13:21:20--  https://raw.githubusercontent.com/mrdbourke/tensorflow-deep-learning/main/extras/helper_functions.py\n",
            "Resolving raw.githubusercontent.com (raw.githubusercontent.com)... 185.199.109.133, 185.199.110.133, 185.199.111.133, ...\n",
            "Connecting to raw.githubusercontent.com (raw.githubusercontent.com)|185.199.109.133|:443... connected.\n",
            "HTTP request sent, awaiting response... 200 OK\n",
            "Length: 10246 (10K) [text/plain]\n",
            "Saving to: ‘helper_functions.py’\n",
            "\n",
            "\rhelper_functions.py   0%[                    ]       0  --.-KB/s               \rhelper_functions.py 100%[===================>]  10.01K  --.-KB/s    in 0s      \n",
            "\n",
            "2022-01-20 13:21:21 (71.4 MB/s) - ‘helper_functions.py’ saved [10246/10246]\n",
            "\n"
          ]
        }
      ]
    },
    {
      "cell_type": "code",
      "source": [
        "# Import helper functions \n",
        "from helper_functions import create_tensorboard_callback, plot_loss_curves, compare_historys"
      ],
      "metadata": {
        "id": "0Qhe7FGwphRv"
      },
      "execution_count": 4,
      "outputs": []
    },
    {
      "cell_type": "markdown",
      "source": [
        " ## Use TensorFlow datasets to download the data"
      ],
      "metadata": {
        "id": "WQK0HqO5rQoR"
      }
    },
    {
      "cell_type": "code",
      "source": [
        "# Import library for tensoflow datasets\n",
        "import tensorflow_datasets as tfds"
      ],
      "metadata": {
        "id": "TEp1Adx5teuS"
      },
      "execution_count": 5,
      "outputs": []
    },
    {
      "cell_type": "code",
      "source": [
        "# List all available datasets\n",
        "dataset_list = tfds.list_builders()\n",
        "print(\"food101\" in dataset_list)"
      ],
      "metadata": {
        "colab": {
          "base_uri": "https://localhost:8080/"
        },
        "id": "NV4nWh-3to3E",
        "outputId": "d844a386-a979-43eb-dd6a-191fee9227a6"
      },
      "execution_count": 6,
      "outputs": [
        {
          "output_type": "stream",
          "name": "stdout",
          "text": [
            "True\n"
          ]
        }
      ]
    },
    {
      "cell_type": "code",
      "source": [
        "# Load in the data\n",
        "(train_data, test_data), ds_info = tfds.load(name=\"food101\",\n",
        "                                             split=[\"train\", \"validation\"],\n",
        "                                             shuffle_files=True,\n",
        "                                             as_supervised=True,\n",
        "                                             with_info=True)"
      ],
      "metadata": {
        "id": "wKVROf06t-4y"
      },
      "execution_count": 8,
      "outputs": []
    },
    {
      "cell_type": "markdown",
      "source": [
        "## Exploring the Food101 data from tfds\n",
        "\n",
        "To become one with our data, we want to find:\n",
        "* Class names\n",
        "* The shape of the input data(image tensors)\n",
        "* The datatype\n",
        "* What the labels looks like (One hot encoded or label encoded)\n",
        "* Do the labels match up with the class names?"
      ],
      "metadata": {
        "id": "7-tV6mMTy2XS"
      }
    },
    {
      "cell_type": "code",
      "source": [
        "# Feature of food101 dataset from TFDS\n",
        "ds_info.features"
      ],
      "metadata": {
        "colab": {
          "base_uri": "https://localhost:8080/"
        },
        "id": "JgQAgqhsvxxQ",
        "outputId": "64a6e8f3-d60f-4184-885c-16d12ec90202"
      },
      "execution_count": 9,
      "outputs": [
        {
          "output_type": "execute_result",
          "data": {
            "text/plain": [
              "FeaturesDict({\n",
              "    'image': Image(shape=(None, None, 3), dtype=tf.uint8),\n",
              "    'label': ClassLabel(shape=(), dtype=tf.int64, num_classes=101),\n",
              "})"
            ]
          },
          "metadata": {},
          "execution_count": 9
        }
      ]
    },
    {
      "cell_type": "code",
      "source": [
        "# Get the classnames\n",
        "class_names = ds_info.features[\"label\"].names\n",
        "class_names[:10]"
      ],
      "metadata": {
        "colab": {
          "base_uri": "https://localhost:8080/"
        },
        "id": "bWLI-1v-xizD",
        "outputId": "7ef3d11e-036e-4f26-fe28-57fe186613c0"
      },
      "execution_count": 11,
      "outputs": [
        {
          "output_type": "execute_result",
          "data": {
            "text/plain": [
              "['apple_pie',\n",
              " 'baby_back_ribs',\n",
              " 'baklava',\n",
              " 'beef_carpaccio',\n",
              " 'beef_tartare',\n",
              " 'beet_salad',\n",
              " 'beignets',\n",
              " 'bibimbap',\n",
              " 'bread_pudding',\n",
              " 'breakfast_burrito']"
            ]
          },
          "metadata": {},
          "execution_count": 11
        }
      ]
    },
    {
      "cell_type": "code",
      "source": [
        "# Take one sample of the train data\n",
        "train_one_sample = train_data.take(1)\n",
        "train_one_sample"
      ],
      "metadata": {
        "colab": {
          "base_uri": "https://localhost:8080/"
        },
        "id": "ceBCGeU_yJ33",
        "outputId": "b99298a7-7ba6-4124-d46a-441db9af5258"
      },
      "execution_count": 13,
      "outputs": [
        {
          "output_type": "execute_result",
          "data": {
            "text/plain": [
              "<TakeDataset shapes: ((None, None, 3), ()), types: (tf.uint8, tf.int64)>"
            ]
          },
          "metadata": {},
          "execution_count": 13
        }
      ]
    },
    {
      "cell_type": "code",
      "source": [
        " # Output info about our training sample\n",
        " for image, label in train_one_sample:\n",
        "   print(f\"\"\"\n",
        "   image shape: {image.shape}\n",
        "   image datatype: {image.dtype}\n",
        "   Target class for fod101: {label}\n",
        "   Class name: {class_names[label.numpy()]}\n",
        "   \"\"\")"
      ],
      "metadata": {
        "colab": {
          "base_uri": "https://localhost:8080/"
        },
        "id": "ndsZt0cM0vEc",
        "outputId": "e4f5d47d-0c44-4117-f3d3-ae4953b494fe"
      },
      "execution_count": 14,
      "outputs": [
        {
          "output_type": "stream",
          "name": "stdout",
          "text": [
            "\n",
            "  image shape: (512, 512, 3)\n",
            "  image datatype: <dtype: 'uint8'>\n",
            "  Target class for fod101: 23\n",
            "  Class name: churros\n",
            "  \n"
          ]
        }
      ]
    },
    {
      "cell_type": "code",
      "source": [
        "# What does our image tensor from tfds looks like\n",
        "image "
      ],
      "metadata": {
        "colab": {
          "base_uri": "https://localhost:8080/"
        },
        "id": "wZy8u7C64uHk",
        "outputId": "c1772f37-1fb9-4ce4-d728-f3b92ae0310f"
      },
      "execution_count": 15,
      "outputs": [
        {
          "output_type": "execute_result",
          "data": {
            "text/plain": [
              "<tf.Tensor: shape=(512, 512, 3), dtype=uint8, numpy=\n",
              "array([[[ 93,  34,  40],\n",
              "        [ 93,  34,  40],\n",
              "        [ 94,  35,  41],\n",
              "        ...,\n",
              "        [ 52,  15,  23],\n",
              "        [ 52,  15,  23],\n",
              "        [ 52,  15,  23]],\n",
              "\n",
              "       [[ 93,  34,  40],\n",
              "        [ 93,  34,  40],\n",
              "        [ 94,  35,  41],\n",
              "        ...,\n",
              "        [ 52,  15,  23],\n",
              "        [ 52,  15,  23],\n",
              "        [ 52,  15,  23]],\n",
              "\n",
              "       [[ 93,  34,  40],\n",
              "        [ 93,  34,  40],\n",
              "        [ 94,  35,  41],\n",
              "        ...,\n",
              "        [ 54,  14,  23],\n",
              "        [ 52,  15,  23],\n",
              "        [ 52,  15,  23]],\n",
              "\n",
              "       ...,\n",
              "\n",
              "       [[108,  31,  49],\n",
              "        [106,  29,  47],\n",
              "        [105,  28,  46],\n",
              "        ...,\n",
              "        [121,  38,  56],\n",
              "        [122,  39,  59],\n",
              "        [123,  40,  60]],\n",
              "\n",
              "       [[107,  30,  48],\n",
              "        [107,  30,  48],\n",
              "        [107,  30,  48],\n",
              "        ...,\n",
              "        [121,  38,  58],\n",
              "        [123,  40,  60],\n",
              "        [123,  40,  60]],\n",
              "\n",
              "       [[106,  29,  47],\n",
              "        [108,  31,  49],\n",
              "        [109,  32,  50],\n",
              "        ...,\n",
              "        [123,  40,  60],\n",
              "        [124,  41,  61],\n",
              "        [124,  41,  61]]], dtype=uint8)>"
            ]
          },
          "metadata": {},
          "execution_count": 15
        }
      ]
    },
    {
      "cell_type": "code",
      "source": [
        "# What is the maximum and minimum values\n",
        "import tensorflow as tf\n",
        "tf.reduce_max(image), tf.reduce_min(image)"
      ],
      "metadata": {
        "id": "YZnRCIOQ53UU",
        "outputId": "9f1f2ac9-4caf-401f-ab27-67b14417a833",
        "colab": {
          "base_uri": "https://localhost:8080/"
        }
      },
      "execution_count": 16,
      "outputs": [
        {
          "output_type": "execute_result",
          "data": {
            "text/plain": [
              "(<tf.Tensor: shape=(), dtype=uint8, numpy=255>,\n",
              " <tf.Tensor: shape=(), dtype=uint8, numpy=9>)"
            ]
          },
          "metadata": {},
          "execution_count": 16
        }
      ]
    },
    {
      "cell_type": "code",
      "source": [
        ""
      ],
      "metadata": {
        "id": "RjTAS67O6KCu"
      },
      "execution_count": null,
      "outputs": []
    }
  ],
  "metadata": {
    "accelerator": "GPU",
    "colab": {
      "collapsed_sections": [],
      "name": "07_food_vision_milestone_project_1.ipynb",
      "provenance": [],
      "include_colab_link": true
    },
    "kernelspec": {
      "display_name": "Python 3 (ipykernel)",
      "language": "python",
      "name": "python3"
    },
    "language_info": {
      "codemirror_mode": {
        "name": "ipython",
        "version": 3
      },
      "file_extension": ".py",
      "mimetype": "text/x-python",
      "name": "python",
      "nbconvert_exporter": "python",
      "pygments_lexer": "ipython3",
      "version": "3.9.7"
    }
  },
  "nbformat": 4,
  "nbformat_minor": 0
}