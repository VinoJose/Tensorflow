{
  "cells": [
    {
      "cell_type": "markdown",
      "metadata": {
        "id": "view-in-github",
        "colab_type": "text"
      },
      "source": [
        "<a href=\"https://colab.research.google.com/github/VinoJose/Tensorflow/blob/main/07_food_vision_milestone_project_1.ipynb\" target=\"_parent\"><img src=\"https://colab.research.google.com/assets/colab-badge.svg\" alt=\"Open In Colab\"/></a>"
      ]
    },
    {
      "cell_type": "code",
      "source": [
        "!pip install tensorflow==2.4.1 # there is a bug in tensorflow version above 2.4 while using mixed precision"
      ],
      "metadata": {
        "id": "GWtoVGRdp6-e"
      },
      "execution_count": null,
      "outputs": []
    },
    {
      "cell_type": "markdown",
      "source": [
        "## Check GPU\n",
        "\n",
        "Google colab offers free GPUs, however not all of them are compatible with mixed precisoion training.\n",
        "\n",
        "Google colab offers:\n",
        "* K80\n",
        "* P100\n",
        "* Tesla T4\n",
        "\n",
        "Only Tesla T4 is compatible with mixed precision training "
      ],
      "metadata": {
        "id": "qftkGot_m9Kk"
      }
    },
    {
      "cell_type": "code",
      "source": [
        "!nvidia-smi -L"
      ],
      "metadata": {
        "colab": {
          "base_uri": "https://localhost:8080/"
        },
        "id": "eDNCfCe8oNAv",
        "outputId": "a1549586-4f0f-4294-a0b3-56a674bfe6a1"
      },
      "execution_count": 3,
      "outputs": [
        {
          "output_type": "stream",
          "name": "stdout",
          "text": [
            "GPU 0: Tesla K80 (UUID: GPU-d5e6f156-474e-e84c-415c-95ea9622e0d2)\n"
          ]
        }
      ]
    },
    {
      "cell_type": "code",
      "source": [
        "# Download helper function script\n",
        "!wget https://raw.githubusercontent.com/mrdbourke/tensorflow-deep-learning/main/extras/helper_functions.py"
      ],
      "metadata": {
        "colab": {
          "base_uri": "https://localhost:8080/"
        },
        "id": "1tqrpbswoRyP",
        "outputId": "6b71bec4-9568-487a-a09e-496379ca626e"
      },
      "execution_count": 4,
      "outputs": [
        {
          "output_type": "stream",
          "name": "stdout",
          "text": [
            "--2022-01-30 11:08:36--  https://raw.githubusercontent.com/mrdbourke/tensorflow-deep-learning/main/extras/helper_functions.py\n",
            "Resolving raw.githubusercontent.com (raw.githubusercontent.com)... 185.199.108.133, 185.199.109.133, 185.199.110.133, ...\n",
            "Connecting to raw.githubusercontent.com (raw.githubusercontent.com)|185.199.108.133|:443... connected.\n",
            "HTTP request sent, awaiting response... 200 OK\n",
            "Length: 10246 (10K) [text/plain]\n",
            "Saving to: ‘helper_functions.py.1’\n",
            "\n",
            "\rhelper_functions.py   0%[                    ]       0  --.-KB/s               \rhelper_functions.py 100%[===================>]  10.01K  --.-KB/s    in 0s      \n",
            "\n",
            "2022-01-30 11:08:36 (50.5 MB/s) - ‘helper_functions.py.1’ saved [10246/10246]\n",
            "\n"
          ]
        }
      ]
    },
    {
      "cell_type": "code",
      "source": [
        "# Import helper functions \n",
        "from helper_functions import create_tensorboard_callback, plot_loss_curves, compare_historys"
      ],
      "metadata": {
        "id": "0Qhe7FGwphRv"
      },
      "execution_count": 5,
      "outputs": []
    },
    {
      "cell_type": "markdown",
      "source": [
        " ## Use TensorFlow datasets to download the data"
      ],
      "metadata": {
        "id": "WQK0HqO5rQoR"
      }
    },
    {
      "cell_type": "code",
      "source": [
        "# Import library for tensoflow datasets\n",
        "import tensorflow_datasets as tfds"
      ],
      "metadata": {
        "id": "TEp1Adx5teuS"
      },
      "execution_count": 6,
      "outputs": []
    },
    {
      "cell_type": "code",
      "source": [
        "# List all available datasets\n",
        "dataset_list = tfds.list_builders()\n",
        "print(\"food101\" in dataset_list)"
      ],
      "metadata": {
        "colab": {
          "base_uri": "https://localhost:8080/"
        },
        "id": "NV4nWh-3to3E",
        "outputId": "62bdee3d-e8ac-4938-e279-a47fb1989885"
      },
      "execution_count": 7,
      "outputs": [
        {
          "output_type": "stream",
          "name": "stdout",
          "text": [
            "True\n"
          ]
        }
      ]
    },
    {
      "cell_type": "code",
      "source": [
        "# Load in the data\n",
        "(train_data, test_data), ds_info = tfds.load(name=\"food101\",\n",
        "                                             split=[\"train\", \"validation\"],\n",
        "                                             shuffle_files=True,\n",
        "                                             as_supervised=True,\n",
        "                                             with_info=True)"
      ],
      "metadata": {
        "id": "wKVROf06t-4y"
      },
      "execution_count": 8,
      "outputs": []
    },
    {
      "cell_type": "markdown",
      "source": [
        "## Exploring the Food101 data from tfds\n",
        "\n",
        "To become one with our data, we want to find:\n",
        "* Class names\n",
        "* The shape of the input data(image tensors)\n",
        "* The datatype\n",
        "* What the labels looks like (One hot encoded or label encoded)\n",
        "* Do the labels match up with the class names?"
      ],
      "metadata": {
        "id": "7-tV6mMTy2XS"
      }
    },
    {
      "cell_type": "code",
      "source": [
        "# Feature of food101 dataset from TFDS\n",
        "ds_info.features"
      ],
      "metadata": {
        "colab": {
          "base_uri": "https://localhost:8080/"
        },
        "id": "JgQAgqhsvxxQ",
        "outputId": "5e74e4b2-e256-47f6-c312-414a5b30222e"
      },
      "execution_count": 9,
      "outputs": [
        {
          "output_type": "execute_result",
          "data": {
            "text/plain": [
              "FeaturesDict({\n",
              "    'image': Image(shape=(None, None, 3), dtype=tf.uint8),\n",
              "    'label': ClassLabel(shape=(), dtype=tf.int64, num_classes=101),\n",
              "})"
            ]
          },
          "metadata": {},
          "execution_count": 9
        }
      ]
    },
    {
      "cell_type": "code",
      "source": [
        "# Get the classnames\n",
        "class_names = ds_info.features[\"label\"].names\n",
        "class_names[:10]"
      ],
      "metadata": {
        "colab": {
          "base_uri": "https://localhost:8080/"
        },
        "id": "bWLI-1v-xizD",
        "outputId": "27b99b6a-6ecf-4348-9e5e-58bf8ee67eb0"
      },
      "execution_count": 10,
      "outputs": [
        {
          "output_type": "execute_result",
          "data": {
            "text/plain": [
              "['apple_pie',\n",
              " 'baby_back_ribs',\n",
              " 'baklava',\n",
              " 'beef_carpaccio',\n",
              " 'beef_tartare',\n",
              " 'beet_salad',\n",
              " 'beignets',\n",
              " 'bibimbap',\n",
              " 'bread_pudding',\n",
              " 'breakfast_burrito']"
            ]
          },
          "metadata": {},
          "execution_count": 10
        }
      ]
    },
    {
      "cell_type": "code",
      "source": [
        "# Take one sample of the train data\n",
        "train_one_sample = train_data.take(1)\n",
        "train_one_sample"
      ],
      "metadata": {
        "colab": {
          "base_uri": "https://localhost:8080/"
        },
        "id": "ceBCGeU_yJ33",
        "outputId": "51ec3666-ef80-4cbb-8b5d-3602fd1fcf47"
      },
      "execution_count": 11,
      "outputs": [
        {
          "output_type": "execute_result",
          "data": {
            "text/plain": [
              "<TakeDataset shapes: ((None, None, 3), ()), types: (tf.uint8, tf.int64)>"
            ]
          },
          "metadata": {},
          "execution_count": 11
        }
      ]
    },
    {
      "cell_type": "code",
      "source": [
        " # Output info about our training sample\n",
        " for image, label in train_one_sample:\n",
        "   print(f\"\"\"\n",
        "   image shape: {image.shape}\n",
        "   image datatype: {image.dtype}\n",
        "   Target class for fod101: {label}\n",
        "   Class name: {class_names[label.numpy()]}\n",
        "   \"\"\")"
      ],
      "metadata": {
        "colab": {
          "base_uri": "https://localhost:8080/"
        },
        "id": "ndsZt0cM0vEc",
        "outputId": "b16a6b64-ad6b-457b-f261-691b866892fc"
      },
      "execution_count": 12,
      "outputs": [
        {
          "output_type": "stream",
          "name": "stdout",
          "text": [
            "\n",
            "  image shape: (512, 512, 3)\n",
            "  image datatype: <dtype: 'uint8'>\n",
            "  Target class for fod101: 75\n",
            "  Class name: pho\n",
            "  \n"
          ]
        }
      ]
    },
    {
      "cell_type": "code",
      "source": [
        "# What does our image tensor from tfds looks like\n",
        "image "
      ],
      "metadata": {
        "colab": {
          "base_uri": "https://localhost:8080/"
        },
        "id": "wZy8u7C64uHk",
        "outputId": "2adb36c4-8e04-484e-d9d7-04370e41ac1c"
      },
      "execution_count": 13,
      "outputs": [
        {
          "output_type": "execute_result",
          "data": {
            "text/plain": [
              "<tf.Tensor: shape=(512, 512, 3), dtype=uint8, numpy=\n",
              "array([[[ 48,  51,  30],\n",
              "        [ 49,  52,  31],\n",
              "        [ 50,  55,  33],\n",
              "        ...,\n",
              "        [ 93, 120,  77],\n",
              "        [ 87, 112,  70],\n",
              "        [ 80, 105,  63]],\n",
              "\n",
              "       [[ 43,  46,  25],\n",
              "        [ 46,  49,  28],\n",
              "        [ 49,  54,  32],\n",
              "        ...,\n",
              "        [ 95, 122,  77],\n",
              "        [ 90, 117,  72],\n",
              "        [ 83, 110,  65]],\n",
              "\n",
              "       [[ 40,  43,  22],\n",
              "        [ 45,  48,  27],\n",
              "        [ 50,  55,  33],\n",
              "        ...,\n",
              "        [ 90, 119,  71],\n",
              "        [ 87, 116,  68],\n",
              "        [ 84, 113,  65]],\n",
              "\n",
              "       ...,\n",
              "\n",
              "       [[ 48,  55,  37],\n",
              "        [ 48,  55,  37],\n",
              "        [ 41,  50,  33],\n",
              "        ...,\n",
              "        [ 32,  43,  35],\n",
              "        [ 25,  36,  30],\n",
              "        [ 21,  32,  26]],\n",
              "\n",
              "       [[ 42,  47,  27],\n",
              "        [ 38,  46,  25],\n",
              "        [ 34,  43,  26],\n",
              "        ...,\n",
              "        [ 38,  49,  41],\n",
              "        [ 33,  44,  38],\n",
              "        [ 29,  40,  34]],\n",
              "\n",
              "       [[ 37,  42,  20],\n",
              "        [ 32,  40,  19],\n",
              "        [ 31,  38,  20],\n",
              "        ...,\n",
              "        [ 33,  44,  36],\n",
              "        [ 33,  44,  38],\n",
              "        [ 32,  43,  37]]], dtype=uint8)>"
            ]
          },
          "metadata": {},
          "execution_count": 13
        }
      ]
    },
    {
      "cell_type": "code",
      "source": [
        "# What is the maximum and minimum values\n",
        "import tensorflow as tf\n",
        "tf.reduce_max(image), tf.reduce_min(image)"
      ],
      "metadata": {
        "id": "YZnRCIOQ53UU",
        "outputId": "f512860b-06fb-495f-a15b-ae8e6009d690",
        "colab": {
          "base_uri": "https://localhost:8080/"
        }
      },
      "execution_count": 14,
      "outputs": [
        {
          "output_type": "execute_result",
          "data": {
            "text/plain": [
              "(<tf.Tensor: shape=(), dtype=uint8, numpy=255>,\n",
              " <tf.Tensor: shape=(), dtype=uint8, numpy=0>)"
            ]
          },
          "metadata": {},
          "execution_count": 14
        }
      ]
    },
    {
      "cell_type": "markdown",
      "source": [
        "## Plot an image from Tensorflow"
      ],
      "metadata": {
        "id": "RjTAS67O6KCu"
      }
    },
    {
      "cell_type": "code",
      "source": [
        "# Plot and image tensor\n",
        "import matplotlib.pyplot as plt\n",
        "plt.imshow(image)\n",
        "plt.title(class_names[label.numpy()])\n",
        "plt.axis(False)"
      ],
      "metadata": {
        "colab": {
          "base_uri": "https://localhost:8080/",
          "height": 282
        },
        "id": "IwZPi4H25Vge",
        "outputId": "40161e67-f8d5-4a2c-a725-eebf0703761a"
      },
      "execution_count": 15,
      "outputs": [
        {
          "output_type": "execute_result",
          "data": {
            "text/plain": [
              "(-0.5, 511.5, 511.5, -0.5)"
            ]
          },
          "metadata": {},
          "execution_count": 15
        },
        {
          "output_type": "display_data",
          "data": {
            "image/png": "[encoded data removed]",
            "text/plain": [
              "<Figure size 432x288 with 1 Axes>"
            ]
          },
          "metadata": {
            "needs_background": "light"
          }
        }
      ]
    },
    {
      "cell_type": "markdown",
      "source": [
        "## Create a preprocessing function for our data\n",
        "\n",
        "What we know about our data are:\n",
        "* Data is in `uint8` type\n",
        "* Comprised of all different sized tensors\n",
        "* Not scaled (Pixed values are between 0 and 255)\n",
        "\n",
        "What models like are:\n",
        "* Data in `float32` type\n",
        "* For batches, Tensorflow likes all of the tensors in a batch to be of same size.\n",
        "* Scaled (between 0 and 1)\n",
        "\n",
        "As we are going to use EfficientNet, we don't need to rescale the data (This archetecture is having rescaling built-in)\n",
        "\n",
        "This means our function needs to:\n",
        "* Reshape all our images to same size.\n",
        "* Convert the dtype of our tensors from `uint8` to `float32`"
      ],
      "metadata": {
        "id": "ExVRZvK1587c"
      }
    },
    {
      "cell_type": "code",
      "source": [
        "# Make function to for preprocessing images\n",
        "def preprocess_img(image, label, img_shape=224):\n",
        "  \"\"\"\n",
        "  Converts image dtype from 'uint8' to 'float32' and reshapes the images\n",
        "  to the shape (img_shape, img_shape, color_channels)\n",
        "  \"\"\"\n",
        "  image = tf.image.resize(image, [img_shape, img_shape])\n",
        "  return tf.cast(image, tf.float32), label"
      ],
      "metadata": {
        "id": "qaxrbLts-nx7"
      },
      "execution_count": 16,
      "outputs": []
    },
    {
      "cell_type": "markdown",
      "source": [
        "## Batch and prepare the dataset\n",
        "\n",
        "We are now going to make our data input pipeline run really fast.\n",
        "\n",
        "https://tensorflow.org/guide/data_performance\n"
      ],
      "metadata": {
        "id": "eyUT1t-pCtPn"
      }
    },
    {
      "cell_type": "code",
      "source": [
        "# Map preprocess function to training data (and parellelize)\n",
        "train_data = train_data.map(map_func=preprocess_img, num_parallel_calls=tf.data.AUTOTUNE)\n",
        "\n",
        "# Shuffle the data and turn it into batches and prefetch it (load it faster)\n",
        "train_data = train_data.shuffle(buffer_size=100).batch(batch_size=32).prefetch(buffer_size=tf.data.AUTOTUNE)\n",
        "\n",
        "# Map preprocessing function to testing data\n",
        "test_data = test_data.map(preprocess_img, num_parallel_calls=tf.data.AUTOTUNE).batch(32).prefetch(tf.data.AUTOTUNE)"
      ],
      "metadata": {
        "id": "2vCx13ioGMXs"
      },
      "execution_count": 17,
      "outputs": []
    },
    {
      "cell_type": "code",
      "source": [
        "train_data, test_data"
      ],
      "metadata": {
        "id": "lkHGJEiXvQpb",
        "outputId": "7034e6da-0fc4-422b-f6f6-6d1782b39786",
        "colab": {
          "base_uri": "https://localhost:8080/"
        }
      },
      "execution_count": 18,
      "outputs": [
        {
          "output_type": "execute_result",
          "data": {
            "text/plain": [
              "(<PrefetchDataset shapes: ((None, 224, 224, 3), (None,)), types: (tf.float32, tf.int64)>,\n",
              " <PrefetchDataset shapes: ((None, 224, 224, 3), (None,)), types: (tf.float32, tf.int64)>)"
            ]
          },
          "metadata": {},
          "execution_count": 18
        }
      ]
    },
    {
      "cell_type": "markdown",
      "source": [
        "## Create modelling callbacks "
      ],
      "metadata": {
        "id": "N9PCwqtHzESp"
      }
    },
    {
      "cell_type": "code",
      "source": [
        "# Create tensorflow callback (Import from helper_functions.py)\n",
        "from helper_functions import create_tensorboard_callback\n",
        "\n",
        "# Create ModelCheckpoint callback to save a model's progress during training\n",
        "checkpoint_path = \"model_checkpoints/cp.ckpt\"\n",
        "model_checkpoint = tf.keras.callbacks.ModelCheckpoint(checkpoint_path,\n",
        "                                                      monitor=\"val_accuracy\",\n",
        "                                                      save_best_only=True,\n",
        "                                                      save_weights_only=True,\n",
        "                                                      verbose=0)"
      ],
      "metadata": {
        "id": "VJVmj71B4Ly3"
      },
      "execution_count": 35,
      "outputs": []
    },
    {
      "cell_type": "code",
      "source": [
        "#!pip install tensorflow==2.4.1"
      ],
      "metadata": {
        "id": "RYLJUir36nK3"
      },
      "execution_count": 20,
      "outputs": []
    },
    {
      "cell_type": "markdown",
      "source": [
        "## Setup mixed precision training\n",
        "\n",
        "Mixed precision ustilizes a combination of float32 and float16 datatypes to speed up model performance"
      ],
      "metadata": {
        "id": "KG7WuFmwp2A1"
      }
    },
    {
      "cell_type": "code",
      "source": [
        "# Turn on mixed precision training\n",
        "from tensorflow.keras import mixed_precision\n",
        "mixed_precision.set_global_policy(\"mixed_float16\")"
      ],
      "metadata": {
        "id": "y5-_3Uc0qLIv",
        "outputId": "da3cef36-e48c-47aa-f091-be1c2fae6332",
        "colab": {
          "base_uri": "https://localhost:8080/"
        }
      },
      "execution_count": 23,
      "outputs": [
        {
          "output_type": "stream",
          "name": "stdout",
          "text": [
            "WARNING:tensorflow:Mixed precision compatibility check (mixed_float16): WARNING\n",
            "Your GPU may run slowly with dtype policy mixed_float16 because it does not have compute capability of at least 7.0. Your GPU:\n",
            "  Tesla K80, compute capability 3.7\n",
            "See https://developer.nvidia.com/cuda-gpus for a list of GPUs and their compute capabilities.\n",
            "If you will use compatible GPU(s) not attached to this host, e.g. by running a multi-worker model, you can ignore this warning. This message will only be logged once\n"
          ]
        },
        {
          "output_type": "stream",
          "name": "stderr",
          "text": [
            "WARNING:tensorflow:Mixed precision compatibility check (mixed_float16): WARNING\n",
            "Your GPU may run slowly with dtype policy mixed_float16 because it does not have compute capability of at least 7.0. Your GPU:\n",
            "  Tesla K80, compute capability 3.7\n",
            "See https://developer.nvidia.com/cuda-gpus for a list of GPUs and their compute capabilities.\n",
            "If you will use compatible GPU(s) not attached to this host, e.g. by running a multi-worker model, you can ignore this warning. This message will only be logged once\n"
          ]
        }
      ]
    },
    {
      "cell_type": "markdown",
      "source": [
        "## Build feature extraction model"
      ],
      "metadata": {
        "id": "HWWj-IpOq_Dk"
      }
    },
    {
      "cell_type": "code",
      "source": [
        "from tensorflow.keras import layers\n",
        "from tensorflow.keras.layers.experimental import preprocessing\n",
        "\n",
        "# Create base model\n",
        "input_shape = (224, 224, 3)\n",
        "base_model = tf.keras.applications.EfficientNetB0(include_top=False)\n",
        "base_model.trainable = False\n",
        "\n",
        "# Create functional model\n",
        "inputs = layers.Input(shape=input_shape)\n",
        "x = base_model(inputs, training=False)\n",
        "x = layers.GlobalAveragePooling2D()(x)\n",
        "x = layers.Dense(len(class_names))(x)\n",
        "outputs = layers.Activation(\"softmax\", dtype=tf.float32, name=\"softmax_float32\")(x)\n",
        "model = tf.keras.Model(inputs, outputs)\n",
        "\n",
        "# Compile our model\n",
        "model.compile(loss=\"sparse_categorical_crossentropy\",\n",
        "              optimizer=tf.keras.optimizers.Adam(),\n",
        "              metrics=\"accuracy\")"
      ],
      "metadata": {
        "id": "yUTE-s3PwFyP"
      },
      "execution_count": 26,
      "outputs": []
    },
    {
      "cell_type": "markdown",
      "source": [
        "## Checking layer dtype policies"
      ],
      "metadata": {
        "id": "tbVxW8Umz1AR"
      }
    },
    {
      "cell_type": "code",
      "source": [
        "for layer in model.layers:\n",
        "  print(layer.name, layer.trainable, layer.dtype, layer.dtype_policy)\n"
      ],
      "metadata": {
        "id": "SN0gkess1O_s",
        "outputId": "61cc681f-9f50-4571-d02d-c11ceb208668",
        "colab": {
          "base_uri": "https://localhost:8080/"
        }
      },
      "execution_count": 30,
      "outputs": [
        {
          "output_type": "stream",
          "name": "stdout",
          "text": [
            "input_6 True float32 <Policy \"float32\">\n",
            "efficientnetb0 False float32 <Policy \"mixed_float16\">\n",
            "global_average_pooling2d True float32 <Policy \"mixed_float16\">\n",
            "dense True float32 <Policy \"mixed_float16\">\n",
            "softmax_float32 True float32 <Policy \"float32\">\n"
          ]
        }
      ]
    },
    {
      "cell_type": "markdown",
      "source": [
        " ## Fit the feature extraction model"
      ],
      "metadata": {
        "id": "oo5g1DpA1YqL"
      }
    },
    {
      "cell_type": "code",
      "source": [
        "history = model.fit(train_data,\n",
        "                    epochs = 3,\n",
        "                    steps_per_epoch=len(train_data),\n",
        "                    validation_data=test_data,\n",
        "                    validation_steps=int(0.15*len(test_data)),\n",
        "                    callbacks=[create_tensorboard_callback(\"training_logs\", \"EfficientNetB0_food101_full_dataset\"),\n",
        "                               model_checkpoint])"
      ],
      "metadata": {
        "id": "J5QNfZmu26Hq",
        "outputId": "52221853-b9cd-4433-dcd8-cad8d491cbfe",
        "colab": {
          "base_uri": "https://localhost:8080/"
        }
      },
      "execution_count": 34,
      "outputs": [
        {
          "output_type": "stream",
          "name": "stdout",
          "text": [
            "Saving TensorBoard log files to: training_logs/EfficientNetB0_food101_full_dataset/20220130-120924\n",
            "Epoch 1/3\n",
            "2368/2368 [==============================] - 380s 147ms/step - loss: 2.3257 - accuracy: 0.4674 - val_loss: 1.2408 - val_accuracy: 0.6751\n",
            "WARNING:tensorflow:Can save best model only with val_acc available, skipping.\n"
          ]
        },
        {
          "output_type": "stream",
          "name": "stderr",
          "text": [
            "WARNING:tensorflow:Can save best model only with val_acc available, skipping.\n"
          ]
        },
        {
          "output_type": "stream",
          "name": "stdout",
          "text": [
            "Epoch 2/3\n",
            "2368/2368 [==============================] - 329s 139ms/step - loss: 1.3124 - accuracy: 0.6618 - val_loss: 1.1171 - val_accuracy: 0.7010\n",
            "WARNING:tensorflow:Can save best model only with val_acc available, skipping.\n"
          ]
        },
        {
          "output_type": "stream",
          "name": "stderr",
          "text": [
            "WARNING:tensorflow:Can save best model only with val_acc available, skipping.\n"
          ]
        },
        {
          "output_type": "stream",
          "name": "stdout",
          "text": [
            "Epoch 3/3\n",
            "2368/2368 [==============================] - 332s 140ms/step - loss: 1.1420 - accuracy: 0.7039 - val_loss: 1.0819 - val_accuracy: 0.7071\n",
            "WARNING:tensorflow:Can save best model only with val_acc available, skipping.\n"
          ]
        },
        {
          "output_type": "stream",
          "name": "stderr",
          "text": [
            "WARNING:tensorflow:Can save best model only with val_acc available, skipping.\n"
          ]
        }
      ]
    },
    {
      "cell_type": "code",
      "source": [
        "model.evaluate(test_data)"
      ],
      "metadata": {
        "id": "nrSKjRPw4tij",
        "outputId": "751f674e-f631-44bb-9eea-c2fff2225da2",
        "colab": {
          "base_uri": "https://localhost:8080/"
        }
      },
      "execution_count": 36,
      "outputs": [
        {
          "output_type": "stream",
          "name": "stdout",
          "text": [
            "790/790 [==============================] - 110s 139ms/step - loss: 1.0921 - accuracy: 0.7050\n"
          ]
        },
        {
          "output_type": "execute_result",
          "data": {
            "text/plain": [
              "[1.0920754671096802, 0.7049900889396667]"
            ]
          },
          "metadata": {},
          "execution_count": 36
        }
      ]
    },
    {
      "cell_type": "code",
      "source": [
        ""
      ],
      "metadata": {
        "id": "iLxrHvE19QdJ"
      },
      "execution_count": null,
      "outputs": []
    }
  ],
  "metadata": {
    "accelerator": "GPU",
    "colab": {
      "collapsed_sections": [],
      "name": "07_food_vision_milestone_project_1.ipynb",
      "provenance": [],
      "include_colab_link": true
    },
    "kernelspec": {
      "display_name": "Python 3 (ipykernel)",
      "language": "python",
      "name": "python3"
    },
    "language_info": {
      "codemirror_mode": {
        "name": "ipython",
        "version": 3
      },
      "file_extension": ".py",
      "mimetype": "text/x-python",
      "name": "python",
      "nbconvert_exporter": "python",
      "pygments_lexer": "ipython3",
      "version": "3.9.7"
    }
  },
  "nbformat": 4,
  "nbformat_minor": 0
}