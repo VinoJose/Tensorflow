{
  "nbformat": 4,
  "nbformat_minor": 0,
  "metadata": {
    "colab": {
      "name": "00_tensorflow_fundamentals.ipynb",
      "provenance": [],
      "collapsed_sections": [
        "fzjcZ4FHCOb5"
      ],
      "include_colab_link": true
    },
    "kernelspec": {
      "name": "python3",
      "display_name": "Python 3"
    },
    "accelerator": "GPU"
  },
  "cells": [
    {
      "cell_type": "markdown",
      "metadata": {
        "id": "view-in-github",
        "colab_type": "text"
      },
      "source": [
        "<a href=\"https://colab.research.google.com/github/VinoJose/Tensorflow/blob/main/00_tensorflow_fundamentals.ipynb\" target=\"_parent\"><img src=\"https://colab.research.google.com/assets/colab-badge.svg\" alt=\"Open In Colab\"/></a>"
      ]
    },
    {
      "cell_type": "code",
      "metadata": {
        "colab": {
          "base_uri": "https://localhost:8080/"
        },
        "id": "MXj2G-pDhrCK",
        "outputId": "acd23278-2e63-4c62-becb-acddae10638e"
      },
      "source": [
        "#Import tensorflow\n",
        "import tensorflow as tf\n",
        "print(tf.__version__)"
      ],
      "execution_count": 2,
      "outputs": [
        {
          "output_type": "stream",
          "name": "stdout",
          "text": [
            "2.6.0\n"
          ]
        }
      ]
    },
    {
      "cell_type": "markdown",
      "metadata": {
        "id": "U4e6BfLACl6E"
      },
      "source": [
        "###Creating tensors"
      ]
    },
    {
      "cell_type": "code",
      "metadata": {
        "colab": {
          "base_uri": "https://localhost:8080/"
        },
        "id": "qdLKfoT_h2q-",
        "outputId": "a49225c1-90cb-442b-95ca-38cd58fa1fd0"
      },
      "source": [
        "#create scalar with tf.constant()\n",
        "scalar = tf.constant(7)\n",
        "scalar"
      ],
      "execution_count": 3,
      "outputs": [
        {
          "output_type": "execute_result",
          "data": {
            "text/plain": [
              "<tf.Tensor: shape=(), dtype=int32, numpy=7>"
            ]
          },
          "metadata": {},
          "execution_count": 3
        }
      ]
    },
    {
      "cell_type": "code",
      "metadata": {
        "colab": {
          "base_uri": "https://localhost:8080/"
        },
        "id": "seKnbYu1iO9o",
        "outputId": "d1c59546-4cda-4fae-93ea-466ead098921"
      },
      "source": [
        "#check the number of dimensions of a tensor (ndim)\n",
        "scalar.ndim"
      ],
      "execution_count": 4,
      "outputs": [
        {
          "output_type": "execute_result",
          "data": {
            "text/plain": [
              "0"
            ]
          },
          "metadata": {},
          "execution_count": 4
        }
      ]
    },
    {
      "cell_type": "code",
      "metadata": {
        "colab": {
          "base_uri": "https://localhost:8080/"
        },
        "id": "hZ2p1gS7jD4H",
        "outputId": "df718046-83c5-4416-b707-3c4cd4dd0c30"
      },
      "source": [
        "#Create a vector\n",
        "vector = tf.constant([10,10])\n",
        "vector"
      ],
      "execution_count": 5,
      "outputs": [
        {
          "output_type": "execute_result",
          "data": {
            "text/plain": [
              "<tf.Tensor: shape=(2,), dtype=int32, numpy=array([10, 10], dtype=int32)>"
            ]
          },
          "metadata": {},
          "execution_count": 5
        }
      ]
    },
    {
      "cell_type": "code",
      "metadata": {
        "colab": {
          "base_uri": "https://localhost:8080/"
        },
        "id": "SOFj4gtFjeRo",
        "outputId": "929f561b-90ea-41a9-91c9-e29f804bbecb"
      },
      "source": [
        "#check the dimentions of out vector\n",
        "vector.ndim"
      ],
      "execution_count": 6,
      "outputs": [
        {
          "output_type": "execute_result",
          "data": {
            "text/plain": [
              "1"
            ]
          },
          "metadata": {},
          "execution_count": 6
        }
      ]
    },
    {
      "cell_type": "code",
      "metadata": {
        "colab": {
          "base_uri": "https://localhost:8080/"
        },
        "id": "ZRrbSimrjmQX",
        "outputId": "e039729e-4a2a-42be-e7f0-97efef455fad"
      },
      "source": [
        "#create a matrix (has more than 1 dimensions)\n",
        "matrix = tf.constant([[10,7],\n",
        "                     [7,10]])\n",
        "matrix"
      ],
      "execution_count": 7,
      "outputs": [
        {
          "output_type": "execute_result",
          "data": {
            "text/plain": [
              "<tf.Tensor: shape=(2, 2), dtype=int32, numpy=\n",
              "array([[10,  7],\n",
              "       [ 7, 10]], dtype=int32)>"
            ]
          },
          "metadata": {},
          "execution_count": 7
        }
      ]
    },
    {
      "cell_type": "code",
      "metadata": {
        "id": "QC5-DsLJklle",
        "outputId": "e0b29dc1-e199-42bd-875a-1f8c332730e1",
        "colab": {
          "base_uri": "https://localhost:8080/"
        }
      },
      "source": [
        "matrix.ndim"
      ],
      "execution_count": 8,
      "outputs": [
        {
          "output_type": "execute_result",
          "data": {
            "text/plain": [
              "2"
            ]
          },
          "metadata": {},
          "execution_count": 8
        }
      ]
    },
    {
      "cell_type": "code",
      "metadata": {
        "id": "j8xu07R4677M",
        "outputId": "a3ac6f8c-85e5-4a86-ef2e-6efe247dc693",
        "colab": {
          "base_uri": "https://localhost:8080/"
        }
      },
      "source": [
        "#create another matrix\n",
        "another_matrix = tf.constant([[10.,9.],\n",
        "                              [9.,10.],\n",
        "                              [3.,2.]],dtype=tf.float16\n",
        ")\n",
        "another_matrix"
      ],
      "execution_count": 11,
      "outputs": [
        {
          "output_type": "execute_result",
          "data": {
            "text/plain": [
              "<tf.Tensor: shape=(3, 2), dtype=float16, numpy=\n",
              "array([[10.,  9.],\n",
              "       [ 9., 10.],\n",
              "       [ 3.,  2.]], dtype=float16)>"
            ]
          },
          "metadata": {},
          "execution_count": 11
        }
      ]
    },
    {
      "cell_type": "code",
      "metadata": {
        "id": "T0itrON87tuc",
        "outputId": "a2f91fa0-ac01-41ce-e7e2-9a6576d2692e",
        "colab": {
          "base_uri": "https://localhost:8080/"
        }
      },
      "source": [
        "another_matrix.ndim"
      ],
      "execution_count": 12,
      "outputs": [
        {
          "output_type": "execute_result",
          "data": {
            "text/plain": [
              "2"
            ]
          },
          "metadata": {},
          "execution_count": 12
        }
      ]
    },
    {
      "cell_type": "code",
      "metadata": {
        "id": "ElrdkVDN8fx8",
        "outputId": "a19f1ce8-b3ca-4234-a92e-cb716f021796",
        "colab": {
          "base_uri": "https://localhost:8080/"
        }
      },
      "source": [
        "#create a tensor\n",
        "tensor = tf.constant([[[1,2,4],\n",
        "                       [2,3,4]],\n",
        "                      [[3,4,5],\n",
        "                       [4,5,6]],\n",
        "                      [[5,6,7],\n",
        "                       [6,7,8]]])\n",
        "tensor"
      ],
      "execution_count": 14,
      "outputs": [
        {
          "output_type": "execute_result",
          "data": {
            "text/plain": [
              "<tf.Tensor: shape=(3, 2, 3), dtype=int32, numpy=\n",
              "array([[[1, 2, 4],\n",
              "        [2, 3, 4]],\n",
              "\n",
              "       [[3, 4, 5],\n",
              "        [4, 5, 6]],\n",
              "\n",
              "       [[5, 6, 7],\n",
              "        [6, 7, 8]]], dtype=int32)>"
            ]
          },
          "metadata": {},
          "execution_count": 14
        }
      ]
    },
    {
      "cell_type": "code",
      "metadata": {
        "id": "bOwz5N3W8jP8",
        "outputId": "18f92721-19b2-4f41-a7f7-fbcb03f5057a",
        "colab": {
          "base_uri": "https://localhost:8080/"
        }
      },
      "source": [
        "tensor.ndim"
      ],
      "execution_count": 15,
      "outputs": [
        {
          "output_type": "execute_result",
          "data": {
            "text/plain": [
              "3"
            ]
          },
          "metadata": {},
          "execution_count": 15
        }
      ]
    },
    {
      "cell_type": "markdown",
      "metadata": {
        "id": "vJFqlJcY-1xX"
      },
      "source": [
        "###Create tensor using `tf.Variable`"
      ]
    },
    {
      "cell_type": "code",
      "metadata": {
        "id": "ghfvyUUb9i7-",
        "outputId": "e0f47116-a9ac-491b-e969-812a1953dc49",
        "colab": {
          "base_uri": "https://localhost:8080/"
        }
      },
      "source": [
        "#create same tensor with tf.Variable() as above\n",
        "changeable_tensor = tf.Variable([10,7])\n",
        "unchangeable_tensor = tf.constant([10,7])\n",
        "changeable_tensor, unchangeable_tensor"
      ],
      "execution_count": 17,
      "outputs": [
        {
          "output_type": "execute_result",
          "data": {
            "text/plain": [
              "(<tf.Variable 'Variable:0' shape=(2,) dtype=int32, numpy=array([10,  7], dtype=int32)>,\n",
              " <tf.Tensor: shape=(2,), dtype=int32, numpy=array([10,  7], dtype=int32)>)"
            ]
          },
          "metadata": {},
          "execution_count": 17
        }
      ]
    },
    {
      "cell_type": "code",
      "metadata": {
        "id": "eWLW34fuAP-n"
      },
      "source": [
        "# try changing values in these tensors\n",
        "changeable_tensor[0] =7"
      ],
      "execution_count": null,
      "outputs": []
    },
    {
      "cell_type": "code",
      "metadata": {
        "id": "kGR0nTC6BXXr",
        "outputId": "2774fb6a-78b8-47c7-81f7-3b27586a833f",
        "colab": {
          "base_uri": "https://localhost:8080/"
        }
      },
      "source": [
        "changeable_tensor[0].assign(7)"
      ],
      "execution_count": 19,
      "outputs": [
        {
          "output_type": "execute_result",
          "data": {
            "text/plain": [
              "<tf.Variable 'UnreadVariable' shape=(2,) dtype=int32, numpy=array([7, 7], dtype=int32)>"
            ]
          },
          "metadata": {},
          "execution_count": 19
        }
      ]
    },
    {
      "cell_type": "code",
      "metadata": {
        "id": "l29z03_pBcNp"
      },
      "source": [
        "unchangeable_tensor[0] = 7"
      ],
      "execution_count": null,
      "outputs": []
    },
    {
      "cell_type": "markdown",
      "metadata": {
        "id": "oIqo5HS9B6nP"
      },
      "source": [
        "We can only change the values of tensors which are created using `tf.Variable()`. "
      ]
    },
    {
      "cell_type": "markdown",
      "metadata": {
        "id": "DxFB25LDCV9i"
      },
      "source": [
        "###Creating random tensors"
      ]
    },
    {
      "cell_type": "code",
      "metadata": {
        "id": "Ez85Qc34B3oV"
      },
      "source": [
        ""
      ],
      "execution_count": null,
      "outputs": []
    }
  ]
}