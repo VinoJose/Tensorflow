{
  "nbformat": 4,
  "nbformat_minor": 0,
  "metadata": {
    "colab": {
      "name": "00_tensorflow_fundamentals.ipynb",
      "provenance": [],
      "collapsed_sections": [
        "fzjcZ4FHCOb5"
      ],
      "include_colab_link": true
    },
    "kernelspec": {
      "name": "python3",
      "display_name": "Python 3"
    },
    "accelerator": "GPU"
  },
  "cells": [
    {
      "cell_type": "markdown",
      "metadata": {
        "id": "view-in-github",
        "colab_type": "text"
      },
      "source": [
        "<a href=\"https://colab.research.google.com/github/VinoJose/Tensorflow/blob/main/00_tensorflow_fundamentals.ipynb\" target=\"_parent\"><img src=\"https://colab.research.google.com/assets/colab-badge.svg\" alt=\"Open In Colab\"/></a>"
      ]
    },
    {
      "cell_type": "markdown",
      "metadata": {
        "id": "BiwWan7mLcq6"
      },
      "source": [
        "### Importing Library"
      ]
    },
    {
      "cell_type": "code",
      "metadata": {
        "colab": {
          "base_uri": "https://localhost:8080/"
        },
        "id": "MXj2G-pDhrCK",
        "outputId": "c6ea1c07-352f-4ec9-9b5c-b201975b603b"
      },
      "source": [
        "#Import tensorflow\n",
        "import tensorflow as tf\n",
        "print(tf.__version__)"
      ],
      "execution_count": 24,
      "outputs": [
        {
          "output_type": "stream",
          "name": "stdout",
          "text": [
            "2.6.0\n"
          ]
        }
      ]
    },
    {
      "cell_type": "markdown",
      "metadata": {
        "id": "U4e6BfLACl6E"
      },
      "source": [
        "###Creating tensors"
      ]
    },
    {
      "cell_type": "code",
      "metadata": {
        "colab": {
          "base_uri": "https://localhost:8080/"
        },
        "id": "qdLKfoT_h2q-",
        "outputId": "fe34d7a4-6930-404d-9c3c-e3e43ed9ed95"
      },
      "source": [
        "#create scalar with tf.constant()\n",
        "scalar = tf.constant(7)\n",
        "scalar"
      ],
      "execution_count": 25,
      "outputs": [
        {
          "output_type": "execute_result",
          "data": {
            "text/plain": [
              "<tf.Tensor: shape=(), dtype=int32, numpy=7>"
            ]
          },
          "metadata": {},
          "execution_count": 25
        }
      ]
    },
    {
      "cell_type": "code",
      "metadata": {
        "colab": {
          "base_uri": "https://localhost:8080/"
        },
        "id": "seKnbYu1iO9o",
        "outputId": "6000188a-90e1-4fbc-97f1-bdb1cdab04a5"
      },
      "source": [
        "#check the number of dimensions of a tensor (ndim)\n",
        "scalar.ndim"
      ],
      "execution_count": 26,
      "outputs": [
        {
          "output_type": "execute_result",
          "data": {
            "text/plain": [
              "0"
            ]
          },
          "metadata": {},
          "execution_count": 26
        }
      ]
    },
    {
      "cell_type": "code",
      "metadata": {
        "colab": {
          "base_uri": "https://localhost:8080/"
        },
        "id": "hZ2p1gS7jD4H",
        "outputId": "16524230-40dc-4871-bc0a-319f243c1f4e"
      },
      "source": [
        "#Create a vector\n",
        "vector = tf.constant([10,10])\n",
        "vector"
      ],
      "execution_count": 27,
      "outputs": [
        {
          "output_type": "execute_result",
          "data": {
            "text/plain": [
              "<tf.Tensor: shape=(2,), dtype=int32, numpy=array([10, 10], dtype=int32)>"
            ]
          },
          "metadata": {},
          "execution_count": 27
        }
      ]
    },
    {
      "cell_type": "code",
      "metadata": {
        "colab": {
          "base_uri": "https://localhost:8080/"
        },
        "id": "SOFj4gtFjeRo",
        "outputId": "0e801dae-26b3-4a3a-8f5e-eb9794ea930e"
      },
      "source": [
        "#check the dimentions of out vector\n",
        "vector.ndim"
      ],
      "execution_count": 28,
      "outputs": [
        {
          "output_type": "execute_result",
          "data": {
            "text/plain": [
              "1"
            ]
          },
          "metadata": {},
          "execution_count": 28
        }
      ]
    },
    {
      "cell_type": "code",
      "metadata": {
        "colab": {
          "base_uri": "https://localhost:8080/"
        },
        "id": "ZRrbSimrjmQX",
        "outputId": "617fc612-932f-4299-b92c-22ded01f5fe4"
      },
      "source": [
        "#create a matrix (has more than 1 dimensions)\n",
        "matrix = tf.constant([[10,7],\n",
        "                     [7,10]])\n",
        "matrix"
      ],
      "execution_count": 29,
      "outputs": [
        {
          "output_type": "execute_result",
          "data": {
            "text/plain": [
              "<tf.Tensor: shape=(2, 2), dtype=int32, numpy=\n",
              "array([[10,  7],\n",
              "       [ 7, 10]], dtype=int32)>"
            ]
          },
          "metadata": {},
          "execution_count": 29
        }
      ]
    },
    {
      "cell_type": "code",
      "metadata": {
        "colab": {
          "base_uri": "https://localhost:8080/"
        },
        "id": "QC5-DsLJklle",
        "outputId": "d9a4f6d8-70dd-426b-d70c-b9e284397da0"
      },
      "source": [
        "matrix.ndim"
      ],
      "execution_count": 30,
      "outputs": [
        {
          "output_type": "execute_result",
          "data": {
            "text/plain": [
              "2"
            ]
          },
          "metadata": {},
          "execution_count": 30
        }
      ]
    },
    {
      "cell_type": "code",
      "metadata": {
        "colab": {
          "base_uri": "https://localhost:8080/"
        },
        "id": "j8xu07R4677M",
        "outputId": "c441c411-1587-47b2-c109-414e9b3f2154"
      },
      "source": [
        "#create another matrix\n",
        "another_matrix = tf.constant([[10.,9.],\n",
        "                              [9.,10.],\n",
        "                              [3.,2.]],dtype=tf.float16\n",
        ")\n",
        "another_matrix"
      ],
      "execution_count": 31,
      "outputs": [
        {
          "output_type": "execute_result",
          "data": {
            "text/plain": [
              "<tf.Tensor: shape=(3, 2), dtype=float16, numpy=\n",
              "array([[10.,  9.],\n",
              "       [ 9., 10.],\n",
              "       [ 3.,  2.]], dtype=float16)>"
            ]
          },
          "metadata": {},
          "execution_count": 31
        }
      ]
    },
    {
      "cell_type": "code",
      "metadata": {
        "colab": {
          "base_uri": "https://localhost:8080/"
        },
        "id": "T0itrON87tuc",
        "outputId": "18a829c1-3db1-4289-dbce-45bbf7b3b06d"
      },
      "source": [
        "another_matrix.ndim"
      ],
      "execution_count": 32,
      "outputs": [
        {
          "output_type": "execute_result",
          "data": {
            "text/plain": [
              "2"
            ]
          },
          "metadata": {},
          "execution_count": 32
        }
      ]
    },
    {
      "cell_type": "code",
      "metadata": {
        "colab": {
          "base_uri": "https://localhost:8080/"
        },
        "id": "ElrdkVDN8fx8",
        "outputId": "daf59c70-422a-4c6d-882c-dc0c425fbc2b"
      },
      "source": [
        "#create a tensor\n",
        "tensor = tf.constant([[[1,2,4],\n",
        "                       [2,3,4]],\n",
        "                      [[3,4,5],\n",
        "                       [4,5,6]],\n",
        "                      [[5,6,7],\n",
        "                       [6,7,8]]])\n",
        "tensor"
      ],
      "execution_count": 33,
      "outputs": [
        {
          "output_type": "execute_result",
          "data": {
            "text/plain": [
              "<tf.Tensor: shape=(3, 2, 3), dtype=int32, numpy=\n",
              "array([[[1, 2, 4],\n",
              "        [2, 3, 4]],\n",
              "\n",
              "       [[3, 4, 5],\n",
              "        [4, 5, 6]],\n",
              "\n",
              "       [[5, 6, 7],\n",
              "        [6, 7, 8]]], dtype=int32)>"
            ]
          },
          "metadata": {},
          "execution_count": 33
        }
      ]
    },
    {
      "cell_type": "code",
      "metadata": {
        "colab": {
          "base_uri": "https://localhost:8080/"
        },
        "id": "bOwz5N3W8jP8",
        "outputId": "b1bcdbd5-8dde-4540-81f9-2cee159b2650"
      },
      "source": [
        "tensor.ndim"
      ],
      "execution_count": 34,
      "outputs": [
        {
          "output_type": "execute_result",
          "data": {
            "text/plain": [
              "3"
            ]
          },
          "metadata": {},
          "execution_count": 34
        }
      ]
    },
    {
      "cell_type": "markdown",
      "metadata": {
        "id": "vJFqlJcY-1xX"
      },
      "source": [
        "###Create tensor using `tf.Variable`"
      ]
    },
    {
      "cell_type": "code",
      "metadata": {
        "colab": {
          "base_uri": "https://localhost:8080/"
        },
        "id": "ghfvyUUb9i7-",
        "outputId": "12f354d9-59d4-4f35-8b99-defd482b1a5b"
      },
      "source": [
        "#create same tensor with tf.Variable() as above\n",
        "changeable_tensor = tf.Variable([10,7])\n",
        "unchangeable_tensor = tf.constant([10,7])\n",
        "changeable_tensor, unchangeable_tensor"
      ],
      "execution_count": 35,
      "outputs": [
        {
          "output_type": "execute_result",
          "data": {
            "text/plain": [
              "(<tf.Variable 'Variable:0' shape=(2,) dtype=int32, numpy=array([10,  7], dtype=int32)>,\n",
              " <tf.Tensor: shape=(2,), dtype=int32, numpy=array([10,  7], dtype=int32)>)"
            ]
          },
          "metadata": {},
          "execution_count": 35
        }
      ]
    },
    {
      "cell_type": "code",
      "metadata": {
        "colab": {
          "base_uri": "https://localhost:8080/",
          "height": 180
        },
        "id": "eWLW34fuAP-n",
        "outputId": "35883227-e957-4ac8-e8ce-f79c9c919d64"
      },
      "source": [
        "# try changing elements in these tensors\n",
        "changeable_tensor[0] =7"
      ],
      "execution_count": 37,
      "outputs": [
        {
          "output_type": "error",
          "ename": "TypeError",
          "evalue": "ignored",
          "traceback": [
            "\u001b[0;31m---------------------------------------------------------------------------\u001b[0m",
            "\u001b[0;31mTypeError\u001b[0m                                 Traceback (most recent call last)",
            "\u001b[0;32m<ipython-input-37-441cb0ab3436>\u001b[0m in \u001b[0;36m<module>\u001b[0;34m()\u001b[0m\n\u001b[1;32m      1\u001b[0m \u001b[0;31m# try changing elements in these tensors\u001b[0m\u001b[0;34m\u001b[0m\u001b[0;34m\u001b[0m\u001b[0;34m\u001b[0m\u001b[0m\n\u001b[0;32m----> 2\u001b[0;31m \u001b[0mchangeable_tensor\u001b[0m\u001b[0;34m[\u001b[0m\u001b[0;36m0\u001b[0m\u001b[0;34m]\u001b[0m \u001b[0;34m=\u001b[0m\u001b[0;36m7\u001b[0m\u001b[0;34m\u001b[0m\u001b[0;34m\u001b[0m\u001b[0m\n\u001b[0m",
            "\u001b[0;31mTypeError\u001b[0m: 'ResourceVariable' object does not support item assignment"
          ]
        }
      ]
    },
    {
      "cell_type": "code",
      "metadata": {
        "colab": {
          "base_uri": "https://localhost:8080/"
        },
        "id": "kGR0nTC6BXXr",
        "outputId": "fa43568d-ceda-414e-bff4-792d013d01a3"
      },
      "source": [
        "changeable_tensor[0].assign(7)"
      ],
      "execution_count": 38,
      "outputs": [
        {
          "output_type": "execute_result",
          "data": {
            "text/plain": [
              "<tf.Variable 'UnreadVariable' shape=(2,) dtype=int32, numpy=array([7, 7], dtype=int32)>"
            ]
          },
          "metadata": {},
          "execution_count": 38
        }
      ]
    },
    {
      "cell_type": "code",
      "metadata": {
        "colab": {
          "base_uri": "https://localhost:8080/",
          "height": 163
        },
        "id": "l29z03_pBcNp",
        "outputId": "532fa059-05de-4a36-c302-b51890ce5621"
      },
      "source": [
        "unchangeable_tensor[0] = 7"
      ],
      "execution_count": 39,
      "outputs": [
        {
          "output_type": "error",
          "ename": "TypeError",
          "evalue": "ignored",
          "traceback": [
            "\u001b[0;31m---------------------------------------------------------------------------\u001b[0m",
            "\u001b[0;31mTypeError\u001b[0m                                 Traceback (most recent call last)",
            "\u001b[0;32m<ipython-input-39-f1d02a9f54e1>\u001b[0m in \u001b[0;36m<module>\u001b[0;34m()\u001b[0m\n\u001b[0;32m----> 1\u001b[0;31m \u001b[0munchangeable_tensor\u001b[0m\u001b[0;34m[\u001b[0m\u001b[0;36m0\u001b[0m\u001b[0;34m]\u001b[0m \u001b[0;34m=\u001b[0m \u001b[0;36m7\u001b[0m\u001b[0;34m\u001b[0m\u001b[0;34m\u001b[0m\u001b[0m\n\u001b[0m",
            "\u001b[0;31mTypeError\u001b[0m: 'tensorflow.python.framework.ops.EagerTensor' object does not support item assignment"
          ]
        }
      ]
    },
    {
      "cell_type": "markdown",
      "metadata": {
        "id": "oIqo5HS9B6nP"
      },
      "source": [
        "We can only change the values of tensors which are created using `tf.Variable()`. "
      ]
    },
    {
      "cell_type": "markdown",
      "metadata": {
        "id": "DxFB25LDCV9i"
      },
      "source": [
        "###Creating random tensors"
      ]
    },
    {
      "cell_type": "code",
      "metadata": {
        "colab": {
          "base_uri": "https://localhost:8080/"
        },
        "id": "Ez85Qc34B3oV",
        "outputId": "b40f632b-b88b-4fb3-bd5f-5be9ee92f275"
      },
      "source": [
        "#create 2 random (but same) tensors\n",
        "random1 = tf.random.Generator.from_seed(7)\n",
        "random1 = random1.normal(shape=(3,2))\n",
        "random2 = tf.random.Generator.from_seed(7)\n",
        "random2 = random2.normal(shape=(3,2))\n",
        "\n",
        "#Are they equal?\n",
        "random1, random2, random1 == random2"
      ],
      "execution_count": 40,
      "outputs": [
        {
          "output_type": "execute_result",
          "data": {
            "text/plain": [
              "(<tf.Tensor: shape=(3, 2), dtype=float32, numpy=\n",
              " array([[-1.3240396 ,  0.2878567 ],\n",
              "        [-0.8757901 , -0.08857017],\n",
              "        [ 0.69211644,  0.84215707]], dtype=float32)>,\n",
              " <tf.Tensor: shape=(3, 2), dtype=float32, numpy=\n",
              " array([[-1.3240396 ,  0.2878567 ],\n",
              "        [-0.8757901 , -0.08857017],\n",
              "        [ 0.69211644,  0.84215707]], dtype=float32)>,\n",
              " <tf.Tensor: shape=(3, 2), dtype=bool, numpy=\n",
              " array([[ True,  True],\n",
              "        [ True,  True],\n",
              "        [ True,  True]])>)"
            ]
          },
          "metadata": {},
          "execution_count": 40
        }
      ]
    },
    {
      "cell_type": "markdown",
      "metadata": {
        "id": "1pwagqCMI2R0"
      },
      "source": [
        "###Shuffle the order of elements in a tensor"
      ]
    },
    {
      "cell_type": "code",
      "metadata": {
        "colab": {
          "base_uri": "https://localhost:8080/"
        },
        "id": "eQFWMB4AGEms",
        "outputId": "22abe8bf-16db-4bd0-ebaa-65d65e39d481"
      },
      "source": [
        "#Shuffle a tensor\n",
        "not_shuffled = tf.constant([[10,7],\n",
        "                            [2,4],\n",
        "                            [5,7]])\n",
        "tf.random.shuffle(not_shuffled)"
      ],
      "execution_count": 41,
      "outputs": [
        {
          "output_type": "execute_result",
          "data": {
            "text/plain": [
              "<tf.Tensor: shape=(3, 2), dtype=int32, numpy=\n",
              "array([[ 5,  7],\n",
              "       [ 2,  4],\n",
              "       [10,  7]], dtype=int32)>"
            ]
          },
          "metadata": {},
          "execution_count": 41
        }
      ]
    },
    {
      "cell_type": "code",
      "metadata": {
        "colab": {
          "base_uri": "https://localhost:8080/"
        },
        "id": "C4hSnpEmJnOh",
        "outputId": "5b005593-0114-4dcd-c0ba-d94fbcc5567f"
      },
      "source": [
        "#Shuffle with a seed\n",
        "\n",
        "tf.random.set_seed(53) # global level random seed\n",
        "tf.random.shuffle(not_shuffled)"
      ],
      "execution_count": 42,
      "outputs": [
        {
          "output_type": "execute_result",
          "data": {
            "text/plain": [
              "<tf.Tensor: shape=(3, 2), dtype=int32, numpy=\n",
              "array([[10,  7],\n",
              "       [ 5,  7],\n",
              "       [ 2,  4]], dtype=int32)>"
            ]
          },
          "metadata": {},
          "execution_count": 42
        }
      ]
    },
    {
      "cell_type": "markdown",
      "metadata": {
        "id": "1WsjBZn5KImI"
      },
      "source": [
        "While using a set_seed, shuffled order is reproducable.\n",
        "\n"
      ]
    },
    {
      "cell_type": "code",
      "metadata": {
        "colab": {
          "base_uri": "https://localhost:8080/"
        },
        "id": "Z-1xbP8gJ_7b",
        "outputId": "9c59e014-586a-4e85-c7ca-21761afa9894"
      },
      "source": [
        "tf.random.shuffle(not_shuffled, seed = 53) # operation level random seed"
      ],
      "execution_count": 43,
      "outputs": [
        {
          "output_type": "execute_result",
          "data": {
            "text/plain": [
              "<tf.Tensor: shape=(3, 2), dtype=int32, numpy=\n",
              "array([[ 5,  7],\n",
              "       [10,  7],\n",
              "       [ 2,  4]], dtype=int32)>"
            ]
          },
          "metadata": {},
          "execution_count": 43
        }
      ]
    },
    {
      "cell_type": "markdown",
      "metadata": {
        "id": "mBIZS54xLwBD"
      },
      "source": [
        "### Other ways of making tensors"
      ]
    },
    {
      "cell_type": "code",
      "metadata": {
        "colab": {
          "base_uri": "https://localhost:8080/"
        },
        "id": "smkEBiTvMfcK",
        "outputId": "a0295916-8335-49a9-8678-2deb59fc53b3"
      },
      "source": [
        "#Create a tensor for all ones\n",
        "tf.ones([10,7])"
      ],
      "execution_count": 44,
      "outputs": [
        {
          "output_type": "execute_result",
          "data": {
            "text/plain": [
              "<tf.Tensor: shape=(10, 7), dtype=float32, numpy=\n",
              "array([[1., 1., 1., 1., 1., 1., 1.],\n",
              "       [1., 1., 1., 1., 1., 1., 1.],\n",
              "       [1., 1., 1., 1., 1., 1., 1.],\n",
              "       [1., 1., 1., 1., 1., 1., 1.],\n",
              "       [1., 1., 1., 1., 1., 1., 1.],\n",
              "       [1., 1., 1., 1., 1., 1., 1.],\n",
              "       [1., 1., 1., 1., 1., 1., 1.],\n",
              "       [1., 1., 1., 1., 1., 1., 1.],\n",
              "       [1., 1., 1., 1., 1., 1., 1.],\n",
              "       [1., 1., 1., 1., 1., 1., 1.]], dtype=float32)>"
            ]
          },
          "metadata": {},
          "execution_count": 44
        }
      ]
    },
    {
      "cell_type": "code",
      "metadata": {
        "id": "4EZyHYg_MVYA",
        "colab": {
          "base_uri": "https://localhost:8080/"
        },
        "outputId": "d1f2bfd2-3f67-46e2-abf7-a5be108ed93b"
      },
      "source": [
        "#Create a tensor of all zeros\n",
        "tf.zeros(shape=(10,7))"
      ],
      "execution_count": 45,
      "outputs": [
        {
          "output_type": "execute_result",
          "data": {
            "text/plain": [
              "<tf.Tensor: shape=(10, 7), dtype=float32, numpy=\n",
              "array([[0., 0., 0., 0., 0., 0., 0.],\n",
              "       [0., 0., 0., 0., 0., 0., 0.],\n",
              "       [0., 0., 0., 0., 0., 0., 0.],\n",
              "       [0., 0., 0., 0., 0., 0., 0.],\n",
              "       [0., 0., 0., 0., 0., 0., 0.],\n",
              "       [0., 0., 0., 0., 0., 0., 0.],\n",
              "       [0., 0., 0., 0., 0., 0., 0.],\n",
              "       [0., 0., 0., 0., 0., 0., 0.],\n",
              "       [0., 0., 0., 0., 0., 0., 0.],\n",
              "       [0., 0., 0., 0., 0., 0., 0.]], dtype=float32)>"
            ]
          },
          "metadata": {},
          "execution_count": 45
        }
      ]
    },
    {
      "cell_type": "markdown",
      "metadata": {
        "id": "5OC1BQagNfKn"
      },
      "source": [
        "### Turn numpy arrays into tensors"
      ]
    },
    {
      "cell_type": "markdown",
      "metadata": {
        "id": "oRKnGWiaNzCR"
      },
      "source": [
        "The main difference between numpy array and tensors is that tensors can be run on GPU"
      ]
    },
    {
      "cell_type": "code",
      "metadata": {
        "id": "fpWD-UNAN-VT",
        "colab": {
          "base_uri": "https://localhost:8080/"
        },
        "outputId": "8183c451-a762-4d93-8599-438f02eb3c6b"
      },
      "source": [
        "import numpy as np\n",
        "# X = tf.constant(some_matrix) # Capital letter variable name for Matrix or tensor\n",
        "# y = tf.constant(vector) # non-capital for vector\n",
        "\n",
        "numpy_A = np.arange(1,25, dtype= np.int32)\n",
        "numpy_A"
      ],
      "execution_count": 46,
      "outputs": [
        {
          "output_type": "execute_result",
          "data": {
            "text/plain": [
              "array([ 1,  2,  3,  4,  5,  6,  7,  8,  9, 10, 11, 12, 13, 14, 15, 16, 17,\n",
              "       18, 19, 20, 21, 22, 23, 24], dtype=int32)"
            ]
          },
          "metadata": {},
          "execution_count": 46
        }
      ]
    },
    {
      "cell_type": "code",
      "metadata": {
        "id": "Zq3i65W1Qv_0",
        "colab": {
          "base_uri": "https://localhost:8080/"
        },
        "outputId": "ac4c65d0-9129-4815-b5b6-07a11c93b52e"
      },
      "source": [
        "A = tf.constant(numpy_A)\n",
        "A"
      ],
      "execution_count": 47,
      "outputs": [
        {
          "output_type": "execute_result",
          "data": {
            "text/plain": [
              "<tf.Tensor: shape=(24,), dtype=int32, numpy=\n",
              "array([ 1,  2,  3,  4,  5,  6,  7,  8,  9, 10, 11, 12, 13, 14, 15, 16, 17,\n",
              "       18, 19, 20, 21, 22, 23, 24], dtype=int32)>"
            ]
          },
          "metadata": {},
          "execution_count": 47
        }
      ]
    },
    {
      "cell_type": "code",
      "metadata": {
        "id": "lS8o_Lk2RSDk",
        "colab": {
          "base_uri": "https://localhost:8080/"
        },
        "outputId": "84834b48-3fbb-4275-fb0a-029bc108ff65"
      },
      "source": [
        "B = tf.constant(numpy_A, shape=(2,3,4)) # 2*3*4=24 which should be equal to the number of items(size of the np array) in the numpy array we are converting\n",
        "B"
      ],
      "execution_count": 48,
      "outputs": [
        {
          "output_type": "execute_result",
          "data": {
            "text/plain": [
              "<tf.Tensor: shape=(2, 3, 4), dtype=int32, numpy=\n",
              "array([[[ 1,  2,  3,  4],\n",
              "        [ 5,  6,  7,  8],\n",
              "        [ 9, 10, 11, 12]],\n",
              "\n",
              "       [[13, 14, 15, 16],\n",
              "        [17, 18, 19, 20],\n",
              "        [21, 22, 23, 24]]], dtype=int32)>"
            ]
          },
          "metadata": {},
          "execution_count": 48
        }
      ]
    },
    {
      "cell_type": "code",
      "metadata": {
        "id": "ncEBg-Q9RZoU",
        "colab": {
          "base_uri": "https://localhost:8080/"
        },
        "outputId": "01f05ab2-9e42-45c9-f70b-184490ea071f"
      },
      "source": [
        "A.ndim,  B.ndim"
      ],
      "execution_count": 49,
      "outputs": [
        {
          "output_type": "execute_result",
          "data": {
            "text/plain": [
              "(1, 3)"
            ]
          },
          "metadata": {},
          "execution_count": 49
        }
      ]
    },
    {
      "cell_type": "markdown",
      "metadata": {
        "id": "OSPvDj_KSAJY"
      },
      "source": [
        "### Getting information from tensors"
      ]
    },
    {
      "cell_type": "markdown",
      "metadata": {
        "id": "JUXWQZBTUMsY"
      },
      "source": [
        "When dealing with tensors you probabily want to be aware of following attributes\n",
        "\n",
        "* Shape\n",
        "* Rank\n",
        "* Axis or Dimension\n",
        "* Size\n"
      ]
    },
    {
      "cell_type": "markdown",
      "metadata": {
        "id": "Z8j_PF3_TuBM"
      },
      "source": [
        "![image.png](data:image/png;base64,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)"
      ]
    },
    {
      "cell_type": "code",
      "metadata": {
        "id": "3P5pl3_fVKys",
        "colab": {
          "base_uri": "https://localhost:8080/"
        },
        "outputId": "07e16eeb-1563-4674-ff8b-9e102620932b"
      },
      "source": [
        " #Create a rank 4 tensor (4 dimensions)\n",
        " rank_4_tensor = tf.zeros([2,3,4,5])\n",
        " rank_4_tensor"
      ],
      "execution_count": 50,
      "outputs": [
        {
          "output_type": "execute_result",
          "data": {
            "text/plain": [
              "<tf.Tensor: shape=(2, 3, 4, 5), dtype=float32, numpy=\n",
              "array([[[[0., 0., 0., 0., 0.],\n",
              "         [0., 0., 0., 0., 0.],\n",
              "         [0., 0., 0., 0., 0.],\n",
              "         [0., 0., 0., 0., 0.]],\n",
              "\n",
              "        [[0., 0., 0., 0., 0.],\n",
              "         [0., 0., 0., 0., 0.],\n",
              "         [0., 0., 0., 0., 0.],\n",
              "         [0., 0., 0., 0., 0.]],\n",
              "\n",
              "        [[0., 0., 0., 0., 0.],\n",
              "         [0., 0., 0., 0., 0.],\n",
              "         [0., 0., 0., 0., 0.],\n",
              "         [0., 0., 0., 0., 0.]]],\n",
              "\n",
              "\n",
              "       [[[0., 0., 0., 0., 0.],\n",
              "         [0., 0., 0., 0., 0.],\n",
              "         [0., 0., 0., 0., 0.],\n",
              "         [0., 0., 0., 0., 0.]],\n",
              "\n",
              "        [[0., 0., 0., 0., 0.],\n",
              "         [0., 0., 0., 0., 0.],\n",
              "         [0., 0., 0., 0., 0.],\n",
              "         [0., 0., 0., 0., 0.]],\n",
              "\n",
              "        [[0., 0., 0., 0., 0.],\n",
              "         [0., 0., 0., 0., 0.],\n",
              "         [0., 0., 0., 0., 0.],\n",
              "         [0., 0., 0., 0., 0.]]]], dtype=float32)>"
            ]
          },
          "metadata": {},
          "execution_count": 50
        }
      ]
    },
    {
      "cell_type": "code",
      "metadata": {
        "id": "N71KdQ-WWtCl",
        "colab": {
          "base_uri": "https://localhost:8080/"
        },
        "outputId": "a1df146d-1612-4344-ba3b-362bbfa18272"
      },
      "source": [
        "rank_4_tensor[0]"
      ],
      "execution_count": 51,
      "outputs": [
        {
          "output_type": "execute_result",
          "data": {
            "text/plain": [
              "<tf.Tensor: shape=(3, 4, 5), dtype=float32, numpy=\n",
              "array([[[0., 0., 0., 0., 0.],\n",
              "        [0., 0., 0., 0., 0.],\n",
              "        [0., 0., 0., 0., 0.],\n",
              "        [0., 0., 0., 0., 0.]],\n",
              "\n",
              "       [[0., 0., 0., 0., 0.],\n",
              "        [0., 0., 0., 0., 0.],\n",
              "        [0., 0., 0., 0., 0.],\n",
              "        [0., 0., 0., 0., 0.]],\n",
              "\n",
              "       [[0., 0., 0., 0., 0.],\n",
              "        [0., 0., 0., 0., 0.],\n",
              "        [0., 0., 0., 0., 0.],\n",
              "        [0., 0., 0., 0., 0.]]], dtype=float32)>"
            ]
          },
          "metadata": {},
          "execution_count": 51
        }
      ]
    },
    {
      "cell_type": "code",
      "metadata": {
        "id": "N8q4rKbpW_GR",
        "colab": {
          "base_uri": "https://localhost:8080/"
        },
        "outputId": "7610d877-012b-40dc-c559-031eac9ac2c3"
      },
      "source": [
        "rank_4_tensor.shape, rank_4_tensor.ndim, tf.size(rank_4_tensor)"
      ],
      "execution_count": 52,
      "outputs": [
        {
          "output_type": "execute_result",
          "data": {
            "text/plain": [
              "(TensorShape([2, 3, 4, 5]), 4, <tf.Tensor: shape=(), dtype=int32, numpy=120>)"
            ]
          },
          "metadata": {},
          "execution_count": 52
        }
      ]
    },
    {
      "cell_type": "code",
      "metadata": {
        "id": "yAhHrrymXXu_",
        "colab": {
          "base_uri": "https://localhost:8080/"
        },
        "outputId": "3f92750b-bd5a-408b-f342-20b6887267fb"
      },
      "source": [
        "#Get various attributes of out tensors\n",
        "print(\"Datatype of every element:\", rank_4_tensor.dtype)\n",
        "print(\"Number of dimensions(rank):\", rank_4_tensor.ndim)\n",
        "print(\"Shape of the tensor:\", rank_4_tensor.shape)\n",
        "print(\"Elements along the 0 axis:\", rank_4_tensor.shape[0])\n",
        "print(\"Elements along last axis:\", rank_4_tensor.shape[-1])\n",
        "print(\"Size of the tensor:\", tf.size(rank_4_tensor))\n",
        "print(\"Size of the tensor:\", tf.size(rank_4_tensor).numpy()) # if you just want the number"
      ],
      "execution_count": 53,
      "outputs": [
        {
          "output_type": "stream",
          "name": "stdout",
          "text": [
            "Datatype of every element: <dtype: 'float32'>\n",
            "Number of dimensions(rank): 4\n",
            "Shape of the tensor: (2, 3, 4, 5)\n",
            "Elements along the 0 axis: 2\n",
            "Elements along last axis: 5\n",
            "Size of the tensor: tf.Tensor(120, shape=(), dtype=int32)\n",
            "Size of the tensor: 120\n"
          ]
        }
      ]
    },
    {
      "cell_type": "markdown",
      "metadata": {
        "id": "Gicd0Ay_ZCsb"
      },
      "source": [
        "### Indexing tensors"
      ]
    },
    {
      "cell_type": "markdown",
      "metadata": {
        "id": "0fZuRki8akcD"
      },
      "source": [
        "Tensors can be indexed just like python lists"
      ]
    },
    {
      "cell_type": "code",
      "metadata": {
        "id": "utooyUZcatLb",
        "colab": {
          "base_uri": "https://localhost:8080/"
        },
        "outputId": "f04fdc44-ccd8-455c-9184-f897f2f86a49"
      },
      "source": [
        "some_list = [1,2,3,4]\n",
        "some_list[:2]"
      ],
      "execution_count": 54,
      "outputs": [
        {
          "output_type": "execute_result",
          "data": {
            "text/plain": [
              "[1, 2]"
            ]
          },
          "metadata": {},
          "execution_count": 54
        }
      ]
    },
    {
      "cell_type": "code",
      "metadata": {
        "id": "PCR_uWrZa03Y",
        "colab": {
          "base_uri": "https://localhost:8080/"
        },
        "outputId": "610fc5c3-b253-469d-e6e5-62a6feb25df2"
      },
      "source": [
        "#Get the first two elements from each dimensions\n",
        "rank_4_tensor[:2,:2,:2,:2]"
      ],
      "execution_count": 55,
      "outputs": [
        {
          "output_type": "execute_result",
          "data": {
            "text/plain": [
              "<tf.Tensor: shape=(2, 2, 2, 2), dtype=float32, numpy=\n",
              "array([[[[0., 0.],\n",
              "         [0., 0.]],\n",
              "\n",
              "        [[0., 0.],\n",
              "         [0., 0.]]],\n",
              "\n",
              "\n",
              "       [[[0., 0.],\n",
              "         [0., 0.]],\n",
              "\n",
              "        [[0., 0.],\n",
              "         [0., 0.]]]], dtype=float32)>"
            ]
          },
          "metadata": {},
          "execution_count": 55
        }
      ]
    },
    {
      "cell_type": "code",
      "metadata": {
        "id": "C1tAhTfea51x",
        "colab": {
          "base_uri": "https://localhost:8080/"
        },
        "outputId": "a435e2be-95ae-42b7-9580-215e0180e9b4"
      },
      "source": [
        "#Get the first element from each dimension from each index except for the final one\n",
        "rank_4_tensor[:1,:1,:1,:]"
      ],
      "execution_count": 56,
      "outputs": [
        {
          "output_type": "execute_result",
          "data": {
            "text/plain": [
              "<tf.Tensor: shape=(1, 1, 1, 5), dtype=float32, numpy=array([[[[0., 0., 0., 0., 0.]]]], dtype=float32)>"
            ]
          },
          "metadata": {},
          "execution_count": 56
        }
      ]
    },
    {
      "cell_type": "code",
      "metadata": {
        "id": "my9QSDUEcRxT",
        "colab": {
          "base_uri": "https://localhost:8080/"
        },
        "outputId": "89dfecd3-c261-4739-dc16-e8e9f9252c6c"
      },
      "source": [
        "#Get the first element from each dimension from each index except for the second last one\n",
        "rank_4_tensor[:1,:1,:,:1]"
      ],
      "execution_count": 57,
      "outputs": [
        {
          "output_type": "execute_result",
          "data": {
            "text/plain": [
              "<tf.Tensor: shape=(1, 1, 4, 1), dtype=float32, numpy=\n",
              "array([[[[0.],\n",
              "         [0.],\n",
              "         [0.],\n",
              "         [0.]]]], dtype=float32)>"
            ]
          },
          "metadata": {},
          "execution_count": 57
        }
      ]
    },
    {
      "cell_type": "markdown",
      "metadata": {
        "id": "NQBiS2CJcYxV"
      },
      "source": [
        "### Add a new axis to the tensor"
      ]
    },
    {
      "cell_type": "code",
      "metadata": {
        "id": "OXaV2RC9dqsM",
        "colab": {
          "base_uri": "https://localhost:8080/"
        },
        "outputId": "ae7e15fb-e3ae-4c57-b429-efa7d1f7ad36"
      },
      "source": [
        "rank_2_tensor = tf.constant([[10,7],\n",
        "                             [3,4]])\n",
        "rank_2_tensor"
      ],
      "execution_count": 58,
      "outputs": [
        {
          "output_type": "execute_result",
          "data": {
            "text/plain": [
              "<tf.Tensor: shape=(2, 2), dtype=int32, numpy=\n",
              "array([[10,  7],\n",
              "       [ 3,  4]], dtype=int32)>"
            ]
          },
          "metadata": {},
          "execution_count": 58
        }
      ]
    },
    {
      "cell_type": "code",
      "metadata": {
        "id": "amWj42C2d5Mg",
        "colab": {
          "base_uri": "https://localhost:8080/"
        },
        "outputId": "e69d0845-84d6-4c05-b790-f278e6e17f11"
      },
      "source": [
        "# Get the last element from all the dimensions\n",
        "rank_2_tensor[:,-1]\n"
      ],
      "execution_count": 59,
      "outputs": [
        {
          "output_type": "execute_result",
          "data": {
            "text/plain": [
              "<tf.Tensor: shape=(2,), dtype=int32, numpy=array([7, 4], dtype=int32)>"
            ]
          },
          "metadata": {},
          "execution_count": 59
        }
      ]
    },
    {
      "cell_type": "code",
      "metadata": {
        "id": "z03AcM68eFER",
        "colab": {
          "base_uri": "https://localhost:8080/"
        },
        "outputId": "ba3c8288-7039-4c2b-fd3f-4faac2efa0cc"
      },
      "source": [
        "# Add an extra dimension to the tensor\n",
        "rank_3_tensor = rank_2_tensor[..., tf.newaxis]\n",
        "rank_3_tensor"
      ],
      "execution_count": 60,
      "outputs": [
        {
          "output_type": "execute_result",
          "data": {
            "text/plain": [
              "<tf.Tensor: shape=(2, 2, 1), dtype=int32, numpy=\n",
              "array([[[10],\n",
              "        [ 7]],\n",
              "\n",
              "       [[ 3],\n",
              "        [ 4]]], dtype=int32)>"
            ]
          },
          "metadata": {},
          "execution_count": 60
        }
      ]
    },
    {
      "cell_type": "code",
      "metadata": {
        "id": "7KnkFJ8tecTY",
        "colab": {
          "base_uri": "https://localhost:8080/"
        },
        "outputId": "98c7ec94-f340-4e58-ec48-466dee72dc55"
      },
      "source": [
        "rank_3_tensor.shape , rank_3_tensor.ndim"
      ],
      "execution_count": 61,
      "outputs": [
        {
          "output_type": "execute_result",
          "data": {
            "text/plain": [
              "(TensorShape([2, 2, 1]), 3)"
            ]
          },
          "metadata": {},
          "execution_count": 61
        }
      ]
    },
    {
      "cell_type": "code",
      "metadata": {
        "id": "eRKa682ke0DF",
        "colab": {
          "base_uri": "https://localhost:8080/"
        },
        "outputId": "369d59dc-c13e-4bf9-eae5-15f8e41a9d49"
      },
      "source": [
        "# Alternative to tf.newaxis\n",
        "tf.expand_dims(rank_2_tensor, axis=-1) # '-1' means expand the last axis"
      ],
      "execution_count": 62,
      "outputs": [
        {
          "output_type": "execute_result",
          "data": {
            "text/plain": [
              "<tf.Tensor: shape=(2, 2, 1), dtype=int32, numpy=\n",
              "array([[[10],\n",
              "        [ 7]],\n",
              "\n",
              "       [[ 3],\n",
              "        [ 4]]], dtype=int32)>"
            ]
          },
          "metadata": {},
          "execution_count": 62
        }
      ]
    },
    {
      "cell_type": "code",
      "metadata": {
        "id": "d8kBxgr-fO0J",
        "colab": {
          "base_uri": "https://localhost:8080/"
        },
        "outputId": "dd6172f9-9667-437e-9526-1a37381364a0"
      },
      "source": [
        "# Expand 0-axis\n",
        "tf.expand_dims(rank_2_tensor, axis=0) "
      ],
      "execution_count": 63,
      "outputs": [
        {
          "output_type": "execute_result",
          "data": {
            "text/plain": [
              "<tf.Tensor: shape=(1, 2, 2), dtype=int32, numpy=\n",
              "array([[[10,  7],\n",
              "        [ 3,  4]]], dtype=int32)>"
            ]
          },
          "metadata": {},
          "execution_count": 63
        }
      ]
    },
    {
      "cell_type": "markdown",
      "metadata": {
        "id": "TTHOJ1iEfTG8"
      },
      "source": [
        "### Manipulating tensors (tensor operations)"
      ]
    },
    {
      "cell_type": "markdown",
      "metadata": {
        "id": "4NAtv0aOgPin"
      },
      "source": [
        "In machine learning, matrix multiplication is one of the most common tensor operation.\n",
        "\n",
        "There are two rules our tensors (matrices) need to fulfill if we are going to matrix multiply them:\n",
        "1. The inner dimensions must match.\n",
        "2. The resulting matrix has the shape of the outer dimensions.\n",
        "\n",
        "![image.png](data:image/png;base64,iVBORw0KGgoAAAANSUhEUgAAA1QAAAGsCAYAAADaP+YAAAAgAElEQVR4AeydB3wURfvHLwFERRGkd6kqRRARKVKlSgtJ7lLoiP6lWAD7++qrvnaQ3knoICpNRBSRFiAhlFRCIIT00AIJ7VWx/f6f39zNZXPcJXfJXbiE2c9nb253Z2dnZ5+dme8+zzyj0+l0UKsqAyUDSgaUDCgZUDKgZEDJgJIBJQNKBpQMFEoGCnWSgjAFokoGlAwoGVAyoGRAyYCSASUDSgaUDCgZUBSqgFLJgJIBJQNKBpQMKBlQMqBkQMmAkgElA4WWgUKfqGhUfZFQMqBkQMmAkgElA0oGlAwoGVAyoGTgTpcBBVSKxpUMKBlQMqBkQMmAkgElA0oGlAwoGVAyUEgZUAVXyIK700lc3b/6GqVkQMmAkgElA0oGlAwoGVAyoGRAwYQCSiUDSgaUDCgZUDKgZEDJgJIBJQNKBpQMFFoGCn2iolH1RULJgJIBJQNKBpQMKBlQMqBkQMmAkoE7XQYUUCkaVzKgZEDJgJIBJQNKBpQMKBlQMqBkQMlAIWVAFVwhC+5OJ3F1/+prlJIBJQNKBpQMKBlQMqBkQMmAkgEFEwoolQwoGVAyoGRAyYCSASUDSgaUDCgZUDJQaBko9ImKRtUXCSUDSgaUDCgZUDKgZEDJgJIBJQNKBu50GVBApWhcyYCSASUDSgaUDCgZKKoMeECn87RjZbyiXsva+ZbXd9V1rF27OPdZ3qcsc1fdb3FfrzjLUl3LNe/iHVmud+RNu6gyd11ZenqywnRd+irtkle2Hh6uajxLXlko+bX+zJSMWC8XJS/OKRclX84pRyWPqhyVDNgvA25c79h/E+qB396yatq0KXr06IFOnTq57dq5c2eRt65du6Jbt27o2LGj2+ZVW47Mq3bbnf93794d9erVK/GAXbZsWXTo0AG8H8qLO6+Ua8oI89qlSxe3X3v16oVHH320xMuIanNub5tjT/k3qFkX/v29oO/WH4Zuz8Kv24BiWHmd/g6sRc2X5fWKmp6rysi98+nffTAM3Qfj2a598Uz3Z2zW+axr3bk9UHm7Pe0127U6deqIds1Nocr9K2x7KvU7IY7BYEDr1o+hWrVqqFKlKqpWrY6qVauhalX+Z6jd5r7bs1aoUAEdO3RA/759cd+9FW5bPvK7/ypVqoh8sSxr1qwJP4MBtWrUQJUqD+LBau6zVq1aBdWrVEW1KtVQuXJV1KhRG92790Tffv1LfGe5evXq8PfzQ6OHGqJurVqoXvVB1KheFdWrV0W1GtVQtUZ181qtenUwPkNr+3msKKutdJmPKtWroEat6hgwoB8GDOiPunXrokmTJm67NmzYEK1bt4avr2+Jl5E7oV4v6fc4pr8B8St2IOqdFUj81zqcefsrJL39lQj5v3hWXnctzry9xhTyv3aV+435czxP2rSccU/rcebtr+1YGS+/61ned2HvT+bH1vUsryPLw7Jc88ZLensdkt/6CilvfSXCxLfXIeHjjXh/0P/hBf1otGjWHI0aNUJjN65P3bmuv1Py1rhxY/ERmaDdu3dvd27XFFCVlAatf//+0Hl4oEKTxqjU6Sl4dmoHXacn4NGprSlsB49OxbvqNNdjfjw7PAFdm+Zo4uuF9mNHQdempcinOMbjNtcn4NmpbbGvZTs+gbs7t8czU15GhY5Pokz7Nsby7NxWhCzb27HqTNct06kt7urYFuU7PIFKT3eA7r77ULFadXTt0cOdKxW78kaA7dK5s4hbpcG9qNvuAVR9ohwqtytjXPnftD5oCiu1Kwe58pjcL+M5Lywrrv3gE+VRo11F6Mrq0PiRh9Ds4aZ23dvtrlP49Y5f85SpsGrfXCKLHrnlOraHN46//xUS9LNx0WcRLnstRrbXYhHyf/GuvP4CF6zG+yree8mv7Gzdp6P5lPGX4LLXUlz2Ysjryv0yD7aul39ZZ3stQo7XYlwZsliEWUMX4sKYZfhX8yEY3K4Hyonxdrmy5BJZVUMlSkSbZc+z50dTagftiXub4ihhvk0F77BQ9B8wALpyOoxZvxxvZp3GwIxI9DsXjQFno277+mxmJPpnRGBwZhS80iIw7sJJvHzpDHySjop88rhxjcKzmdG3fR1wNgZcvTJioE+NxvjsZIxKiYFvqjGf/c35lfku3nBAZqQoNz7jwRmR8MmIwus30lDeqy90lSqhS89eJvkpueOoalavjqef7ijuY/zcYViY8h+8GzMGbx8fhreOB4qQ/2/H+s6JYXgnbjjeP/E85iW+h3uf1KF64ypo+VhzkV8PN2+ky5cvL77kKaBS7ZtL2rc8QOWFUx9vQJL/QlwyLEO2TzCu+izHVZ9lNtcrvsuQk8/K44U7Pxg5vkG44huEq1ZW7udxy9VW/Nw0eE/558naccv7LOi+rKVhdZ9vsI374/3fWra3XpfPZ0U+q43nZ/O6ecs0tzyN5XbNJA+XfZbi0vOr8UEbA3w69MZ95e5xuB/kEnl28/pc3bOxHqe5H7VUblweqsFx44djFhxPnQ4CqO72QI+vFqPvhRg8mBGG+86GoXLm7V8rZYahUsZBVM0IQ42UA2h7ORadc06gTuI+VE4/iIoZxvV+U1gxIxQVM8JQMeOQKeT/YlzPhuOBzHBUSw9H3ZQwtM85iVaph/FQ2iFRrixTlu/tWqtkhKHq2UOolBmKypkHUCvjILrnxEE3tBd0Vaqga0+j2ttDV3KBil+bOnftIGTcb/YzeOuMP4bHtIch9jHoY1uKkP+N24/BV+w3bsv9MtTHGo8zTmFWni/TEuHxVvA73hqjYp/GGyeHQfeUDtWbPlhigOruu+8WQMVxaiWhflN5LGHtcBGByiokFAJY3C+dgkDFEmIswaWg8y3jOw55xjIrrusY82cLqCqUvVvVTwrm7JYBBVRKWOwWlvw6FVqg6rZ2AZ49H4ua6eF4MCMc1dPdZ62ZHoZaKSFofTECnbLjUDdxH2pkHkK1jEOmfDIMQ/X0UFMo9xfvPRCkWG5108PxUPJBdMo5iTbJ4WiSHIbaaWHgfbjDWi2DZRWGBhlh6JUdB93g7tA9WBldTRqqkgxUNWrUQMcuT4n3w3dWT7x22gD/qHbwiWkJn5gW0Me0hD66pTHk/+JYo1tBH90avjHGcER0Z7weHwjdkzpUa1IZLR9rIfLr7uVOoOrTpw8UUJUwUCkp7aUGqMb1GIxTH3+DxACjhirHOxiyA+1+wFNYALH3vIJARQJVQWBUUDoFnW9vfmU8eb2VJq2Vc9OX8mCpoVJApeqn/Pq9lscUUJWUBsLN82kEqkHQ3e2JHmsWYODZGNRLDRdQVSctHO6y1k0NQ73kEDx+4Riezo7FQ6f3ibzVdqM8asuqYdphNE4KQ+dsI1A1Sw5FvdQw1Ek75BZlWlvkIwyNUkPR93IcdIMkUD1j6tiX3ArZGlAFRLUT4OQrgao4IMrKNXy5L7o1RkR3xOvx/iagoslfSwVUbl5XWjbCatsFdcQtQPU1EgPm45IhGHc2UElAUaEWpnOBagkuPb8SH7TxVSZ/qh4Vbakj9bMCKiU0DguNNQGzBCqO/yEY1Eh3H5hifrRA1flydIkBqqdzTqF10iEooHJB58tGHUCg6mQy+fOZ2UNoqBRQOaf8lYbKOeVorS5W+3TQKaAq1JgqLWTcSf8VUKn6yBn1pgIqG50pZxTunZSGJVC5s4aq7pl9aJsVUaI0VAQqmvwpoCq+il9pqFxX1gqoXFe2d1K7Y/NeFVApoHJgzNutQOUDn47P4L671Bgqm++Y6jvfooxQQKWE4hahKMwLpIDKNZo4afKngKr4O6BaoNLP6ok3EgwIjFQmf4WpHyzPUUBV/PJs+QxK9bYCKgVUhQIq6eXPVwGV6hs73DdWQKWExmGhsdYQK6ByNVAloE3yETRLDjONoeI4Ktdc05F075QxVAqonAsACqicW57W6uQ7ep8CKicBVWGdQcjzpJMLGTrXmYSzzBJzNVQKqO7oeqOIPKCAqogFqITP2DEoiUBVssZQlRSg6gbdgw+ga8+eAtTdfT6k/N5fpaFyXadfAZXryjY/mb5jjimgchJQFdZ5RckAKjkP1xXf5WJ+rEu+CqjumDrCBX1/BVQuKNQ7USBLGlCVNC9/T+e4K1AZtWSNUsNMXv5KJ1AZZj+jTP6cWFcqoFJA5dJ2UgNUY3sMxslPvsZp/7m45LdUTDh7zQFzMGdpQVQ6hYUzZ55nBL0rPiuR7bMc572W4qJvMC7plyFLvwwXFVA5xWLJpe+2E9shZ+dTAZUbPxxnP2xXpldSgKpOWhhqJ+1Dm4sly226+wPVIfS9HG9ym04NVY9SpaFSQOVcAFBA5dzydGXdXiLTVkB1mzVUzoQgZ6SVC1I5viuQ5bMMFwzLcH3semQaluKCITgPUL3/mHKbXiLf+9vcn1dAdZsfQGkRWgVUrhnPlOuUwt01VKUbqNQYKucCgAIq55ZnaWlHnHYfCqgUUOXRQkoTxJUgUGV6L8WFMWuAFcnInrIJp30X4LyBGqpgZI9bhw8eM6h5qFTf2GFtnQIqJTQOC421Rs8VQFUv/TDqpoSh7pmDInTEWYLtuM7VUNVNDUed5FDUOXMA9ZIOoHbSAdRKDgUnCpYr81K3kA4kXAVU9VJCUTcxBPUT9uKhhBDUTzponuDYkXzLCZEbpeYFqm4mDRXlwpq8lIR92jFUztZQGaJbwRDVCvqIlvCLbg1u661M4Gtrn5xYeER0B6dO7Ovh4ZHneVluO+u5KaAque+Fs2TApekUE1Bl+wTj4pAluDw0yCrAXPJaiiyvpeBYHZr8yTE7Ob7LxJgdnnvJO8h8vLBmgUyX17ngtQTnvZaIkGnn+ATjmp4wkavl4cTGzJfMA0PmQZtPbfyi/Le838s+wTg3ZBFSB8xF6oA5ODdkAbJ9WD7B5jwyv7LcrpryznS05UyTTbkyfxe9FuG810LkaNLJm++8QJU0dBFSnlsFxAD48SyOP7cUJ73n46x+KbLHrcZ/WzsHqCzrz/y2LY/x/bC2zxnvTWHT5XmW51puW8ufPXGsnVfYfdrraf8zPcvtwl7D2nkKqEpwh8/aA71d+5wNVPVSw9Eo9TCaJ4aifdJhtDgTioYp9HB3qIje7ZwHVMxjk+RDePT0AbRLDEWHUwfQ4fRBtD4VgodO7EKt0/tQJ+1QkcDKeUDFcjN6CKyXsA/N43ahf+pR+GfGwDc1Ah1OhKBx/F7UTQpFjdQw1DIBoADGfGBQAVVLh0BIAlJAVFsMj3gKo6M6Y2TEUxge/QT8oglXxtUQnX+6xQVUrE8sG6DKlSujXLlyecDL0XpHAZUCKkdlxqH4rgYq/TJkG4KRpl+EJP/FSPFZiEs+wbiqX4mrPitAJweX9ctwwW8ZMgOChUnZFf1yM1BdNizHWX0w0vyCkOIfhKzAFeDxvBCQC0G29l/xMYGZIQjphsVIGrYEJwIXIj5wAU7q5yJ+4Ayc9V6Mq34rBFhlG5YJaDjrFwSu0tQtUx+E9IBgnDMEI9tgdNBg65qO7CfgsJyy/YJxzncRjj87HcljViD77W248PYWJIxZiqhnP0eGz0Jc9VuGq6ZyPe8fhLPDg3EhIBiXDME47x+MzMBlSPJeiAyfpcjxYzkvwxX9ClxiWfotReawJbjgvxRX9MF5AM2Y37xAlTx0IU4MXwQkALhJqEpD1IsrEOM7FxdeWI0PWxvg26E37i93T5HqOU9PzyKdb03mH3jggSLXv9bSLWifZTtQUHx5nGVQ2HNlGgy1adxzzz3o2LEjOnToAP6X8bRxrO3THr/rrrvwxBNPoFOnTqhatao5jaI8MwVUCqjMgiQFsDChM4FKgEpKOB49sQ+Tb17AWgAB6bF4+GQIHjJpfswd/nw6+9a1VM4CqkOon3IQbRP247V/LmEFgG9N6xoA7yIb3c+EoempfaCmTebXep5smwvmAlXRJvale/N6qWFoenIP+qQcxpf4HTsA7AawD8A6AC9kxOHx43uFxs3e/Cqgyh98JEDpY4waKN+Y5tDHNIdfWFtMy56ELZiNl48OwpgjnREY3ea2AxXf/UcffRSpqano0cM4Dk7WBz4+PuDy6aefFrnOUEClgErKlUtCK0CVGDDfaU4psn2DkOw1F5lvbDJ2yjel4bjvbJzVLxEgdebZOYjqNx3YeAFYfgLhAz9H0qC5AlYIWun6JUgdvQI4DGD+McQMnSOASrrvtoQWqelhmPfYcgFyp/TzgW+TgRQA6QAyASQD2JqOuOeWINGPILIYR3t/ipv/2Qns+R3HRyxAxODpiB86D1hxBtj/J06OCEKmbxCyfR2Hu7z5MuaT2q9s/2U44zsPUYZZwLeJQDaA6wD+B/H/n/WxiBo5F2n6BUgaMhcRfT4HghOAjRmi3E4OnokTIxcDu68DO7JxxDATyYaFuKwPwkXfICR6LwA2XQC2X8SpwAVi/615yQtUSV4LcHzEIuCUqNKAv9kYXsCRCSsQO3oJ/vWYrwCqikUEKsp269atcePGDUyfPl3Um5Yd9tWrV2Pq1KnmOpUfrBISEvD888+LfRIC2rVrh99//x1r1641xy3Ku6PX65GTkyPWa9eu4erVq9i9e7eAFMt0jx07hq5du5qvS5hh/MGDB+fJI8+T+e3Xrx+uXLmC9u3bm8+zTNfebZkm48+cOdP00HKDadOm3XKNjz76CMuWLTPv16bBNsxy2bZtGwhEvIblM7I3nwqoFFCZBc5eobEWz1lAJTv+DyfsR++Ew9gKIBXAgt8u46noXWiaFIqa6eGokW6EkII0KJYAUzeVJoT7UFQvf8znQ8kH8fTxPViA/2EbgEVZqVh0KQ3Lb2ZjD4AV+Au9T4WKeHVM+bXMT0HbzgSq2qf2on/yUXzDD3IAvryYhLdOHsH76XHYin9wEMDky8loGR+CRilGTaAEJlv5lMctTf5Kj1OKDuL9MMzuVUQvf0ag8ol5VADV8AMdsezqf3EEW/FW+AiMO9QTAVE0/WshoOp2aaj4bj/11FOirfH29jbXDcOGDRP7du7cad5nrR6wd58CKgVU9spKoeK5DKiM2pssfRBiBk0DNpl65NeB41NWIdJ3BtIDlgKfHMTxl9YC+3Pw5/cnEfvGavz54U6k+CwQzg/O6Bci4f+WA1nAn+uP4+DQaQK2LIGKAEXNVY5+uVFzRC2XSdNlhIbluOAThGN+s4HoPwRIXfz6MLK+OQr8kgL8AyDiV+wdNgOXXt+Cs+9+h4zZPwPx/yDstaW4OmMPjo5cCGzLBNKAI2MWItV3MS7fAm5GQKJGjNeV5nY0zxP5sxGfQEUzuojAOcCeC6IO+WtHAo59tB6xH32Dv3cnGfu1By8hdNhMXPnvzzj52npgyxlgzzkcm7wcNz7diZ/HzgLiST1AdvAB7Pf6RGijzvkHI9pnDhD+BxD7Fw6NmC3232r6ZwFUQ+YjdthCcc83Tudg59odwJ8ADmQj8o31GN9ioBhD5QygWrx4scj3n3/+iUqVKon6kx32gIAAoRnZtWsX3n//fTRt2hRdunTBfffdJ+L/5z//Mde1hBIuZ86cEccL9U5Y9HXfeOMNkSbh4tVXX8XHH38sgI07mZeyZcsiMDAQNH2/cOEC+vfvj549e6J+/fro3LmzODclJcWcR8s8EQq5dO/e3WYcy3MK2t66lT1CgGVK7RLLZeXKlWLfTz/9JK7Tt29fPPLII1iyZAk2btyI2rVrw9fX15yHzZs3i/grVqwQ5U3gfeutt8Q+AmvDhg3NcQvKj+VxBVQWQmZZQGrbvobfEqgGnYsFNU2EH1udcWv7a6YfQr30Q2gRuxtTrmYI7cm+nGwR+seFolXcHtROC0ONdGOH39GxSRKo2mZF4OnsWDwkzPKM452s5cfWvlppRg1V5+hfsBi/YhH+h8HhP6F31C/oEvETPspOER8fX0yOQbO4vXjITkCxvF5RgUoCT8PkMLQ4sQ9z8Af2AxgXexCPR/yMFokH0PTELvQ9HoJlAGbiHzx98gAePr1fmAjyPi3zpN2W6VsClRxDVdLnoerUtaOoXPWznOM23UdoqFpiZEhnrMj6CMewDf8OG4fnQ3uZgKr5bQeqtm3bisaFDSjrPzaqXL755htzQ6P92leYOlIBlX31amHKVp2jg85lQEUTuyAkec/D8dGLhDbo0qEk4DJw7ZsYbB/yEU6ODAJCfhOddQITLv4DkCV+TEesfjbO65fijN8ixP3fMiADuL7mGA54G4Hqui8nwM3VQuXol+Hc0IVIHjAbl/yX4bK/CazMAGMEqnC/WUDMX8C+LPzk/SEO6qfhl4H/xfUVh4X2ZdfUpciatRc4CyDtD6OWKO0mkAjsf3ER/tp4CkgCwsfOR6rvAmTbHIuUmzfCFMdDJQ+YJ9yOa0FPuqW/ZFiGmIFf4vpCfq4DsoIO4OdBH+CEzywkeM3C7sEf4X9rjgmwPPb2avyz9RRwHsb1Moz53XceX4/7DIi9Avxl1G4dmxqE2MFfID1wCSJ9ZgEHrgJRN3Bg9Byc8+f4sNwxWSzPK97B4Nix675GpxSJg+chMnCeeC5x+2PRsFYzfLfqe5FHRFzGy70D8UybjqhQtry5zivMe3X//fcL7RS1SgSqV155RaRHoAoPD8e5c+eQnZ2NtLQ0oc2RmhZm5M033xRxqQ3iEhMTY86LrfrXcr/ltvYeqBXjQnCS+wlSXJhPgt2lS5dw+vRp/Prrr0hMTMTNmzfBD21t2rQR8fjz4osvivN5LanZeeGFF8zHCYkyfctQxpf788vvuHHjRJrjx4+/JT0JRASp+fPn4/r166JsL168KGBQfgiUaUjtn7wuw1atWon0Q0JCbklfGy+//wqoFFAVWni0guUsoGIHvkFqGDrF7sNqAKt+v4b3joUiBMDHF5PwdPQucbygjr6206/97wqgWohfMR//Q99D29E55me0PLIVr5+NxyEA/5cYJUwXG9F5hclcUZufgv4XFaik6V6L+BAEZFITBXx+/jR6HPkJjVPCQICtmRqGhgkh6Jh6GB3TjqLlmTBxTLiYv8OBqmMXo4bKd2bPImqojKaBHPtEJxSj9nXFykuf4hh+yANUNAfMNRO0bU7oqjFUfKclULVo0QKDBg0SjQy/Asr3Pb9GT8YpKFRApYCqIBkp0nEXAhXHBB0d9AWuzQoBbgCbpszCb3sSgXPAvpGzcNx/Hnb6fY74BT+bO5VhM77GrmGfIWnYIjEmKMlgAqpM4Ma6o9jv8wWyOc7JBFQSSNK9FuL3V78Hph1B8vAgnAvk2C3jWCythuqQAKo/gL0XscPrAxz2nY7dvT9A1iwadQOR736FHfpP8dPk+cAFo6bn4q5IfDXqffzk/ynwQ5IwEQwfOxdpvgtuARIt5AlA8Q3GxaGL8efU7cDnYeD9cFLcXOcSRk1emn4x4kcsBk4DiPsVPwdOQ7LfUlwyrBD3keG7GIkBC3F24jpEj1mE7YGfIfKLDUbNGoDohd9hi//7+OHFWUDCn7gckggkXANO/IGDfp8jLnAeIvWzgf3XBFDtHzMHmQFLcVkfLJxuSI2aFqg4/9SpgXNwxH+OAKpTh+PhoSuHOpXr4qe1tDUBDmzZBd9nh5rrPEdlUYLCSy+9JNLjmFNqV86fP58nTcKIXKgp4XWqVKkidvFDFrUlXI4cOWI+r6D6t0KFCpgwYYLQJOWX7ylTpoi0tUBVsWJFsY8aM3lucHCw2EczcI474n5qqmjGePToUQGC8n55jPmjCeGhQ4cERFqajst0ZchxUMOHDzdfT+63DFl2sbGx5ni8jrYs6tatawY6CaHMuNbSgvB68OBBcxryGjIdWSaFNVNUQKWA6hbhkkLmSOgsoKLTicanQjAiIw6/AHgjJQ7Phv2EIPxPmKUNit6NZokhYjwQYYQmf9SE2Wv652ygejpmNxbhGr7Bn3g3KRJvpkTg/UsJwgRw/W/ZGBK1F00SD6Ceg5o6CVpFBSqpIXwidg/e/e2cGOc19vh+PH18L+onh6FWxmGz0wx6J6yVdNCh8iztGioJVM7SUEmgGr2/G1ZkfSKA6t1Dz5s1VO4AVI8//rhoQDds2CDCOXPmOKWO0NYnCqgUUGnlwen/XQhUF3yW4JDvDCDmHyDid2z2+w+iP/tWaIIufvkLQod8gajng4TG5/LmaPwRmgbE/onoUQuRZlgiQOKMPheorq85YgYqqaEiUNFc7ljfacDCWDE26sioRTgVsESYDNLpBcGGJoI0+TsUMBs49j8g/g+cmLkViV9uxbXloUYNz54U7Bk1E4eGTge+SwUS/8LpFb8ILVXi+19j5+APgW2OARXhKX7Al8C6RKHlOuw3A5lD55uBivli/hN85iPjjY1ivFR60F7sHPoJsvwIhEZNEU0as4cuQdbgBWC5xgUsACIB7EnHle3HgTPA4efm4cfR00V5XtoSie+mzgb+AP7adBw79B/hkGEacCDHIaA6MWAWDvnNBC4Cpw4fR8V7jKZ49avUw/avvhP13pHQI6hXp0GR6j6axNGkj/ItP07RCQK36Qjht99+w3vvvYcdO3YIOOF+arU4toljeqgRkqZsPCY7/vxva6WJHpc+ffrYjMNzqYXiMnLkSGHORxNEjpVKT08XZn6MQxjiYjAYQG2P1KD16tVL7CcM8R60bQT/E7aomeJC+LKVV+7n2DLeb35xpPboueeeE/EkTMnQ8twTJ06I8VMzZswQGkAeb9asmcgP75fbWgiU5xPKuLz22mv55kfGtwwVUOUjmJaFpbZtv8RFBSpzxzwlDC3j9+IL/IotAIYe+hmtw7ZhYlIkDgCYlBqNx47vQpPksEJpfJwNVF0IVH/nIAxAOIBjAKKonue4r4xT6BexEw+dOQCOuZKQ5EhYVKCSY82eitmD6X/ngNbG3tF70O7EPgFOUoNVJ/Uw6qQeQe20w0JjxTwSVLnml1/zc7PhNr2km/w5H6ho0tcaY0K6Y9XFzxCBH0GgeiGstzD5cweg4mA+Y0cAACAASURBVJdSufz999+igWfdZ09jbm8dqYDKdl1qbxmqePmUoYuAigCQOGAWMv61BfgVOP3RJvzw7NvYYHgPOHkTOHIDO30/RdxLK4ENSdg5eibCXgkSDiNOv7AaaYYgo9MK/UKjyd8tGqqVYkwSHVekei/Ermc/Qs6CUAEtP46ZgcPD5iLFYIQqAstVE1AJk7+wHOM4IDp94ErzOACJi3fiZ7/PEGOYAwTFIvOzH/Gd74fA6lhkvf8Ddnt9CmxLFhqqQ2Pn5mvyd8XH6L0w2XcRDgz8DH+siRSao+2Bn+C470xk+hqdRUgNW7z3XGR9+CNwDTg57Xsc8J0u7l+OFWM8rjd8V+LS0GVIG7kK+CoNERNX4MDYecD6Mzj54nL8PHqGgCvsSEFw38nIXk37DyDu/a+xzet9gPcuTP7mCq+K2WaTSKOJoqWG6vizMxDqbwSqhCMnUPHeyvDUGT2X1q1aF5u/NkLVxg2bUb16TVPnmlNK5J1Wwto7KOtJCSMckyrjcSwSP1Rxm9qnL7/80vxfOq0gUGVm0quIcSFMML5WkyTTk6G8JrfpBZAOI/IztWM8qR2jOR8BSC5btmwx55fjkeRYLi8vL7PzDAlUhLexY8eKU6m9khouQovUrhUEVO+8845wwiHvxVrIcVhcpLbLFkjxXLYtBCmWI7fnzZuH8uXLC29+TEPrXMPyWvQYyDZv1qxZ5jKwjJPftgIqBVSFEhxLoSoqUMmOfZNTIXgm6TD4bXz7zWv4OOk4pp6Lx5cZpxANYMmf2eh8bAdanj6I+mlG7Up+HX7LY84GKo6hovbsO9zEv8J3463IELx+IhRr/ndBjKF65cJJPHpij3D5zrxIALHMl63twgKVHFtWPd14zSdj9+Kjm5ewipAasxePn9gtxkjR5I/Xlpq+2tRSJYeatwvS/Mn7Ke1jqApt8sf5paJbi9UQ0wa+Ma3gF/04xoT0EEAViZ/wXvgLeD6sD/xj2sLXzrmoisPkj16S2NhmZWUJMxS+89qG27IOcGRbAVU+MKDapKK3SU4GKgkIHMMUNehLYEuS0LqcWrwDabO3I/LLb4FjZ4HfgCOvr8CBgC8RMWQ6zvgvwmnDApzwmoP0YcuQ5W80dUs0mIAqPdfkj+6/r+lX4rz3UmSOWgHs+RWI45gnADkko5tGL37zIxE/xOgxUALVYf/ZQNTvQORVbHtlNn5+eR4OTA3CPz8lCrA698V2xPjOxAmvmTjlPRfp/kuES/VTPiaTuW1pQgMUNnZevkCVOXgBLj+3xuid8KTJm+BVAAmkS+Cvz3bjzNC5ZpPBk97zkPnvrQKoUub9jP2+XwiTR60J4XXDCuFuPsdvNc77rUT8wLlI9l2CdMNSJDw7E8n6BWC+qK3C9mTs0H+M7SO+AGL/EGWzfviHwMFzQOyvODC6IKBahWzvlYh5dhZCAmaKsVvxR46jwt3sfHvgLo+7hexVq1wTm741QtWalWtQq0Ytsd9D5wFPnScYFlTfccwpFzpEIIwQQqiJ4sKOt63zqbki4FDTEx8fL+LTwx/j51f/fvDBB8jIyBDncLxWUlKS2P7666+tXmvy5Mki7SZNmgjgoMMMmt5xocMGW/njfglU0kyRJn4EF57HcVeMI03HJQRp06tZs6bQhtGEj5ovauL4n9oxasq0cfmfmjAu0nzPFlDlVz50YsFF66DC8jrVqlUTcd59991b8mAZ19q2AirVeBVKcCyFqahAVZMakfTDeDR2NyZeScYuk6aH2n8OZ6XWh1XLTgCBx0PRNs5Cw2Kn+3RXABUdUgThVxiO/II+J0LQ/sQe+B3ZCVrQz8Y1tI3+Gc3O5E6cawuerO0vKlBRQ0XoeSx2D17OScZGAOMTj+HJqJ2on3YItTKM5U6nFU1O70czOqk4c1B4+bPHlPJOASqfmT3x2mkDAqLaiTFOEmgKHO8U/RgMMW0x9HBrDA2jF7+28I9phzEhPbH8/CdCQ/VO2Dg8F9pbgJY7ARUHHsuvjDTJ4NdIvve2GjPLOiG/bQVUCqjyk48iH3MyUF33MZrYsZNPt9qic29y+y1g55oJeqgcWheOEL8vcDYwSLgMp9twulOniVzG0EVirFSi3yJEj1sivPL9tj5aOKXI8VshnCbQhC915HJg4VFcWh4GHD4rOv6pG0Lx+9dRyHp3G04bFop0rvisECZ/4QSqyN+BA5exN3AaYgPnImboTOwa+aVwfIGdmTjqMx1n/Zbgqm8QbogJf4Nx0RCEOO85RlPAJCDsuXlibi1LpxQSKM95L8bZ0SuBJZG4yLxFXBR5O/NVCH7/KgLn3tqIJJ/5ZqcWST4LcfLFlQII6d3vB68PxPxX1CBRw8axThleC5DmvRBpPouR5b8S2XqjOSCPUyNIJx6Hx8w3AVUK9vlPw4HAGcKrIl2vX9gaiWshSUDMDewfPa8ADZURqKIHzMDewC9F3k8cjsXd5e4VdZunrizKexr/16leF9u3bhcd7JXLV+aBqoKAiq7P//jjD6HtICz8888/YqWzBC6TJk2y2e+SY6jGjBkjtFL8qMWFgJLfe0ETPzqy4PgnAtXChQtBT37SxM3yXDleSHoelMcJRjyfWh25T4YSWCRQEXR4TDouYj4HDhwo9klvsdY0VNQe0bMgtWSETEIVTRDffvttq/fJ8uRCz328Hs31ZF5k3mRozZSPx6T2zJrbeZkWwZeLtTzL9PMLFVApoLrlpclPYGwdKypQUUNVLykUnWL3Cm9zq/E7pkSFYmLcIYw9eQjjow/iw8RYAVqf5aSjY+RO1Es6AEedU7gKqBbiBvqH/oBOMTvRMvYnBMbuFWPAZiEH7aJ+xsMmoJKaOGvwZG1fUYGKY6gIPY+cphv6UKwH8DVu4tkjv6Bx3G7UTQxB/dMhaBW5E1P+yML7+Afdk4/ikdPGsVTW8qTdlwtUYeh7OQ66Qd2ge/ABdDPZTZd4k7+nTU4pZj1TKKCieZ//sSfwxdWJmHvlbQzb1xWBYZ0wZkcfbP1fMA7jR0zePxxjDvVyG6CSX/LkHCPySyM7A/yyyDrAVqNlq36w3K+ASgGVpUw4ddvJQEUTNXqxixk6CzfnhwlN1NHPv8XPE+Yg8pVlCH81CDtfmguEXxDjlkKfm4Nk/8W47LdCaJyyX9oAbM5A5stf4eiAzxEy5FPEvLpKaG5ylh5EqNcXYmwVNU50OnHOsAzHveZiY693cG7BHqE92jzyU+z2+QyJvvOFt7+r1OxIkz8CVcwfwJ6L2On1ASKGTsOxZz/DwRfmG7VbO9NxWD8NmQFGoLruQ6cNQThvCELM0NnAtnRxjZ/oFGLgFzg1cKYwbcwcskjkh2BDrRLdt/Oc2KEz8UO/f4Pjv5D0J9br38P+wZ/ijH4Bsvw4sa4xPicOjvSaCew8L8aYHXl9JQ70+wjJPvORNnQewvt8hJx/bwNigWv/+RmnfBYIoOLkyFKLJYBqbC5QhRi+wMkRC3FkyOfImrvbaNp4DfgnPBMhY2aDrtSN5pDGPDCdXJO/W4Eq7lAMypeVk8NSA1UOd3kYt2tXr4ft24xapTUr16FGVWn+Z/39lR1zCSt0jkB4qF69Oqj9oMMIamJo0mdL3iVQ0XMd47CTThM+LqybrZ0nr8tjBCHCnKVjBW0cxpN5tKzLqdHiIh1QWLte7969RRypOWOcn3/+2WzOyG3p6t0STizzQW0QtWna61jG4TGZr0aNGuWJy2OEN2rGCHradCz/SxfrUrOmPc5rspzzcwWvjW/tvwIqBVT5CqA1obG2r6hAVTf1EB46tQ+jz50Qk82+ce4kOtG0L24Pmp4KQavje9AtYhcW4w8xtmpgzD7h7IHnaTv4Bf13NlA9Hb0TQbiOzfgT750+ijdSIjHlbAy+wW/C5O/ltGi0jvsFTZJDRT4lgBSUT3m8qEDF63GtmxKKBrE/Y+LFBDHWaxV+x5jTxzAw7gCGJIbji9+zhFfCGf9cQ5e4EDyaaMxvQQBoHBsWhkapoaUTqExe/grrlMIQ2QoB4W2x/NcPkIpjWJn5Jd4MGYOlCZ8jA3H49spijNs9EKOP9hBAVaDGy2QSKDVkI6I74PV4f+ie1KFakypo+VhL8T4X9AXV2jss97GR5CKBivslVPHLpWzQrDV6Mo2CQgVU1jtkBZWbOm5nubkAqC75BBtdbZ/gINm/8HPAZ4jUz0TK0HlIHDoXYQM+Q8pHRjOxSzN3IdpnFs77B+Os92KcGb/KOJltChD+xgrsenUxEP27AKqIycsRq58jIEBqwghKHEcVMXA6MO8wcByIGr0QyQFLBNhJ5xUSqISXv+ibwMm/EP3xepz67wZkzfoFiPtdgEzaF9uEyd95w1IBKtfpmp1ApV9qBKqfjFqwuJnbcPbT7bj0yQ787/O9uPrmNqT6LcVFvVGjxDFUhJWLhmDED5kNrIoXeQsPnCW8A0rveswXQYaaqDNe8xHx4hKj6/irQPrMHQh/cSEinl+As7N2CE+J9JB48pW1OGVYZAFUy3HeNxjho+cbzR13ZmK/YTqSAxbhrN8i/DLkv8Bu2kQCfx85i71jjUAlgU5CmSVQRQ2YgT3UUF0CCFR3eWq1MZ55oKpO9frYvuUncY0N6zegfp365jrWVj3LjvmBAwes9q04oS4XQgnfZ8t6VJqdcWyRfN+poZFQVdDYKM67REcR1kztZHoMJVBxwnYCCcFHAgddj2vjWv6nNoyLdnyYZRypoZL3aXlcbtO0nC7Z5bZlKMuHmjSpraOTDIKjnCuLeaEWkPdueb52m0DLyYa5jBgxAhwzxePUtNFckouEVnld7fkF/VdApYAqXwEsSIDkcUugGng2Rjg0kF7mJCDYCulxjuD0b1zHV+zMxYWgRUKIcJFeJ/0w6tP7X9xuPJeVIIBq1Pl4Eb9BIYGqqBP7UjNWP+UgOsbtwUzkiHmyOOk9HVPQRJHV73/PnkKvqF/QIjnUeB92miVqy6ioQCXSSj+MqmlhqJ68H+1ifsG/LyaK/NHJB80SaV5JpxrBV87CO3IPWp/ixL72Of0o/UBlHFBsmF24eag4QW9ARFuMD+2Prb8uRSoikYhjSMcJ7P/zB0wNGYnRYT0xLPIp4azCHYBKaqgGDBiQp25o3ry5aHBo/teggdH7VWEaHdYZCqjsBAPVPuWRQdneFBhaAarT/nPN43ekUwTZ4bYnzBg8H1lvbjHOOTUnBOHe05BBEzrTvFEZPosRMWI+QODadx3RfnORKVyEByPCewZSPv5eeJUTE8jSiusacHb2LoTppyMjIMgEOkYQYZoEl3T9EmSOXYUrr2wSMHXBLxic/0ma4EmgOuY3F9h7yQhtdEjBPiNNElOA09O/R6j/dKQbFgsTO6Yt7/+ibxDih84Bvk0U+QEVIRyvxfUmve1dxwnDfJzVB+XR+lz2XY5M3yCcfX4tzr3yDc74LbRwm25yBuGzHBwbdmzoDES8HAyc4Oy5pvzxGpx4OPYGOIGvBFCjdkmWg9GLYfSoxcZy3ZqGw/oZQtOWbViKOO+ZODJuoZgPDGGXcGjUXLCMHAUqafKn03nCuJaxgKp6+GHzDyLrm9ZvQqP6jW3KJcGEi5zHz1odSTiSziksZZnaLGqYCDw8Js8nVNGpBRdqvizPk9vULLGulrAg91uG0imFSND0QyiZOXOmzbRlXqTJn1ZDZZm+1FAVNLEvrR44jsvyfO22vC7Nzjkfl+VCrZ/WJF17rvwv06AGkO7e5cKy5kINFycsZnwZV55rb6iASjVY+QqyvYJUVKBqkBqOJsnh6Hw2Gt3TjqFFwn4BIXVN3vGEZic5FG2SD6NvRgw6phxFs+QwNDBNmKuFkPz/h6F20j60uXisSBP7Mj8cY9TyTCj6ph5FYEoEnj9zDC8mRuC5M5Hod2I/Ho/fg0eSDuS5j/zzdqtHvcIClbyOdCpBsOX6UHKocJIxMOkwXr2YgA9yUvH+pSSMTYlA1+O70JImgGmH7PZKeCtQdYfuwcro1vMZY8VUgt8vVtAduxiBSj+rkPNQRbcUoBR4tB3GHu6O/5wchzkp/8YnJ17GpDAvjA7vjsDo9jBEtzE6r4hpddvnoSLs0LMUbc7l+y8bGDb2dPvLhkMeK0yogEoBVWHkxu5zrABVYsD8QgMVNTPUUJ0fuwZZr21G8qhgMR7pst4IQgQbmuqlBCxFxoR1uPjSN8Lkj+ZvNK276BeEk/q5iH8xCJe+3IGsGb/g+CurEONnBIDLPjIdE4iYxhjlGJYJULk4ZJEALsKUBDhjuBzZPsFI91+KzIlfIem19Yh7fQ3i3lyLE1NWIWrkXJzwmYmz+sUmIMp7PjVIZ/VLkfl/q5E0ZR3ip65G3GurceL1tUiYug7J41chha7a/Yz50oLcNd+VyB4ajEtDlkDO92SEtWWgBoxxZfzLhuVI9V2M4yMWIv2D7/C/oFDcCDqIzI++w9Hhs5HoO1dozITmTDOxMd3Ds9zTAoNw/pVvkPnCGqT5Mz9BuKIPFs+ToHj2xTVIe3kdzgQa5/kqyORPq6HiGKp77qog6jOOofLQrLnmf55oWKcxdmzjKG5g3ap1aPSQdaiihon1pzWvfLIerV+/PjgJrTV55pxVBCIClDwuz6MHP2pTpJWAPM6QcWQ8ud9yW+5nyPRbtmwp8vHoo4+K0Fqdrz1H/qcZY4sWLcSHMbnPMiTQMX1OEGx5TG5r86f9L49rQ61pItsgTvDLVQuXBaWhPc40Jk6cKFykc9wXy53X015He317/iugKsEdPnsecHHFKSxQSW90BABCStWkA6iSdMDsulsCAY/XzzgCeqGrcXo/ap85iLopYXbPPyUBQ0xW6wSgkulRc1Y/6YBwjd4gcT8eStwPhpycuJ7woEfTOWp7HDNNlOkXGag0WjGWb+2McNRJP4TaSftRL2EfGp/ch6Yn9uKhBCNIOZpPBVS2J9/Vapv8Yh6DIaoVDEcfgz68FXyPtBTb/jFtwNVAb4B2evhjPFeZ/GkbHNYd2m3tf8tjjtYzCqgUUDkqMw7FdzJQSYhh5z6T8ybpg8EJfq/ocwGIY6yu+K8STiLOD+V8U8G44kdNUxByDMHI8VuGCz6LkTJotlhpCnjZsEyY8FlqVASYMD0JVqbQWjzG5bUvDl2Kc15LwHFP57wWiYl3s3lt3yDz/FDyPmTI9HhulvdSnPdaeMt60XupcQzVLSBnvG+Zjhb0JEjd8F2eC1a+dAe/EpcNK5A2ZD5OD5iJ04NmIm3IPBBKZTnK9GRovn/T/V30DgKdd4j44r6CcNVvGS76LBHzWBFAtXkxp+MdjBzvYFz3NY6hsgSqe8sbO/1ldOWEZoogpV3lmKomDZrhl+2cIRPYvHEL6tczmv9J2bSsI+V+baiNU1DnXRtX+5/p2bNtGUfmw9Z+eTy/0PJcy2178ibTt3auPGYZMm5B5WV5jrXt/K6Z3zFraVnuU0ClgMrm1wNLYclv21lARW9/0pECoUIClSV41UwNM0OXiKcBBwkj1sOiaahkPgScaNygy/3Wr3mr5sneeEUFqvyuQ6+KdD0v55qS98Rz7L2fOwWoCmvylwtJEphawBDbAvrYFvCJaW4GI72bAFV+77gzjymgUkDlTHm6JS0XAZW5g28BOJb7qSGxtjKeMNkrAFAkCBQ2tAYV1tIqKJ68L4bWzre1T2qsJFxJTZVMT5aNo+nayq+t/TJ/NsdQXQYsNVTGuaaMzinK6e4WYJVrCqhDw7oNsWM7jeUJVZvzjKmiS3V73apTZovagb9F7lV/1in92cKWqwIqJYBOEcDCAlV+Hf78jhEG8jtu+1jRgMp2uoWHpvzSdCVQ5Xdde48poLJPQ5ULVi3hG9XCIW2U9lz531UaqsI2JI6ep4BKAZWjMuNQfBcBleygu3tIbYy757E482cvUFFDpdOVEeOoaPpXVneXWC0n9K1dvTY2fsNJSEyaKpOjCkeByiGZVn1Vp/RVXVnmCqiUkDpFSIsbqOzt8N8aTwHVrWVSeBhUQOU4UEkoKkqogEoBiSs7BiU+7TscqOyFFYJXQdode9Ny53iOABVN/QhTDPkePNW2E75ZuxFfr9mATes3Y/M3m7Fq2Wrs2rlbAJU1qLLl/c+Z71Vp0G6VhnvQPlMFVAqoXAJUg87FOuTlz5md/PzSkm7Ti+rlL79rOPOY0lDdvo6zU5xSODAuyhHAUkB1++RC24Cq/276HBRQKQ2V1rmFrTFUJpM/7Riqnl16o3P7ribNlA6Pt2yHzJTzRniiV0LT8ufvf+LG1Rv49cZvuPnrTcydPQ+VK+U6klB1g5vWDS7s8yugcmHh3kkvlFZD1XPtIpQcoNojnEYYNS2F19Q4E6K0aeUCVQLaJB9BsySjd0FtnNv535aGqmsp8fLXqavRPa3vzEJ6+VNAZfWDjTL5u/M6G8XaHiqgUkBVAFDtCpgGZANJMadR1uMuUU/1e+ZZnIg+hb079+PB+6qa666P3/9MYNTKpWvQvk0HtG/bAR3bd8ST7Z4EXYfT0xznh6IXPinnpU37Iu9LhbbrbgVUCqjMFUBRXhQFVK6BMUugappsvA4dSNxOkJLXLu1A1bGIE/s6onVyJK7SUNlu1IpSj6lzS0m5KqBSQFUAUImJfbONE/vyve/asStORJ8U4PT3b4DPIIO5b9TlqW64eukGQveF4767cqHJsr4gRCmQKiV1SCHYQAFVIQrN8iVS2zoooHIN4Cigun2Vs9Hkr4NoVPWzCjexryOQ5EhcBVS3Ty5UfV8Cyl4BlQIqe4DqApASfRp6Lz2STyYJmKLXP06+/O26TSYHFTqU1ZUTY6cYwTDUzwxa1uoCBVQloH5wUb9fAZWLCtbai1aa9xmBagB0d3uAJn8Dz8UKDUqNdNeAhtSQOBpyDFW95BC0vRhhmti3ZJn8KQ1V8VXWCqhcV9bK5M962XpwYknNyu3S3G647N4UUCmgsgeo0gBcBzLjUwVMha/7AZ+PegVZ0WeQlX4RzRrnTr7rrw8E/gKWLV2BMp5GE0FL738uk2dVD5SIelABlRJUpwgqG/7+AwZAV94DvdYuwuBzMWJsUvX0MNRO43pITNwr5zoybnN/qOm4DC3jGSf8Lfp5RrCrlw9Q5V7D8prcZr60+S0onzINx86zBETHNVScQJgTCcsJhWVY0MTChTuvtJv8qTFUrunQK6CyXq4eHp6a+pj/PTTb1s9RnTgr5ZIHqLxw8pNvkBgwH5cMQQI0rvksV8ChAQ539tDnjLxZ9fLHMVSJfwmQ4k/i+p1Y5vcyFvcfix2fLgJu/IXPPvzU/P7dXe5uhOzZj5u//om2bdqZ96v3z8r7d4f2qxVQ3aEP3tmVAIGq37P9BVD1XbsYQ0xAVS3DFlBJ4Ci+kLBSP/2Q0FC1y4pCt+zjaJS4TwBILQFL1sCv+PJnbVzUQ2mH0SQ5HF1zTqNdyjHhlIL3IeNqJ+AV+zg/l41VnsPz5YTJ5rRsnGNOyzRmS3s947lGEGucGor+l+OgG/IMdJUrQTmlcK079ZJu8le+fHn07t0bZcuWVR2TPG1QOTz0SDvcXbmemAtH53kXPD094emhwMqhNssSqD7egMSAhbhkME5Qq4DKsYl6nQE1tzMNuofnesN3FXK8VyJ6wEyEBMwEUgD8CiQt2451Xi9h/TPPYcuAifi830hcP52JpLgE1KpRy1xHvfX6WwLAZkyfCU9PVXc59E7mqedKJ4QpoLoDHnJxCL0ZqMrp4LMuCP936RQ6nTuGducj0OFc5G1fnzLlofP5SHROP4wBWTHQX4lH15QwdD57DJ3ORaDTuUjz2tEN8sz8dDkbia5px6C/egbPpkWiW+oRkUfmrzD5ddZ58tp8tvzf42wExl5LNAFVRXTp2dPcCBWH/LniGsrkz3WNntRQERZc8exKWppG0z6Wxd1o03cUnv2/j6Cr3R463b3QcV4cD3belMbK7ueqAapxPbxw6uNvcNp/LrL8gpDjS5hQGqrbCTjFfe1cDdVKZPssR/zA2YgJXABEA7+vPYrvvd/FtmcmI2TA2zgU8CGmtOqHbUHrgZvAiy+MN9dRlSs+iOTEVJzNvIA6dfjRw3V1pEq75JWtAir1QjitUug/YBB0990L3aONoev6BHTd21hZH4euW1vouvM4Q7nK7cetnKNNh8e159t7nimNbm2ge+oRlBnphaqTRkHX/hHoujNN09rjceisrm2h69HOysr91s6xFV+mYes8i7SYr57t8NDbk4zX7traxvXkebauW9D1CnveE7ll0rM9dFUrolL9euhaCoCqevXq6NCZnVodDLPd1ynFayf8oHtSh2pNqqDlYy1FfotjYsmiNPgKqPJ2FjhuysOjDHS6+1Gnxxg8/fpqNJ+0HGUep6cxehW7GzoPTjRKqFJgVaDsWQBVwmcbkDBiPrJGLMPlgGBc9g8WYXZAMHLUWmrLgM9XPO9AUxhgfP7n/JcgY/hSXH19Cw4M/RxH9TMQq5+FhMC5SJ+0EpMf7ocJXiPwz69/Yf/eg2KiX8rcXZ53Y9P6TcA/wGuTX3Na36lAeVb91BJR1nXr1kW3bt3cOa95Gx4leO5bHv37D4CujBys6b75pAzd07A+aj/+mDsLfp68tepdcjQ+NWvXRvfu3fPkvyS+t9RQPdnRaCs/dHpXTD3pC79jbeEb1QLeUY/AJ7K5+M+wuFd5/RFRT+G14wbo2uhQqUFFNHvk4RJR7vSEpUz+cuvIXKCqiFo9XsDDL6/FAxM3oPHk9Xiw90To7qoLnY5aqrICvNwdmN3pfR/ZYwh++ddCbPd5Dwf0nyDU91OE+XyKUO9PEOb9iQj5X62lvwzk8w7z/RQhXh9hj9d/sXPwh9g5+L/4edAH2Dv0Ixwc9SVGPdQNgzv0wfbNPyLr/GWMGj4GA/oMwM4fdprHXK1ZuaZE1LXu9C6W9rxUq1YNXbt2dWe5yG10SvvDKOn3N3iwF+rWrY/Klauix/VOiQAAIABJREFUyoPVjGuVqqhSpYrbrJUrV0aFChXQoUMH9O3bF/fcc4/IW9WqVeFW64NVUL1KVVSrWhU1a9aEwWAAX9ZKlSq5TVlaPleW7f0V7kObx1qj9zO93LlSsStvLO9n+vaE7m4dRiwYiH8njcJzcV0xOr49RsQ/gRHx7Zy2Do9vh2Hx7cDQnnSHx7cV8Z4/0R3/Oj0KD/TxQJMnGqHj052EfFetWs295FnzflGG69WrhwF0YqO+vIoysASqpq+sQ7kJm3DvpI1oOPVrNAj8ALpqraDTlReaKs88zitUG5mfHPXr1BNej3VF13saos/9D5vWR9D7vmZqvcPLoNe9TdHrnibofU8TY3hvE/Ss2BQt76uDXh2644Wx/4e/bkK4UZcklX0pG5s3bsHY0c+hWpVqYLvnVn0HTV2r8lV8/br7778frVq1Qk/3ts5RjUV+jYU7HRs2bASGDPFGr2f6oHdvrr3dcuUXhDFjxuCll15C586d0atXr9u+9umTt7z69OqNvr16gyGP/fvdd0XIl9Ud8qvNA/P0jKkMu3frhtEjR2LQgIElvrNMYBw9bhRadHkYb20ej+kXpuCNND2mZAzC1LOD8VqmF6ZkDBEr/1tb5XHLcHLGEEzOHIIpZ72srlO535S2tXBy5mBx/M10f0w7PxVPTnwUg4YPwHMvjBMmB3379BXyQtlxt5Wy4+3tjcDAwBIvI86qf3OB6n7U6jEOTV9Zg7ITN0E36TuUm7ABdSZvQJP/WwhdU36ouBs6z/LCWYVx7JVqI/N7Dr169sKYgJHo06E7BjzdCwO79saArr3xrFrv2DLg86ccDOrSG4Oe7mVeB3bpI8qkd9dnMG7MOPh665Fw8rRgqVPxp7B44RIE+AXgyXZPio+ysm51176Oylfx9UFplTNixAj069fPnds11Vjk11i40zFqfErKpHaNGjVC27Zt3Vnw8+SNnVB3etb55YVjj9xc7W1XWdLk74mnjDIy9POeeDtuJEYd7obhRzpi2JEOIuT/vGsnDD/SGSMOd8bIw50x4gi3LeMUfTvw6FMIPNoRY489g7ePj4LuMR0q1rsPjZo2tuve8nt+xXWMMq28/BnbNy1Q1ekxDs1eXgvP8Zuhm7QNHi99h3KTvkO1yVvR4tU1qNBhGHRlq5vM/zieSie8AJaUure45Etehx/N+C7LbRWqPpU9MiDN1gklEyZMwCOP5M5JZc/5Ks6dJ2fUCHbp0sWd65o776GU1Bexf//+woSuJOS/efPm6NSpkzsLvjlvd911lzCPKimdz/r166NHjx7m/JcEebCWR4Jhxy5PifvQz+qFNxICMTyqE/yiH4churUI+V+7+kc9jgA7VsbjeY7GN18rpg38Y9piVEwXvHFyGHTtlVMKa8+wpOzLBSrjGCqa/Emg0k3cCs9J21D+5e2476XvUe/Vzag+6G3o7nnIOK7KswzKeHqWmI9Zxf1M2MFp2LCheI8VdKr+lD3yx7aWmgYOD7CMr2RIyZClTMht5ZRC2fDfUmFI4XA0VEDlmoqmXLlyCqhuw3uaF6jo5c8fwyLbwy+6NfQxNuaZin4Meh5naCuOZr8huiX8xNpKpMu0jSu3W4LHraXjyzSiW2NkzNN4PT5QePmr3rgaWj3GcTY6uLvTAuXlL29dURBQ6SZ+D8+JW1Fm4vcoP34LGry6EY1GfAldTXqhpLMKulYvA2UCmLdc+S5QWy6BytE2TcW/tTzvhDIhUNHihvPl3Qn3q+7ROXKugOo2dNRKq/AqoHLOS2kpHyVRQ+XmAzPtaiSN81BJDZURqAIjnxSAIyfWtQY7xbFPXn9UTEe8Ge9vcpteDS0fM3quVEDlmnfR8t101rY9QEVNlQSrci9uQa3J36P5xGCUaUnnHvdApysDD+Ws4pZ3mxqqBg0a3LLfWc9OpVOy3jV7npcEKra99sRXcUqfDBTmmdLZknKbrqDKKZWGAirXVCoKqFxTrgVVmCUPqNQ8VAU9U3c9bi9QedD8j5qqST+g7IStqPzSJjwydT0q93wBunI1zV4AdToPp9Tp7lpejuRLAdXtqT8deUbuFlcBlZKZwsikAioFU05reBVQuaYSUkDlmnItqMJUQOW6clcmf3nL1lGg8jCZAJabtBUVJm1C09e/RcNhH0L3YHMjVHlyEmCafua9TkEyXxqPK6BSMuCoXCugUjLjqMwwvjL5Uw2OAio3lwEFVLencldA5bpyV0CVt2wdByqa/22Fx0s/oMykbbhr/LeoM/lbPPz8HOgacGLJu6HTeYLpirTdvI4rTOfF3nMUUOWVNXvL7U6Op4BKyUxh5F8B1R3c0BRGYPI7R2moXFMJKaByTbnmJ8s8poDKdeWugCpv2doLVMZxVEaYkmOqGNIMsPyETaj16kY88vIK3NNOD52ukoAqyvKdrKlSQJVX1gqq99RxnZjOgU4p2Paq8lDyY68MKKBSQOW0CkMBlWsqHgVUrinXgipJBVSuK3cFVHnLtvBAJeHK6AWQJoAVX9qIRyevRd0Br0J3r8kZg0cZp9XzBb037nZcAVVeWXO35+OO+VEaKiUzhZFLBVQKqJzW0Cqgck0lpIDKNeVaUIWpgMp15a6AKm/Z5gLV/ajVYxyavpI7sa9WE3WrhioXqGS8shO34IGJ3+LRqd+i+chPoav1hMkE8M6EKgVUeWWtoHpPHVcaKiUDhXtnFFApoHIaUA0YMEBN7OsCeSqJQFX6JvYtCW7TlZe/29ER4ESfnh4eKGMKreeBXvc8raxGb3wEKuN5FYoEVB4TvwOB6p5J3+O+CZtR86UNaPRiMHQtB2tcq3vcUSaAah4qKVsqtP5u3louSkN1a5nYW3Z3cjwFVOaGTAlQUV8EBVSukSEFVK4p14LknRP7duraQXR0fWf2FBP7uvc8VAqoCnqm7n/cEw92G40mr34Fz/HfQTfxB+F8wrZmSmqojKF0q+458XvhVr3M+O9QYeIWNHnlKzzQ7QXoytC1elnjJMAed4ZrdQVUt6f+dP93zXa5KKCyXTYl+bm6Ou/KbboCKqdpqJTJn2sqIQVUrinXgipX60DVHvro1vCNaSkm+C2OSXytXcP6xL4KqAp6pq44fte9lfBQm66o2roXHmzTV6yV2/RFJdNa+fF+4Hbl1r01ax/T/16o3PoZVGnTS8T3bD0ENXw/QK2XvjYB1TaHgOpW8DKOrbp3wmY0mroF9Xzfh67iw9Dp6Fbd6AXQFWXiTmkqoLo99ac7yYCjeVFApWTGUZlhfKWhUkClgMrNZUAB1e2p3BVQua7cS/oYKq3XvPI1m6Df63PRYsoqNJu6Hk2nfIUmXF9bj8ZTvrJrbTJlnYjXYOq3qPryBpQbvxG6iYSpogMVIYvzVpWbsAX1J29Bs+fmm1yr04PZXSijKyNcqxemA1ESzlFA5br3uCQ8/8LkUQGVkpnCyM0dCVS0ebdWWLb2W4tbGvZ5etKm/9YXp7DlUFSTv8Je19o9FLSvefPm6NSpk9X7L+hc7XFbZaiNU9T/zgSqgsq4oOP23Ev9+vVRWsZQ3Wry55iGyhDdEn7RLeEf1Ro+h1tAf6wl/GPawBDdqkgaLldoqOx59vbEsUdGLIHKWenac21nxNECla5GM7SeNB/3TtwowEVoiSZ9X0TNUl5Tvls1Tw4eN+WnzPgtqDn5e7R+ZTXuf8IAna6KMAHMHd9lvW10RpndrjScDVQFyaqjxy3jW247Um72nMs42njyvwx5Pe1/R65flLi8pva62v8yXct92m3+127LcwoTFhWoCsqH5XFr29b28V5s7S/MfVpLzzId9nGsXdNyn+V51tK25xxr6ch9BZ3P49o42v/W8iPTdVZYaoDKsmNrWZCywOT+8uXL46233sL69evx5ZdfomHDhkXuXMtrFDaUeZPnW27L/c4MW7RogXfeeQcvvfQSRo0ahSpV2MDeCllynzZPY8eOBTvP8lhRgYrpUCBfe+01kacPPvgA//nPf/DCCy+gTZs25uto8yCv7WjoLKDidVu2bIm3334b7777Lt5//32R548++kjcxz333GPOt6N5lPGdCVRMc9CgQaJ8WbbvvfeeyPe0adPQrVu3IueV6SugymsOaIhqhbGRXTAtewLeTPTF8PAOGBb1pMl0sHBg5Qqg4rPr1asXJk6caFUO5HvHDirjyG0pp46ElkDFc/mO+/n5Wb22I2kXR1xrQHXP+A1uDFRGAPOcuA13T9iGqhM34dFX1qNO/8nQ3VUXOl0Z6DzKwcPD+ke24ihTV13D2UDFfPKDEev6jz/+GKzrWZfq9XpUrFjRLL/aPgn3s42tWZNj2Iztq/b9YRsyefJk3H///ebjMp6j4QMPPIBJkyaB7ecnn3wi1s8++wzTp09H48aNzek3adJEtK3afPTr1w/jxo0zx3H02gXFDwgIwIcffmguN5Yd+19PPfWU+ZqdO3cG42nTGjlyJAYOHJhnnzw+ZMgQ8LjcdkZYVKBiHvr06YN//etfQj74HNg/8Pb2zldGWK/SMkLeA+Vi6tSp4DPlPvms2F+dN2+eaMtl3KKELEPKMPNJmeY6a9Ys+Pj4mPPCa7/44oto2rSpeV+dOnXEPUq5lvnT5rVy5cqif9SggWkKh3z6l/bcA9sI9lvku0cZmjlzJig38nzK0/Dhw83b2vxUqlRJ3OfRo0dx6tQpbNmyBZR7ea72HuQ+e8NSA1S8YQrf5s2b83TybRXEjz/+CC6HDh1CdnY2OImbrbjFuZ+Aw3soLsBjRfTnn3/ijz/+EOXRrl07m+WgFbQFCxaI+FqgcsYYKnb2ufz222/iuVy/fl1s8+fIkSPmBkmbl8I8H2cCFWGKS1ZWFs6fP48LFy7g2rVriIqKckoD6WygYjnK/Obk5ODKlStimw1+YcrS8hwFVFqgagX/yLZ4+dhQRGAHll/5GKP2dsPoiM7wi25daC2Vq4Bq5cqVQhZkA2PtPeO7+fvvv5sbd8vnb8+2NaBq3769uDY/qNiTxu2MU/KAaht0k4wmhJwE+K4J3+GBiZvw8JSNaBz4GXRVHzdpqoxjq/LcXxE7QLfzOfHargCqjRs3Clll/cn+w6+//iq2+cMOnrxndsz5/7777sM///wjPhhym/u17xY7zVyc0elk2yaX9PR00SYxn2xLteDCPg/bK5lXhuwX8V60+5z5PyMjQ2SNZcY8ceWiBSKW38GDB/Pk4fTp0yIe+3iW+dm7d+8t92EZx9FtZwDVTz/9JPIsZYT1plwIuzJPUg4qVKgg+mK1a9c2H3v11VfFKc2aNTPvIxRzuXHjBgjFMp2ihDExMSLNc+fO4eLFi6IP8/fff+Pzzz/Pk/6lS5fyWPbwIyyXr7/+Ok88bV4WL14s4hAwtfsL+z8lJUWkx/4W+y6y/6L9EPDGG2/g2LFj5uvJMn788cfFufzZs2cP+B6zv8Zl7dq1t8R3NI+lyikFYYBLo0aNzAXDAmFhygLlNl8WLqzEtAWm/aKk3W/53954PE97Xct0rG3bew/WzuU+5s0yf8yDtX2ML/MnXwx2amylLffz6xcXGVem4QwNFdPgogW7qlWrgtowLnzJtV9wZJ4cDZ0JVNTwceGXGEfzYU98ZwNVZGSkqEx4bcqFfH725MWeOKUJqDp2MX45Ncx6Bm8m+GNYpKMmf60QENEOU474IQq7sPriNLywuw+eO9YNftGPQx/jXhoqfi3mwi932mctZYRfXLkcP348z3FtXHv+WwMqnscvolzk12jLesuetIsjTh7gECZ/83DPhG9AL3tG8zw3M/kz58uYPzGmauI2VJiwGfVe3YzmLy6B58PPQqe7zwRWpcf0j0DlDFDRytX333+P+Pj4PO8AO7rr1q0T8rtmzRpxjHNgsRM6d+5cnDlzRmgVCDGDB9ONfa4lyIQJE8R52g+U2uP8L99By/+W8fhRlovlNWQ8Wubw/Q4KChIf/ZYsWYLU1FTQamfZsmUg9Mi49oT25otpscO+YsUKq+nzY054eDi++eYbhIaGgmUswWrnzp3inhITE83nyut+9913OHHihHm/PXkuKI4zgIpwGhcXZ84X8/vII4+IjjtvhmXNfLDvRZnQygiBs23btkLrybgSnKgd4sJyZB3K82U5WN6Trf2W8bhNedi2bZs5r9o4hDnKBMGI4MUwMzMTBoNBaDxFhgCRX56nva7ML+PwPdSmq/2vPUe739r/pKQkmwA3f/58xMbGiveQMkTQk8+gWrVqIqu8F/7Xpi0/ilPrp93v6P9SA1S+vr7iRWWJUVX55ptv4pVXXkG5cvziZqy42BGfMmUKaN7EhZXe+PHjwa8ABZm6yTRk+OijjwoTOYYbNmzAsGHDxHV4bX5hsRQQVnL8KkH14tKlS9Ghg9Eds0yPIQV01apVIm9Mh5TNvLFDzePsXIwZMwatW7cW9ydfSKqRqdWSLx3jEkhYSctzuY8VPsuEKk9ua/PYsWNHcd0nnuAkkLkVveV/TnbKRfuFRcZxJlBZ+xIlX05WVJb5l3mwN3QmUMlOJr9C2nt9R+I5G6ioOWMD5UgeHInLSqU0jKEyTuxrfE8NM3vjzYRADIt8yiEvfxwr5X/sCQ1QfYEX9vTCc8e6uKWGas6cOeL95o+l6R8/bEiNMYFKW384Ih+MawuoeIxfCvk1V3YYHE27OOKXBqCipkq4Vx+/GQ++tBEPT/4KD3R9DroyNczjqvLcZz7tQnGUeWGv4YqJfa0BlcwfTdq49O7dW9SxNJNip44LNUb8IClNpOQ59gAV47LtLqidkUBFixGZvjZk28cOpHyXDxw4IDrujMN3j3nUxrfnP/NkzwdFgkNwcLDV9Kk909Y/7FfRBJnXpyURPwRyWbhwYZ7zXQlUhEx77t9aHGqobH14ouaHS8+ePQXIclgDYZELNTDsp7F+ZX+PC4cO8KOAPC6vV1AdzDrUnufCjwO2gIrmqjSzI+xyuXr1qjDzY7pSAcD9BBiZLxkyTS60gurevfstx2U8hrxHe/LK8uFQHe258j/zM2PGDHFN/lA22C/lcWl9Ifu/8hwZ8sMCF/bp5T5Hw1IDVFTdyQqCFQIJOiIiIs9Esywo0i3pnup3qvr4cBISEvLYFttTiLTx5cL0qHJkeqyYmDYXrf0mK1YuFNqtW7cKcxluE2K01yIUUY3LRarqKcSyY8GXh/fFhdflwoqGLy0Xqr5lerQv5aK1yeZLwYUVrownQwo7F61mSB5jKF9cghQXadOrjeMMkz+pobIFdqxMubBzp722o/+dCVRSQ2VtvJQsN0fzp43vCqCSUKq9Dv87I7+lRUPlLKCihuq1owFCQ7Xq4hcYt6cXxka4J1Cxs0PgZseGUKP9IMMvy+wY0l6d9VBRZMUaUMn0WE9zkR+pLGXUHbbzgEaJ1FARpoze/4xONLaizKTNqDv1W1QZ+m/o7qUpURkTWOlK9ETArgIqSy2ulEvKNi0p2J5zH0252Ebz3aEmSFpYSHlnHAlU7JDJdKyFrLc51sXaMbkvP6CS16R1CfsqvAdtv4HaocIAFdtAbToyL5Yh+1wcLmC5X24///zzwuSM2jxqQuR+aqCowWGdwEU7XsaVQKWt/2Re7A3zAyqCGhdqNJke+2k0a+R9sk8qP/BTLjgcg+ZyrI/5vKSSQD7L/PJDhQFN/POLw2P5AZU8NywsTFyfckPTOe7nh1Oaf3P8HxdpKs5jfO+4UInBOAWZ/BEi7clrWlqagCOZL8uQMkIzS5bj6tWrRT5Z3jdv3jRvW57DbfYJuVCJYe24PftKDVDxZuUDZMHkd/NSy6KFHnuEU5uml5eXKHw5iJAbkvD5AkjtEc8RHTMNPPHl4UIIlGnK69PzHBdr0MM4VAVTUHieVIPz6xC1Ylwk6HAAJBft1yxpTmONwPlicLEFVDKfvPa+ffvM+Zb7GToTqKju1qYty0eOsSoon9pzrf13JlDJyoSNJRsClhHHUFHDaO3aju5zNlAR/PkRgFpQAio70Wys7Pk6ZE/eFVDljqGSGqqSAlSst9hoyzqKX9v5zGmqwoVfjKn9Z4Ml30l7ZMIyjjWg0sahWcbu3bud8v5o03XW/9IIVLpJW1Bm4kbUmLoFDcbMgK5xN+g8ORjeUwGVhXaOGipbQEUZCwkJMR8nAMnxHBy3YQ0obAGVpckr0+HHUq0cW76H8l2lJoEfXtkB5Yfa7du3m89jPvjRhOmwTyE/XtBEyh6gsrwmnQRYlodlHF6LH6/5MYbtDTUCtMihswxCAu+Vx9gvI3SyEy77KgQNCR/UhLCPJcuAH6nd0eQvP6Bi3rUyQmcQ/JDF/Xw2/GjF/xxbJhf2LeQ9WytbHrPcz/6p5Tg5yzg8jzDMhc+eK8GX4CQthahB47NhXH5Yk7JEMz4utB7i/WqvxWdNiyw6auBiCVSW+eDYWUtzU0v55/Vp0sc8Un5p7UXNE/syEn4p8xwPzn43xwNyCBDliQsdr1krJ+4jdLFds6VBZZyC1lIFVFLLIoXA1s3TMwkX7UBIW3Ft7ZcaKn5JkJ0Pmh0yPoXClkpSpkfapwZNbstQCmirVq1uOUYBZCXz6aefimO7du0CPZXwXH4F4CK/bLCC42IvUMmyyw9U5FcV2l7L/GpDZ5r8WQKVvA4H0nKxZjIp49gTOhOo5IBiNhCsCGmHy46pLRt2e/KnjeNsoJIgzi9irKRZCfILqvxyqr12Yf4roCq5QMXGhA0pn7v8KMN6h1+BpS06O0CuBio28OwIFkb+iuOc0gJUNPkzmv59B8+JW+Ax8TuUm7AJLd/ZikeGfQDd3cYB8nnu146ORXE8A3uvUdwaKuaLnWLZAeZ4HLad3M+6XFoyaDuUEqi0Y73kcZrqs0M7YsQI8bGOHVdam7D/ItPSloXU8FKbxY462yS22fwQIuOxXyDT53/ZGbUXqJgOTcGYJ3o3JGCyw00wo0mjdviBvCZDafpIAGKHm3UNx0lJMyz2pWR87X/Gpwkgj8n+FkGK2+y0uytQyTpT3pM2ZB0nZYTPUVoiES6p1WRcOXacH2u58IOyNg1r//ksCaV8FoRQjuGj6eD/s3cdYFIUW7d3SSKiIIIoqA9QnwpIfJjIksOCsIFdFlBylAwq+gxPfWLO8ZnDb0JylqgkYQmLgkRBQKLkjHD+7/TsXYp28s7szuze+r6Z6q6u1Ldu3apT91Y1tX/u5pXMg5ZOPIyCp0ES7BL0cz8S58p8bvIt+VnqJ/NGKgBoxkrH/a9ilUVLIgIaOhNQCe/xnclDKSkptoKB40q3bt1sja0nxQgXFWgRRgDPOQzBFTVbsiBs8o1ci9ZWFg6kfJN+BG+klQB385m/17kKUNEelc5kGneE40vTCVr1l1hmPAFUZDiCGDoyBeMQUDkbhQzGDsTGZyeic7cCK5oi85hwKZfvQrUvN44zjOkFlFEbQjMDJ6ASxmd8bxoq6RjeAJVs6vO0cS87AJWYMnL1QegSjB9KQCV7qNzVwx3/uYvnLYzCjLSlIPMWz99ntEWfMWNGSPJyV6YCKneAiodSzMQne0ZHvMmfrESybSnLCGzoODFlGAfccAMqTpK4ch4qnnfHp1kJuwBgRKHJ3/nvWp0/PCOm71hcNGAcrh42HkVaj4JVhCeLcV+oaqicvOJLQ0WNEIGPmc7Jy+bYwH1WdO4AFa1h2N84qaZmhtYPnEdwz42704C5oEzHMd0sX67Ncs1rPg8EUFHOcyGO8oHaMJpUsY58d5m4Spnic/HO3YIs6+Gsi6ShT8D0zTffZL4P943TcQGak3/nASFm2mCu2VZcvBUgHEwevjRUXBynnDPzdmpkaLJHRy0PQTqdL8sqgggCOQIk8g15hlobtpGnk3wJbk2LKU91craRHGYmC9w00+QclZohao+YD+eUdCagkvw5X+VBF+QL1pVzWPIQ05un9kl8+rQAMk/kM5856yfPCOzoPM1dGY/8TMf9hZIuUD9XASoBI740VKEAVLIfiYxOZEwnjE4BYwIq2VhIFE00zlNTuCoj2iWz0eQdTFAoz8ksZFZuumMYAZWoiakuJWr3BqjEXE7U6JIvfX8AFYUMHdX0Zlq5DqfJH8uQTkHBwntPnUfq480PJaCSPVSyQuKt3GCehRpQkWcUUPlW39umunWyfiiFaw+VC1B9vHu065S/ZXWRvLJa0B/4Ddex6dRQmYCKB+XQmYMtzSvCDagoH2X1Npg+E+40ngCVS9vDk/TOA5Xz4EVOAIwcn6f92Xup+oxHkQETcO3ALxFzJ79DxG/h5IcVw31UuofKyU/eABX3gtDJN3w4TpljFVfy5SRiCRezcedhFc5yOYeQBVW7XRx5M0xW44OxkAgEUJl1oybMqSWSdzPjceJsboeQZ+7iyjP6TkDFMNaV4I3WPtxrbsbP6rUAKo69weZFQOVJQ8UFcDpfGicBVKLBY/vTyVzTV924H4gAxYznjtYEpJ72VZtpndcCqOTEZ2raxMl8yBugMvMjkHHW1Xwu1wRUvizAJK7pc85DZ2p1TVrICbdyRL35zMzH23WuAlSioaKK3HxpJ+r3B1A50zA/k8DeABVXj0xARXtUJ3jiZIFqVrOevOYeBTp3KnOWT+TuD6AScx3zPWhPS+cNUJnlmu8r9aSKVezBnc9DCahoBy5l0ifQJJj0RBszrj/XoQRUoqHyJHyddPKnfmaccAAqmouaZYTyOtwaKic9nfehepfQAKpKSF5eHUOXuY5N/+yPF9Fnaiv0XdAc9y6ujY4/1ULKin+hQzqPUD+v2fJ1LYCqc/odGL62A6x/WSh5fQlUutX1nZYYK7hjr52AivKDg75pDkrb9XADKppeiJ1+qNozlPlEL6ByAT2a9tHEr0D/Cbio33hcOXQyruz5Iazr+fHUy2FZFyMmJl9U752S9g6HyR/3Szsny9y/THN8OnNy6pRPXMWnE1DFelJDQLAhdfbkczIpK/+e4oiGSk4ZdMZz1sd8zkMpPE0mn9pPAAAgAElEQVRqvaWjTOB3gcy83F3zHd0tyHrLm/mYgEriUnvExR+6UJ9aGwpANX36dFv7YtKBIINmdXRO7ZQZT64FUJnzMs4b6UwLK6GJpBOfWz+oOZR7Tz7N57hI4O65p7wZVxbiBVAxjNoq895fQMW+Q62duzqYYdS2mdpK85m3a24joSMAd8ajRpXOHdh3xvV2n6sAFbU6dLQZpm0mJwJy7KZJBFHtiUrRE8OQiSkk3AkArhDQUUMlJn/C4DRVMVd0uYmSjkxGUz6a6dHJNxbMuvFIdDq+AwUG1f0EE4zDetKJ2tLc1Cjn6Mv5+qIS50oIJ+SiRWF6d7apohmj6QFP2DMnUGb9ZL+Qu1P2QgGo+MVuOgpeDljsPAKkKDxF++ipzcy6ersOJaCS/Wo0wWCdKfw5QPLanUmGt3q5exZqQEUzLtFsuisvq2HhBlSsH81rOekO5we5LwRUjYL6DlVCekUkLr8Vg5ffg3RMx3r8gBWYiqWYiAX4FrPxCR7Z0hkdlvwLielVEe8nqPIEqCpnAKrYIAEVTyaj88YDcvysuVjjLb67Z+4OpZA+TflDJ9+icpc+p8OcgOrW/m+gcJ9vQY2P69S8SNVQna8XAVWRAeNQbsRklEx+Htbl/OYaP6nB/T6xXnkgp+kfSPk0CwuFHDbL5OSTjjKfYxT3AokzTdrc9RHWhaZNdPx0i5jUci8Sy5B+YJYn1xzHObbLvTtfABVPPeYYxDryR5MvLgS7SyNh1PrQceGU7yUHLMkBFhLP6VMb99hjj3nNm2nouB/Tmd7XPWW9uUVCaCSHeHG89ZVHIM8JqHhiXVZM/lhfOtKRP85pxJkHH8i7uKufzLd46IP5nKCATg4NMp+Z1xwfqT00w9xdc85CR00V254/0pyynvE91ZFmfHRy6qK7eNJGvjSmlPdyPoC7OkoY+TrYBWGZt7PO7Kf8hJIcx+9tEUTK9uXnKkDFlxWBYLcyYAMJJxEIgjhJ96U2lYGddsLOPHgABU3sxOSP17KHisJLGJHpqIKXI91ZL26uZIdiPGe+vPf0DhTOBGtc4WA8CnXRctFkgLbVYvLH56LiZJl8B3Y+pheVplk2vwFBW1u+B50nwStmf/LhQjOPUAAqaqa4GZKrcASyPFGGAoF7iKQsd51WnvnrhxJQccBmfdlBWV+ucrDuvPcETP2tJ+OFGlBRSBM4B1KHQOJmB6ASk4lgVP/+vos7QJW6olZg34/id6hWVEGvtIZ4e99IfHPkBUw8+jbGH3kb3x57HZ+fet7WMHVcekdA37cKF6Di3lBqt73RiIs8/HyCu8mit3TmMyegMvs0ZRoHdDN+pF1HPaDqOw6XDByP64d/h4ubDIVVkMekXwor9uJcBabIN+EAVDSF5RguPx5IRFM/0zrG5GnhXwnj3muOFZzIcnIoi6YSz50vafnMW9/joionphx/WD/6HJOofZJ9kO7yZxgXNPkujC/vxnQ80MBTGrMuZh3dxadsIe3cPfMWxgM1PB0iRi0Otzx4Sx/oMwFUHHsDTSvxOb+UU3TZ1tzr5Tyww6SdpDN9flqHFkkyr5P4PLiC4WxbWUQ30/Fa4kq4t7ahcoFzGGe7c14p6d35VDpwTy3nwe6eM4zzASoB3M07JY2zbs57iUefFkGe9uiZ8Txdc47JeQMXlqkwoRmlKEM8pfE3PNcAKrMBqNqjupsv544QjEuBZtpSuovHMIIqd/lwQnD11Vfbm6bZ+chQkh8nYmLzKvXiRkGuFsjpdUzDfOU5yzKvqc0i+jcZlc9pY83TdRif6mPpTDyph/VhJzI7ElcHTGHNMlm2833ZQUkTborloGCeDihxpX58DzruB5Nn9LMKqCR/M0/ntT9xnGnc3YcKUPlTH3/iuKujhIUKULEeZl3MaykrFH52ACqa19D8lcAqFHV2l0eoAFXSqipIWV4NHRZUQcr86kidVwup825HyvzbkfRDLaQsuwPJq2rZgCohvbJfpn/uAFUJw+QvGA2VP/xgyhZ3NPM3zAmoJJ2YKosW3Z86Sdrs9KMPUInmjN+fGofig8bjmv6fw6qaDMsqCcsqAis/NVPBmYpmJ+0DLSvUgCqrPOktvbdn/ry3P+k99WFfaT2lC6Zevsoy8zTjequDGc9MH8x1VgGVP3XxFcf5rhJffPO93IWZz71dB5vWmc55zzKdYc57b/Xy9SzQvPyJ708cb/Xi/Jr7yrzFyeFnvjePe6tgVgkkefubj7t47sIk32D9cOTprIu3MuSYdnOvU1YBlbP8cN6HClCFs46Sd6gAleQXbj87ABVX+uSjfXwfb7wa7PuGBFBlmvAJUKqIhPRbjB/vuXdKnvu3jyocgCpYOgWTzh2gErNjMWkKR5sGU1d3aS4AVKVuQrWB79rmc/kGTkX+gVOQb+AU2+d1gUFT7fvYgVMQM3AK6Mtz+ryPtdNNQ8FB05Cv/yTE9Av1wRUTEdOXR6KPR+lhU3DNfa/DKlvXZeIXUwCxMbkPSEm7hRJQRTJPyvvSD1U9Q5WPWbdQX4ejjlkFVKF+R80vazggu+iX6wFVdhEyL5bDgUo0ZHx/BVTh6fQKqP5OV9O2PRwDKvk5tIDKP6Dk6zAKeZ4bARUHI3MzcyTLVBNQ5buiPOr0eRbler2Dq3q/j9K9/4fSvd/H1X3kmvcX/q7KuL+y9//AH+OX7v0Bruz9CUr0/j9c3OcbW5N0/oTA83ufzof5A7pc6bi3q/CASbhu+CRc2vY/sIryO4cXw4q5KNccPuGJX0IJqDyVoeF/l9HRTBMFVLmrPbOLFxVQRdlHCrOLMbyV45zAyr0CqvAIoWgEVDxx0xsPRcMzBVTh4We2vVND5TRviQb+cNUxH6x8RWBdfDWsS8rDuvR6WEXL+/ErlxGnAqyikuZ6WBdXxCVNh6PswK8Q23cMrP4CmoIHVNRMXXr/RPxj8DgUrNsfVj6awheBFVMgV5zi54tXuG8o1IdS+CpTn4dPdmQHbRVQRXf7ZQePuCtDAZUCqpBNfBVQhUcIKaAKD13dCUQzzD2g+heSVlHbJKZ6odU8iQbKl+9OQ8Vj07N6yp/5/uG8dgKqcJYV3rxpKhfKE/EuQumG3XHjkC8yAJUAKfEFYLn35btS+fpOQIG+41Co7ziUHDQJ1/T8ANYNca7vS8UWgZWvgL3X1tS0hZdOOdOH+U6qoco52kcrTymgUp4JhncVUCmgUkAV4TyggCpnhLs7QNVxxb/sPU8CaHwBn3A9l/Kd36FSQJUzvBLM4OtK4wJkrkNEeFjQpbjq7h64YdAXiO0zFlb/Sa5j2OU4dg97q7jnyvVR4YnI33cCCvefiGL9x6HC0Akok/IyrBI8Ep0mfoVhxbo+1ht8naOLxgRUPGwpr7yvvmfW+VMBVdZpmBf5UAFVhE+mo4kpVUMVHiGkgCo8dPXVt6INUPGUv4pZ/LCvL5qE6nnu0VCFhjdj7XEoeEBlZQAuAqv8/cah2MDxuHHkBFzWfCSsQjfCsi6DFXtRrjzFzxdPKqAKDY/6onNueq6ASnkmGH5WQKWAKmQrdwqowiOEFFCFh66+BKYCqvDRXQHVhbQNJaAqPnQqrh3wBax/dYFllYZlFYYVw+/pxOaJPVPOfq2A6kJec9JH7/9OHwVUf6eJ8olvmiigUkClgCrCeUABlW9BFg5hbwKqhJcbYcT6DkiJYJM/1VDlDJ+EgveCBVRi6hfTbxIK9JuEq4ZPxZXd34N1DQ+Fucxl4hfSPV7RR2MFVNHXZqHoU1nJQwGV8kww/KOAKsIn08E0ak6lUQ1VeISQAqrw0NVXP1FAFT66q4bqQtoGC6ho6se9Uxf1n4gyw6fi0vb/hVW0KiyraIZWKvd+X8pX/5XnCqgu5DWhi/qe6aKAyjNtlG8800YBlQIq1VBFOA8ooPIswMIp3CMbUFVCwqoq6Jx+F4av7QDrXxZUQ5UzfBIKHgwcUJ0/9a/IoEn4x+BvUajBQFiFKmQcPlHAlut54RQ/X/RXQBW9/cJX24bruQIq5ZlgeEsBVYRPpoNp1JxKoxqq8AghBVThoauvfhLZgMp1bLvzlL9KeihFyBaIfPFHKJ/7D6gygFT/ibD6j0PxoRNxVb+PYd1yDyyrpA2mYmLy5cm9Up7aQwFVzshPT+0RDeEKqJRnguFTBVQKqEI2AWnZsiUKFy4csvyCYWh/09xyyy248847o6KuBQoUAGlLIe/v++VkvGuvvRYNGjSIirp6o1OpUqVwR53b7fc4v4eqlq0Zik/Pme9PyTHscmx6l/Q7MDJDQ8XvUCmgis6JwAWAqkF33DDwUw/foXKZ+BXoPx6lR0xGqU4vwipZy6WVsqiVUhM/Z5/mh3312PTo7BfOtsyuewVUyi/B8FrZsmVRr169SJ77aMMG07A5kYaTfu6NyImyAy1TAVX4+hVXaXIHoCqNO2rfYfNz+5futg+l6LiiFpJWVUHCqso2sEpcVcW+Z5g/P8anqZ6/6SQ+05i/+HRX+V3Sa2PkmhTb5I+A6pbKFe36xkT4xLpQoUJo0qSJ/XHZQPtubozvAlT8QHBRXOUOUFEj1W8C+OHeQv3G47ph43Fp3COwCl0PyyoIK0ZN/DzxhQKq8Ml6TzSP9nAFVMozwfBwmTJlUL9+fdcYHBORi1vasME0bE6kadasWVSAKdKmQoUKqFGjRtTUt3HjxlFTV2p2RKjkBB+GqsxSpUqj5u01bbrf81xDjPi1I1KW3Y7EtKpIXF4FHdKqBvGrhg5pNYwf793l44xnpqmBxOVV7Xp0XlEXw35OhVXFQtGyRVD+Bu6hiQ6Z2bBhw6jRuoabpr4AVWz/iSg4YCKKDZyEMv2/hXVb94wj0QvZH+qNjczBOyJ48a677kLp0jw+Pjr6hdYzMtopNywKKi9lLy+VKFECNDEm3WMiUyZnL0GUAYOnd3x8PG677TZUrlwZVapUQdWqVX3+zHi8Nu/dpZc47nx38d2F3XTTTYiLi0Pnzp1x4403ZpZp5ukuXTjCpEzJ29199erV0b9/f5uWlSpVsusr8SLJ5ztQ88e9dNEErj31eQrHhA7xuOrmEhjyxX14Zlt/DFnfFgM3tsDAjc0xeEMLP34tMXhDKwze0DrD53Xwv0EbWmPgxlYYsKkFBmxsgWGbEvDMlvtxU8cyqNO6NtoltLPboEb1GiDfuPtVq1YNnn7u4kuYpzQSLvGcvjynz2fkE05yKS880T6vhXsGVJMQ03c8CvQdhzIjpuHanh/AKtcKlnUVrNhLYFn5lIY+gBIXd1q1agXKTpMX9dqzHMiLtKFskvfmYmvfvn1Rq1Yte7yVcG++Kfe8xeMzM65eux+nIoUu/rZlxYoVbTkji98KqHwI5rw2yAf6vgkJCfZEiROmSOkM7urBSX/btm3RpUsX3HzzzXZdKUDNuLzPjp+U6assAqqaNWvak1FfHTwnnst7cNJC08/cAKiuuOIKG1Bd+c/iGPZ/XfHc9gEYtqEtBm1qjoGbm9k+r/37tcCgTS0xaFMrh89wMw/GkZ8Z7roeuLkF7t/cHAM2N8X9m5ti2KZ78MyW/rip41Wo0/oOxCe19wmopK0C9X3xlZkf45r35jXlA82wFFCdX7wyAdXVd/fAjYM+R/5+3yG2/yQUGTAB14+cjFKJo2FdVh2WdQms2Iuhh0+cp5+3sYqahtatW9sLfSYf6nVkT2Rzun169+5tAyqZz/iSf/o8bwN0AirOfQRQeZNJOfjMP6GZgxXUFcIMINq0adOooUW5cuXsCV+08A3No6KlrrnH5K8UatzGCayFe0bXx4hfkpDyU00kpFVEfNrNts9r168SEtIq+/FjPKbxFV/iSf4X+u2X34z2aRWRmnYbhqcnwaps4eIyhVDuhvJRwydq8nd+bPs7oPoC+fuMwSX3T0D5od/h4rsHwSrAtqVWqiAifY9cJMkqakMpkyKpTlqX87wfqbSI8MMFlJ8jUAFSvHhxe7EwUnnaiuCKKUM7GJqmXnooRegHCh6bTpOVaDnljydq5Qb7c07C7qzrOpTi/Cl/NZGQfgvi02+yfV67fq5jzBN4WMQFJwDKPZ9LXNP3lM51imDiqkpIsn+VbT9xlSsfKb/TqloYsS4J1m0WStxQHLdUvsWWS7ERfiiFftj3QjlhAioeSnHjwE9x+aDxuLrvZ7BuoWkkAUFhxMQWhGXx8Ar5ReTG54gaG/XY9At5TedUvunBk3VpZcGxV+nlm15KIxeN9Nh0ByhQxgi+81DdqcemB08/T7wXbYCKx6ZHk0bNE90v/A4VT/lLRMoKAqpKkGPLLwRP2XmUekUbYHVaeRtG/JqsgCrK5bgJqK5t2A0NHvo/lO38Cqyr6mSY+PFzFLGujc4xoZcxnvpAbgjXU/6UXwLlYwVUyjOB8gzjK6CK8oE4mEYPVxoFVOERQgqowkNXX/0gGgBV5xW34QECqlouDdXNGRqqSDcJUw3VhTwdY58KxQMmLka1Zl1R856BsC7iiY1FEZv/IuSL1cMnfPVXT88JqGji7em5hl/Ii0oPCwqolCeC6QcKqBRQhWygUUAVHiEUbYAqt5j8KaAKDz9zoFJA5Ym2BXDZlRVgxWSc4Bfr+r5UMIO7pnHRWDVUnnhNwz31EQVUyhueeMNbuAIqBVQKqCKcBxRQ5YxwV0AVProroPJEW90T5W3CEswzBVSeeE3DPfGTAirlDU+84S1cAVWET6a9NV6kPVMNVXiEULQBKgqV3HAoxZVXXoU7asuhFJG5h0pN/sLT5yJNtmp9gm9nBVTB0y6v8p0CKuWZYHhfAZUCKtVQRTgPRBug4qEUuQZQ1bnd7h8JLzeMyEMpFFDpwB/MwJ+X0iig0j4SKL8roFKeCZRnGF8BVYRPpoNp1JxKoxqq8AghBVThoauvfmJrqBRQhWzBxaS3mvzlDE+bbZBXrhVQKa8FyusKqJRnAuUZxldApYAqZBMmBVThEUIKqMJDV18CUwFV+OiugCp8tPXF13ntuQIq5bVAeV4BlfJMoDzD+AqoFFDlSUB188034447XPtjguk42ZmGgIpgNVo+7JtbTP74Yd/b76qlJn9hkJEKqHTCkl0yVAGV8lqgvKaASnkmUJ5hfAVUYZgsBNMQuSGNaqjCI4QUUIWHrr76HAHVHZkmf3oohS96BfJcAVXO8HQgbZRb4iqgUl4LlJcVUCnPBMozjK+ASgFVntRQ3XLLLbjzzjtD9u7BdD5/0yigyhnhroAqfHRXQBU+2vorV/JKPAVUymuB8roCKuWZQHmG8RVQKaAKGahQDVV4hJACqvDQ1ZfADAWgSlxVCUmrKiFxJf0qSFx1KxLSK2X+eJ+4sjI6pFdBh/Rbwfjmc8/XFe189ZS/nOENX7yjzyOnXRRQRU5beOoXMTEx4M/Tc3/Cs5reLEMBVeTzjNlekXKtgEoBVZaEmMnI4QBUhQoVQvHixUEBJ2WFQnCGQkNl1sO8Zj193cu7+OOHA1A56+dPPfyNk5v2UGXV5I8gKnllDcQvrYrEtBrosLJ6JrDis5SV1ZG8tBpSVlRHh/SqSFxVOccBlckbsbGxuOKKK1CkSJHM/kc+MOP4yxdmPNVQ6YTF5IdwXocLUDn7wGWXXWaPVea7OOPIM0/h8pz9Tq6D8c38zWvmZd7Ltfjy3LxnWFbr43wHZ/7+lmHWw5mH895ZZiD3oQJUzjoFyiPO9HIvvrxTVvdXm3SVPMV3lsV7ZxjjOsOc95Kf+N7KlDjefGf+zntnWrM8zis5rtGXeL7SSzxvvgIqBVSZDOWNUfx5FgpAJUx95ZVX4vPPP8fJkydBd/z4cfu+dOnSdn0lnj/1chcnVIdSPPDAA3j33Xfd0rBevXqYOXMm+C7u6uBvWDgAFcvu2bMnPvvss78JQn/r5SlebgJUt991m912CS8HtocqPr0iElffig5La+Lhban4As9i2M8p6LS4PpJW3ob4ldWRsKwahmxshy/xHAava4cOaf9C0qqqOQqopF8VK1YMb7zxBg4ePGj3v1OnTmHhwoW46667ssTLwjMKqBRQCS+E2w8HoJJ+wrq3atUK6enpdj/h35YtWzBkyJDMfmLGfe6553Dfffe5fVaiRAlMnTrVzi8UNHnvvfcwatSozLLMPCn7v/jiiwsOOuJY9u9///uC+IwzdOjQC8LMfLJyff3112P27Nm4/XbXt/6YV+XKlfHll1+CwEPyTk1NxfTp00GZxDCTng0bNsTcuXNBawKJHwo/VIBK6tK2bVusW7cuk0e2bt2KgQMHuq3zSy+9hOTk5Mxn5ItJkyahdevWF7z/ddddh8WLF9tyWsrJip+UlISJEyfi0ksvzSxb8pO2qlGjRuazqlWr2nOySy65JDOse/fumDFjBswwyUMATb9+/TB27NgLwIzECdTnfHDWrFkgH0jaChUqYMyYMShZsmRmmPBM2bJl8fXXX2fOKzmu8Z1vvPFGO67Ek7wC9RVQKaDKZLpAmccZP6uASpiZAlbck08+iZSUFIwePVqCULNmzSzXOVSAisJj7969buvDQYuufPnybp876efpPlyA6uOPP8aJEycuGFQ91SGQ8NwEqALWUGWY7LUjoPq5GlIX1cZLO0bgNyzDvL/Go++sBKT+VA9JK+9Au8U18eimnvgZs/Hkxn5IXnwXOqysmQGoKvoAVqE3+ZP+x4Ho0KFDNu8SVMXHx2PEiBHYt2+fHdajR48s8TN5SQGVAqpAZEpW4oYDUEl9XnvtNbtPrFixApxMdurUyQZFDOREX+LRIoLXBAbDhg2zr2+44YbM53xGuUk3ePDgC8Ilj0D9/fv323Vxl46LgJxM8hknoPQ/+OAD+8drmWCyPpyAussjq2Hcw0wXFxdna8CpMahSpYo9nlLjUrFiRbtczgHoOF5JmSKrunXrZj8juJBnofCzCqikfqzL66+/btdx2bJl6Nq1q80jnDfQTZkyBRzfGY/vTn/BggXo3bu3rRXkYixBA50J0suUKWOHnTlzJrOtsvrezz//vJ0nAZwzLy6k0RG4sG1oNcR52LZt2+x74eUXXnjBjvfggw/aeZh0YJ5Fixa1n5P3TO2Qszx/72+66SY7v44dO9r0uvrqq21+PnDgAAoXLgzWS4A4eVrc448/joSEBDz66KMSBC6As1wBfv7WwYyngEoB1d86j8kggVxnFVCxLHZUuo0bN/5tlYOdhW7JkiVZrnOoANW4ceOwadMmt/Xp0qWLXd9y5cq5fe4vbSlwuQqaVbW+szxOlnfv3p0lAeLMk/e5BVBxMLuzrutofb81VAKoVldE/OqqSF1YB69ueQi/Ix3HsQ+fbXoNXb5vjC7L66P9opr4z7q++BU/4tlfh6Dz4vpIXvEvG0hRw+V5/xT3WYUeUElbymo7BysJE3/OnDk2T8vgL+GB+gqoFFAFyjPBxg81oJJJokzmOeF31o2r8HRcDOSztWvXYs2aNbaWYvny5faChQkQGIer53R9+vT5W36SvznZYz2kLvLc9Kkp+/bbb93m9fLLL2PXrl32M1kU/Pnnn8Hfzp07wX7OvLiw8tFHH7nNwyzLvDbrZNbXjMPrWrVq2e9LYEUNDt28efOwY8cOzJ8/377nmN+/f3/7mn9c3GFaKYMAlo4TWWf+WbkPFaASHuHE3Vkfav7o2rdvbz8jOCGfbNiwAUuXLgXBEjWaBB505CnmwXel40KuaPI80VnoJGU77yWc/hNPPIGzZ8/CHaC67bbb7DKpQWR9WTcCv99//922XDh9+rSdjosFdOfOnbOBoJk/r9966y37+ebNm+1FNedzuTfraV7Lc/EJmOiaNGmCRo0a2dfkIc5rFi1aZN/LWEVrCy4KOjVwnF9RY0gnFlCSf6C+AioFVH/r6IEykcQPBaCiAKHzJCA56Hh6JvXwxw8VoBo/frwtAN2VmZiYaL9LpAKqN998UwGVl/5PQBW0hioTUNXG678/iLX4Ecv3zsV2pOM/y/rjvgWNkbD4NjyxPrIAFYE7HVfvyNMczOTHexncyffy3B3v+wpTQKWAyhePhOp5qAEV68U+QXN0msFKPZ0TP072uErO55ygU8srrkGDBpnPJL0/gIpxqVHyx/SWk0Sa7En+pk+LD2qwpM4CTFg/Xkv44cOHL9AMmXl4u+Y3HkXL5SmeACrKHMahlomLk3Q0w5KJ/TPPPGNrQhhGJxoHppF6h2JOYNYzq4CKeXGiTkBKcCh5k65CW4ZxHkJZyGvKVmpOxJFHGC7aKIJOxqXbs2dP5oIzwZSZp5QlPnmQYEPAl4Q7/aeeegoERu7AGTWsdGJaxzkNQREdzeuoeWJ+1HJRO0TLF24nMMtgfyDQYjqCfekbZhzzmvwhml0z3LymKSKdmEhyMZeLAnTcbiE8RK0vXfXq1e06Cb3EF2DGfmHmH+i1AiovE6pAiZnX44cCUHFlgSsMQktheLk3fW/PzHjurkMFqChMtm/fbu+T4kAnP3ZkGUCzao4QLg2VAirvk9pQAapXfx+JXzAHL894GOnnZmMFZmDgwiR0+LEunlx3f0RpqLh/gYOquz4jYZ988ok9mXQ38EocX74CKu+854t++tx/+oUDUNWvX9+eoNFcjW3BscjXePTLL7/Yk0xaWPzvf//7Wx/jZIzOm4aKZf33v/+1J9S+eIBWHjQxpNUHJ4ycfHJ8omkdJ7umqTq1VAQsjD9t2rTMugULqAiMaAHhrY4CqISGnBRTg0AARV805NxTxHkBAQfrw31Dkm8kAypqTejk/VhnbzxCEMc2o+aSmipqc5iGWrojR47g1VdftbWHjCP5OH2hi+mLqVvdunUz6WY+l2tqqOi4T4pzFvILfyyfmkE6AjPGJ92p4eQCOAEU+YvhrDPNX7nvjY4aLcmf++XIZ5wX8X0ESMpzp09gxLHGGW7eC6CiyR/D27RpY9fn6aeftvfdc58Xw1euXAn2PzOt85qa4/Xr13uN40zjvFdApYAqSwxkMlRWAWfwTbEAACAASURBVBU7GFXJFBxmvhSs7CBcvXnsscfAzbNcATPjBHodKkDFjb/eHFXoCqj8n/wE2o7hjB8KQNVpQR0QUK3CDDw+ZwBeXvwwfsNSfLb/BXSe0ggvrhmJdViA0esGofPiukhe4dpDlVMmfzT1oWmSN7o+8sgjNstzYuYtnrdnCqiis094a9NIfRYOQMUJHF2lSpUu6APU7HL84njFsWrQoEH2/iCONwQrnADTxI3gRSbDQjdPgMoZj2ZVzomfMw7zJPDw5iQPahdYNx7swBV+XosWyF9A5Syf+4X4/vJu9J1xBFDJYQvUDlC2MC5BhZhLcl8OJ+AM5z4Xur59+9r3nTt3tu9JO7OsrF6HQkPlDlSwXgQnBInkEb4v90ZRHhL4UKtCOjVv3jzTXJPjEAGlOLF4MelpXrMM856Lu9SmmtoePjfjMI0sAEs57nz2JcalJkr2AvLwMAIshnORliajvKYmSkxHOV+jYz9gOTxkzAmonPWhSSHpxLzk54wjgEo0VKQnFxwYn3sCue2C1zSnnDBhQmY+kp/p8z24yMC2N8MDuVZAZTRWIITTuOeZXGiRVUBFTQw3K77zzjs2Q0vn4WogBQrVxGLrShtwKTcYP1SAiht2uULDOlIINmvWzPY5aLKOdCIAg6kn06iG6u+8FiwtA0kXSkC1HNPwnyWDcP/UZHyw+2n8gu/x7NLBeHHRQ1iPxRi9brALUGUcSpFTgIoDOvuZNzrRNIROJl3e4np6poAqZ3jaU3vk5vBwACqeiEYn+zOEfpz8c7JIsHL06FE7jqySSxxPvpj8CVgw47GvUXtMzRJX7lkG73moAcccM65c81Q57sXh/pemTZtm/njoE7VQnPj60jL7C6hYJsdAyg+aGXK/CstnHTlG0mxN6iW+ACpTgyPPTJ+Td9ZDPt0ghzwQCDItXSQCKuERU0vD9yKP8H3IIwSKdN54hO9Gen7zzTe29QD3WHFOwLxkjiS+STcCHoIInhzJhV2CG15Tfpvx5FoOaOCiADVR5Cv+CGK5MEAnGipJ4/QJqGhKynDR0JH/aBore99Fe+QEVEzDeRNPNCS4YT7UdJJ/aGLuro0FUImGylkfuSe442mAcu/O5354akbd0dJdfHdhrKMcbuHueQSE6cATAY3glRGlflkFVMyHalludJQ8nczNDYV0spIl8QL1QwWo2NE5cLgrv127dnZdFVBFZx8ONaB64qeB6DvvHnRf2AST8B5WYTY+SnsN65CG59eOwL2L6yJlRY0cPZRCTmnypn3iJI0rfu543t8wBVTR2Sf8bd9IihcOQMUT6OjkRD6OU86xisdi0xEoeaOHpKO8oeMhDM74BFRfffWVDVCoQSZY4wSbgIrjrjM+7zmOOvexSDya1XEh0B9A5e+hFAKoWE/uHeK4SHDFerqbDHsCVEIPqasAKtmnw3AusKalpdl7PUkzd/lL+mD8UGioCJLM9nRH65EjR9px3AFOqbcAbe4147yFjtsM5Ghyd7zHtDz0guDEBFTUPnraJ8TDVTyZe8tpeo0bN3bLa1JXAiqCErln2eLELJC8xz1W7gAVNVnkaQJx8icBFQ9WoUZX5lEmf/gLqEgHglczrdRRfPIsTRLlPhhfAZVqqLLEQCbThQJQyelIsinezJ/X/K4GnXNl0BnP132oABW/p8BO7668SD/lT/dQeZ/UhgJQ8ZS/l7eNRBqm49Gf7kePhS3QYUlNDF2aiNWYi41Yge1Yh1dWj0LXRTkPqGTzsbs9HuRxbkqmk2+oeBug3PUJCVNA5Z33hE7qZ51O4QBUbBcu/nHl33lqmLQZJ/3cCyP3pk/TOmqizEmlbIwXUzeJ7+xjnCg7F/GccZjW2yl/PO6dE1ZnOuc9gRvN2qUupm/GNa8Zh4sugZr8mXmb16LREQDBZwIsqHkgCIhEQMV6rl692q6fJzMympjxVFXzfZ3XAqhkb52YPXIPkxw04QRrZntwD53T5M9ZBu+5h4pbLhjf+Vw+ZeOPhsrU8kg7kd8kT5rkuQNUznegyZ/TEonvZb6bL0Alcbm3is7TN9VIWzpP2l6puy9fAZUCqkxG98Usvp6HAlCxDDm2mTbIZplyfKqvjYpmGk/X0QaoSNtQH5uugMr7ZI17CgI+Nj2dR5pXQrv0SohfXR2dFtS191ClYSr+vaQvui1sjJRVNdFx7h14ed0I7MQa7MEmvJoeGYCK/UW+rcOBz5wIiAmHp0mip77mLlwBlXfec0czDQuOZqEGVDJJ44lhdDwkQL6ZxDbi0cs//vij/YxaG4ZJGmlDmjbRmafwcRWdzpu2gulpMkWwJnl58mkez0OT+NxZvidA5cyLq/bUEHDsYb04YeSeYBPcONPwnmDOnES7i8PvGNHJHip3cRjmDlAxnHuP6HhyXLgAFQ/C8FQvb+FCbx7wQEfzPh4IImk4ttAMjk5O85M0Ekd80p3ONAXlARN05ANfptcCOnydDCmAyl1+gQIqqTt9U7PIe5oc+rOHiuOM89MCZr68lkUIXyZ/jCunRMrx85IXvx9HR5M/CQvWV0ClgCrLTCTMl1VAJQKFHZAfRaTjSgY7FjtgqJie9Q0VoKKKWGyGhQ7i8+N8dBRoEhaMT3vpcACqUJzW5u59cst3qLICqNqnV0JienXXd6h2jsAKTMHDy7rhvkX1kbSqCjqm1US3HxpiwtF3sRfr8NKa4eiy6C6krKyeYyZ/0v/YpjyhSxxNjGjDT8cTnGSANOO74wNvYQqoggMH3miqz9zTNNSAyqQzFxlkrxS/n0QgIU426pvxzWsx96KGhaCAzpw0m3HNa+7J8QVCGJ8aKDmxz9lX33//fbs8p1bALIfX1IK4c/fdd5/XMY37icWKxFm2lCEHFdA0XsLc+Vz4oxO5Y8aRbw1l9eAnM09ei8lfVgCV0JZmctRk0pFHaNEijp9WYXmeaMRnfDc6MS+VusrHdjk3Kl++vEcakm48CMOd5knyov/iiy/a5bgz92YfovOlweGcgrxs5ivX8o6yt9x5bLo8l/jsW3LMuYQ5fdGA8YPJzme8Z57SDrzmAgMd9+pzXknNHR3Blrv0gYYpoFJAFRJGIuNlFVBJBxAmZofiiUm0p2UnlNU+ZzyJH4gfKkBFO3D5NoOzfHYuDhaymdb53N/7cAEqDngU9k5B5m+9PMVTQFUJ8emVkbCqGjouvQMD0uPwxNb70G9pM3RJuxMJq6ogcXUVdEirgX5pLfHi1qEYvKIdOi+/Ax1WVvPxQV+XBixcH/Y1eYH8QXt3mrXyOFyaTUibm/EkLBBfAZX7yX8gNNS4/tEwnICKbUBe5gdceaoY9yxxAz+Pmpb2kb4ivoTT5/hBTTC1A9RmmM/cXZt58Nq8d8bneFmtWjU7T2c8gjKabznDnXmQduz3/AaS+DTHp4x3xpV7M0+ZzMoz06cmhMDQ3QTejMexmnMBU1suZZQsWdKuV1bHWLM8XmcVUDEPqSOvCWp69Ohha1zIIzQ944Kds1x39wQeBKimFk7y5t4m8p6AV2d6iSfhznsJp8+8CJhMOstzgjG2P+ktYe58nnrp3GflLJNm5eYCMZ+bcdzduyuLYaQr51j+7lNkGppMUnvKcY0Lh6GcVyqgUkDltYN4YmR34aEAVO7ydYaZnc/5zN/7UAAqsx7OgcN8xjo57/2tJ+OFA1A56+O8D6R+zrgKqAh6CKiq2ACpQ1pVJCyuhNQVNZCyygWY2qdXRPzqW5G4vCoSFlVF8vLq6JBeFYmrKucooHK2pbt78kpW+UUBlX9gwB39NSww2oUTUAXbD7yl8/bM37Y38whmbDLTeyrTma+neO7Cnfk77yWNtzKcaZz3kkcwfigAFcv1VadAn0t8+nIt7+e8l3B//FDQ2VP5UlfxnfXxlM4Zz3nvTOe8l/gSLr6EO31fz53x3d0roFJAFXWAyh0jBxoWCkAVaJnBxg8HoAq2Lv6kU0AlWqRw+hWRtKoSOq+8DQ/8mgyrloWS1xdHxcq32P051ooJWb/2p80DjaOAKjBQECh9Nf55+oYTUEUqnT1NDj2FR8J7RFLdQgWoIoGu0VKHSGr/YGmmgEoBVcgmXtmloQqW2c10CqjOTzhMuoTiWgFVOIGU5K2AKhS8qnmETw5ECm3zIqCKFNpHaz2yCqhyAzjIrrYjrXILvRRQKaBSQBXhPKAaqpyZ9GXlUAqe9BfenwKq7BrwtZyc6X+honukAKrsmjRmVzmhah/mE2l1zm2AKtLoa/IO6+aufu7CzHSBXoc6P3flK6CK8Mm0u0aL1DDVUIVn4kFAxY/6hfrY9HDxUW7RUAX1HaqwAykXUItPr2gDtk5q8heyBaFw9QfNNzxy0V+6chN6qE+B87dsjZezbR8s/QVQcewNNg9NF51tn5V2U0ClgCpkAkMBVXgEiAKq8NDVl+BUQBU+uuseqvDR1hdf57XnCqiU1wLleQVUyjOB8gzjK6BSQKWAKsJ5QAFVzgj3aABUqStvwwg9lCJkMiyYQVTT5Ez/9Jfu/Aiqaqgiu438bcvsiqeASvklGF5TQBXhk+lgGjWn0qiGKjxCSAFVeOjqq58ooAof3VVDFT7a+uLrvPZcAZXyWqA8r4BKeSZQnmF8BVQKqEK2uquAKjxCSAFVeOjqS2AqoAof3RVQhY+2vvg6rz1XQKW8FijPK6BSngmUZxhfAZUCKgVUEc4DCqhyRrgroAof3RVQhY+2wUwEcnMaBVTKa4HytwIq5ZlAeYbxFVBF+GQ6mEbNqTSqoQqPEFJAFR66+uon0QaoSl1fHJUq6Yd9fbWrPs+Z/pRTdFdAlbfaOxR8poBKeSYYPlJApYAqz2qo7rzzzpC9ezCdz9800QaoKFTq168fFbT11gYmoEp8qREe2JCMjitqIWFVFbRPr4z26fRz6lfZrkfqyjswfG0KrFoWSlUogUqVKtp0j7ViIpr+qqHSCYu3vhfKZwqolNcC5ScFVMozgfIM45ctWxY8VTSYtNmURhs2mwidZSaINg2VAqrw9K1cBahq3273i/vebo1ndvVC342N0e23erj3t9rosqk27t1cJ5t/de3yuvx2J+797S702tQUT2zvg3x3WChZ/nIFVLpAlmU5Hi3jjb/1VEAVHjnvL/2jMZ4CKuWZYPiWgCrCF5O1YYNp2JxIE02A6pZbbkG0ACoKd37YNzY2NiomSwRUDRo0iIq6eusn1FDVqePSYrZ7oAEGTU1C8pjaiB97O9qNvQ3tbJ/X2f+7Z9y/0G5sLSR/Vw8DJiYhf0ULZW8sg8qVK9t0j4lwDVWhQoXQtGnTqOFpb3yizyJ7jNbvUEV2+0Ri/8mfPz+aNWsGyqlIrJ/WKTJ5ukyZMgqolDlDw5zRNOmvUKECatWqFTXCkpPPaOHT0qVLo2HDhlFTX090JaCqW7v2398j1oIVKT9DI3NzpX/ippv++ff6GnE8vWt2h3NxoEmTJuDEJbvL1vJCI++jhY4EVFw5jpb6aj0jgz8bN26MmJjINp1WXokMXpF2KFWqVKQvJkcWwYRw6v+9XeLi4tC8eXPbhpRqT2opIvF31113ITk5GV27dgWvWVdvP2/v4C2dNxr4k07iNGrUCP3797dBioRFqk96JiUlgXWO9j5SrFgxdOncGXc3aID69eqhTp06qF2nju3zOtJ+nTp1QmpqKmjiREAbST/yA3+sE/tT69at0bZt26jnkWjn8bxQf1oiUN4TWEVSn9C6RJaMMtuDYKpfv36gT3llPvN1bco5d3MHX+nzwnN3dDHDopEGHHc59+HcLILl6t8n7hFc2UgmZNjrVrhwYfvYSKo9+bv66qs9/iROdvusE8ukFoUaCKmnt3oE+x7BpnPWifmULFkyk5bB1lXe3V16b3UNJB3z5mpwbjGVKFGihE138ksk/9hG5GeukPlqy5x+LjxSpEiRsMskHSt0/KQWVGRYTvO+lu95ThBJtKGs55hL3129PIW7i6th0dHmoWonbtGI4HFHB4QIbpxMxlHVuPJpNPCp1jGy+FTlRmS1h/YPbQ/lAeUB5YFcywO59sUywYgyr7ax8oDygPKA8oDygPKA8oDygPKA8kCYeEAJGybCKqCLwM362tba35UHlAeUB5QHlAeUB5QHlAdCzANK0BATVIGUAinlAeUB5QHlAeUB5QHlAeUB5YG8wwMKqBRQKQ8oDygPKA8oDygPKA8oDygPKA8oDwTJA0q4IAmnqw55Z9VB21rbWnlAeUB5QHlAeUB5QHlAecATDyigUkClPKA8oDygPKA8oDygPKA8oDygPKA8ECQPKOGCJJwnhKrhunqhPKA8oDygPKA8oDygPKA8oDyQd3hAAZUCKuUB5QHlAeUB5QHlAeUB5QHlAeUB5YEgeUAJFyThdNUh76w6aFtrWysPKA8oDygPKA8oDygPKA944gEFVAqolAeUB5QHwsMDMbCsWFgWfaWx0kB5QHlAeUB5QHkgl/KANmwubVidwOkEVnkghDwQE+MCReIHLjcUWAVOMx2flGbKA8oDygPKA1HBA1FRSZ0YhnBimJMdMyaGk8rgeE4msuIHk4+rfJ3YBkO73JAmxrJQvGBB3FKiGKpeehGqX1rQ/tW4tBBqFL0INYsWzvB5XxDVLymEapddgrIF86GgZSG/rWmKRaGSZVG4fCXkv7Yi8l3DH68rI9+1lRFzTUXEXFsRsdfxvgoKXlMFhUtfDyv2ogxtVXD8nxvor++gba88kHt4gPKUv2DbNLCxXLX8wdJZ0wXPowHSLtsKCrrTBfhCWk4WBFy4aB2TMRGl+dNl1/0TV1Wtg2K31sVlt9ZD8Sp//xXLCLu8Sh2UuvUOWEWKZZhNuYTq5fljUatMKdQufTkaXlkcDa8sluEXR/1S568bXFkM9UoVQ50ypXBL8UtRiAOArWlQ4Ryuto7MfAmiXWC+2Y03YN4jw/FTrxSs6pWIVb3jkd4rAat7JRk/3scjvU8H/Dy8D4bWuhUXWZYNqvh+SQ+/hMfm/oa+E9ai78QN6DNxY6bfe9Im9Jq0GfR7T/wNI77fgT5vToBVoAQsK78tn7IyCYlM+uo4ou2iPJD3eCBfcPOtmPzIFxOD2FiXPAycbvlgxbJsHccDp5320zDSTIkbRuIGJ2wiEBBllUax9ju5JrTJ/34NL/20DwNn7caAOfswcM4eDJi9G/1n7bJ93t8/Z68d/uC83Xhy9lYU/GdtWFY+WDEuAV6vdHEsfOh+pN/fBZv6JuO3vh1sf2PfZKzrnYS1vRKxoV8yNvVNwoZ+Sfj1wd54qXldlLIsFMiF9M1q++T69LZmNBb5CIbKl8OWEf1xJKUJ0KkJTndqhFOpDW3/TKdG+Cu1Ec6m3m37pzs3w6kBHfFctRtQ3ABULf/zEfotPoV2359Am1l/IW7WWbSdfc6+bv39GcTN+su+bzsb6PIjkPL+ElgFysCyCtkywdUfVPbmer5TWaNjYC7kgcwFoYKXol2fB5D44EtoMfwlNBv+ChoPfcn+8brZiNfQdORraDLS5bd/5HU06fkArIJcIHWBqVrNk3Dv42+g+YiX7biM33T4K2g67GU0ycir6fBX0WLk64h74FUkj3oFF197i81XMfmCBHS5sE1UlkbEeBoRlVChm8s7OCeyLg1BQTR7+D0MWXACcTNOo/X3f6H5xANoO+lPJE87gHaT9qHl+H2Im34ccTNOIvn7Y+g7Yw+sf94NyyqQCaiaXV4YawekYk+XFvbE91zq3TiR3BA7292Fncl3Y2dqE/weXxd729fGidTGONAvER/Vq4JylmVrqXRlK4/1+4z9T+TDxHLXYNOQXjic3BgH2tfGtnvuxO7URtiRcjd+v+dO7E+si9Opd+N0SgOcSm2Ek30T8VzVChcAquaPfYA+P55E22nHbD6Om34SLcbtQ9vx+5AwaT/ixu1Fy/H70WbaaaTOARLfXqiAKpfLOJ3Q5DGZkof5ORNQXXI1Hh37E0anHcWQ+YcxePafeHzhITy95AgenrcHg2ftwuAfj2DQotMYtPAvPLHyLO7/Jg1WkbKZgKrdgy/i7V/PYuiiMxi46C8MWXgK98/6EyPm7sMTiw/jP4sPYcTcPzF07iE8/NMpvJB+BkVrtboAUGXWJw+3icqfiJA/EVEJBVS5XBCcB1SF0OTB9zBo/gnETT6BtuP24LG0M/huH7DgJDD9EPD62nO4d/JOtJt8ECkzjqH31N2wbiSgym8AqiL4uV8q9nRubk989yfVw7b7WgPvvwCkzQPWLgXmTcKp5x/Grwl3Y3vfDviwblWUV0CVN/taBqDiPqgO5a/BuuF9sL59Q+wf0R2Y8RXwywJg5VxgwsfYcn8KtibWx6nUxjiV0hgn+ybj2SrX24BKtJstHvsA/WxAdRytphxF+/F/4On0vzDhIDD/JDDlIPD00qNIHrsdXWefQoe35sHKfxUsq6BrIpDL+7sO7jquKg/kXh7ItDgp+g/0/OgH9Jm8Bf1m7cP/7QWWnAVWAVhwAnjzlzPoMvY3JEw5jDbTzuDeuafR7oNFsC75B6yYArbJXv0hz2HEwqNoO+0U2kw7iXbjd+Hhn45j6lFgBYB0AJMOAgOnb0Pn8b9j0NwDiK3WWgGVjiGROJfJvZ1eBXrktK0LULE+BW1ANXjeEbT5bhde3Qj8DuAIgL8AnAJwAMDUA0DXCVvRefJedJ/0B6wyd7o6TyyFsIVGRQthRY9EbEtqiINJ9fBb1zhg2WwAJ3GBO3cUxz56DYt6dMB79aoroMqrQtgAVAkVrsG8+7viwLMPAfu3XsAuwFlg2zr8en9n/JHYAIcSG+Bw9/Z46uZrbUDFPXjkvwYPvIVec4+h3dSDaDNuB97bBuwAcMzg4z0A3lx1HD3GbUeXt2ZnACqXyZ+uqEaObNJxQttCeSAwHsg0WS56LXq8NwNPzN6MxecAyjyO5ZSD/P0J4IuNZ9Hpu61oO/koUmccQcs35sAqdDWsjP1Tt/f+DwbPO4xWE48ibuxuPLb8FH4FcBDA8Yx8eP3zWeDh6eswdOZWFKjazJbDMfl0T6rybmC8G2Z6RVRlXJPmvDrpy8XvbQKqpqPexYDpOzBo0QmsB3CUwvIw8H8/bcKSbQdtQEXB/PqKQ+j+3QYMnLUXVqWmF/DGHYVjkTa4K7b3jseGhHrAuI8yJsYnsX/OVCz77H1g2wYAp4HDe7DosWF47s7KuE41VBfQMczCJXLKMgBV62uvxMInHwD+3OzimT2/46fP3sOO6d8BxzkFADDta6Qn3Y39Pdvhz4Gd8UjFcrapKDVcpNk9j3+AkQuOocO4rfj3qjPYAuAwgJV/nsaYlVux8YRrMsCJwZOzd6D7a5MzABVP+svayVh5ps1ysTzUNtR5RzTzQOaC0CVl0eON8Zi9HzgE2HLwq/RdeHvWCqTtP4P9cC2Yjpy6Cfd9fxAPpZ3BoDHLMg7ocfFAu5Ev4bWfz6LPnGPoPul3LIQLmG06A3z8QzrGrtmNnRnAasaOU3hoUjqKVGvkGlvyuRZYM+ujMiNyxty82RYq2KJZsEVL3U1A1eShdzB41m70X3ACH+4EpuwDhk1cj7g35uKhMT/ZGqvdAD5fexT3f7ca084CawGMmTIzU1jM+uR94PR+YOMy/NYjHseeeQCYMwH46n+Yck8jvF6vBta88Rxw9jhw7gTSXn4aT95eCdcqoMqkYbTwTkjqmQGoaLLX9h9XIY2A6su3gYXT8MujQ/F+o9vwZftGwK9pLkD102zMSWwMzPwWOPUnsHIJrirkWg0d/MAoe6KwEsDw77fjkaXHMP00MPcYMGRCOjp8uABvLtxsLwzsBfDx6iPo8dK3Cqjy5gCbN/ubtnWubvdMAFO0LPr9bwZeXrIXH28Cnlt5Bh0+Xo7kt2fio5U7Qfm3HcBDU37BsIVHsCxj4emhZ1+x6VOpai17IYoLqP/bCvQcvwFvbgG+PQw8vWgXOn2yAF2/WIzFh+ylUaw6Bjw+ZTmKVqnvoq8CqlzNZyEZ+7NXFimgisJGi7pOdB5QFUCjh97BkB+P2Huk2nzzB1K/2WLvkxo6Zy++3njKFsJ/AHh18U7c+8kCvLDqiK3650y3RatWuLtBA9ekl2YBH72BVQlNsL59A6yOuxMbkhtjx/2pWP/4UGD1EtgmXDt+x/ejhuH5OjUNQKV8nxf5noCqw/X/wKrBPZHeti7WtK+P9T3aYcuoPjj88SvAQRruAYe/+hBz4uph3agBwDHCe+D5/z6NkiWvsK/5N3nLafT49hckTNiBhAnbkTpxKzpM2Yl7xm7BS8t2Yx8A8vFH6QfQ62UFVHmR3/SdVc7mRh7IBFSXlEWfj+ej79QdaPv1VnSYsAsPLD6JN1YewurTLpO/nw4Ag8amI/mb9fh0i0tzfwLATTfdhBkzZtrydMUxYMDYdUidsB0tx2xHq7G7ED9xL5LG70DPSVuQ9pcr3bLDwL8nr8AlVRoooMpeoBB1c84c6ncq8HKI8HmKQZ2AauAPx9AmYxNq4sTd+Go/wN0stJWmsJ24/hh6frMGPSb/geTPVuOVWTSeArZs/wM7fndNerFoPhaktMaBjk3wV8dGONShIXYPTAG2r84wEGBmx7B49FOY0fs+vN3wdvwjU0OlfJ9X+N758cgO5a/DFvuUv6bYeE994Kt3MwxPuYMPOJa2ELPuTcCO1FZYkdAIB997wQ4/fvAA1vzq4sM1J4H+Y9LtCUTr6WfQ8nug5fRTaD1pLzpO2IwfTrj2ENDo9OnZW9Hr9Umw8vPY9MJ2v8+ckOigmKfkYF7pc/qeuXt8yZRfl5S1D6XoOfsgWk78E4N+OGib8dP8mdJ0F4DRU1ai29hNaD/pILpN3IqfMsDRzt27cSZjz9XTszYh8bsdaDvtJFpOP4tmM86hFQ+o+HojPvrNtT+VWwP+75d9GDF5DS6q2tglR3UPlcrPyBpDc3fHV8EeGe1rAirb5G/+MbSZymOnT9gr/N8eiRZW0gAAIABJREFUPC80CaiWHACGTP4NPSfvwn1jt8K6qSmm/kCDAZc7m74KC+/vgw0prXAy5W6cTW6Ag0kN8MfgzsA+7o3JOJzizCkcGPstZvfvjjfr17IBlWyobdOmDd577z0VSJElkMLSHi+98gqSk5LsvO+55ipsHdobh5OaYH3besC3H2QM/xnMtWMz0kfdj81JjbCzU3MsTbwbpyZ/JayHX7bsxIB3J6PbxG2In3oErWb8hVYzziJu4kGkjNmAb3fDtvknB36+9jB6T9iM+96epYdS5AE+0/EmMsYbbYfwtsPfAdUhtJp0EP3n7MeCU669VDyUgnuoZm4/i17jN6H9lENImrQL/Sf9iuVEXBmHTnwwJx09v0xH/NRjaDHtDFpOP4NW046jxbdb8fLPx+0tAMxnyUFg2LiVGP79DuSroodSKI+Hl8eDpG9EViosk6ogCaR1CcFEyARUzR58B0PmH0XryUfQbNwB+7S/bjP2YfCM3/Fp+h57MsqTgsZuBfqMWYf+U/fCKnwTnn6FmgSXW/fVF5jcvhX+uPcenOrYFIfvqYM/WtfGjg5Nsb1fRywf0Q9nfpgJnOM5QWfwy9sv4j+1KqO0ZeGSgvkw83uXqQFzGz16NJ577jn95UIasG2ffvppHD3hAthpM6aie41KWNo9CdviamNbq9r44754bBjUC5tfeR7YRYt/npKyGMs6tsAf97bGqrja2PzC465w7uWb8QPu6v8s+s05jLZTj9srqi0mHELCd1vwzU7Ypn7UtE7echxdv0pHt9lHkfzO/AxApcemqxzWMVd5ILp5IBNQFb0OvT9cgG6TdqPlt3twz9jd6Dp5OwaPS8fY9QczZeHzi/9E/NidSJywA/eNScciHuUL10EWL01agm5frUa7acfQcuZfaDHtONqM3YJnfzmOTRkWK8uPA4PH/YzuE3/DgDn7EFPN9R2q2FjXh30z6xOCuYryZnTzZg63nxIvhxsgTwA2E1BRQzV0zj70mH8ST6wDnvkFaP/1JrT4bAPu/WShvRJFeZt2FBg6dg3iP1yJJsNfs00BM2e1OINd77yExQmNse/eVsDD/YB3XsDph/ojrcm/MKVRDSwY1BU4wvOBgB2TvsFDNSviassC61LzXzUwfvx4/LpuHW644QaUK1cO5cuX118uo8F1110H/n5aloZp06ahQdXKaF2+LFY+MQInRj8IvPscNqTEYUHjuzClcW0cnzrBxWJ7t2FVv85IS2yKrQPvBfZtO896AL5bfwwpX/6KhKlH0XLCEaSM24bx+117BriaOuHXfej68QIkfLURnWceQ8q7Pyqg0slOnpD1Op7m/jlVJoApUgb3fzQHb60BPt0HPJIOtP5yI+75cAkenfGrvYeUmqoPVx9F0lcb0XXsBnx/wgWkaO5Hxx2qD03bhPYT9iBuykG0Gb8Nb29xabm4D3XpnhMY/NVPaPPpWiRM2Il+c/cjpoZ+h0r7WUT2s4islA48uWzycR5QFQSPTR8ybSte3uzaN0XI8+nao3hwxiZ89vOf9qlAPLx65h9/odcXSzBg6lb7uxQUvu9+8AE+++wzlyQ+vg/LR/bCovgGwM8/usL2bMbm5/6NRQ8NABbNBM4Qmp3ALx+/iUdur4IylgX5OCsFUqlSpZTXchmvuRtoSpYundnO9a8sjl8/k31TJ4Hvx2PhkD7Y/uLTwB+/ufhoQzoWdr4H81LbAEvn2GEL5s7DU0//174mf/73xx3o8NUadJuxFzNPuo7/p7nqb/uP47MffsE7y/bh1TXA4z+dwr2vT1eTvzzAZ+54T8N0jpFreaDIVRjw9gSsOusCSWsAvL/6AN5a9BuWHYF9wBRP8Bs9dwsSP12FTza74tECpUWzZlj7M1MAC48A3cZuQJex6/HpLtfeK+6Z4ug9a+NefP7rUXy4A3hrO/DgvB3IX8W1h8rSPVSZ41qu5bHoGjdU2Ckjhp8HTEBFDdXwWbvsb07MP+k6hIIClkes0qeR3kYAj8/egB7fpGHyCdeOqHMAClxUAJeXvNwWwvbfphWY3bE5fnlqOHCOhtmMRXc6w6f51hLMGNITL9SuZn+HygWoYlQQRZegCkl78TtSrStcjfEPDADmT874DC8PgyQU4qel6c5h8xvPYWabBsD4DPAO4M7bbrfrsGOn69Q/HuU/ZEwa3tvoMvPjJuyzGbv3eE1eJkfO3Af0ePFrWPmvhGXph31V3oZf3iqNlcbZwgNFy6L3WxPx5sItWJdhwkfZx9GXRta26fNvx9D900X4z/KTyFiuwutvu/Yud0pNtSUupe/nm85h1KSfbTM/yk46juaUqcyTmi4aZD//wyZcVKmOazzQY9NDMi5mC6/kjfmGCh5lpvDzwHlAVQC2yd/8w/beqb5Tt2PiLmDtOYBGVfxA6py95/DvuVuR8PUaPL7yFBZwBeuPE0ju0i1TeDwx9H5g7zZg21qceeUxTIurja1PjQDSFwIHdwMnjwC7fsepiV9hYc8krOiTgnfqVUc5h4ZK2z78bR8RNDa+Q5VQ4RosGdoLS7vE4dzX7wI717uORj+2B9iwAutffALft2uEA8N7AqsXAAe3Y+yrz2XyXoPGzbH5BMC11TdXH8LzKw5j0Vlg1XHg5+NA+jFg9TGXv+Ic8OVmoOfLYzIAlX7YNyL4IW8M7pk8qzTPI3Ium/haDnayLrnGPjZ9wIR1GDFrO77bCSynbDwD+9tRb6b9iZ5jfkXH7zbipe3A7L+Aab/uQ6Erymby5ocTZrq+M7kHeOT7LRizE/h+HzB/F/DDrnO2P3c3MGcPMHkP8My833DxrXpsuvbpiOzTEVmpzM6mTJM72uc8oCqIJg++h4HzMk75m3TQ3szfe+oWDJ+1BQOm/YaUMevQbvxOtJt2BPfO3I+BkzfCuq6miycyJsa3XlIIk+7vgZ+6tscf3dtgd+cW2BDfACtSWmBF/874eWgvpPXogJXt78aO5KbYPSAV79c1AZVqqPJU38rgm/yWhaQK12Hz8L7YldAYa9vWQ3r3eKwd2hVrht6HVfe2wdr4RtjXqTUO3dsGm+5tg/TB3dC78g1gWmq4SLd2I5/Hw7O2ofuU7eg0ZRe6TtyOvuM3o//4Teg3bgP6jVtv+z3H/45BM/ej69uzYRXksekKqPIU32XTBFdpmjvGyWhpx/OA6lp0/2gB+sw6gLbj96L9d9vQdQJP592KTmM3Iv6735Ew5RDaTz+ONhP3ode0Xejw8kRY+a6AFVvAlqX1ug7Fo7M2o+PYLUidsheJY7ehw5jf0GnMJnT6dgNSv92Ijvx9twmdx23GsNl/oGD15q75gJr8ueigciZS6KCCKFqEWDTX0wWoYmFZBW0N1cB5R9F66mm0yvjeRKvJhxE3cT9aTT6I1tNPoMUM1/GpidOOoveUP2CVo4o/BlZMfrvjNCx+MZb0TsFvqc1xJKURTqXcbR+ffiS5EfbG34098Q3wZ2JDnExpjNOdmmF/n0R8VK+araEqZAsfBVTRzE8B1z0DUJEPCai2DuuHo4nNcDqxGfa3a4S97V38cqRDE5xOboHTHZrheGIT7OehJ7064D9VbkAxy0LhjIGr5UNvY+Dsw0iYfMQ+/j9u0lG0m3gI8RMPI2HSUSRMOmb77SYeQ9fZZ9Hp3UWwClyjgEoH/kgZ+LUeyotB80AmoCr6D3T/aBF6zTpif1ey5bRTaDXlKFpMOmz7cdNPIW7GX2g9E+D3+rrOOY349xbDurgcLMsFqBoO+i9GLTxkH5seN+2MPS+Im3rKlqv8tAp/cfxm5fQTSJh+2HUoRbWWdt1j8ukpfwGPhcr3QfO9H7RWQOUHkcLZAHkibxNQ2YdS/HAMraeeRIvp5+xjp1tO/8v1/Qn7mz5/oeXMs/Z94vST6D11P6x/Ns3Yf+ISws2KF8aa/h2xu3MznE5pgL+SG+BMx8b4q2NjnEm+G38lN8SZlAZASkM7/EDfJAVUeVmQZgAq9vW2/7wBax4fhR19OuPP3p2wp1cq/uydin29UrCvV0fs68XrVOzu2RE7ef9gfzx5RxUUNT4K3enJD/Fc2hkMnXcCg+afxuD5pzFk3kkMnn/Kvh80/4ztD5x/Go8sPYtBny6Elb8kLMu1IJB5SlZebhN99zwh+3V8zX1zrPOA6lr0+nghen5/2AZOTaf/hWbTT6P5tFNoMe0kWkw7ZY/jzaefsxdP7517Bu3fXwKriACqGDQc+DweXHgcbaedQutp59Bm2lnETTuL1tPOouVUHqPOPM+gxczTaP/9MfSddwCx1V3HpsfEcJHWgsrT3MdjUSo3tCGitOGiZDCmJijWNpeKtSj88iPhyU/x7C9Ar8VA96VAD8ev+xKg+09Ar5+AwT8Bjy05DesWfsiPG/pdgKp5ycuwedQA7L8/FWf7JQJ92+Nsv/O/c/3a22Ho2872T4zqjc9a1MY1MimOUb7Pi3xPYF/24ovR5NqyaHfl5UgoVQzxJS9DwhXFkFTyciSVLI7EK3h/mR3eruSluKdsCVS9tCAuzjhyn5rSy2+ogdK334PiNdvicvt3j+0Xr9kGxWrGoZjtt0XxWvfgilpxuPLWurAKXArL0hXVvMh3+s4qb3MTD5wHVNdg5Nh0jEoDui0GOi0GOjt/i4DUxUCXJcCwVUD3b9dkaKg4nudDq4fexAvrXOkZ577FwL0Z8TsvATotATouduXRaxnwyKozKFTTpaHKTTTVd8kVMiJXvESUgIu8SGsXoMpnxcAFqAqidK0W+GfSCJSMfwglEkbhiviHcHn7BzN/rvtRuLz9KFyV8BDKxw+DdfmNGWDKtcL/z4L50K/S9XjgxqvxxPUl8WSFK2yf1/z95/or8GSFEniqQgn7flTF6xB/dTGU1EMp8nRfiTU0VYEOYPnzu/pvTIwLFAWa3pVOTU0DpZvGz4vjhr5zJPN9pkbo4lKIG/482j33Deo/8x3qPTsO9Z8di/r0R49H/dETUPeZCajzzGTUHz0FcS9ORsNhr8AqfFXGeJ4PNeJ7oNNrY9Fg9FjUe5bxx6HuM+PtdPVGT0LdZyehNvN5djzufvY7tHvhG+S/PmNPtWq58/R4HoF9RAVXBDZKrusksQKoYgsG+W4EUtRwuSakPCCAq2Tc03KJZdnmWPSdP5ppMeyiDM0U42eurqkwDrIt8oLMIJ/Jz9378lksYmy+Pm9ywokG+Ut+mRMPO6/z/Ksyxx1NNUz5QnkgGnggU67F0GKEYzN9Hrgjv8KwrIthWUVgWZcYPz4vBCuGfmzGwRRcoGIejM90ZlqGmT+m4xyiIKzY4Ba2ooG+WseolQNRW3GdDCogUB5QHlAeUB5QHlAeUB6IIh6IyYKlgA02aLKvZvvK85HH8wqodDVAeUB5QHlAeUB5QHlAeUB5QHlAeUB5IEgeUMIFSThdHYi81QFtE20T5QHlAeUB5QHlAeUB5QHlgezmAQVUCqiUB5QHlAeUB5QHlAeUB5QHlAeUB5QHguQBJVyQhMtu5Jvny8uy3bWu1uR5HtK+rvJeeUB5QHkg8nggGsb3aKij8naO8naOFq4TvDw6yXcnmNyF5RXhEBvr+kChvK/zXsKD8UNNV+bnzNN5L/X0FC7P1c8++euuLdyFaZtkX5sorXOW1tnF/9lVjvJTePkpK+2YlbSR1q656V1CTNvwMmCIK6sALEgA5q4DmGHmNdvMeR+OdiRoqFu3Lho3boxChfiRP/94MTvq5m9dAo3nrLsJnK6++mq0adMGFStW9JsWvsqX8i699FLccMMNIclX8qR/yy23+MzzsssuQ6tWrVCzZvR+O0TeWejtvJfwcPtZLTd//vxo2LAh6tWrh4IFg/2EgX/9NNy00Pwjqx2cvGnem9dsN+d9TrclZe8111xjy7JQ103yK1WqFK677jqf8jKnaZEXypc2CfZdy5cvjxIlSvjklzvuuANNmzZFkSI8Pj6y+msg9SG97rrrLvtdChfmsfbR+y5hrrsSJswEjhjmu/LKKzFx4kRMmjQJV1xxxd+EQUpKClauXIlu3bplS50LFCiAAwcOgO7666/PljIjoa2bN2+OL774wp7YmvXp3r27TQu2kRme1WuCtvXr19t5U7hnNT8ZjF5++WU7z+eee85rnrfddpsdb8OGDV7jZbVe4U5fpUoVfPTRR9nWPzy9z7XXXot33nkHw4YNC5iexYoVs9uCf2XKlAk4vac6abiOo+SB1157DUuWLAEnkrwXWcFrLqgsXboUzz//fETxXdmyZXHy5Em7X1SqVCksdeN4e/DgQbuMypUrh6wMoS99uda+6F9fJIB+7733MGLEiIDag4tRdJs2bcIll/AbW57L45hHJ/3BW9xQPwslPzCvvXv32u8Srj4S6vfPofw8M0MOVcgrg2qdgm8vrqqIczdp52BI9/7779tt4KlDOsOd99JGnsLlOQHVrl277DIrVKiQZ9pd6Dx69OgL3rlr1642LcaNG3dBuNArWJ/aP6Fz69atA8rb2Ybm/bvvvmvX96233vKaZ40aNex4P//8s9d48n5mGRIWCX7Hjh3t9+CkMCfrc+edd9r1OHToUMD1oLbw9OnT9gRSAVXwsjQn2z+Sy+Ykk2779u1/m2wmJibazyJtYYVaI3HVqlULuE/50x7UgJ07d84uhvLQnzQaJ/T9k2OLWIUQ5NDt378fnIv4S+8mTZpkpqM89ZZu9erVdtysAqpAx8RA43t7B3m2bds2+10UUHnlS68PvTKLEFr96KAhV7Y5mRLXo0ePC9r3qaeesh+99NJLF4SzfaWDii9t7rxnuCfzPWdcCjEOvHQyuaNJkuTtrVxnGc68zTyc12Zaf9KZ8ZkXBbKndCKszbo7y3/kkUfsdx46dOgF73rffffZ4d98801muLv8zLJ5bQ4GZnyzDlTTi7mJmV7qZpp/8Tl/Zl5OGki6G2+8MbOuZr68lnrRhJGO2k9JZ/rOvM18GM+sh6Rz1k/CpUzeu4sjeYsv6Uy+Y3nOfBhPBlLnYoSZl3kteZt5SRh9s0xJJz6fO9MJHWi6SffLL79cQE+mNdObbSrl0vSTq/EnTpzINEMx6W+mlzTqR4d8j4R24mKDuM8///wC/uRiDt2iRYsuCJd6O/nV7B8Sxx1/Mkz6hsQz7800vDbLkXjUIJUuXdptvSRP8ZmHmSfzMOtqPmMauaeJmIxzUi6fs5+b9xLfLE+u6Zv1l7ji87nZn3lvPjPzccaTZ+7qYubB56ZsMp9JHk7frDOfMY0znRnHrIPk5S2+pzyZjzOd5EerGDqCHgmjb7Yl39O8l7w4lxIwJWGSh0nX9PR0u4zbb7/dLsOM68zb+c5mXMmbvkknxnHGcxfGdM54zrzMMpxxeb9161b7XWTx2+QBM39nWrO+ZjyzPE/XJi2ZrzNvT+lyMFwHixwk/gUdOdz1oBA4c+aM3Sn4xxUzcxBxAiqah82fPx9dunS5oJ6jRo3CtGnTcPPNN9vhr776qm2CVL9+fSxYsMBe8WE6ef7CCy/YGhKucLAMeU92yB07dtj14AoOzam4WsRVTpqFiIAxBdrIkSOxefNmHD9+HBRWSUlJmfkVL14cHMQfeOAB0Mxs1qxZmDFjRubE8fHHH8fOnTvttHPmzMnc/2N2UvM6OTkZixcvxr59++w60cTtoosuyiyP+79mz56Ndu3aYciQITY45DtSY2PmI+/LAfV///ufnRfpzwnxmDFjMjWCLI+O79C3b1+bZgScb775ZqYQFVpwYsxwquGpqZgwYQKqV6+eWTcpU3y22ddff41y5crZcWgyRk0ZtR1sM5qjcDJEcwamEdqTBxYuXGjTjO1C0Cd58r0JLuLi4jLD+IyaN7YR8+T70sSRzgmo2HYsk5N7xmfbSt5SvtzTXGjmzJngKvegQYOwZ88em97//e9/7TR8d2kr+o0aNcrMq0GDBjYv9OvXLzOM+dLUg3wsq9LkR5ovkkeOHDkCagppDsS4zzzzDNasWWO/x+7duzF+/Hib5tT6Sh3FHzhwoJ2WtKRpJ9uHgzb3xzHOgAEDsGXLFrt9v/zyy8yBWdLzXebNm4ejR4/acZ588snMMmjmt3z5crsefD527Fj73diOkr5WrVqYMmWKzRukK/uS2L3T5I/05jskJCTYk1vyN/sD0zEPd7wreauv46U3Hli2bJnNm/IXHx+fyZeeABX39FEGkS85aWNfEx6kjJk7dy7Yp6RcyobXX3/dlp1ius5nlDOUVTSdlriSD+Um5ZL0bcpLATfsG5TZ/HECR9NejhuMw35OGf3pp5/apvLm+zC99G+arn/77bcQeSDlSj04qaRs+fjjjzPHXJrgf/XVV7bZO/sgx1GZQEp68ZkPx05aGrDfUxaai1l8TplHeUrZ9fvvv2Pw4MGZdODzp59+Gp999pkt45medWZ8jpV8/uijj4LjF2lE+jKMP5HF1LJ98MEHtuylTCNtZF+uWU/zmm3OcZp15vjhlMFslzfeeMMeY1lvLiaWLFnygnLNOvC6f//+IJ9xrrBx40ZwbJO60ud4xDHAbCuGs/0p0zkOcwwROcpxitsgSBPuE2Jczos4DrMM0ol1LFq0qP2MbUw6PvHEExeUSwsG8h/TsH7ka8pVOgFUzJuAhLzCfNnu5C3hRaE14/HHvVfkGfIOx5MVK1bY6Ti/MvOUMc65SP7QQw9h+vTpEDNT9i2Oyazbjz/+aOdFX7ROnKtxbOC8jPwo9WCbCqBiPTh/4BjMccw0+Zf5CdNxfF27dm3mXI3zG8mPppIc+8iTHH85VyOtOK9hHM7hyMOc5/GZ1M/kLckrwnwdICKsQTKZLtT1IqCio1CmIKfjxE3KIXPTiYbqwQcftO8/+eSTzDiMm5aWZoc3a9bMDmfHcufYKQk4nI6mYsyHnU86qWjOTMBH4SR1o88Bjo5AkJNzcex8fM4BSpzkd/bsWfsZBQUdw2U/Ee8JAs0y5JrCRJzkxXuaq8jktGfPnhLlbz4FpuQlPoXm4cOH/xaXQpVxCDDoxDTEjEiBL/nwPUWzR+EndtqM7+l95J1FCHOA8+QEYFBIixMwwXsxCaUgpSNtpW6cGIk7deqUXNq+CahES8cHsorHa/M9JU/6Yi50QYYZN+QLZ1l8JO/BQZyOA4uZJwcSuvbt29vhLJuOkwUxb+A9Jw3Cx+Qn07k7aIMgzZ1juxKAOp3J5507d858zL4hvCD8xMmdOyeDlYByxjHrSmDF/saJHd/PnWNZMiE06aTXOkb6ywMySeUkkI7aUIJ4pudEl87UUMm+UYbTJJigik76hJi3Um7Kijj7tThOYqVuMnml6bSEic+FBzrmw74gTlbb5Z515WTTdFInhnGMZJ7Ubsi+K8oKkRfsc+4O6mG/E5krlgIikynLOQmn45gpE3epO33u9aHjWGTK+zp16tj14RgoTswueU8gIPmYMlzi0mfZlI1OxwU4Scs6S/1ZR06kxXlayCOAEWfWyVxUFVnplLnSLlK++KyTOHNcJsD4f/auAz6qYntvIr1joUMgoQQCJPQmNfQmJaGDXYGgqKhYnu09/et7+tRne3Z9KnYE7AUF0ilCEhJCEtLpHcUufv/fN7snuVx2k93NbrIbZn6/u7N37tyZuXPPnDPfOWfmSh6p9/HHHy9J4zVxeyePo/KWgWXIe+S5yAJpL9+r3EflJcsRjwsCIqmToE6CcQ4jfSZyl/JCrpMORY4TTHJ+JuVJTCVxWUH6iUo6BtK53MtY5mqizJPnMpfpaK7GfmI5BDJCdyJrJWZZlPtGS5RRThnnaqIANT6X8T2yLpmHcixJnayDG1sZn81H/2th4aMvxuPEI4CKGhkStExkxTJAYmcQQEUtDoN5jYwILpm8C6OmVoYaQx5SNu+ntYV9zJiBA4X1M02EGxmPaNknTZqkNBPMKwtGqZViYLmipaAmUQLBCgWugDsyQU7CKXyp9ZBBK8KM5VIDYrRwCR2wfgmc4DKdQjIrK0slUzvFNFruJLB9TKNWTIJohaRc0T4JuDMyF3N58tzTpk2T4hAREaHqkMkBNU1StjBU9qekGWNqIhnEf18EIvuTGkFqjCiUGOT5qDljEAsJLY6cBEi9999/v7oumrp7771XnVM40nrH+gm6BRRQu8Y09gsDBYvsaEjLnzB7s0WU91AgSBBXSeNkjM9DrSLftTyrAD9Zm2Z0pWSZAm4IHAmSGTh5koXGBNXUsIm1S1wyqTHju6Sm06iRY5k8WA8D+4HPSnqlJlsCLYvMx/EjoEfGEmmDbViwYIHKw36hsGOQDUXYHgYKG2owRaPL9gidC8gl3cpkTzS2nAgwcBzzfu4+xsksg69tGCB9qmP/kNMCqMirZK0oJ818f6RfBgFU3BRAgljGmY9gikGsUjIhE55CrbsEarl5D2mYgWNHFF5CM1IPJ84cI0znpJv8RiwSvMaxKBZ8jikZV8LnyFulbFHGCO9jmfzPwGtSt8ScbMo4JmCSMUyZKXnI17mhh9nyxPwSxGLOPqD8ogWP95NXEyzSLZnnzCe8RQCe9Ct5OK1NdFmjQlUCLVS8l5tTSZDNokQ20EtD2iv8npN2STPG5INUFgroYzsksH55Z5T9ItNJM+RrRnqQMkkPDMwvylzKM5H5bA/z8jkYRG7J/TJPETkqLtzk8WyL0AbLZjC6AhLIkW7ZbnEVJP2wbFpPJJBWmEZZxHcrQeoUgCBzLualNZDB7ErOa5RnAuj4riibjPxaLIkiCwUA8V4eMlcT2SHjk94xpG/Ow0hzEsSCyI3JJIj1jP3EwDEmY5F9yHMG6X9pC+dLIkuNczUBgZyHMhDQL1y4UM1N+LyiXBAPJ1paqVyUuZg8m4/G/sGofbTzFNH6S9sEUFGzwDaTcUug1oZuawwCqISB0bxrfEYZpJyIMl2YhLgOME0GlVFzxHSZNIv1QCb2ohmSepYsWaLaIppKsXyQ4XJwEvSQmXKSzrB48WLVFrEAiUawiibPAAAgAElEQVRIyqMlh4FggRNLYRK8Lsxc8op2xWjK5jVq4hjI0Hkugsds+RBrhkxgpVyJRRAZmSqvCUCji4vkZSzl8ZnZVgEo7CO6SvI9EHCIxkj61liGgAzRJsokW9y8mFeAJBksz8UCRcZIwCZCQcqlwGIQQSwaV7GWSD6xEAmgEg0i6YjtoeaJZYvV1J5gEe220IOULUzeqL2S98LymU+AkCNAJZMQ6Ve6tdB9SDTrUhfrYKA7naQxNtOPACr2meQTrSaFiABrXpNnNrpqcPLFfqFgp4AhAGOQXf0oaBg4QZDyGcuYMU7SmC6TAP7n5IzaUAajNUpAJ619xjL1fy0fXaEBmbDJInwBEeQJokiRMSwKOyp1KDtI7+RHMsGUfAKgxLLBiS7d0ih36BLE9oniiZYxc3sJHIQ38jrrMboKctLHSSEVPOLCJmWwXRLkmhEYkMcTlFEZKPzbnqXXCKjIV2SCyXYRiLEMcfdj3Uaewv8CGii/+Kz0UpA2ilKHyhHyDU6eOc5FYSSyVSbOdMOTe6XfjOCB10Re8PnZXgmc1BLscEItHhW8ZgSBxraz7ymneQ/LEQBHKyDzSaAlje0yvhd5LmmrWdZLOkElA+mBaeL94AhQiQwMDQ1V95nXohIAMhBk00WOyi6j9YXPwyCAinTJIOBe2sV3JNYoggjh26RZymuWS7oRTxemi6JZyjACDAH7vCa0JnMP4d9mQCVzB9I875PxyU/VSB0iL0XRIekyr5OxLOdm+S5yRzxQqHBkoCKe41nGtVjLRPksczVjW0gTUg9BLPvJuCzFKDulnT4Wa4HhYy+khNA93S4BVGQUwpBlUkz/YUcWKqPbANskZnrR3IuVSTRhzCPMVlyV5FmEUQtTE4HLSZ/kYSzClz7StDwJM1Uj1c4P10fxPgooMjFZMCpliuAw3kqtnjB/iZmf/tcMBBg8l2sczKJVoXAQNzSzECdjZbBn/WJ5woDJ+KV9jIVJcpJtTGcfMpAx8b0xCKNWJ6Yf0UYZy5B+pzBgOickDOKbzDQyeAY+P8/J3M39TtAk705oR3zYhUGaXRdEkJCZs1xxt1CV2fkxM3beI4CKfvs8l0M0p6IFZToFM4MAKhE2tBLJfYzpT88gWl6xgqpEmyXVqJHl5IlBNO7Gsoz/BVAZ3ZFEeFOBYMwrYEkUAgTDMp6kHfKuOQHlvXQbYSDQNZYlrhLSZk5IzAKIApqTR4Iq4QEsg5MuBkcul8Z69P9S+tN9cXZfyIRNlBRiiaFCSxQrApRIp2UF8hr2L5UtDJyMc8LNQKWMWOXJw6gEZBDwYH4vVFiYA5VzzEf5QpnIcSbac6ZzrAi/Nyo8OAEsL5hdgY2AShQZ5ufnmJTJprn9XO9oDrTAi2xim0RpKPnEQkU5xfJEBhitP2KlYd8a6/ziiy9UMZwQGxWvUrY5Fu8SYxmUuWINN+cnP2deUdoarxPEGMvhf1oGRfkqMkx4m1gg2X/MK+53Yi2SssRrRhSDwkdpnRd3UslrfjdUoopnBHk0gwAqemwwiHVH2sWyBMTSM0ZcSeW9qJtMP0bQxPtJg/R0IG0agYWASFHuCX2L94g8B+d1DKJwlPFpVH6LvDS7C0rbRTktyzOEfoX2RFkoczWC87KCuM2KZcsoh9huzrs4Ho2BcyojqJXn88H4bIbogw08Z3DpNrr3zoyAyghgRHNApsEgEzKaWhlkzZP0u2iZxE1JJoDGybloPcyDVMzgMimn2wIDARTLl0EqjF6sGtJGTippcqdQ4EDnRJUTdjIeClu6PFHTQw2dsTz+54Ck5YwWCHlWsxaL+USrw7zGMugSIIFlyXoVcZFjXh4yoRZBJukSC3AVtz5JF0uKGYSKxYxWEz4nA4EjhSj7jdpC9ic1qGRuZjDJ8kWYijASQEVNqdQvDF8AlaSzr8kEqcljIGPlNdEECjAULarUIfdLuaLBouaKgf0m75ICmW3nuxSGLfczFkBltl6J5VJcEJhX3AP5HnlOrSqD2UIlwoaCX+oi3VDjxrziPieCUiY15jbIvRKLn7/RRUG02tJ3kpfWXwaCPqaJ5ZCTPQo99h0noAwCqDjJYTBrVsXyaQaOUhdjKgIoyDhGjFZaAYsioI336P/u8dvzsd9kwmbUOst6VLESCaASVzqOQ04kqRThQTlCPiAWIfYjLdEcj+JWR6s8+QQD5ROvs3xxMZK+F3nCc17jxJMKK1FSCFASQCUubswvcoDyQspjTLnDwIkuxygn6OQ/nGjzfrbd3A4joDJacyiTKQe4CYYEcUNkXcb204LF9lKBJ/KLXg5MF15FecY2UfkmLm7kWyxLZIB4ljBN3DDNniSypoplCWBhnQTIBCIic/i85G3m55W5Bp+JAId9xkm9zBWM3huUqwTHYq3nPVQusn1ysB/EA0IUhmLBEsBNVzHml7XfZtnOCT+DzDX4bAwEWlKPMeYz0CtA+oJ5+Y7l2QRQiUVVXPiN70zWSBFQUcYxkMezD3mQ3tl+0gTln7iUSjsE1NPqWRa/lrmDeWdN8SYSC5UoSMXqxHoEUJmVlUIv7CfmE+8iORfgSHpiEAWIzNXYdxwLnCeyPpmrUQZRznLM8RBAZew3lk03QNI6xxmDKECkb3w0LiVaH22gXWLXbXX9vQkjIBEbtR0UXMYg6y84CBk4+ZaBTmEnQdYjCZM0Air5Zo8ZUMlgE0Al94rpmu+VwkesRLLeRCbhZrM6J5nyIWIyZgpVThiNoIJMiZo/mtaFbkSjY6xXrlFIMZDxGU3w0gZxqZKJuhlQCQByBKjEQkUtq9TJWCwpvN+YLuWJEBJgY3Qpo4aN5YqwMd7P/8IcBezYA1SiTZYJDyfzFEpkgCyDTFAEN+mBEwEGsQ5KOzlBMtYvIFoEl1j2KOBEKDI/tW5075G1C8YyygNURq2rACqxUIkgo8AVuqcA4zhg4H/SHAWx0aok70kshqIVlP4xts/4XwC1K4CK9fK5GUi/bI+UKQJdABXfIQPfoeRhzD6QIFpFpvMdEswKbWhA5TrvNPaz/u+4/+wBKvaXuOaSPmX8iKKFi/2FxzAvJ2CkWaPST9bF8H5ajWQCL5Nkppv5sLwnjivyKuN4FCuGeBeQFxgtVGLttScfuK5RPnIqlhbWxWegm7Rx7EkbjICKz0U+REBptOzIOJc1x3Ivy+XYF/DHdFq0Gai8EQWLWVkjlgKRQ8KH2e9Stsh4s4VK2iLgS9a1GPuQMpZrLo3eAVKuo51dxcrE6+xHylqRa7xX3MHNywx4TTbm4Bo14+RbXBtFYSZyWVwAeS8BIAPll7gVChCjUtcohwgSKdOMMkXqoIyWtV8CqER5TA8No4JSFAasl6CTbZZgVDhwvRvphmBN+k9izl0IKAiojOPBrAAT7xIqNWUtGOdjosQQEF8WoDK7e8ucQQCUrCE3y3dRagqYkzXiZsUwrZFUVvLZ6J7KMcf3ITKZ6aQp0r9xDMj7ZD3SLz4cO2aOPtxof+hYn2sjAZAEIWLRMgjA4HWjJkAWq1NwkcmJC4QwL9KIaGFE88M0ahcYzNp8MbubJ/bMywFL65gwXTID0cpQS8aJIAMHOgWuWMqYRmZDoSXBKKCFAfIa202Lg/jpyg6BRgZNjZ8IajIoaqA4CZAgjFbWicmEW8aL7EZo9jWW6wI2aSWgkKDPMQGRWLzMjE2YOfuUZQhgYHvotkbNmFj6jEJE6mMsC7upFeM5FwszUKhIPjJ5BgGMojHk+yCDI8Nk4OSI91DoMIgJn+9fAkEf6UhcOpludFETwMzrFKJi1WE+o9CWtonLpnmCI0xfrKXML8DHyIBlosd+IkiXCZEIB7EgsX6+E1pnxeIm1iOjMoFWIGqVxe1V2slYXAmpNZR0cYvgAmNJYyzuIgL2BeiyDNKJTILYLllDRWArgpJaRbogyiYWUjfdSugSJP7svF8mUvzP6zK22A4BudIfxjbq/1pGOksDYhURlz+RLzJ5Je1RqSblifKB7lqciBndgTkBk3wyfni/0S2V7ugSxNJs5OW8X9xtmY871rJc4UsCNqQMTmAJECTQSsVxRMUgeY8oj4yL9uk6zrYL6BDLuLSdMWWT8FzWYeThLNM4+RbZKPdTVkugQpHKQZFPlGWUV6IcojWNvECu8z6RQyJ7jTxLgI/ZK0GscwIYWaYE8mrybHExNN/LdotVi/fwHZEXSp8zjfyaVkkJ5Mnkb+IiKG1mWfI+ya/EWkE6o1wWgMByxKLJybrwUeYjP5f+oVJU+pV8VOYUlLHk57SiCdBnmZRtIud4TmAi7ea8R8oS+cLyWB/XQRuDWISMuzGS1jnf4TyAgbxbypOYtCJtL49fy/ulvGafCz0ax4soY41AXmjR7MoucwZpu8zL2FbSF+W7WA0pjzjO2G4COnlPfD9UTBrnamIFlv4xAkXSusg29gcBmPAU4wYw0j8+GGth4YMv5ZyB5Yk2UhNCwUVGaM/MKmt/xHTNOskYZWDJACDzEUHJPBzI1KBQ6Ek7xT2KwkbSGMvAEk0OAQA1PeI+JnVw8IoVS+oiwzS3hRYuYQ58Jk6UOWkVC5UwY2oNjQyd9ZAhG9vG/1IXtVhGNwzmZ79RAMk9ImTMLpHUlDJwYi95zbGAFZURUB/dFTdHc59JeSL8WRbXCsiEX8pge0U7Jc8t9YqAFAAlLjRGq6Jo8TgJ533U2nHCbgzUeoqftywWZyz1EJQJI+d9FBYEYxQ+FLyiCaTQk8m/lE+wLsBCypNYNoQwg1fRpBq1pLK5hhGYklFzbZYx0IIldMJ6KFhk0iP5BCxKO8StTq7L2ie5zpiTNgZqLiWdwoYacCooJI2xrP0Q0EZ3H2P/cWJAemAQ7R7vE9pTFwxuurxGejQGliGTTQponnMsiFKF94hQ5WSJ5/rQfeAODciaRrFsGMvgGhQG8iljOgGLOch6FWM+kR1GRYUogaisEauV8R75T7cmmWRLXVTK8TrBDnk7xx3BiSjKmCaugXIPJ85SJpWQ5uuO1nqwXI5944YVtDoZA2Uzx7WUb4zJF2S3N7nHKL8IfGTizeusS5RUHNssS9y/RCHINPFKMCuqZN2uAGPmJYgUwCNtYD5RXpplDhVCfF4JVH4RmDLImh7KSAEUkk/kCcuTMiXmZFxkmeTnHEJAqMhvKvdksi/5zN4tfCaxLkke8c4h6Da2nX0rSwBEcUiwIPWRr4qlRsoifcnurtI+1knPEuO7Yn6CK9IhrxsPyifKTspGI6ASjw2jBxCvi4JR2kBZTuDIMtmHMj7F6sR0cfkzu4oLvYgSlrKfckOsu1IH52D25moC8CQf35Mo9fhcpGfO12QuKs9NS524F8q95BFy3cfjs1+gjzfWXzrVJ9vJwc9JFDUCwgiMTItpBFBkDqQDYWL8zwFIMGG0Qsl1DgjeZ1zYSZcwuhgaXeZYDuvnwJe8vFdcvJhORkvhIRNvYzuFNsmc6KrANkkbeI15+WysQ9IZy3/WybIphO2t05F8Ug9jPi8n6ARtwvAkHwU4n9v8jAQ1fHZxkzSWJ/cyjYyKAot5eU4XCJYnoEjuY/n2ymN+giC+F1pYJL+xDkljHxNQS7+zj4znzEehz/oJJo1l0A+a7TQKBeYno2Z+M70QLHFCxX4WYcv3QkshyzWWTaDBd0khb5wQGfOwLvYl22vua7aV6fJuJK+xH41l8RlIYwLomZ90I3nYdmpP2XajABM6ZH4Ce7bZ2OdMl4PPzPpZlqSx39lO9oGkMaZgYV4jrUgbONmRdL5/Y3m8l/fRjY/CTMaLlM2JB9tI+uB7lXQ+J8eckQfwGmmJdZhpT+7Tcen71X3huC84HkmXRpoz9hfHgD0aIz8mvZJv2LvOMshnSKNGWic9c5zKPcZxKvXK2CaNc2yTl7GNcp2xjAn+F15DHikHx4vUI+UxL8cv20weLBYSphvz8JyH1GFsP/kBxznHKcuSvBKzHCmLPI6KI7P8kuvkO3w2I2CiV4q8C3vvRmSOka+yPJEXcq+0h++A5fNdiRsZr0kbJJ/EfGa2SRRe5INsE+uVPCyTfcjJtpHnskxH5XLSTbks1hOWJXxc7uG5yPuy3o2Rj4p8ZHl8N+xr0oyxf8y8XOrjPeTFpAXpG6FZo3xiPtIrn5d9w/5gGg8z/fKcNGiPX7PdQvfGNnBewb4xKkvluj15yXdhb1ya8/Jd8mA72SbKUb5XabPUIefMRwUu22IEcExnXhkPxvzGMvju2D9i0ZL7GPvw4dON8+WOqzZtIxELIQuhyrnEki6xo3Red3TNnG4+l7IlNl83nzvKJ+kS8z5n7jXmMf6XchiXl26+bj4vqwx79Zjvl3OJjfe4WrbxXnvl2UuTOszX5FxiY9n2/jubT+ozliEM2FwGz81pcp+r6XKfq7G5HvO5sTzzNZ6b04z5+b+s6+Vds3edaeZ0e2nmduhzLTfNNGCPjiSP+ZqkO4rN+e2dm9MclcV0R3kdpTtTlqN77aXbSyurDvM1R/dLusTm++TcfJ3n5jTmtZduL5+UW5HYXl3lleeoLZQJxvIc5ZN05hc5Yq5TyjKn81zuN19zlG7MJ3kkNl6Tsh1dM+Y15zGfG/OWVS7vM98r5xKby3J0bs5vPnd0n710R/c6SrdXRhWmacFQhZ3vE6DMG4TKMu2Vay/NV/rfUZt9pX26HfYFvu4XzcM1DWga8GUa8GW5581+86ZMlbIlduU55B7GRgBlTHe2PN7jjbzOlqnz+RTv86nGOE2Ymog8896Egej+tPanK8xR95lnaFD3o+5HTQOaBjQNaBrQNKBpwM9pQL9AP3+BFQahGkRYx4AGl5oXnO+8QD+/HgOaBjQNaBrQNKBpwC0acOumCk/i9cvynX7XgMr6Lhz5VGta9R1a1e9CvwtNA5oGNA1oGtA0oGnAB2lAvxQffCkasPr2Ti76/ej3o2lA04CmAU0DmgY0DWga0DQgNKABlQZUmgY0DWga0DSgaUDTgKYBTQOaBjQNaBpwkwZ0x7nZcYJIday1E5oGNA1oGtA0oGlA04CmAU0DmgbOXxrQgEoDKk0DmgY0DWga0DSgaUDTgKYBTQOaBjQNuEkDuuPc7DithTh/tRD63et3r2lA04CmAU0DmgY0DWga0DQgNKABlQZUmgY0DWga0DSgaUDTgKYBTQOaBjQNaBpwkwZ0x7nZcYJIday1E5oGNA1oGtA0oGlA04CmAU0DmgbOXxrQgEoDKk0DmgY0DWga0DSgaUDTgKYBTQOaBjQNuEkDuuPc7DithTh/tRD63et3r2lA04CmAU0DmgY0DWga0DQgNKABlQZUmgY0DWga0DSgaUDTgKYBTQOaBjQNaBpwkwZ0x7nZcYJIday1E5oGNA1oGtA0oGlA04CmAU0DmgbOXxrQgEoDKk0DmgY0DWga0DSgaUDTgKYBTQOaBjQNuEkDuuPc7DithTh/tRD63et3r2lA04CmAU0DmgY0DWga0DQgNKABlQZUmgY0DWga0DSgaUDTgKYBTQOaBjQNaBpwkwZ0x7nZcYJIday1E5oGNA1oGtA0oGlA04CmAU0DmgbOXxrQgEoDKk0DmgY0DWga0DSgaUDTgKYBTQOaBjQNuEkDuuPc7DithTh/tRD63et3r2lA04CmAU0DmgY0DWga0DQgNKABlQZUmgY0DWga0DSgaUDTgKYBTQOaBjQNaBpwkwZ0x7nZcYJIday1E5oGNA1oGtA0oGlA04CmAU0DmgbOXxrQgEoDKk0DmgY0DWga0DSgaUDTgKYBTQOaBjQNuEkDuuPc7DithTh/tRD63et3r2lA04CmAU0DmgY0DWga0DQgNKABlQZUmgY0DWga0DSgaUDTgKYBTQOaBjQNaBpwkwZ0x7nZcYJIday1E5oGNA1oGtA0oGlA04CmAU0DmgbOXxrQgEoDKk0DmgY0DWga0DSgaUDTgKYBTQOaBjQNuEkDuuPc7DithTh/tRD63et3r2lA04CmAU0DmgY0DWga0DQgNKABlQZUmgY0DWgaqI40EBAQIIxex1roaxrQNKBpQNOApgEXaMBFGaonUv4ykWrSpAmCgoLQrl27Ch0sw53DlXpbtWqFNm3alLSzrPrKKtfd+1ims/e2bdsWbC/jsu4p71pZzyHXpAzzuaTbiyUvY15nO2vWrFktmOJFF12E4ODgCvW7vT7zdFqHDh1K6Jn/ff0ICQkB+YW/8DbdTi2HNQ1oGtA04DoNyDyLc5jWLa1HG1ss51Uet2iBti1bIahtWzV/ae8HMpQyvnbt2q7KUNdfoCb6yu+zGjVqYN68eRg1ahRGjBjhtWPkyJEo67BXN/Mzffjw4SoePHgwrrrqKkRHR4P/Jd3evb6QxvYtW7YM48ePx7BhwyrUtyxLDnk2eX5jv8o1SZNze7Hcz2vsz/nz5yM8PNzVge5z+WvVqqXoROjH3rNXVZq8Q4kHDRqExYsXY+bMmYpGJN0XY9Lw2LFjsXDhQpBvaH5d+fxa97nuc00Dmga8TQPBwR1w1RVXYtyQkZg36jIsHDYVV1w6xeeORcMmY+agSNx01fWYNTNKzWOqSrY7Uy/nWVFRURg9erSr8lMTvbeJ3hPlN2jQAGPGjHH15VZZ/nadO6L+hf6jIe/er0+V9ZWr9NGxY0f06d3bb9rr6PlI0xMnTPSb5yBQadmipd+0d9KkSahfv77ftNcRneh0LaM1DWga0DRwLg1079oNvTp1w6yeI/D5zf/BJwsfwjcLHsH6+f/CNwserfJj/XxrG75b8iQeGXs1pnYfjHatWvuFTKKHhxtz7nNfkiZc3+uTBvXqlbzcgZfPw9iH7kHE/SvR84GVKo544HZEPHBbyRH+wO3qGq/zCJd899vyO4iZT+4xxs7ezzZ1v+tmzHzlWUx66lH0uGM5wu+7FT3vv1XF/O8Lh7Qn4r5b0fveW7Fg1UsY9tDf0OueFaoPw0v68nZr/zroLz6vNw++R77Xvg/chrH/vBeWTu3QLKgtIiKsFqoAF3yBfW1cKyXBWKuSYMjMfoi+byLG3DYAo1f2Q+QdfVXM/1Vz9MHYlX0wYeVARN09FrXaWDDg0v7KhdXX+tFeewIDA6EBle/xcXvvSqfp96RpQNOAOzTQPbQbBnbqiRV9p2PvyvdQdPlLOLbofzi+4H84tuANHF/whor533r+Jo4teEsdRxe8haML34KK+d94LHwTRxe+Yed48+x8co+D/McXWMs5uPRtfDT5TlzZcwy6tA32C0BFF0p6hLn4XjQhu9hhrnawR/I3qluvxPy4aM1buOVUAcYdzsCooxkYc6T0GHt011nnxmue+G+vfKaNtrWBbRp/IA1X/LwXi07kYWJximqnJ+r2ZBnS3vGHMzDpYDqu/G0/Zh7chYn70xy0l/2aiTFHHPWvXGeesg65P932nhzdZ80XaevXyUczsPz3fbBMGYUaLZqhZ0SEoqtAPwdUo8dFque4/r9z8NS+O7Fy91zcmhOFW3KmYUX29Eo/brHVeUv2Zbg1ezruyVmAZ4ruRN1+FoT2DUXboCDV3gCLb2/2oAGVlmuO5BppIzAwAIEXWKyxOmeabxx0UzWuEeW5rx/SXi5gd7atVdHf0res2xF96HT/4R3duoRiUOdwrAifhn03voP9s1/CiahXcWrmazg1U+LXcWpm1Rw/zHwdx2e+gsNXvYHVY27H1T3GIrRdiF/QngZUfjy5LI+JNa5baqEavep5TN6filaFCbi4KAktCnkk22LrecvCJLQqKD14bs1Xdmy+T8pw9n7mb5ObgAEnsjDgYDraZ8erdjgqV8qv9LgwWbUrqDAZ7XPjMfSnXHTNT0a73Di0KEwwHIl2+9eZvqxYHuv7bK7eWwLaFyVi3IldsEwcisA2rdAjopdtYu8/zN9M43RHi7QBqugnR+PWrNmYs70votO6IyqtG6LTumFmalfMcOJgvigPHjNTu6jyFqUOwMrMObD0t6BL/25oE9ReA6pqzGfNNFrdzrk2YMaMGRgzZjTGjuUxRq2345o7+8c4jB07vhIP1jdWaYa5hmHWrFlKkVjatspuT3nPbm3v6NGRao3z1KlTTe111K9jlccJXYoq82A/sj6uBe3VyypDqhuNn0/PI4Dq1ojpOLD8XTuAiqCq6o4fbcDuyFVv4MPIW3FV9zEaUJ1PBOqrz2oEVGPefgFT9qeiLSfbxcloXbTZY0ebws1oW7gZjN0pl/e23ZOAwSeyMehgOoKz41V57pRVGfe0L9iMkLwkDD+dh+4Fm9EhNx6ti5LQuijRFnu2f119plZFrD8JIUXJGH98NyyThiOgVUt07yVrqHzbUlLWeKLLnxFQ3Z49B/N29LMBqjAVE1xVzRGG2andcUXaIAOgCkWboHYaUGlApWigLNr21Wvjxo1Ds2bN/KL97YM7omtYD79oK9933/790fSii/yivdxlzQ13Jr94Nl8de95olxFQ2bdQVR2YIpAzAipaqDSg0sLTJ5jI2YDqJUzZt1MBlZZFFQNArk7wy8uvAFleIgafyvELQBVkA1Qjf8pHz/zN6JiXoICq7wAqK7ANKdpSrQFV1BOR8HVA1XlAJ7QOaqv4gXb581/LqDcmNv5SJnfUDKxdC/XatkSrIf3QsF846vWPQL3+vVGvf58qP+r374MG/fqgVs8w9Iiahr4LZqNWRBjqqzb6TjtL+yoC9QdE4IKenXHptYvQYfJo1Ijoinr9e5ZzhKP+gN52jl6qvPoDeN1atnOx5Of9LPfscuoNtJbVfEhf1GjbHLUuaoIhQ4f6xNzGX8aOL7ZTAyrvySHt8leNwZ8/ASq6/Amg6pBNi89mtPKgFa08UOfKdX8BVB0NgMrSuiXCtIXKy5arcy1UGlB5T3j54mSlOrVJNq8ZYVtkPeK+2/G3Y3swMycJE3M3Y3zeVkzM5bHNFpvPt6h8zOvtY3LuZkzZnYgr9mfg2iPZmLorAVNzkjFxj+8ck2xtmcA4dzMmZ73v6dwAACAASURBVCZg8ZEcLNy7E5N3J4LXeW28Leb/qjzG521R/XfroSyE3nEDLPVrYvDwYRpQ+fmc0V8A1dEr38Ca0bfj6jDt8qcHnQ8MOn8DVINsLn8aULnnOimgUIBodbRQmddQaQuV5wALF53rXf4815/+Dq4EUA0fZd0EptN9KzDlRCY6FCXhkn1bcNG+rbhk37YqPy62taFlbhIiDu9Cv1M5aLUnHnR9bla8GZcUb0Gz4q1VflxSvBUXF2/FhXutR5u8ZFx6Kh/dD+xEy/xkNLddv3ivNR/zVslhq//CvVvA9bjjj+xC/TtjYGlcF4OHj9BzOx+Y21WEtxgBla+vodIuf35ObBUhVF+71wyopu7bCVpX6PInk29fiOnyRwvVoJNZGHxoJ4Jz/MNCNeJ0nn+4/E0cjgtatUTPCOsaKl93PStrHNkHVP0RnRqOqCpbOyVrtrSFqqx3p6/5F1grBVTWbYC73L8C049nolM+14r6lhzhOlxuZsRNjYaezEZIThw6FCQpF3e1Rte2zrcq/8saY8pfKr1C9iQi8sQe9Nqbgvb51rb6gjyWNrCdnC9MPbIbDTSgqjZAsgRQ9ZqGfctX4cDsF3Aq6mX8UIUbURg3wdBrqDSI8snBZgZUsoaqRbEGVCI03InF5U8DqsqfIJ4NqCKxcs9szE/RgMoTYEVbqCqfnj3x3rxVhgCqEaNGKvnW9b7bMONYFjrncwMe3wJUbE+7nHj0O5SOSw2Ayh3+7q172tgUmX4LqJrQQqVd/rw13iqrXAKqIaERuFUDKo/P2/UaqmoMBv0JULXNS/QbCxV3+euUm4SRP5otVFW7u59MBM5x+au2FioNqDwphDWg0oDKSE/+DKiCs2OVhUp4oi/EGlDp8WUcX1X1318AlV5DVY3BSVURf0XqbVS3PiLHjFMofMzbpbv8+aqFavCpbL9w+TMDqpC8BLVNuXW78qq3/mlAJS54lR1rl7+K8Ct9r29NOP0VUA05kVXi8ucLQEraoAGVb9H3+cpvzgVUL6rvTv1Q8mFf39g2XQMqDag8bkKsyKBvVLceIseM8RtA5S9rqMyAqnTbdG2hqgi9OnOvdvnz3qREW6i817fO0Lav5dGAyrPKMQ2o9PjyhTGuAZX36FC7/FVjEKgB1Wa0Ld7i8Q04NKDyHkMqT+BoQOW9vteAynt9Wx5d++J1Dag0oDprUwq9hsqnFObu8owSQBUxHfyw74HZL2kLlcWCgIAAdbjbr7xPAyoNqMoFHGoXPu6YlBuP9vRNz46F8lHPjrWe5yeq3YC4g5K4N7gSe2uXv3b5yWqhctvMDWiftQntbbtT0SVODrZTNIfOttnTgIrPr3afyo1H290bEbTb2t4g5Uroep+ePy5/o7EyZy7mpwzwyC5/s1J6YOaWMER/3x2zU8MxK7WHi9+t8o7LHxm9M0ze2XyOytKASgMqI234M6DyxTVUIl+EP3f0t13+NKByig8bx5Av/vcUoDoZ9QoOTnlWHSeiXgbPjbv1nYx6FSeiXsWBKf/FgcueV/+N1x39l13+KuryV5Y8lGsSe+o9aUClAdU5IEi2lqUAUMAjNx5d85Mx/XAmlhzcjeX7rccNB3NwzaEcDN2zGV0KktGu0D2XN1XfngQMPsE1VBkIzuGaJOc/7CuAyAiS2u5JQN+sBFx1LBd3/3IINx3NRWR2AkKyN6JVfjwuLkxEy71W65VsZysCr7zYU4BKBCu3zO2cuQmTi1Nw6w/FuOf0Piw7lIkRmbHolLURQYWJaFWUpL6rwrbJ8zpqp5Rb8h2qarspxWhYv0NVsV3+ZqV2x5wdPXDF5iH4R+FVWJE5HQu2DsDclN4+AajI7Js0aYJp06Zh6tSpJcdll12GyZMnY9SoUahZs2aFhb0GVBpQGScW/gKohN8F2bZNv/REllL4tS+w7kboiE86my78VuSL1CfpzpYj+eR+I6Bql5eolGqSxxfi0m3TM9HgziWwNKmjd/mrBvNFAqpBncNxq4sWKgFIJ6Jew7HoV5Ez/WmcWrEaf/3tSxTNeR6HZ7+sQBOvH5/1Gg7Mehl7op7FL3d+jh/v/Az5s19U6SejXjsLeJmBlScAlREoDR48GA8//DD+/ve/Y+jQoSVykvJO+N2ECRPwyCOP4K677kKnTp1K0o3lSN6yYg2oqsEAcfSC3XX5E0AlAqRNdiwGFGzF8wASbMe3AHh8CGBq/vcIyYr1CKAadDDddUBls4xxsw0eQXviMDAvGU/gT2wC1JEMYBWAqMLt6LTrO1xcGI9mxVYA6C6gGv5Druk7VK4BSvYv+7rbrk246ngePgKwEUAsgK0AXsQvmLA7DmHZm9SmFy2LnCtfBPb5A6j6KeATlRbmEgCS71bNSQnHnIReeH7/3TiInXjnxONYtHE4Fmwf6GK53rFQcXz36dMH5vDXX3+VJDVt2rRECDjiB+Wla0ClAZWRRioKqARwiBwRvlRikbdZ5l3lv2awIeX6G6Ci4nDkyT0I35cCAqp2HuoPc/+4e64BVfXkB0ZAxQ/7OuvyJ4Dq2KzXsHvyk8i55S3gFID0M/h+/pMomveSAlo/KED1CnZc9hgOPvgF8CuA5B+RNOdJHJn9Ck5Fex9QCR976qmnlIw8efIkfvzxR/X/scceO0tWfvnllyp93759OHPmjPq/cOHCs/JIeeXFGlBpQOXQQiXfywjOjsOI3K14A8CrR/fhph1xWJSThFm5yZiSl4w+uQlon5+ANoXJbq1ZMlqo3AFUIjBk98Luaetx95+H8QmA/8vbiaVJ63F7zg58rkDVbxiXEYd2efFwFqBI+RJ7zkKVjDZ7YjGpOEUBUwKo63fE4Zqkr/Hgvt34GsC/Tu/FsJ0b1BbAzu4iKBMMDajK3uUvKq0bZu3siTmJvXB3+lzkIhm/4ijWHXwNV343Bgu3D7IBqm5OAjXvAapatWqhXbt2JUebNm1w0UUXITc3F+np6W4xf7Nw0ICqek6gzO/Z2XNPASryTSOoalGYhOaFSbikIBHNCmh9t7o1uwus5H5PASoBgtLuZkVJaFa8GZcUWdstclHkgTG/pJUVS3u9Bai4bliOstpR3jUNqKonP3AXUJ2a+RpORr+GougXsW32U8DOXxT4QPoPSLj8CeTPf1EBqtNRr+PA9P9i+9XPAwXWLGeS92P9vEdxaPYr+KGSANXVV1+tKl+5cmWJfKQVimH06NEq7aGHHlLns2bNKskjAIvy1lleKfk0oNKA6hxAJYyWDJX/u+1JxLj87/EagPv3Z2No3BoEp36GlumfoW32erQrjEdbZe1xzoIi5UvsKUBFwNE2Nw6Tc7coa89DPx/EyK1foX/6BoRt/wp3nyxWFrbr8tMQmrkJ7Qus7RUBJ+0pL/YUoCIAbZ8bj8ii7Vjx20FM2pOMXilfoX/K1xix5Uu8DuC1v05hfNpGhBSUuvyV1z55Hg2oygZU0Wk9EL0tHNcnjkMSPsKW01+i4EwaPj36ug1QDfYJQOXI7SAsLOwsYeAonzD78mINqKrnBKq89+7oekUBlZlPEXi0zE9Es9w4XJIXq45m+XFoURCPVoUJaOOkBd5crvA7jwEqm8cD5R+BVNP8eDRhm/OlnRVzJZT2egtQsY9b5CWgZV6C8oBwF6hqQFU9+YH7gOpVHIl+GdtmPAZ8nAscA05szQMyf0by5U+icN4LOBn9Co5GvYj0y/4NbDoO5P+J31IOAykn8O3cygVUQ4YMwQ033HAWKGrUqJGSmbfccotK/+abb7Bnz56z8vTo0UPloRugI97oKF0DKg2onAJUE/K/x1sAnj1cgDsL0nDj6UJEHU5H713foUtOLIIKk9wWiJ4CVG0JULI24erDu0Ej7jXFaei6cz3a5saizZ6NmFWwXaXfcbwAvTM2olO+VTCKgDMLakfnngJUrYuS0a4oGcG5cQjJWI9uWRvRO3sTRqd9h5WHc5RF7f+OFGBk6gZ0Umunkp0SkPI8GlDZB1TiGjgnpTdmx/XF2789it2Ix7+/uQep2IjVp/6LKzdEYpEPWajsMfDPP/8cp06dcpnp2yuLaRpQVc8JlKP3XV66pwCV8KPgvCSE5yUrd+yhuYkYvicBw/OSMLAgGd1z45XSiDxX8jviv+Z0ye8pQNW6aAtaF261rmnK3oReBZsx9kAaRu/dgT5ZceiSE1ci79zZRVba60lARRnaITcBXXPicWnx9xh/IA2X5m1G98yN6LQn3rpplIs73mpAVT35gbuA6lj0K9g99Qkc/b8vgd+BuMffQ947ccAelACq47NeQdqUR/Hb0/HAz8Dn972MU99lAek/YdMcK6CilYubVdCF0Lx+iueeXkNl5HPPPfecAksETUy//fbb1fmMGTPUOZWSa9euVWnNmzd3WbZqQKUB1TmASlwYWtiEG3dMiszfircBbAeQBOAr23qfp3AKozM2lYAqs7Bz5tyTgCp49ybEnMjDZwAW5W9DaPYGtCqMQ5uCOGUB4pqvu3/aj4jU9eiSV9WAymoBbFmUhJa5G3Hp/u/xL/wFDuc0uif+dgLRyV9hSGYcQoq2qvfEvipP4ygCWwMqx4BqVloEomP74MG8xUjHN3gu437c+8VSbMOXeP/0f3DVxtFY9L1vWKiMAkH+k3Ez3H///SWCQK65G2tAVT0nUO7SgycBVbv8JPTJSsDdOIl3AHwK4AsAHwPKlXzekUx0y9ykQIzwL2dkB/NI/ooCqhK5x7W4hUnolLkJc47vwau2tlLm/Rc/Y3J2MrrsjlXrnoz1u9rekJwERJ7Yg4i9FVtDRU8Hrhu+NCcJD+E0VgNKccg+fuiPIxi5Kxbd8pJKPDKcbacGVNWTH7gOqKyufjnTnkLGov8CBwF8V4DnZ63Enx/vBnZbAVXugueRPelx5N/wFvAD8NMHqXh95p1A4kEg9TTi5z6mXP4qA1AZeR43b+IaKgnXXnvtWUBp9WqOGODQoUOSRW30xDIoE41llfdfAyoNqBwCKjJUCqs2OXGIyE3GXTiJJ346hMU7kzDn+4148sRebAFw74lCDEjfiFAbQOF9zjJt5rMHqFopFzdXy0mGACqul7oydyvCszaifWE82hXEYXJOslqrdPfPB9Aj9Rt0rnILlfX56KrYriABQwu34M7fD+L5nw6rzSk44YjJ24EBGRvRpiBBrfnSgKo+IsdFKiYX/aTs8uf6phSzvo/A8q3TsB1f4J0j/8F1ay7D7V9cia34Am+feAILvhiBK7YNU9unRzu92YX31lCZGTkX1jKQgZuvuXuuAVX1nEC5Sw+eBFQdCjZj+K4EvIwzSmH03KFcPH00H/88VYQ7ThdjcsE2hGXHKbnhqvzwFKASmcW1tS2yN2LGgXQF+P6Hn3Dnnu34975sxZefxmmMTN+IbjkVa68Aql57U9A+t/TTI+UpzKSd8tzc0CIsO14p47gJ05NHC3B7zvd48ccDakOmB345hEG74xCSE6eAYivZ3bYcOa0BVfXkB64DqldxaOaL2Bb9OLDhsAJQq+f9HS9MuBl/rdkNZAKfzfw7Ns/+N3bOexrY8Rew+RhWzb4XqybcBsQeAFJ+wCdT7sPe2S+rnf68baEy8ryIiAg888wzePnll8GNnLZt24a6desquTlo0CD8+uuvyMzMxKOPPopXX6X6BKAroLEMZ/9rQKUB1TngRzR1ZNg8qF3kLn5d075Bv/Tv0D1rI0KzN2HC99/gXfyM1/GnWucTkR2HtoXOr/URwWAEVO5smy7lqDVJdPk7mKk2dFhalIp+uzagY3482uZuwsz875Vm9I4f9oIbV3jO5c+9LW+5ZoD91SY3FkHZG9AtZxN6p6/H8C1fYNHOeAX+VuFXjErfiJb5pbsSyvM6ikXQagvV2RaqUle/XliweTA+/ut5HEA63sl5Gi9lPYhV2U8jB98j4c9P8Vjm7bgueRzmpvSBWmuVdnZZ0XbPKwdQ1ahRQzH99957TzH9iq6dEmGhAVX1nEDJ+3U19jSgGr0rEf8D8MyvRzFlw0eITPwY/bZ9hp5pXyMsOxYhbiq4hA+2y4lHv0PpGHIiS4GHDi5umy58k/IuNCsOj+J3rMUZzN62Hv23f4WRyZ/jjgNZWEdFV/FO9Nv5reLfrm5uJPUYt02vEKDKiUO/om14AGdw+5E8RG7/Br1Tv8bY+I/x2h8nlKv++F0EXQlKnsvmTSLnpf/M8TmAqnFtDBkx3K2Jpqu0p/N7jxcZAZUzH/Y9EW3d1e+P56k+B376MhNZ//kUO//zKbDtOFAM7H/+O3x7zZPAOxkqT9HarUh77jPkPvcVkPkjUPQHih//CgVX/Q8Hol+2fUjYey5/juina9euqn3cQp15jh49ipSUlLNoWnbUvfvuu89Kd1SmMV0DKg2ozgFUwliF8XfOTcLIQ+mYdjoPvTI3ICR3E4IK4zF0xzd4Db/gf/gLk3dsQJ/dsW4JGHuAir7pUr+0p7xYWXpyYjFzz1bl8vfAj/swcPtX6JYTi3aZ67H0RC42ALi+MBWhGd+qnfNYpqv1nLuGyj1ApdZQFSRg2JGdmPtzPnpnxyrXyYg98UqAP/rbEeW6MTkjTgMq2zitX/9sC5UrH/YVQDV3ey9ct30UPsULSMNG7MRGpGE9srEZ+5CFYmTgO3yA6xMnY15qf58DVFxoy9C9e3eXGb6R+Zv/a0DlvUmMua/94dxTgEom5iMzEvA6/sLTvxzBwm3rcXn+VkzMS0IE1/lwp9hyLCbl8f9SQJUNWn9oFSvvHuN1kQMdc+IwIn+LckV88kQRRnz/FToWJiIsKxYEJm8C+PcvBzE87Vu1u62zu69KXSX12D7sW1GXP2633iEvCZ13x6Fb+kYEZ2xA0M71mJy6ER/hL+WyOHznJnTJjlOfFWlebO2X8ixh8t6mHrF9h0oDKo/y26riAQRUQ0IjnP4OFb8plXXZ08Cbu4AiAHkA9gLYD+A4lHsfDgAJK18FPsi05in4E0xTebi1OjcEzAYKl72DwhnP2wCV/e3TPbGGin3LbzROmjTpnHe2d+9e0M2PeRhWrFih/hsVk0eOHFFrqVx9RxpQaUDlUOiQ8RPs9MiMxeLTe9XOef84lofJ27/BkNT1WF6crlwgHvvtCIalfYfuOdZdhURgiAApL/YUoKIAoHZxaEYcnsNveJ/gafdmRCZ9hknZCcp3/3OcQXR6vNJgururlCcBFX3fF53KU1u833d6L8Zv/xpjtnyBawp2qLRVfxzH+LQNyuWvue27WeX1p/R/9bdQRWLlntmYn+Lah3353akFO/phcco4LN82E8u3TsfNm6fj3rjrkIZN+PTk67h5wyxcuyVSufwJELNvlTJarirHQlVcXOyxrdKNAkMDKg2ojPTgKUDFCTxduIdlxOMN/KHc0BJwBtts3zK8/6f9GJ4ei+65SR5aQ2UFVOTT5fFK43XKD553y4zFrL3pSl48cCgbw9I3KEVhSG68Ws/6X5zBqziBMSnfoEM+3f5c2/WvhD/vSVTfoYqwfYeKctDYnvL+CyBiu2l14vbu7YuSMf/XvXjo1yP4An8ql/yb8lPQLeNbtMyLx0XFSWguLn/l1FcKqDLQ4M7rYWlcS1uoqsF80WVAFfUaDka9gsKFryH72tex69pXkXrty/j0ysfwy1dZQN5fWB/zJBIXPYldC15E9jWvY+fiV7H1+hfw5RWPAkkHgN0/4JtrH0fOvOet36Ka+Sp+mOldQEUPDoa+ffuWgKrLL79cpS1btkylHThwQFmpGjZsWJJn7ty5Ko95h0Ajb3T0XwOqajBAHL1cdz/sK4xcGH+nPQlqwes/cUptO87vI63Bb2pzio/wB2ZlJqJHdiyCC6wCUe53NvYkoGKdnXdtxJQ8666E9Cn/BL+qjxBzUfHNBWkYsnMDgguT4apmUZ7HU4CK/Uv/90vT4/DvP35AHKBcFT/Hr+rDvtxYY3FmIgbv2qh2A2yhARXOtlC5B6gEGEWldEdUSg/MSO2KmTu64dqk0diMj/Der4/h8m8vxeXfy3eonP1gsPcBFb+XwWD8boaj8e9qugZUGlAZaaaigEom/PyAerPCePTO3ISH8aNymXvuSCEezU7Bu7+eAD+6/q8TxRiWtlFZlUTuCL91Nq6ohUoAVVhmLObuywCnY/ftzcKlqVbXvo75iWot0nM4oz5nMW7HtwjJSwA9DZxtI/PJ84VUFFDZACDL49GmIBFh+Yl4GL8peZcD4Hv8gaU7ExG+exNa5cXj4r2bNaCqxnM+4/h19N9VQCU78Z2c8TKOT38RJ6a/hIPTXsTmqf8CPi4E8oHk+f9G3tzncXzmKzg5/WUcnfEi9ke9gB2THwPif1HrrmKj/4mDs1/EyWj7rn5Sj6csVFwnlZWVpeRlcnIyMjKs7ogff/xxCXgS9z5m2rhxo908jvrRXroGVNV4cLkLqMS3Whh16+LNyrWhf/pGLD+Ug9dwGu/9dRqPHC/AjIw49M6wfnjWVcEiQqgUUGVh8KGdCM7hd62cd/kzt5ff4WiT+R3G79mCR04fwjv4GS/+eBALdyejT8ZGhOZbtx+X+l2NPQqoirYgNCcRg9PjcMvhXLz1108KrD57Yh/mp8dj0K6N6JafqACVswCwRGAXbcH447thmTgcF7RqiZ4RvRUjCbAElDAUe0zBl9M8CahKgBXXQ6WGq00o/rl/Ke7JmY+rki7Fou39bZtSGK1QZf33PqAaOXKk+raG0T3BU+9LAyoNqIy0VGFAJRP+vZvRujgZnfMT0CcnHgNykxC+81v0S/kaI7d/hZfwM74BMDM9ER33xKsPxLvCk4Xfle7yVzELVdfdsZi5N00BKn5gfVjKesV/O+UnKgvV8wBePnMSo3esR4cqAFQi79hHfHZloSpMUt/4Ynv6ZsVicvpGrMzapoAV1zhH7opHaE4CWhdvUdYs3mssx15/awtV9eQH7gIqATz8wO+x6FeRFf0sTt37OfBYHHbNfxb75r6ktkMXy9PR6FeRN+M5/Hb/evz86CZkzn1OfcfK0XbpUr4nAJVRPi5fvhwEUevWrcPChQtL5j6Ud+R3l1xyCR544AGsWbMGb775JqKjo0vyGMsx8kZH/zWg0oDqHO2akdGSYXP7dDLioLwEdM7chF7pGzAg9Vt0T/sW9DfvUODc95HsMW2meQpQsSzV3r1WoRGUY/Up75P2LfrvXI/uWZuUZYqbVzhqizPpngJU1ODy2YMKNiMkLwlhuzahb8p6DEr5VvVveFYsOhckol2hmy4lGlCpD/MKcHIc91CAam5KX0Ql9sLsLb2xIKUv5qREqHRf2ZTCzNzN546YvLPpGlBVzwmUs+/fnK+igKqUl1q/t9etMBl9ud4nexNa5MUhKD8BwTu+xB2nitTEf17WFiVP+D3B0nudd4PzlIWqU3YchuUkqbVSz/9wAJE71qtdWEN2b8C43GSV/uiPBzCMgMqFD67LMwkAdNdCJfKZCrZWRfQKSURI8Wb0PLADYfnJ6EAFXF48+m35HH87mKNc9edmf49eGXHq+1ot+J0tG9gtK9aAqnryg4oCKgIibn1+ZPYrKJj+DLInP45Dc15SYEnt3jfTaoHif66/ypvyDHZPfhKHZ79a5venPAmoyMvKko9yTWIz7yvvfnv5maYBlQZUTjFXI+NVW5oXJKnvIREQiGuHMY8r/ysKqMqtq4CbRrC9rgETR+V6ClBJ+QKsVF/SbbIgWYEsAil32l0isDWgchJQWa1Os1J7KIvU7NRwFc9KDbcCqtQeTpbjfQuVI0buiXQNqKrnBMpd2vAUoOLEv2XOJkw5thsvA7j6dCHCUr9B15SvMTBjE57Fn1gDYEpaLIJz4112oRM+WlFAJXyTgCRs1wY8gpNYD2BORgI6pXylNgq6+6e9ynJ1XV4K+u20rq1yd5e/igIq1qsAVfZGjDyagSe5++DxAkSkfKs+cD8k9Vs8fuaEam/07i0I3xWrtk0v2ZSiHFClAVX15AeeAFRlbXsuwMjd2BMWKnd5XkXv04BKAyqXAZUIMAECPg+oyhEc8jzOxp4GVI7qdbd/ZWJQ/TelkO9QubYphSNL1azU7pid2h2zUnvagFRPJ4GUuAFqQFVRgaTv951JnKcAlfJwUO5y8XgKv6pPVzzx21HcfzgXr+BP8JuBK/fuwsAd65UiiRN5RzyxrPSKAiopu03xZrTdvRHR+dvVmlZubnT30Xw89dNhxHK915/HMHznBoRmx1o9ImTXPCfbLfzZ3W3TxULFfmJZHXLj0S8nHk/gD3zH9v10CEuP5OA5nEY8gAd/OohhOzchLNeqUHS2fzWg8p2x6Em+SEA1qHO407v8mYERLVQaUNmnDQ2oNKByS3iJ8PFEXGqhysagg+nokO3aGipPtMGVMioLULnSJmNeEdjnD6By/cO+jkBVxdI1oPKk4Ndl2RfaldUvngJUMoHnx2fHZyXj4d+OKlDFyf9a/IVb92dieMp6tUss+ZjkN/I0Z/4TUPU9uBNDTri3bboAFe6Y16IwCaEZGzBv3068iN/V5ys+BfDYz4cwYVccuu2JQ5D65mJpe+X+8toq/NldQGUuP6ggGV1y4jEuOwn/+uOo+n4hNzT6CMADB/dgbOpG1bd0zee9Ur+5HPO5BlRVO/68Nc6NgOrA8ndxYPZLZW5jbgZU3j7XFqpqDEq8RdSVUa67m1KYGau3z82AKpjbr7uwKYW322cuXwOqqhM0Z29KIRYqDag8wU+0y1/V0bUn3p+ny/AUoBL+yQk9J/790zfhsqzNiM7egonpseifsQmheUno4KSFR8ozxxUGVLZtxFvu3YJLipLQoiARQVmb0H/XJkzdnYgJWYlqU6NO2bHWrdJtlilzO8o7F0DjKUBFT4b2RVvQOTcBPTI2YGRmHKZlJ2PMrjj0S9+IsD38xteWcjehMLdbA6rqyQ80oPLee9UWqmoMBjWgcs91xCxYzOcaUHmPIZU3KdSAynt9BzL/4gAAIABJREFUrwGV9/q2PLr2xeueBlSc+Lcr2oIOeckgmOiYE68+6Cuf26ASzcxrXTn3FKAi4FFWKn4/i5+2ILDaE4e2efFoVcid8kqtPEoZWM73nMzP4HFAZQOiLFcd+QmqrW3zEqxrcZ3chMLcTg2oqic/0IDKe+9VAyoNqCokxMxM2J1zbaHyLPATga1d/mRtU2XF2uXPF4GBbpN7EwhPAyp3ZIMr91QUULlSV0XyCn/2lIWqIm0p614NqNwbN77ObzSg8t571YBKAyoNqFx0NdEWKu8xpPKEkbZQea/vtYXKe31bHl374nUNqDyr6BLwogGVHmdVOd41oPIe/WlApQGVBlQaUJV8yK4qGb0zdWtA5T1hoAGV9/rWGdr2tTwaUGlAxW8kTj2SgQZ3Xg9L41oYMmK438gKXxtPvtIeDai8x+c1oNKA6vwBVIVb1IcNWxdudRA758MvH+IdcTofPfO3omNe6XeuxKe+KmPRhJa6/A3DBa2ao2dEhBKGMlHyFQbvSjsaNGiAyHGR6jmin4zE7dmzMG9HP7XNeVRaZbn2OapHu/y58i79L2/AeTWZFD4xYtRI9dxd77sNM45loXO+a9tvCz/ydkyXv36H0t3e5c/b7ZPytYXKexNa53kKx/L5NZ6lbzSg8h79aUB13gCqFzD1QJr6UGyLYgrEqjwSbfVbt3FV31vKS8SgE7Zt03O48HcLWu3ditbF29C6eKt1sW3RFrQq4n85eG5biFtmbL5P7jfH5ZTHRdPFWxBUtAUh+Zsx/KcC9CjchuDcBOsHeIvkubzbt22KrB/85Ud/rYcV0LUtTAaBnAjukOJkTDiZCcuES1GjdYtqCahW7pmN+am+sctfVFqY+m7V5WmDsDJzDiz9Leg8oBNaB7W1AVnfFuDaQmVf0AbUrIc6TVrBYqmNgMDaCAi44LwAVv4GqIL2JJwFqIKpQHPR+6Ay8psBVcTeFLTLS0S7ws2Kf1MeVkY7yquj+q2hCoQlsCbqNW2uxrIloOZ5MY4FSElMQDUkNAK39pqGfctX4cDsF/W26R7CARpQeagjhVh9KTbu8jd1zeuY92M2uh7bjpAT29HleFUeO9DleAo6H09Bp+Mp6n/o4e0Y/XsBxv6Ui7D929DpeBo6Hk+zxsdSVdzp+E50Op6OTsczbDHPrXkqJ7bW3+1oOsIP7cT4Mwcx6Ohu9Dychq7H0hB6zBrzf1UenY/vRJdjaeh5LBWzzhTBMn0ELK0uRo9e4baJvf2Joy/RrqO2mC1UBFTzdvRVQEYATcW+JeXI+lR+urKQpYbj8rQhGlBVA74aaLFAgYq6F2Ho7KVo3mMELJa6VmAVcIH1WjV4Tkdjzd8BVUjhFp8CKAJgzICqlw1QGZVhkrcq4+oHqKgIqYH+E+cjeGg0LJaGsFgCYTlPFCQyzrt16YZBnXtZP+yrAZVHQbUGVNVYIDasVw+jx45VBDPyib9jcvIn6Bj3LoIS3kVwfNUfIfHvoWPc++gY+x5CvluF0RkbMGrblwhdvwohse8hOPZ9hMR+gGAe8R/aOZj+vp3DUX57ZTiX1iH2AwRteh/tN72Pzps+QLfv3sekrEQMSvwEYRusz8Dn8IUjJPZ9dGQbN32AySnfwBLZH3XattCAyssugQLotIXKfwG7TDoYE1Cp8zot0Hvh3zDqpmfQbNgVsARQwx1Q7S1VGlB5x1KkAVXl8gehYytwqokuk6/HsNteQ9sJy2Cp1QYWCy1VgR6dWBv5iK/9NwKqAze97bMWqiNXvYHVY27HVd3HILRdiF+8Hw2oRGhWw7hBvXoYM2YMLIEWWOoEwtK4BiwX+uJRE5a6FlgiB8DSqzMs9SywXFjHiaMWLBfWLOPgdWfKcTLPRXVg4cEym9ZBnSmRsARdBEvjC8poQ1nt89a12rY21oalSW3FiILDuiI8wmqh8jUG70p7zrZQWT/sOz+lv09ZqBal+qfLX40aNTBp0iRw4w9X3kl1zXuByIS6rdFp3v3oFPMKut3yLoKm3wlL/WCl7a7OEzGZiPrLGiqzy5/vWqjo6p6EjnviEXkyG7327lAuf75qobrsSAYa2TalGDrc/zalEDq2BBA01US7ScvQ6YZV6HbTO+i86F+wtOgLi6WWbTzbrNIy9qthLIBqZf9ZOHzHahy6/DWcmv86Ti94Az8seLPKj9Pz38Kp+W/g+NJ3sHbiHbiy+2h0aUt+610gHhBQcZd8Dai8/JK8TQRllV+/Xn2MGjXK64RYVhtcudaxdy80DWrnN+3tNXwILPWsgMWV56yKvCGdO6FneE+/6VtHfdSwYUNEjrUukp/z77G4K2MBrtg6FPO/74+52/ti7nbGVXPMsdV/xbYRuCNtESy9LOjYpyNataUW1LvCwFPla0BV+p6MgCpk3t/RJuZNNFr6AYJv/gBhVz0OS/sh1olYoHUtRsnEzU/edXk0I89T3QGVWsNrW79k3EyovLVM7t7XquhsQBVhA1S+uoaq2gAqtQlFTbSbfCM6LP8ATZd8gLY3rUHo4pcQ2G0yLJYmClQFVPPNKrqHhmFgl15YGBqJjdf+BxtmPoSE6Q8jadojSJj+zyo/kqb9y9qGhY/j8WFXYXb3EQhpHeQXMrR58+YYOdI6PymPvxqulwodQ6JfPPD51N6aNWvi6quvxoQJEzB27FifPoYPH47ly5fjyiuvBP9b2zsOY8eOt3uMGzcB48aNx7hx46rkoOVv5cqVmDZtmgKtvtW/Z/fbiBEjce2116JvX2ri/Hvs1qpVB9cvuR69R/TAA2tvxnOH7sH9hVfjnr2X42/7Lsc9e6/EPXuvssX8XxnHVfhb8RW2+i/HP4qvx7P778GlS8NxecxCzJ0/D6NHj8b4KqTX8sYJ6XnKlClYvHgxaKnydzrxRPuNgKrD/L+j+bJVqLlsHWrGfIxLlq9B6A2vo07fObBYLqyW1ipHgKpLQTLaFm9BizI3AnJmsyDP5OFaH7rRtbNtSjH4eBZCchIQUrS1ZHMHttfRUdY6JUf3ML2s+3jN0b2tuOFS0WZ0yEnAyJN70LN4+1kWqjYO2sp03ufocFSnq/dJ/S33blVr0KYe24VGdy32223ThY6tu/rVRNspN6L1je+iztKPUGPJGjRY+hGCb/4QDYcthsVyCSwWrrUKrLZrJLt27oKbFy/DzCHjce3wmVg6dCZihszA0iEzsOTSqj+WXjpDtWnxsOmYP2AsHrjhNlwxfwFGjBjh9FzPPB8rT/554jqB1IIFCzB5MsG5S/MslzK7WrjO79rLcNhfdevWVWCKblLU7PvqwfZxEjd06FD06NEDBILWtjZCw4aN7RxMr7rnYXt5UJvfokUL1KlTp0rbc25fnN1vNWvWQq9evRBeDSxUdEcbP2k8LAEWLPzPZbg/ezGuT5mIq1Mi1XHtjjGoqoNtuDZ1NJalTsF96deh4VALIoaGo3NoF0UjDepb6Uboxxif+w5L6duYz95/R/fay2tM431yTl7RuHFjTJ06VbXVRYHgkAf5czmlgKoVrIDqbVyw7FME3PiFAlaNlq1ByC2rcfH4W2CpyZ0crWsxSidw/i0n5TmG27wcIv51Dxad2Y8eR9MQfCIdQScz0P5Euk8cbE/Xg6kY+VMBRv++D2EHU9H1eDqCT6Shw4mdqr3M4wsH+4ztYBsn/rYfl57MQdjhneh8zJreoZx28rqx38vLL89svk/KMN8v50EnuQFUGub8XoSL/r4clkY1/fI7VELHJYBqsgCq1agRsxYBS9eh3rK1CL7lQzSf9jdYGnSyKkgCaoBuYIEecAXzJT4Y2qULRo0YgZoBNdGwTiM0qsujIRrWa4AG9Ro6PBrWbajyMa+9g9ft3e/qfczfsE59VUetgBoYEzkGXbt2xQU1LiiRVyK3HMVGmegoj6fSRY5y3tqxY0d3vML8W1D4EnF7sy2cfFIz7s06PFl2nz59EBzsfV9ZT7WZGgl/WW/SqVMnRNi+Q+Wp56+KctjfI8ZwtzULpj8+EiuyozFrRx/MSA3DjNRuiEoJq7Jjpq3+hakDsCIjCpY+FoT0CynZNr0q+svVOsePHw+CK1fvq475SwFVG3SY/yCaLXsHlpiPYbnhcxUHxHyCmkvXImjFWrSb/ygszXqXaLfZH6UTOf+Ul9L+kZHW776FxlyJmVu/RNev3kTw+rcR9O07aP/t21V+dFj/NkLWv43Qz9/EmOQvMXH7dwj77E10/moV2n9jPdheR0fQN6sQtH4V2q0/O2a6o3uYznrduY99FvLtu+j2xVuYlroJIxM+RdiXqxC6/l2VznId1cv7gr97Fx3sHEzndUcHy7X3vsz1yXn79e+g0zdvY1LCJ7jw+jmwNKlbDQBVLbSeciOaL38XNZd+hECO55hPVcyx3OrWT9D52mdg6TDMtqNnDQSqXQC5/qria2x8gU9269YN/fv39xseP3DgQLRta/30iC/0X1ltaNasmQZUZXWQP1/j5FNtSuEhi5e3+2LAgAHgxN/b9XiqfILVRo0a+UV7qeGpLoBqlO3DvjOeGIVbc2ZhboqvbJsu36EaiJWZs2DpZ/0OVbvg9opGfN03n9+honuwBlRWAOQQUC37zAqsln2i4sCYtbh4xTp0iXkBF3QdA4uljs0FsHpMwKg4qlHfBrK5wVFNCyy1fOxgmyjnwjrC0ivM+v8CW1t9qb01bP1ma2+DoQNhacNdIw3ptS2wODq81e9l1cd+tFhQu8UluHQYgYZ/KQhEMWAFRARUy9F8+QeosXTNWeNYAasl69D8pnXouvwt1O3LrdUbnKUk8bdnt9dezgUGDRrkN+9x8ODB6NChg1+0V29K4WfMwd4AcZSmAZV3Gb8/AarQ0NBqAahopvc9QNXDtstgN0SndcPlaQP8FlDpTSlKeUa5gCrGCqgsyz5BwNI1aLp8NUJXvI3Gw66CJYBrMWrDEuj/HwEmTVDR1aRJE58+atetg/4DB2L48BGoV7seLmx8ES5sciGaNmlaxe1m/ReiSZOLVNy0yYWqXXVr1cWkCZPQvWsY6tetiwubNFFHUzf7uXHTJuDRyBQzrSLvjvfXb9gQ4RERfqWglXmR04BKFCRL16DRDasRdtt7aD7euLU615b6v6XKHwFVUJB/bEqhAZUGVD6D/LWFqnQyJ8LAU7EGVOV/mNf9DwI7AFT9/c9CpQFV6Rh0HlB9DMuytQiMWYMGN6xGp1veQ6vL7oKlYRfbuiqZiJWW7alxXRnlhIWFqU2CuFkQF4bTYuWLB9vHxeV0W+X/USNHInLkSBX7UnulXSOHDcfkiZMwfsxYtaaFbXWmvXK/o/wjRo7E8FGlB88r8vx85zzYr1wjQprzxBbTlUG7qq0lczxajA0WqhibhSrmE+XyRxdeuvTSDbBOzDo0XboaHZe/h45z/gHLxT1sY5kKEv+2PGtA5T0+rAFVyWDzXidXFuMw16MtVN59p9pC5d3+NdMzz0nTfmOh0oDKZ5Q19mipvLTyARXXX/CwWarUZGwt6iz9EK1vXo32lz8GS9Dgs10AAyp/zJT3nGVd96eJc1nPoa95ju5IE/5EFw4tVOcAKut4DlRrIz9GnSXr0GjJaoTc9AG6L34WgaF056Xrq3UX1NJyPde3lUGn/giotMtfNQYqlUH0nqhDAyrvMjoNqLzbv/bGgF+5/GlAdZ4AKjOw+kTtHnbJTavRefnrqNVvtu0bN9ZdAO3RtU6rfF6i+9y9PvcnMMV3XAp8yrNQlY5jWqlqLP0YtZesRcOlq9H6xg/Q86b/ofGQy2GxXGSzUgUi8Kzy3evPyqZDfwRU2uVPA6oqn0xoQOVdBudvgIpbp1c28/Z0fRpQeY+muSmFdvkr7V/nLVQyEZPYarEKiFmLhjetRZfb38dFE5bDUpsfeK6JALVrWGk9nh4jujzdt96kgeoPqKzjmJYqgiru/lcnZjWaLHsfHVe8j1bT74ClIV0f6yAwsAYu4NbqgVxb5R90pwGV996Tdvnzk0HgzmDVgMp7A4fvQwMq7/avPZonoIq07fIX/WQkbs+ehXk7qnqXP72Gyt678vc0I6AKXvBQ6bbpssufcvcTEGWMP1VbMXPXMLoE1ly2Bi1uWY3Wcx6EpRmVGnQbugDc9dHqPlX548jf341uv6YZZ2nAdQuVcSzzv7j0fqK+P9f8lrVoefl/YGlzqc2dt6YVVPnJXNLfANWQIUOgLVR+QlzODkp/zKcBlXeFjgZU3u1fe2NOAyrv9bm2UJ3dt6WAqhWCF/wDzW5427bNsm3bdCcBleUGLnr/CC1u+hBdlrwAS5dxNlBVS2m4q9uHQ+2NW512Nm3p/qi8/rAHqDgWz9023QykTOeyC2DMJ2hy02fovOx/qNtrJiwWfjqlBgL9ZEdPDai8R3s+Y6FyZEb2J1OqJ5iko35wlF5WnRpQeW/gsN81oPJu/9qjbd8EVNYdBKPSTN+h0muo/MYNxh6tmQHVJTGrnARU1GjTOkXgJdaqj3FBzFo0vnGN+sZN4yFXwmLh1up0AZRdAP179zB7fehsmjvyzdmyPZnPl9tpbpv53JP94E9l2QNU9r9DZQJQDhUmnyEw5lM0WrYWnVd8iEvG3QjLBS2tuwAGcJ2kb49jDai8N2/xKqAyD2jzub1ByUnq8uXLERUVhaZNm1a5QDa32Xxu7xkqmta8eXP1teWhQ4eCW4kTGJVVprFNzH/xxRer/BpQeW/g8H1oQOXd/rVH8xpQea/Pq4uFysgP7dGQy2k1myNo/oO4eJmzFiozoCp1GeJid07Eut7+MdpNvweWBp1hsdSDxQ8mYi73mxNeKvw+UsOGDcuUb96o19UyGzduDPIeV++r7Pw1a9bERRddBMaVXbc36vP4WLYEouXk5cpa7LKFqgRgWZUkAUs+Rr2la9DltrXoQHfeC7urbdllnWQpkPMez3anzzWg8t778Cqg4svmdocPPvggmjVrVu4Af+GFF8Dw448/qnjy5Mnl3uMOQbl6T3BwMP7v//4PBDqu3utO/muuuUY9v/z06dPHqXqXLl2qbuF3Q1ivBlTeGzjsXw2ovNu/9saOBlTe6/PqAqhINwH1GqBG09awNOkAS9OOsDQJKfcIaNoRPCxNgtV9AU3awdI4CJYWA9Bqwb/RdNn7sMSsg+WG8lz+HGm6+QHgdWqhOydiwSvWIOTKJ2FpN9QKqvghYEugYVcy771re2OrMtLME+SMjAy89957Tsm3ymifozp27tyJV155paSd5udwdF9lpBvbwvUmDL179y5pq796+ZQAkhoNUKtJOwQ0bm8bw86N57PGfGOO6RBYGoei2Yx7ccnyNaixdK3N4iwKD0fj1lG69ftVtZd+hNa3rEXn656DpeNoWCwNYAmsA0uAb25UoQGV9/iq1wFV//798ddff52zqIxMwMgIyHiY75FHHnGLETjLNMx1lsXwJG/fvn1V2wisjPnlujHN3n/ms9c+8/2Sh5NGau5opWOfsH575RrTxo4dq/IuWLCgJK8GVN4bOOx7Dai8279G+pb/ZwGqJyJxe9YszNveF9Gp3RGVGqZi/nfpSOmB6JRww9HDtftt9Un9l6cOxMpds2DRLn8lvEjenzfjkgmYxYKW4YMx9oaHEX7N4+h53VMIv+4/6Hndf1TM/9bjKYRf+zR6Xvc0ehgOyd/r2sfR6/on0fm659Em5h3UXbIaFq6jUGsp1lnBFQGWk0dAzDoEqoNbMq9D7SVr0OyG1ei+7GXUi5hmnYhZAhEY4J/bMbvybv/xj39g5syZKCoqwtdff41Zs2bhrrvuqlR6Ka+9NWrUwP33348pU6aguLgY69atUzJ55cqVPtVOPsfAgQNxzz33gMpYzhkWLVqk2s708p7T165zHBu3I2/cIQJjlz6Mvlc/ahuvz6iYY/fsg+nP2jms+Xte9wy6Xv9ftFzyBurEfIjAGAIqjl8CJufHcWle630B3Hhm6RpcsuxDhC1fhYaDFtm2VhdX3sqXk2W9Uw2ovPc+vAqowsPDce+996oBHhMTo762zi+ZG83RNKWPGjWqhBEQUJEJ8MvedetyNyTnH54WpEGDBinT/IoVK0q0NFdeeaVi3lKWAJnatWtjxowZqo207oirnFxnfm41TUZFJrVs2TL1JfYxY8aUACTmpWteo0aNMGHCBCxevFi1OSIiArfeeutZ7gzcqYTPRUYtbbnkkkvUxFye1Vg3+8EZQEUgxnxvvvlmSbks39OAytg2ab8nY7ordurU6axn8GT5ni7L24DKk/0dGhqqaNnTfVDZ5XkLUM3c3h3Tt4ZhxtbuiNpuBWSz0npgVlpPp8FVdQNURvoz/q/sd+5sfZyESd6Le4/DgFtfxoVLV6HRDR/ajtWG/5J2dtww5gPI0TjmfTSNeQ9Nl61G/SWr1fbJajK1zN0JmHXSxgmYACtOxC6+4QOE3bIKLcYsgeUCekFYt1Y3AkR5ruoQU9YdOnRIyawzZ87gzz//VP9pBTLODar6Wek6d/DgQdU2tvH3339X/7dt21ZCZ1XdRqmf8w7OAXhIf/K/zEcknz/FQv81Qwai380voNWS19A45gM0iPkIDWNWo2FJzP+Oj0YxH6HJsjVoEvOhup9boAeqj/oKiKrYeCYg43iuHbMOTW9Yi663rUazKSthqd2u5HtVvtTvFQVUrsoCV/Ob+6qqdvlzp91eBVSxsbEgw+Txyy+/qJiaHk70pdN69OiBX3/99ax8f/zxB06fPg1OAiWfM/HcuXNVOdu3b1fx8ePH8cYbb5SUPX78+JLyhg0bBtbDduXl5ak8bEdISEhJHtYZFxdXcr88Q35+PurUqaPyEczs27cP+/fvx4kTJ1Re1pmdna3+v//++yXlUSvHvuCkUJ6HmjmmdevWrSRNro0YMUJdK89Cdcstt6h8ZkDIfuakX8qrSGwkLrpvEghKecZrkuZO7ClA5an2lPcMkZGRCkiXl6+868b2sm+NrqVitSyvjPKuVydANWrsKEV7UU+Mwm27ozH3+76ISumOmSlhKuZ/544eiNoRjhnJEViw5VLEpE/FsrRpWJA4DHO3DMAcbseeEoGolB5OlSf1L0oZiNszoj1qoTLSSK1atZTFn7G8d+N1SXM1Jq1NnDjxLP5MS7nQoCfqcLVNruQvBVQBaNprAiJWvIGatCpx2+Ol62BZ+rEt5v+yDmu+gKVrEbh0DQJVvA4BTt9fVtnGax8jcOk61FyyFk1i1qDrLR+g09x/wNKcW6tzDcwFsASUgkRX+sIf8r722mtKblH+3XHHHYqWhdZ8qf3GOcRtt92m2umLY6Fjx474+eefVZ+ePHlSLbfwpX50tS0yngM7DkHYjS+j4eJV1nFbMp6NY6n8/3S35XhjXPb4d++6+m7VElqeP0KbFWvRfuE/YWnN5RpUoAcoV15foBtXAJWj9hrHKeeZ9N4ypsl9xjTObVq0aFEis4zXyqKNwYMHn+PhVlZ+uSZt4Dnnq/aWHRnzMF/r1q3VGkQpw9k2Sn4CKhpN5NzJ2HkmTwsQGSbBARefctJvfAhqpPhCaM1iPlqyeJ0dYLTkONMwqevhhx8GiYblEVwRwPD/Sy+9VPKgnGBef/31JZMHghbmMVt5WO/06dPVNT4DLWoCXKRNhw8fVqCQ6fHx8SovLVtPP/20+k/rFfPSWsc6jICSbn1MY3ulPImdBVSZmZnYsmWLut/Yt54CVFImGXZCQoJqL9vMeglM2V7JI213J/YUoOK6vZycHBw4cECBZQLmgoICpKenq/fTtm3bc/ranfZ6AlBJv7HNRvBOLaiAe8njThvlnuoEqEbaANWMx0dWCFDN2tELUQm98feCa/Dtmbew/czX2H5mPb468yZWZizA3MRBUHl8AFDJe3zooYfwww8/qDHImLxOrlU0pvAwAyoqgTiWPEGDFW1feffLBIzrkJr2moSIFW+5Cajcm1C5OkmTCd4FSz5GnZhP0WDpWvw/e+8ZHdWRrQ23JITINhiwyQIMQjkTJUQyBsVuZXKWRAanccBgY3ucx2EcsMcBR3IGoRxQIAd7nJgZ+157PPN+rz22v/vd9641c++71vOtp7qrddS0Wt2tbqm7XT9q1Tl16lTtU2dX1X5q79o1fOsRhBW/Bv/xXAjrZRbG2vt2b3vOfb6cQ06fPi3G5X/9619ibvW075BySWlpKT755BOxAMtFBk+jk/S89tprok25F51t+/LLL3sknfa2nezP/rdPR9jGt9GnuGOAytH+6Xh+04LN+uPwW3sYt245gAkb3kRg5HxTX5aaZ3oB5P6qrvEGaC+g0o75NCWlee7WrVtb8RT9I1AjSn7jfERTU8v/S2uty5cvizzMS62vVG5o67B8Tz5zBlDJd8ePH4/z58+LuknjV199JSzgLOtasmSJ0JozD8PZs2cFuLLM19692wEVBW42onSU0BZBw4cPF/m0e4DayttWemFhoSiDKJODHuuV5ZEZrIElbVkECxKYaNNp0seyrGmR+OOoTXv++ecFI1VVVQkQx/fvu+8+8R5NB3i/bds2ca8FVLQjZ9nWAFVKSop4ZsspBUEnNW27d+8WdUhGYn2uAlQsi8I96fzpp5+waNEiEdimTJOCP/N1JHC/nStM/rgS8bvf/Q6vvPKKiHlNW3gCK9Kr1a51hF5XACrWT2+WdMTC1UUOSGxf3jO4ygMWARUHto58rye8y8URCagMz8/E3V/lofBKPHKvhSPnWpiIeW0rMF/BtWgsOJOIp/6yHn/6v004968y7P7j8/jD9Sdw6v++g+2fFWNJ43QUXolD3lVqvGyXqa1/6bVJuO+zPOgSdRg/cRxGjgk29s0OTqDPPvus4F8KSjQHfv3118U9JzVX/BtrgIpjCLXvnmjmZPnNUgCjsHJLTBpi7/oAQWsPmjRTR02r0ow9LRDAHYVOmBIeRr+NhzBq08foMXWl2bW6zkvOuLH8J23dc6X6vffeE6vGiYmJePOy1zGHAAAgAElEQVTNN1stNLb1XmenUy7h3Mo5nHSyz0nz/M6mpb36li9fLhyAMR/HCm51aO8dT34u+7P/7ckI3fgW+hR/aOwn3PPkcX1YM6ZwP5ZJu917/UGEbP4YA1LWQqejOW9Alx+TQFmT84c9/54yztdffy3mGcpOUs7luy+99JJIZ1pSUhIqKyvFvQRLzMO6+B7nEFqQ0dFcWVmZuLanfubhNh5nDvZln/2P//gPIZ/TEox1S5lVWx63+5DG8vJyZGZmYs2aNaiurgYVCPbSKPO5HVBRy0Jio6KibBJHrQHzWUO4ktj2Yv4wlsFBkNoiXi9cuFDU++23394AqAi8nnnmGdTU1AgEzfxsVMt65DdERNAtZmvQQCGEgi8HMD4joLp48aK4pnkAwY4EVNx0yzqsASoKvJZl2wOoCB5YJpnb8n1XAiq2I1cWtIzI72Ld1LzJurWATqbZG7sCUNmqn3b7EnjaS5OtfK4CVBSQ2Y7atqXZH9NefPFFc9vaoqW9ZwpQaQDR1XAsuByHu87n4JP/W4HKf+7BxlOFWFE+BwvqErGoeSqWXZiJRZemmgBVVJcDKgpx5AcuEmj/9TvvvCNWzR3V5mvLkNeWgEr2JQq/rPuBBx4Qdct0+Z6nxFIA8z5AZRLGxMb4o/DbcAw9NhzG6LsPYJD+Ieh6cWKnCSCD93sBJJ+1xTOexFu2aLH1rK1vU+mtZaf22kP2Z68DVGawdwzd1h5Fv3WHEHL3IYzN2w5dH1Nf9gsUzmfaawN3PHcEUFGDTAsFKkQIRmh1RZpodcUtMJZaUMrZ1AhJuq9fvy7kRnmvje3tQ84CKlq7WcpVpJtp9NpNWkaOHCnutdZrztAo3+kUQEVQ0Z6Gih/GfB0FVCyD4IyAitdSQ0WTL9pCyw+n1onPCYaowWA+borlvi+ZR8YEVMxr7Rs4OVDV+dxzz4n36LFIarnolIIbWSWgooaK5cj9VyyfHoSYFhIS0ma9WheokiYZU9Di+1zhk2kydiWgkmVqYwrprNtVG18JqJxZFdDS1NY1zTtJK0042srjaLqrABXNRK9evXoDXeRF7s9zxUZt8pcvaqjuoobqcjxyr4Yj52qYiHltLeSY0gsuR2FBYxx2ffcQvvmfS9hesQ4bawtxz7VFKL6Qirwzk7Dg8hQUXktA/pUo5F2JsFqeZR2y/qVXJ+Fek4Zq3MTbMXL0KPFv/TqgoSIPcKz66KOPWvEJPY/R5NhR3rWW3xJQafNwAmL/cZXGVFu2q66lAGYGVFvfR1DJAfitPQb/tUfgt/YodGuPeEE4KugNLDkozssZtex56IZPgU7XEzq/HugWQNOhrjEXctW/UuU4Bi5+je0l+7P/2GSEbngLfYo+MPZd7oHygn7M8YbjTsDaI2IcGrV5PyasfBm64BSTCWB3+PkFdPoxCZTb7NVQaff7/+Mf/8Crr74q5hrOFVRIyIU8uUhCAEazOvIrFQKcM7iVg/fBwcGt/AfYO4Y5C6iIJVi/Vu4hzUyTezapXeO97F/aRW2m2UujfN/tgIobtEiwpaAsf4AkxB5A1d7HUUPFuuwBVETdNAGT9TOmAKtF1/KZ/AZr5mj8DktAJTVUBFS0DZeA6qGHHhL0aQXkvLw8kWYLUGk1Y9bagN9RX18vvkX73FWASlsm27aoqAg7d+4EN742NzebO5VsL2djdwKq77//XuyfcpY2a++5ClBxdYR8q900STNAmpJSiNZu5LRGhz1pClC1AK4Fl2Ow6Ewijv7Xa7j4f6qw78u38en/NOKz/zmLi/9Thd/9+0NYUj8biy5OEYDKEji1de8uQCX7H80WyCd79+4VmvfDhw+Le5op2MMD7eXhWGa5h0q+Q/5h3Z5sRiQFMF8AVEaB8Sj8iw/itk0HEb7pffSMyYFOx/07PK9K1+mCmOQFFSsw1Bk8IPuztwKqFtBnBFY9ig9i2KbDiN64G33jC6HTDTT15bY1tu5oZ3sBlZx3JA0//vjjDRYSfCZBFcEX5wgqKJhO79jcx05lBWM+Y+D2C1mmPbGzgIplU8HBrRSUxTdt2gR+A+VziT+o/Dh48CCkNRnpYx76TbCHNss8bgdU3P9DLQ01BKycKNXanhsK6szHzWGWRGrvqXniBlGJMLXPuIeKZdDkjyCG19yPwjyWGioeKEhvffSUxUChlvmJsLVl8pq203y2di3tYI3fwO/gNZmOdprS5I8mg1JDRe979BwoARUBH8vR63nmiPEcIwIuppHJmaYN3H/GZ3TTTq2WVrOlzUeTO+bTribwuasAlbYuur1nXTJQ66Z93pFrdwEqSbPWtrcjdMp3XQWouGrC9iQfkUcYqF5nGjVU5GdZp7OxLwIq/XMzcdeXuSi4FI+cK+HIvhImYl5bC/J54cVYLKmfgmP/+Qa+/++v8PV/f4o937yFly8/g1P/eQRf/fdVvPjNI1hUMxP5V+KRfSXCanmWdcjyl1yZhHv/mCv2UFFDNaKDGio5+HOM5B5G8gXBNmPeDxkyRPCH5QToKK/YAlQ8YoJeTGli6Gi5nZVfCmA3AiqjQOPnBavaLULYEejWGbVpRtfqhzHxvo8xdDrnM3qJ9RNn9XRW26p6Ws/Nqj3c3x6yPxsB1R80Gipv0TQb+y/HHaGpKjmCHmsPY9DafUj4zSEEz6VMTIdlxmN0pJt4d/OWvYDKkg5aQkiTP8tnvOeiPuckOm7jPa0aeM9ATRCdS9BknffSostaOZZpBFRUuFim23PPM+MkDTLW7gPj3mCmU/ZauXKl8IpNXwpMc0Ze5FzsVi9//Ohr164JAqklIKHWNlGzwfhs1apVNhuOpnrMR7fklg1KJMxnLIvAi9fcqMl8FDwOHTpkfictLU08Zx4GmvvRyxoFWMtyKWjQJIv56PadMTU0zEchhvdybwPNt+j9js+okeIz0sJ7AhzamDKNKJgb9UgT7605pZDfyucMdGBhSRvvqdngc64I8F4KVq4CVLI8ls22oJkhbVFZH+uVoNUabY6kuQtQcYMh9085Qos9eV0FqFgXHZ5QOyr/Nff2kcfIt67wKuWLgMrw/KwOAaoT/+cP+H/++y945coTWHYqHSuqMrGywoBj//wQ5/+7EmtrslF4cTJyLkd1KaAif9DUjsdA0GspPUKyH1LrT/MKmmK4YqO8LUDFZ1yUsrbgZE9f6Yw8UgCzBFQ6rzH1szBHNAGq7muPYNg9JzFiye+gGzHNJIR5/16qzuAJVYf7gY+72lj2ZwKqMDqlMJv8eSegIqgKLDmEYXcfxajVr0M3hu616ckzwCi3WSyou6tdnQVUlFm1gIpzgqSRpuiUXbh4LdMo5zONigWZxphlMF0uBGqfWbt2FlARS7Aeap+ojKBlGPEA06SsTMUK7y23ghBf0KunNXpspbkVUElBnMI3P45aJTY4VzstiWIaNTLaM3gs88h7NgrRrryXMb23cb+TbDzacEqPbrQZtdQCsRGpYSEyJa3My3dkedqY30DXkXQswQN8pbaI7xH40A8/89M8T+554ooyv0l7XgzBFfcc0QOgZCjSTPCjrY/XRPqkZ+7cucJDicxvmY/3GzduFOaFdNcun7NMCv3yviOxtvNoy/nLX/4iPKJo05y9dgegopkmtYBbtmwR7SB50lkate/xQGryhTbNmWstTdRmSn6hCaq1vVXO1OFTgOoO4zkPOfTy93kuCi/EI+dyOLIvh4mY19aCfF5wkSZ/k3Hw/3sFX//rKu6qWI6FddOx9MIM5FdOwRvfP47P/9WEu+qXYMG5aci9FGMqz77yl1yehHs+dZ2Giv+bWm3ysaXpNMcbptODkTN8oX2HfZxjm7WxiJMRF5uOHz/e4Xq0dbryWgpg1N7cEpOKmC3vIbBkPwSgKjkMXckR6ETMa08ORjopgPVcfxgjth5Cv0xuaKdTpD7Q+ffw6fOpXMkTqizXAyrtfOXO9pX92X/sNIRtoIbqfWO/5QKJR/df49jiV3IY/iIcQbeSw+i19jCGbj6MW3Ieh65/nLEv+xm1U+5sR8uynQVU1FBJJxRaHqDJHOcgbl/R1rVhwwaRLpUF0jSQZ6MyP+U9bf62rinrO6Oh4uLjuXPnbqiDpvJU7rC+2tpaq3uQd+3aJbbyaL+zLfq06ZTRKc9r0+y4tr+TtkVQW+msvK1nlunae+215QdowQDz2cor39Xm0b4vn1ujUzIMn2mvZV5tmdpy5LX2ufZaPpflaO+11zx/gowqTcRcCajobY5o3pKu//qv/wIZVEuHs9euBFSSzrfeeku0iTs207sCUEk6LduMe1n4L5ctW+aStlWAqgVk5V2KQn5DHJ79agv+7V9X8NKXO5B3PAWLK+dgVWU6Kv61Fxf+VYl1lblYeH4qci9Fdzmgokad/EDzXy2vcP8U09taCNLmbe/aFqDinj7WQ81pe+V01XMpgPkCoPIrOYR+G45gxKb90E1ZDV0AzX77GsGUOMPG/jm4I/+jrfGpI2Wqdzvn37mrnduSh1xdn+zP3gqouIBDQEUw1W/9EYzevB+B0zdCFzgWOl1v6PyMB7N3lqmf/D+uAFSyLO5R4rygdfwgn8nF7KeffrrVnPHhhx+KdzinyLy2YmcBFc+SokWZZdkEWlQEMJ3beEg/3b5r89Giie9r0+y5djugsocIT8/j6KRimZ/3lmmu/GZt2XQYIdG8KwEVV665H4zMSOGOgaaNTNM6zejId3GvmuUKfEfK494k0sezQzpSTlvvugJQsWxquehogJsmWSYPbyXdJ0+edBndPgmonpuJuz/LReH5eORcCkf2pTAR87q9kH8+Fqtq5qL0n+/h03824N1vXsLLVx5D+X/tw/V/nseLn+zA8op5WHBhInIvRrZbnrb+xZcm4p5PTBqqxI7voSKPsI/zcETyBbWtXAXjRlve19XVuYRPbAEqAnzWNW0aTc48UyCUAhgB1QChodqNwOJ9Ro9gJYdMq9qMPTVwRfsQAkoOov/mI7ht1ZvQjc0wnUVFzVR3dMV5VAMGDBDHntDLrWeHMISFTUBYWKgwofZsWo1tSeGW5t6eTitppEWP3L7QGWOA7M/+Y6caNVRr3jP2Xe6F9Ng+fAhGzdQhBK49jB4lBzFo42EML9oNXQi3bPAsKu4x6nzNlPxn5DnpeU+m2RNz3670Jk0LLW6TkXIKz26iiR/3RtGKS1pwvfDCCyIPY8o2b7/9tri/++67xTyilV3bosFZkz9aZ5E+7oni/EVLL8pUTNNun6GigGmUnZmPMi7vKY+2RVNb6QpQeahw0NYPcyTdlYCK9XJ1nLalZDYG7t+gSaMjNNnK62pARRU0zZTaOwPNFk22nrkKUHHwOXLkiLldeb4DzxVz5UqgAlQtICubgOsitVSJKGlKx4FfXsOX/2zGn/95AZ/8sxavfLENKyvvwNLmaSi4EIPcixFdDqjIhxRmCLzptYj9jxtpea6aNDu1Z3Kyxc+2ABWd7Vh6RbVVVlc8kwIY91B5E6CSAhhXs7lpPfieI7it8EnoBnJC7ytcpfObOnslW/5DjvsE8OFh4YiKiEZYSCjCJ4QiPHQCwkNDPCZMGD8WcTERWLZkIcJCxiMsJETQGREWBmMIRUTYhC4Pot0mhGLMqGDkGrIxe9Zs4agrLNTUrmxbjwjG/xsWGoLbbx+DKdOmIjWj46bFkq/aiyW/B4yZiogNf0Df1R0FVARiMrhvUYX9uVvxIfRlX95yFKMWPgfdbdyiQiDVQ5wl1963u/O5s4CK5nHSCRm3s3A7AvcZEZBwbuABwDQLpJmd1kHak08+aZZtOGdt3rzZIZnRWUDFNuTCPz16S5mVjujovE7bvpxX6ehO5uG3OLtVRgEqNwKqjgo42p/uzLWrABW/Q/st1PwwSJq0z2SaM7GrARX35UlQ4ioatd/lKkAly+T+KWoXteaJrqKbgMpy46Ws15tiDtQzTXuosp+dibv+mIOC83HIvhgOw8UwEfPadohA9oUo5F2MRV5zIhbXzMDWswtw//ll2FCXhaU1SVhwPh75F6KReyEKuRcikHshHDkXbJcr6198cSLuvpYDXYIO41yooZL/iQCK/Y/9W6aRzzvKK20BKq7mEeRLs8KO1iNpdnVsBFTcKO2PAdGpiNn8LroX7TVppg6aVrUZOxb8Sg7Cv+QgGDv6rvX8FOZY3gH4l+wXZfsXHUCfdYcwYvMB9J27Bbpeo01mQYHoyPllrmhjLppJ0O6K8txaRqAOETN4eKpnalEt6RoROxi9RxlNvyyfedx9bx2mzkzutLY1A6qxUxCxYRf6rt5t7H9rqck19klt3H7/1O6bdFVf1pZj7Ne64gPove4gxmzejwGpD0DXk2eM0vkED+bu+uMOnAVUHPe184z2ntcyWONbyjQEYVrnScxvLa9lWkcAlSyLjtu0x9Iw3ZJe+lCQ22Xke/bSKPMrQOUlA6/8YY7ErgJUtup0lOFsleVKQOVKutqi2VWAqjNoVYDqRjCUcyESuReikXM+BllNUdA3RSHnXCTyzjM9/IbQlYCqLR50Zbo1QEXtBMEUzQtZF/O4sk5XltWiodJhQPQ8xG95F72L9qB78QEEFe1HkIx5bUfoXnIAgWsPgDEPCA5cK4GVSXByGmBJQHVQlM+yB2w8jJFr34Uukhu7B0LnFwRdAAUwaqbsEzxc2ZbasmakzDQ7d4qdF4mnT27Dun15KN5vQPH+bI8JJftzseHQQjzWuBUl+/Kw7kA+1h7IQ8kB0pqL4v05XUpriamtig5kg2HlR1l4pH4j7itbjdV72ZZdS98N//KA8f+u21+AbSc2Ij4/EmGTw8z93918KQFVt9unIWrDG7hp1bsILN6PbsUH7eq/N/Tx4v3i/YCSA6aFkY72Yy2Y4vUhAfRu2nAEwzbsgS5xGXT+t4kDubviAF9tH9ZeOwuoZBmdIa/Iuhi7AlBpy7O8duX3KEClAJV5gLRktM6+dyWg6gzaCai02qTOqNPZOjoDUFkK264cqOR3Cw3VHKOXP6Gh+jQHBeeooQqD4WKoiHltV6DG6UKk0FZlE1gJgBWGnAt2vm9Rj6xfaKiuulZDJb/fnTH/H8/e0Gq+uGn3gQceMI8R7vinrvomKYCxvFvj5mL2/e9izKY9CN5yCKM33xjGbD6EsQybLGJT3lFbDmL41kMYvPkQ+qzdj25F+6ErNgpOIua1Q+GQOb8/hbuS/ehdshfBWw9jxLJXoBtG82lqHbveLEj7T2YkzzADqvgFoXj1z9ux9vI8rL42G2uuzTHHvO6KIOkoujoXGz7NwI6/LUfx5XkouXYnij6ZgzWfzMHqT2WYjdWfdnWYhVWfzMLKy7Ow7a9LsfV6DlZevgOrP5kr6CS9pNvZ0Pp75Xc7Hq8S7TQHJVdS8ehXJYgpvh1jp9ChglH711mAqte4qUi59y1M2PABRm8+guDNR0XMa8fCYYzeehT91x2C/5oD8Ctu6Y+O9WOLfs/9XMUHEVB8AAM3H8OI1W9CF0z34TTxC4K/n9Etumy3ro47Cqg6m353AypXfo8CVApQmQdIVzKWM2UpQOU+M5XOAFT853SJWllZ6dSGTnt4RguoDM/MwF0dAVQWgMguEGbjHV8DVJYA2Z7/05V5WgBVALoPHItBcWkIis1Ft5g8BMbkItAc8zoXPWLz0SMmHz1jWsdMD4rNR7eYHOhi6VxkOW5a/hp6l+wxAarDZmDkmCBmFLz8xCr7x+hb8hFGbfwYAzMegq43V/57Q+dvNAvqyna0rHtGcouGKjx/JHZ+WoyCc7HIdnQBw0bf6Ujf4wJI7oUw5J+LxBKa2/57JgqbE5B/Psa+hRU30dXeNxkaI7DpL+lY+ceZ0DdHigWd9t7pzOfChPlCJArOxWPzNQNC1wzB6KnBZnmhswCV303DMTB2PnrHGBAUW4jusQtEzGv7QoHIFxhTAF1UIW5Z8Dv0LdkvAJDovyZAZH9fbgFQ1HpzoSWoeB9u3bAX/XN+C93N8abDt3vCX+ePADtN2yz7nbvuvQ1Q8cgj6WjNXW3iqnIVoPJxQEUtiquYxd3leBug4onY3qKhGj9+fKfsoeJhxHSlT28+7uAXAqqUOcZzHrKeTsHmT3OQTw3VhTAYLoSKmNddEWT9iy5MxF0+oqFyxz90e5nibBd60aJ5Iven8NxDxtog0whg2gpcWfYXLssHFz6OAes/BPdHCA9jjO0OXNE25vcv3gf/og9x08aPMWbTu/CbvBy6gBEetcfC8v+kaDRUAlB9Uoz8s7HI7uL+ZtnH885GYjH73r9loaBpIvIJ+rpoLLCnXkNDBDb9OR0rP50BfVMkcs5TW941Y5e1eg2k5Xwk8s/GY9M1AyasuQ2jp440j+vuBlTkQ6NGXJoZs59Se+toYF/nO9zH1Ae3zNuCWzfsQSD3V4r+3NI/ZT+1GdPU1wSkehXtxcCNBxC8eQ+CZm6ELoj793g2ZXeP00zJfs3FVWe8/Mn3Ozv2NkAl9xo70E7uW0l3gAhzx1bvWP8fNN1RgMp627iCZxSgurFtCTD/8z//s5WZmCvaWpahANWNbS7bpqOxNZO/jpbZFe9TU8X9VO2FFo2W9TYNkIttPYZhVOFODCzeDX8hgFFD5SSgKvoYgzfvw4jiXdCFpEGnu9m0mt2ty/dKtfWvvAVQ5Z+LUoDKhYDMEwCVkSe5h9DobMYYO7ansKWfc5GlF4bM34DB6z9Et2InAVXxQTEOBBbtw6BNBzFmHfc+5ptcovcxnS/VdV452+rHMl0BKuvjvWyfjsTUUClAJSdOH4u9EVCNHdtio90Rxu6MdxWgunFgWr9+PXhyurvMxcjTUkOVKTRU2cg7GwfD+TDoz4eKmNddEWT9i85PxF1XsoWXv9sTx2LE6FFi8aczVnQ7wve+AqhkG9gCVnwmgsY7FVfDtaEFUA3ByILtGERAJfZRHYKOsb2B4KtoP7oX78GQzfswMO8x6G6hWRAP9/Ss/VKy7bRxSlLLHqrwvJF49JMi5DfHwtDF/c2yj+c2R2Ix+943mShonIi8s6Sxa8YCe+rVn4nAxj+lY8W1FGQ1RiL7XKRH0atn252LRH5zPDZd1WPC6tswekrnaqi0fOjsdQugosY5CENT12Pwug/RrWiPsQ+b+md7/dmv6IDo//TI2aP4AIZsPohbl7wI3RB6PrwJOr/e8CTnE221l7cBKmrTvMnkTwEqHwNSsiMpQHWjwC/bxhWxAlQ3ti8PAZVt6w4HBgpQ3djmsr07GvsaoOpoe7QAqmEILtiOwQ4DKiOQ0q3ZLzwFDtv4MXrccRd03ccYzY8CenbJQb2OtosWUEXlB2PnNQWo7AFM7eVRgMp9Y5mWxzsOqIz92K9oP/xX70Gv4n0YvvkQ+mY+BF0fufexB/z8jKaJrI/a8ZZ6O+c7td9s61oBKvf9D6Wh8lEwxQ7Vq1cvrzL5S0hIEAcc2hoMPOmZAlStByZ3ACjL/90KUD2Vgs2fZCOvOQ6Gc2HQnwsVMa+7Isj6F51LxNbL2dDF63B7wliMCDau6nqDhurOO+8U44Zlu/8a71sBqsIdGFz8rklDddA+7RRXvtfsQ58NBzFk/fvQxRVA5zfQ6PnLvxv8PWyzelv/uDWgGoWdV4uQ3xQLQxf3N8s+ntsUCdH3vs5EQUMi8qhF66KxwJ569fUR2Hg9DcuvpiCrIRLZZyM9il492+5sJPKb4rHpilFDFewLGqr51FB9YIeGyrQgUkzvnnvht2YPblp/AGM2foDAKaugC6LlQU/4mRzJSCAlTY09GVBNnDjRvPDZVr/3lHSlofJhkOIpTGYPHQpQtRb47WkzR/IoQOXe9rX2L7wDUE3E1su5ClB5+TxgCagGFb1jH6AymRDRPHDg5iO4benL0I2kq/9+0Plxr1Tn9xtrfcneNAWo3LRAUx+BzdfTsMJrANUQBE8xmi+Tdzx9gUjyd0t/o8lfDwyZt84xQFVET357MWjTAYwo2gXduHkmE79erUz8FKByz7imAJWXTRiy4/laTEBFod9bvote/saMoTmMezqmq8v1NkAVFRXlNW3b1r8SPG06hyrrqRRsupaNXK6Wnw2D/myoiHndFUHWv/DsRGy91AKohisNlVfyXStAxT1UAlDtg66IGirGrYMwCSrah4Ci/ehZsg/DNu1Fv6zt0PWLFCvZOj96GfRcU6C2+lwrQJU3Co9eKUJeYwwMXdzfLPt4bmMkFp1NxNa/ZCK/IRG5TaSxa8YCu+qtj8Cmr9Kw6uoMZDdEIac50qPo1bPtmiOR1xiPjZezMWH1UC8HVHRmEYih89di8Nr30W3Nx6Y+zP2Qrfuy8X4/dGv2onvRXty2cR8G5T0B3YA40/EGNPEzeQHt4oO32+q3baXT5I+yVlvPPS2dgGrECHpC9Xy5UJn8ecFPcpaRFKBybwdUgMq97WuN78nTM2Yb3abrn56JTddykdsUJwQRCWjsEmbcIGjJ+hWg6ny+sMYrHU2zF1C1AKl96FG0H/3X7cPI9R/Af8pq6AJo7tlLaKY6Sk9Xve+9gCpWAALD2XCPAiqCHoKn+mhs+jIDq67OVIDKjXJYi4bKPkBldD5xAH5r9qPn2oMYsXEvus/cbNr72AM6f+9cGJHjhwJU7pufFKByY0eWDNxVsbcBKm/bQzVjxgyvOofKFzRUNPmbPjtFrFZlPjUDm67mCEClbw5DVnMoGHdVkPUvaJ6IzRdzjF7+EsZCaajcN4G5c2xtAVRDhVOKQWvehv+avdAVcW/UXk3YJ9IDV3+MQRv2YeSKV6Abl2pyie75Xvzaa8PpSSkYNGiQ6HOR1FBdXiM0VPou7m+W/TynMQKLmhOx5c8ZyD9DDVUs9M0R0DeHu2hMYDksTwZnyzWVUxclANXKKzNgOBOJbFFuR8YvV9FnpCFLjKURRg3VJQMmrPIxDdXqj4x9mNopTX+mqW631Xtx09r9GFq0G7rwPOh0dLbEhRGeheWY2/b2+i4LfqQAACAASURBVFdnPyeg8rY9VN6koZo+fbqj2jTvnCA7m3G7uj4FqNzLp94EqDiIRkbS9Mi9beLu8ntqAJX+qRnYciUHeY1xQmCSgMZS0Oqse1m/GVDF6TCOTilGKacU7uYLd5TfPqCSgtg+dC/eh2FbDmBQ4dPQDeKGbx7u2RP+On+wHE/2+tVe2ylAZQQqWc2RyGyOQtbZKGQ2RyDLaaDmbkAVCX1zlAn4OQ/QfnWAqmgf/Ir3o1vRPty65QiGcO/jcG6ZIJjqCZ1OHhbu/YDKm0z+eLDvqFEte/faG6+68jk1VApQebmQ2RYDEVAlJ/OMBO8QoqOjoxEcHOw19CYlJaFHD65Ae377cm+arwCqpJlJos3TH5+OzZfzkHsmHvozochsCEFmw4QuCxmN40XdBY0J2Hg+G7poHUZHj8Jtw4Z4BY+Qj+fMmaO8/Jn6c2tA9TAGrXnLpKEy7q3wW7MX/qs+Qq8S7rHYix5z74WuxwTodH2hC+ghNu1Lj19eDaimtdZQPXJpDfIaYqBvngCjloqaYQdCUxj0TRHIbopEetV4ZFSHILeR9xT+HSjHIm9OQwQWUkP1pwzk1ycitzFW1GNcUHGuXJrn6c+EI6MyDFmVMcioiEN6ZRQMDdEwNFFT5Uy5xu/X10Zh4xfpWHl5Bgz1kch2sjxDUyiym0KR0xSBrNpwQae+IhEZ5dEw1EQitzFKlG1wsH3FAlFTBPIa4rHhIjVUQxA8uUWw9T6nFEaTvyHzSjC45D10M2uoTNrm1XvRvXgvhnLvY+bDpr2PfaDz934ts1ZG4eJqbGys18xJtFwiUNF+g6deDxw4UAEqT/05HaWLwj7dIPfr1w8333yzCDfddBPaCjKPtbitd5huLb9Ms/c90krwR7M0AkG+b++7si5XxPbUyTxs03nz5mHYsGHo06dPu7TyfCZJn/a6vfq0eeX7Mpbv8l5eM+a9fI/3QUFBiImJ8RlAdWf6POh66lD4/Dzc+8kiLDmbhIXnJmLhuQRTzOuJWHAuwWooPJeAwvMTzWGBeNf4jq33WJ6xnpa8xvyyrHgUnovDsvPJuPtyIXqn6BCbEovQ8DDBI/1v7t/q38j/xH/V2UHykKSB/MzJIC0tzWsWCTo6Prb3fpuAas1+AaxoFnTL+oMYXvwudNELofMbZjILCoJO52/25ie9f7Xs5fD8BRht20x3NaBqDkN2UxQKqydh25dLsP1PS7C4ZjLyzxCkhSLLSaDmakCV3RSO7LoILK1NxpPX1+H9n5/De/94EU99cw9WNM1DXkOCk/S6HlDlNUUipyoWa89l4KXvH8bH/+/r2PX947jnbCEKyyYJAMzvcQQA+jygWiNN/vbCf83H6LN2L4au/xA6ukQPMPXlgCDz+VLaPuHN1+PHjwetayhzaecBXmvlCO21ZT7Le21ey2vLvJb3lvnlPfORxlmzZiEsLMwqvZZldeU95VaCVbatg/zhXROCgx/naGN4bP7AwEAsXrwYs2fPFkxJxvTUMGXKFBQVFaGgoABTp071WDpl+7HTbNmyBampqWJFgm3cVuA72meW99pnltfavLJuyzzW7rXvUZNGPiCo8va+EBgUhKUrlyJyeiju2rMKv/16PbZ+mY1N1zPEmS6MuypsuJ6GDdczcNf1fDzx501IWDMBBWsKkJ2bA/6DmTNmCq+bdGbiSYG8zMDFl2XLlqFbN5q2qDHeDKiChiI4/2EMWv2WONiTB/X6r/wQgzcewK1Lfg/d8NnQ6fobvX8Js6DWJkE+BahyR2HHxdXIJfhpmgB9U6gDIQz6xggYGiNhqIzCw5dX4MovFSj/5T0Ulc9DYXWiKCurKcSBMlvqzz4TgYVNCdhyPQN5dQnIaYgV9emFRqwlX3s0Z5m+K7smBivr5+DQL6/i81/qUP/LMZT/vB9NvxzHji+LkF0Rj+zGCCfawdRuNZHY+Hk6VlyaAUNdpKks++k0NIYiW4RwZFdH4r4rC1H3yyE0/VKGUz8cwIVfqnD5l0rsvLQWCyqmIPcMNXahkN/XfjuEivajBcCGCwaErPQVDVUxBpe8jW6rP4Bu9R7oVn2Em9fvwfDVr0M3Ls1k4tfDqx3J2Bq/x44di1WrVmHatGli3Jfjv6fFnCMpF5aUlCAvL0/Q60nzpiUtbM/c3FzMnTvX0flTTba2GNZTnhExO2HP6SgzuCw/BX5vsZXlP2YHopMET/nftuigyV9ERIRX0GrrO7iHKtlk8pf16HRsPZ+LgppEZNfFIPtMNLLrY2GoixGB120FmcdanH0mFgYrQaSLsllHHAx1sq5oUV9WfTT09XHIr0vC+sZ86GJo8jcatw65zWvaneCc44atf/BredYCqIYgOP8hDC6iEPYRuq/eg1vXfYz+Gdug6xtuOl8qCH46f6GZ8vZN65b/t5WGyhlA1WgEUlkENo0RyKmJxarqOaj95QC+/eVz1Px0GOtP52Jh1TQh8Ge6DFAR9NkPUGReAg7DmQgsrZiFj//3S7jwSzmea3gIG44UYPXpVGy9kIPVDbORXxcnAI3jwNJEU004Nn6RihWXUhwEVNRwsYwQZDeGIKcuHAsrJ+LIL6+h6ZdT2Fa5DiuPZ+H+8mJU/XIYFb/sR3FlNhbWTkd2Y5TdbZLFOhojhEm1bwEqmvztRsDK99G96CMM3vARBhc+Cd3gBKOGOYAaZu873sCy37Z1Tw1VfHy814zxpJWWQG19jyel03mPE9tsFKDypJ/YFi0UjLjq0NZzT0tnx+HqiafR1RY9bNu+fft6Bb0cRH3Fy1+Kyctf1m9TsPmyAbn1schqDEVGY0jXhqbxyGgMRX7DRGw4l2M82Dd+LIaPHO4VPOLv7y9W1xSgMs5vLYDqNowsuB+Di3ehz9oPMXzdewicuga6bnQ2EgTj+VItJn5tjRfemm4VUNXHIKtxguh37Hs2Q0MYshoikNkYjqy6SOSfnoLdPz6N5p9Po+brkzjz80msO5WPhVVJpn483nZ5bdSXXR+BhY0J2EwNVW0Ccs6QxnZos/ac9FZF4P7zy3Dx50o8f3Eb8j5MQeHJZBjKY5FRGYqcMxHIbgiDoSEU+gYn6mC91eHY8HkqVlxMgb42EoaGCDvpDRP5MhtDkEVAVRuJFbUpqP75Yxz48x+w/EAaFlQnoeDADLx5/Vmc+fkENlUvxqLqGTA0RCHT2jdbSRP5GiKQWx+H9Rf0PqOhEudQFb+FPmt2Y+iGD9Dzji3Q9aTcYfTi5+/XWsPsrf22LbopC3iTUwp6JPSWhfbBgwc7o8RQgKotZvWkdG8EVN50sG9KSooCVJ1sGkaNYMoso9t0AqpNF/VmQJVpr4BnRXhwSvCyKMco4IRiQeMkbD6XC12cDmNjx5gBladv4iagUk4pWuY2M6DqMRRjCx5AyIY3MHz176EbL12i9xSHe3rr3ih756oOA6pGI6CiI4eMsmg88sdiXPi5FM9UP4SPv3wD1T8fEoBqUWWyACiZjV0DqCTQoOlgTnk03vj3HTj782nsLL0bb379FPb+/Hu8+tdtKKq5E/nlsSg8E4OcMwRUdgJLi/HCeUBlBHByvMuuj0R+eTze+19P4eLPVXi++X5sLM3BE41b0fDzSez9YRdWl2VgYU2SCbTZR6/vASpqkAMxdF4xxqx/F2NLdkEXWwCdjkcCBEEX0B3+/t2EMxl7+4Y35iOgoqMHb6HdmwDVbbfdBsqFDrZty6Tj4IuOVqTyd0BgVYDKvXyqAJV729fa2CLOoZplPOch67fTjYCqLgZZDfTyN0HEvO6KQC+DrLewYRI2n5WAarTXACrunaL9t9JQGfmanvkEDwbdisSlDyMk/zfQDYwzevHT8XBPCmid3wc6u87kadOFwxLWG5k7CtsvrEJuXTSyHOhvNKHLrYjHuoYs1Py0B+9/8zuUfJCPD759CaU/fYgNpXlYVDENBpO3Tmf6Lx1ILGhIwOav0o0aqnrSaP9YIMcPQ1048sti8fHfn8OnP53B5Z9qceGnSlT+sA+XfipD/U/78WDdEiwqnYrcuijhYdSResx5qaH6bD5WXJxu1FCdiXCIXlkO2za7IhpbyvMFfd/8dAlXf6rG1z9dwZWf6nHfiVVYUXYHFtROEqaM8r324ky2Hf9bXRzWn/cFDZURUIVnrEHkqiehGzXNCKTYl/0DTM4nmMf3NVTeBKgmTZrkNRoqAipl8uejk6K3ASp2cqWhco+AxlUpX3CbTkCVbAJUGU8kexigMgoghQ2TvRZQ0TGFAlTGPmjWPPW8BcGJ86DrMRQ6XQ/o/Hkmje+a+FkCto4CKn1jGHLqo7CiYhaO/PQ6jv30JlbvzcSqjzLx9jfP4NRP76PoiB5LKqYjuyHS6YUR1wGqCOSXJ+Kjv76Av/70Baq+P4i7jy7F2n0GPFy9Gmd/Ooryf3yANcfnIa82Bvoz1MDZD9zMeTsIqFoAYAQKqhLx5nfbcfWnChz789vYfeU5HL3+Dj79qRYHvn8FRaXzsKhmigBU8j0zHW3Q7iuAqoWf/YR57ui4FOhuGSe0VTpdwK9iUaSlDXTwNg2VAlQ+ClC0TOkN1wpQuQecyH/vbRoqXwNUmU9Mx8YLeuRQQ8WV7TMTRMzrrgiZrLc+HAVnJmPD2RyTyZ/SUMn+4o2xH/dT+FMbZQr+gb8azZT8X8lTWzRUETmjsP38KuRQQ2VnfzOcCRde/Z69fhf++I8GHPv+Xfzh09/ivc9eQOUPB9D8j1N456vnsKHOAENNBLLqneu/1CwtOJOATV+mI7cmAdnUUDkwFsjxg2dC5ZbG4b1vn8b1f5zDjrJ1WHJyJpZWzUDh8al4/csduPyPCtxdVoi8yjgY6sNN44+DdFeFY/0f52P5henQ10SYy7GXZjO95ZHYfC4L9f/Yiz9c/S2KD2Rh2cmZKDo0D7uuPoSL/ziKnedKsKg0SZx3JcYpO9pFjmfZdXFYe06P8SuGYJQXnkMl+VhonvwJoOjFtBt0oi+7V0Zoqdtz6lGAyn3/QmmofBj8KUDlvo7DgVIBKve2r7XJSGioZhpN/jKeSMHG8wbk1MaCk3/GmQki5nVXhAzWKwDVJGxo1gCqEUanFN6wh+qOO+7wGs+V1vjDrWlis7rvmwRZtmFrQDUSD59bhZzaaLGAYU8/y6oPg74yGju/XI9jP76H0h/3ourHg6j78SjO/1iByz/WofrHI7incTH0VZHIrHeu/1JDVUhA9UU6cqsTkF1HGh0vS096T0fgxS/uwxc/NuGRqvUoPDQNC8qTkHM0EX/4tydw9ccabCWgqqC3z3DT+ONgXZVhWP/pfCw7Px2ZAkgay7GXZjneZZdGYdu1JWj68RAeqdqIxYdnIb8qAYXHJuGB6kVo/vEQnrlyDxacTEHWmSik2zlOyvEsuzYOJWezjIBqEh2xGMd9Tx/PJJ0yFosjPizvye9sL/Y2QEUHGiNHtvBde9/Xlc8VoPLhDqYAlXsFfgWo3Nu+1gZGBajc1+Z0SkFApUz+bLSxn41nPjqXdBRQ6c+EI6c+BgWVU7C07A4sL52H1afSse5AHvb8+RVU/bgfmw4vxPLTs4VpIDUv9oIKbT5DbbhLABWBSlZNGDbX5uLMj0dQ9uMe/KZ0FYoP5+KRCxvR/OMpHPj2Taw+Oh95NfEgYNTS0f616fsqI7D+kzQsO59iAlQRYkHGXkBpBlTlUSipn4eaH/fg9I97cV/ZCiw/MRebTxfiwN93of7HI7i3dhUWlM0wASr7gJ+vASpr88mvMU0BKveN4QpQ+egkyIGCghGFfm8ZNOg23Zv2UPGML29ym+4L51AZAVWy4On0x5Kx4ZxBnGuTWT8BGfUhYNxVIYN1c0N7/SSsb/I+DZVySuG+idZbxmBrdCZPTTY7pYjIGYmHz65ETk00Mu3tb3Whol9k1YYhqzoMmdV0Sx4t3JC//v0jOPLDG1h1Mg2FZVOhp7bH3nIt+rqhJhyF9fHY+HkqcqrikF0b5dRYkM7668JReDoJ25pKUPvDUZz7oRb1P5zG5R/qcOR/78bG4wuwqHQm9LWxyCCgsqDF9r1xnMqoiMDaT1Kx9Nx0ZFZHIKsuQtSbyfayozw53hlqI5FdGoNHLhWj+YdSnP2hDBU/7Me5Hypx6Yc6PHX+fiw9MQ8F1UnIrIuEGKfsKt84nmXXxKGkubWGig5b/H3ceYO1vuALaQRU3nQOldJQ+TBI8aYOpQCVewUkBajc277W+poCVO5rcwWo3Ne21njZW9IIqAYPHCgWMZwCVFJ4rzMudhCwpNdPQE5NPNZdzMTmyzlYVJGMvOo46EUe5xZGsmrCkX8mHhs+T0NOVTyyaZYo63YoNtZvqI1CdlkC1tXm4oXPHsEfrj+LZy8/gNWlWcgvT0J23USk10UjvZ4g0JGFHNcAqpY6QwQQzS1LwIYzOXj+s/vxzvVn8fLV7fhN7QosPjUb2VWJyKIJpACs9gI2I6Ay1Mah+GwWxnEPlcnkTwEq7x0rFKBy379TGiofBn8KULmv41AY8iZANW7cOPiKhipppkZDdVaP7OoYZNZNQEYdV5YpBHRNyGC9teHIr5uE9Y3Z0MXqMDZmNIaNMJ7y7ul7DgiolMmfe8cMbwFRWjpbAarskXjo7EoYaqId72+1xn7JfpJeNwFZtRHIqoxARnk4smqixX1H+i7Pdcqvj8eGz9KQUxkvaOxIeUJTVBuOrMooZJZGIetUNAxlMciujkVmbTQyaqOQTo1PXZiDY45xnMooj0DJtVQsOTsdmVURxu+vDUdmLTV6ToxhtWHIrApDVlkkDKdioD8VBX15BPQ1UcisjRRjE8cne8uX45m+JhZFzQpQafuEN19TFlAaKveM8wRUSUlJjlqFuYcYb2ZST6RdASr38qkCVO5tX2t9ihoqzwdUE7G+Ua8BVCPEAOvn4ecWKUDV+fxsjcc9Lc1lgMoZkODAO64HVO2AGgIYAVA8BFA50Fb2ADYFqHxzPFCAyn3/VQEqpaFyFE27Lb/aQ+W+ju6TGqqdyVjfrEd2VQwyaicgvTZExLzuipDOeml2VDsR6xSgcts44WmAw9fpSZ6iMfmjhqp5BQzVUV3e3yz7eGYVtcPxWP9Hk4aqOqpLxgFLum68N45T6dRQXU3FkubpyKiMEI4pOH5k1IR6BN1yPNNXx6KoKRO3L1cmf77Q1xWgcp+cpQCVAlQeI/goQOW+jq4AlftBlhRAFKByHx/7gkDjbd+gAJWrxw7vAlSGqlgUN2VinAJUHiMrdWQMUYDKffOTAlQKUNk1SNg6w8HWM0c6vqsAVXv0tPfcXppdafLnKpraot2nANUM0x4qaqiaMpFdFY2MmglIrwkRMa9thupQZFSHC49jhqpwZJSFIvVkKNJOhiDjdAgMVWHQ19AbWTvlWNSTzvvqcOTVJGJdg9Hkb4wb9lC5i1foNn3OnDnKbboPzwltjQ+20rWAKjx7JB5sWgFDVZT9/c2in9jsmx3ISw1VXm081n+aiuyKeEGju+rqWLnGcSq9LBzFV+djcRM1VOHIrA4X40cGx6cOtIOr3pXjGQFVUWMmxi27DaMmtpwH5Ol7Qm3x9K/5mbsAFeclW3OTrWe2/oe7vPy5g14FqHx48nTHHqp+/fph3rx5IpB5ZEdwtrPI9xm7ClCxLLozpwt2beBA0r9/fzPN2rqduXYVoNK23YwZM5CdnY3hw42HwZIu7XNn6OQ7ClC1gKP0mjBkVEcIIGY4EYlVlbOw/eoKPHJ1FdbVpiP3RAIMlZECcDkinEgBxN2Aiv8zKChI8Db3PTnLE5bvSUDFfWqWz9S9+1Y1Pb1tk6a0uE0noHqoaQWyq6KQYe8CRieBgxZAlYbsikQYTAstnkanpMcqoOqktrJnXJPjmQJUvtX3OwKoKPPx/dtvv13MPzLu3r17qzljwIABmDt3LtLS0sxHLjg7zjkLqLRyE+mh3JqVlWX1kGDKW5S7mIcyrqRVW4ZMsxUrQOXjgIpCvy0GcOSZwWDA3//+91Zh3bp1LiufgGr06NEuKe/uu+9uRaekm+mOfLOtvMnJyR0+h0p2WAK/zz//vBXNRUVFglaZxxYt7T3zLUBl9KKTvjMJ65oyYaiMRkb1BKRXh4iY17ZCenUoMquiYDgSj0curkLN3z9G89+P4+zfT+Lc30/i+T/ejfwjicgud7RcY/151fFYdyZLOKUYExPsEi9/Wh5YuHAhvv32W3z22WcYNGiQy/hZASrfEpzaGxPsfZ40JcksFIUbRuKhxhUwVEYhw87+ZqsvuvJZZmWYOGh33SdpyC5PgJ6ASowF9o0LrqTFdllGetJPh6P4CjVUyciooIaKCz22x67OfJ4uaAmDvjIWRQ1KQ2Vvf/H0fB0BVMePH28lo0i5Kjw83DwPFRYW3pBnxYoV5ueOtk9CQoJVEGRvOStXrryBnsWLF5vpueuuu254npGRYX5ubz3Md+uttyovf440mDflpYbKVYCK4IGd58MPPxRCHJH4rl27RJoTbiKtMqsrAdWTTz6Jb775Rnw/22DmzJnCJXRwcLDVup35r64AVKyXGoHvvvsOf/rTnxASEiK0D65uWwWotIJKKDJPR2FLbQGa/34S+799A/cdW4MHjqzD/q/fwLm/n8D2hlXIP5oohBz7gZr7ABX5ZMKECfjkk09EnyOY+vLLLxWg8uEFMWfGJHe8owCVduxwxbUCVO7gU1WmfQtCHQFUFy9eFDIgQU5KSgpoUUM5SFo1REdHi/np/fffF4swtBR68803RdqUKVOckr06AqgWLFgg6n7ppZcwbNgwUFO1bNkys9v45cuXi+ePPvqo+AbmKSsrE2mjRo1ymF4FqHx4QnYloJo2bRpeeeWVVvsrqOb929/+hnvvvddhxrM2+MXFxblMQ0VA1dTUZJUursRbq9/RNFcBqrCwMDQ3NyMmJqYVXX/961/x/PPPt0pzlEaZ35cA1bQZRg1V2qNJWNeYAUNFNLiamlYdImJeWw/G55mV4cg6GYMnr96F5r+VoehQDrIOJyD/8DSsPJiKqr99jN1fPI1F+6fDUBVpR7nG+mT9udXxWFufBV2MDq7SUPE/crI6duwYhgwZgqVLl4L8MdB04Kr8zx2J2S9mz55tnhw7UpZ61z7hxhvaaZqFhurBhuUwVEQJjbD1ftZW/3NvekZFGHKr47DuWpo4kFdfaRwXuCDiSXRKetJKw1F0eT4WNyYjvTwcGVVhHkVnGsdR7ietiMGaMxkYt1TtofKG/toejZQFKGu1l8/a80uXLuE3v/lNm+9u2bJFyISUPbXvU058+OGHW6Vpn9u6dhZQUT6lJcfbb7/dZr25ubl47LHHWj2nlRTppbmiLbqsPSOgoqxs7ZmNNN+ZLGx8pKON4nH5XQWotOZG2vbS6/WC8dLT013y7a4EVL/97W/R0NAgTPK4isJOKWlv63vkc3tjVwAqS1q09xSY+R320mMrnwJULcIcBRd9aQy2nS3C+b9V4smz96Jg7wws3nMHHjmzHs1/O4Fnmx/AwoMp0FdG2C04uhNQafmC/7mkpATff/+9AlQ+vCBmqz935jOvAFRVYcJsTgGqlnGuoyBSASrflHM7AqguXLiABx98UCzqEXDQokY7FnEPEsEIgYpMl2mZmZnmNPnMnthZQMX6SAutqah5orZKC3baWlh/4IEHxHuW32YPrQpQ+fCE7CpApWWkqKgofPTRRygvLxcC3RNPPOFUJ9GWKa9dCai46kCB8/r16yLmNWkeOnSooNdSQJU0OBK7E1Dl5eUJuidPnuyS9vUVQNWnV28kpWg0VA0Z0JdHIb0qBGlV40XMa9thAvQV0VhwcDbe+PRZnP2+CqXf7UPpX/bj8vdn8MHnr2HVxwYsOpECfUUE0u0sV9afWxWPtXUmDVW0a/ZQWfIlAZXSUPmmwGP5r7v6ftpkzR4q/Ug8eGa5qc/Z29/a648dfT4B6ZVhyCoPR35VHNZdnQ/D6TjoqUVrdyzoaN3Ov59WGoqiS3diUWMS6KAiozLMo+hNY9tVhkFfHoM19UYN1Ujl5c8l83FX9umOACouUlOW+rd/+zezXPX000+3ahMpex09ehSHDh0S+eTCsDNyl7OAavv27bh69SpIH2mW4eTJk+jRo0crOZDg8MiRI2hsbBT5aBbozD9SgEoBKocYh/ucSktLUVNTIxiP9rHOMJ61d1wJqGgSRTM6bpCk15Y777xT0FtRUeEyel0BqGQ7cKCRgw0HPHZ+7qPic5ku8zoT+wqgoq32NDOgSsa6hizoy6OFICIBTbtCVGUI9GWRWHliPt7/6vc4/30Nqr89gZp/L8WV7xtx6Jv3sP7wAhQem44smvx5IKCiMxh3ASpLcw1n+E294ztgTwuoQvUjcX/DcgFW7O0X7fZHF4GerPIwAajWX0ttAVQCpNB0zXng47p3JR0EouORVjpBASoflr88dQzsCKB6+eWXBUiaNGkS+vTpA2pzKKtonX298847Io1yIp1Y8DkX4Z31SOssoNqxY4eom4vqU6dOhTRpJz379+9vJQdSm0XZsK6uTrxDLZwz/08BKh/u0BSMKPQ7wxjad9oS6MmkFOruu+++DtfB+lwBqEhrW6pcan1Ir9b8T/udjl6zbTmoOPqetfyyjTnYkcb6+npzufKZtffsTaN7U60nHnvf87R8WkCVuiMJa89kQl8WjfTKEKRVjhcxr62FNFN6ZkUo6C79lesP4MJfy/FI6WYs/SADyz7MwH2la1D316PYff0FLDowC9nlMcio4Aq49TK16bL+3Mp4lNRmGvdQUUM1fJj4l648t6W4uFg4MnHlHipOeOocKt8BQq7qu1pAJc6halyNnIp4ZNVEQl8dZSPweeeF3KpoLKhOxMarqcgrTwQ1xaTPUB2FbIYqUyzvOzs21W+ojoC+Olws6pRcmY8lTcnIKo+Evqrz2kr7X/gfGTJNsfG/RkJfQzqjkFPBc/UMmLBsOIITR7TMnsVnHQAAIABJREFUSzo/87WreE2V4/7xh7IAZS1H2tqWDEKw9PXXX4vyqJ2i/KKVNVgf015//XWH6pT0UV4bMaKF72R6ezH3bLFeOs/Q5l21apVIb8ujNL3o8j1nPP0pQKUAVStm0zKe9poeT0aObDnUTz6jpurUqVN2lSHfaSt2BaBi2dyMyE7Is3p4LweDyMhI0VG4p6otGhxJdwWgkrSxXklfdXV1m6DQEfq0eX0JUCWZDvZ1HFAZAZe+PAL5JxKx/68v49jXu7Fk93wUnEpG3qmpyN4zGW9//TQq/rofKw+kIq8sDhkVoR4HqNauXasAlQ+P3dq+29XXSVM1Jn9po7G9cj0WHZ+JgpPTsPBkMhaeTDLFvNaGJCw8NQ0LT001xbx2ZTCWu+DUNBSeSsbCE8lYenIm7jlXgEVHZ2DxiRlYeHK6iSbGHhJOGdsl//BUbGnKx5rqNBQcm4bCk/wOhqmmWN53dizrZ5yMRcdnYVP5YoQvHI0xCS1ecl25QNTVPP5rqt8ZQMX24eKdNSBG0zoCEObhQjABlmV70tqGnmkt0+25dxZQLVmyRNBFp1+sR8paqampIp17pHhcDUGQJR30uvzUU0/dkG6Zz/JeASofnpRdpaEi0zz77LNCgNOCqrFjx4o0ZxjPkhF57ypARVed7BB79+5t1SHo8p3prlrVp7t4V2moqBkgbVSXW2ubjqb5EqCSXv5Sd0zD2vpM6E9HI60iBKkV40XMa2tBPs8qC0f2sVjs/vZJNHx3HFuPLoV+z2QY9k7BimPpOP7d+zj47+9gyd65yD4dh/TyUKvlWdYhy+fqfWdoqOjB6JZbbnEZv1BDRS9/yuTP/avEHe3Pnfl+0jSNJt5fB11/HXS36KAbpINuoAeFATrohuswNnugkT7S6Mmhlw6DZnVHQJwOuj4eTuvNxv+ckBwvxhujcKo0VJ3ZD11Vl7OAikCEMor2DCdup2Aa9x+RPoIp3mvlIi5sc646fPiwU3MVt5k4o6Hq37+/oMUS4NGsj0fUkF66SOe11qqJBxLzGwjIHG1zAipabjn4nppwHGwwRxvYJfldCajozOGLL74QjEZw9eKLL4rrK1eutDpZuiPt4ipARRq4h4qd4uzZs+AKCrU+vKc6tyM0at91FaBiByRtDHSLzYGH9ryknW2trdPZawWoWkAWAZL+VDS2VOSh+rt9qP3uEN798jn84fPnUPbdAVR8dwj3nl6DgkPTxeZ7S+DU1n1nAioeRkh+ceXBvgpQqXnN2vjC8YkLPnHxcYhOiMb46LEYGxdsDrfHBWNcbNeHsdGjED4pFFkL0zAudqzHh9HhIzBHPxOT70hEcORweEo73vgvx2Bs9BhMmzUVySbrAGt8otK8Y/xwFlDx/9IFOecd7kGiQzIpt9CLHp/TjE6mvfDCC8IhhLxvy8SuPb5xBlBJbVR+fr6gh84muPB/7do1cS9BD62CSB/PLKXjDO33tUeXtecKUCkNVbsCu0TvXI1gJyJz0uEDz3qSB7pJBrbGZPamxcbGuuwcKtZJwEMtFc9OoMcZbqSUtLiCXlcBKp4/xfOmdu7cKYDqq6++Ks78evfdd7Fx40YzzZJ2Z2IOolL17cz7nvKO2ENlOodq/vZpKKnLRBY1VOUhSC0fL2Je2wxlIaCWynAwFhtLDXjri8dx/NvdOPHtR3jvi1ew5dQy5B1IRu7pRGSUhdouS1OXrD+nPA7FNS17qIYON3mWdOGeA04I5BdqY131bxSg8g6ByFX/295yAgMDhVkM3Q97eqBAw8M7SSfPa/NUekkbA2mlxYQn0yrbkG1Lc3p7+Ubl88zxhLIAZS1H/o9WXqIHPDqcOH/+vJBTpMWPlBO5yPfMM8+IReHa2lqxKEzeYX3acuyt3xlApS2be6go/9Hl+549ezBhwoRWtHA7C/d3UaalySLP0pLvy2+S9+3FClApQGVmHlvMYqsj2Hpmq0zLZ64CVJb0WN5b1uvsvSsAlT202ZOnvW/wJUA1NcV4cJ6zgCq9LAQZZSHILA9D+qkwZB2NQcHRyVhwdBryj0yB/ngcMsoikeYAmNICOncDKstB3hX8Qf5RgMozBaD2+rZ6rv6b4gHFA/bygDOAimXbmmf4TIa26LD1flvvML2jgMpa2ZJWWzTZematTKYpQKUAlV2ASjKQpTAn010RE1AFB7dsenVFme4swxWAyh76nOnYluX6FKCabgRUqduTUFKbgazSaKSVhSC1bLyIeW07TBBgKbVsAuaXhWBe+XjMKx+H1LIQpJeFiiDAVBnztVdWy3NZf05ZHIqrM6CL1mF0dDDcoaGy/L+uuFeASgllruAjVYbiI8UDnssDzgKqrvqn7gBU7voWBagUoHIIULmLEVmuAlTuG4Q5iGpdmbrzP7qzbJr8TTUDqmkoqU1HVmmUg4CqBQQZgViIAFa8pvaKwREgJfN6O6DiYsmsWbOUUwofnhPc2TdV2e4bv1XbqrZ1FQ8oQOU+XlKAyocnTzqloBbFVR3R3eV4G6CaNm1aK2827m6fjpTvK4CKPC0BFU3+imvTkHUqUmin5peNFzGBTVcEWX92WRyKqkwaqqhRXqOhUoDKfRNtR/quelf9F8UDigdcxQMKULmPlxSgUoDKYwCXAlTu6+i+CKjoNl0BKtfxjAJUrmtLVwk/qhz1TxQPKB5wJQ8oQOU+flKASgEqBaic5AGloXLfwNTWBEIN1ZTpxnMe5j88FcU1acg8GYnU0+Mx//Q4EfO6K4Ksn2dXFVV6p4Zq5syZyuTPyfGgLZ5V6Z0/Tqg2V22ueMA6D3gboOJxOs6cQ9UV/5+AasqUKY7K1NZ/VFd8gKqz7X+hTP7abhtX8I0CVO5tX2v/SAEq97U5NVQKULmvfa3xs0pT7a14QPFAZ/KAAlTu4zcFqHx4NVIBKvd1HA6A3gaofOEcKktAVVSdhswTkUgtHY/5peNEzOuuCLJ+Q2ks1lSkG738edkeKgWo3DtmdKbgpOpS/1LxgOIBSx5QgMp9PKEAlQJUjqon3ZZf7aFyX0fnIKoAlXuBlgJU7uNfS6FA3au2VjygeEDxgOM8oACV421mL58pQOXDgKpnz55e5eUvJibGq86h8iYN1dixY30CUAm36clGG+X526agqCpVaKjmnxqPeafGgXGnh5PGOln/vFPjoaeGqtz7NFQBAQHC5I/jhr0TiMrnvsnZ19rWkfP0HMnr6nai6au9ZXYlnaTR3vrtzWfvd6t83tvvKQtQ1vKWf8g9VMOHD/cKegcPHqz2UHkLYzlKpwJU7h30vA1QhYaGesWgZIvPvQ1QjYoehSHDh4p299P5eXT7E1DxHCoFqNw7btjib19/xs3lO3bswLZt2/Dggw+2Cg899BC2b9+OoUON/aUr22LcuHF49NFH8cADD7SikTSTRtI/cOBAj+jPeXl52Llzp1VamZ6fn+8RdHbl/1R1t4xpClC1tIWr+UIBKh/XUFHodzXTuKs8b9NQTZ061WvOofIVDRX3UE01aahSH56KNZWpyDgeifknx2PeyXEi5nWnhhPG+u48OQ53nhwP/alYrDZpqEZFjcKQYd4BqLgyP2PGDAWofHhOcNfYbW+5PBfxz3/+s82QkJDQ5XPW/PnzbdLIbxg/fnyX08l237t3r01aDx065BF02ssjKp/7BH62rQJU7mtfBah8ePLkSrMCVO7rPApQua9t25pUjYBqshAQ0h6eiqLKdGQej0baiTCknghB2okJSDPHvO6MYKx3/okQzD8RhuyTCSgqy4AuSofR0cEYqgCVEuh8eJ5pq69aS7/pppswffp0JCcni7mJ85MMBFt81qdPny7nlwEDBojFBdJJuhjL65SUFEFnjx49upxOtjH3xlKzLNtVSyvTw8PDPYJOa/yg0jp/DlWAyn1trgCVD090ClC5r+NwIvA2QOUrJn9TTBqq/O3z8VDNGqw5mY7lJ+/E8lNzRVh68g4Rrzg9z5wmn7kzXlp6B5aWzkXxaT0eqCxGUKQOwZHBXqWhopc/ZfLn3nHj1yxEci9PYGBgm6F79+6g6WlXtxG1te3R6cheK3d+T7du3WzS6gnt6c7vV2U7Nl4pQOVYeznCXwRUkycbF3wdeM99BDlARJcPup5OK1fznfi5XdauFPiHDBnSZfU7+j8TExPFROboe12Rn5s6fcHLX8/evTE5yeiUImiYDj0jddCF6aAL14QIzbU23RXXLNuO0IN0BeoQGheKAYNu8Rqe5io3x42u4FFVp+/PqxMnTsSf/vQnm8ETNsxTs9MenfSW5gk8u2vXLpu0vvPOOx5Bpye0laJBB+4P9CatZUREBAYNGuQVPEwNvBMyt+8P/L7Q8YKCgpCamgoO/FyVYBgzZozHBdLFjci0W6f5B4V/T6RTS1NwcDBycnLEwDRq1CiPppdty70xHJi8na+DevaAPtuA4DGjMHjYQNw0pDduGsrQBzcP7YP+ppj3nR36De2NfkN7oe/Qnuh3Wy8MGj4QhhwDJk+ZDPKI7IOeGJOfuSckMzPTaxYJvJ2Xf430c1GntLQUJ0+exJEjR1qFY8eOiXRPACr0LFZZWdmKPtJ7+PBhQeOJEyc8wnkGeej+++9HVVXVDbSS3traWuFA49fIa+qbrcvpnH8oF9JBjCfORVqaSGNGRoYAKZ5O78iRIzFp0iRheusg71n/UQ4W4vXCnTd8L1cjuMmXZzx5euAk5uk0aunzJnrJA/369fOJPkfBn23PlWxtiI2JQWx0DBhr0zvzmvyhrc/yXvtMe63lK8trbT5r15b55b21vNo05tPek0c4mXnDuKZo9L452BHX3Y7k/TXzgmon7+sHXc2vNKuNjo42y1raOcDTriWdnkaXJT1yLqVc4oT3T8XEXd0pVP2KB53hATUBK75xhm/UO4pvfi08oMZIxeu+yuuKtzuHtx1s584hyleZWn2X4h/FA4oHFA8oHlA8oHhA8YDiAcUDv2oe+FV/vDKJ8WHPiGpgU31b8YDiAcUDigcUDygeUDygeMARHnBQMyWxhGpkRxpZ5VX8onhA8YDiAcUDigcUDygeUDygeEDxgIYHVGNoGkOiTBUrzZXiAcUDigcUDygeUDygeEDxgOIBxQP28IACVApQKR5QPKB4QPGA4gHFA4oHFA8oHlA8oHjASR5QDedkw9mDVlUetaqheEDxgOIBxQOKBxQPKB5QPKB4wLd5QAEqBagUDygeUDygeEDxgOIBxQOKBxQPKB5QPOAkD6iGc7Lh1EqDb680qP+r/q/iAcUDigcUDygeUDygeEDxgD08oACVAlSKBxQPKB5QPKB4QPGA4gHFA4oHFA8oHnCSB1TDOdlw9qBVlUetaigeUDygeEDxgOIBxQOKBxQPKB7wbR5QgEoBKsUDigcUDygeUDygeEDxgOIBxQOKBxQPOMkDquGcbDi10uDbKw3q/6r/q3hA8YDiAcUDigcUDygeUDxgDw8oQKUAleIBxQOKBxQPKB5QPKB4QPGA4gHFA4oHnOQB1XBONpw9aFXlUasaigcUDygeUDygeEDxgOIBxQOKB3ybBxSgUoCqa3jAz8+vUwaXzqpH8VHX8JEnt7viPcUTnsyfijbFn4oHFA+4gwccmfts5bX1zB10d7BMxUwdbMBOAQW+TGPfvn1xxx13oKCgAMnJyQgICBBtam9H0uYbM2YMcnJykJ2djbCwMPO/0ebx5bZU32bfeKblB/LcggULMGfOHNx8880O8Yy2nMGDByM9PV2UlZiYaC7H39/ffK3+j33/R7WTaifFA4oHFA94Pg/06tXLLL/NmDEDPXv2dGi+086hI0aMEHNoYWEhIiIizOVo83g4T3j+D/PwBjT/dEWn47w0d+5cXLp0CdeuXTOH6upqxMTEiHZ1pCNt377dXIYs7/XXX0dgYKDDZal/6fi/9JY2kzwVEhKCsrKyG3gmNTXV4T6dl5d3QzmvvvqqeXHAW9pG0em7fK/+rfq3igcUD7iCB+QcOmXKFDQ2Nraa+3ifkJDgsMy1YcOGVuVQhtuxY4fDc7Ervq8DZSgG60DjedvP9ih64+LicPXqVRHYCXfv3t3qXqstkP+ordX++++/3/zukSNHcPjwYfP9Y4895lHfLb9FxV039tx22224cOGC4JErV64I3jt37pyZZ26//fYbeIaTiJxItP+Oq3KSj+vr63H8+HHz/eOPP35DOdp31XXX8YBqe9X2igcUDygecI4Hxo8fb57nOHe+//77YnGcc2FzczNuuummG+Y+a/Mn23/JkiXmsqqqqnD69Gnz/fr1628ox4P/mXON6cEf5E2N/6umdcWKFaLT1NXVgape8pRerzd3pMjISNx6663Ytm0b7r77bkRFRZnbiyZ9BFFLly4VQu4bb7wh3nvxxRfNeV577TWRxs4ptVSKb1V/Jw/Mnj0bEkClpKQIniG/EVxxQqDZKPPdc889+M1vfiPyS95h/gceeAB33XUXCPCffvpp8c6ZM2dwyy23iPfIhyzn/Pnz5jT5vooVDyoeUDygeEDxgDfzAK0yOMdxHh03bpyY92bOnCnSmD516lQMGjRIzJX33nsv4uPjRR5+c1paGh588EGsXbtWpBGM8Z39+/ejd+/ewrLj448/FmleJr8ppvZmpvZm2rlaQQGUe0/kdxAoUahlkFqCU6dOifvKykqRLzY21pynuLhYpBEwUevQvXt3c1kEWSyH2ipZvopVfycPEAj16dMHw4cPN/MGbbYl782fP1+k/+53vzOn9evXT/CXzEMgxbL69+8P7pniip3kr4ULF5rfGzVqlDldPlex4kPFA4oHFA8oHvBWHqD8Risiyl3yG7hQKefH6OhokU6QxDQunDMf5TqZZ+vWrSKNciDNB+XCOvNxIZP5uAWEc6+sw5HYz0+Hm3sGYGT/IAzp1x09At2+n1kxtCM/SOV1Db9oVb+85or/e++9Z+5o3A8l25qdTHZAaqU++ugjcf/SSy+Z88i8oaGhYPqxY8dEHu7Pmj59+g35ZH4Vu+Z/enM70qTgrbfeEtok8hmBuNa0VAL65557Ds8884zgK/KXrW+WvMzJQAvybb2jnileVDygeEDxgOIBT+cBrfxGWimXyQVszqFaU3cuOFKLxXTKdZxref3mm2+2OYdy/qVmivn27t3bZr622qlbgD/69+qO4f17YOKoPpg9vi+SRvdC6G090L93IAi02nq3g+luK9hdBKtyfcyP/4ABA3D58uVWQZphScE2Kyur1fPS0lKzja62c9NkUFsWtVP0QsNOos3XwU6jeNCHeJADt5ZnaM+t5ReCdO1zXjONeSR/anlry5Yt5vyyLMVvap5RPKB4QPGA4gFf4wF69bt48aJ5zuP8SGdj/E45P9KDrnYO5V5juUeec6cMsm2eeOIJc36+K9Ptifv37YnYMbfijoghmBUyADmxg5AddTPmh/TE7Nt7InpYT/QJ8oefe2QYxeD2/CSVx318whV8AqE1a9bg6NGj5o4UHh7eqiO988475mfSJIsdVivMjhw5EsuWLRPqYu5fYSemRkv9P/f9P29v23nz5mHVqlViU60c9Jmm/S5qUOUzAiY+k3wnY6YtX77cnM+aBlVbprpWPKl4QPGAN/CAv67lzEh/CsouCAEcQ90j1LYau72hfb2dRoPBgJUrV+LgwYPm+Y9Ox7TfxT3tcg7Nz883z6GWYIr7lmU+7r3SlmHPddjoIVh5RyRWTB8DffQg5ETfgqzwm3Hn7T0xZ0x3TBoWiFt7B6CbfwtP21OunXnUgGZnQzn8Y1W5bfOWFEK5j0V7bgE3MdJMj0Hr3YUOKQiQ5DN2Tsv2paZLm8Z9LDK/3I+lfa6u2/4/vtw2kvcI5Ml/2m+lKR95hnunZDrttysqKsy8dOLECbFxls/lmWm85n4+yW8vv/yy+X0+k3XKMlX86+Q99d/Vf/c2HiDo6aHzR1rMdKyZloV1iZlYn8hYj/WJemxgSDDFTIvPtBKyzGkbp2QjMyIJvXT+IKjytvZQ9Lb8M0v5jdZADQ0NYh6U+6PYXmPHjm0lv9EkXrajdm7cuXOneQ6l0wqZh7E2nzZde90tIACJISOwanYocuOH4I7b+2H6yN6YNLQnpg7rgSlDuyN8gD9u7emHnt0C4O96UNXSOFrC1LVqF3fzAO1pKYC+/fbbZsF04sSJ5g61ceNG0aHocEIKtAcOHEBTU5PIs2nTJvGcngDpqpplrV692twJadcrBVytwwB3f5cq3/P7DrWhBOjcHyWdonBzLV22kmdeeOEFMx/xPCmmkcdoHshrrTdJ/m/Jy/Ldbt26ifc5wUizB8UXns8X6h+pf6R4QMMDpr0m/XT+2J6+GoeXPYGKnCdQZXgcFYYnWoVKwxNgqNA/dkOozHocFVk7UaHfiYqFT+G3c1djgC4A3XUmJwHu29NiHsfVf9X8VxcAWTqN4Hz34YcfQs53EyZMMAMnemaWbc6jbJiXWzBqa2vFNd+Xz/m+nGeZ75FHHhHPCKI4h9oDpvz9/DCwX29MGj0IhqhbMXd0H0we3B1RNwcidkAQpgzphfhbe2J03wAMCvJH78AA9OxuPKNU0uGC2LWN7AKCzI2syvLtf8PTsGl7y0BTP67qnz171pw2ZswYwQv0pibzsXMRNMl7evwjn7BTy7Rdu3bh3XffNd/TJafiJd/mJUf/Lz0KSX4hiHr22WeFFyKZRm9FLJMmfDKN+6YmTZpkvl+wYIHI8/DDD5vTmJcaLAI1ejXiWVd0H+sofSq/4lfFA4oHupwHTECnvy4AO2YtxTHDDtTO2YH6WTtQM3u7uGZcN2cH6mZttxH43PheffpjeDppBQbrAoXmS3yjAlReN0dwX7ucG7nYyEVILnbLNHrN5b996KGHzGm0IiooKDDfy73yr7/+ujmN71MeLCsrA/daMdizIE7t1PghAzB95E1YEjUYi8NuQeaY/sgNvQ1Fk0ajZHIwDBMGIn5wDwztFYCeAX64qWcQAvxd6vlPDVpdPmi5YLXAW7+hqKioVUdiZ6KAy8NS+U3azrd48WKRxtWMkydPivd4gFxQUJBYweAeK9mZZcw0mhGyLHtWOby1HRXdjo9jd955Z6sJQPLMokWLBL9QWyrTtIdDE/jLdHqg/P3vf2++l+namPWo/+P4/1Ft5lltZm381KZpr7X/rq10bZ7OuPYUOjr6rZ36HSagc7POHztmL8NR/XYBpMyAau6jKJ/5EEqn349qgioLYFU725i/LPl+VM7cJp4rQOVZ/boj/Mi5UjvX8bqxsRFyD3J6err5OWU9WRc99zEvvf9RPuOZU5blaO+lC3b5vmVMr31Bgd0wtE8P5EcMxkv5ifjDkiTsWjId762dj/1bMvHRujvxu9x4rEoYgqiBQejp74ebggIRZLImsSzTyXvf+blONoD5J6v3u4YXeCgctVU0w+KBqtoTtnnYKlcxKNxKtTL/EwXZadOmiWfSZIvpTKNWgYcGJycnm/9tp05Cv2KA7G19iLzDDbV0SsGNssHBwWaeIV+S98hT2r1WdAMreY/nWNE+nPfUXlkGpjO/t7WLordrxkJPb3d65mKfSEhIaLX3VWvWSrMfHvAZEhJi5nvt887+Ru3Yz37MeSEpKalVn+5smmR9pE3Sxz2d1GZzzOjbt6+57eRzviOvaeauPShVlufy2Ayo/LB91hIc0W9H9Wxqmx5B9ZztODrrfpRmP47mFb/H8fnbUDZ3G6pnP4z/v70z/4viSP84c8HAcKigbkDRXMYbsopyzwzDfYsHXojGIxpFIpFT0DXe8dhdxWu9QVSMJJKggEdi8oqA/lOf7+vT0HybCccMA1kXnx/6VT3VVdU1Ve/prs88VU/96qjDS0ctOpNr0Ooox9st59FZcARtSVX4NfswTsYVY5qXQSxUE2CswHcmx28cc/Edqv6BTRbpWIzPC74XuXRD5TMsLEz5HfIa38F8Vgz1Do2Ojh7we1DL0Ib8XfiajAj390ZF8nzcL8nG4/JVaK1ag9bqdWitXINHX+fi1lYHalMXIX5GEPwNegQYjbCYTGPpHEVeHNqOkfO/lgf1BeHc7owf7NpQ8cO9sAcrx/l+8vmv7fd3ob2H4oLxg/E0FHuufJeh7uVKXknz/rH5LvZ5ZmamMoWV01h5cHYAp85q68ppP+p1hty7Tb0+mt+AJ7855/tSRHFKuVo/1p+DODWdJyGd04zm+6n3pEc0/rOv1o0h/1xUrzPUls8pVr/88suAOG3aMTvvF1QGHLQX48e8Q72CyvEPtNmr0JC+H2+b3+Jt61vcy69FS3KlIqReJdXiZXItGhJL8Hr/Nbz94y1eV93EXVspXmYdwqm4TSKoJoCY0jLpCnOe/J6Hu5fiOMVkxN98DKhK/xwPSlfgceU6tFYVKqLqUVkBmnZm4uYXyTiWvxx582YgzM8bvgY9/OicQjdmHv/kZeUKCJLmv8fJcD8k6Zf/Xr9I2w8c5Eh7CIsTlYHIyEhlsTm9q9LiSqssp13TsQutJfze3FqAnzlN22KxYNOmTcrn0tLSAcLAnTbauXOnIjQ8FT78R5x1a2lpAbfW4EFRwrjg4OBR14/fhX++cFNT7o04Gms015WwHlwzwn/7Q0JCwDUljBts/SUX+/Nac3OzW/V25z3a/4eSRlDVaQTVM0cdGhJK8Oa7h0pd3rS8xrWCcjSn7MeLpAP4xVGHlsRvcG/dIbz59Y2S5knNZdxM2osXWQdFUE0AMeXO7/ivSGvU62E26PCVbSEubLTjcrEdTbvS8WB3Bi4UxqLaMR+VjgUoTZiLFXPDsGCyP8x6HcwGEVRuPUj+is6Ue4zfYMr5ReD8Wdp+/Npe2lbaVhgQBg4fPqwMirVbXNBJCwf2WVlZyvuY587eLykMuFBdu73ASDxpn++HDh1S7qHuOzhS3qGuq+KOQlBNw2lGrDOnK6lxowkpPrjul2Vpp5+7Wtbq1auVvJwqqebhlD/DuVVfAAASvElEQVSWV1FRocSpbcLpirwX123SY5oar+YbKeS0wpycHKxatUrZ+5H7P2oPTtn68MMP++vh1Seogrx0qLUX4Yf8OrxIrkNz/D682l2PNx1v8OZ+B960dvcJqnLlepu9Gk0p+/GmqQtvHrxQ0nXUXccNuwiqkfpIro/ueWvQ6eFj0GNT9Kf42r4Y26Ln4MzK5bhebMPJ3ChUJkdiZ/wi7E1YgN1x8xETOhl+eh189PqxdEwxuspLp0u7CQPCgDAgDAgDE58BbtrJbSi0fc29AbmonNP+6H2V5xQHTKMO9IuKipR4Woi0eYc6V/Op17mXDcvVrodVr7kTHjt2DC9fvhxQB67pYNnc8sCdspzryLz0Ssay6CBJW9ZgabXXeZ6cnKx4GdWuMaGli+XRQqem5/ovxnHBP62Az58/729nNc1IIa1hLGO4Q3XKo5TVb6HSozapCI9W1OFHazla8g6i52kP2o7cRMuRq+j5qQc3CirQnFyBDkctGhL2oudkC3p+7sGJjWXoaevB87obuGEvQWdWHU7GFcmUP7FS9bM9EreuXDd46WE2GlCaHIFz6x04tzYJt7emoWFLGi6tseI/m9Jwc3surhan4XDWMljDpymOKcwiqCb+C8wVgCSNcCAMCAPCgDDw32CAewJyYE4LDZ0E8dzZkkTrB+Pp4MXVOn711VfK2ituR8Apesx/7do18DMtYPQc5mpZajp65qTo0QocChiuQ+K2HGo6V0M65+BeOSdOnMDRo0cV186sJ8tiPNeOqW6jhytTWx9tOpbD8rioX42vr6/Hw4cPlc/c9H40gorfmWKMQpfbPjgfdOikteKpFqopXnrU2TegMbcCtxJL0HP5V/R834O69B14ebwJPT/24ObKStxLK8e92FK0FZ1Cz689eLD3NE7nlaCnowfPa6/jRtJedOYcxIk+QeUr+1D196/azxKO7nlOQWXU67DbEYnGPfn4ft9qPNpbgLvFGbhUkIg7W7PRsm8tGrdm4VBaFJb9LRgmegfU66EfO3E7uspLp0u7CQPCgDAgDAgDE58B7cCf4ojrp+jggY4e2P+c/sfPzlsEUPwwXuvxbyRe1LKZjwedNajnDN21KPF+nCLHzUW196a44PQ5reMM7fXhzmfNmjWgTtr6qecpKSkD7jdUedq2pYdbbnTPMih81Dzc84dxXJvGOFquuMm4el1bhhrnHLqSRs3jvIZqipcOB5LW43zmHrwqu4run7pxdX0NqmI34I+j99D9fTcuZJTikm0PmjKr0H2/G69PNeNA3AZcytuH7rZu/Fx+ERfitqM9+yCOiaDq7zu1zSX07Dlq8NIp3vqyIz7C7V05eFxeiB9KV+LulgyczYrG1XV2fL87HzeKUvFNYgQWBQfCW6eDSd+bb4za37MvMUaVELjGTiFLW0pbCgPCgDAgDIwJA9qB+K5du5SBPTeu1lqduPEmB/zO1iOu1WG8ukm7K+MFriWiS3Cu5aGlhvk55ZCWk6ioKISGhrr9vc6dO6dsuK1dy0VB9fvvvytWJlfqpU3DtWTcVJ7OOnioIjAxMRGsP732aV2fa/Nqz7VtS2sevysPuopW03FdFuO4QSodVnD6JNeWcQojrWC0lqlpRwo5bZCWOm6WSkGmPZ49e6bch94c+8vpn/KnQ7l1La5vOYjujm50n2/F5Q3VuMLPF35E98/duLvzJM5m70X36RZ0d3bj+q5juLz5IB7sOa3k+eVME+6uOYAfsw/gaNxGTPcyQCxUMv7uZ83D57Xeq9dT39zpk/GvjQ607FuB5p0ZuLLWim+TI/Gv/Gg0bUvHv1dbsX35XCwOCYSPTgfD2Hn44+9GOlTaQBgQBoQBYUAYEAaGZuDkyZOKq3ROC1PbSRUEHPTTDTmn66nXGNIjHeNH4/2O+ekhkPm1AoPx6n219xrufP/+/Uo52j0O6d2PZZeUlAyo83DlDHXvR48eKWVRpGnz91t6Rhhnbdu2TclPoeT83SjOWM9Xr14pIc/p6IMhjwECaIT7UFB1dnYq+SjItIda/gBR3C+o9CiNX4WH+86i60UXup52oetZF7o6u3o/v+xC129deLD/n+iqf4wufu7ou/a8L3zdha47v+FBTiUOxa1XBJWfTPkbwIuWHTkf+lk0WNuogirQ7I3SlL+jcWcG7n6RjPr8GBx1fI5/5kbjelESjuXFYuOSTzE/JAA+Oq+x3IOKfelepSW9tJcwIAwIA8KAMPD+MEDPcBy800I0VL+3trYqrsO11zmlTl33o4139ZzrkXhf57VZruZX06WmpirlaMVCQUGBEuepwwveg8KE9XTHy58qnLhOinmH8jZIa9gnn3zSf9BKxWmPtCjRGkaRpH7PkULekxatoQ4K3wGisE9QTfbSo9q2AY2FB9BWdBxtxcfRsuVbXNtcg9/qm9H1pAs3dh3Gxbx9eLj6IH7afByPvvgWDVsOobHklCK+npxpwI211XiUV4N/xG9QnFKIher9eYaMxKan13V9FiruKRX/aShOF8bj+jo7zifH4HjM33EmbTnOr05AdeoS5CyYhTCLGcY+/cN9rDy9f1/+MStorCok5Yxd50pbSlsKA8KAMCAMeMQARRGtIhQ4x48fB61V3333HTiVTl0flZSUpKRpamrCli1blH2SmEddZzWaAQv3n9q7d69bUwYHuw8tRbdu3VLqV15eDh6sG51dDJbenTiKFLob37Fjh+Lt0J28TEsPhKwL2/PIkSNKyPblui+bzTZo/WhxYx71Xqo4Uz97GvaXpxFUdbaNaM6uwE8JZWiP24/WxDJcid+J19824fXPr1GfsRcN9lI8sVbgaUI5HseX4U7cbtzJqcTrF6/RWXMF9fHb8SS7VpnyN83LALNYqPr70NM+e9/zU1CpomqSrzc2LP8M5/Licd4Rg9PxS3E2bRlOZC/H9pj5WBoajADuP9X3XqCg4jlDD8WVCKr3HUT5/vIbEAaEAWFAGBiMAVosOHXv7NmzuHjxorLpLPeXunLliuJAQbt/EsVTY2Ojsjbn9u3bg25MO9g9Botzni7n/HmwPIPFqeKAezDR9Ts39OXB72Q2m5UBrZpmsPzuxrlbFqdQ0gshBRTblW3M486dO3A4HIMOuGmxo9dDdU2Yu/d0+Tv1T/kzoMa6Ec25B9Bur8Vz2wE8tVehyb4Pr/Zcwh+nfkJjVgUeOSrwzF6DF9YadNqq8YOtHI+yavDH2XY82XEWjY6v8TSrFsdiey1UIqjkmeMyiyP8KaYVVCzz45AgfJMUiQv5cbiQHY0zmVGosC1C5pwwfBRkUdZPae9NQWXoO/ScCji66YDSodpGlXPhQRgQBoQBYUAY6GXAlcH6SGLHlTLGs72Hu/9w18azTix7pHYbLI1zffnZOW7M6u0kqB7m1KLDXodntjq0J9WgLaUG96370JRQisfJlXjiqFaE1DNbr6BimlZ7JRpj9+B+UhmepNWgM7MOx2I3yj5UIwiEMevD9+A+nOZn0hvAzX3VdvM26JE2bya+TV+CM5nLUGtfhKKI2YidEYypfuZBLVEUVfT8x72p6P2PDitYtlqmC6G8OF1oJHcaVNK+Bz9gYUaeG8KAMCAMCAMTmgEnQdWcfQDttlp0WmvRbqtWjqfWKjyxVqLdVokOWxU6rdV4Zq1Wwg5rbxpeb7P1pcmow9EYsVBNaG7+wjGgXqeHr8EHgd6+8DYYB4y/506fhBLrItSmfY7ShHkoXvoxls0Mho/h/4WXth8oqLiuyqjTwajrFVfe3PjXdVElD0Rtg8q58CAMCAPCgDAgDAgD7z0DfYIqyMuAKutGPMjpFVTPrbWgWOo/bFXo6BNU/XHa69pzEVQDBv3vPWMeiC+dlx7eem/46X3gqzfAx2BULEqqVWmqxYzN0XNxLDcG1SlLkDF3JiaZvQe0v7p2itP9KKZMfaH6uT90TVTJQ1OAFgaEAWFAGBAGhAFhQBjQMNAvqPSotK7H/ZxqPLXV4FliDdqtVaM7MmpxRCxUAwb1wpyGORcFFtdMGXQGmHQmeOsM8Pf2wcwpQfggyB/TAv3gbaTA0iMmPARrIj7CkhlTYTENtGCpTigYUjhRTKmCSg3VNBRbqlAbpr/c/yLDFCaQuAiDtKFwJwwIA8KAMCAMCAPvLAN/ElRVaLNXKZYplwQVp/nZK/HU1nu02yrQnlGDIzHrMM1LD3Ofq2uvvvu8s+0g47p3bmxvMpgwyS8AwX7+mB82DV+mLMOVnQU4tiIOp4uSsTs9CglzZ2JmkAWBPiZwTZWzBz9VLFFMqZYoRTgN4vFPdVoxAqPyMBuhgd45kKS+wqwwIAwIA8KAMCAMjCsDfUIn0EuPKttG3M+rwpOkKnTaq/A0qUrx9KeEPE+qQjvFlubgZ226dnsFOrJqcDSWgkrcpo9r301QEUgHLN5GE0KDpyA5Yi7qVtlRvzUb17dnobl8He7szsfVLSlo2LcKl3bkoHDZXIRYer15atubYooiSRVK6rmz6NLmYZrhrsvGvhMUOi0Eci4vXWFAGBAGhAFhQBhwi4E+QWXx0qHEUYjLq/bjdkYZ7mZ8g8aMMjSkl6ExYz8aM8txN6P3aMoox72McjBUrvF6xje4m9mbpym/EpWJhQj2MsBHLFTyh70bY3A6oPAxeSNs8iTkRC3Ev79ciYbdBbj1ZS6avl6Fa9sy8aB8Peo3JGGrdSH2pCxB9sLZCPb1+VM7qwJKtUwxHEEsKWWMkEYeMG49YNzofClX2BIGhAFhQBgQBoSB/2UGTF46TDcF4mOfaZhnmIb5etePBYbp4NGbZyrmGaci3DQZfl4GGFVBJeOqPw34/5d5Geu6U0iZvc3wN1sQaPbD7JBgrI2PREPZOtzfV4jz65Jwe89K/OeLdFzfkY1rWzOQtWgWPgwJxGQ/H5icvPpRFFFAUVRxrZQqqkYQS670kTzoxrrzpTxhShgQBoQBYUAYEAYmBgNu7cXjysBT0oiIHJEBOp4wGoyw+PphckAQAnws8Df5YJq/P+LnhOPIGhuuf5mHq8WpuLw5FReLU3BiRTSubM1A5oJwBPoMdEKh/hYppCiieFBQ8TPXTomgEihHhFKFSEJ5uQsDwoAwIAwIA8KAOwxwoKke7uSTtMKZJwwY9QZYfHwxNWgyQgImwWI0Kx79LCZvhAb6I+bjD7ArJQo3dhWgJn0pvk6KxM64eajfnI4dyz9D5PRJ8BvEs59qnVKFFdkWQSViSsSUMCAMCAPCgDAgDAgDwoAwMGEYMOj18DGalCl+wf6BmGS2wKw3wci9p3QG+OqNCPA2YclHYThbnI2ShMVYGjYVSXNm4NQqG6qtEVg5LxxT/QY6pFBFFEMe6h8FFFk890QAilMKzxvQ0w6Q/NIHwoAwIAwIA8KAMCAMCAPCgJeXIqZ8jd6wmMzwM/rA19C735SB+09xKiAPnQ4hAX5Ys2whvkpcitDJk/H57DCUpcRgVcQcxH0YhqkBFlCc0TsgBZMqpFQxRQGlxnsopthvHisy6XxpQ2FAGBAGhAFhQBgQBoQBYUAY8JgBRUQZTYpVyqSjVUoPQ58oUq1KRoMBkwICMC98JtI/j0B0RCTiIhajONWBhMjFSIqJwcI5cxD+wQfw9/VVNuZVhZTWGiWCSoD1GFgR0/JngjAgDAgDwoAwIAwIA8LAu8SAn8EMb70BJn2vN0ijTg+9k1fIoMBAJMTGIn55DBZ9Ng85ySmIW7IEBalpWJOdjV2bNmFNVjasy6IQHvoBJvn7KwctVuP0XQWicWrY8eowKVfEtDAgDAgDwoAwIAwIA8LAhGTA12CGUU+rFIXUn9c3cQpf+IwZ2LVtK/IzMhG1OAJ5qWlIiFqOXEcKUhOs2LK6EOtz87Fs8WLMCg1FVMRiOGJjMT04GLRujcPYXwTVODTqeHSUlCkPTmFAGBAGhAFhQBgQBoSBCc2An8kXBp1BsUppp+dpx+v+FgsWzZ+HxOjliF+yFFlJyUiJT0Rhdq4SrsvNx9rsPNiXx2Dex5/AHhODrWtWY2V6OmbPmAEfb29lbZW2TA/PRVB52IATGmppG/l9CAPCgDAgDAgDwoAwIAz8VQz4GM0w6U2KQwlu7Ms9qQa7N6fvBVos8DP7wuLnB38/P0wJmoSggABMnxKMT8NnK4JqZUYmilauxNbCQsVKVVSwQhFYvmbzWHj3U+smgAzWSRInXAgDwoAwIAwIA8KAMCAMCAPCgAsMSCO50Eiq+pRQzOzCgDAgDAgDwoAwIAwIA8KAMKBlQASVCCphQBgQBoQBYUAYEAaEAWFAGBAGRsmANNwoG06rSuVc/qUQBoQBYUAYEAaEAWFAGBAG3k8GRFCJoBIGhAFhQBgQBoQBYUAYEAaEAWFglAxIw42y4eQfiPfzHwjpd+l3YUAYEAaEAWFAGBAGhIF+Bv4PPdwm2+OkGC8AAAAASUVORK5CYII=)"
      ]
    },
    {
      "cell_type": "code",
      "metadata": {
        "id": "V5Ih34NRnCme"
      },
      "source": [
        "tensor = tf.constant([[10,7],\n",
        "                      [3,4]])"
      ],
      "execution_count": 64,
      "outputs": []
    },
    {
      "cell_type": "code",
      "metadata": {
        "colab": {
          "base_uri": "https://localhost:8080/"
        },
        "id": "PbOB8uaQmIVd",
        "outputId": "fc63193d-ef67-4936-ddbc-c292eb5d52ec"
      },
      "source": [
        "# Matrix multiplication in tensorflow\n",
        "tf.matmul(tensor,tensor)"
      ],
      "execution_count": 65,
      "outputs": [
        {
          "output_type": "execute_result",
          "data": {
            "text/plain": [
              "<tf.Tensor: shape=(2, 2), dtype=int32, numpy=\n",
              "array([[121,  98],\n",
              "       [ 42,  37]], dtype=int32)>"
            ]
          },
          "metadata": {},
          "execution_count": 65
        }
      ]
    },
    {
      "cell_type": "code",
      "metadata": {
        "colab": {
          "base_uri": "https://localhost:8080/"
        },
        "id": "tLytiAmunpTk",
        "outputId": "90ce6cd2-0a6a-43ba-fc4e-887572f35d20"
      },
      "source": [
        "tensor @ tensor # Python way of matmul"
      ],
      "execution_count": 66,
      "outputs": [
        {
          "output_type": "execute_result",
          "data": {
            "text/plain": [
              "<tf.Tensor: shape=(2, 2), dtype=int32, numpy=\n",
              "array([[121,  98],\n",
              "       [ 42,  37]], dtype=int32)>"
            ]
          },
          "metadata": {},
          "execution_count": 66
        }
      ]
    },
    {
      "cell_type": "code",
      "metadata": {
        "colab": {
          "base_uri": "https://localhost:8080/"
        },
        "id": "1rl96tMBmyEq",
        "outputId": "fa8e92b9-9d12-4cbc-a694-366474ac143b"
      },
      "source": [
        "X = tf.constant([[10,7],\n",
        "                 [3,4],\n",
        "                 [4,5]])\n",
        "Y = tf.constant([[10,7],\n",
        "                 [3,4],\n",
        "                 [4,5]])\n",
        "X, Y"
      ],
      "execution_count": 67,
      "outputs": [
        {
          "output_type": "execute_result",
          "data": {
            "text/plain": [
              "(<tf.Tensor: shape=(3, 2), dtype=int32, numpy=\n",
              " array([[10,  7],\n",
              "        [ 3,  4],\n",
              "        [ 4,  5]], dtype=int32)>, <tf.Tensor: shape=(3, 2), dtype=int32, numpy=\n",
              " array([[10,  7],\n",
              "        [ 3,  4],\n",
              "        [ 4,  5]], dtype=int32)>)"
            ]
          },
          "metadata": {},
          "execution_count": 67
        }
      ]
    },
    {
      "cell_type": "code",
      "metadata": {
        "colab": {
          "base_uri": "https://localhost:8080/",
          "height": 221
        },
        "id": "F4OraDmCnjW8",
        "outputId": "663d3e31-7c8a-483e-e3c9-6dc3bba0ffc3"
      },
      "source": [
        "tf.matmul(X,Y) # inner dimensions are not matching"
      ],
      "execution_count": 68,
      "outputs": [
        {
          "output_type": "error",
          "ename": "InvalidArgumentError",
          "evalue": "ignored",
          "traceback": [
            "\u001b[0;31m---------------------------------------------------------------------------\u001b[0m",
            "\u001b[0;31mInvalidArgumentError\u001b[0m                      Traceback (most recent call last)",
            "\u001b[0;32m<ipython-input-68-00567aded26c>\u001b[0m in \u001b[0;36m<module>\u001b[0;34m()\u001b[0m\n\u001b[0;32m----> 1\u001b[0;31m \u001b[0mtf\u001b[0m\u001b[0;34m.\u001b[0m\u001b[0mmatmul\u001b[0m\u001b[0;34m(\u001b[0m\u001b[0mX\u001b[0m\u001b[0;34m,\u001b[0m\u001b[0mY\u001b[0m\u001b[0;34m)\u001b[0m \u001b[0;31m# inner dimensions are not matching\u001b[0m\u001b[0;34m\u001b[0m\u001b[0;34m\u001b[0m\u001b[0m\n\u001b[0m",
            "\u001b[0;32m/usr/local/lib/python3.7/dist-packages/tensorflow/python/util/dispatch.py\u001b[0m in \u001b[0;36mwrapper\u001b[0;34m(*args, **kwargs)\u001b[0m\n\u001b[1;32m    204\u001b[0m     \u001b[0;34m\"\"\"Call target, and fall back on dispatchers if there is a TypeError.\"\"\"\u001b[0m\u001b[0;34m\u001b[0m\u001b[0;34m\u001b[0m\u001b[0m\n\u001b[1;32m    205\u001b[0m     \u001b[0;32mtry\u001b[0m\u001b[0;34m:\u001b[0m\u001b[0;34m\u001b[0m\u001b[0;34m\u001b[0m\u001b[0m\n\u001b[0;32m--> 206\u001b[0;31m       \u001b[0;32mreturn\u001b[0m \u001b[0mtarget\u001b[0m\u001b[0;34m(\u001b[0m\u001b[0;34m*\u001b[0m\u001b[0margs\u001b[0m\u001b[0;34m,\u001b[0m \u001b[0;34m**\u001b[0m\u001b[0mkwargs\u001b[0m\u001b[0;34m)\u001b[0m\u001b[0;34m\u001b[0m\u001b[0;34m\u001b[0m\u001b[0m\n\u001b[0m\u001b[1;32m    207\u001b[0m     \u001b[0;32mexcept\u001b[0m \u001b[0;34m(\u001b[0m\u001b[0mTypeError\u001b[0m\u001b[0;34m,\u001b[0m \u001b[0mValueError\u001b[0m\u001b[0;34m)\u001b[0m\u001b[0;34m:\u001b[0m\u001b[0;34m\u001b[0m\u001b[0;34m\u001b[0m\u001b[0m\n\u001b[1;32m    208\u001b[0m       \u001b[0;31m# Note: convert_to_eager_tensor currently raises a ValueError, not a\u001b[0m\u001b[0;34m\u001b[0m\u001b[0;34m\u001b[0m\u001b[0;34m\u001b[0m\u001b[0m\n",
            "\u001b[0;32m/usr/local/lib/python3.7/dist-packages/tensorflow/python/ops/math_ops.py\u001b[0m in \u001b[0;36mmatmul\u001b[0;34m(a, b, transpose_a, transpose_b, adjoint_a, adjoint_b, a_is_sparse, b_is_sparse, output_type, name)\u001b[0m\n\u001b[1;32m   3653\u001b[0m       \u001b[0;32melse\u001b[0m\u001b[0;34m:\u001b[0m\u001b[0;34m\u001b[0m\u001b[0;34m\u001b[0m\u001b[0m\n\u001b[1;32m   3654\u001b[0m         return gen_math_ops.mat_mul(\n\u001b[0;32m-> 3655\u001b[0;31m             a, b, transpose_a=transpose_a, transpose_b=transpose_b, name=name)\n\u001b[0m\u001b[1;32m   3656\u001b[0m \u001b[0;34m\u001b[0m\u001b[0m\n\u001b[1;32m   3657\u001b[0m \u001b[0;34m\u001b[0m\u001b[0m\n",
            "\u001b[0;32m/usr/local/lib/python3.7/dist-packages/tensorflow/python/ops/gen_math_ops.py\u001b[0m in \u001b[0;36mmat_mul\u001b[0;34m(a, b, transpose_a, transpose_b, name)\u001b[0m\n\u001b[1;32m   5694\u001b[0m       \u001b[0;32mreturn\u001b[0m \u001b[0m_result\u001b[0m\u001b[0;34m\u001b[0m\u001b[0;34m\u001b[0m\u001b[0m\n\u001b[1;32m   5695\u001b[0m     \u001b[0;32mexcept\u001b[0m \u001b[0m_core\u001b[0m\u001b[0;34m.\u001b[0m\u001b[0m_NotOkStatusException\u001b[0m \u001b[0;32mas\u001b[0m \u001b[0me\u001b[0m\u001b[0;34m:\u001b[0m\u001b[0;34m\u001b[0m\u001b[0;34m\u001b[0m\u001b[0m\n\u001b[0;32m-> 5696\u001b[0;31m       \u001b[0m_ops\u001b[0m\u001b[0;34m.\u001b[0m\u001b[0mraise_from_not_ok_status\u001b[0m\u001b[0;34m(\u001b[0m\u001b[0me\u001b[0m\u001b[0;34m,\u001b[0m \u001b[0mname\u001b[0m\u001b[0;34m)\u001b[0m\u001b[0;34m\u001b[0m\u001b[0;34m\u001b[0m\u001b[0m\n\u001b[0m\u001b[1;32m   5697\u001b[0m     \u001b[0;32mexcept\u001b[0m \u001b[0m_core\u001b[0m\u001b[0;34m.\u001b[0m\u001b[0m_FallbackException\u001b[0m\u001b[0;34m:\u001b[0m\u001b[0;34m\u001b[0m\u001b[0;34m\u001b[0m\u001b[0m\n\u001b[1;32m   5698\u001b[0m       \u001b[0;32mpass\u001b[0m\u001b[0;34m\u001b[0m\u001b[0;34m\u001b[0m\u001b[0m\n",
            "\u001b[0;32m/usr/local/lib/python3.7/dist-packages/tensorflow/python/framework/ops.py\u001b[0m in \u001b[0;36mraise_from_not_ok_status\u001b[0;34m(e, name)\u001b[0m\n\u001b[1;32m   6939\u001b[0m   \u001b[0mmessage\u001b[0m \u001b[0;34m=\u001b[0m \u001b[0me\u001b[0m\u001b[0;34m.\u001b[0m\u001b[0mmessage\u001b[0m \u001b[0;34m+\u001b[0m \u001b[0;34m(\u001b[0m\u001b[0;34m\" name: \"\u001b[0m \u001b[0;34m+\u001b[0m \u001b[0mname\u001b[0m \u001b[0;32mif\u001b[0m \u001b[0mname\u001b[0m \u001b[0;32mis\u001b[0m \u001b[0;32mnot\u001b[0m \u001b[0;32mNone\u001b[0m \u001b[0;32melse\u001b[0m \u001b[0;34m\"\"\u001b[0m\u001b[0;34m)\u001b[0m\u001b[0;34m\u001b[0m\u001b[0;34m\u001b[0m\u001b[0m\n\u001b[1;32m   6940\u001b[0m   \u001b[0;31m# pylint: disable=protected-access\u001b[0m\u001b[0;34m\u001b[0m\u001b[0;34m\u001b[0m\u001b[0;34m\u001b[0m\u001b[0m\n\u001b[0;32m-> 6941\u001b[0;31m   \u001b[0msix\u001b[0m\u001b[0;34m.\u001b[0m\u001b[0mraise_from\u001b[0m\u001b[0;34m(\u001b[0m\u001b[0mcore\u001b[0m\u001b[0;34m.\u001b[0m\u001b[0m_status_to_exception\u001b[0m\u001b[0;34m(\u001b[0m\u001b[0me\u001b[0m\u001b[0;34m.\u001b[0m\u001b[0mcode\u001b[0m\u001b[0;34m,\u001b[0m \u001b[0mmessage\u001b[0m\u001b[0;34m)\u001b[0m\u001b[0;34m,\u001b[0m \u001b[0;32mNone\u001b[0m\u001b[0;34m)\u001b[0m\u001b[0;34m\u001b[0m\u001b[0;34m\u001b[0m\u001b[0m\n\u001b[0m\u001b[1;32m   6942\u001b[0m   \u001b[0;31m# pylint: enable=protected-access\u001b[0m\u001b[0;34m\u001b[0m\u001b[0;34m\u001b[0m\u001b[0;34m\u001b[0m\u001b[0m\n\u001b[1;32m   6943\u001b[0m \u001b[0;34m\u001b[0m\u001b[0m\n",
            "\u001b[0;32m/usr/local/lib/python3.7/dist-packages/six.py\u001b[0m in \u001b[0;36mraise_from\u001b[0;34m(value, from_value)\u001b[0m\n",
            "\u001b[0;31mInvalidArgumentError\u001b[0m: In[0] mismatch In[1] shape: 2 vs. 3: [3,2] [3,2] 0 0 [Op:MatMul]"
          ]
        }
      ]
    },
    {
      "cell_type": "code",
      "metadata": {
        "id": "2ypIO7izqSy6"
      },
      "source": [
        "Y"
      ],
      "execution_count": null,
      "outputs": []
    },
    {
      "cell_type": "code",
      "metadata": {
        "id": "C0x9jmyCoBd_"
      },
      "source": [
        "# Let's change the shape of Y to make it compactible for matmul\n",
        "tf.reshape(Y, shape=[2,3])"
      ],
      "execution_count": null,
      "outputs": []
    },
    {
      "cell_type": "code",
      "metadata": {
        "id": "nTDDjFsvqr4H"
      },
      "source": [
        "# Now run matmul\n",
        "X @ tf.reshape(Y, shape=[2,3])"
      ],
      "execution_count": null,
      "outputs": []
    },
    {
      "cell_type": "code",
      "metadata": {
        "id": "0g_XGJtvqzJL"
      },
      "source": [
        "tf.matmul(X,tf.reshape(Y, shape=[2,3]))"
      ],
      "execution_count": null,
      "outputs": []
    },
    {
      "cell_type": "code",
      "metadata": {
        "id": "QYBTctF5q2KV"
      },
      "source": [
        "# We can do the same with transpose\n",
        "X, tf.transpose(X), tf.reshape(X,shape=[2,3])"
      ],
      "execution_count": null,
      "outputs": []
    },
    {
      "cell_type": "code",
      "metadata": {
        "id": "7y5zcg5nzDSN"
      },
      "source": [
        "# Let's try matmul with transpose rather than reshape\n",
        "tf.matmul(X,tf.transpose(Y))"
      ],
      "execution_count": null,
      "outputs": []
    },
    {
      "cell_type": "markdown",
      "metadata": {
        "id": "DmId6CVwztJz"
      },
      "source": [
        "**Dot product**\n",
        "\n",
        "Matrix multiplication is also referred as dot product.\n",
        "You can perform matrix multiplication using:\n",
        "* `tf.matmul()`\n",
        "* `tf.tensordot()`"
      ]
    },
    {
      "cell_type": "code",
      "metadata": {
        "id": "x4zBUuzc4_5X"
      },
      "source": [
        "# Perfrom dot product on X and Y\n",
        "tf.tensordot(X,tf.transpose(Y), axes=1)"
      ],
      "execution_count": null,
      "outputs": []
    },
    {
      "cell_type": "markdown",
      "metadata": {
        "id": "cOrPr07Y05dZ"
      },
      "source": [
        "Generally, when performing matmul on two tensors and one axes not line up, you will transpose rather than reshape."
      ]
    },
    {
      "cell_type": "markdown",
      "metadata": {
        "id": "WfLrqndq4-1O"
      },
      "source": [
        "### Changing data type of a tensor"
      ]
    },
    {
      "cell_type": "code",
      "metadata": {
        "colab": {
          "base_uri": "https://localhost:8080/"
        },
        "id": "GPw9mt_t5_B4",
        "outputId": "1ff7f554-2ed0-40ee-81ea-1f41f243534b"
      },
      "source": [
        "A = tf.constant([1.1,4.3])\n",
        "A"
      ],
      "execution_count": 69,
      "outputs": [
        {
          "output_type": "execute_result",
          "data": {
            "text/plain": [
              "<tf.Tensor: shape=(2,), dtype=float32, numpy=array([1.1, 4.3], dtype=float32)>"
            ]
          },
          "metadata": {},
          "execution_count": 69
        }
      ]
    },
    {
      "cell_type": "code",
      "metadata": {
        "colab": {
          "base_uri": "https://localhost:8080/"
        },
        "id": "krSk5lXA_FK5",
        "outputId": "c4c52133-47e1-4c97-c3c2-6f06dd8c8d09"
      },
      "source": [
        "B = tf.constant([1,2])\n",
        "B"
      ],
      "execution_count": 70,
      "outputs": [
        {
          "output_type": "execute_result",
          "data": {
            "text/plain": [
              "<tf.Tensor: shape=(2,), dtype=int32, numpy=array([1, 2], dtype=int32)>"
            ]
          },
          "metadata": {},
          "execution_count": 70
        }
      ]
    },
    {
      "cell_type": "code",
      "metadata": {
        "colab": {
          "base_uri": "https://localhost:8080/"
        },
        "id": "Ro5HT5P9_P_e",
        "outputId": "f7d70a0c-af9d-4d28-e9f6-a14c0c366f60"
      },
      "source": [
        "# Change float32 to float16\n",
        "C = tf.cast(A, dtype=tf.float16)\n",
        "C"
      ],
      "execution_count": 71,
      "outputs": [
        {
          "output_type": "execute_result",
          "data": {
            "text/plain": [
              "<tf.Tensor: shape=(2,), dtype=float16, numpy=array([1.1, 4.3], dtype=float16)>"
            ]
          },
          "metadata": {},
          "execution_count": 71
        }
      ]
    },
    {
      "cell_type": "markdown",
      "metadata": {
        "id": "b1NpnMa7_akO"
      },
      "source": [
        "### Aggregating tensors\n",
        "\n"
      ]
    },
    {
      "cell_type": "markdown",
      "metadata": {
        "id": "BqXAr-5OAFrt"
      },
      "source": [
        "Aggregating tensors - condensing them from multile values down to snaller amount of values."
      ]
    },
    {
      "cell_type": "code",
      "metadata": {
        "colab": {
          "base_uri": "https://localhost:8080/"
        },
        "id": "NZxOsls90zUH",
        "outputId": "b75bf82f-7996-459f-98da-3a11423f6d54"
      },
      "source": [
        "# Get absolute value of a tensor\n",
        "A = tf.constant([-10,-7])\n",
        "A"
      ],
      "execution_count": 72,
      "outputs": [
        {
          "output_type": "execute_result",
          "data": {
            "text/plain": [
              "<tf.Tensor: shape=(2,), dtype=int32, numpy=array([-10,  -7], dtype=int32)>"
            ]
          },
          "metadata": {},
          "execution_count": 72
        }
      ]
    },
    {
      "cell_type": "code",
      "metadata": {
        "colab": {
          "base_uri": "https://localhost:8080/"
        },
        "id": "LQ8ty5pR1V2B",
        "outputId": "4af94d7f-61a3-4262-d0d2-e0efdd952a06"
      },
      "source": [
        "tf.abs(A)"
      ],
      "execution_count": 73,
      "outputs": [
        {
          "output_type": "execute_result",
          "data": {
            "text/plain": [
              "<tf.Tensor: shape=(2,), dtype=int32, numpy=array([10,  7], dtype=int32)>"
            ]
          },
          "metadata": {},
          "execution_count": 73
        }
      ]
    },
    {
      "cell_type": "markdown",
      "metadata": {
        "id": "Zr-GaGMB1dfd"
      },
      "source": [
        "Let's go through the following forms of aggregation\n",
        "* Get the minimum\n",
        "* Get the maximum\n",
        "* Get the mean of a tensor\n",
        "* Get the sum of a tensor"
      ]
    },
    {
      "cell_type": "code",
      "metadata": {
        "colab": {
          "base_uri": "https://localhost:8080/"
        },
        "id": "ZnkjXdN51-NA",
        "outputId": "33239e5e-6939-4dea-f698-516c7033510c"
      },
      "source": [
        "# Create a random tensor with values between 0 and 100 with size 50\n",
        "B = tf.constant(np.random.randint(0,100, size=50))\n",
        "B"
      ],
      "execution_count": 74,
      "outputs": [
        {
          "output_type": "execute_result",
          "data": {
            "text/plain": [
              "<tf.Tensor: shape=(50,), dtype=int64, numpy=\n",
              "array([ 4, 27, 61, 41,  1,  5, 51, 85, 24, 54, 27, 70, 63, 46, 49, 25, 32,\n",
              "        8, 58,  1, 38,  4, 10, 13, 49, 46, 49, 50, 91, 63, 56, 78, 50, 10,\n",
              "        6, 97, 79,  0, 36,  5,  5, 29, 67, 94, 77,  4, 89, 55, 88, 96])>"
            ]
          },
          "metadata": {},
          "execution_count": 74
        }
      ]
    },
    {
      "cell_type": "code",
      "metadata": {
        "colab": {
          "base_uri": "https://localhost:8080/"
        },
        "id": "FXCWhH7Z2pJJ",
        "outputId": "e759e372-27c6-4935-ae1f-385b0ce58a74"
      },
      "source": [
        "tf.size(B), B.shape, B.ndim"
      ],
      "execution_count": 75,
      "outputs": [
        {
          "output_type": "execute_result",
          "data": {
            "text/plain": [
              "(<tf.Tensor: shape=(), dtype=int32, numpy=50>, TensorShape([50]), 1)"
            ]
          },
          "metadata": {},
          "execution_count": 75
        }
      ]
    },
    {
      "cell_type": "code",
      "metadata": {
        "colab": {
          "base_uri": "https://localhost:8080/"
        },
        "id": "meRhS1_Q29c1",
        "outputId": "eb1f28b1-4379-4a86-893b-70b6b1b7c23c"
      },
      "source": [
        "# Find the minimum\n",
        "tf.reduce_min(B)"
      ],
      "execution_count": 76,
      "outputs": [
        {
          "output_type": "execute_result",
          "data": {
            "text/plain": [
              "<tf.Tensor: shape=(), dtype=int64, numpy=0>"
            ]
          },
          "metadata": {},
          "execution_count": 76
        }
      ]
    },
    {
      "cell_type": "code",
      "metadata": {
        "colab": {
          "base_uri": "https://localhost:8080/"
        },
        "id": "3emQpqtO3xaY",
        "outputId": "b6fcd0aa-92f4-4768-fad2-80bc59a2d308"
      },
      "source": [
        "# Find the maximum\n",
        "tf.reduce_max(B)"
      ],
      "execution_count": 77,
      "outputs": [
        {
          "output_type": "execute_result",
          "data": {
            "text/plain": [
              "<tf.Tensor: shape=(), dtype=int64, numpy=97>"
            ]
          },
          "metadata": {},
          "execution_count": 77
        }
      ]
    },
    {
      "cell_type": "code",
      "metadata": {
        "colab": {
          "base_uri": "https://localhost:8080/"
        },
        "id": "d_38rNR632qg",
        "outputId": "bcd84ee9-6cbb-4248-dd32-db0508b7bcd5"
      },
      "source": [
        "# Find the mean\n",
        "tf.reduce_mean(B)"
      ],
      "execution_count": 78,
      "outputs": [
        {
          "output_type": "execute_result",
          "data": {
            "text/plain": [
              "<tf.Tensor: shape=(), dtype=int64, numpy=43>"
            ]
          },
          "metadata": {},
          "execution_count": 78
        }
      ]
    },
    {
      "cell_type": "code",
      "metadata": {
        "colab": {
          "base_uri": "https://localhost:8080/"
        },
        "id": "P6hv-EPz38G8",
        "outputId": "ddd9314a-5403-41cc-c5f8-8d1173408280"
      },
      "source": [
        "# Find the sum\n",
        "tf.reduce_sum(B)"
      ],
      "execution_count": 79,
      "outputs": [
        {
          "output_type": "execute_result",
          "data": {
            "text/plain": [
              "<tf.Tensor: shape=(), dtype=int64, numpy=2166>"
            ]
          },
          "metadata": {},
          "execution_count": 79
        }
      ]
    },
    {
      "cell_type": "markdown",
      "metadata": {
        "id": "dPzGXJRg4BW2"
      },
      "source": [
        "How to find the variance and standard deviation of B"
      ]
    },
    {
      "cell_type": "code",
      "metadata": {
        "colab": {
          "base_uri": "https://localhost:8080/"
        },
        "id": "uAqHRWeU4Mp4",
        "outputId": "b74ffd54-b835-4ae0-e0b3-a1dd77ecabae"
      },
      "source": [
        "# Find the variance\n",
        "tf.math.reduce_variance(tf.cast(B,dtype=tf.float32))"
      ],
      "execution_count": 80,
      "outputs": [
        {
          "output_type": "execute_result",
          "data": {
            "text/plain": [
              "<tf.Tensor: shape=(), dtype=float32, numpy=902.3777>"
            ]
          },
          "metadata": {},
          "execution_count": 80
        }
      ]
    },
    {
      "cell_type": "code",
      "metadata": {
        "colab": {
          "base_uri": "https://localhost:8080/"
        },
        "id": "nNp_gKFN5Zu9",
        "outputId": "cef91350-a31d-4724-9c54-e3b08b638332"
      },
      "source": [
        "# Find the standard deviation\n",
        "tf.math.reduce_std(tf.cast(B, dtype=tf.float32))"
      ],
      "execution_count": 81,
      "outputs": [
        {
          "output_type": "execute_result",
          "data": {
            "text/plain": [
              "<tf.Tensor: shape=(), dtype=float32, numpy=30.039602>"
            ]
          },
          "metadata": {},
          "execution_count": 81
        }
      ]
    },
    {
      "cell_type": "markdown",
      "metadata": {
        "id": "WII2HTymDqpD"
      },
      "source": [
        "### Find the positional maximum and minimum of a tensor"
      ]
    },
    {
      "cell_type": "code",
      "metadata": {
        "colab": {
          "base_uri": "https://localhost:8080/"
        },
        "id": "nlwWlALzEhHw",
        "outputId": "19315751-4b14-42ae-e9b0-8e04e9e71d69"
      },
      "source": [
        "# Create a new tensor to find the positional minimum and maximum\n",
        "tf.random.set_seed(42)\n",
        "F = tf.random.uniform(shape=[50])\n",
        "F"
      ],
      "execution_count": 82,
      "outputs": [
        {
          "output_type": "execute_result",
          "data": {
            "text/plain": [
              "<tf.Tensor: shape=(50,), dtype=float32, numpy=\n",
              "array([0.6645621 , 0.44100678, 0.3528825 , 0.46448255, 0.03366041,\n",
              "       0.68467236, 0.74011743, 0.8724445 , 0.22632635, 0.22319686,\n",
              "       0.3103881 , 0.7223358 , 0.13318717, 0.5480639 , 0.5746088 ,\n",
              "       0.8996835 , 0.00946367, 0.5212307 , 0.6345445 , 0.1993283 ,\n",
              "       0.72942245, 0.54583454, 0.10756552, 0.6767061 , 0.6602763 ,\n",
              "       0.33695042, 0.60141766, 0.21062577, 0.8527372 , 0.44062173,\n",
              "       0.9485276 , 0.23752594, 0.81179297, 0.5263394 , 0.494308  ,\n",
              "       0.21612847, 0.8457197 , 0.8718841 , 0.3083862 , 0.6868038 ,\n",
              "       0.23764038, 0.7817228 , 0.9671384 , 0.06870162, 0.79873943,\n",
              "       0.66028714, 0.5871513 , 0.16461694, 0.7381023 , 0.32054043],\n",
              "      dtype=float32)>"
            ]
          },
          "metadata": {},
          "execution_count": 82
        }
      ]
    },
    {
      "cell_type": "code",
      "metadata": {
        "colab": {
          "base_uri": "https://localhost:8080/"
        },
        "id": "betczJIbG9Xb",
        "outputId": "8907b2fd-0621-4b55-e760-85bc9b72c067"
      },
      "source": [
        "# Index\n",
        "tf.argmax(F)"
      ],
      "execution_count": 83,
      "outputs": [
        {
          "output_type": "execute_result",
          "data": {
            "text/plain": [
              "<tf.Tensor: shape=(), dtype=int64, numpy=42>"
            ]
          },
          "metadata": {},
          "execution_count": 83
        }
      ]
    },
    {
      "cell_type": "code",
      "metadata": {
        "colab": {
          "base_uri": "https://localhost:8080/"
        },
        "id": "3uPVv8w8IVkB",
        "outputId": "6c3ff5af-8bf4-41f0-8dcf-901ba9e557bf"
      },
      "source": [
        "# Value\n",
        "F[tf.argmax(F)]"
      ],
      "execution_count": 84,
      "outputs": [
        {
          "output_type": "execute_result",
          "data": {
            "text/plain": [
              "<tf.Tensor: shape=(), dtype=float32, numpy=0.9671384>"
            ]
          },
          "metadata": {},
          "execution_count": 84
        }
      ]
    },
    {
      "cell_type": "code",
      "metadata": {
        "colab": {
          "base_uri": "https://localhost:8080/"
        },
        "id": "z7R7YU07IdX0",
        "outputId": "f3094da7-fc7b-4a1b-f772-b7817db29076"
      },
      "source": [
        "tf.reduce_max(F)"
      ],
      "execution_count": 85,
      "outputs": [
        {
          "output_type": "execute_result",
          "data": {
            "text/plain": [
              "<tf.Tensor: shape=(), dtype=float32, numpy=0.9671384>"
            ]
          },
          "metadata": {},
          "execution_count": 85
        }
      ]
    },
    {
      "cell_type": "code",
      "metadata": {
        "colab": {
          "base_uri": "https://localhost:8080/"
        },
        "id": "l-aTnoIoIkdh",
        "outputId": "383a7cd2-c022-4b51-d2c6-d125a2af6d1e"
      },
      "source": [
        "# Positional minimum\n",
        "F[tf.argmin(F)]"
      ],
      "execution_count": 86,
      "outputs": [
        {
          "output_type": "execute_result",
          "data": {
            "text/plain": [
              "<tf.Tensor: shape=(), dtype=float32, numpy=0.009463668>"
            ]
          },
          "metadata": {},
          "execution_count": 86
        }
      ]
    },
    {
      "cell_type": "markdown",
      "metadata": {
        "id": "BFZLSWwWNqsS"
      },
      "source": [
        "### Squeezing a tensor (removing all single dimensions)"
      ]
    },
    {
      "cell_type": "code",
      "metadata": {
        "colab": {
          "base_uri": "https://localhost:8080/"
        },
        "id": "YzP-0sVgN7TM",
        "outputId": "880a646a-2718-4899-b4a4-3f945f89a951"
      },
      "source": [
        "# Create a tensor\n",
        "tf.random.set_seed(42)\n",
        "G = tf.constant(tf.random.uniform(shape=[50]),shape=[1,1,1,1,50])\n",
        "G"
      ],
      "execution_count": 87,
      "outputs": [
        {
          "output_type": "execute_result",
          "data": {
            "text/plain": [
              "<tf.Tensor: shape=(1, 1, 1, 1, 50), dtype=float32, numpy=\n",
              "array([[[[[0.6645621 , 0.44100678, 0.3528825 , 0.46448255, 0.03366041,\n",
              "           0.68467236, 0.74011743, 0.8724445 , 0.22632635, 0.22319686,\n",
              "           0.3103881 , 0.7223358 , 0.13318717, 0.5480639 , 0.5746088 ,\n",
              "           0.8996835 , 0.00946367, 0.5212307 , 0.6345445 , 0.1993283 ,\n",
              "           0.72942245, 0.54583454, 0.10756552, 0.6767061 , 0.6602763 ,\n",
              "           0.33695042, 0.60141766, 0.21062577, 0.8527372 , 0.44062173,\n",
              "           0.9485276 , 0.23752594, 0.81179297, 0.5263394 , 0.494308  ,\n",
              "           0.21612847, 0.8457197 , 0.8718841 , 0.3083862 , 0.6868038 ,\n",
              "           0.23764038, 0.7817228 , 0.9671384 , 0.06870162, 0.79873943,\n",
              "           0.66028714, 0.5871513 , 0.16461694, 0.7381023 , 0.32054043]]]]],\n",
              "      dtype=float32)>"
            ]
          },
          "metadata": {},
          "execution_count": 87
        }
      ]
    },
    {
      "cell_type": "code",
      "metadata": {
        "colab": {
          "base_uri": "https://localhost:8080/"
        },
        "id": "J_Cls8XZPqik",
        "outputId": "5035ed50-b2a2-4a80-e16e-4ce083c8edcb"
      },
      "source": [
        "G.shape"
      ],
      "execution_count": 88,
      "outputs": [
        {
          "output_type": "execute_result",
          "data": {
            "text/plain": [
              "TensorShape([1, 1, 1, 1, 50])"
            ]
          },
          "metadata": {},
          "execution_count": 88
        }
      ]
    },
    {
      "cell_type": "code",
      "metadata": {
        "colab": {
          "base_uri": "https://localhost:8080/"
        },
        "id": "-d8dOcCjPaHP",
        "outputId": "b1fd3def-3514-4968-d0e1-3a0ad358b696"
      },
      "source": [
        "G_squeezed = tf.squeeze(G)\n",
        "G_squeezed"
      ],
      "execution_count": 89,
      "outputs": [
        {
          "output_type": "execute_result",
          "data": {
            "text/plain": [
              "<tf.Tensor: shape=(50,), dtype=float32, numpy=\n",
              "array([0.6645621 , 0.44100678, 0.3528825 , 0.46448255, 0.03366041,\n",
              "       0.68467236, 0.74011743, 0.8724445 , 0.22632635, 0.22319686,\n",
              "       0.3103881 , 0.7223358 , 0.13318717, 0.5480639 , 0.5746088 ,\n",
              "       0.8996835 , 0.00946367, 0.5212307 , 0.6345445 , 0.1993283 ,\n",
              "       0.72942245, 0.54583454, 0.10756552, 0.6767061 , 0.6602763 ,\n",
              "       0.33695042, 0.60141766, 0.21062577, 0.8527372 , 0.44062173,\n",
              "       0.9485276 , 0.23752594, 0.81179297, 0.5263394 , 0.494308  ,\n",
              "       0.21612847, 0.8457197 , 0.8718841 , 0.3083862 , 0.6868038 ,\n",
              "       0.23764038, 0.7817228 , 0.9671384 , 0.06870162, 0.79873943,\n",
              "       0.66028714, 0.5871513 , 0.16461694, 0.7381023 , 0.32054043],\n",
              "      dtype=float32)>"
            ]
          },
          "metadata": {},
          "execution_count": 89
        }
      ]
    },
    {
      "cell_type": "code",
      "metadata": {
        "colab": {
          "base_uri": "https://localhost:8080/"
        },
        "id": "pdxQL87fPsMD",
        "outputId": "c79e6ae2-4b18-4cba-d51a-09167ada7df2"
      },
      "source": [
        "G_squeezed.shape"
      ],
      "execution_count": 90,
      "outputs": [
        {
          "output_type": "execute_result",
          "data": {
            "text/plain": [
              "TensorShape([50])"
            ]
          },
          "metadata": {},
          "execution_count": 90
        }
      ]
    },
    {
      "cell_type": "markdown",
      "metadata": {
        "id": "UZ4OItGfPvnQ"
      },
      "source": [
        "### One-hot encoding"
      ]
    },
    {
      "cell_type": "code",
      "metadata": {
        "colab": {
          "base_uri": "https://localhost:8080/"
        },
        "id": "NVpZ6XSTQPZh",
        "outputId": "197f7acc-5d48-4527-ad36-f8df8af46cca"
      },
      "source": [
        "# Create a list of indices\n",
        "some_list = [0,1,2,3]\n",
        "\n",
        "tf.one_hot(some_list, depth=4) # depth is unique category count"
      ],
      "execution_count": 91,
      "outputs": [
        {
          "output_type": "execute_result",
          "data": {
            "text/plain": [
              "<tf.Tensor: shape=(4, 4), dtype=float32, numpy=\n",
              "array([[1., 0., 0., 0.],\n",
              "       [0., 1., 0., 0.],\n",
              "       [0., 0., 1., 0.],\n",
              "       [0., 0., 0., 1.]], dtype=float32)>"
            ]
          },
          "metadata": {},
          "execution_count": 91
        }
      ]
    },
    {
      "cell_type": "code",
      "metadata": {
        "colab": {
          "base_uri": "https://localhost:8080/"
        },
        "id": "SAEPo6i_8YPn",
        "outputId": "852f4c8c-04db-4cfb-85ed-765719bcb7a5"
      },
      "source": [
        "# Create a list of indices\n",
        "some_list = [0,1,2,3,2,3]\n",
        "\n",
        "tf.one_hot(some_list, depth=4)"
      ],
      "execution_count": 92,
      "outputs": [
        {
          "output_type": "execute_result",
          "data": {
            "text/plain": [
              "<tf.Tensor: shape=(6, 4), dtype=float32, numpy=\n",
              "array([[1., 0., 0., 0.],\n",
              "       [0., 1., 0., 0.],\n",
              "       [0., 0., 1., 0.],\n",
              "       [0., 0., 0., 1.],\n",
              "       [0., 0., 1., 0.],\n",
              "       [0., 0., 0., 1.]], dtype=float32)>"
            ]
          },
          "metadata": {},
          "execution_count": 92
        }
      ]
    },
    {
      "cell_type": "markdown",
      "metadata": {
        "id": "_8DgLZHU9n-O"
      },
      "source": [
        "### Squaring, log, square root"
      ]
    },
    {
      "cell_type": "code",
      "metadata": {
        "colab": {
          "base_uri": "https://localhost:8080/"
        },
        "id": "0qZSOKPw-MOw",
        "outputId": "a3d83ab9-3455-4715-f6c0-cb06843e2f0f"
      },
      "source": [
        "H = tf.range(0,10)\n",
        "H"
      ],
      "execution_count": 93,
      "outputs": [
        {
          "output_type": "execute_result",
          "data": {
            "text/plain": [
              "<tf.Tensor: shape=(10,), dtype=int32, numpy=array([0, 1, 2, 3, 4, 5, 6, 7, 8, 9], dtype=int32)>"
            ]
          },
          "metadata": {},
          "execution_count": 93
        }
      ]
    },
    {
      "cell_type": "code",
      "metadata": {
        "colab": {
          "base_uri": "https://localhost:8080/"
        },
        "id": "D6bt_q1lAHF6",
        "outputId": "30988722-61d9-411d-ccc1-8b516d44e0c4"
      },
      "source": [
        "tf.square(H)"
      ],
      "execution_count": 94,
      "outputs": [
        {
          "output_type": "execute_result",
          "data": {
            "text/plain": [
              "<tf.Tensor: shape=(10,), dtype=int32, numpy=array([ 0,  1,  4,  9, 16, 25, 36, 49, 64, 81], dtype=int32)>"
            ]
          },
          "metadata": {},
          "execution_count": 94
        }
      ]
    },
    {
      "cell_type": "code",
      "metadata": {
        "colab": {
          "base_uri": "https://localhost:8080/"
        },
        "id": "00LYh6T2A1cZ",
        "outputId": "3187aa5e-0368-42dc-88dd-b020f194d54b"
      },
      "source": [
        "tf.math.sqrt(tf.cast(H, dtype=tf.float32)) # the tensor should be float for performing sqrt"
      ],
      "execution_count": 95,
      "outputs": [
        {
          "output_type": "execute_result",
          "data": {
            "text/plain": [
              "<tf.Tensor: shape=(10,), dtype=float32, numpy=\n",
              "array([0.       , 1.       , 1.4142137, 1.7320509, 2.       , 2.2360682,\n",
              "       2.4494898, 2.6457515, 2.8284273, 3.0000002], dtype=float32)>"
            ]
          },
          "metadata": {},
          "execution_count": 95
        }
      ]
    },
    {
      "cell_type": "code",
      "metadata": {
        "colab": {
          "base_uri": "https://localhost:8080/"
        },
        "id": "DWOTv8dIA6py",
        "outputId": "b186896a-19bd-4491-f9fd-1cebd02e2402"
      },
      "source": [
        "tf.math.log(tf.cast(H,dtype=tf.float32))"
      ],
      "execution_count": 96,
      "outputs": [
        {
          "output_type": "execute_result",
          "data": {
            "text/plain": [
              "<tf.Tensor: shape=(10,), dtype=float32, numpy=\n",
              "array([     -inf, 0.       , 0.6931472, 1.0986123, 1.3862944, 1.609438 ,\n",
              "       1.7917595, 1.9459102, 2.0794415, 2.1972246], dtype=float32)>"
            ]
          },
          "metadata": {},
          "execution_count": 96
        }
      ]
    },
    {
      "cell_type": "markdown",
      "metadata": {
        "id": "KyjRZmsPBe94"
      },
      "source": [
        "### Tensors and Numpy"
      ]
    },
    {
      "cell_type": "markdown",
      "metadata": {
        "id": "JlkvBAMN_Cry"
      },
      "source": [
        "Tensors interact beautifuly with Numpy"
      ]
    },
    {
      "cell_type": "code",
      "metadata": {
        "colab": {
          "base_uri": "https://localhost:8080/"
        },
        "id": "UZdYA_xO_DZp",
        "outputId": "62f47416-4db2-4425-8cd3-f42215463517"
      },
      "source": [
        "# Create a tensor directly from numpy\n",
        "import numpy as np\n",
        "J = tf.constant(np.array([1,2,3,4]))\n",
        "J"
      ],
      "execution_count": 97,
      "outputs": [
        {
          "output_type": "execute_result",
          "data": {
            "text/plain": [
              "<tf.Tensor: shape=(4,), dtype=int64, numpy=array([1, 2, 3, 4])>"
            ]
          },
          "metadata": {},
          "execution_count": 97
        }
      ]
    },
    {
      "cell_type": "code",
      "metadata": {
        "colab": {
          "base_uri": "https://localhost:8080/"
        },
        "id": "PJy7i1Vo_VSy",
        "outputId": "7b2549f8-a018-455e-de0c-8fb4aa30cd79"
      },
      "source": [
        "# Convert our tensor back to numpy array\n",
        "np.array(J), type(np.array(J))"
      ],
      "execution_count": 98,
      "outputs": [
        {
          "output_type": "execute_result",
          "data": {
            "text/plain": [
              "(array([1, 2, 3, 4]), numpy.ndarray)"
            ]
          },
          "metadata": {},
          "execution_count": 98
        }
      ]
    },
    {
      "cell_type": "code",
      "metadata": {
        "colab": {
          "base_uri": "https://localhost:8080/"
        },
        "id": "K46QaRL1_5ov",
        "outputId": "71473d45-b199-4cae-d65d-6977663d441a"
      },
      "source": [
        "# Another way of converting back to numpy array\n",
        "J.numpy(), type(J.numpy())"
      ],
      "execution_count": 99,
      "outputs": [
        {
          "output_type": "execute_result",
          "data": {
            "text/plain": [
              "(array([1, 2, 3, 4]), numpy.ndarray)"
            ]
          },
          "metadata": {},
          "execution_count": 99
        }
      ]
    },
    {
      "cell_type": "code",
      "metadata": {
        "colab": {
          "base_uri": "https://localhost:8080/"
        },
        "id": "pv92X9O6AP9r",
        "outputId": "e9b0e3f3-6b20-413e-96f6-59212a5bed5f"
      },
      "source": [
        "# The default types of each are slightly different\n",
        "numpy_J = tf.constant(np.array([3.,7.,10.]))\n",
        "tensor_J = tf.constant([3.,7.,10.])\n",
        "numpy_J.dtype, tensor_J.dtype"
      ],
      "execution_count": 100,
      "outputs": [
        {
          "output_type": "execute_result",
          "data": {
            "text/plain": [
              "(tf.float64, tf.float32)"
            ]
          },
          "metadata": {},
          "execution_count": 100
        }
      ]
    },
    {
      "cell_type": "code",
      "metadata": {
        "id": "pDRWe7RqDgPY"
      },
      "source": [
        ""
      ],
      "execution_count": 100,
      "outputs": []
    }
  ]
}