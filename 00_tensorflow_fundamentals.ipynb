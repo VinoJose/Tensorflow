{
  "nbformat": 4,
  "nbformat_minor": 0,
  "metadata": {
    "colab": {
      "name": "00_tensorflow_fundamentals.ipynb",
      "provenance": [],
      "collapsed_sections": [
        "fzjcZ4FHCOb5"
      ],
      "include_colab_link": true
    },
    "kernelspec": {
      "name": "python3",
      "display_name": "Python 3"
    },
    "accelerator": "GPU"
  },
  "cells": [
    {
      "cell_type": "markdown",
      "metadata": {
        "id": "view-in-github",
        "colab_type": "text"
      },
      "source": [
        "<a href=\"https://colab.research.google.com/github/VinoJose/Tensorflow/blob/main/00_tensorflow_fundamentals.ipynb\" target=\"_parent\"><img src=\"https://colab.research.google.com/assets/colab-badge.svg\" alt=\"Open In Colab\"/></a>"
      ]
    },
    {
      "cell_type": "markdown",
      "metadata": {
        "id": "BiwWan7mLcq6"
      },
      "source": [
        "### Importing Library"
      ]
    },
    {
      "cell_type": "code",
      "metadata": {
        "colab": {
          "base_uri": "https://localhost:8080/"
        },
        "id": "MXj2G-pDhrCK",
        "outputId": "f52d9a5d-bdcc-4757-948c-47fa12e53b52"
      },
      "source": [
        "#Import tensorflow\n",
        "import tensorflow as tf\n",
        "print(tf.__version__)"
      ],
      "execution_count": 1,
      "outputs": [
        {
          "output_type": "stream",
          "name": "stdout",
          "text": [
            "2.6.0\n"
          ]
        }
      ]
    },
    {
      "cell_type": "markdown",
      "metadata": {
        "id": "U4e6BfLACl6E"
      },
      "source": [
        "###Creating tensors"
      ]
    },
    {
      "cell_type": "code",
      "metadata": {
        "colab": {
          "base_uri": "https://localhost:8080/"
        },
        "id": "qdLKfoT_h2q-",
        "outputId": "378348e4-cf82-4c84-b93d-02378bb05aec"
      },
      "source": [
        "#create scalar with tf.constant()\n",
        "scalar = tf.constant(7)\n",
        "scalar"
      ],
      "execution_count": 2,
      "outputs": [
        {
          "output_type": "execute_result",
          "data": {
            "text/plain": [
              "<tf.Tensor: shape=(), dtype=int32, numpy=7>"
            ]
          },
          "metadata": {},
          "execution_count": 2
        }
      ]
    },
    {
      "cell_type": "code",
      "metadata": {
        "colab": {
          "base_uri": "https://localhost:8080/"
        },
        "id": "seKnbYu1iO9o",
        "outputId": "470a659b-2731-4690-eed4-a3e6798a6229"
      },
      "source": [
        "#check the number of dimensions of a tensor (ndim)\n",
        "scalar.ndim"
      ],
      "execution_count": 3,
      "outputs": [
        {
          "output_type": "execute_result",
          "data": {
            "text/plain": [
              "0"
            ]
          },
          "metadata": {},
          "execution_count": 3
        }
      ]
    },
    {
      "cell_type": "code",
      "metadata": {
        "colab": {
          "base_uri": "https://localhost:8080/"
        },
        "id": "hZ2p1gS7jD4H",
        "outputId": "d900ce8f-c35b-43bd-d5e8-6a0d1a8fece9"
      },
      "source": [
        "#Create a vector\n",
        "vector = tf.constant([10,10])\n",
        "vector"
      ],
      "execution_count": 4,
      "outputs": [
        {
          "output_type": "execute_result",
          "data": {
            "text/plain": [
              "<tf.Tensor: shape=(2,), dtype=int32, numpy=array([10, 10], dtype=int32)>"
            ]
          },
          "metadata": {},
          "execution_count": 4
        }
      ]
    },
    {
      "cell_type": "code",
      "metadata": {
        "colab": {
          "base_uri": "https://localhost:8080/"
        },
        "id": "SOFj4gtFjeRo",
        "outputId": "83588e4c-4dbc-43db-cfc3-a8fd2ec47b9e"
      },
      "source": [
        "#check the dimentions of out vector\n",
        "vector.ndim"
      ],
      "execution_count": 5,
      "outputs": [
        {
          "output_type": "execute_result",
          "data": {
            "text/plain": [
              "1"
            ]
          },
          "metadata": {},
          "execution_count": 5
        }
      ]
    },
    {
      "cell_type": "code",
      "metadata": {
        "colab": {
          "base_uri": "https://localhost:8080/"
        },
        "id": "ZRrbSimrjmQX",
        "outputId": "e3388a7f-7874-471e-bde0-8fd0da4438c4"
      },
      "source": [
        "#create a matrix (has more than 1 dimensions)\n",
        "matrix = tf.constant([[10,7],\n",
        "                     [7,10]])\n",
        "matrix"
      ],
      "execution_count": 6,
      "outputs": [
        {
          "output_type": "execute_result",
          "data": {
            "text/plain": [
              "<tf.Tensor: shape=(2, 2), dtype=int32, numpy=\n",
              "array([[10,  7],\n",
              "       [ 7, 10]], dtype=int32)>"
            ]
          },
          "metadata": {},
          "execution_count": 6
        }
      ]
    },
    {
      "cell_type": "code",
      "metadata": {
        "colab": {
          "base_uri": "https://localhost:8080/"
        },
        "id": "QC5-DsLJklle",
        "outputId": "3802905b-08b9-473e-9a26-5152f361efa0"
      },
      "source": [
        "matrix.ndim"
      ],
      "execution_count": 7,
      "outputs": [
        {
          "output_type": "execute_result",
          "data": {
            "text/plain": [
              "2"
            ]
          },
          "metadata": {},
          "execution_count": 7
        }
      ]
    },
    {
      "cell_type": "code",
      "metadata": {
        "colab": {
          "base_uri": "https://localhost:8080/"
        },
        "id": "j8xu07R4677M",
        "outputId": "5bbf0911-a25b-43c0-d312-e61de544ace9"
      },
      "source": [
        "#create another matrix\n",
        "another_matrix = tf.constant([[10.,9.],\n",
        "                              [9.,10.],\n",
        "                              [3.,2.]],dtype=tf.float16\n",
        ")\n",
        "another_matrix"
      ],
      "execution_count": 8,
      "outputs": [
        {
          "output_type": "execute_result",
          "data": {
            "text/plain": [
              "<tf.Tensor: shape=(3, 2), dtype=float16, numpy=\n",
              "array([[10.,  9.],\n",
              "       [ 9., 10.],\n",
              "       [ 3.,  2.]], dtype=float16)>"
            ]
          },
          "metadata": {},
          "execution_count": 8
        }
      ]
    },
    {
      "cell_type": "code",
      "metadata": {
        "colab": {
          "base_uri": "https://localhost:8080/"
        },
        "id": "T0itrON87tuc",
        "outputId": "ca3dc8be-a928-454e-d37d-0d2dff67c74e"
      },
      "source": [
        "another_matrix.ndim"
      ],
      "execution_count": 9,
      "outputs": [
        {
          "output_type": "execute_result",
          "data": {
            "text/plain": [
              "2"
            ]
          },
          "metadata": {},
          "execution_count": 9
        }
      ]
    },
    {
      "cell_type": "code",
      "metadata": {
        "colab": {
          "base_uri": "https://localhost:8080/"
        },
        "id": "ElrdkVDN8fx8",
        "outputId": "6cf6d740-461f-4f10-f643-b370f2c6ebcd"
      },
      "source": [
        "#create a tensor\n",
        "tensor = tf.constant([[[1,2,4],\n",
        "                       [2,3,4]],\n",
        "                      [[3,4,5],\n",
        "                       [4,5,6]],\n",
        "                      [[5,6,7],\n",
        "                       [6,7,8]]])\n",
        "tensor"
      ],
      "execution_count": 10,
      "outputs": [
        {
          "output_type": "execute_result",
          "data": {
            "text/plain": [
              "<tf.Tensor: shape=(3, 2, 3), dtype=int32, numpy=\n",
              "array([[[1, 2, 4],\n",
              "        [2, 3, 4]],\n",
              "\n",
              "       [[3, 4, 5],\n",
              "        [4, 5, 6]],\n",
              "\n",
              "       [[5, 6, 7],\n",
              "        [6, 7, 8]]], dtype=int32)>"
            ]
          },
          "metadata": {},
          "execution_count": 10
        }
      ]
    },
    {
      "cell_type": "code",
      "metadata": {
        "colab": {
          "base_uri": "https://localhost:8080/"
        },
        "id": "bOwz5N3W8jP8",
        "outputId": "c89e79ad-f84b-461d-cab7-4c996173f2dd"
      },
      "source": [
        "tensor.ndim"
      ],
      "execution_count": 11,
      "outputs": [
        {
          "output_type": "execute_result",
          "data": {
            "text/plain": [
              "3"
            ]
          },
          "metadata": {},
          "execution_count": 11
        }
      ]
    },
    {
      "cell_type": "markdown",
      "metadata": {
        "id": "vJFqlJcY-1xX"
      },
      "source": [
        "###Create tensor using `tf.Variable`"
      ]
    },
    {
      "cell_type": "code",
      "metadata": {
        "colab": {
          "base_uri": "https://localhost:8080/"
        },
        "id": "ghfvyUUb9i7-",
        "outputId": "d2ddb88b-2d02-4a6e-8b54-525c0080a2b0"
      },
      "source": [
        "#create same tensor with tf.Variable() as above\n",
        "changeable_tensor = tf.Variable([10,7])\n",
        "unchangeable_tensor = tf.constant([10,7])\n",
        "changeable_tensor, unchangeable_tensor"
      ],
      "execution_count": 12,
      "outputs": [
        {
          "output_type": "execute_result",
          "data": {
            "text/plain": [
              "(<tf.Variable 'Variable:0' shape=(2,) dtype=int32, numpy=array([10,  7], dtype=int32)>,\n",
              " <tf.Tensor: shape=(2,), dtype=int32, numpy=array([10,  7], dtype=int32)>)"
            ]
          },
          "metadata": {},
          "execution_count": 12
        }
      ]
    },
    {
      "cell_type": "code",
      "metadata": {
        "colab": {
          "base_uri": "https://localhost:8080/",
          "height": 180
        },
        "id": "eWLW34fuAP-n",
        "outputId": "bc9e8c28-be80-4d20-c9b1-88819da00022"
      },
      "source": [
        "# try changing elements in these tensors\n",
        "changeable_tensor[0] =7"
      ],
      "execution_count": 14,
      "outputs": [
        {
          "output_type": "error",
          "ename": "TypeError",
          "evalue": "ignored",
          "traceback": [
            "\u001b[0;31m---------------------------------------------------------------------------\u001b[0m",
            "\u001b[0;31mTypeError\u001b[0m                                 Traceback (most recent call last)",
            "\u001b[0;32m<ipython-input-14-441cb0ab3436>\u001b[0m in \u001b[0;36m<module>\u001b[0;34m()\u001b[0m\n\u001b[1;32m      1\u001b[0m \u001b[0;31m# try changing elements in these tensors\u001b[0m\u001b[0;34m\u001b[0m\u001b[0;34m\u001b[0m\u001b[0;34m\u001b[0m\u001b[0m\n\u001b[0;32m----> 2\u001b[0;31m \u001b[0mchangeable_tensor\u001b[0m\u001b[0;34m[\u001b[0m\u001b[0;36m0\u001b[0m\u001b[0;34m]\u001b[0m \u001b[0;34m=\u001b[0m\u001b[0;36m7\u001b[0m\u001b[0;34m\u001b[0m\u001b[0;34m\u001b[0m\u001b[0m\n\u001b[0m",
            "\u001b[0;31mTypeError\u001b[0m: 'ResourceVariable' object does not support item assignment"
          ]
        }
      ]
    },
    {
      "cell_type": "code",
      "metadata": {
        "colab": {
          "base_uri": "https://localhost:8080/"
        },
        "id": "kGR0nTC6BXXr",
        "outputId": "5fbfc955-b645-413f-a15c-67cf75a5ad8c"
      },
      "source": [
        "changeable_tensor[0].assign(7)"
      ],
      "execution_count": 15,
      "outputs": [
        {
          "output_type": "execute_result",
          "data": {
            "text/plain": [
              "<tf.Variable 'UnreadVariable' shape=(2,) dtype=int32, numpy=array([7, 7], dtype=int32)>"
            ]
          },
          "metadata": {},
          "execution_count": 15
        }
      ]
    },
    {
      "cell_type": "code",
      "metadata": {
        "colab": {
          "base_uri": "https://localhost:8080/",
          "height": 163
        },
        "id": "l29z03_pBcNp",
        "outputId": "e9c9607d-e4f9-4dbb-a5dc-9637648c25c5"
      },
      "source": [
        "unchangeable_tensor[0] = 7"
      ],
      "execution_count": 16,
      "outputs": [
        {
          "output_type": "error",
          "ename": "TypeError",
          "evalue": "ignored",
          "traceback": [
            "\u001b[0;31m---------------------------------------------------------------------------\u001b[0m",
            "\u001b[0;31mTypeError\u001b[0m                                 Traceback (most recent call last)",
            "\u001b[0;32m<ipython-input-16-f1d02a9f54e1>\u001b[0m in \u001b[0;36m<module>\u001b[0;34m()\u001b[0m\n\u001b[0;32m----> 1\u001b[0;31m \u001b[0munchangeable_tensor\u001b[0m\u001b[0;34m[\u001b[0m\u001b[0;36m0\u001b[0m\u001b[0;34m]\u001b[0m \u001b[0;34m=\u001b[0m \u001b[0;36m7\u001b[0m\u001b[0;34m\u001b[0m\u001b[0;34m\u001b[0m\u001b[0m\n\u001b[0m",
            "\u001b[0;31mTypeError\u001b[0m: 'tensorflow.python.framework.ops.EagerTensor' object does not support item assignment"
          ]
        }
      ]
    },
    {
      "cell_type": "markdown",
      "metadata": {
        "id": "oIqo5HS9B6nP"
      },
      "source": [
        "We can only change the values of tensors which are created using `tf.Variable()`. "
      ]
    },
    {
      "cell_type": "markdown",
      "metadata": {
        "id": "DxFB25LDCV9i"
      },
      "source": [
        "###Creating random tensors"
      ]
    },
    {
      "cell_type": "code",
      "metadata": {
        "colab": {
          "base_uri": "https://localhost:8080/"
        },
        "id": "Ez85Qc34B3oV",
        "outputId": "652e8f2e-8cd9-43c3-838e-943b4ee019f9"
      },
      "source": [
        "#create 2 random (but same) tensors\n",
        "random1 = tf.random.Generator.from_seed(7)\n",
        "random1 = random1.normal(shape=(3,2))\n",
        "random2 = tf.random.Generator.from_seed(7)\n",
        "random2 = random2.normal(shape=(3,2))\n",
        "\n",
        "#Are they equal?\n",
        "random1, random2, random1 == random2"
      ],
      "execution_count": 17,
      "outputs": [
        {
          "output_type": "execute_result",
          "data": {
            "text/plain": [
              "(<tf.Tensor: shape=(3, 2), dtype=float32, numpy=\n",
              " array([[-1.3240396 ,  0.2878567 ],\n",
              "        [-0.8757901 , -0.08857017],\n",
              "        [ 0.69211644,  0.84215707]], dtype=float32)>,\n",
              " <tf.Tensor: shape=(3, 2), dtype=float32, numpy=\n",
              " array([[-1.3240396 ,  0.2878567 ],\n",
              "        [-0.8757901 , -0.08857017],\n",
              "        [ 0.69211644,  0.84215707]], dtype=float32)>,\n",
              " <tf.Tensor: shape=(3, 2), dtype=bool, numpy=\n",
              " array([[ True,  True],\n",
              "        [ True,  True],\n",
              "        [ True,  True]])>)"
            ]
          },
          "metadata": {},
          "execution_count": 17
        }
      ]
    },
    {
      "cell_type": "markdown",
      "metadata": {
        "id": "1pwagqCMI2R0"
      },
      "source": [
        "###Shuffle the order of elements in a tensor"
      ]
    },
    {
      "cell_type": "code",
      "metadata": {
        "colab": {
          "base_uri": "https://localhost:8080/"
        },
        "id": "eQFWMB4AGEms",
        "outputId": "c09adf79-6050-42ab-abb0-8ba4a53afbf2"
      },
      "source": [
        "#Shuffle a tensor\n",
        "not_shuffled = tf.constant([[10,7],\n",
        "                            [2,4],\n",
        "                            [5,7]])\n",
        "tf.random.shuffle(not_shuffled)"
      ],
      "execution_count": 18,
      "outputs": [
        {
          "output_type": "execute_result",
          "data": {
            "text/plain": [
              "<tf.Tensor: shape=(3, 2), dtype=int32, numpy=\n",
              "array([[10,  7],\n",
              "       [ 2,  4],\n",
              "       [ 5,  7]], dtype=int32)>"
            ]
          },
          "metadata": {},
          "execution_count": 18
        }
      ]
    },
    {
      "cell_type": "code",
      "metadata": {
        "colab": {
          "base_uri": "https://localhost:8080/"
        },
        "id": "C4hSnpEmJnOh",
        "outputId": "b99a762c-6ae5-4435-9f2a-ced838888250"
      },
      "source": [
        "#Shuffle with a seed\n",
        "\n",
        "tf.random.set_seed(53) # global level random seed\n",
        "tf.random.shuffle(not_shuffled)"
      ],
      "execution_count": 19,
      "outputs": [
        {
          "output_type": "execute_result",
          "data": {
            "text/plain": [
              "<tf.Tensor: shape=(3, 2), dtype=int32, numpy=\n",
              "array([[10,  7],\n",
              "       [ 5,  7],\n",
              "       [ 2,  4]], dtype=int32)>"
            ]
          },
          "metadata": {},
          "execution_count": 19
        }
      ]
    },
    {
      "cell_type": "markdown",
      "metadata": {
        "id": "1WsjBZn5KImI"
      },
      "source": [
        "While using a set_seed, shuffled order is reproducable.\n",
        "\n"
      ]
    },
    {
      "cell_type": "code",
      "metadata": {
        "colab": {
          "base_uri": "https://localhost:8080/"
        },
        "id": "Z-1xbP8gJ_7b",
        "outputId": "1942f6cc-a27e-4090-bb2d-5681b1888a1d"
      },
      "source": [
        "tf.random.shuffle(not_shuffled, seed = 53) # operation level random seed"
      ],
      "execution_count": 20,
      "outputs": [
        {
          "output_type": "execute_result",
          "data": {
            "text/plain": [
              "<tf.Tensor: shape=(3, 2), dtype=int32, numpy=\n",
              "array([[ 5,  7],\n",
              "       [10,  7],\n",
              "       [ 2,  4]], dtype=int32)>"
            ]
          },
          "metadata": {},
          "execution_count": 20
        }
      ]
    },
    {
      "cell_type": "markdown",
      "metadata": {
        "id": "mBIZS54xLwBD"
      },
      "source": [
        "### Other ways of making tensors"
      ]
    },
    {
      "cell_type": "code",
      "metadata": {
        "colab": {
          "base_uri": "https://localhost:8080/"
        },
        "id": "smkEBiTvMfcK",
        "outputId": "7f9e90af-8971-4526-db94-a486f1569b34"
      },
      "source": [
        "#Create a tensor for all ones\n",
        "tf.ones([10,7])"
      ],
      "execution_count": 21,
      "outputs": [
        {
          "output_type": "execute_result",
          "data": {
            "text/plain": [
              "<tf.Tensor: shape=(10, 7), dtype=float32, numpy=\n",
              "array([[1., 1., 1., 1., 1., 1., 1.],\n",
              "       [1., 1., 1., 1., 1., 1., 1.],\n",
              "       [1., 1., 1., 1., 1., 1., 1.],\n",
              "       [1., 1., 1., 1., 1., 1., 1.],\n",
              "       [1., 1., 1., 1., 1., 1., 1.],\n",
              "       [1., 1., 1., 1., 1., 1., 1.],\n",
              "       [1., 1., 1., 1., 1., 1., 1.],\n",
              "       [1., 1., 1., 1., 1., 1., 1.],\n",
              "       [1., 1., 1., 1., 1., 1., 1.],\n",
              "       [1., 1., 1., 1., 1., 1., 1.]], dtype=float32)>"
            ]
          },
          "metadata": {},
          "execution_count": 21
        }
      ]
    },
    {
      "cell_type": "code",
      "metadata": {
        "id": "4EZyHYg_MVYA",
        "colab": {
          "base_uri": "https://localhost:8080/"
        },
        "outputId": "ae1ca157-05c8-4f77-d3b1-baaacb6f2051"
      },
      "source": [
        "#Create a tensor of all zeros\n",
        "tf.zeros(shape=(10,7))"
      ],
      "execution_count": 22,
      "outputs": [
        {
          "output_type": "execute_result",
          "data": {
            "text/plain": [
              "<tf.Tensor: shape=(10, 7), dtype=float32, numpy=\n",
              "array([[0., 0., 0., 0., 0., 0., 0.],\n",
              "       [0., 0., 0., 0., 0., 0., 0.],\n",
              "       [0., 0., 0., 0., 0., 0., 0.],\n",
              "       [0., 0., 0., 0., 0., 0., 0.],\n",
              "       [0., 0., 0., 0., 0., 0., 0.],\n",
              "       [0., 0., 0., 0., 0., 0., 0.],\n",
              "       [0., 0., 0., 0., 0., 0., 0.],\n",
              "       [0., 0., 0., 0., 0., 0., 0.],\n",
              "       [0., 0., 0., 0., 0., 0., 0.],\n",
              "       [0., 0., 0., 0., 0., 0., 0.]], dtype=float32)>"
            ]
          },
          "metadata": {},
          "execution_count": 22
        }
      ]
    },
    {
      "cell_type": "markdown",
      "metadata": {
        "id": "5OC1BQagNfKn"
      },
      "source": [
        "### Turn numpy arrays into tensors"
      ]
    },
    {
      "cell_type": "markdown",
      "metadata": {
        "id": "oRKnGWiaNzCR"
      },
      "source": [
        "The main difference between numpy array and tensors is that tensors can be run on GPU"
      ]
    },
    {
      "cell_type": "code",
      "metadata": {
        "id": "fpWD-UNAN-VT",
        "colab": {
          "base_uri": "https://localhost:8080/"
        },
        "outputId": "0db9b71a-8add-440f-cc19-392fdad303ed"
      },
      "source": [
        "import numpy as np\n",
        "# X = tf.constant(some_matrix) # Capital letter variable name for Matrix or tensor\n",
        "# y = tf.constant(vector) # non-capital for vector\n",
        "\n",
        "numpy_A = np.arange(1,25, dtype= np.int32)\n",
        "numpy_A"
      ],
      "execution_count": 23,
      "outputs": [
        {
          "output_type": "execute_result",
          "data": {
            "text/plain": [
              "array([ 1,  2,  3,  4,  5,  6,  7,  8,  9, 10, 11, 12, 13, 14, 15, 16, 17,\n",
              "       18, 19, 20, 21, 22, 23, 24], dtype=int32)"
            ]
          },
          "metadata": {},
          "execution_count": 23
        }
      ]
    },
    {
      "cell_type": "code",
      "metadata": {
        "id": "Zq3i65W1Qv_0",
        "colab": {
          "base_uri": "https://localhost:8080/"
        },
        "outputId": "c2bdee72-3964-4ef9-a5f2-8366b1ba42f7"
      },
      "source": [
        "A = tf.constant(numpy_A)\n",
        "A"
      ],
      "execution_count": 24,
      "outputs": [
        {
          "output_type": "execute_result",
          "data": {
            "text/plain": [
              "<tf.Tensor: shape=(24,), dtype=int32, numpy=\n",
              "array([ 1,  2,  3,  4,  5,  6,  7,  8,  9, 10, 11, 12, 13, 14, 15, 16, 17,\n",
              "       18, 19, 20, 21, 22, 23, 24], dtype=int32)>"
            ]
          },
          "metadata": {},
          "execution_count": 24
        }
      ]
    },
    {
      "cell_type": "code",
      "metadata": {
        "id": "lS8o_Lk2RSDk",
        "colab": {
          "base_uri": "https://localhost:8080/"
        },
        "outputId": "e675f20d-5e18-41c6-e92e-9dd68c7d1823"
      },
      "source": [
        "B = tf.constant(numpy_A, shape=(2,3,4)) # 2*3*4=24 which should be equal to the number of items(size of the np array) in the numpy array we are converting\n",
        "B"
      ],
      "execution_count": 25,
      "outputs": [
        {
          "output_type": "execute_result",
          "data": {
            "text/plain": [
              "<tf.Tensor: shape=(2, 3, 4), dtype=int32, numpy=\n",
              "array([[[ 1,  2,  3,  4],\n",
              "        [ 5,  6,  7,  8],\n",
              "        [ 9, 10, 11, 12]],\n",
              "\n",
              "       [[13, 14, 15, 16],\n",
              "        [17, 18, 19, 20],\n",
              "        [21, 22, 23, 24]]], dtype=int32)>"
            ]
          },
          "metadata": {},
          "execution_count": 25
        }
      ]
    },
    {
      "cell_type": "code",
      "metadata": {
        "id": "ncEBg-Q9RZoU",
        "colab": {
          "base_uri": "https://localhost:8080/"
        },
        "outputId": "4e665229-7f1e-4436-d221-06c4f9bf12d5"
      },
      "source": [
        "A.ndim,  B.ndim"
      ],
      "execution_count": 26,
      "outputs": [
        {
          "output_type": "execute_result",
          "data": {
            "text/plain": [
              "(1, 3)"
            ]
          },
          "metadata": {},
          "execution_count": 26
        }
      ]
    },
    {
      "cell_type": "markdown",
      "metadata": {
        "id": "OSPvDj_KSAJY"
      },
      "source": [
        "### Getting information from tensors"
      ]
    },
    {
      "cell_type": "markdown",
      "metadata": {
        "id": "JUXWQZBTUMsY"
      },
      "source": [
        "When dealing with tensors you probabily want to be aware of following attributes\n",
        "\n",
        "* Shape\n",
        "* Rank\n",
        "* Axis or Dimension\n",
        "* Size\n"
      ]
    },
    {
      "cell_type": "markdown",
      "metadata": {
        "id": "Z8j_PF3_TuBM"
      },
      "source": [
        "![image.png](data:image/png;base64,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)"
      ]
    },
    {
      "cell_type": "code",
      "metadata": {
        "id": "3P5pl3_fVKys",
        "colab": {
          "base_uri": "https://localhost:8080/"
        },
        "outputId": "d27a4364-8324-4d64-d240-7208be08966f"
      },
      "source": [
        " #Create a rank 4 tensor (4 dimensions)\n",
        " rank_4_tensor = tf.zeros([2,3,4,5])\n",
        " rank_4_tensor"
      ],
      "execution_count": 27,
      "outputs": [
        {
          "output_type": "execute_result",
          "data": {
            "text/plain": [
              "<tf.Tensor: shape=(2, 3, 4, 5), dtype=float32, numpy=\n",
              "array([[[[0., 0., 0., 0., 0.],\n",
              "         [0., 0., 0., 0., 0.],\n",
              "         [0., 0., 0., 0., 0.],\n",
              "         [0., 0., 0., 0., 0.]],\n",
              "\n",
              "        [[0., 0., 0., 0., 0.],\n",
              "         [0., 0., 0., 0., 0.],\n",
              "         [0., 0., 0., 0., 0.],\n",
              "         [0., 0., 0., 0., 0.]],\n",
              "\n",
              "        [[0., 0., 0., 0., 0.],\n",
              "         [0., 0., 0., 0., 0.],\n",
              "         [0., 0., 0., 0., 0.],\n",
              "         [0., 0., 0., 0., 0.]]],\n",
              "\n",
              "\n",
              "       [[[0., 0., 0., 0., 0.],\n",
              "         [0., 0., 0., 0., 0.],\n",
              "         [0., 0., 0., 0., 0.],\n",
              "         [0., 0., 0., 0., 0.]],\n",
              "\n",
              "        [[0., 0., 0., 0., 0.],\n",
              "         [0., 0., 0., 0., 0.],\n",
              "         [0., 0., 0., 0., 0.],\n",
              "         [0., 0., 0., 0., 0.]],\n",
              "\n",
              "        [[0., 0., 0., 0., 0.],\n",
              "         [0., 0., 0., 0., 0.],\n",
              "         [0., 0., 0., 0., 0.],\n",
              "         [0., 0., 0., 0., 0.]]]], dtype=float32)>"
            ]
          },
          "metadata": {},
          "execution_count": 27
        }
      ]
    },
    {
      "cell_type": "code",
      "metadata": {
        "id": "N71KdQ-WWtCl",
        "colab": {
          "base_uri": "https://localhost:8080/"
        },
        "outputId": "42e15383-3f88-4f95-c192-e1b603291535"
      },
      "source": [
        "rank_4_tensor[0]"
      ],
      "execution_count": 28,
      "outputs": [
        {
          "output_type": "execute_result",
          "data": {
            "text/plain": [
              "<tf.Tensor: shape=(3, 4, 5), dtype=float32, numpy=\n",
              "array([[[0., 0., 0., 0., 0.],\n",
              "        [0., 0., 0., 0., 0.],\n",
              "        [0., 0., 0., 0., 0.],\n",
              "        [0., 0., 0., 0., 0.]],\n",
              "\n",
              "       [[0., 0., 0., 0., 0.],\n",
              "        [0., 0., 0., 0., 0.],\n",
              "        [0., 0., 0., 0., 0.],\n",
              "        [0., 0., 0., 0., 0.]],\n",
              "\n",
              "       [[0., 0., 0., 0., 0.],\n",
              "        [0., 0., 0., 0., 0.],\n",
              "        [0., 0., 0., 0., 0.],\n",
              "        [0., 0., 0., 0., 0.]]], dtype=float32)>"
            ]
          },
          "metadata": {},
          "execution_count": 28
        }
      ]
    },
    {
      "cell_type": "code",
      "metadata": {
        "id": "N8q4rKbpW_GR",
        "colab": {
          "base_uri": "https://localhost:8080/"
        },
        "outputId": "d430f544-2f4f-4166-df47-6e674711f0a8"
      },
      "source": [
        "rank_4_tensor.shape, rank_4_tensor.ndim, tf.size(rank_4_tensor)"
      ],
      "execution_count": 29,
      "outputs": [
        {
          "output_type": "execute_result",
          "data": {
            "text/plain": [
              "(TensorShape([2, 3, 4, 5]), 4, <tf.Tensor: shape=(), dtype=int32, numpy=120>)"
            ]
          },
          "metadata": {},
          "execution_count": 29
        }
      ]
    },
    {
      "cell_type": "code",
      "metadata": {
        "id": "yAhHrrymXXu_",
        "colab": {
          "base_uri": "https://localhost:8080/"
        },
        "outputId": "e2efc7ae-57e5-4122-afba-29628948739d"
      },
      "source": [
        "#Get various attributes of out tensors\n",
        "print(\"Datatype of every element:\", rank_4_tensor.dtype)\n",
        "print(\"Number of dimensions(rank):\", rank_4_tensor.ndim)\n",
        "print(\"Shape of the tensor:\", rank_4_tensor.shape)\n",
        "print(\"Elements along the 0 axis:\", rank_4_tensor.shape[0])\n",
        "print(\"Elements along last axis:\", rank_4_tensor.shape[-1])\n",
        "print(\"Size of the tensor:\", tf.size(rank_4_tensor))\n",
        "print(\"Size of the tensor:\", tf.size(rank_4_tensor).numpy()) # if you just want the number"
      ],
      "execution_count": 30,
      "outputs": [
        {
          "output_type": "stream",
          "name": "stdout",
          "text": [
            "Datatype of every element: <dtype: 'float32'>\n",
            "Number of dimensions(rank): 4\n",
            "Shape of the tensor: (2, 3, 4, 5)\n",
            "Elements along the 0 axis: 2\n",
            "Elements along last axis: 5\n",
            "Size of the tensor: tf.Tensor(120, shape=(), dtype=int32)\n",
            "Size of the tensor: 120\n"
          ]
        }
      ]
    },
    {
      "cell_type": "markdown",
      "metadata": {
        "id": "Gicd0Ay_ZCsb"
      },
      "source": [
        "### Indexing tensors"
      ]
    },
    {
      "cell_type": "markdown",
      "metadata": {
        "id": "0fZuRki8akcD"
      },
      "source": [
        "Tensors can be indexed just like python lists"
      ]
    },
    {
      "cell_type": "code",
      "metadata": {
        "id": "utooyUZcatLb",
        "colab": {
          "base_uri": "https://localhost:8080/"
        },
        "outputId": "798d543a-0cac-4342-de60-601cd3732c60"
      },
      "source": [
        "some_list = [1,2,3,4]\n",
        "some_list[:2]"
      ],
      "execution_count": 31,
      "outputs": [
        {
          "output_type": "execute_result",
          "data": {
            "text/plain": [
              "[1, 2]"
            ]
          },
          "metadata": {},
          "execution_count": 31
        }
      ]
    },
    {
      "cell_type": "code",
      "metadata": {
        "id": "PCR_uWrZa03Y",
        "colab": {
          "base_uri": "https://localhost:8080/"
        },
        "outputId": "61f844c8-c484-4510-c6a5-f785106e7741"
      },
      "source": [
        "#Get the first two elements from each dimensions\n",
        "rank_4_tensor[:2,:2,:2,:2]"
      ],
      "execution_count": 32,
      "outputs": [
        {
          "output_type": "execute_result",
          "data": {
            "text/plain": [
              "<tf.Tensor: shape=(2, 2, 2, 2), dtype=float32, numpy=\n",
              "array([[[[0., 0.],\n",
              "         [0., 0.]],\n",
              "\n",
              "        [[0., 0.],\n",
              "         [0., 0.]]],\n",
              "\n",
              "\n",
              "       [[[0., 0.],\n",
              "         [0., 0.]],\n",
              "\n",
              "        [[0., 0.],\n",
              "         [0., 0.]]]], dtype=float32)>"
            ]
          },
          "metadata": {},
          "execution_count": 32
        }
      ]
    },
    {
      "cell_type": "code",
      "metadata": {
        "id": "C1tAhTfea51x",
        "colab": {
          "base_uri": "https://localhost:8080/"
        },
        "outputId": "0a625887-17a0-4bcc-8fb5-4f1b8f1b03e3"
      },
      "source": [
        "#Get the first element from each dimension from each index except for the final one\n",
        "rank_4_tensor[:1,:1,:1,:]"
      ],
      "execution_count": 33,
      "outputs": [
        {
          "output_type": "execute_result",
          "data": {
            "text/plain": [
              "<tf.Tensor: shape=(1, 1, 1, 5), dtype=float32, numpy=array([[[[0., 0., 0., 0., 0.]]]], dtype=float32)>"
            ]
          },
          "metadata": {},
          "execution_count": 33
        }
      ]
    },
    {
      "cell_type": "code",
      "metadata": {
        "id": "my9QSDUEcRxT",
        "colab": {
          "base_uri": "https://localhost:8080/"
        },
        "outputId": "9175ef1d-83b6-4f35-b0a9-825b5d3b6186"
      },
      "source": [
        "#Get the first element from each dimension from each index except for the second last one\n",
        "rank_4_tensor[:1,:1,:,:1]"
      ],
      "execution_count": 34,
      "outputs": [
        {
          "output_type": "execute_result",
          "data": {
            "text/plain": [
              "<tf.Tensor: shape=(1, 1, 4, 1), dtype=float32, numpy=\n",
              "array([[[[0.],\n",
              "         [0.],\n",
              "         [0.],\n",
              "         [0.]]]], dtype=float32)>"
            ]
          },
          "metadata": {},
          "execution_count": 34
        }
      ]
    },
    {
      "cell_type": "markdown",
      "metadata": {
        "id": "NQBiS2CJcYxV"
      },
      "source": [
        "### Add a new axis to the tensor"
      ]
    },
    {
      "cell_type": "code",
      "metadata": {
        "id": "OXaV2RC9dqsM",
        "colab": {
          "base_uri": "https://localhost:8080/"
        },
        "outputId": "f294aefd-6f99-4637-8372-4445d8b4f52e"
      },
      "source": [
        "rank_2_tensor = tf.constant([[10,7],\n",
        "                             [3,4]])\n",
        "rank_2_tensor"
      ],
      "execution_count": 35,
      "outputs": [
        {
          "output_type": "execute_result",
          "data": {
            "text/plain": [
              "<tf.Tensor: shape=(2, 2), dtype=int32, numpy=\n",
              "array([[10,  7],\n",
              "       [ 3,  4]], dtype=int32)>"
            ]
          },
          "metadata": {},
          "execution_count": 35
        }
      ]
    },
    {
      "cell_type": "code",
      "metadata": {
        "id": "amWj42C2d5Mg",
        "colab": {
          "base_uri": "https://localhost:8080/"
        },
        "outputId": "9c502904-909b-4cc0-d14d-01af02da1495"
      },
      "source": [
        "# Get the last element from all the dimensions\n",
        "rank_2_tensor[:,-1]\n"
      ],
      "execution_count": 36,
      "outputs": [
        {
          "output_type": "execute_result",
          "data": {
            "text/plain": [
              "<tf.Tensor: shape=(2,), dtype=int32, numpy=array([7, 4], dtype=int32)>"
            ]
          },
          "metadata": {},
          "execution_count": 36
        }
      ]
    },
    {
      "cell_type": "code",
      "metadata": {
        "id": "z03AcM68eFER",
        "colab": {
          "base_uri": "https://localhost:8080/"
        },
        "outputId": "877c9ee9-5831-499f-d53b-e1ef7b935967"
      },
      "source": [
        "# Add an extra dimension to the tensor\n",
        "rank_3_tensor = rank_2_tensor[..., tf.newaxis]\n",
        "rank_3_tensor"
      ],
      "execution_count": 37,
      "outputs": [
        {
          "output_type": "execute_result",
          "data": {
            "text/plain": [
              "<tf.Tensor: shape=(2, 2, 1), dtype=int32, numpy=\n",
              "array([[[10],\n",
              "        [ 7]],\n",
              "\n",
              "       [[ 3],\n",
              "        [ 4]]], dtype=int32)>"
            ]
          },
          "metadata": {},
          "execution_count": 37
        }
      ]
    },
    {
      "cell_type": "code",
      "metadata": {
        "id": "7KnkFJ8tecTY",
        "colab": {
          "base_uri": "https://localhost:8080/"
        },
        "outputId": "ae8c5cc2-e031-4b98-833e-d82f6a0cf83d"
      },
      "source": [
        "rank_3_tensor.shape , rank_3_tensor.ndim"
      ],
      "execution_count": 38,
      "outputs": [
        {
          "output_type": "execute_result",
          "data": {
            "text/plain": [
              "(TensorShape([2, 2, 1]), 3)"
            ]
          },
          "metadata": {},
          "execution_count": 38
        }
      ]
    },
    {
      "cell_type": "code",
      "metadata": {
        "id": "eRKa682ke0DF",
        "colab": {
          "base_uri": "https://localhost:8080/"
        },
        "outputId": "2958019d-3349-4728-9a92-8782592cd500"
      },
      "source": [
        "# Alternative to tf.newaxis\n",
        "tf.expand_dims(rank_2_tensor, axis=-1) # '-1' means expand the last axis"
      ],
      "execution_count": 39,
      "outputs": [
        {
          "output_type": "execute_result",
          "data": {
            "text/plain": [
              "<tf.Tensor: shape=(2, 2, 1), dtype=int32, numpy=\n",
              "array([[[10],\n",
              "        [ 7]],\n",
              "\n",
              "       [[ 3],\n",
              "        [ 4]]], dtype=int32)>"
            ]
          },
          "metadata": {},
          "execution_count": 39
        }
      ]
    },
    {
      "cell_type": "code",
      "metadata": {
        "id": "d8kBxgr-fO0J",
        "colab": {
          "base_uri": "https://localhost:8080/"
        },
        "outputId": "6e4cfe57-4aed-44f6-f792-ac1176d98e24"
      },
      "source": [
        "# Expand 0-axis\n",
        "tf.expand_dims(rank_2_tensor, axis=0) "
      ],
      "execution_count": 40,
      "outputs": [
        {
          "output_type": "execute_result",
          "data": {
            "text/plain": [
              "<tf.Tensor: shape=(1, 2, 2), dtype=int32, numpy=\n",
              "array([[[10,  7],\n",
              "        [ 3,  4]]], dtype=int32)>"
            ]
          },
          "metadata": {},
          "execution_count": 40
        }
      ]
    },
    {
      "cell_type": "markdown",
      "metadata": {
        "id": "TTHOJ1iEfTG8"
      },
      "source": [
        "### Manipulating tensors (tensor operations)"
      ]
    },
    {
      "cell_type": "markdown",
      "metadata": {
        "id": "4NAtv0aOgPin"
      },
      "source": [
        "In machine learning, matrix multiplication is one of the most common tensor operation.\n",
        "\n",
        "There are two rules our tensors (matrices) need to fulfill if we are going to matrix multiply them:\n",
        "1. The inner dimensions must match.\n",
        "2. The resulting matrix has the shape of the inner dimensions."
      ]
    },
    {
      "cell_type": "code",
      "metadata": {
        "id": "V5Ih34NRnCme"
      },
      "source": [
        "tensor = tf.constant([[10,7],\n",
        "                      [3,4]])"
      ],
      "execution_count": 43,
      "outputs": []
    },
    {
      "cell_type": "code",
      "metadata": {
        "id": "PbOB8uaQmIVd",
        "outputId": "a60c6f40-063d-4024-fe68-01b44f5acc8c",
        "colab": {
          "base_uri": "https://localhost:8080/"
        }
      },
      "source": [
        "# Matrix multiplication in tensorflow\n",
        "tf.matmul(tensor,tensor)"
      ],
      "execution_count": 45,
      "outputs": [
        {
          "output_type": "execute_result",
          "data": {
            "text/plain": [
              "<tf.Tensor: shape=(2, 2), dtype=int32, numpy=\n",
              "array([[121,  98],\n",
              "       [ 42,  37]], dtype=int32)>"
            ]
          },
          "metadata": {},
          "execution_count": 45
        }
      ]
    },
    {
      "cell_type": "code",
      "metadata": {
        "id": "tLytiAmunpTk",
        "outputId": "d5c61708-e358-4584-991c-7db81b3c10ac",
        "colab": {
          "base_uri": "https://localhost:8080/"
        }
      },
      "source": [
        "tensor @ tensor # Python way of matmul"
      ],
      "execution_count": 47,
      "outputs": [
        {
          "output_type": "execute_result",
          "data": {
            "text/plain": [
              "<tf.Tensor: shape=(2, 2), dtype=int32, numpy=\n",
              "array([[121,  98],\n",
              "       [ 42,  37]], dtype=int32)>"
            ]
          },
          "metadata": {},
          "execution_count": 47
        }
      ]
    },
    {
      "cell_type": "code",
      "metadata": {
        "id": "1rl96tMBmyEq",
        "outputId": "221fd906-35d9-4e8e-f6a3-62dc89edcefa",
        "colab": {
          "base_uri": "https://localhost:8080/"
        }
      },
      "source": [
        "X = tf.constant([[10,7],\n",
        "                 [3,4],\n",
        "                 [4,5]])\n",
        "Y = tf.constant([[10,7],\n",
        "                 [3,4],\n",
        "                 [4,5]])\n",
        "X, Y"
      ],
      "execution_count": 46,
      "outputs": [
        {
          "output_type": "execute_result",
          "data": {
            "text/plain": [
              "(<tf.Tensor: shape=(3, 2), dtype=int32, numpy=\n",
              " array([[10,  7],\n",
              "        [ 3,  4],\n",
              "        [ 4,  5]], dtype=int32)>, <tf.Tensor: shape=(3, 2), dtype=int32, numpy=\n",
              " array([[10,  7],\n",
              "        [ 3,  4],\n",
              "        [ 4,  5]], dtype=int32)>)"
            ]
          },
          "metadata": {},
          "execution_count": 46
        }
      ]
    },
    {
      "cell_type": "code",
      "metadata": {
        "id": "F4OraDmCnjW8"
      },
      "source": [
        ""
      ],
      "execution_count": null,
      "outputs": []
    }
  ]
}