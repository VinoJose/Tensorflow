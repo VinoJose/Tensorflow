{
  "nbformat": 4,
  "nbformat_minor": 0,
  "metadata": {
    "colab": {
      "name": "06_transfer_learning_in_tensorflow_part_3_scaling_up.ipynb",
      "provenance": [],
      "collapsed_sections": [],
      "include_colab_link": true
    },
    "kernelspec": {
      "name": "python3",
      "display_name": "Python 3"
    },
    "accelerator": "GPU"
  },
  "cells": [
    {
      "cell_type": "markdown",
      "metadata": {
        "id": "view-in-github",
        "colab_type": "text"
      },
      "source": [
        "<a href=\"https://colab.research.google.com/github/VinoJose/Tensorflow/blob/main/06_transfer_learning_in_tensorflow_part_3_scaling_up.ipynb\" target=\"_parent\"><img src=\"https://colab.research.google.com/assets/colab-badge.svg\" alt=\"Open In Colab\"/></a>"
      ]
    },
    {
      "cell_type": "markdown",
      "source": [
        "## Creating Helper functons\n",
        "In previous notebooks, we have created a series of helper functions to do different tasks, let's download them."
      ],
      "metadata": {
        "id": "7gNlJaBbFcxv"
      }
    },
    {
      "cell_type": "code",
      "source": [
        "!wget https://raw.githubusercontent.com/mrdbourke/tensorflow-deep-learning/main/extras/helper_functions.py"
      ],
      "metadata": {
        "colab": {
          "base_uri": "https://localhost:8080/"
        },
        "id": "tTIZG_0VFkii",
        "outputId": "6e8b8f2f-4f3b-4785-ee28-ced92f8d8e0e"
      },
      "execution_count": 2,
      "outputs": [
        {
          "output_type": "stream",
          "name": "stdout",
          "text": [
            "--2022-01-10 11:56:48--  https://raw.githubusercontent.com/mrdbourke/tensorflow-deep-learning/main/extras/helper_functions.py\n",
            "Resolving raw.githubusercontent.com (raw.githubusercontent.com)... 185.199.108.133, 185.199.109.133, 185.199.110.133, ...\n",
            "Connecting to raw.githubusercontent.com (raw.githubusercontent.com)|185.199.108.133|:443... connected.\n",
            "HTTP request sent, awaiting response... 200 OK\n",
            "Length: 10246 (10K) [text/plain]\n",
            "Saving to: ‘helper_functions.py’\n",
            "\n",
            "\rhelper_functions.py   0%[                    ]       0  --.-KB/s               \rhelper_functions.py 100%[===================>]  10.01K  --.-KB/s    in 0s      \n",
            "\n",
            "2022-01-10 11:56:48 (61.5 MB/s) - ‘helper_functions.py’ saved [10246/10246]\n",
            "\n"
          ]
        }
      ]
    },
    {
      "cell_type": "code",
      "source": [
        "from helper_functions import create_tensorboard_callback, plot_loss_curves, unzip_data, compare_historys, walk_through_dir"
      ],
      "metadata": {
        "id": "qvVJCHMKGBtp"
      },
      "execution_count": 3,
      "outputs": []
    },
    {
      "cell_type": "markdown",
      "source": [
        "## 101 Food classes: working with less data\n",
        "Our goal is to beat original 101 Food101 paper with 10% of training data, let's download it.\n",
        "\n",
        "The data we are using comes from original Food101 dataset but has been preprocessed with image_data__modification notebook.\n",
        "https://github.com/mrdbourke/tensorflow-deep-learning/blob/main/extras/image_data_modification.ipynb "
      ],
      "metadata": {
        "id": "d8mP7fLVSMNH"
      }
    },
    {
      "cell_type": "code",
      "source": [
        "!wget https://storage.googleapis.com/ztm_tf_course/food_vision/101_food_classes_10_percent.zip\n",
        "unzip_data(\"101_food_classes_10_percent.zip\")"
      ],
      "metadata": {
        "id": "gvCQWhFvSr8q",
        "outputId": "b46f0ab6-639d-4f50-adbf-5f27d5769bc8",
        "colab": {
          "base_uri": "https://localhost:8080/"
        }
      },
      "execution_count": 4,
      "outputs": [
        {
          "output_type": "stream",
          "name": "stdout",
          "text": [
            "--2022-01-10 11:56:52--  https://storage.googleapis.com/ztm_tf_course/food_vision/101_food_classes_10_percent.zip\n",
            "Resolving storage.googleapis.com (storage.googleapis.com)... 74.125.133.128, 74.125.140.128, 108.177.15.128, ...\n",
            "Connecting to storage.googleapis.com (storage.googleapis.com)|74.125.133.128|:443... connected.\n",
            "HTTP request sent, awaiting response... 200 OK\n",
            "Length: 1625420029 (1.5G) [application/zip]\n",
            "Saving to: ‘101_food_classes_10_percent.zip’\n",
            "\n",
            "101_food_classes_10 100%[===================>]   1.51G  89.9MB/s    in 18s     \n",
            "\n",
            "2022-01-10 11:57:11 (88.2 MB/s) - ‘101_food_classes_10_percent.zip’ saved [1625420029/1625420029]\n",
            "\n"
          ]
        }
      ]
    },
    {
      "cell_type": "code",
      "source": [
        "train_dir = \"101_food_classes_10_percent/train\"\n",
        "test_dir = \"101_food_classes_10_percent/test\""
      ],
      "metadata": {
        "id": "eptQZJwhTh1_"
      },
      "execution_count": 5,
      "outputs": []
    },
    {
      "cell_type": "code",
      "source": [
        "# How many classes are there?\n",
        "walk_through_dir(\"101_food_classes_10_percent\")"
      ],
      "metadata": {
        "id": "k9V4moovTs-r",
        "outputId": "5d774bbe-d135-47a9-de7b-347021d3ab09",
        "colab": {
          "base_uri": "https://localhost:8080/"
        }
      },
      "execution_count": 6,
      "outputs": [
        {
          "output_type": "stream",
          "name": "stdout",
          "text": [
            "There are 2 directories and 0 images in '101_food_classes_10_percent'.\n",
            "There are 101 directories and 0 images in '101_food_classes_10_percent/train'.\n",
            "There are 0 directories and 75 images in '101_food_classes_10_percent/train/hot_dog'.\n",
            "There are 0 directories and 75 images in '101_food_classes_10_percent/train/grilled_salmon'.\n",
            "There are 0 directories and 75 images in '101_food_classes_10_percent/train/crab_cakes'.\n",
            "There are 0 directories and 75 images in '101_food_classes_10_percent/train/pancakes'.\n",
            "There are 0 directories and 75 images in '101_food_classes_10_percent/train/macaroni_and_cheese'.\n",
            "There are 0 directories and 75 images in '101_food_classes_10_percent/train/fried_calamari'.\n",
            "There are 0 directories and 75 images in '101_food_classes_10_percent/train/frozen_yogurt'.\n",
            "There are 0 directories and 75 images in '101_food_classes_10_percent/train/carrot_cake'.\n",
            "There are 0 directories and 75 images in '101_food_classes_10_percent/train/french_toast'.\n",
            "There are 0 directories and 75 images in '101_food_classes_10_percent/train/macarons'.\n",
            "There are 0 directories and 75 images in '101_food_classes_10_percent/train/edamame'.\n",
            "There are 0 directories and 75 images in '101_food_classes_10_percent/train/grilled_cheese_sandwich'.\n",
            "There are 0 directories and 75 images in '101_food_classes_10_percent/train/eggs_benedict'.\n",
            "There are 0 directories and 75 images in '101_food_classes_10_percent/train/chocolate_cake'.\n",
            "There are 0 directories and 75 images in '101_food_classes_10_percent/train/bibimbap'.\n",
            "There are 0 directories and 75 images in '101_food_classes_10_percent/train/french_onion_soup'.\n",
            "There are 0 directories and 75 images in '101_food_classes_10_percent/train/beignets'.\n",
            "There are 0 directories and 75 images in '101_food_classes_10_percent/train/nachos'.\n",
            "There are 0 directories and 75 images in '101_food_classes_10_percent/train/hummus'.\n",
            "There are 0 directories and 75 images in '101_food_classes_10_percent/train/spaghetti_carbonara'.\n",
            "There are 0 directories and 75 images in '101_food_classes_10_percent/train/prime_rib'.\n",
            "There are 0 directories and 75 images in '101_food_classes_10_percent/train/spring_rolls'.\n",
            "There are 0 directories and 75 images in '101_food_classes_10_percent/train/beef_carpaccio'.\n",
            "There are 0 directories and 75 images in '101_food_classes_10_percent/train/pho'.\n",
            "There are 0 directories and 75 images in '101_food_classes_10_percent/train/pizza'.\n",
            "There are 0 directories and 75 images in '101_food_classes_10_percent/train/omelette'.\n",
            "There are 0 directories and 75 images in '101_food_classes_10_percent/train/hamburger'.\n",
            "There are 0 directories and 75 images in '101_food_classes_10_percent/train/apple_pie'.\n",
            "There are 0 directories and 75 images in '101_food_classes_10_percent/train/dumplings'.\n",
            "There are 0 directories and 75 images in '101_food_classes_10_percent/train/bruschetta'.\n",
            "There are 0 directories and 75 images in '101_food_classes_10_percent/train/ceviche'.\n",
            "There are 0 directories and 75 images in '101_food_classes_10_percent/train/spaghetti_bolognese'.\n",
            "There are 0 directories and 75 images in '101_food_classes_10_percent/train/club_sandwich'.\n",
            "There are 0 directories and 75 images in '101_food_classes_10_percent/train/gyoza'.\n",
            "There are 0 directories and 75 images in '101_food_classes_10_percent/train/pork_chop'.\n",
            "There are 0 directories and 75 images in '101_food_classes_10_percent/train/chicken_curry'.\n",
            "There are 0 directories and 75 images in '101_food_classes_10_percent/train/caprese_salad'.\n",
            "There are 0 directories and 75 images in '101_food_classes_10_percent/train/filet_mignon'.\n",
            "There are 0 directories and 75 images in '101_food_classes_10_percent/train/miso_soup'.\n",
            "There are 0 directories and 75 images in '101_food_classes_10_percent/train/donuts'.\n",
            "There are 0 directories and 75 images in '101_food_classes_10_percent/train/samosa'.\n",
            "There are 0 directories and 75 images in '101_food_classes_10_percent/train/tuna_tartare'.\n",
            "There are 0 directories and 75 images in '101_food_classes_10_percent/train/onion_rings'.\n",
            "There are 0 directories and 75 images in '101_food_classes_10_percent/train/beef_tartare'.\n",
            "There are 0 directories and 75 images in '101_food_classes_10_percent/train/sashimi'.\n",
            "There are 0 directories and 75 images in '101_food_classes_10_percent/train/shrimp_and_grits'.\n",
            "There are 0 directories and 75 images in '101_food_classes_10_percent/train/waffles'.\n",
            "There are 0 directories and 75 images in '101_food_classes_10_percent/train/chocolate_mousse'.\n",
            "There are 0 directories and 75 images in '101_food_classes_10_percent/train/panna_cotta'.\n",
            "There are 0 directories and 75 images in '101_food_classes_10_percent/train/breakfast_burrito'.\n",
            "There are 0 directories and 75 images in '101_food_classes_10_percent/train/ice_cream'.\n",
            "There are 0 directories and 75 images in '101_food_classes_10_percent/train/cheesecake'.\n",
            "There are 0 directories and 75 images in '101_food_classes_10_percent/train/scallops'.\n",
            "There are 0 directories and 75 images in '101_food_classes_10_percent/train/tacos'.\n",
            "There are 0 directories and 75 images in '101_food_classes_10_percent/train/baklava'.\n",
            "There are 0 directories and 75 images in '101_food_classes_10_percent/train/ravioli'.\n",
            "There are 0 directories and 75 images in '101_food_classes_10_percent/train/lobster_bisque'.\n",
            "There are 0 directories and 75 images in '101_food_classes_10_percent/train/oysters'.\n",
            "There are 0 directories and 75 images in '101_food_classes_10_percent/train/falafel'.\n",
            "There are 0 directories and 75 images in '101_food_classes_10_percent/train/poutine'.\n",
            "There are 0 directories and 75 images in '101_food_classes_10_percent/train/fish_and_chips'.\n",
            "There are 0 directories and 75 images in '101_food_classes_10_percent/train/foie_gras'.\n",
            "There are 0 directories and 75 images in '101_food_classes_10_percent/train/cannoli'.\n",
            "There are 0 directories and 75 images in '101_food_classes_10_percent/train/mussels'.\n",
            "There are 0 directories and 75 images in '101_food_classes_10_percent/train/fried_rice'.\n",
            "There are 0 directories and 75 images in '101_food_classes_10_percent/train/hot_and_sour_soup'.\n",
            "There are 0 directories and 75 images in '101_food_classes_10_percent/train/greek_salad'.\n",
            "There are 0 directories and 75 images in '101_food_classes_10_percent/train/peking_duck'.\n",
            "There are 0 directories and 75 images in '101_food_classes_10_percent/train/churros'.\n",
            "There are 0 directories and 75 images in '101_food_classes_10_percent/train/ramen'.\n",
            "There are 0 directories and 75 images in '101_food_classes_10_percent/train/pulled_pork_sandwich'.\n",
            "There are 0 directories and 75 images in '101_food_classes_10_percent/train/gnocchi'.\n",
            "There are 0 directories and 75 images in '101_food_classes_10_percent/train/deviled_eggs'.\n",
            "There are 0 directories and 75 images in '101_food_classes_10_percent/train/huevos_rancheros'.\n",
            "There are 0 directories and 75 images in '101_food_classes_10_percent/train/paella'.\n",
            "There are 0 directories and 75 images in '101_food_classes_10_percent/train/seaweed_salad'.\n",
            "There are 0 directories and 75 images in '101_food_classes_10_percent/train/french_fries'.\n",
            "There are 0 directories and 75 images in '101_food_classes_10_percent/train/guacamole'.\n",
            "There are 0 directories and 75 images in '101_food_classes_10_percent/train/chicken_wings'.\n",
            "There are 0 directories and 75 images in '101_food_classes_10_percent/train/creme_brulee'.\n",
            "There are 0 directories and 75 images in '101_food_classes_10_percent/train/caesar_salad'.\n",
            "There are 0 directories and 75 images in '101_food_classes_10_percent/train/lobster_roll_sandwich'.\n",
            "There are 0 directories and 75 images in '101_food_classes_10_percent/train/beet_salad'.\n",
            "There are 0 directories and 75 images in '101_food_classes_10_percent/train/garlic_bread'.\n",
            "There are 0 directories and 75 images in '101_food_classes_10_percent/train/red_velvet_cake'.\n",
            "There are 0 directories and 75 images in '101_food_classes_10_percent/train/risotto'.\n",
            "There are 0 directories and 75 images in '101_food_classes_10_percent/train/croque_madame'.\n",
            "There are 0 directories and 75 images in '101_food_classes_10_percent/train/sushi'.\n",
            "There are 0 directories and 75 images in '101_food_classes_10_percent/train/tiramisu'.\n",
            "There are 0 directories and 75 images in '101_food_classes_10_percent/train/cheese_plate'.\n",
            "There are 0 directories and 75 images in '101_food_classes_10_percent/train/strawberry_shortcake'.\n",
            "There are 0 directories and 75 images in '101_food_classes_10_percent/train/pad_thai'.\n",
            "There are 0 directories and 75 images in '101_food_classes_10_percent/train/takoyaki'.\n",
            "There are 0 directories and 75 images in '101_food_classes_10_percent/train/steak'.\n",
            "There are 0 directories and 75 images in '101_food_classes_10_percent/train/bread_pudding'.\n",
            "There are 0 directories and 75 images in '101_food_classes_10_percent/train/baby_back_ribs'.\n",
            "There are 0 directories and 75 images in '101_food_classes_10_percent/train/escargots'.\n",
            "There are 0 directories and 75 images in '101_food_classes_10_percent/train/lasagna'.\n",
            "There are 0 directories and 75 images in '101_food_classes_10_percent/train/chicken_quesadilla'.\n",
            "There are 0 directories and 75 images in '101_food_classes_10_percent/train/clam_chowder'.\n",
            "There are 0 directories and 75 images in '101_food_classes_10_percent/train/cup_cakes'.\n",
            "There are 101 directories and 0 images in '101_food_classes_10_percent/test'.\n",
            "There are 0 directories and 250 images in '101_food_classes_10_percent/test/hot_dog'.\n",
            "There are 0 directories and 250 images in '101_food_classes_10_percent/test/grilled_salmon'.\n",
            "There are 0 directories and 250 images in '101_food_classes_10_percent/test/crab_cakes'.\n",
            "There are 0 directories and 250 images in '101_food_classes_10_percent/test/pancakes'.\n",
            "There are 0 directories and 250 images in '101_food_classes_10_percent/test/macaroni_and_cheese'.\n",
            "There are 0 directories and 250 images in '101_food_classes_10_percent/test/fried_calamari'.\n",
            "There are 0 directories and 250 images in '101_food_classes_10_percent/test/frozen_yogurt'.\n",
            "There are 0 directories and 250 images in '101_food_classes_10_percent/test/carrot_cake'.\n",
            "There are 0 directories and 250 images in '101_food_classes_10_percent/test/french_toast'.\n",
            "There are 0 directories and 250 images in '101_food_classes_10_percent/test/macarons'.\n",
            "There are 0 directories and 250 images in '101_food_classes_10_percent/test/edamame'.\n",
            "There are 0 directories and 250 images in '101_food_classes_10_percent/test/grilled_cheese_sandwich'.\n",
            "There are 0 directories and 250 images in '101_food_classes_10_percent/test/eggs_benedict'.\n",
            "There are 0 directories and 250 images in '101_food_classes_10_percent/test/chocolate_cake'.\n",
            "There are 0 directories and 250 images in '101_food_classes_10_percent/test/bibimbap'.\n",
            "There are 0 directories and 250 images in '101_food_classes_10_percent/test/french_onion_soup'.\n",
            "There are 0 directories and 250 images in '101_food_classes_10_percent/test/beignets'.\n",
            "There are 0 directories and 250 images in '101_food_classes_10_percent/test/nachos'.\n",
            "There are 0 directories and 250 images in '101_food_classes_10_percent/test/hummus'.\n",
            "There are 0 directories and 250 images in '101_food_classes_10_percent/test/spaghetti_carbonara'.\n",
            "There are 0 directories and 250 images in '101_food_classes_10_percent/test/prime_rib'.\n",
            "There are 0 directories and 250 images in '101_food_classes_10_percent/test/spring_rolls'.\n",
            "There are 0 directories and 250 images in '101_food_classes_10_percent/test/beef_carpaccio'.\n",
            "There are 0 directories and 250 images in '101_food_classes_10_percent/test/pho'.\n",
            "There are 0 directories and 250 images in '101_food_classes_10_percent/test/pizza'.\n",
            "There are 0 directories and 250 images in '101_food_classes_10_percent/test/omelette'.\n",
            "There are 0 directories and 250 images in '101_food_classes_10_percent/test/hamburger'.\n",
            "There are 0 directories and 250 images in '101_food_classes_10_percent/test/apple_pie'.\n",
            "There are 0 directories and 250 images in '101_food_classes_10_percent/test/dumplings'.\n",
            "There are 0 directories and 250 images in '101_food_classes_10_percent/test/bruschetta'.\n",
            "There are 0 directories and 250 images in '101_food_classes_10_percent/test/ceviche'.\n",
            "There are 0 directories and 250 images in '101_food_classes_10_percent/test/spaghetti_bolognese'.\n",
            "There are 0 directories and 250 images in '101_food_classes_10_percent/test/club_sandwich'.\n",
            "There are 0 directories and 250 images in '101_food_classes_10_percent/test/gyoza'.\n",
            "There are 0 directories and 250 images in '101_food_classes_10_percent/test/pork_chop'.\n",
            "There are 0 directories and 250 images in '101_food_classes_10_percent/test/chicken_curry'.\n",
            "There are 0 directories and 250 images in '101_food_classes_10_percent/test/caprese_salad'.\n",
            "There are 0 directories and 250 images in '101_food_classes_10_percent/test/filet_mignon'.\n",
            "There are 0 directories and 250 images in '101_food_classes_10_percent/test/miso_soup'.\n",
            "There are 0 directories and 250 images in '101_food_classes_10_percent/test/donuts'.\n",
            "There are 0 directories and 250 images in '101_food_classes_10_percent/test/samosa'.\n",
            "There are 0 directories and 250 images in '101_food_classes_10_percent/test/tuna_tartare'.\n",
            "There are 0 directories and 250 images in '101_food_classes_10_percent/test/onion_rings'.\n",
            "There are 0 directories and 250 images in '101_food_classes_10_percent/test/beef_tartare'.\n",
            "There are 0 directories and 250 images in '101_food_classes_10_percent/test/sashimi'.\n",
            "There are 0 directories and 250 images in '101_food_classes_10_percent/test/shrimp_and_grits'.\n",
            "There are 0 directories and 250 images in '101_food_classes_10_percent/test/waffles'.\n",
            "There are 0 directories and 250 images in '101_food_classes_10_percent/test/chocolate_mousse'.\n",
            "There are 0 directories and 250 images in '101_food_classes_10_percent/test/panna_cotta'.\n",
            "There are 0 directories and 250 images in '101_food_classes_10_percent/test/breakfast_burrito'.\n",
            "There are 0 directories and 250 images in '101_food_classes_10_percent/test/ice_cream'.\n",
            "There are 0 directories and 250 images in '101_food_classes_10_percent/test/cheesecake'.\n",
            "There are 0 directories and 250 images in '101_food_classes_10_percent/test/scallops'.\n",
            "There are 0 directories and 250 images in '101_food_classes_10_percent/test/tacos'.\n",
            "There are 0 directories and 250 images in '101_food_classes_10_percent/test/baklava'.\n",
            "There are 0 directories and 250 images in '101_food_classes_10_percent/test/ravioli'.\n",
            "There are 0 directories and 250 images in '101_food_classes_10_percent/test/lobster_bisque'.\n",
            "There are 0 directories and 250 images in '101_food_classes_10_percent/test/oysters'.\n",
            "There are 0 directories and 250 images in '101_food_classes_10_percent/test/falafel'.\n",
            "There are 0 directories and 250 images in '101_food_classes_10_percent/test/poutine'.\n",
            "There are 0 directories and 250 images in '101_food_classes_10_percent/test/fish_and_chips'.\n",
            "There are 0 directories and 250 images in '101_food_classes_10_percent/test/foie_gras'.\n",
            "There are 0 directories and 250 images in '101_food_classes_10_percent/test/cannoli'.\n",
            "There are 0 directories and 250 images in '101_food_classes_10_percent/test/mussels'.\n",
            "There are 0 directories and 250 images in '101_food_classes_10_percent/test/fried_rice'.\n",
            "There are 0 directories and 250 images in '101_food_classes_10_percent/test/hot_and_sour_soup'.\n",
            "There are 0 directories and 250 images in '101_food_classes_10_percent/test/greek_salad'.\n",
            "There are 0 directories and 250 images in '101_food_classes_10_percent/test/peking_duck'.\n",
            "There are 0 directories and 250 images in '101_food_classes_10_percent/test/churros'.\n",
            "There are 0 directories and 250 images in '101_food_classes_10_percent/test/ramen'.\n",
            "There are 0 directories and 250 images in '101_food_classes_10_percent/test/pulled_pork_sandwich'.\n",
            "There are 0 directories and 250 images in '101_food_classes_10_percent/test/gnocchi'.\n",
            "There are 0 directories and 250 images in '101_food_classes_10_percent/test/deviled_eggs'.\n",
            "There are 0 directories and 250 images in '101_food_classes_10_percent/test/huevos_rancheros'.\n",
            "There are 0 directories and 250 images in '101_food_classes_10_percent/test/paella'.\n",
            "There are 0 directories and 250 images in '101_food_classes_10_percent/test/seaweed_salad'.\n",
            "There are 0 directories and 250 images in '101_food_classes_10_percent/test/french_fries'.\n",
            "There are 0 directories and 250 images in '101_food_classes_10_percent/test/guacamole'.\n",
            "There are 0 directories and 250 images in '101_food_classes_10_percent/test/chicken_wings'.\n",
            "There are 0 directories and 250 images in '101_food_classes_10_percent/test/creme_brulee'.\n",
            "There are 0 directories and 250 images in '101_food_classes_10_percent/test/caesar_salad'.\n",
            "There are 0 directories and 250 images in '101_food_classes_10_percent/test/lobster_roll_sandwich'.\n",
            "There are 0 directories and 250 images in '101_food_classes_10_percent/test/beet_salad'.\n",
            "There are 0 directories and 250 images in '101_food_classes_10_percent/test/garlic_bread'.\n",
            "There are 0 directories and 250 images in '101_food_classes_10_percent/test/red_velvet_cake'.\n",
            "There are 0 directories and 250 images in '101_food_classes_10_percent/test/risotto'.\n",
            "There are 0 directories and 250 images in '101_food_classes_10_percent/test/croque_madame'.\n",
            "There are 0 directories and 250 images in '101_food_classes_10_percent/test/sushi'.\n",
            "There are 0 directories and 250 images in '101_food_classes_10_percent/test/tiramisu'.\n",
            "There are 0 directories and 250 images in '101_food_classes_10_percent/test/cheese_plate'.\n",
            "There are 0 directories and 250 images in '101_food_classes_10_percent/test/strawberry_shortcake'.\n",
            "There are 0 directories and 250 images in '101_food_classes_10_percent/test/pad_thai'.\n",
            "There are 0 directories and 250 images in '101_food_classes_10_percent/test/takoyaki'.\n",
            "There are 0 directories and 250 images in '101_food_classes_10_percent/test/steak'.\n",
            "There are 0 directories and 250 images in '101_food_classes_10_percent/test/bread_pudding'.\n",
            "There are 0 directories and 250 images in '101_food_classes_10_percent/test/baby_back_ribs'.\n",
            "There are 0 directories and 250 images in '101_food_classes_10_percent/test/escargots'.\n",
            "There are 0 directories and 250 images in '101_food_classes_10_percent/test/lasagna'.\n",
            "There are 0 directories and 250 images in '101_food_classes_10_percent/test/chicken_quesadilla'.\n",
            "There are 0 directories and 250 images in '101_food_classes_10_percent/test/clam_chowder'.\n",
            "There are 0 directories and 250 images in '101_food_classes_10_percent/test/cup_cakes'.\n"
          ]
        }
      ]
    },
    {
      "cell_type": "code",
      "source": [
        "import tensorflow as tf\n",
        "IMG_SIZE = (224, 224)\n",
        "train_data_all_10_percent = tf.keras.preprocessing.image_dataset_from_directory(train_dir,\n",
        "                                                                             image_size=IMG_SIZE,\n",
        "                                                                             label_mode=\"categorical\")\n",
        "test_data = tf.keras.preprocessing.image_dataset_from_directory(test_dir,\n",
        "                                                             image_size=IMG_SIZE,\n",
        "                                                             label_mode='categorical',\n",
        "                                                             shuffle=False # don't shuffle test data for prediction analysis\n",
        ")"
      ],
      "metadata": {
        "id": "IW86NQJxT-uB",
        "outputId": "d1f5f7c0-9034-4cbb-ebcf-61fb21cad002",
        "colab": {
          "base_uri": "https://localhost:8080/"
        }
      },
      "execution_count": 7,
      "outputs": [
        {
          "output_type": "stream",
          "name": "stdout",
          "text": [
            "Found 7575 files belonging to 101 classes.\n",
            "Found 25250 files belonging to 101 classes.\n"
          ]
        }
      ]
    },
    {
      "cell_type": "markdown",
      "source": [
        "## Train a big model with transfer learning on 10% of Food101 food classes\n",
        "Here are the steps we are going to take\n",
        "* Create a ModelCheckpoint callback\n",
        "* Create a data augmentation layer to build data augmentation right into the model\n",
        "* Build a headless(no top layers) Functional EfficientNetB0 backboned-model (we will create our own output layer)\n",
        "* Compile our model\n",
        "* Feature extract for 5 full passes"
      ],
      "metadata": {
        "id": "IKsmq4BuVVDV"
      }
    },
    {
      "cell_type": "code",
      "source": [
        "# Create checkpoint callback\n",
        "checkpoint_path = \"101_classes_10_percent_data_model_checkpoint\"\n",
        "checkpoint_callback = tf.keras.callbacks.ModelCheckpoint(checkpoint_path,\n",
        "                                                         save_weights_only=True,\n",
        "                                                         monitor=\"val_accuracy\",\n",
        "                                                         save_best_only=True)"
      ],
      "metadata": {
        "id": "3ASBLql0YITl"
      },
      "execution_count": 8,
      "outputs": []
    },
    {
      "cell_type": "code",
      "source": [
        "# Create data augmentation layer to incorporate it right into the model\n",
        "from tensorflow.keras import layers\n",
        "from tensorflow.keras.layers.experimental import preprocessing\n",
        "from tensorflow.keras.models import Sequential"
      ],
      "metadata": {
        "id": "E7zTfXaP7FOk"
      },
      "execution_count": 9,
      "outputs": []
    },
    {
      "cell_type": "code",
      "source": [
        "# Setup data augmentation layer\n",
        "data_augmentation = Sequential([\n",
        "                                preprocessing.RandomFlip(\"horizontal\"),\n",
        "                                preprocessing.RandomHeight(0.2),\n",
        "                                preprocessing.RandomRotation(0.2),\n",
        "                                preprocessing.RandomRotation(0.2),\n",
        "                                preprocessing.RandomWidth(0.2),\n",
        "                                preprocessing.RandomZoom(0.2),\n",
        "                                #preprocessing.Rescaling(1/255.) # This can be applied to models where rescaling is not in built\n",
        "], name=\"data_augmentation\")"
      ],
      "metadata": {
        "id": "lVeVmr1_9DKz"
      },
      "execution_count": 10,
      "outputs": []
    },
    {
      "cell_type": "code",
      "source": [
        "# Setup the base model and freeze it's layers\n",
        "base_model = tf.keras.applications.EfficientNetB0(include_top=False)\n",
        "base_model.trainable = False\n",
        "\n",
        "# Setup the model architecture with trainable top layers\n",
        "inputs = layers.Input(shape=(224, 224, 3), name=\"input_layer\")\n",
        "x = data_augmentation(inputs)\n",
        "x = base_model(x, training=False)\n",
        "x = layers.GlobalAveragePooling2D(name=\"global_average_pooling_layer\")(x)\n",
        "outputs = layers.Dense(len(train_data_all_10_percent.class_names), activation=\"softmax\", name=\"output_layer\")(x)\n",
        "\n",
        "model = tf.keras.Model(inputs, outputs)"
      ],
      "metadata": {
        "id": "1z2FB9zo-22d",
        "outputId": "96e6e448-cf85-4359-e129-0adaa7f88a60",
        "colab": {
          "base_uri": "https://localhost:8080/"
        }
      },
      "execution_count": 11,
      "outputs": [
        {
          "output_type": "stream",
          "name": "stdout",
          "text": [
            "Downloading data from https://storage.googleapis.com/keras-applications/efficientnetb0_notop.h5\n",
            "16711680/16705208 [==============================] - 0s 0us/step\n",
            "16719872/16705208 [==============================] - 0s 0us/step\n"
          ]
        }
      ]
    },
    {
      "cell_type": "code",
      "source": [
        "  model.compile(loss=\"categorical_crossentropy\",\n",
        "                optimizer=tf.keras.optimizers.Adam(),\n",
        "                metrics=\"accuracy\")"
      ],
      "metadata": {
        "id": "gZRaW3YUD9HW"
      },
      "execution_count": 12,
      "outputs": []
    },
    {
      "cell_type": "code",
      "source": [
        "history_all_classes_10_percent = model.fit(train_data_all_10_percent,\n",
        "                                           epochs=5,\n",
        "                                           validation_data=test_data,\n",
        "                                           validation_steps=int(0.15*len(test_data)),\n",
        "                                           callbacks=[checkpoint_callback])"
      ],
      "metadata": {
        "id": "__M2SmGOagWz",
        "outputId": "ac0abd8b-50b0-4165-cb76-748b6851a08b",
        "colab": {
          "base_uri": "https://localhost:8080/"
        }
      },
      "execution_count": 13,
      "outputs": [
        {
          "metadata": {
            "tags": null
          },
          "name": "stdout",
          "output_type": "stream",
          "text": [
            "Epoch 1/5\n",
            "237/237 [==============================] - 132s 491ms/step - loss: 3.5607 - accuracy: 0.2263 - val_loss: 2.8748 - val_accuracy: 0.3310\n",
            "Epoch 2/5\n",
            "237/237 [==============================] - 89s 374ms/step - loss: 2.4911 - accuracy: 0.4273 - val_loss: 2.3875 - val_accuracy: 0.4139\n",
            "Epoch 3/5\n",
            "237/237 [==============================] - 87s 363ms/step - loss: 2.1328 - accuracy: 0.4928 - val_loss: 2.2383 - val_accuracy: 0.4375\n",
            "Epoch 4/5\n",
            "237/237 [==============================] - 77s 322ms/step - loss: 1.9256 - accuracy: 0.5294 - val_loss: 2.1251 - val_accuracy: 0.4616\n",
            "Epoch 5/5\n",
            "237/237 [==============================] - 78s 329ms/step - loss: 1.7702 - accuracy: 0.5624 - val_loss: 2.0719 - val_accuracy: 0.4690\n"
          ]
        }
      ]
    },
    {
      "cell_type": "code",
      "source": [
        "model.evaluate(test_data)"
      ],
      "metadata": {
        "id": "ceDDOjnTdyj5",
        "outputId": "93cfd3e1-e7a3-44d7-bbac-03f70a2a4b48",
        "colab": {
          "base_uri": "https://localhost:8080/"
        }
      },
      "execution_count": 14,
      "outputs": [
        {
          "metadata": {
            "tags": null
          },
          "name": "stdout",
          "output_type": "stream",
          "text": [
            "790/790 [==============================] - 101s 128ms/step - loss: 1.8140 - accuracy: 0.5264\n"
          ]
        },
        {
          "data": {
            "text/plain": [
              "[1.8140006065368652, 0.5264158248901367]"
            ]
          },
          "execution_count": null,
          "metadata": {},
          "output_type": "execute_result"
        }
      ]
    },
    {
      "cell_type": "code",
      "source": [
        "plot_loss_curves(history_all_classes_10_percent)"
      ],
      "metadata": {
        "id": "x7MO0MjqfQbm",
        "outputId": "a869ca6c-9e85-4e92-890c-2fa5df4ffce7",
        "colab": {
          "base_uri": "https://localhost:8080/",
          "height": 573
        }
      },
      "execution_count": 15,
      "outputs": [
        {
          "data": {
            "image/png": "[encoded data removed]",
            "text/plain": [
              "<Figure size 432x288 with 1 Axes>"
            ]
          },
          "metadata": {},
          "output_type": "display_data"
        },
        {
          "data": {
            "image/png": "[encoded data removed]",
            "text/plain": [
              "<Figure size 432x288 with 1 Axes>"
            ]
          },
          "metadata": {},
          "output_type": "display_data"
        }
      ]
    },
    {
      "cell_type": "code",
      "source": [
        "# Unfreeze all of the layers in the base model\n",
        "base_model.trainable = True\n",
        "\n",
        "# Refreeze every layer except the last 5\n",
        "for layer in base_model.layers[:-5]:\n",
        "  layer.trainable = False"
      ],
      "metadata": {
        "id": "O7yJI-xkfyas"
      },
      "execution_count": 16,
      "outputs": []
    },
    {
      "cell_type": "code",
      "source": [
        "# Recompile the model with lower learning rate\n",
        "model.compile(loss=\"categorical_crossentropy\",\n",
        "              optimizer=tf.keras.optimizers.Adam(learning_rate=0.0001),\n",
        "              metrics=[\"accuracy\"])"
      ],
      "metadata": {
        "id": "KY0jLu9IhVa5"
      },
      "execution_count": 17,
      "outputs": []
    },
    {
      "cell_type": "code",
      "source": [
        "# What layers are trainable?\n",
        "for layer in model.layers:\n",
        "  print(layer.name, layer.trainable)\n",
        "\n"
      ],
      "metadata": {
        "id": "yPmaACDtkoTp",
        "outputId": "a00bbbaa-ef0c-4a41-85d1-a62efd036fec",
        "colab": {
          "base_uri": "https://localhost:8080/"
        }
      },
      "execution_count": 18,
      "outputs": [
        {
          "metadata": {
            "tags": null
          },
          "name": "stdout",
          "output_type": "stream",
          "text": [
            "input_layer True\n",
            "data_augmentation True\n",
            "efficientnetb0 True\n",
            "global_average_pooling_layer True\n",
            "output_layer True\n"
          ]
        }
      ]
    },
    {
      "cell_type": "code",
      "source": [
        "# Which layers in base_model are trainable\n",
        "for number, layer in enumerate(model.layers[2].layers):\n",
        "  print(number, layer.name, layer.trainable)"
      ],
      "metadata": {
        "id": "T_OXcFCplEAR",
        "outputId": "32a80901-134e-4735-e8d7-afc6c31881f3",
        "colab": {
          "base_uri": "https://localhost:8080/"
        }
      },
      "execution_count": 19,
      "outputs": [
        {
          "metadata": {
            "tags": null
          },
          "name": "stdout",
          "output_type": "stream",
          "text": [
            "0 input_1 False\n",
            "1 rescaling False\n",
            "2 normalization False\n",
            "3 stem_conv_pad False\n",
            "4 stem_conv False\n",
            "5 stem_bn False\n",
            "6 stem_activation False\n",
            "7 block1a_dwconv False\n",
            "8 block1a_bn False\n",
            "9 block1a_activation False\n",
            "10 block1a_se_squeeze False\n",
            "11 block1a_se_reshape False\n",
            "12 block1a_se_reduce False\n",
            "13 block1a_se_expand False\n",
            "14 block1a_se_excite False\n",
            "15 block1a_project_conv False\n",
            "16 block1a_project_bn False\n",
            "17 block2a_expand_conv False\n",
            "18 block2a_expand_bn False\n",
            "19 block2a_expand_activation False\n",
            "20 block2a_dwconv_pad False\n",
            "21 block2a_dwconv False\n",
            "22 block2a_bn False\n",
            "23 block2a_activation False\n",
            "24 block2a_se_squeeze False\n",
            "25 block2a_se_reshape False\n",
            "26 block2a_se_reduce False\n",
            "27 block2a_se_expand False\n",
            "28 block2a_se_excite False\n",
            "29 block2a_project_conv False\n",
            "30 block2a_project_bn False\n",
            "31 block2b_expand_conv False\n",
            "32 block2b_expand_bn False\n",
            "33 block2b_expand_activation False\n",
            "34 block2b_dwconv False\n",
            "35 block2b_bn False\n",
            "36 block2b_activation False\n",
            "37 block2b_se_squeeze False\n",
            "38 block2b_se_reshape False\n",
            "39 block2b_se_reduce False\n",
            "40 block2b_se_expand False\n",
            "41 block2b_se_excite False\n",
            "42 block2b_project_conv False\n",
            "43 block2b_project_bn False\n",
            "44 block2b_drop False\n",
            "45 block2b_add False\n",
            "46 block3a_expand_conv False\n",
            "47 block3a_expand_bn False\n",
            "48 block3a_expand_activation False\n",
            "49 block3a_dwconv_pad False\n",
            "50 block3a_dwconv False\n",
            "51 block3a_bn False\n",
            "52 block3a_activation False\n",
            "53 block3a_se_squeeze False\n",
            "54 block3a_se_reshape False\n",
            "55 block3a_se_reduce False\n",
            "56 block3a_se_expand False\n",
            "57 block3a_se_excite False\n",
            "58 block3a_project_conv False\n",
            "59 block3a_project_bn False\n",
            "60 block3b_expand_conv False\n",
            "61 block3b_expand_bn False\n",
            "62 block3b_expand_activation False\n",
            "63 block3b_dwconv False\n",
            "64 block3b_bn False\n",
            "65 block3b_activation False\n",
            "66 block3b_se_squeeze False\n",
            "67 block3b_se_reshape False\n",
            "68 block3b_se_reduce False\n",
            "69 block3b_se_expand False\n",
            "70 block3b_se_excite False\n",
            "71 block3b_project_conv False\n",
            "72 block3b_project_bn False\n",
            "73 block3b_drop False\n",
            "74 block3b_add False\n",
            "75 block4a_expand_conv False\n",
            "76 block4a_expand_bn False\n",
            "77 block4a_expand_activation False\n",
            "78 block4a_dwconv_pad False\n",
            "79 block4a_dwconv False\n",
            "80 block4a_bn False\n",
            "81 block4a_activation False\n",
            "82 block4a_se_squeeze False\n",
            "83 block4a_se_reshape False\n",
            "84 block4a_se_reduce False\n",
            "85 block4a_se_expand False\n",
            "86 block4a_se_excite False\n",
            "87 block4a_project_conv False\n",
            "88 block4a_project_bn False\n",
            "89 block4b_expand_conv False\n",
            "90 block4b_expand_bn False\n",
            "91 block4b_expand_activation False\n",
            "92 block4b_dwconv False\n",
            "93 block4b_bn False\n",
            "94 block4b_activation False\n",
            "95 block4b_se_squeeze False\n",
            "96 block4b_se_reshape False\n",
            "97 block4b_se_reduce False\n",
            "98 block4b_se_expand False\n",
            "99 block4b_se_excite False\n",
            "100 block4b_project_conv False\n",
            "101 block4b_project_bn False\n",
            "102 block4b_drop False\n",
            "103 block4b_add False\n",
            "104 block4c_expand_conv False\n",
            "105 block4c_expand_bn False\n",
            "106 block4c_expand_activation False\n",
            "107 block4c_dwconv False\n",
            "108 block4c_bn False\n",
            "109 block4c_activation False\n",
            "110 block4c_se_squeeze False\n",
            "111 block4c_se_reshape False\n",
            "112 block4c_se_reduce False\n",
            "113 block4c_se_expand False\n",
            "114 block4c_se_excite False\n",
            "115 block4c_project_conv False\n",
            "116 block4c_project_bn False\n",
            "117 block4c_drop False\n",
            "118 block4c_add False\n",
            "119 block5a_expand_conv False\n",
            "120 block5a_expand_bn False\n",
            "121 block5a_expand_activation False\n",
            "122 block5a_dwconv False\n",
            "123 block5a_bn False\n",
            "124 block5a_activation False\n",
            "125 block5a_se_squeeze False\n",
            "126 block5a_se_reshape False\n",
            "127 block5a_se_reduce False\n",
            "128 block5a_se_expand False\n",
            "129 block5a_se_excite False\n",
            "130 block5a_project_conv False\n",
            "131 block5a_project_bn False\n",
            "132 block5b_expand_conv False\n",
            "133 block5b_expand_bn False\n",
            "134 block5b_expand_activation False\n",
            "135 block5b_dwconv False\n",
            "136 block5b_bn False\n",
            "137 block5b_activation False\n",
            "138 block5b_se_squeeze False\n",
            "139 block5b_se_reshape False\n",
            "140 block5b_se_reduce False\n",
            "141 block5b_se_expand False\n",
            "142 block5b_se_excite False\n",
            "143 block5b_project_conv False\n",
            "144 block5b_project_bn False\n",
            "145 block5b_drop False\n",
            "146 block5b_add False\n",
            "147 block5c_expand_conv False\n",
            "148 block5c_expand_bn False\n",
            "149 block5c_expand_activation False\n",
            "150 block5c_dwconv False\n",
            "151 block5c_bn False\n",
            "152 block5c_activation False\n",
            "153 block5c_se_squeeze False\n",
            "154 block5c_se_reshape False\n",
            "155 block5c_se_reduce False\n",
            "156 block5c_se_expand False\n",
            "157 block5c_se_excite False\n",
            "158 block5c_project_conv False\n",
            "159 block5c_project_bn False\n",
            "160 block5c_drop False\n",
            "161 block5c_add False\n",
            "162 block6a_expand_conv False\n",
            "163 block6a_expand_bn False\n",
            "164 block6a_expand_activation False\n",
            "165 block6a_dwconv_pad False\n",
            "166 block6a_dwconv False\n",
            "167 block6a_bn False\n",
            "168 block6a_activation False\n",
            "169 block6a_se_squeeze False\n",
            "170 block6a_se_reshape False\n",
            "171 block6a_se_reduce False\n",
            "172 block6a_se_expand False\n",
            "173 block6a_se_excite False\n",
            "174 block6a_project_conv False\n",
            "175 block6a_project_bn False\n",
            "176 block6b_expand_conv False\n",
            "177 block6b_expand_bn False\n",
            "178 block6b_expand_activation False\n",
            "179 block6b_dwconv False\n",
            "180 block6b_bn False\n",
            "181 block6b_activation False\n",
            "182 block6b_se_squeeze False\n",
            "183 block6b_se_reshape False\n",
            "184 block6b_se_reduce False\n",
            "185 block6b_se_expand False\n",
            "186 block6b_se_excite False\n",
            "187 block6b_project_conv False\n",
            "188 block6b_project_bn False\n",
            "189 block6b_drop False\n",
            "190 block6b_add False\n",
            "191 block6c_expand_conv False\n",
            "192 block6c_expand_bn False\n",
            "193 block6c_expand_activation False\n",
            "194 block6c_dwconv False\n",
            "195 block6c_bn False\n",
            "196 block6c_activation False\n",
            "197 block6c_se_squeeze False\n",
            "198 block6c_se_reshape False\n",
            "199 block6c_se_reduce False\n",
            "200 block6c_se_expand False\n",
            "201 block6c_se_excite False\n",
            "202 block6c_project_conv False\n",
            "203 block6c_project_bn False\n",
            "204 block6c_drop False\n",
            "205 block6c_add False\n",
            "206 block6d_expand_conv False\n",
            "207 block6d_expand_bn False\n",
            "208 block6d_expand_activation False\n",
            "209 block6d_dwconv False\n",
            "210 block6d_bn False\n",
            "211 block6d_activation False\n",
            "212 block6d_se_squeeze False\n",
            "213 block6d_se_reshape False\n",
            "214 block6d_se_reduce False\n",
            "215 block6d_se_expand False\n",
            "216 block6d_se_excite False\n",
            "217 block6d_project_conv False\n",
            "218 block6d_project_bn False\n",
            "219 block6d_drop False\n",
            "220 block6d_add False\n",
            "221 block7a_expand_conv False\n",
            "222 block7a_expand_bn False\n",
            "223 block7a_expand_activation False\n",
            "224 block7a_dwconv False\n",
            "225 block7a_bn False\n",
            "226 block7a_activation False\n",
            "227 block7a_se_squeeze False\n",
            "228 block7a_se_reshape False\n",
            "229 block7a_se_reduce False\n",
            "230 block7a_se_expand False\n",
            "231 block7a_se_excite False\n",
            "232 block7a_project_conv True\n",
            "233 block7a_project_bn True\n",
            "234 top_conv True\n",
            "235 top_bn True\n",
            "236 top_activation True\n"
          ]
        }
      ]
    },
    {
      "cell_type": "code",
      "source": [
        " fine_tune_epoch = 10\n",
        " history_all_classes_10_percent_fine_tune = model.fit(train_data_all_10_percent,\n",
        "                                                      epochs=fine_tune_epoch,\n",
        "                                                      validation_data=test_data,\n",
        "                                                      validation_steps=int(0.15*len(test_data)),\n",
        "                                                      initial_epoch=history_all_classes_10_percent.epoch[-1])"
      ],
      "metadata": {
        "id": "3ySqfPcSlhDF",
        "outputId": "6f08300b-c518-48e3-e4c6-3efe60de0cbb",
        "colab": {
          "base_uri": "https://localhost:8080/"
        }
      },
      "execution_count": 20,
      "outputs": [
        {
          "metadata": {
            "tags": null
          },
          "name": "stdout",
          "output_type": "stream",
          "text": [
            "Epoch 5/10\n",
            "237/237 [==============================] - 81s 307ms/step - loss: 1.5211 - accuracy: 0.6108 - val_loss: 2.0220 - val_accuracy: 0.4725\n",
            "Epoch 6/10\n",
            "237/237 [==============================] - 71s 296ms/step - loss: 1.3991 - accuracy: 0.6352 - val_loss: 2.0143 - val_accuracy: 0.4785\n",
            "Epoch 7/10\n",
            "237/237 [==============================] - 69s 288ms/step - loss: 1.3299 - accuracy: 0.6451 - val_loss: 2.0070 - val_accuracy: 0.4828\n",
            "Epoch 8/10\n",
            "237/237 [==============================] - 70s 292ms/step - loss: 1.2480 - accuracy: 0.6730 - val_loss: 2.0055 - val_accuracy: 0.4838\n",
            "Epoch 9/10\n",
            "237/237 [==============================] - 66s 276ms/step - loss: 1.2120 - accuracy: 0.6833 - val_loss: 2.0108 - val_accuracy: 0.4838\n",
            "Epoch 10/10\n",
            "237/237 [==============================] - 65s 272ms/step - loss: 1.1436 - accuracy: 0.6935 - val_loss: 1.9870 - val_accuracy: 0.4923\n"
          ]
        }
      ]
    },
    {
      "cell_type": "code",
      "source": [
        "model.evaluate(test_data)"
      ],
      "metadata": {
        "id": "aFrrVgDD6KmS",
        "outputId": "505d86f0-47ca-4ae2-a723-cfc7a8e5e379",
        "colab": {
          "base_uri": "https://localhost:8080/"
        }
      },
      "execution_count": 21,
      "outputs": [
        {
          "output_type": "stream",
          "name": "stdout",
          "text": [
            "790/790 [==============================] - 101s 128ms/step - loss: 1.6856 - accuracy: 0.5568\n"
          ]
        },
        {
          "output_type": "execute_result",
          "data": {
            "text/plain": [
              "[1.6855568885803223, 0.5568316578865051]"
            ]
          },
          "metadata": {},
          "execution_count": 21
        }
      ]
    },
    {
      "cell_type": "code",
      "source": [
        ""
      ],
      "metadata": {
        "id": "oDYyYDHm63lC"
      },
      "execution_count": null,
      "outputs": []
    }
  ]
}